{
 "cells": [
  {
   "cell_type": "code",
   "execution_count": 2,
   "id": "fed01e02-260f-452a-919b-970c6526c0e4",
   "metadata": {},
   "outputs": [
    {
     "name": "stderr",
     "output_type": "stream",
     "text": [
      "24/12/31 15:33:21 WARN SparkSession: Using an existing Spark session; only runtime SQL configurations will take effect.\n"
     ]
    }
   ],
   "source": [
    "import pydeequ\n",
    "from pyspark.sql import SparkSession\n",
    "\n",
    "\n",
    "spark_configs = {\n",
    "    'spark.master': 'spark://spark-iceberg:7077',\n",
    "    'spark.sql.catalog.airline': 'org.apache.iceberg.spark.SparkCatalog',\n",
    "    # 'spark.sql.catalog.airline': 'org.apache.iceberg.spark.SparkSessionCatalog',\n",
    "    'spark.sql.catalog.airline.io-impl': 'org.apache.iceberg.aws.s3.S3FileIO',\n",
    "    'spark.sql.catalog.airline.s3.endpoint': 'http://minio:9000',\n",
    "    'spark.sql.catalog.airline.type': 'rest',\n",
    "    'spark.sql.catalog.airline.uri': 'http://rest:8181',\n",
    "    'spark.sql.catalog.airline.warehouse': 's3://warehouse',\n",
    "    'spark.sql.defaultCatalog': 'airline',\n",
    "    'spark.driver.memory': '1G',\n",
    "    'spark.executor.memory': '1G'\n",
    "}\n",
    "\n",
    "# Initialize SparkSession\n",
    "spark = (\n",
    "    SparkSession\n",
    "    .builder\n",
    "    .appName('Data Quality Testing')\n",
    "    .config(map=spark_configs)\n",
    "    .getOrCreate()\n",
    ")"
   ]
  },
  {
   "cell_type": "code",
   "execution_count": null,
   "id": "ae22a640-588e-411b-91b2-aa3483bdfdf9",
   "metadata": {},
   "outputs": [],
   "source": [
    "from "
   ]
  }
 ],
 "metadata": {
  "kernelspec": {
   "display_name": "Python 3 (ipykernel)",
   "language": "python",
   "name": "python3"
  },
  "language_info": {
   "codemirror_mode": {
    "name": "ipython",
    "version": 3
   },
   "file_extension": ".py",
   "mimetype": "text/x-python",
   "name": "python",
   "nbconvert_exporter": "python",
   "pygments_lexer": "ipython3",
   "version": "3.9.18"
  }
 },
 "nbformat": 4,
 "nbformat_minor": 5
}
