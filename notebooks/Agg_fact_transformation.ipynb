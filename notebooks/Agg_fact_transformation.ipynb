{
 "cells": [
  {
   "cell_type": "code",
   "execution_count": 67,
   "id": "028c51c2-b172-41a7-99b1-0234e3932931",
   "metadata": {},
   "outputs": [],
   "source": [
    "from pyspark.sql import SparkSession, DataFrame\n",
    "from pyspark.sql.types import StructType, StructField, IntegerType, StringType, DateType\n",
    "from pyspark.sql.functions import lit, isnull, when, count, col, regexp_extract, concat_ws, to_date, expr, quarter, when, date_add, year, month, day, dayofweek, broadcast, avg, min, max, like\n",
    "\n",
    "# Define spark session config\n",
    "spark_configs = {\n",
    "    'spark.master': 'spark://spark-iceberg:7077',\n",
    "    'spark.sql.catalog.prod': 'org.apache.iceberg.spark.SparkCatalog',\n",
    "    'spark.sql.catalog.prod.io-impl': 'org.apache.iceberg.aws.s3.S3FileIO',\n",
    "    'spark.sql.catalog.prod.s3.endpoint': 'http://minio:9000',\n",
    "    'spark.sql.catalog.prod.type': 'rest',\n",
    "    'spark.sql.catalog.prod.uri': 'http://rest:8181',\n",
    "    'spark.sql.catalog.prod.warehouse': 's3://warehouse',\n",
    "    'spark.sql.defaultCatalog': 'prod',\n",
    "    'spark.driver.memory': '1G',\n",
    "    'spark.executor.memory': '1G'\n",
    "}\n",
    "\n",
    "# Initialize SparkSession\n",
    "spark = (\n",
    "    SparkSession\n",
    "    .builder\n",
    "    .appName('Agg Fact Testing')\n",
    "    .config(map=spark_configs)\n",
    "    .getOrCreate()\n",
    ")"
   ]
  },
  {
   "cell_type": "code",
   "execution_count": 2,
   "id": "aca6426e-7032-48c8-a7e7-79920ccb5d0c",
   "metadata": {},
   "outputs": [],
   "source": [
    "def generate_dim_dates_df(spark: SparkSession) -> DataFrame:\n",
    "    # Initialize dates_df\n",
    "    dates_df = spark.range(365) \\\n",
    "        .withColumn('date', expr('date_add(\"2015-01-01\", CAST(id AS INT))')) \\\n",
    "        .withColumn('year', year('date')) \\\n",
    "        .withColumn('month', month('date')) \\\n",
    "        .withColumn('day', day('date')) \\\n",
    "        .withColumn('day_of_week', dayofweek('date')) \\\n",
    "        .withColumn('quarter', quarter('date')) \\\n",
    "        .drop('id')\n",
    "\n",
    "    # List of U.S. federal holidays\n",
    "    us_holidays_2015 = [\n",
    "        (\"2015-01-01\", \"New Year's Day\"),\n",
    "        (\"2015-01-19\", \"Martin Luther King Jr. Day\"),\n",
    "        (\"2015-02-16\", \"Presidents' Day\"),\n",
    "        (\"2015-05-25\", \"Memorial Day\"),\n",
    "        (\"2015-07-04\", \"Independence Day\"),\n",
    "        (\"2015-09-07\", \"Labor Day\"),\n",
    "        (\"2015-10-12\", \"Columbus Day\"),\n",
    "        (\"2015-11-11\", \"Veterans Day\"),\n",
    "        (\"2015-11-26\", \"Thanksgiving Day\"),\n",
    "        (\"2015-12-25\", \"Christmas Day\"),\n",
    "    ]\n",
    "    \n",
    "    # Create holidays_df and cast date from STRING to DATE type\n",
    "    holidays_df = spark.createDataFrame(us_holidays_2015, ['holiday_date', 'holiday_name'])\n",
    "    holidays_df = holidays_df.withColumn('holiday_date', to_date('holiday_date'))\n",
    "\n",
    "    # Join holidays to date_df and add is_holiday column\n",
    "    dates_df = dates_df \\\n",
    "        .join(\n",
    "            broadcast(holidays_df),\n",
    "            dates_df.date == holidays_df.holiday_date,\n",
    "            'left'\n",
    "        ) \\\n",
    "        .withColumn(\n",
    "            'is_holiday',\n",
    "            when(col('holiday_name').isNotNull(), lit(True)).otherwise(lit(False))\n",
    "        ) \\\n",
    "        .drop('holiday_date') \\\n",
    "        .sort('date')\n",
    "\n",
    "    # Rearrange date to be first column,\n",
    "    dates_df = dates_df.select('date', *[col(c) for c in dates_df.columns if c != 'date'])\n",
    "    return dates_df\n",
    "\n",
    "dates_df = generate_dim_dates_df(spark)"
   ]
  },
  {
   "cell_type": "code",
   "execution_count": 3,
   "id": "f9ca6656-23b8-4103-b653-9cfe8e9af88a",
   "metadata": {},
   "outputs": [
    {
     "name": "stderr",
     "output_type": "stream",
     "text": [
      "25/01/05 00:45:02 WARN SparkStringUtils: Truncated the string representation of a plan since it was too large. This behavior can be adjusted by setting 'spark.sql.debug.maxToStringFields'.\n",
      "[Stage 2:>                                                          (0 + 1) / 1]\r"
     ]
    },
    {
     "name": "stdout",
     "output_type": "stream",
     "text": [
      "+----------+-------+-------------+-----------+--------------+-------------------+-------------------+--------------+---------------+--------+----------+--------------+------------+--------+--------+---------+-------+-----------------+------------+-------------+--------+---------+-------------------+----------------+--------------+-------------+-------------------+-------------+----------+----+-----+---+-----------+-------+------------+----------+\n",
      "|      date|airline|flight_number|tail_number|origin_airport|destination_airport|scheduled_departure|departure_time|departure_delay|taxi_out|wheels_off|scheduled_time|elapsed_time|air_time|distance|wheels_on|taxi_in|scheduled_arrival|arrival_time|arrival_delay|diverted|cancelled|cancellation_reason|air_system_delay|security_delay|airline_delay|late_aircraft_delay|weather_delay|is_delayed|year|month|day|day_of_week|quarter|holiday_name|is_holiday|\n",
      "+----------+-------+-------------+-----------+--------------+-------------------+-------------------+--------------+---------------+--------+----------+--------------+------------+--------+--------+---------+-------+-----------------+------------+-------------+--------+---------+-------------------+----------------+--------------+-------------+-------------------+-------------+----------+----+-----+---+-----------+-------+------------+----------+\n",
      "|2015-06-01|     AA|            1|     N798AA|           JFK|                LAX|                900|           858|             -2|      66|      1004|           376|         392|     315|    2475|     1219|     11|             1216|        1230|           14|       0|        0|               NULL|            NULL|          NULL|         NULL|               NULL|         NULL|         0|2015|    6|  1|          2|      2|        NULL|     false|\n",
      "|2015-06-01|     AA|            2|     N784AA|           LAX|                JFK|                900|           957|             57|      28|      1025|           342|         329|     294|    2475|     1819|      7|             1742|        1826|           44|       0|        0|               NULL|               2|             0|            0|                 42|            0|         1|2015|    6|  1|          2|      2|        NULL|     false|\n",
      "|2015-06-01|     AA|            3|     N795AA|           JFK|                LAX|               1245|          1533|            168|      24|      1557|           365|         357|     324|    2475|     1821|      9|             1550|        1830|          160|       0|        0|               NULL|               0|             0|            9|                151|            0|         1|2015|    6|  1|          2|      2|        NULL|     false|\n",
      "|2015-06-01|     AA|            4|     N792AA|           LAX|                JFK|               1220|          1323|             63|      21|      1344|           340|         327|     297|    2475|     2141|      9|             2100|        2150|           50|       0|        0|               NULL|              50|             0|            0|                  0|            0|         1|2015|    6|  1|          2|      2|        NULL|     false|\n",
      "|2015-06-01|     AA|            5|     N360AA|           DFW|                HNL|               1350|          1352|              2|      17|      1409|           512|         501|     481|    3784|     1710|      3|             1722|        1713|           -9|       0|        0|               NULL|            NULL|          NULL|         NULL|               NULL|         NULL|         1|2015|    6|  1|          2|      2|        NULL|     false|\n",
      "|2015-06-01|     AA|            6|     N357AA|           OGG|                DFW|               1715|          1711|             -4|      16|      1727|           436|         413|     391|    3711|      458|      6|              531|         504|          -27|       0|        0|               NULL|            NULL|          NULL|         NULL|               NULL|         NULL|         0|2015|    6|  1|          2|      2|        NULL|     false|\n",
      "|2015-06-01|     AA|            7|     N357AA|           DFW|                OGG|                905|          1041|             96|      25|      1106|           502|         493|     463|    3711|     1349|      5|             1227|        1354|           87|       0|        0|               NULL|               0|             0|           87|                  0|            0|         1|2015|    6|  1|          2|      2|        NULL|     false|\n",
      "|2015-06-01|     AA|            8|     N362AA|           HNL|                DFW|               1740|          1738|             -2|      20|      1758|           459|         420|     397|    3784|      535|      3|              619|         538|          -41|       0|        0|               NULL|            NULL|          NULL|         NULL|               NULL|         NULL|         0|2015|    6|  1|          2|      2|        NULL|     false|\n",
      "|2015-06-01|     AA|            9|     N797AA|           JFK|                LAX|                700|           654|             -6|      39|       733|           371|         377|     325|    2475|      958|     13|             1011|        1011|            0|       0|        0|               NULL|            NULL|          NULL|         NULL|               NULL|         NULL|         0|2015|    6|  1|          2|      2|        NULL|     false|\n",
      "|2015-06-01|     AA|           10|     N790AA|           LAX|                JFK|               2155|          2210|             15|      30|      2240|           328|         339|     299|    2475|      639|     10|              623|         649|           26|       0|        0|               NULL|              11|             0|           15|                  0|            0|         1|2015|    6|  1|          2|      2|        NULL|     false|\n",
      "+----------+-------+-------------+-----------+--------------+-------------------+-------------------+--------------+---------------+--------+----------+--------------+------------+--------+--------+---------+-------+-----------------+------------+-------------+--------+---------+-------------------+----------------+--------------+-------------+-------------------+-------------+----------+----+-----+---+-----------+-------+------------+----------+\n",
      "only showing top 10 rows\n",
      "\n"
     ]
    },
    {
     "name": "stderr",
     "output_type": "stream",
     "text": [
      "                                                                                \r"
     ]
    }
   ],
   "source": [
    "# Read flights table\n",
    "flights_df = spark.table('prod.db.fact_flights')\n",
    "\n",
    "# Join dim_date table to flights\n",
    "flights_df = flights_df \\\n",
    "    .join(\n",
    "        broadcast(dates_df),\n",
    "        ['date']\n",
    "    )\n",
    "\n",
    "flights_df.createOrReplaceTempView('flights')\n",
    "\n",
    "flights_df.show(10)"
   ]
  },
  {
   "cell_type": "code",
   "execution_count": 4,
   "id": "728a2e73-95b6-4085-b345-d95fb10d6323",
   "metadata": {},
   "outputs": [],
   "source": [
    "def agg_delay_metrics_rollup(\n",
    "    input_df: DataFrame,\n",
    "    non_time_columns: list[str],\n",
    "    time_columns: list[str]\n",
    ") -> DataFrame:\n",
    "\n",
    "    # Concatenate both list of columns\n",
    "    cube_columns = non_time_columns + time_columns\n",
    "\n",
    "    # Calculate the aggregate values for the cube\n",
    "    output_df = input_df \\\n",
    "        .rollup(*cube_columns) \\\n",
    "        .agg(\n",
    "            count('*').alias('total_flights'),\n",
    "            count(when(col('is_delayed') == True, 1)).alias('delayed_flights'),\n",
    "            ( count(when(col('is_delayed') == True, 1)) / count('*') ).alias('delay_rate'),\n",
    "            avg('departure_delay').alias('avg_delay_time')\n",
    "        )\n",
    "\n",
    "    # Calculate aggregation label to add as column\n",
    "    time_agg_level = get_aggregation_level(time_columns)\n",
    "    agg_level = get_aggregation_level(non_time_columns)\n",
    "\n",
    "    # Add (time_)agg_level columns\n",
    "    output_df = output_df \\\n",
    "        .withColumn('time_agg_level', time_agg_level) \\\n",
    "        .withColumn('agg_level', agg_level)\n",
    "    \n",
    "    return output_df\n",
    "\n",
    "def get_aggregation_level(columns: list[str]):\n",
    "    # TODO add comments\n",
    "    # Returns col\n",
    "    agg_level = concat_ws(\n",
    "        '_',\n",
    "        *[when(col(c).isNotNull(), lit(c)) for c in columns]\n",
    "    )\n",
    "\n",
    "    all_nulls = lit(True)\n",
    "    for c in columns:\n",
    "        all_nulls &= col(c).isNull()\n",
    "    agg_level = when(all_nulls, 'all').otherwise(agg_level)\n",
    "    return agg_level\n",
    "    "
   ]
  },
  {
   "cell_type": "code",
   "execution_count": 5,
   "id": "10d04db2-5045-4477-92f4-18b64412db00",
   "metadata": {
    "jupyter": {
     "source_hidden": true
    }
   },
   "outputs": [
    {
     "name": "stderr",
     "output_type": "stream",
     "text": [
      "                                                                                \r"
     ]
    },
    {
     "data": {
      "text/plain": [
       "17736"
      ]
     },
     "execution_count": 5,
     "metadata": {},
     "output_type": "execute_result"
    }
   ],
   "source": [
    "temp_df = flights_df.sample(0.1)\n",
    "\n",
    "# Confirm redundant aggs for cube with cancelled and cancellation_reason\n",
    "time_columns = ['year', 'month']\n",
    "non_time_columns = ['airline', 'origin_airport']\n",
    "# non_time_columns = ['airline', 'origin_airport', 'cancelled', 'cancellation_reason']\n",
    "\n",
    "\n",
    "# agg_df = agg_delay_metrics_cube_by_cols(temp_df, time_columns, non_time_columns)\n",
    "agg_df = agg_delay_metrics_rollup(temp_df, non_time_columns, time_columns)\n",
    "\n",
    "# agg_df.filter(col('agg_level') == 'cancelled_cancellation_reason')).show(100)\n",
    "# agg_df \\\n",
    "#     .filter(\n",
    "#         (col('year').isNull()) &\n",
    "#         (col('month').isNull()) &\n",
    "#         (col('airline').isNull()) &\n",
    "#         (col('origin_airport').isNull()) &\n",
    "#         (col('cancellation_reason') == lit('A'))\n",
    "#     ) \\\n",
    "#     .show()\n",
    "agg_df.count()\n",
    "# agg_df.show()"
   ]
  },
  {
   "cell_type": "code",
   "execution_count": 24,
   "id": "83c93e27-0182-4028-9acc-ec70b6493e03",
   "metadata": {},
   "outputs": [
    {
     "name": "stdout",
     "output_type": "stream",
     "text": [
      "((cancelled), (cancelled, year), (cancelled, month), (cancelled, year, month))\n"
     ]
    }
   ],
   "source": [
    "import itertools\n",
    "\n",
    "def build_grouping_sets(grouping_columns):\n",
    "    grouping_sets = []\n",
    "    for i in range(len(grouping_columns) + 1):\n",
    "        for subset in itertools.combinations(grouping_columns, i):\n",
    "            if \"cancelled\" in subset:\n",
    "                grouping_sets.append(subset)\n",
    "    grouping_sets_str = str(tuple(grouping_sets)).replace(\"'\", \"\").replace(\",)\", \")\")\n",
    "    return grouping_sets_str\n",
    "\n",
    "grouping_cols = [\n",
    "    'cancelled',\n",
    "    'year',\n",
    "    'month'\n",
    "]\n",
    "grouping_sets = build_grouping_sets(grouping_cols)\n",
    "print(grouping_sets)"
   ]
  },
  {
   "cell_type": "code",
   "execution_count": null,
   "id": "132b9a92-42d8-4b5d-af4f-c35e361336ec",
   "metadata": {},
   "outputs": [],
   "source": [
    "grouping_sets = (\n",
    "    (year), (year, month),\n",
    "    \n",
    "    (airline), (airline, year), (airline, year, month),\n",
    "    (origin_airport), (origin_airport, year), (origin_airport, year, month)\n",
    "    \n",
    "    ((cancelled), (cancelled, year), (cancelled, year, month))\n",
    "    ((cancellation_reason), (cancellation_reason, year), (cancellation_reason, year, month))\n",
    "\n",
    "    (day_of_week), \n",
    ")"
   ]
  },
  {
   "cell_type": "code",
   "execution_count": 56,
   "id": "7b5a6d38-bbff-4b25-a870-9719ee2882be",
   "metadata": {},
   "outputs": [
    {
     "name": "stderr",
     "output_type": "stream",
     "text": [
      "                                                                                \r"
     ]
    },
    {
     "name": "stdout",
     "output_type": "stream",
     "text": [
      "5147\n"
     ]
    },
    {
     "name": "stderr",
     "output_type": "stream",
     "text": [
      "                                                                                \r"
     ]
    },
    {
     "name": "stdout",
     "output_type": "stream",
     "text": [
      "+-------------------------+\n",
      "|agg_level                |\n",
      "+-------------------------+\n",
      "|airline                  |\n",
      "|day_of_week              |\n",
      "|origin_airport           |\n",
      "|year                     |\n",
      "|year_airline             |\n",
      "|year_month               |\n",
      "|year_month_airline       |\n",
      "|year_month_origin_airport|\n",
      "|year_origin_airport      |\n",
      "+-------------------------+\n",
      "\n"
     ]
    },
    {
     "name": "stderr",
     "output_type": "stream",
     "text": [
      "[Stage 312:==========================================>             (9 + 3) / 12]\r"
     ]
    },
    {
     "name": "stdout",
     "output_type": "stream",
     "text": [
      "+----+-----+-----------+-------+--------------+-------------+---------------+-------------------+-------------------+-----------------+--------------------+---------------+---------------+---------------+---------------+-----------------------+-----------------------+-----------------------+-----------------------+--------------+\n",
      "|year|month|day_of_week|airline|origin_airport|total_flights|delayed_flights|       delayed_rate|     avg_delay_time|cancelled_flights|      cancelled_rate|cancellations_A|cancellations_B|cancellations_C|cancellations_D|percent_cancellations_A|percent_cancellations_B|percent_cancellations_C|percent_cancellations_D|     agg_level|\n",
      "+----+-----+-----------+-------+--------------+-------------+---------------+-------------------+-------------------+-----------------+--------------------+---------------+---------------+---------------+---------------+-----------------------+-----------------------+-----------------------+-----------------------+--------------+\n",
      "|NULL| NULL|       NULL|     MQ|          NULL|        29415|           9354| 0.3180010198878123| 10.027902822436584|             1486| 0.05051844297127316|            227|            899|            360|              0|    0.15275908479138628|     0.6049798115746972|    0.24226110363391656|                    0.0|       airline|\n",
      "|NULL| NULL|       NULL|     AS|          NULL|        17080|           4308| 0.2522248243559719| 1.6896754468485418|               81|0.004742388758782201|             39|             41|              1|              0|    0.48148148148148145|     0.5061728395061729|   0.012345679012345678|                    0.0|       airline|\n",
      "|NULL| NULL|       NULL|     B6|          NULL|        26634|          10106| 0.3794398137718705| 11.254301957342898|              432|0.016219869339941427|             80|            248|            104|              0|    0.18518518518518517|     0.5740740740740741|    0.24074074074074073|                    0.0|       airline|\n",
      "|NULL| NULL|       NULL|     EV|          NULL|        57097|          16986| 0.2974937387253271|  8.991135963177388|             1547|0.027094243130111915|            337|            553|            657|              0|     0.2178409825468649|     0.3574660633484163|     0.4246929541047188|                    0.0|       airline|\n",
      "|NULL| NULL|       NULL|     F9|          NULL|         9056|           3455| 0.3815150176678445| 12.697622750499889|               56|0.006183745583038869|             23|             33|              0|              0|     0.4107142857142857|     0.5892857142857143|                    0.0|                    0.0|       airline|\n",
      "|NULL| NULL|       NULL|     AA|          NULL|        72653|          24799|0.34133483820351534|  9.000586215559835|             1057|0.014548607765680701|            260|            727|             70|              0|    0.24597918637653737|     0.6877956480605487|    0.06622516556291391|                    0.0|       airline|\n",
      "|NULL| NULL|       NULL|     UA|          NULL|        51785|          25821|0.49861929130056964| 14.341261775397726|              659|0.012725692768176113|            295|            331|             33|              0|    0.44764795144157815|     0.5022761760242792|    0.05007587253414264|                    0.0|       airline|\n",
      "|NULL| NULL|       NULL|     HA|          NULL|         7677|           2049| 0.2669011332551778|0.13438683557529058|               21|0.002735443532629...|             21|              0|              0|              0|                    1.0|                    0.0|                    0.0|                    0.0|       airline|\n",
      "|NULL| NULL|       NULL|     WN|          NULL|       125806|          56492| 0.4490405862995406|  10.63296968721066|             1630| 0.01295645676676788|            650|            867|            113|              0|     0.3987730061349693|     0.5319018404907976|    0.06932515337423313|                    0.0|       airline|\n",
      "|NULL| NULL|       NULL|     DL|          NULL|        87451|          28134|0.32171158706018227|  7.427644424026645|              397|0.004539685080788098|             69|            307|             21|              0|    0.17380352644836272|     0.7732997481108312|    0.05289672544080604|                    0.0|       airline|\n",
      "|NULL| NULL|       NULL|     NK|          NULL|        11751|           5215| 0.4437920177006212| 15.850615571354258|              227| 0.01931750489320058|             73|            130|             24|              0|    0.32158590308370044|     0.5726872246696035|    0.10572687224669604|                    0.0|       airline|\n",
      "|NULL| NULL|       NULL|     OO|          NULL|        58736|          17329| 0.2950320076273495|  7.859373919059149|              982|0.016718877690002725|            311|            548|            123|              0|     0.3167006109979633|     0.5580448065173116|    0.12525458248472504|                    0.0|       airline|\n",
      "|NULL| NULL|       NULL|     US|          NULL|        20003|           6278|0.31385292206169074|   6.30062194127243|              402| 0.02009698545218217|             91|            260|             51|              0|     0.2263681592039801|     0.6467661691542289|    0.12686567164179105|                    0.0|       airline|\n",
      "|NULL| NULL|       NULL|     VX|          NULL|         6081|           2296| 0.3775694787041605|  8.873712196743105|               67|0.011017924683440223|             19|              0|             48|              0|     0.2835820895522388|                    0.0|     0.7164179104477612|                    0.0|       airline|\n",
      "|NULL| NULL|          6|   NULL|          NULL|        86099|          32988|0.38314033844760104|  9.534637794998652|              846|0.009825898094054519|            340|            375|            131|              0|    0.40189125295508277|     0.4432624113475177|    0.15484633569739953|                    0.0|   day_of_week|\n",
      "|NULL| NULL|          2|   NULL|          NULL|        85904|          32041|0.37298612404544607| 10.879704981710296|             2067| 0.02406174334140436|            420|           1233|            414|              0|    0.20319303338171263|     0.5965166908563135|    0.20029027576197386|                    0.0|   day_of_week|\n",
      "|NULL| NULL|          1|   NULL|          NULL|        82017|          30356| 0.3701183900898594|   9.45564930800778|             1366|0.016655083702159307|            306|            861|            199|              0|     0.2240117130307467|     0.6303074670571011|    0.14568081991215226|                    0.0|   day_of_week|\n",
      "|NULL| NULL|          4|   NULL|          NULL|        85822|          30367| 0.3538370114888956|  8.687312746231333|             1085|0.012642445992868961|            394|            503|            188|              0|     0.3631336405529954|    0.46359447004608295|    0.17327188940092167|                    0.0|   day_of_week|\n",
      "|NULL| NULL|          5|   NULL|          NULL|        86894|          33262| 0.3827882247335834|  9.897726742286327|             1252|0.014408359610559992|            339|            619|            294|              0|     0.2707667731629393|    0.49440894568690097|    0.23482428115015974|                    0.0|   day_of_week|\n",
      "|NULL| NULL|          3|   NULL|          NULL|        84462|          29629| 0.3507968080320144|  9.227707371188096|             1570| 0.01858824086571476|            448|            877|            245|              0|    0.28535031847133757|     0.5585987261146497|    0.15605095541401273|                    0.0|   day_of_week|\n",
      "|NULL| NULL|          7|   NULL|          NULL|        70027|          23979| 0.3424250646179331|  7.809591910436981|              858|0.012252416924900396|            248|            476|            134|              0|      0.289044289044289|     0.5547785547785548|     0.1561771561771562|                    0.0|   day_of_week|\n",
      "|NULL| NULL|       NULL|   NULL|           JFK|         9477|           3558| 0.3754352643241532| 11.988038793103449|              201|0.021209243431465654|             23|            117|             61|              0|    0.11442786069651742|      0.582089552238806|     0.3034825870646766|                    0.0|origin_airport|\n",
      "|NULL| NULL|       NULL|   NULL|           BFL|          270|             62|0.22962962962962963|  8.037313432835822|                3|0.011111111111111112|              3|              0|              0|              0|                    1.0|                    0.0|                    0.0|                    0.0|origin_airport|\n",
      "|NULL| NULL|       NULL|   NULL|           CMI|          215|             43|                0.2|  4.878048780487805|               10|0.046511627906976744|              1|              6|              3|              0|                    0.1|                    0.6|                    0.3|                    0.0|origin_airport|\n",
      "|NULL| NULL|       NULL|   NULL|           SPS|          119|             28|0.23529411764705882|   6.95575221238938|                6| 0.05042016806722689|              1|              5|              0|              0|    0.16666666666666666|     0.8333333333333334|                    0.0|                    0.0|origin_airport|\n",
      "|NULL| NULL|       NULL|   NULL|           CAE|          484|            134| 0.2768595041322314| 11.175365344467641|                5|0.010330578512396695|              1|              3|              1|              0|                    0.2|                    0.6|                    0.2|                    0.0|origin_airport|\n",
      "|NULL| NULL|       NULL|   NULL|           PBG|           27|             15| 0.5555555555555556|               25.0|                0|                 0.0|              0|              0|              0|              0|                   NULL|                   NULL|                   NULL|                   NULL|origin_airport|\n",
      "|NULL| NULL|       NULL|   NULL|           ABE|          230|             62|0.26956521739130435|  8.123348017621145|                3|0.013043478260869565|              0|              3|              0|              0|                    0.0|                    1.0|                    0.0|                    0.0|origin_airport|\n",
      "|NULL| NULL|       NULL|   NULL|           STT|          398|            137| 0.3442211055276382|  8.734848484848484|                2|0.005025125628140704|              2|              0|              0|              0|                    1.0|                    0.0|                    0.0|                    0.0|origin_airport|\n",
      "|NULL| NULL|       NULL|   NULL|           PDX|         4684|           1422| 0.3035866780529462|  6.675385934819897|               24|0.005123825789923143|             16|              8|              0|              0|     0.6666666666666666|     0.3333333333333333|                    0.0|                    0.0|origin_airport|\n",
      "|NULL| NULL|       NULL|   NULL|           XNA|          926|            289| 0.3120950323974082| 12.767699115044248|               22|0.023758099352051837|              6|              9|              7|              0|     0.2727272727272727|     0.4090909090909091|     0.3181818181818182|                    0.0|origin_airport|\n",
      "|NULL| NULL|       NULL|   NULL|           ATW|          298|             66| 0.2214765100671141| 1.4673539518900343|                7| 0.02348993288590604|              2|              3|              2|              0|     0.2857142857142857|    0.42857142857142855|     0.2857142857142857|                    0.0|origin_airport|\n",
      "|NULL| NULL|       NULL|   NULL|           ILM|          166|             25|0.15060240963855423| 3.7195121951219514|                2|0.012048192771084338|              0|              2|              0|              0|                    0.0|                    1.0|                    0.0|                    0.0|origin_airport|\n",
      "|NULL| NULL|       NULL|   NULL|           ROW|           99|             22| 0.2222222222222222|  1.574468085106383|                5|0.050505050505050504|              0|              5|              0|              0|                    0.0|                    1.0|                    0.0|                    0.0|origin_airport|\n",
      "|NULL| NULL|       NULL|   NULL|           IND|         2552|            793|0.31073667711598746|  8.745627980922098|               40| 0.01567398119122257|              9|             12|             19|              0|                  0.225|                    0.3|                  0.475|                    0.0|origin_airport|\n",
      "|NULL| NULL|       NULL|   NULL|           OMA|         1664|            524|0.31490384615384615|  5.630128597672995|               31|0.018629807692307692|             10|             17|              4|              0|     0.3225806451612903|     0.5483870967741935|    0.12903225806451613|                    0.0|origin_airport|\n",
      "|NULL| NULL|       NULL|   NULL|           UST|           21|             10|0.47619047619047616|              19.55|                1|0.047619047619047616|              1|              0|              0|              0|                    1.0|                    0.0|                    0.0|                    0.0|origin_airport|\n",
      "|NULL| NULL|       NULL|   NULL|           SHV|          599|            167|0.27879799666110183| 10.071180555555555|               24| 0.04006677796327212|             13|              9|              2|              0|     0.5416666666666666|                  0.375|    0.08333333333333333|                    0.0|origin_airport|\n",
      "|NULL| NULL|       NULL|   NULL|           LIT|         1034|            343| 0.3317214700193424|              9.191|               36| 0.03481624758220503|              8|             16|             12|              0|     0.2222222222222222|     0.4444444444444444|     0.3333333333333333|                    0.0|origin_airport|\n",
      "|NULL| NULL|       NULL|   NULL|           SFO|        14567|           5776| 0.3965126656140592| 10.796285992488524|              191|0.013111828104620032|             74|             77|             40|              0|      0.387434554973822|     0.4031413612565445|     0.2094240837696335|                    0.0|origin_airport|\n",
      "|NULL| NULL|       NULL|   NULL|           FLG|          156|             40| 0.2564102564102564|  6.754838709677419|                1| 0.00641025641025641|              0|              1|              0|              0|                    0.0|                    1.0|                    0.0|                    0.0|origin_airport|\n",
      "|NULL| NULL|       NULL|   NULL|           BOI|         1208|            359|0.29718543046357615| 10.263114071606994|                7|0.005794701986754967|              4|              3|              0|              0|     0.5714285714285714|    0.42857142857142855|                    0.0|                    0.0|origin_airport|\n",
      "|NULL| NULL|       NULL|   NULL|           GUC|           53|             21|0.39622641509433965|  12.27450980392157|                2| 0.03773584905660377|              0|              2|              0|              0|                    0.0|                    1.0|                    0.0|                    0.0|origin_airport|\n",
      "|NULL| NULL|       NULL|   NULL|           BNA|         4670|           1749|0.37451820128479657|  9.904364992322877|              117|0.025053533190578157|             19|             73|             25|              0|     0.1623931623931624|     0.6239316239316239|    0.21367521367521367|                    0.0|origin_airport|\n",
      "|NULL| NULL|       NULL|   NULL|           ALO|           72|             16| 0.2222222222222222|           7.359375|                8|  0.1111111111111111|              1|              4|              3|              0|                  0.125|                    0.5|                  0.375|                    0.0|origin_airport|\n",
      "|NULL| NULL|       NULL|   NULL|           EYW|          205|             49|0.23902439024390243|  5.574257425742574|                3|0.014634146341463415|              2|              1|              0|              0|     0.6666666666666666|     0.3333333333333333|                    0.0|                    0.0|origin_airport|\n",
      "|NULL| NULL|       NULL|   NULL|           JAN|          694|            180|0.25936599423631124|  6.741935483870968|               14|0.020172910662824207|              1|             12|              1|              0|    0.07142857142857142|     0.8571428571428571|    0.07142857142857142|                    0.0|origin_airport|\n",
      "|NULL| NULL|       NULL|   NULL|           JLN|           85|             18|0.21176470588235294| 3.1025641025641026|                7| 0.08235294117647059|              2|              5|              0|              0|     0.2857142857142857|     0.7142857142857143|                    0.0|                    0.0|origin_airport|\n",
      "|NULL| NULL|       NULL|   NULL|           ORH|           65|             15|0.23076923076923078|  5.317460317460317|                2| 0.03076923076923077|              1|              1|              0|              0|                    0.5|                    0.5|                    0.0|                    0.0|origin_airport|\n",
      "|NULL| NULL|       NULL|   NULL|           CID|          708|            233| 0.3290960451977401| 12.377906976744185|               21|0.029661016949152543|              4|              9|              8|              0|    0.19047619047619047|    0.42857142857142855|    0.38095238095238093|                    0.0|origin_airport|\n",
      "+----+-----+-----------+-------+--------------+-------------+---------------+-------------------+-------------------+-----------------+--------------------+---------------+---------------+---------------+---------------+-----------------------+-----------------------+-----------------------+-----------------------+--------------+\n",
      "only showing top 50 rows\n",
      "\n"
     ]
    },
    {
     "name": "stderr",
     "output_type": "stream",
     "text": [
      "                                                                                \r"
     ]
    }
   ],
   "source": [
    "temp_df.createOrReplaceTempView('flights')\n",
    "\n",
    "query = \"\"\"\n",
    "SELECT\n",
    "    -- Grouping columns\n",
    "    year,\n",
    "    month,\n",
    "    day_of_week,\n",
    "    \n",
    "    airline,\n",
    "    origin_airport,\n",
    "\n",
    "    -- Aggregation columns\n",
    "    COUNT(*) AS total_flights,\n",
    "    \n",
    "    COUNT(CASE WHEN is_delayed = 1 THEN 1 END) AS delayed_flights,\n",
    "    delayed_flights / total_flights AS delayed_rate,\n",
    "    AVG(departure_delay) AS avg_delay_time,\n",
    "\n",
    "    COUNT(CASE WHEN cancelled = 1 THEN 1 END) AS cancelled_flights,\n",
    "    cancelled_flights / total_flights AS cancelled_rate,\n",
    "\n",
    "    -- Total cancellations for each reason\n",
    "    COUNT(CASE WHEN cancellation_reason = 'A' THEN 1 END) AS cancellations_A,\n",
    "    COUNT(CASE WHEN cancellation_reason = 'B' THEN 1 END) AS cancellations_B,\n",
    "    COUNT(CASE WHEN cancellation_reason = 'C' THEN 1 END) AS cancellations_C,\n",
    "    COUNT(CASE WHEN cancellation_reason = 'D' THEN 1 END) AS cancellations_D,\n",
    "\n",
    "    -- Percentage of cancellations by each reason\n",
    "    cancellations_A / cancelled_flights AS percent_cancellations_A,\n",
    "    cancellations_B / cancelled_flights AS percent_cancellations_B,\n",
    "    cancellations_C / cancelled_flights AS percent_cancellations_C,\n",
    "    cancellations_D / cancelled_flights AS percent_cancellations_D\n",
    "    \n",
    "FROM flights\n",
    "\n",
    "-- Group by various levels of granularity using GROUPING SETS\n",
    "GROUP BY GROUPING SETS (\n",
    "    -- Group by year\n",
    "    (year), \n",
    "\n",
    "    -- Group by year and month\n",
    "    (year, month),\n",
    "\n",
    "    -- Group by day of the week\n",
    "    (day_of_week),\n",
    "    \n",
    "    -- Group by airline at different levels\n",
    "    (airline), \n",
    "    (airline, year), \n",
    "    (airline, year, month),\n",
    "\n",
    "    -- Group by origin airport at different levels\n",
    "    (origin_airport), \n",
    "    (origin_airport, year), \n",
    "    (origin_airport, year, month)\n",
    ")\n",
    "\"\"\"\n",
    "\n",
    "cols = ['year', 'month', 'day_of_week','airline', 'origin_airport']\n",
    "\n",
    "agg_df = spark.sql(query)\n",
    "agg_level = get_aggregation_level(cols)\n",
    "agg_df = agg_df.withColumn('agg_level', agg_level)\n",
    "\n",
    "print(agg_df.count())\n",
    "agg_df.select(col('agg_level')).distinct().sort('agg_level').show(truncate=False)\n",
    "agg_df.sort('agg_level').show(50)"
   ]
  },
  {
   "cell_type": "markdown",
   "id": "7c62153b-32e6-4f10-8335-f46cd44c2070",
   "metadata": {},
   "source": [
    "# Analysis"
   ]
  },
  {
   "cell_type": "markdown",
   "id": "3b2171a3-f601-4703-9842-ed497d36baf3",
   "metadata": {},
   "source": [
    "## Total Flight Stats"
   ]
  },
  {
   "cell_type": "code",
   "execution_count": 57,
   "id": "7c2f3699-695e-47c6-b3bc-fcb4e5967cc6",
   "metadata": {},
   "outputs": [
    {
     "name": "stderr",
     "output_type": "stream",
     "text": [
      "[Stage 317:=============================================>         (10 + 2) / 12]\r"
     ]
    },
    {
     "name": "stdout",
     "output_type": "stream",
     "text": [
      "+----+-----+-----------+-------+--------------+-------------+---------------+-------------------+-----------------+-----------------+--------------------+---------------+---------------+---------------+---------------+-----------------------+-----------------------+-----------------------+-----------------------+---------+\n",
      "|year|month|day_of_week|airline|origin_airport|total_flights|delayed_flights|       delayed_rate|   avg_delay_time|cancelled_flights|      cancelled_rate|cancellations_A|cancellations_B|cancellations_C|cancellations_D|percent_cancellations_A|percent_cancellations_B|percent_cancellations_C|percent_cancellations_D|agg_level|\n",
      "+----+-----+-----------+-------+--------------+-------------+---------------+-------------------+-----------------+-----------------+--------------------+---------------+---------------+---------------+---------------+-----------------------+-----------------------+-----------------------+-----------------------+---------+\n",
      "|2015| NULL|       NULL|   NULL|          NULL|       581225|         212622|0.36581702438814573|9.396523327726925|             9044|0.015560239150070971|           2495|           4944|           1605|              0|     0.2758735072976559|     0.5466607695709863|     0.1774657231313578|                    0.0|     year|\n",
      "+----+-----+-----------+-------+--------------+-------------+---------------+-------------------+-----------------+-----------------+--------------------+---------------+---------------+---------------+---------------+-----------------------+-----------------------+-----------------------+-----------------------+---------+\n",
      "\n"
     ]
    },
    {
     "name": "stderr",
     "output_type": "stream",
     "text": [
      "                                                                                \r"
     ]
    }
   ],
   "source": [
    "agg_df.filter('agg_level = \"year\"').show()"
   ]
  },
  {
   "cell_type": "markdown",
   "id": "4713b3d4-213c-4ddc-872e-ab3d1748a6c9",
   "metadata": {},
   "source": [
    "## How does the overall flight volume vary by month? By day of week?"
   ]
  },
  {
   "cell_type": "code",
   "execution_count": 60,
   "id": "04637bb9-ecd2-48a8-a2d0-1606adf32f62",
   "metadata": {},
   "outputs": [
    {
     "name": "stderr",
     "output_type": "stream",
     "text": [
      "                                                                                \r"
     ]
    },
    {
     "name": "stdout",
     "output_type": "stream",
     "text": [
      "+----+-----+-------------+\n",
      "|year|month|total_flights|\n",
      "+----+-----+-------------+\n",
      "|2015|    1|        46810|\n",
      "|2015|    2|        42769|\n",
      "|2015|    3|        49962|\n",
      "|2015|    4|        48252|\n",
      "|2015|    5|        49767|\n",
      "|2015|    6|        50291|\n",
      "|2015|    7|        51807|\n",
      "|2015|    8|        51416|\n",
      "|2015|    9|        46707|\n",
      "|2015|   10|        48806|\n",
      "|2015|   11|        46727|\n",
      "|2015|   12|        47911|\n",
      "+----+-----+-------------+\n",
      "\n"
     ]
    },
    {
     "name": "stderr",
     "output_type": "stream",
     "text": [
      "[Stage 342:=====================================>                  (8 + 4) / 12]\r"
     ]
    },
    {
     "name": "stdout",
     "output_type": "stream",
     "text": [
      "+-----------+-------------+\n",
      "|day_of_week|total_flights|\n",
      "+-----------+-------------+\n",
      "|          1|        82017|\n",
      "|          2|        85904|\n",
      "|          3|        84462|\n",
      "|          4|        85822|\n",
      "|          5|        86894|\n",
      "|          6|        86099|\n",
      "|          7|        70027|\n",
      "+-----------+-------------+\n",
      "\n"
     ]
    },
    {
     "name": "stderr",
     "output_type": "stream",
     "text": [
      "                                                                                \r"
     ]
    }
   ],
   "source": [
    "agg_df.filter('agg_level = \"year_month\"').sort('month').select(['year', 'month', 'total_flights']).show()\n",
    "agg_df.filter('agg_level = \"day_of_week\"').sort('day_of_week').select(['day_of_week', 'total_flights']).show()"
   ]
  },
  {
   "cell_type": "markdown",
   "id": "9ab0f209-a833-43b7-a00d-9fb6296ba21a",
   "metadata": {},
   "source": [
    "## What percentage of flights experienced a departure delay in 2015? Among those flights, what was the average delay time, in minutes?"
   ]
  },
  {
   "cell_type": "code",
   "execution_count": 62,
   "id": "7d1266f1-a378-4fc2-a8f2-5f59a23cbd79",
   "metadata": {},
   "outputs": [
    {
     "name": "stderr",
     "output_type": "stream",
     "text": [
      "[Stage 347:================================>                       (7 + 4) / 12]\r"
     ]
    },
    {
     "name": "stdout",
     "output_type": "stream",
     "text": [
      "+----+-------------------+-----------------+\n",
      "|year|       delayed_rate|   avg_delay_time|\n",
      "+----+-------------------+-----------------+\n",
      "|2015|0.36581702438814573|9.396523327726925|\n",
      "+----+-------------------+-----------------+\n",
      "\n"
     ]
    },
    {
     "name": "stderr",
     "output_type": "stream",
     "text": [
      "                                                                                \r"
     ]
    }
   ],
   "source": [
    "agg_df.filter('agg_level = \"year\"').select(['year', 'delayed_rate', 'avg_delay_time']).show()"
   ]
  },
  {
   "attachments": {},
   "cell_type": "markdown",
   "id": "99c95c89-c68f-4135-aaca-91beefb1c09a",
   "metadata": {},
   "source": [
    "## How does the % of delayed flights vary throughout the year? What about for flights leaving from Boston (BOS) specifically?\n",
    "\n"
   ]
  },
  {
   "cell_type": "code",
   "execution_count": 64,
   "id": "a68c8a1e-c521-48cc-8f5d-e21faf28ea59",
   "metadata": {},
   "outputs": [
    {
     "name": "stderr",
     "output_type": "stream",
     "text": [
      "[Stage 357:=====================================>                  (8 + 4) / 12]\r"
     ]
    },
    {
     "name": "stdout",
     "output_type": "stream",
     "text": [
      "+----+-----+-------------------+------------------+\n",
      "|year|month|       delayed_rate|    avg_delay_time|\n",
      "+----+-----+-------------------+------------------+\n",
      "|2015|    1|0.37983336893826103|10.075384480567848|\n",
      "|2015|    2|0.40365685426360215|11.687378926460852|\n",
      "|2015|    3|0.38585324846883634| 9.496233367451381|\n",
      "|2015|    4| 0.3439235679350079| 7.574346217363129|\n",
      "|2015|    5| 0.3627303233066088| 9.689226771685512|\n",
      "|2015|    6|0.42641824580938936|13.978660943858442|\n",
      "|2015|    7|0.40168317022796146|11.400552808813798|\n",
      "|2015|    8| 0.3771588610549245|10.002964562677922|\n",
      "|2015|    9| 0.2879868113987197| 5.003096774193549|\n",
      "|2015|   10|  0.297975658730484| 5.071072883657764|\n",
      "|2015|   11| 0.3233034434053117|  6.84846913420194|\n",
      "|2015|   12|0.39458579449395753|11.853406364775067|\n",
      "+----+-----+-------------------+------------------+\n",
      "\n"
     ]
    },
    {
     "name": "stderr",
     "output_type": "stream",
     "text": [
      "                                                                                \r"
     ]
    }
   ],
   "source": [
    "agg_df.filter('agg_level = \"year_month\"').select(['year', 'month', 'delayed_rate', 'avg_delay_time']).sort(['year', 'month']).show()"
   ]
  },
  {
   "cell_type": "markdown",
   "id": "f4c4816f-a027-49dd-9f74-27b869bd2b0c",
   "metadata": {},
   "source": [
    "## Which airlines seem to be most and least reliable, in terms of on-time departure?"
   ]
  },
  {
   "cell_type": "code",
   "execution_count": 65,
   "id": "e97da804-32e8-44eb-afdd-e82fda807943",
   "metadata": {},
   "outputs": [
    {
     "name": "stderr",
     "output_type": "stream",
     "text": [
      "[Stage 362:=====================================>                  (8 + 4) / 12]\r"
     ]
    },
    {
     "name": "stdout",
     "output_type": "stream",
     "text": [
      "+-------+-------------------+-------------------+\n",
      "|airline|       delayed_rate|     avg_delay_time|\n",
      "+-------+-------------------+-------------------+\n",
      "|     AA|0.34133483820351534|  9.000586215559835|\n",
      "|     AS| 0.2522248243559719| 1.6896754468485418|\n",
      "|     B6| 0.3794398137718705| 11.254301957342898|\n",
      "|     DL|0.32171158706018227|  7.427644424026645|\n",
      "|     EV| 0.2974937387253271|  8.991135963177388|\n",
      "|     F9| 0.3815150176678445| 12.697622750499889|\n",
      "|     HA| 0.2669011332551778|0.13438683557529058|\n",
      "|     MQ| 0.3180010198878123| 10.027902822436584|\n",
      "|     NK| 0.4437920177006212| 15.850615571354258|\n",
      "|     OO| 0.2950320076273495|  7.859373919059149|\n",
      "|     UA|0.49861929130056964| 14.341261775397726|\n",
      "|     US|0.31385292206169074|   6.30062194127243|\n",
      "|     VX| 0.3775694787041605|  8.873712196743105|\n",
      "|     WN| 0.4490405862995406|  10.63296968721066|\n",
      "+-------+-------------------+-------------------+\n",
      "\n"
     ]
    },
    {
     "name": "stderr",
     "output_type": "stream",
     "text": [
      "                                                                                \r"
     ]
    }
   ],
   "source": [
    "agg_df.filter('agg_level = \"airline\"').select(['airline', 'delayed_rate', 'avg_delay_time']).sort('airline').show()"
   ]
  },
  {
   "cell_type": "markdown",
   "id": "d777aa5a-0a92-4ef0-ae02-45108d1847ab",
   "metadata": {},
   "source": [
    "## How many flights were cancelled in 2015? What % of cancellations were due to weather? What % were due to the Airline/Carrier?"
   ]
  },
  {
   "cell_type": "code",
   "execution_count": 66,
   "id": "30002b2a-780f-4c0b-8b0a-c50ed93bee7d",
   "metadata": {},
   "outputs": [
    {
     "name": "stderr",
     "output_type": "stream",
     "text": [
      "[Stage 367:==========================================>             (9 + 3) / 12]\r"
     ]
    },
    {
     "name": "stdout",
     "output_type": "stream",
     "text": [
      "+----+-----------------+-----------------------+-----------------------+-----------------------+-----------------------+\n",
      "|year|cancelled_flights|percent_cancellations_A|percent_cancellations_B|percent_cancellations_C|percent_cancellations_D|\n",
      "+----+-----------------+-----------------------+-----------------------+-----------------------+-----------------------+\n",
      "|2015|             9044|     0.2758735072976559|     0.5466607695709863|     0.1774657231313578|                    0.0|\n",
      "+----+-----------------+-----------------------+-----------------------+-----------------------+-----------------------+\n",
      "\n"
     ]
    },
    {
     "name": "stderr",
     "output_type": "stream",
     "text": [
      "                                                                                \r"
     ]
    }
   ],
   "source": [
    "agg_df.filter('agg_level = \"year\"').select(['year', 'cancelled_flights', 'percent_cancellations_A', 'percent_cancellations_B', 'percent_cancellations_C', 'percent_cancellations_D']).sort('airline').show()\n"
   ]
  },
  {
   "cell_type": "code",
   "execution_count": null,
   "id": "d9ed227e-73e0-4e10-9bf1-0467ce163c04",
   "metadata": {},
   "outputs": [],
   "source": []
  }
 ],
 "metadata": {
  "kernelspec": {
   "display_name": "Python 3 (ipykernel)",
   "language": "python",
   "name": "python3"
  },
  "language_info": {
   "codemirror_mode": {
    "name": "ipython",
    "version": 3
   },
   "file_extension": ".py",
   "mimetype": "text/x-python",
   "name": "python",
   "nbconvert_exporter": "python",
   "pygments_lexer": "ipython3",
   "version": "3.9.18"
  }
 },
 "nbformat": 4,
 "nbformat_minor": 5
}
