{
 "cells": [
  {
   "cell_type": "code",
   "execution_count": 4,
   "id": "028c51c2-b172-41a7-99b1-0234e3932931",
   "metadata": {},
   "outputs": [],
   "source": [
    "from pyspark.sql import SparkSession, DataFrame\n",
    "from pyspark.sql.types import StructType, StructField, IntegerType, StringType, DateType\n",
    "from pyspark.sql.functions import lit, isnull, when, count, col, regexp_extract, concat_ws, to_date, expr, quarter, when, date_add, year, month, day, dayofweek, broadcast, avg, min, max, like\n",
    "import pydeequ\n",
    "\n",
    "# Define spark session config\n",
    "spark_configs = {\n",
    "    'spark.master': 'spark://spark-iceberg:7077',\n",
    "    'spark.sql.catalog.prod': 'org.apache.iceberg.spark.SparkCatalog',\n",
    "    'spark.sql.catalog.prod.io-impl': 'org.apache.iceberg.aws.s3.S3FileIO',\n",
    "    'spark.sql.catalog.prod.s3.endpoint': 'http://minio:9000',\n",
    "    'spark.sql.catalog.prod.type': 'rest',\n",
    "    'spark.sql.catalog.prod.uri': 'http://rest:8181',\n",
    "    'spark.sql.catalog.prod.warehouse': 's3://warehouse',\n",
    "    'spark.sql.defaultCatalog': 'prod',\n",
    "    'spark.driver.memory': '1G',\n",
    "    'spark.executor.memory': '1G',\n",
    "    \n",
    "    \"spark.jars.packages\": pydeequ.deequ_maven_coord,\n",
    "    \"spark.jars.excludes\": 'net.sourceforge.f2j:arpack_combined_all-0.1'\n",
    "}\n",
    "\n",
    "# Initialize SparkSession\n",
    "spark = (\n",
    "    SparkSession\n",
    "    .builder\n",
    "    .appName('Agg Fact Testing')\n",
    "    .config(map=spark_configs)\n",
    "    .getOrCreate()\n",
    ")"
   ]
  },
  {
   "cell_type": "code",
   "execution_count": 5,
   "id": "aca6426e-7032-48c8-a7e7-79920ccb5d0c",
   "metadata": {},
   "outputs": [],
   "source": [
    "def generate_dim_dates_df(spark: SparkSession) -> DataFrame:\n",
    "    # Initialize dates_df\n",
    "    dates_df = spark.range(365) \\\n",
    "        .withColumn('date', expr('date_add(\"2015-01-01\", CAST(id AS INT))')) \\\n",
    "        .withColumn('year', year('date')) \\\n",
    "        .withColumn('month', month('date')) \\\n",
    "        .withColumn('day', day('date')) \\\n",
    "        .withColumn('day_of_week', dayofweek('date')) \\\n",
    "        .withColumn('quarter', quarter('date')) \\\n",
    "        .drop('id')\n",
    "\n",
    "    # List of U.S. federal holidays\n",
    "    us_holidays_2015 = [\n",
    "        (\"2015-01-01\", \"New Year's Day\"),\n",
    "        (\"2015-01-19\", \"Martin Luther King Jr. Day\"),\n",
    "        (\"2015-02-16\", \"Presidents' Day\"),\n",
    "        (\"2015-05-25\", \"Memorial Day\"),\n",
    "        (\"2015-07-04\", \"Independence Day\"),\n",
    "        (\"2015-09-07\", \"Labor Day\"),\n",
    "        (\"2015-10-12\", \"Columbus Day\"),\n",
    "        (\"2015-11-11\", \"Veterans Day\"),\n",
    "        (\"2015-11-26\", \"Thanksgiving Day\"),\n",
    "        (\"2015-12-25\", \"Christmas Day\"),\n",
    "    ]\n",
    "    \n",
    "    # Create holidays_df and cast date from STRING to DATE type\n",
    "    holidays_df = spark.createDataFrame(us_holidays_2015, ['holiday_date', 'holiday_name'])\n",
    "    holidays_df = holidays_df.withColumn('holiday_date', to_date('holiday_date'))\n",
    "\n",
    "    # Join holidays to date_df and add is_holiday column\n",
    "    dates_df = dates_df \\\n",
    "        .join(\n",
    "            broadcast(holidays_df),\n",
    "            dates_df.date == holidays_df.holiday_date,\n",
    "            'left'\n",
    "        ) \\\n",
    "        .withColumn(\n",
    "            'is_holiday',\n",
    "            when(col('holiday_name').isNotNull(), lit(True)).otherwise(lit(False))\n",
    "        ) \\\n",
    "        .drop('holiday_date') \\\n",
    "        .sort('date')\n",
    "\n",
    "    # Rearrange date to be first column,\n",
    "    dates_df = dates_df.select('date', *[col(c) for c in dates_df.columns if c != 'date'])\n",
    "    return dates_df\n",
    "\n",
    "dates_df = generate_dim_dates_df(spark)"
   ]
  },
  {
   "cell_type": "code",
   "execution_count": 6,
   "id": "f9ca6656-23b8-4103-b653-9cfe8e9af88a",
   "metadata": {},
   "outputs": [
    {
     "name": "stderr",
     "output_type": "stream",
     "text": [
      "25/01/06 04:14:57 WARN SparkStringUtils: Truncated the string representation of a plan since it was too large. This behavior can be adjusted by setting 'spark.sql.debug.maxToStringFields'.\n",
      "[Stage 2:>                                                          (0 + 1) / 1]\r"
     ]
    },
    {
     "name": "stdout",
     "output_type": "stream",
     "text": [
      "+----------+-------+-------------+-----------+--------------+-------------------+-------------------+--------------+---------------+--------+----------+--------------+------------+--------+--------+---------+-------+-----------------+------------+-------------+--------+---------+-------------------+----------------+--------------+-------------+-------------------+-------------+----------+----+-----+---+-----------+-------+------------+----------+\n",
      "|      date|airline|flight_number|tail_number|origin_airport|destination_airport|scheduled_departure|departure_time|departure_delay|taxi_out|wheels_off|scheduled_time|elapsed_time|air_time|distance|wheels_on|taxi_in|scheduled_arrival|arrival_time|arrival_delay|diverted|cancelled|cancellation_reason|air_system_delay|security_delay|airline_delay|late_aircraft_delay|weather_delay|is_delayed|year|month|day|day_of_week|quarter|holiday_name|is_holiday|\n",
      "+----------+-------+-------------+-----------+--------------+-------------------+-------------------+--------------+---------------+--------+----------+--------------+------------+--------+--------+---------+-------+-----------------+------------+-------------+--------+---------+-------------------+----------------+--------------+-------------+-------------------+-------------+----------+----+-----+---+-----------+-------+------------+----------+\n",
      "|2015-06-01|     AA|            1|     N798AA|           JFK|                LAX|                900|           858|             -2|      66|      1004|           376|         392|     315|    2475|     1219|     11|             1216|        1230|           14|       0|        0|               NULL|            NULL|          NULL|         NULL|               NULL|         NULL|         0|2015|    6|  1|          2|      2|        NULL|     false|\n",
      "|2015-06-01|     AA|            2|     N784AA|           LAX|                JFK|                900|           957|             57|      28|      1025|           342|         329|     294|    2475|     1819|      7|             1742|        1826|           44|       0|        0|               NULL|               2|             0|            0|                 42|            0|         1|2015|    6|  1|          2|      2|        NULL|     false|\n",
      "|2015-06-01|     AA|            3|     N795AA|           JFK|                LAX|               1245|          1533|            168|      24|      1557|           365|         357|     324|    2475|     1821|      9|             1550|        1830|          160|       0|        0|               NULL|               0|             0|            9|                151|            0|         1|2015|    6|  1|          2|      2|        NULL|     false|\n",
      "|2015-06-01|     AA|            4|     N792AA|           LAX|                JFK|               1220|          1323|             63|      21|      1344|           340|         327|     297|    2475|     2141|      9|             2100|        2150|           50|       0|        0|               NULL|              50|             0|            0|                  0|            0|         1|2015|    6|  1|          2|      2|        NULL|     false|\n",
      "|2015-06-01|     AA|            5|     N360AA|           DFW|                HNL|               1350|          1352|              2|      17|      1409|           512|         501|     481|    3784|     1710|      3|             1722|        1713|           -9|       0|        0|               NULL|            NULL|          NULL|         NULL|               NULL|         NULL|         1|2015|    6|  1|          2|      2|        NULL|     false|\n",
      "|2015-06-01|     AA|            6|     N357AA|           OGG|                DFW|               1715|          1711|             -4|      16|      1727|           436|         413|     391|    3711|      458|      6|              531|         504|          -27|       0|        0|               NULL|            NULL|          NULL|         NULL|               NULL|         NULL|         0|2015|    6|  1|          2|      2|        NULL|     false|\n",
      "|2015-06-01|     AA|            7|     N357AA|           DFW|                OGG|                905|          1041|             96|      25|      1106|           502|         493|     463|    3711|     1349|      5|             1227|        1354|           87|       0|        0|               NULL|               0|             0|           87|                  0|            0|         1|2015|    6|  1|          2|      2|        NULL|     false|\n",
      "|2015-06-01|     AA|            8|     N362AA|           HNL|                DFW|               1740|          1738|             -2|      20|      1758|           459|         420|     397|    3784|      535|      3|              619|         538|          -41|       0|        0|               NULL|            NULL|          NULL|         NULL|               NULL|         NULL|         0|2015|    6|  1|          2|      2|        NULL|     false|\n",
      "|2015-06-01|     AA|            9|     N797AA|           JFK|                LAX|                700|           654|             -6|      39|       733|           371|         377|     325|    2475|      958|     13|             1011|        1011|            0|       0|        0|               NULL|            NULL|          NULL|         NULL|               NULL|         NULL|         0|2015|    6|  1|          2|      2|        NULL|     false|\n",
      "|2015-06-01|     AA|           10|     N790AA|           LAX|                JFK|               2155|          2210|             15|      30|      2240|           328|         339|     299|    2475|      639|     10|              623|         649|           26|       0|        0|               NULL|              11|             0|           15|                  0|            0|         1|2015|    6|  1|          2|      2|        NULL|     false|\n",
      "+----------+-------+-------------+-----------+--------------+-------------------+-------------------+--------------+---------------+--------+----------+--------------+------------+--------+--------+---------+-------+-----------------+------------+-------------+--------+---------+-------------------+----------------+--------------+-------------+-------------------+-------------+----------+----+-----+---+-----------+-------+------------+----------+\n",
      "only showing top 10 rows\n",
      "\n"
     ]
    },
    {
     "name": "stderr",
     "output_type": "stream",
     "text": [
      "                                                                                \r"
     ]
    }
   ],
   "source": [
    "# Read flights table\n",
    "flights_df = spark.table('prod.db.fact_flights')\n",
    "\n",
    "# Join dim_date table to flights\n",
    "flights_df = flights_df \\\n",
    "    .join(\n",
    "        broadcast(dates_df),\n",
    "        ['date']\n",
    "    )\n",
    "\n",
    "flights_df.createOrReplaceTempView('flights')\n",
    "\n",
    "flights_df.show(10)"
   ]
  },
  {
   "cell_type": "code",
   "execution_count": 7,
   "id": "728a2e73-95b6-4085-b345-d95fb10d6323",
   "metadata": {},
   "outputs": [],
   "source": [
    "def get_aggregation_level(columns: list[str]):\n",
    "    # TODO add comments\n",
    "    # Returns col\n",
    "    agg_level = concat_ws(\n",
    "        '_',\n",
    "        *[when(col(c).isNotNull(), lit(c)) for c in columns]\n",
    "    )\n",
    "\n",
    "    all_nulls = lit(True)\n",
    "    for c in columns:\n",
    "        all_nulls &= col(c).isNull()\n",
    "    agg_level = when(all_nulls, 'all').otherwise(agg_level)\n",
    "    return agg_level\n",
    "    "
   ]
  },
  {
   "cell_type": "code",
   "execution_count": 8,
   "id": "7b5a6d38-bbff-4b25-a870-9719ee2882be",
   "metadata": {},
   "outputs": [
    {
     "name": "stderr",
     "output_type": "stream",
     "text": [
      "[Stage 5:====================================================>    (11 + 1) / 12]\r"
     ]
    },
    {
     "name": "stdout",
     "output_type": "stream",
     "text": [
      "5188\n"
     ]
    },
    {
     "name": "stderr",
     "output_type": "stream",
     "text": [
      "                                                                                \r"
     ]
    },
    {
     "name": "stdout",
     "output_type": "stream",
     "text": [
      "+--------------+\n",
      "|agg_level     |\n",
      "+--------------+\n",
      "|airline       |\n",
      "|all           |\n",
      "|origin_airport|\n",
      "+--------------+\n",
      "\n"
     ]
    },
    {
     "name": "stderr",
     "output_type": "stream",
     "text": [
      "[Stage 18:==============================================>         (10 + 2) / 12]\r"
     ]
    },
    {
     "name": "stdout",
     "output_type": "stream",
     "text": [
      "+----+-----+-----------+-------+--------------+-------------+---------------+-------------------+-------------------+-----------------+--------------------+---------------+---------------+---------------+---------------+-----------------------+-----------------------+-----------------------+-----------------------+--------------+---------+\n",
      "|year|month|day_of_week|airline|origin_airport|total_flights|delayed_flights|       delayed_rate|     avg_delay_time|cancelled_flights|      cancelled_rate|cancellations_A|cancellations_B|cancellations_C|cancellations_D|percent_cancellations_A|percent_cancellations_B|percent_cancellations_C|percent_cancellations_D|time_agg_level|agg_level|\n",
      "+----+-----+-----------+-------+--------------+-------------+---------------+-------------------+-------------------+-----------------+--------------------+---------------+---------------+---------------+---------------+-----------------------+-----------------------+-----------------------+-----------------------+--------------+---------+\n",
      "|2015|    7|       NULL|     HA|          NULL|         6955|           1906| 0.2740474478792236| 0.7099049812841923|               11|0.001581595974119...|             11|              0|              0|              0|                    1.0|                    0.0|                    0.0|                    0.0|    year_month|  airline|\n",
      "|2015|    5|       NULL|     MQ|          NULL|        25431|           7845| 0.3084817742125752|   9.55347756997922|              947| 0.03723801659392081|            154|            627|            166|              0|    0.16261879619852165|      0.662090813093981|    0.17529039070749736|                    0.0|    year_month|  airline|\n",
      "|2015|    7|       NULL|     VX|          NULL|         5411|           2272|0.41988541859175754|   9.75101965146459|               18|0.003326557013491037|             17|              0|              1|              0|     0.9444444444444444|                    0.0|    0.05555555555555555|                    0.0|    year_month|  airline|\n",
      "|2015|    7|       NULL|     MQ|          NULL|        24750|           7853| 0.3172929292929293|   9.06921102740293|              634|0.025616161616161617|            245|             83|            305|              1|     0.3864353312302839|     0.1309148264984227|     0.4810725552050473|   0.001577287066246...|    year_month|  airline|\n",
      "|2015|    7|       NULL|     WN|          NULL|       113650|          59651| 0.5248658161020677| 15.616418929100078|              839|0.007382314122305323|            659|            108|             72|              0|     0.7854588796185935|    0.12872467222884387|    0.08581644815256258|                    0.0|    year_month|  airline|\n",
      "|NULL| NULL|       NULL|     UA|          NULL|       515722|         256549| 0.4974559937330577| 14.435329998253302|             6573|0.012745238713880735|           2870|           3312|            391|              0|     0.4366347177848775|     0.5038795070743952|    0.05948577514072722|                    0.0|           all|  airline|\n",
      "|2015|    7|       NULL|     B6|          NULL|        24029|           9246|0.38478505139622954| 11.296232517115376|              225|0.009363685546631154|            132|             11|             82|              0|     0.5866666666666667|    0.04888888888888889|    0.36444444444444446|                    0.0|    year_month|  airline|\n",
      "|2015| NULL|       NULL|     UA|          NULL|       515722|         256549| 0.4974559937330577| 14.435329998253302|             6573|0.012745238713880735|           2870|           3312|            391|              0|     0.4366347177848775|     0.5038795070743952|    0.05948577514072722|                    0.0|          year|  airline|\n",
      "|2015|    7|       NULL|     F9|          NULL|         8090|           3306| 0.4086526576019778| 13.837096774193549|               33|0.004079110012360939|             29|              4|              0|              0|     0.8787878787878788|    0.12121212121212122|                    0.0|                    0.0|    year_month|  airline|\n",
      "|2015| NULL|       NULL|     EV|          NULL|       571976|         169897|0.29703519028770436|  8.715957315092778|            15231| 0.02662873966739863|           3604|           5082|           6544|              1|    0.23662267743418028|    0.33366161118770926|    0.42965005580723525|   6.565557087518876E-5|          year|  airline|\n",
      "|2015|    7|       NULL|     EV|          NULL|        50381|          15530| 0.3082511264167047|  9.052346716212941|              909|0.018042516027867647|            189|            200|            520|              0|     0.2079207920792079|    0.22002200220022003|     0.5720572057205721|                    0.0|    year_month|  airline|\n",
      "|2015| NULL|       NULL|     AA|          NULL|       725982|         245904|0.33871914179690404|  8.900856346719806|            10917| 0.01503756291478301|           2878|           7305|            730|              4|     0.2636255381515068|     0.6691398735916461|    0.06686818723092425|   3.664010259228726E-4|          year|  airline|\n",
      "|2015|    7|       NULL|     UA|          NULL|        46478|          26645| 0.5732819828736176|   19.4049805684014|              468|0.010069280089504713|            402|             32|             34|              0|     0.8589743589743589|    0.06837606837606838|    0.07264957264957266|                    0.0|    year_month|  airline|\n",
      "|2015|    6|       NULL|     B6|          NULL|        22558|           7928|0.35144959659544284| 11.430771986387247|              231|0.010240269527440376|             78|              8|            145|              0|    0.33766233766233766|    0.03463203463203463|     0.6277056277056277|                    0.0|    year_month|  airline|\n",
      "|2015|    7|       NULL|     AS|          NULL|        15821|           4266|0.26964161557423677|    2.5617315249081|               49|0.003097149358447...|             28|             21|              0|              0|     0.5714285714285714|    0.42857142857142855|                    0.0|                    0.0|    year_month|  airline|\n",
      "|2015|    6|       NULL|     US|          NULL|        34300|          11843|0.34527696793002915|  8.314896494942367|              322|0.009387755102040816|            162|             27|            133|              0|     0.5031055900621118|    0.08385093167701864|    0.41304347826086957|                    0.0|    year_month|  airline|\n",
      "|2015|    7|       NULL|     NK|          NULL|        10351|           4922|0.47550961259781666|   16.4119257086999|              131|0.012655782050043474|             58|             54|             19|              0|    0.44274809160305345|     0.4122137404580153|     0.1450381679389313|                    0.0|    year_month|  airline|\n",
      "|2015| NULL|       NULL|     NK|          NULL|       117379|          52089| 0.4437676245324973| 15.944765880783688|             2004|0.017072900604026275|            654|           1068|            279|              3|     0.3263473053892216|     0.5329341317365269|    0.13922155688622753|   0.001497005988023...|          year|  airline|\n",
      "|2015|    7|       NULL|     OO|          NULL|        52627|          16434| 0.3122731677655956|  8.851215609154183|              821|0.015600357231079104|            379|            299|            143|              0|    0.46163215590742995|      0.364190012180268|    0.17417783191230207|                    0.0|    year_month|  airline|\n",
      "|2015|    6|       NULL|     MQ|          NULL|        25407|           9785|0.38513008226079426| 13.159374094465372|             1326|0.052190341244538904|            221|            295|            810|              0|    0.16666666666666666|      0.222473604826546|     0.6108597285067874|                    0.0|    year_month|  airline|\n",
      "|2015|    7|       NULL|     AA|          NULL|        81434|          29864|0.36672642876439815|  9.721148618593388|              562|0.006901294299678267|            397|             66|             99|              0|     0.7064056939501779|    0.11743772241992882|    0.17615658362989323|                    0.0|    year_month|  airline|\n",
      "|2015| NULL|       NULL|     HA|          NULL|        76272|          20146| 0.2641336270190896|0.48571315965790407|              171|0.002241976085588...|            170|              1|              0|              0|     0.9941520467836257|   0.005847953216374269|                    0.0|                    0.0|          year|  airline|\n",
      "|2015|    1|       NULL|     B6|          NULL|        21623|           7858| 0.3634093326550432| 10.035555988505187|             1102|0.050964251028996904|             92|            929|             80|              1|    0.08348457350272233|     0.8430127041742287|    0.07259528130671507|   9.074410163339383E-4|    year_month|  airline|\n",
      "|2015|    6|       NULL|     NK|          NULL|         9826|           5874| 0.5978017504579687|  36.16178670656123|              479|0.048748219010787706|            221|            195|             63|              0|     0.4613778705636743|      0.407098121085595|     0.1315240083507307|                    0.0|    year_month|  airline|\n",
      "|2015|    1|       NULL|     NK|          NULL|         8743|           3710| 0.4243394715772618| 13.146293512200764|               98| 0.01120896717373899|             12|             76|             10|              0|    0.12244897959183673|     0.7755102040816326|    0.10204081632653061|                    0.0|    year_month|  airline|\n",
      "|2015|    6|       NULL|     WN|          NULL|       109776|          58334| 0.5313911966185687| 16.051662806855024|             1884|0.017162221250546568|            855|            945|             84|              0|     0.4538216560509554|     0.5015923566878981|   0.044585987261146494|                    0.0|    year_month|  airline|\n",
      "|2015|    1|       NULL|     OO|          NULL|        48114|          16594|0.34488922143243134| 12.155156988880842|             1262|0.026229371908384255|            347|            687|            228|              0|    0.27496038034865294|     0.5443740095087163|    0.18066561014263074|                    0.0|    year_month|  airline|\n",
      "|2015|    7|       NULL|     DL|          NULL|        80741|          27724| 0.3433695396390929|  8.270346349871653|              106|0.001312839821156...|             42|              4|             60|              0|    0.39622641509433965|    0.03773584905660377|     0.5660377358490566|                    0.0|    year_month|  airline|\n",
      "|2015|    1|       NULL|     US|          NULL|        33489|          10036| 0.2996804921018842|  5.197315065126567|              959|0.028636268625518827|            185|            701|             73|              0|    0.19290928050052136|     0.7309697601668405|    0.07612095933263817|                    0.0|    year_month|  airline|\n",
      "|NULL| NULL|       NULL|     HA|          NULL|        76272|          20146| 0.2641336270190896|0.48571315965790407|              171|0.002241976085588...|            170|              1|              0|              0|     0.9941520467836257|   0.005847953216374269|                    0.0|                    0.0|           all|  airline|\n",
      "|2015|    1|       NULL|     F9|          NULL|         6829|           2979| 0.4362278518084639|  17.98443291326909|               89|0.013032654854297847|             62|             27|              0|              0|     0.6966292134831461|    0.30337078651685395|                    0.0|                    0.0|    year_month|  airline|\n",
      "|NULL| NULL|       NULL|     WN|          NULL|      1261855|         566807|0.44918552448577687| 10.581986295158847|            16043|0.012713822111098344|           6122|           8843|           1066|             12|     0.3815994514741632|     0.5512061335161753|     0.0664464252321885|   7.479897774730413E-4|           all|  airline|\n",
      "|2015|    1|       NULL|     UA|          NULL|        38395|          20273| 0.5280114598254981| 14.010359374165644|              967| 0.02518557103789556|            119|            840|              8|              0|    0.12306101344364012|     0.8686659772492245|   0.008273009307135471|                    0.0|    year_month|  airline|\n",
      "|NULL| NULL|       NULL|     DL|          NULL|       875881|         282463|0.32249015562616384|   7.36925417661782|             3824|0.004365889886868193|            594|           2973|            257|              0|     0.1553347280334728|     0.7774581589958159|     0.0672071129707113|                    0.0|           all|  airline|\n",
      "|2015|    1|       NULL|     AS|          NULL|        13257|           3595|0.27117749113675793| 3.1782088195181086|               64|0.004827638228860225|             30|             34|              0|              0|                0.46875|                0.53125|                    0.0|                    0.0|    year_month|  airline|\n",
      "|NULL| NULL|       NULL|     OO|          NULL|       588353|         171572| 0.2916140480289894|  7.801103808415331|             9960| 0.01692861258462182|           3205|           5539|           1216|              0|     0.3217871485943775|     0.5561244979919678|    0.12208835341365462|                    0.0|           all|  airline|\n",
      "|2015|    1|       NULL|     EV|          NULL|        49925|          16090| 0.3222834251377066|  9.752522427331304|             1702| 0.03409113670505759|            392|            454|            856|              0|    0.23031727379553465|    0.26674500587544064|     0.5029377203290247|                    0.0|    year_month|  airline|\n",
      "|2015|    6|       NULL|     DL|          NULL|        77255|          29409| 0.3806743900071193|  10.87758202095478|              239|0.003093650896382111|             93|            128|             18|              0|     0.3891213389121339|     0.5355648535564853|    0.07531380753138076|                    0.0|    year_month|  airline|\n",
      "|2015|    1|       NULL|     WN|          NULL|       100042|          43742|0.43723636072849403|  9.514469976705627|             1767|0.017662581715679415|            672|           1037|             58|              0|    0.38030560271646857|      0.586870401810979|   0.032823995472552346|                    0.0|    year_month|  airline|\n",
      "|2015| NULL|       NULL|     US|          NULL|       198715|          62565|0.31484789774299876|  6.141136917746696|             4067|0.020466497244797825|           1007|           2490|            570|              0|    0.24760265552003935|     0.6122448979591837|      0.140152446520777|                    0.0|          year|  airline|\n",
      "|2015|    1|       NULL|     HA|          NULL|         6440|           1872| 0.2906832298136646| 1.3100654409473356|               26|0.004037267080745342|             26|              0|              0|              0|                    1.0|                    0.0|                    0.0|                    0.0|    year_month|  airline|\n",
      "|NULL| NULL|       NULL|     VX|          NULL|        61903|          23379| 0.3776715183432144|  9.022595096521952|              534|0.008626399366751207|            157|             12|            365|              0|     0.2940074906367041|    0.02247191011235955|     0.6835205992509363|                    0.0|           all|  airline|\n",
      "|2015|    1|       NULL|     DL|          NULL|        64421|          19477|0.30233929929681314|  5.904238298406325|              678|0.010524518402384315|             31|            639|              8|              0|   0.045722713864306784|     0.9424778761061947|   0.011799410029498525|                    0.0|    year_month|  airline|\n",
      "|2015| NULL|       NULL|     F9|          NULL|        90836|          34893| 0.3841318420009688| 13.350858345331709|              588|0.006473204456382932|            308|            280|              0|              0|     0.5238095238095238|    0.47619047619047616|                    0.0|                    0.0|          year|  airline|\n",
      "|2015|    1|       NULL|     VX|          NULL|         4731|           1574| 0.3326992179243289|  6.910771877015695|               80|0.016909744240118367|              2|              0|             78|              0|                  0.025|                    0.0|                  0.975|                    0.0|    year_month|  airline|\n",
      "|2015| NULL|       NULL|     OO|          NULL|       588353|         171572| 0.2916140480289894|  7.801103808415331|             9960| 0.01692861258462182|           3205|           5539|           1216|              0|     0.3217871485943775|     0.5561244979919678|    0.12208835341365462|                    0.0|          year|  airline|\n",
      "|2015|    1|       NULL|     AA|          NULL|        44059|          16558|0.37581424907510386| 10.593542260208928|              900|0.020427154497378516|            291|            598|             11|              0|     0.3233333333333333|     0.6644444444444444|   0.012222222222222223|                    0.0|    year_month|  airline|\n",
      "|2015|    9|       NULL|     DL|          NULL|        72063|          17968| 0.2493373853433801|  3.514294040911488|                6|8.326048041297199E-5|              5|              1|              0|              0|     0.8333333333333334|    0.16666666666666666|                    0.0|                    0.0|    year_month|  airline|\n",
      "|2015|    5|       NULL|     UA|          NULL|        44411|          23229| 0.5230460921843687| 14.702455169912266|              348|0.007835896512125374|            224|            102|             22|              0|     0.6436781609195402|    0.29310344827586204|    0.06321839080459771|                    0.0|    year_month|  airline|\n",
      "|2015|    9|       NULL|     WN|          NULL|       100645|          34432| 0.3421133687714243|  5.380072402341607|              384|0.003815390729792836|            307|              5|             72|              0|     0.7994791666666666|   0.013020833333333334|                 0.1875|                    0.0|    year_month|  airline|\n",
      "+----+-----+-----------+-------+--------------+-------------+---------------+-------------------+-------------------+-----------------+--------------------+---------------+---------------+---------------+---------------+-----------------------+-----------------------+-----------------------+-----------------------+--------------+---------+\n",
      "only showing top 50 rows\n",
      "\n"
     ]
    },
    {
     "name": "stderr",
     "output_type": "stream",
     "text": [
      "                                                                                \r"
     ]
    }
   ],
   "source": [
    "agg_query = \"\"\"\n",
    "SELECT\n",
    "    -- Grouping columns\n",
    "    year,\n",
    "    month,\n",
    "    day_of_week,\n",
    "    \n",
    "    airline,\n",
    "    origin_airport,\n",
    "\n",
    "    -- Aggregation columns\n",
    "    COUNT(*) AS total_flights,\n",
    "    \n",
    "    COUNT(CASE WHEN is_delayed = 1 THEN 1 END) AS delayed_flights,\n",
    "    delayed_flights / total_flights AS delayed_rate,\n",
    "    AVG(departure_delay) AS avg_delay_time,\n",
    "\n",
    "    COUNT(CASE WHEN cancelled = 1 THEN 1 END) AS cancelled_flights,\n",
    "    cancelled_flights / total_flights AS cancelled_rate,\n",
    "\n",
    "    -- Total cancellations for each reason\n",
    "    COUNT(CASE WHEN cancellation_reason = 'A' THEN 1 END) AS cancellations_A,\n",
    "    COUNT(CASE WHEN cancellation_reason = 'B' THEN 1 END) AS cancellations_B,\n",
    "    COUNT(CASE WHEN cancellation_reason = 'C' THEN 1 END) AS cancellations_C,\n",
    "    COUNT(CASE WHEN cancellation_reason = 'D' THEN 1 END) AS cancellations_D,\n",
    "\n",
    "    -- Percentage of cancellations by each reason\n",
    "    cancellations_A / cancelled_flights AS percent_cancellations_A,\n",
    "    cancellations_B / cancelled_flights AS percent_cancellations_B,\n",
    "    cancellations_C / cancelled_flights AS percent_cancellations_C,\n",
    "    cancellations_D / cancelled_flights AS percent_cancellations_D\n",
    "    \n",
    "FROM flights\n",
    "\n",
    "-- Group by various levels of granularity using GROUPING SETS\n",
    "GROUP BY GROUPING SETS (\n",
    "    -- Group by year\n",
    "    (year), \n",
    "\n",
    "    -- Group by year and month\n",
    "    (year, month),\n",
    "\n",
    "    -- Group by day of the week\n",
    "    (day_of_week),\n",
    "    \n",
    "    -- Group by airline at different levels\n",
    "    (airline), \n",
    "    (airline, year), \n",
    "    (airline, year, month),\n",
    "\n",
    "    -- Group by origin airport at different levels\n",
    "    (origin_airport), \n",
    "    (origin_airport, year), \n",
    "    (origin_airport, year, month)\n",
    ")\n",
    "\"\"\"\n",
    "\n",
    "agg_df = spark.sql(agg_query)\n",
    "\n",
    "# Define aggregation level columns for time and non-time columns\n",
    "time_cols = ['year', 'month', 'day_of_week']\n",
    "non_time_cols = ['airline', 'origin_airport']\n",
    "\n",
    "# Get aggregation level for time and non-time columns\n",
    "time_agg_level = get_aggregation_level(time_cols)\n",
    "agg_level = get_aggregation_level(non_time_cols)\n",
    "\n",
    "# Add aggregation level columns to the DataFrame\n",
    "agg_df = agg_df \\\n",
    "    .withColumn('time_agg_level', time_agg_level) \\\n",
    "    .withColumn('agg_level', agg_level)\n",
    "\n",
    "\n",
    "print(agg_df.count())\n",
    "agg_df.select(col('agg_level')).distinct().sort('agg_level').show(truncate=False)\n",
    "agg_df.sort('agg_level').show(50)"
   ]
  },
  {
   "cell_type": "code",
   "execution_count": 20,
   "id": "16916f37-758b-45c9-ab7f-d7a9513b59aa",
   "metadata": {},
   "outputs": [
    {
     "name": "stdout",
     "output_type": "stream",
     "text": [
      "root\n",
      " |-- year: integer (nullable = true)\n",
      " |-- month: integer (nullable = true)\n",
      " |-- day_of_week: integer (nullable = true)\n",
      " |-- airline: string (nullable = true)\n",
      " |-- origin_airport: string (nullable = true)\n",
      " |-- total_flights: long (nullable = false)\n",
      " |-- delayed_flights: long (nullable = false)\n",
      " |-- delayed_rate: double (nullable = true)\n",
      " |-- avg_delay_time: double (nullable = true)\n",
      " |-- cancelled_flights: long (nullable = false)\n",
      " |-- cancelled_rate: double (nullable = true)\n",
      " |-- cancellations_A: long (nullable = false)\n",
      " |-- cancellations_B: long (nullable = false)\n",
      " |-- cancellations_C: long (nullable = false)\n",
      " |-- cancellations_D: long (nullable = false)\n",
      " |-- percent_cancellations_A: double (nullable = true)\n",
      " |-- percent_cancellations_B: double (nullable = true)\n",
      " |-- percent_cancellations_C: double (nullable = true)\n",
      " |-- percent_cancellations_D: double (nullable = true)\n",
      " |-- time_agg_level: string (nullable = false)\n",
      " |-- agg_level: string (nullable = false)\n",
      "\n"
     ]
    }
   ],
   "source": [
    "agg_df.printSchema()"
   ]
  },
  {
   "cell_type": "code",
   "execution_count": 14,
   "id": "fd492080-3d90-4c0e-84bd-1516d88eee82",
   "metadata": {},
   "outputs": [
    {
     "name": "stderr",
     "output_type": "stream",
     "text": [
      "[Stage 31:======================================>                  (8 + 4) / 12]\r"
     ]
    },
    {
     "name": "stdout",
     "output_type": "stream",
     "text": [
      "+----+-----+-----------+-------+--------------+-------------+---------------+------------+--------------+-----------------+--------------+---------------+---------------+---------------+---------------+-----------------------+-----------------------+-----------------------+-----------------------+--------------+---------+\n",
      "|year|month|day_of_week|airline|origin_airport|total_flights|delayed_flights|delayed_rate|avg_delay_time|cancelled_flights|cancelled_rate|cancellations_A|cancellations_B|cancellations_C|cancellations_D|percent_cancellations_A|percent_cancellations_B|percent_cancellations_C|percent_cancellations_D|time_agg_level|agg_level|\n",
      "+----+-----+-----------+-------+--------------+-------------+---------------+------------+--------------+-----------------+--------------+---------------+---------------+---------------+---------------+-----------------------+-----------------------+-----------------------+-----------------------+--------------+---------+\n",
      "+----+-----+-----------+-------+--------------+-------------+---------------+------------+--------------+-----------------+--------------+---------------+---------------+---------------+---------------+-----------------------+-----------------------+-----------------------+-----------------------+--------------+---------+\n",
      "\n"
     ]
    },
    {
     "name": "stderr",
     "output_type": "stream",
     "text": [
      "25/01/06 05:04:49 WARN JavaUtils: Attempt to delete using native Unix OS command failed for path = /tmp/blockmgr-fd2bdf34-1f0e-4099-a5ee-1bd5fe226538. Falling back to Java IO way\n",
      "java.io.IOException: Failed to delete: /tmp/blockmgr-fd2bdf34-1f0e-4099-a5ee-1bd5fe226538\n",
      "\tat org.apache.spark.network.util.JavaUtils.deleteRecursivelyUsingUnixNative(JavaUtils.java:173)\n",
      "\tat org.apache.spark.network.util.JavaUtils.deleteRecursively(JavaUtils.java:109)\n",
      "\tat org.apache.spark.network.util.JavaUtils.deleteRecursively(JavaUtils.java:90)\n",
      "\tat org.apache.spark.util.SparkFileUtils.deleteRecursively(SparkFileUtils.scala:121)\n",
      "\tat org.apache.spark.util.SparkFileUtils.deleteRecursively$(SparkFileUtils.scala:120)\n",
      "\tat org.apache.spark.util.Utils$.deleteRecursively(Utils.scala:1126)\n",
      "\tat org.apache.spark.storage.DiskBlockManager.$anonfun$doStop$1(DiskBlockManager.scala:368)\n",
      "\tat org.apache.spark.storage.DiskBlockManager.$anonfun$doStop$1$adapted(DiskBlockManager.scala:364)\n",
      "\tat scala.collection.IndexedSeqOptimized.foreach(IndexedSeqOptimized.scala:36)\n",
      "\tat scala.collection.IndexedSeqOptimized.foreach$(IndexedSeqOptimized.scala:33)\n",
      "\tat scala.collection.mutable.ArrayOps$ofRef.foreach(ArrayOps.scala:198)\n",
      "\tat org.apache.spark.storage.DiskBlockManager.doStop(DiskBlockManager.scala:364)\n",
      "\tat org.apache.spark.storage.DiskBlockManager.$anonfun$addShutdownHook$2(DiskBlockManager.scala:346)\n",
      "\tat org.apache.spark.util.SparkShutdownHook.run(ShutdownHookManager.scala:214)\n",
      "\tat org.apache.spark.util.SparkShutdownHookManager.$anonfun$runAll$2(ShutdownHookManager.scala:188)\n",
      "\tat scala.runtime.java8.JFunction0$mcV$sp.apply(JFunction0$mcV$sp.java:23)\n",
      "\tat org.apache.spark.util.Utils$.logUncaughtExceptions(Utils.scala:1928)\n",
      "\tat org.apache.spark.util.SparkShutdownHookManager.$anonfun$runAll$1(ShutdownHookManager.scala:188)\n",
      "\tat scala.runtime.java8.JFunction0$mcV$sp.apply(JFunction0$mcV$sp.java:23)\n",
      "\tat scala.util.Try$.apply(Try.scala:213)\n",
      "\tat org.apache.spark.util.SparkShutdownHookManager.runAll(ShutdownHookManager.scala:188)\n",
      "\tat org.apache.spark.util.SparkShutdownHookManager$$anon$2.run(ShutdownHookManager.scala:178)\n",
      "\tat java.base/java.util.concurrent.Executors$RunnableAdapter.call(Executors.java:515)\n",
      "\tat java.base/java.util.concurrent.FutureTask.run(FutureTask.java:264)\n",
      "\tat java.base/java.util.concurrent.ThreadPoolExecutor.runWorker(ThreadPoolExecutor.java:1128)\n",
      "\tat java.base/java.util.concurrent.ThreadPoolExecutor$Worker.run(ThreadPoolExecutor.java:628)\n",
      "\tat java.base/java.lang.Thread.run(Thread.java:829)\n"
     ]
    }
   ],
   "source": [
    "# agg_df.filter('agg_level NOT IN (\"all\", \"airline\", \"origin_airport\")').show()\n",
    "agg_df.filter('agg_level = \"0.9633770239013107\"').show()"
   ]
  },
  {
   "cell_type": "markdown",
   "id": "0e54bac7-8776-45c9-adfd-068e227f47b0",
   "metadata": {
    "jp-MarkdownHeadingCollapsed": true
   },
   "source": [
    "# Data Quality Profiler for agg_fact_flights\n",
    "Possibly bug in Deequ preventing us from running profiler and constraint suggestion on agg_df (https://github.com/awslabs/deequ/issues/592)"
   ]
  },
  {
   "cell_type": "code",
   "execution_count": null,
   "id": "2185a8b0-770c-4b0b-8764-971fd6762299",
   "metadata": {},
   "outputs": [],
   "source": [
    "from pydeequ.profiles import *\n",
    "\n",
    "# Profiling all the columns: ColumnProfilerRunner.onData returns a ColumnProfilerRunBuilder\n",
    "result = ColumnProfilerRunner(spark) \\\n",
    "    .onData(agg_df) \\\n",
    "    .restrictToColumns(['time_agg_level']) \\\n",
    "    .run()\n",
    "\n",
    "# printing all the columns and their corresponding profiled data.\n",
    "for col_name, profile in result.profiles.items():\n",
    "    print(profile)"
   ]
  },
  {
   "cell_type": "code",
   "execution_count": null,
   "id": "9d483e0b-0b28-493d-964c-35ac12c5e95b",
   "metadata": {},
   "outputs": [],
   "source": [
    "from pydeequ.suggestions import *\n",
    "\n",
    "# Run constraint suggestion\n",
    "suggestionResult = ConstraintSuggestionRunner(spark) \\\n",
    "    .onData(agg_df) \\\n",
    "    .addConstraintRule(CompleteIfCompleteRule()) \\\n",
    "    .run()\n"
   ]
  },
  {
   "cell_type": "code",
   "execution_count": null,
   "id": "a9c47b7f-aa76-4eb2-9ee9-85d03219653e",
   "metadata": {},
   "outputs": [],
   "source": [
    "# Print constraint suggestions\n",
    "for constraint in suggestionResult['constraint_suggestions']:\n",
    "    print(constraint[\"code_for_constraint\"])\n",
    "    print()"
   ]
  },
  {
   "cell_type": "markdown",
   "id": "5d2df586-632b-431c-bb27-146d24272921",
   "metadata": {},
   "source": [
    "# Data Quality Checks"
   ]
  },
  {
   "cell_type": "code",
   "execution_count": 30,
   "id": "775fc11a-8efc-411f-bd90-6f3f543e2c36",
   "metadata": {},
   "outputs": [
    {
     "ename": "AttributeError",
     "evalue": "'Check' object has no attribute 'isEqual'",
     "output_type": "error",
     "traceback": [
      "\u001b[0;31m---------------------------------------------------------------------------\u001b[0m",
      "\u001b[0;31mAttributeError\u001b[0m                            Traceback (most recent call last)",
      "Cell \u001b[0;32mIn[30], line 6\u001b[0m\n\u001b[1;32m      2\u001b[0m \u001b[38;5;28;01mfrom\u001b[39;00m \u001b[38;5;21;01mpydeequ\u001b[39;00m\u001b[38;5;21;01m.\u001b[39;00m\u001b[38;5;21;01mverification\u001b[39;00m \u001b[38;5;28;01mimport\u001b[39;00m \u001b[38;5;241m*\u001b[39m\n\u001b[1;32m      4\u001b[0m check \u001b[38;5;241m=\u001b[39m Check(spark, CheckLevel\u001b[38;5;241m.\u001b[39mWarning, \u001b[38;5;124m\"\u001b[39m\u001b[38;5;124magg_fact_flights checks\u001b[39m\u001b[38;5;124m\"\u001b[39m)\n\u001b[0;32m----> 6\u001b[0m \u001b[43mcheck\u001b[49m\u001b[38;5;241;43m.\u001b[39;49m\u001b[43misEqual\u001b[49m()\n",
      "\u001b[0;31mAttributeError\u001b[0m: 'Check' object has no attribute 'isEqual'"
     ]
    }
   ],
   "source": [
    "from pydeequ.checks import *\n",
    "from pydeequ.verification import *\n",
    "\n",
    "check = Check(spark, CheckLevel.Warning, \"agg_fact_flights checks\")\n",
    "\n",
    "check.isEqual()\n"
   ]
  },
  {
   "cell_type": "markdown",
   "id": "7c62153b-32e6-4f10-8335-f46cd44c2070",
   "metadata": {},
   "source": [
    "# Business Analysis"
   ]
  },
  {
   "cell_type": "markdown",
   "id": "3b2171a3-f601-4703-9842-ed497d36baf3",
   "metadata": {},
   "source": [
    "## Total Flight Stats"
   ]
  },
  {
   "cell_type": "code",
   "execution_count": 57,
   "id": "7c2f3699-695e-47c6-b3bc-fcb4e5967cc6",
   "metadata": {},
   "outputs": [
    {
     "name": "stderr",
     "output_type": "stream",
     "text": [
      "[Stage 317:=============================================>         (10 + 2) / 12]\r"
     ]
    },
    {
     "name": "stdout",
     "output_type": "stream",
     "text": [
      "+----+-----+-----------+-------+--------------+-------------+---------------+-------------------+-----------------+-----------------+--------------------+---------------+---------------+---------------+---------------+-----------------------+-----------------------+-----------------------+-----------------------+---------+\n",
      "|year|month|day_of_week|airline|origin_airport|total_flights|delayed_flights|       delayed_rate|   avg_delay_time|cancelled_flights|      cancelled_rate|cancellations_A|cancellations_B|cancellations_C|cancellations_D|percent_cancellations_A|percent_cancellations_B|percent_cancellations_C|percent_cancellations_D|agg_level|\n",
      "+----+-----+-----------+-------+--------------+-------------+---------------+-------------------+-----------------+-----------------+--------------------+---------------+---------------+---------------+---------------+-----------------------+-----------------------+-----------------------+-----------------------+---------+\n",
      "|2015| NULL|       NULL|   NULL|          NULL|       581225|         212622|0.36581702438814573|9.396523327726925|             9044|0.015560239150070971|           2495|           4944|           1605|              0|     0.2758735072976559|     0.5466607695709863|     0.1774657231313578|                    0.0|     year|\n",
      "+----+-----+-----------+-------+--------------+-------------+---------------+-------------------+-----------------+-----------------+--------------------+---------------+---------------+---------------+---------------+-----------------------+-----------------------+-----------------------+-----------------------+---------+\n",
      "\n"
     ]
    },
    {
     "name": "stderr",
     "output_type": "stream",
     "text": [
      "                                                                                \r"
     ]
    }
   ],
   "source": [
    "agg_df.filter('agg_level = \"year\"').show()"
   ]
  },
  {
   "cell_type": "markdown",
   "id": "4713b3d4-213c-4ddc-872e-ab3d1748a6c9",
   "metadata": {},
   "source": [
    "## How does the overall flight volume vary by month? By day of week?"
   ]
  },
  {
   "cell_type": "code",
   "execution_count": 60,
   "id": "04637bb9-ecd2-48a8-a2d0-1606adf32f62",
   "metadata": {},
   "outputs": [
    {
     "name": "stderr",
     "output_type": "stream",
     "text": [
      "                                                                                \r"
     ]
    },
    {
     "name": "stdout",
     "output_type": "stream",
     "text": [
      "+----+-----+-------------+\n",
      "|year|month|total_flights|\n",
      "+----+-----+-------------+\n",
      "|2015|    1|        46810|\n",
      "|2015|    2|        42769|\n",
      "|2015|    3|        49962|\n",
      "|2015|    4|        48252|\n",
      "|2015|    5|        49767|\n",
      "|2015|    6|        50291|\n",
      "|2015|    7|        51807|\n",
      "|2015|    8|        51416|\n",
      "|2015|    9|        46707|\n",
      "|2015|   10|        48806|\n",
      "|2015|   11|        46727|\n",
      "|2015|   12|        47911|\n",
      "+----+-----+-------------+\n",
      "\n"
     ]
    },
    {
     "name": "stderr",
     "output_type": "stream",
     "text": [
      "[Stage 342:=====================================>                  (8 + 4) / 12]\r"
     ]
    },
    {
     "name": "stdout",
     "output_type": "stream",
     "text": [
      "+-----------+-------------+\n",
      "|day_of_week|total_flights|\n",
      "+-----------+-------------+\n",
      "|          1|        82017|\n",
      "|          2|        85904|\n",
      "|          3|        84462|\n",
      "|          4|        85822|\n",
      "|          5|        86894|\n",
      "|          6|        86099|\n",
      "|          7|        70027|\n",
      "+-----------+-------------+\n",
      "\n"
     ]
    },
    {
     "name": "stderr",
     "output_type": "stream",
     "text": [
      "                                                                                \r"
     ]
    }
   ],
   "source": [
    "agg_df.filter('agg_level = \"year_month\"').sort('month').select(['year', 'month', 'total_flights']).show()\n",
    "agg_df.filter('agg_level = \"day_of_week\"').sort('day_of_week').select(['day_of_week', 'total_flights']).show()"
   ]
  },
  {
   "cell_type": "markdown",
   "id": "9ab0f209-a833-43b7-a00d-9fb6296ba21a",
   "metadata": {},
   "source": [
    "## What percentage of flights experienced a departure delay in 2015? Among those flights, what was the average delay time, in minutes?"
   ]
  },
  {
   "cell_type": "code",
   "execution_count": 62,
   "id": "7d1266f1-a378-4fc2-a8f2-5f59a23cbd79",
   "metadata": {},
   "outputs": [
    {
     "name": "stderr",
     "output_type": "stream",
     "text": [
      "[Stage 347:================================>                       (7 + 4) / 12]\r"
     ]
    },
    {
     "name": "stdout",
     "output_type": "stream",
     "text": [
      "+----+-------------------+-----------------+\n",
      "|year|       delayed_rate|   avg_delay_time|\n",
      "+----+-------------------+-----------------+\n",
      "|2015|0.36581702438814573|9.396523327726925|\n",
      "+----+-------------------+-----------------+\n",
      "\n"
     ]
    },
    {
     "name": "stderr",
     "output_type": "stream",
     "text": [
      "                                                                                \r"
     ]
    }
   ],
   "source": [
    "agg_df.filter('agg_level = \"year\"').select(['year', 'delayed_rate', 'avg_delay_time']).show()"
   ]
  },
  {
   "attachments": {},
   "cell_type": "markdown",
   "id": "99c95c89-c68f-4135-aaca-91beefb1c09a",
   "metadata": {},
   "source": [
    "## How does the % of delayed flights vary throughout the year? What about for flights leaving from Boston (BOS) specifically?\n",
    "\n"
   ]
  },
  {
   "cell_type": "code",
   "execution_count": 64,
   "id": "a68c8a1e-c521-48cc-8f5d-e21faf28ea59",
   "metadata": {},
   "outputs": [
    {
     "name": "stderr",
     "output_type": "stream",
     "text": [
      "[Stage 357:=====================================>                  (8 + 4) / 12]\r"
     ]
    },
    {
     "name": "stdout",
     "output_type": "stream",
     "text": [
      "+----+-----+-------------------+------------------+\n",
      "|year|month|       delayed_rate|    avg_delay_time|\n",
      "+----+-----+-------------------+------------------+\n",
      "|2015|    1|0.37983336893826103|10.075384480567848|\n",
      "|2015|    2|0.40365685426360215|11.687378926460852|\n",
      "|2015|    3|0.38585324846883634| 9.496233367451381|\n",
      "|2015|    4| 0.3439235679350079| 7.574346217363129|\n",
      "|2015|    5| 0.3627303233066088| 9.689226771685512|\n",
      "|2015|    6|0.42641824580938936|13.978660943858442|\n",
      "|2015|    7|0.40168317022796146|11.400552808813798|\n",
      "|2015|    8| 0.3771588610549245|10.002964562677922|\n",
      "|2015|    9| 0.2879868113987197| 5.003096774193549|\n",
      "|2015|   10|  0.297975658730484| 5.071072883657764|\n",
      "|2015|   11| 0.3233034434053117|  6.84846913420194|\n",
      "|2015|   12|0.39458579449395753|11.853406364775067|\n",
      "+----+-----+-------------------+------------------+\n",
      "\n"
     ]
    },
    {
     "name": "stderr",
     "output_type": "stream",
     "text": [
      "                                                                                \r"
     ]
    }
   ],
   "source": [
    "agg_df.filter('agg_level = \"year_month\"').select(['year', 'month', 'delayed_rate', 'avg_delay_time']).sort(['year', 'month']).show()"
   ]
  },
  {
   "cell_type": "markdown",
   "id": "f4c4816f-a027-49dd-9f74-27b869bd2b0c",
   "metadata": {},
   "source": [
    "## Which airlines seem to be most and least reliable, in terms of on-time departure?"
   ]
  },
  {
   "cell_type": "code",
   "execution_count": 65,
   "id": "e97da804-32e8-44eb-afdd-e82fda807943",
   "metadata": {},
   "outputs": [
    {
     "name": "stderr",
     "output_type": "stream",
     "text": [
      "[Stage 362:=====================================>                  (8 + 4) / 12]\r"
     ]
    },
    {
     "name": "stdout",
     "output_type": "stream",
     "text": [
      "+-------+-------------------+-------------------+\n",
      "|airline|       delayed_rate|     avg_delay_time|\n",
      "+-------+-------------------+-------------------+\n",
      "|     AA|0.34133483820351534|  9.000586215559835|\n",
      "|     AS| 0.2522248243559719| 1.6896754468485418|\n",
      "|     B6| 0.3794398137718705| 11.254301957342898|\n",
      "|     DL|0.32171158706018227|  7.427644424026645|\n",
      "|     EV| 0.2974937387253271|  8.991135963177388|\n",
      "|     F9| 0.3815150176678445| 12.697622750499889|\n",
      "|     HA| 0.2669011332551778|0.13438683557529058|\n",
      "|     MQ| 0.3180010198878123| 10.027902822436584|\n",
      "|     NK| 0.4437920177006212| 15.850615571354258|\n",
      "|     OO| 0.2950320076273495|  7.859373919059149|\n",
      "|     UA|0.49861929130056964| 14.341261775397726|\n",
      "|     US|0.31385292206169074|   6.30062194127243|\n",
      "|     VX| 0.3775694787041605|  8.873712196743105|\n",
      "|     WN| 0.4490405862995406|  10.63296968721066|\n",
      "+-------+-------------------+-------------------+\n",
      "\n"
     ]
    },
    {
     "name": "stderr",
     "output_type": "stream",
     "text": [
      "                                                                                \r"
     ]
    }
   ],
   "source": [
    "agg_df.filter('agg_level = \"airline\"').select(['airline', 'delayed_rate', 'avg_delay_time']).sort('airline').show()"
   ]
  },
  {
   "cell_type": "markdown",
   "id": "d777aa5a-0a92-4ef0-ae02-45108d1847ab",
   "metadata": {},
   "source": [
    "## How many flights were cancelled in 2015? What % of cancellations were due to weather? What % were due to the Airline/Carrier?"
   ]
  },
  {
   "cell_type": "code",
   "execution_count": 66,
   "id": "30002b2a-780f-4c0b-8b0a-c50ed93bee7d",
   "metadata": {},
   "outputs": [
    {
     "name": "stderr",
     "output_type": "stream",
     "text": [
      "[Stage 367:==========================================>             (9 + 3) / 12]\r"
     ]
    },
    {
     "name": "stdout",
     "output_type": "stream",
     "text": [
      "+----+-----------------+-----------------------+-----------------------+-----------------------+-----------------------+\n",
      "|year|cancelled_flights|percent_cancellations_A|percent_cancellations_B|percent_cancellations_C|percent_cancellations_D|\n",
      "+----+-----------------+-----------------------+-----------------------+-----------------------+-----------------------+\n",
      "|2015|             9044|     0.2758735072976559|     0.5466607695709863|     0.1774657231313578|                    0.0|\n",
      "+----+-----------------+-----------------------+-----------------------+-----------------------+-----------------------+\n",
      "\n"
     ]
    },
    {
     "name": "stderr",
     "output_type": "stream",
     "text": [
      "                                                                                \r"
     ]
    }
   ],
   "source": [
    "agg_df.filter('agg_level = \"year\"').select(['year', 'cancelled_flights', 'percent_cancellations_A', 'percent_cancellations_B', 'percent_cancellations_C', 'percent_cancellations_D']).sort('airline').show()\n"
   ]
  }
 ],
 "metadata": {
  "kernelspec": {
   "display_name": "Python 3 (ipykernel)",
   "language": "python",
   "name": "python3"
  },
  "language_info": {
   "codemirror_mode": {
    "name": "ipython",
    "version": 3
   },
   "file_extension": ".py",
   "mimetype": "text/x-python",
   "name": "python",
   "nbconvert_exporter": "python",
   "pygments_lexer": "ipython3",
   "version": "3.9.18"
  }
 },
 "nbformat": 4,
 "nbformat_minor": 5
}
