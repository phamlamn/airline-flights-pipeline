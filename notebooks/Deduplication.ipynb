{
 "cells": [
  {
   "cell_type": "code",
   "execution_count": 1,
   "id": "a6e326c9-47f5-4506-8041-0369d9120994",
   "metadata": {},
   "outputs": [
    {
     "data": {
      "text/html": [
       "<style>pre { white-space: pre !important; }</style>"
      ],
      "text/plain": [
       "<IPython.core.display.HTML object>"
      ]
     },
     "metadata": {},
     "output_type": "display_data"
    }
   ],
   "source": [
    "## Optional\n",
    "# Format output of Jupyter Notebook\n",
    "from IPython.core.display import HTML\n",
    "display(HTML(\"<style>pre { white-space: pre !important; }</style>\"))\n",
    "\n",
    "# Hide python warnings\n",
    "import warnings\n",
    "warnings.filterwarnings('ignore')"
   ]
  },
  {
   "cell_type": "code",
   "execution_count": 2,
   "id": "fcb9e839-f6ad-4701-957d-6124f03bb5dc",
   "metadata": {},
   "outputs": [
    {
     "name": "stderr",
     "output_type": "stream",
     "text": [
      "25/01/04 17:46:45 WARN SparkSession: Using an existing Spark session; only runtime SQL configurations will take effect.\n"
     ]
    }
   ],
   "source": [
    "from pyspark.sql import SparkSession, DataFrame\n",
    "from pyspark.sql.types import StructType, StructField, IntegerType, StringType, DateType\n",
    "from pyspark.sql.functions import lit, isnull, when, count, col, regexp_extract, concat_ws, to_date, expr, quarter, when, date_add, year, month, day, dayofweek, broadcast, avg, min, max, like\n",
    "\n",
    "# Define spark session config\n",
    "spark_configs = {\n",
    "    'spark.master': 'spark://spark-iceberg:7077',\n",
    "    'spark.sql.catalog.prod': 'org.apache.iceberg.spark.SparkCatalog',\n",
    "    'spark.sql.catalog.prod.io-impl': 'org.apache.iceberg.aws.s3.S3FileIO',\n",
    "    'spark.sql.catalog.prod.s3.endpoint': 'http://minio:9000',\n",
    "    'spark.sql.catalog.prod.type': 'rest',\n",
    "    'spark.sql.catalog.prod.uri': 'http://rest:8181',\n",
    "    'spark.sql.catalog.prod.warehouse': 's3://warehouse',\n",
    "    'spark.sql.defaultCatalog': 'prod',\n",
    "    'spark.driver.memory': '1G',\n",
    "    'spark.executor.memory': '1G'\n",
    "}\n",
    "\n",
    "# Initialize SparkSession\n",
    "spark = (\n",
    "    SparkSession\n",
    "    .builder\n",
    "    .appName('Dedup testing')\n",
    "    .config(map=spark_configs)\n",
    "    .getOrCreate()\n",
    ")"
   ]
  },
  {
   "cell_type": "code",
   "execution_count": 3,
   "id": "82c190e2-44d9-4837-a9cd-d65890ee2983",
   "metadata": {},
   "outputs": [
    {
     "name": "stderr",
     "output_type": "stream",
     "text": [
      "25/01/04 17:46:50 WARN SparkStringUtils: Truncated the string representation of a plan since it was too large. This behavior can be adjusted by setting 'spark.sql.debug.maxToStringFields'.\n"
     ]
    },
    {
     "data": {
      "text/plain": [
       "DataFrame[date: date, airline: string, flight_number: int, tail_number: string, origin_airport: string, destination_airport: string, scheduled_departure: int, departure_time: int, departure_delay: int, taxi_out: int, wheels_off: int, scheduled_time: int, elapsed_time: int, air_time: int, distance: int, wheels_on: int, taxi_in: int, scheduled_arrival: int, arrival_time: int, arrival_delay: int, diverted: int, cancelled: int, cancellation_reason: string, air_system_delay: int, security_delay: int, airline_delay: int, late_aircraft_delay: int, weather_delay: int, is_delayed: int]"
      ]
     },
     "execution_count": 3,
     "metadata": {},
     "output_type": "execute_result"
    }
   ],
   "source": [
    "def do_raw_flights_transformation(spark: SparkSession, input_df: DataFrame) -> DataFrame:\n",
    "    # Add date column and remove other date-related columns\n",
    "    flights_df = input_df \\\n",
    "        .withColumn('date', to_date(concat_ws('-', 'year', 'month', 'day'))) \\\n",
    "        .drop('year', 'month', 'day', 'day_of_week')\n",
    "\n",
    "    # Add is_delayed column (when scheduled_departure > 0)\n",
    "    flights_df = flights_df \\\n",
    "        .withColumn(\n",
    "            'is_delayed',\n",
    "            when(col('departure_delay') > 0, lit(1)).otherwise(lit(0))\n",
    "        )\n",
    "\n",
    "    # Rearrange date to be first column,\n",
    "    flights_df = flights_df.select('date', *[col(c) for c in flights_df.columns if c != 'date'])\n",
    "\n",
    "    # Sort by date and schedule_departure time\n",
    "    flights_df = flights_df.sort(['date', 'scheduled_departure'])\n",
    "    \n",
    "    return flights_df\n",
    "\n",
    "def remove_duplicate_flights(spark: SparkSession, input_df: DataFrame) -> DataFrame:\n",
    "    \"\"\"\n",
    "    Remove duplicate flights based on unique columns in the input DataFrame.\n",
    "\n",
    "    Args:\n",
    "        spark: SparkSession object\n",
    "        input_df: Input DataFrame\n",
    "    \n",
    "    Returns:\n",
    "        DataFrame with duplicates removed\n",
    "    \"\"\"\n",
    "    # Deduplicate over unique columns\n",
    "    deduped_df = input_df.dropDuplicates([\"date\", \"airline\", \"flight_number\", \"scheduled_departure\"])\n",
    "    return deduped_df\n",
    "\n",
    "flights_schema = StructType([\n",
    "    StructField(\"year\", IntegerType(), False),   # Non-Nullable\n",
    "    StructField(\"month\", IntegerType(), False),  # Non-Nullable\n",
    "    StructField(\"day\", IntegerType(), False),    # Non-Nullable\n",
    "    StructField(\"day_of_week\", IntegerType(), False),    # Non-Nullable\n",
    "    StructField(\"airline\", StringType(), False),         # Non-Nullable\n",
    "    StructField(\"flight_number\", IntegerType(), False),  # Non-Nullable\n",
    "    StructField(\"tail_number\", StringType(), True),\n",
    "    StructField(\"origin_airport\", StringType(), False),  # Non-Nullable\n",
    "    StructField(\"destination_airport\", StringType(), False),   # Non-Nullable\n",
    "    StructField(\"scheduled_departure\", IntegerType(), False),  # Non-Nullable\n",
    "    StructField(\"departure_time\", IntegerType(), True),\n",
    "    StructField(\"departure_delay\", IntegerType(), True),\n",
    "    StructField(\"taxi_out\", IntegerType(), True),\n",
    "    StructField(\"wheels_off\", IntegerType(), True),\n",
    "    StructField(\"scheduled_time\", IntegerType(), True),\n",
    "    StructField(\"elapsed_time\", IntegerType(), True),\n",
    "    StructField(\"air_time\", IntegerType(), True),\n",
    "    StructField(\"distance\", IntegerType(), False),  # Non-Nullable\n",
    "    StructField(\"wheels_on\", IntegerType(), True),\n",
    "    StructField(\"taxi_in\", IntegerType(), True),\n",
    "    StructField(\"scheduled_arrival\", IntegerType(), False),  # Non-Nullable\n",
    "    StructField(\"arrival_time\", IntegerType(), True),\n",
    "    StructField(\"arrival_delay\", IntegerType(), True),\n",
    "    StructField(\"diverted\", IntegerType(), False),   # Non-Nullable\n",
    "    StructField(\"cancelled\", IntegerType(), False),  # Non-Nullable\n",
    "    StructField(\"cancellation_reason\", StringType(), True),\n",
    "    StructField(\"air_system_delay\", IntegerType(), True),\n",
    "    StructField(\"security_delay\", IntegerType(), True),\n",
    "    StructField(\"airline_delay\", IntegerType(), True),\n",
    "    StructField(\"late_aircraft_delay\", IntegerType(), True),\n",
    "    StructField(\"weather_delay\", IntegerType(), True)\n",
    "])\n",
    "\n",
    "filename = '/home/iceberg/data/flights.csv'\n",
    "\n",
    "input_df = spark.read \\\n",
    "                .schema(flights_schema) \\\n",
    "                .option('header', True) \\\n",
    "                .csv(filename)\n",
    "\n",
    "input_df = do_raw_flights_transformation(spark, input_df)\n",
    "input_df = remove_duplicate_flights(spark, input_df)\n",
    "\n",
    "input_df = input_df.filter(month(col('date')) == 1)\n",
    "\n",
    "input_df.persist()"
   ]
  },
  {
   "cell_type": "code",
   "execution_count": 4,
   "id": "0ce7aadd-a30d-47ea-9b32-9a546f414d85",
   "metadata": {},
   "outputs": [
    {
     "data": {
      "text/plain": [
       "DataFrame[date: date, airline: string, flight_number: int, tail_number: string, origin_airport: string, destination_airport: string, scheduled_departure: int, departure_time: int, departure_delay: int, taxi_out: int, wheels_off: int, scheduled_time: int, elapsed_time: int, air_time: int, distance: int, wheels_on: int, taxi_in: int, scheduled_arrival: int, arrival_time: int, arrival_delay: int, diverted: int, cancelled: int, cancellation_reason: string, air_system_delay: int, security_delay: int, airline_delay: int, late_aircraft_delay: int, weather_delay: int, is_delayed: int]"
      ]
     },
     "execution_count": 4,
     "metadata": {},
     "output_type": "execute_result"
    }
   ],
   "source": [
    "source_df = spark.table('prod.db.fact_flights')\n",
    "source_df = source_df.filter(month(col('date')) == 1)\n",
    "\n",
    "source_df.persist()"
   ]
  },
  {
   "cell_type": "code",
   "execution_count": 5,
   "id": "e28820c7-baf6-4f41-939c-cf0e6403a995",
   "metadata": {
    "collapsed": true,
    "jupyter": {
     "outputs_hidden": true
    }
   },
   "outputs": [
    {
     "name": "stderr",
     "output_type": "stream",
     "text": [
      "                                                                                \r"
     ]
    },
    {
     "name": "stdout",
     "output_type": "stream",
     "text": [
      "+----------+-------+-------------+-----------+--------------+-------------------+-------------------+--------------+---------------+--------+----------+--------------+------------+--------+--------+---------+-------+-----------------+------------+-------------+--------+---------+-------------------+----------------+--------------+-------------+-------------------+-------------+----------+\n",
      "|      date|airline|flight_number|tail_number|origin_airport|destination_airport|scheduled_departure|departure_time|departure_delay|taxi_out|wheels_off|scheduled_time|elapsed_time|air_time|distance|wheels_on|taxi_in|scheduled_arrival|arrival_time|arrival_delay|diverted|cancelled|cancellation_reason|air_system_delay|security_delay|airline_delay|late_aircraft_delay|weather_delay|is_delayed|\n",
      "+----------+-------+-------------+-----------+--------------+-------------------+-------------------+--------------+---------------+--------+----------+--------------+------------+--------+--------+---------+-------+-----------------+------------+-------------+--------+---------+-------------------+----------------+--------------+-------------+-------------------+-------------+----------+\n",
      "|2015-01-01|     AA|            9|     N792AA|           JFK|                LAX|                700|           649|            -11|      22|       711|           380|         397|     368|    2475|     1019|      7|             1020|        1026|            6|       0|        0|               NULL|            NULL|          NULL|         NULL|               NULL|         NULL|         0|\n",
      "|2015-01-01|     AA|           15|     N783AA|           JFK|                SFO|                800|           755|             -5|      57|       852|           400|         453|     388|    2586|     1220|      8|             1140|        1228|           48|       0|        0|               NULL|              48|             0|            0|                  0|            0|         0|\n",
      "|2015-01-01|     AA|           17|     N019AA|           ATL|                MIA|                700|           656|             -4|      15|       711|           112|         106|      82|     594|      833|      9|              852|         842|          -10|       0|        0|               NULL|            NULL|          NULL|         NULL|               NULL|         NULL|         0|\n",
      "|2015-01-01|     AA|           23|     N371AA|           DFW|                SFO|                755|           841|             46|      35|       916|           230|         233|     190|    1464|     1026|      8|              945|        1034|           49|       0|        0|               NULL|               3|             0|           46|                  0|            0|         1|\n",
      "|2015-01-01|     AA|           24|     N784AA|           SFO|                JFK|                720|           714|             -6|      20|       734|           340|         332|     307|    2586|     1541|      5|             1600|        1546|          -14|       0|        0|               NULL|            NULL|          NULL|         NULL|               NULL|         NULL|         0|\n",
      "|2015-01-01|     AA|           31|     N5ESAA|           LAX|                HNL|                805|           828|             23|      12|       840|           365|         362|     346|    2556|     1226|      4|             1210|        1230|           20|       0|        0|               NULL|               0|             0|           20|                  0|            0|         1|\n",
      "|2015-01-01|     AA|           44|     N3AJAA|           LAS|                JFK|                810|           803|             -7|      17|       820|           295|         272|     248|    2248|     1528|      7|             1605|        1535|          -30|       0|        0|               NULL|            NULL|          NULL|         NULL|               NULL|         NULL|         0|\n",
      "|2015-01-01|     AA|           46|     N3CSAA|           SJC|                ORD|                725|           725|              0|      13|       738|           255|         253|     226|    1829|     1324|     14|             1340|        1338|           -2|       0|        0|               NULL|            NULL|          NULL|         NULL|               NULL|         NULL|         0|\n",
      "|2015-01-01|     AA|           48|     N3JXAA|           SAN|                DFW|                835|           830|             -5|      13|       843|           175|         164|     141|    1171|     1304|     10|             1330|        1314|          -16|       0|        0|               NULL|            NULL|          NULL|         NULL|               NULL|         NULL|         0|\n",
      "|2015-01-01|     AA|           50|     N570AA|           SLC|                DFW|                815|           824|              9|      36|       900|           165|         179|     134|     989|     1214|      9|             1200|        1223|           23|       0|        0|               NULL|              14|             0|            9|                  0|            0|         1|\n",
      "|2015-01-01|     AA|           53|     N3LHAA|           DCA|                LAX|                840|           838|             -2|      12|       850|           360|         350|     331|    2311|     1121|      7|             1140|        1128|          -12|       0|        0|               NULL|            NULL|          NULL|         NULL|               NULL|         NULL|         0|\n",
      "|2015-01-01|     AA|           59|     N5DFAA|           LAX|                KOA|                840|           837|             -3|      17|       854|           350|         352|     332|    2504|     1226|      3|             1230|        1229|           -1|       0|        0|               NULL|            NULL|          NULL|         NULL|               NULL|         NULL|         0|\n",
      "|2015-01-01|     AA|           61|     N850AA|           MIA|                DFW|                715|           719|              4|      13|       732|           199|         192|     167|    1121|      919|     12|              934|         931|           -3|       0|        0|               NULL|            NULL|          NULL|         NULL|               NULL|         NULL|         1|\n",
      "|2015-01-01|     AA|           68|     N5EGAA|           SFO|                MIA|                700|           703|              3|      14|       717|           324|         317|     295|    2585|     1512|      8|             1524|        1520|           -4|       0|        0|               NULL|            NULL|          NULL|         NULL|               NULL|         NULL|         1|\n",
      "|2015-01-01|     AA|           70|     N5BTAA|           SAN|                DFW|                705|           659|             -6|      22|       721|           180|         171|     137|    1171|     1138|     12|             1205|        1150|          -15|       0|        0|               NULL|            NULL|          NULL|         NULL|               NULL|         NULL|         0|\n",
      "|2015-01-01|     AA|           72|     N5EKAA|           DFW|                MCO|                600|           606|              6|      18|       624|           145|         142|     120|     985|      924|      4|              925|         928|            3|       0|        0|               NULL|            NULL|          NULL|         NULL|               NULL|         NULL|         1|\n",
      "|2015-01-01|     AA|           76|     N3HPAA|           SFO|                LAX|                730|           723|             -7|      15|       738|            85|          97|      49|     337|      827|     33|              855|         900|            5|       0|        0|               NULL|            NULL|          NULL|         NULL|               NULL|         NULL|         0|\n",
      "|2015-01-01|     AA|           83|     N4XBAA|           MCO|                DFW|                735|           733|             -2|      16|       749|           180|         174|     146|     985|      915|     12|              935|         927|           -8|       0|        0|               NULL|            NULL|          NULL|         NULL|               NULL|         NULL|         0|\n",
      "|2015-01-01|     AA|           84|     N3AXAA|           JFK|                BOS|                730|           734|              4|      17|       751|            70|          65|      44|     187|      835|      4|              840|         839|           -1|       0|        0|               NULL|            NULL|          NULL|         NULL|               NULL|         NULL|         1|\n",
      "|2015-01-01|     AA|           86|     N3GTAA|           PDX|                ORD|                705|           701|             -4|      15|       716|           235|         230|     208|    1739|     1244|      7|             1300|        1251|           -9|       0|        0|               NULL|            NULL|          NULL|         NULL|               NULL|         NULL|         0|\n",
      "+----------+-------+-------------+-----------+--------------+-------------------+-------------------+--------------+---------------+--------+----------+--------------+------------+--------+--------+---------+-------+-----------------+------------+-------------+--------+---------+-------------------+----------------+--------------+-------------+-------------------+-------------+----------+\n",
      "only showing top 20 rows\n",
      "\n"
     ]
    },
    {
     "name": "stderr",
     "output_type": "stream",
     "text": [
      "[Stage 7:====================================================>    (11 + 1) / 12]\r"
     ]
    },
    {
     "name": "stdout",
     "output_type": "stream",
     "text": [
      "+----------+-------+-------------+-----------+--------------+-------------------+-------------------+--------------+---------------+--------+----------+--------------+------------+--------+--------+---------+-------+-----------------+------------+-------------+--------+---------+-------------------+----------------+--------------+-------------+-------------------+-------------+----------+\n",
      "|      date|airline|flight_number|tail_number|origin_airport|destination_airport|scheduled_departure|departure_time|departure_delay|taxi_out|wheels_off|scheduled_time|elapsed_time|air_time|distance|wheels_on|taxi_in|scheduled_arrival|arrival_time|arrival_delay|diverted|cancelled|cancellation_reason|air_system_delay|security_delay|airline_delay|late_aircraft_delay|weather_delay|is_delayed|\n",
      "+----------+-------+-------------+-----------+--------------+-------------------+-------------------+--------------+---------------+--------+----------+--------------+------------+--------+--------+---------+-------+-----------------+------------+-------------+--------+---------+-------------------+----------------+--------------+-------------+-------------------+-------------+----------+\n",
      "|2015-01-01|     AA|            1|     N787AA|           JFK|                LAX|                900|           855|             -5|      17|       912|           390|         402|     378|    2475|     1230|      7|             1230|        1237|            7|       0|        0|               NULL|            NULL|          NULL|         NULL|               NULL|         NULL|         0|\n",
      "|2015-01-01|     AA|            2|     N795AA|           LAX|                JFK|                900|           856|             -4|      16|       912|           335|         295|     271|    2475|     1643|      8|             1735|        1651|          -44|       0|        0|               NULL|            NULL|          NULL|         NULL|               NULL|         NULL|         0|\n",
      "|2015-01-01|     AA|            3|     N798AA|           JFK|                LAX|               1230|          1226|             -4|      19|      1245|           380|         382|     358|    2475|     1543|      5|             1550|        1548|           -2|       0|        0|               NULL|            NULL|          NULL|         NULL|               NULL|         NULL|         0|\n",
      "|2015-01-01|     AA|            4|     N799AA|           LAX|                JFK|               1220|          1214|             -6|      23|      1237|           330|         319|     284|    2475|     2021|     12|             2050|        2033|          -17|       0|        0|               NULL|            NULL|          NULL|         NULL|               NULL|         NULL|         0|\n",
      "|2015-01-01|     AA|            5|     N376AA|           DFW|                HNL|               1305|          1754|            289|      21|      1815|           515|         526|     499|    3784|     2234|      6|             1740|        2240|          300|       0|        0|               NULL|              11|             0|          197|                 92|            0|         1|\n",
      "|2015-01-01|     AA|            6|     N398AA|           OGG|                DFW|               1805|          NULL|           NULL|    NULL|      NULL|           425|        NULL|    NULL|    3711|     NULL|   NULL|              510|        NULL|         NULL|       0|        1|                  A|            NULL|          NULL|         NULL|               NULL|         NULL|         0|\n",
      "|2015-01-01|     AA|            7|     N398AA|           DFW|                OGG|               1215|          1513|            178|      24|      1537|           500|         517|     490|    3711|     1947|      3|             1635|        1950|          195|       0|        0|               NULL|              17|             0|          178|                  0|            0|         1|\n",
      "|2015-01-01|     AA|            8|     N368AA|           HNL|                DFW|               1745|          1933|            108|      15|      1948|           445|         446|     420|    3784|      648|     11|              510|         659|          109|       0|        0|               NULL|               1|             0|            0|                108|            0|         1|\n",
      "|2015-01-01|     AA|            9|     N792AA|           JFK|                LAX|                700|           649|            -11|      22|       711|           380|         397|     368|    2475|     1019|      7|             1020|        1026|            6|       0|        0|               NULL|            NULL|          NULL|         NULL|               NULL|         NULL|         0|\n",
      "|2015-01-01|     AA|           10|     N796AA|           LAX|                JFK|               2150|          2150|              0|      14|      2204|           309|         294|     275|    2475|      539|      5|              559|         544|          -15|       0|        0|               NULL|            NULL|          NULL|         NULL|               NULL|         NULL|         0|\n",
      "|2015-01-01|     AA|           12|     N792AA|           LAX|                JFK|               1115|          1114|             -1|      19|      1133|           335|         321|     287|    2475|     1920|     15|             1950|        1935|          -15|       0|        0|               NULL|            NULL|          NULL|         NULL|               NULL|         NULL|         0|\n",
      "|2015-01-01|     AA|           14|     N5ERAA|           OGG|                LAX|               2300|          2254|             -6|      12|      2306|           305|         289|     267|    2486|      533|     10|              605|         543|          -22|       0|        0|               NULL|            NULL|          NULL|         NULL|               NULL|         NULL|         0|\n",
      "|2015-01-01|     AA|           15|     N783AA|           JFK|                SFO|                800|           755|             -5|      57|       852|           400|         453|     388|    2586|     1220|      8|             1140|        1228|           48|       0|        0|               NULL|              48|             0|            0|                  0|            0|         0|\n",
      "|2015-01-01|     AA|           16|     N783AA|           SFO|                JFK|               1245|          1316|             31|      18|      1334|           330|         333|     305|    2586|     2139|     10|             2115|        2149|           34|       0|        0|               NULL|               3|             0|            0|                 31|            0|         1|\n",
      "|2015-01-01|     AA|           17|     N019AA|           ATL|                MIA|                700|           656|             -4|      15|       711|           112|         106|      82|     594|      833|      9|              852|         842|          -10|       0|        0|               NULL|            NULL|          NULL|         NULL|               NULL|         NULL|         0|\n",
      "|2015-01-01|     AA|           19|     N786AA|           JFK|                LAX|               1100|          1055|             -5|      17|      1112|           380|         378|     354|    2475|     1406|      7|             1420|        1413|           -7|       0|        0|               NULL|            NULL|          NULL|         NULL|               NULL|         NULL|         0|\n",
      "|2015-01-01|     AA|           20|     N789AA|           SFO|                JFK|               1500|          1503|              3|      19|      1522|           325|         328|     301|    2586|     2323|      8|             2325|        2331|            6|       0|        0|               NULL|            NULL|          NULL|         NULL|               NULL|         NULL|         1|\n",
      "|2015-01-01|     AA|           21|     N795AA|           JFK|                LAX|               1845|          1851|              6|      29|      1920|           385|         407|     368|    2475|     2228|     10|             2210|        2238|           28|       0|        0|               NULL|              22|             0|            6|                  0|            0|         1|\n",
      "|2015-01-01|     AA|           22|     N786AA|           LAX|                JFK|               1515|          1512|             -3|      23|      1535|           320|         317|     277|    2475|     2312|     17|             2335|        2329|           -6|       0|        0|               NULL|            NULL|          NULL|         NULL|               NULL|         NULL|         0|\n",
      "|2015-01-01|     AA|           23|     N371AA|           DFW|                SFO|                755|           841|             46|      35|       916|           230|         233|     190|    1464|     1026|      8|              945|        1034|           49|       0|        0|               NULL|               3|             0|           46|                  0|            0|         1|\n",
      "+----------+-------+-------------+-----------+--------------+-------------------+-------------------+--------------+---------------+--------+----------+--------------+------------+--------+--------+---------+-------+-----------------+------------+-------------+--------+---------+-------------------+----------------+--------------+-------------+-------------------+-------------+----------+\n",
      "only showing top 20 rows\n",
      "\n"
     ]
    },
    {
     "name": "stderr",
     "output_type": "stream",
     "text": [
      "                                                                                \r"
     ]
    }
   ],
   "source": [
    "input_df.show()\n",
    "source_df.show()"
   ]
  },
  {
   "cell_type": "code",
   "execution_count": 7,
   "id": "110c967d-f17c-462d-99a2-6d40758c37e1",
   "metadata": {},
   "outputs": [
    {
     "name": "stdout",
     "output_type": "stream",
     "text": [
      "input_df.date <=> source_df.date AND input_df.airline <=> source_df.airline AND input_df.flight_number <=> source_df.flight_number AND input_df.tail_number <=> source_df.tail_number AND input_df.origin_airport <=> source_df.origin_airport AND input_df.destination_airport <=> source_df.destination_airport AND input_df.scheduled_departure <=> source_df.scheduled_departure AND input_df.departure_time <=> source_df.departure_time AND input_df.departure_delay <=> source_df.departure_delay AND input_df.taxi_out <=> source_df.taxi_out AND input_df.wheels_off <=> source_df.wheels_off AND input_df.scheduled_time <=> source_df.scheduled_time AND input_df.elapsed_time <=> source_df.elapsed_time AND input_df.air_time <=> source_df.air_time AND input_df.distance <=> source_df.distance AND input_df.wheels_on <=> source_df.wheels_on AND input_df.taxi_in <=> source_df.taxi_in AND input_df.scheduled_arrival <=> source_df.scheduled_arrival AND input_df.arrival_time <=> source_df.arrival_time AND input_df.arrival_delay <=> source_df.arrival_delay AND input_df.diverted <=> source_df.diverted AND input_df.cancelled <=> source_df.cancelled AND input_df.cancellation_reason <=> source_df.cancellation_reason AND input_df.air_system_delay <=> source_df.air_system_delay AND input_df.security_delay <=> source_df.security_delay AND input_df.airline_delay <=> source_df.airline_delay AND input_df.late_aircraft_delay <=> source_df.late_aircraft_delay AND input_df.weather_delay <=> source_df.weather_delay AND input_df.is_delayed <=> source_df.is_delayed\n"
     ]
    },
    {
     "name": "stderr",
     "output_type": "stream",
     "text": [
      "[Stage 27:======================================>                   (2 + 1) / 3]\r"
     ]
    },
    {
     "name": "stdout",
     "output_type": "stream",
     "text": [
      "+----+-------+-------------+-----------+--------------+-------------------+-------------------+--------------+---------------+--------+----------+--------------+------------+--------+--------+---------+-------+-----------------+------------+-------------+--------+---------+-------------------+----------------+--------------+-------------+-------------------+-------------+----------+\n",
      "|date|airline|flight_number|tail_number|origin_airport|destination_airport|scheduled_departure|departure_time|departure_delay|taxi_out|wheels_off|scheduled_time|elapsed_time|air_time|distance|wheels_on|taxi_in|scheduled_arrival|arrival_time|arrival_delay|diverted|cancelled|cancellation_reason|air_system_delay|security_delay|airline_delay|late_aircraft_delay|weather_delay|is_delayed|\n",
      "+----+-------+-------------+-----------+--------------+-------------------+-------------------+--------------+---------------+--------+----------+--------------+------------+--------+--------+---------+-------+-----------------+------------+-------------+--------+---------+-------------------+----------------+--------------+-------------+-------------------+-------------+----------+\n",
      "+----+-------+-------------+-----------+--------------+-------------------+-------------------+--------------+---------------+--------+----------+--------------+------------+--------+--------+---------+-------+-----------------+------------+-------------+--------+---------+-------------------+----------------+--------------+-------------+-------------------+-------------+----------+\n",
      "\n"
     ]
    },
    {
     "name": "stderr",
     "output_type": "stream",
     "text": [
      "                                                                                \r"
     ]
    },
    {
     "data": {
      "text/plain": [
       "False"
      ]
     },
     "execution_count": 7,
     "metadata": {},
     "output_type": "execute_result"
    }
   ],
   "source": [
    "# Generate null-safe join condition for all columns\n",
    "join_condition = \" AND \".join([f\"input_df.{col} <=> source_df.{col}\" for col in input_df.columns])\n",
    "print(join_condition)\n",
    "\n",
    "anti_join_df = input_df.alias('input_df').join(\n",
    "    source_df.alias('source_df'),\n",
    "    on=expr(join_condition),\n",
    "    how='left_anti'\n",
    ")\n",
    "anti_join_df.show()\n",
    "anti_join_df is None"
   ]
  },
  {
   "cell_type": "code",
   "execution_count": 21,
   "id": "068cc50e-933f-4ee9-ad91-841aa407f022",
   "metadata": {},
   "outputs": [
    {
     "name": "stderr",
     "output_type": "stream",
     "text": [
      "                                                                                \r"
     ]
    },
    {
     "name": "stdout",
     "output_type": "stream",
     "text": [
      "+----------+-------+-------------+-----------+--------------+-------------------+-------------------+--------------+---------------+--------+----------+--------------+------------+--------+--------+---------+-------+-----------------+------------+-------------+--------+---------+-------------------+----------------+--------------+-------------+-------------------+-------------+----------+\n",
      "|      date|airline|flight_number|tail_number|origin_airport|destination_airport|scheduled_departure|departure_time|departure_delay|taxi_out|wheels_off|scheduled_time|elapsed_time|air_time|distance|wheels_on|taxi_in|scheduled_arrival|arrival_time|arrival_delay|diverted|cancelled|cancellation_reason|air_system_delay|security_delay|airline_delay|late_aircraft_delay|weather_delay|is_delayed|\n",
      "+----------+-------+-------------+-----------+--------------+-------------------+-------------------+--------------+---------------+--------+----------+--------------+------------+--------+--------+---------+-------+-----------------+------------+-------------+--------+---------+-------------------+----------------+--------------+-------------+-------------------+-------------+----------+\n",
      "|2015-01-01|     AA|          310|     N201AA|           MFE|                DFW|                605|          NULL|           NULL|    NULL|      NULL|            95|        NULL|    NULL|     469|     NULL|   NULL|              740|        NULL|         NULL|       0|        1|                  B|            NULL|          NULL|         NULL|               NULL|         NULL|         0|\n",
      "+----------+-------+-------------+-----------+--------------+-------------------+-------------------+--------------+---------------+--------+----------+--------------+------------+--------+--------+---------+-------+-----------------+------------+-------------+--------+---------+-------------------+----------------+--------------+-------------+-------------------+-------------+----------+\n",
      "\n",
      "+----------+-------+-------------+-----------+--------------+-------------------+-------------------+--------------+---------------+--------+----------+--------------+------------+--------+--------+---------+-------+-----------------+------------+-------------+--------+---------+-------------------+----------------+--------------+-------------+-------------------+-------------+----------+\n",
      "|      date|airline|flight_number|tail_number|origin_airport|destination_airport|scheduled_departure|departure_time|departure_delay|taxi_out|wheels_off|scheduled_time|elapsed_time|air_time|distance|wheels_on|taxi_in|scheduled_arrival|arrival_time|arrival_delay|diverted|cancelled|cancellation_reason|air_system_delay|security_delay|airline_delay|late_aircraft_delay|weather_delay|is_delayed|\n",
      "+----------+-------+-------------+-----------+--------------+-------------------+-------------------+--------------+---------------+--------+----------+--------------+------------+--------+--------+---------+-------+-----------------+------------+-------------+--------+---------+-------------------+----------------+--------------+-------------+-------------------+-------------+----------+\n",
      "|2015-01-01|     AA|          310|     N201AA|           MFE|                DFW|                605|          NULL|           NULL|    NULL|      NULL|            95|        NULL|    NULL|     469|     NULL|   NULL|              740|        NULL|         NULL|       0|        1|                  B|            NULL|          NULL|         NULL|               NULL|         NULL|         0|\n",
      "+----------+-------+-------------+-----------+--------------+-------------------+-------------------+--------------+---------------+--------+----------+--------------+------------+--------+--------+---------+-------+-----------------+------------+-------------+--------+---------+-------------------+----------------+--------------+-------------+-------------------+-------------+----------+\n",
      "\n"
     ]
    },
    {
     "name": "stderr",
     "output_type": "stream",
     "text": [
      "                                                                                \r"
     ]
    }
   ],
   "source": [
    "df1 = input_df.filter('date=\"2015-01-01\" AND airline=\"AA\" AND flight_number=\"310\"')\n",
    "df2 = source_df.filter('date=\"2015-01-01\" AND airline=\"AA\" AND flight_number=\"310\"')\n",
    "\n",
    "df1.show()\n",
    "df2.show()\n",
    "\n",
    "import chispa\n",
    "chispa.assert_df_equality(df1, df2, ignore_nullable=True)"
   ]
  },
  {
   "cell_type": "code",
   "execution_count": 27,
   "id": "e5696a7c-f965-49f8-afaa-05495390f539",
   "metadata": {
    "editable": true,
    "slideshow": {
     "slide_type": ""
    },
    "tags": []
   },
   "outputs": [
    {
     "name": "stdout",
     "output_type": "stream",
     "text": [
      "df1.id <=> df2.id AND df1.name <=> df2.name\n",
      "+---+----+\n",
      "| id|name|\n",
      "+---+----+\n",
      "+---+----+\n",
      "\n"
     ]
    }
   ],
   "source": [
    "# input_df.filter('date=\"2015-01-01\" AND airline=\"AA\" AND flight_number=\"310\"').join(\n",
    "#     source_df.filter('date=\"2015-01-01\" AND airline=\"AA\" AND flight_number=\"310\"'),\n",
    "#     on=input_df.filter('date=\"2015-01-01\" AND airline=\"AA\" AND flight_number=\"310\"').columns,\n",
    "#     how='left_anti'\n",
    "# ).show()\n",
    "\n",
    "# Generate null-safe join condition for all columns\n",
    "join_condition = \" AND \".join([f\"df1.{col} <=> df2.{col}\" for col in df1.columns])\n",
    "print(join_condition)\n",
    "\n",
    "df1.alias('df1').join(\n",
    "    df2.alias('df2'),\n",
    "    on=expr(join_condition),\n",
    "    how='left_anti'\n",
    ").show()"
   ]
  },
  {
   "cell_type": "code",
   "execution_count": 25,
   "id": "ce4258bc-1e47-4457-a450-b41d75157392",
   "metadata": {},
   "outputs": [
    {
     "name": "stdout",
     "output_type": "stream",
     "text": [
      "+----+-------+\n",
      "|  id|   name|\n",
      "+----+-------+\n",
      "|NULL|Charlie|\n",
      "+----+-------+\n",
      "\n"
     ]
    }
   ],
   "source": [
    "# Create example DataFrames\n",
    "df1 = spark.createDataFrame([(1, \"Alice\"), (2, \"Bob\"), (None, \"Charlie\")], [\"id\", \"name\"])\n",
    "df2 = spark.createDataFrame([(1, \"Alice\"), (2, \"Bob\"), (None, \"Charlie\")], [\"id\", \"name\"])\n",
    "# df2 = spark.createDataFrame([(2, \"Bob\"), (3, \"Charlie\")], [\"id\", \"name\"])\n",
    "\n",
    "# Perform anti join on all columns\n",
    "anti_join_df = df1.join(\n",
    "    df2,\n",
    "    on=df1.columns,\n",
    "    how=\"left_anti\"\n",
    ")\n",
    "anti_join_df.show()"
   ]
  },
  {
   "cell_type": "code",
   "execution_count": 26,
   "id": "26073493-6863-46eb-8a02-1ba1415424cb",
   "metadata": {},
   "outputs": [
    {
     "name": "stdout",
     "output_type": "stream",
     "text": [
      "+---+----+\n",
      "| id|name|\n",
      "+---+----+\n",
      "+---+----+\n",
      "\n"
     ]
    }
   ],
   "source": [
    "from pyspark.sql.functions import col, expr\n",
    "\n",
    "# Generate null-safe join condition for all columns\n",
    "join_condition = \" AND \".join([f\"df1.{col} <=> df2.{col}\" for col in df1.columns])\n",
    "\n",
    "# Perform anti join with the null-safe condition\n",
    "anti_join_df = df1.alias(\"df1\").join(df2.alias(\"df2\"), expr(join_condition), how=\"left_anti\")\n",
    "anti_join_df.show()"
   ]
  },
  {
   "cell_type": "code",
   "execution_count": 53,
   "id": "242fedee-19d1-487f-ac41-bb8382b60b76",
   "metadata": {},
   "outputs": [
    {
     "data": {
      "text/plain": [
       "str"
      ]
     },
     "execution_count": 53,
     "metadata": {},
     "output_type": "execute_result"
    }
   ],
   "source": [
    "input_df.columns"
   ]
  },
  {
   "cell_type": "code",
   "execution_count": 10,
   "id": "da4b2300-3bca-4089-aea0-c123196a7e36",
   "metadata": {
    "collapsed": true,
    "jupyter": {
     "outputs_hidden": true
    }
   },
   "outputs": [
    {
     "name": "stdout",
     "output_type": "stream",
     "text": [
      "root\n",
      " |-- date: date (nullable = true)\n",
      " |-- airline: string (nullable = true)\n",
      " |-- flight_number: integer (nullable = true)\n",
      " |-- tail_number: string (nullable = true)\n",
      " |-- origin_airport: string (nullable = true)\n",
      " |-- destination_airport: string (nullable = true)\n",
      " |-- scheduled_departure: integer (nullable = true)\n",
      " |-- departure_time: integer (nullable = true)\n",
      " |-- departure_delay: integer (nullable = true)\n",
      " |-- taxi_out: integer (nullable = true)\n",
      " |-- wheels_off: integer (nullable = true)\n",
      " |-- scheduled_time: integer (nullable = true)\n",
      " |-- elapsed_time: integer (nullable = true)\n",
      " |-- air_time: integer (nullable = true)\n",
      " |-- distance: integer (nullable = true)\n",
      " |-- wheels_on: integer (nullable = true)\n",
      " |-- taxi_in: integer (nullable = true)\n",
      " |-- scheduled_arrival: integer (nullable = true)\n",
      " |-- arrival_time: integer (nullable = true)\n",
      " |-- arrival_delay: integer (nullable = true)\n",
      " |-- diverted: integer (nullable = true)\n",
      " |-- cancelled: integer (nullable = true)\n",
      " |-- cancellation_reason: string (nullable = true)\n",
      " |-- air_system_delay: integer (nullable = true)\n",
      " |-- security_delay: integer (nullable = true)\n",
      " |-- airline_delay: integer (nullable = true)\n",
      " |-- late_aircraft_delay: integer (nullable = true)\n",
      " |-- weather_delay: integer (nullable = true)\n",
      " |-- is_delayed: integer (nullable = false)\n",
      "\n",
      "root\n",
      " |-- date: date (nullable = true)\n",
      " |-- airline: string (nullable = true)\n",
      " |-- flight_number: integer (nullable = true)\n",
      " |-- tail_number: string (nullable = true)\n",
      " |-- origin_airport: string (nullable = true)\n",
      " |-- destination_airport: string (nullable = true)\n",
      " |-- scheduled_departure: integer (nullable = true)\n",
      " |-- departure_time: integer (nullable = true)\n",
      " |-- departure_delay: integer (nullable = true)\n",
      " |-- taxi_out: integer (nullable = true)\n",
      " |-- wheels_off: integer (nullable = true)\n",
      " |-- scheduled_time: integer (nullable = true)\n",
      " |-- elapsed_time: integer (nullable = true)\n",
      " |-- air_time: integer (nullable = true)\n",
      " |-- distance: integer (nullable = true)\n",
      " |-- wheels_on: integer (nullable = true)\n",
      " |-- taxi_in: integer (nullable = true)\n",
      " |-- scheduled_arrival: integer (nullable = true)\n",
      " |-- arrival_time: integer (nullable = true)\n",
      " |-- arrival_delay: integer (nullable = true)\n",
      " |-- diverted: integer (nullable = true)\n",
      " |-- cancelled: integer (nullable = true)\n",
      " |-- cancellation_reason: string (nullable = true)\n",
      " |-- air_system_delay: integer (nullable = true)\n",
      " |-- security_delay: integer (nullable = true)\n",
      " |-- airline_delay: integer (nullable = true)\n",
      " |-- late_aircraft_delay: integer (nullable = true)\n",
      " |-- weather_delay: integer (nullable = true)\n",
      " |-- is_delayed: integer (nullable = true)\n",
      "\n"
     ]
    }
   ],
   "source": [
    "input_df.printSchema()\n",
    "source_df.printSchema()"
   ]
  },
  {
   "cell_type": "code",
   "execution_count": 28,
   "id": "b3ae4f5b-354c-4dd4-ab40-71cadbf2c626",
   "metadata": {},
   "outputs": [
    {
     "data": {
      "text/plain": [
       "DataFrame[date: date, airline: string, flight_number: int, tail_number: string, origin_airport: string, destination_airport: string, scheduled_departure: int, departure_time: int, departure_delay: int, taxi_out: int, wheels_off: int, scheduled_time: int, elapsed_time: int, air_time: int, distance: int, wheels_on: int, taxi_in: int, scheduled_arrival: int, arrival_time: int, arrival_delay: int, diverted: int, cancelled: int, cancellation_reason: string, air_system_delay: int, security_delay: int, airline_delay: int, late_aircraft_delay: int, weather_delay: int, is_delayed: int]"
      ]
     },
     "execution_count": 28,
     "metadata": {},
     "output_type": "execute_result"
    }
   ],
   "source": [
    "input_df.unpersist()\n",
    "source_df.unpersist()"
   ]
  },
  {
   "cell_type": "code",
   "execution_count": null,
   "id": "6696243e-9d44-448f-8fcb-044199bca360",
   "metadata": {},
   "outputs": [],
   "source": []
  }
 ],
 "metadata": {
  "kernelspec": {
   "display_name": "Python 3 (ipykernel)",
   "language": "python",
   "name": "python3"
  },
  "language_info": {
   "codemirror_mode": {
    "name": "ipython",
    "version": 3
   },
   "file_extension": ".py",
   "mimetype": "text/x-python",
   "name": "python",
   "nbconvert_exporter": "python",
   "pygments_lexer": "ipython3",
   "version": "3.9.18"
  }
 },
 "nbformat": 4,
 "nbformat_minor": 5
}
