{
 "cells": [
  {
   "cell_type": "code",
   "execution_count": 1,
   "id": "abb75752-97a6-4f86-9877-c1d2588818b4",
   "metadata": {
    "jupyter": {
     "source_hidden": true
    }
   },
   "outputs": [
    {
     "data": {
      "text/html": [
       "<style>pre { white-space: pre !important; }</style>"
      ],
      "text/plain": [
       "<IPython.core.display.HTML object>"
      ]
     },
     "metadata": {},
     "output_type": "display_data"
    }
   ],
   "source": [
    "## Optional\n",
    "# Format output of Jupyter Notebook\n",
    "from IPython.core.display import HTML\n",
    "display(HTML(\"<style>pre { white-space: pre !important; }</style>\"))\n",
    "\n",
    "# Hide python warnings\n",
    "import warnings\n",
    "warnings.filterwarnings('ignore')"
   ]
  },
  {
   "cell_type": "code",
   "execution_count": 2,
   "id": "08d840db-ba34-4559-b0c8-2f7195e749a6",
   "metadata": {},
   "outputs": [
    {
     "name": "stderr",
     "output_type": "stream",
     "text": [
      "24/12/19 19:55:35 WARN SparkSession: Using an existing Spark session; only runtime SQL configurations will take effect.\n"
     ]
    }
   ],
   "source": [
    "from pyspark.sql import SparkSession\n",
    "from pyspark.sql.types import StructType, StructField, IntegerType, StringType\n",
    "from pyspark.sql.functions import isnull, when, count, col, regexp_extract\n",
    "\n",
    "# TODO - parameterize endpoints/ports such as minio:9000 with envs\n",
    "\n",
    "# Define config for SparkSession,\n",
    "# such as Iceberg catalog that utilizes minio, an S3-compatible local object storage\n",
    "spark_configs = {\n",
    "    'spark.master': 'spark://spark-iceberg:7077',\n",
    "    'spark.sql.catalog.airline': 'org.apache.iceberg.spark.SparkCatalog',\n",
    "    # 'spark.sql.catalog.airline': 'org.apache.iceberg.spark.SparkSessionCatalog',\n",
    "    'spark.sql.catalog.airline.io-impl': 'org.apache.iceberg.aws.s3.S3FileIO',\n",
    "    'spark.sql.catalog.airline.s3.endpoint': 'http://minio:9000',\n",
    "    'spark.sql.catalog.airline.type': 'rest',\n",
    "    'spark.sql.catalog.airline.uri': 'http://rest:8181',\n",
    "    'spark.sql.catalog.airline.warehouse': 's3://warehouse',\n",
    "    'spark.sql.defaultCatalog': 'airline'\n",
    "}\n",
    "\n",
    "# Initialize SparkSession\n",
    "spark = (\n",
    "    SparkSession\n",
    "    .builder\n",
    "    .appName('EDA')\n",
    "    .config(map=spark_configs)\n",
    "    .getOrCreate()\n",
    ")\n",
    "\n",
    "spark.conf\n",
    "\n",
    "\n",
    "\n",
    "filename = '/home/iceberg/data/flights.csv'"
   ]
  },
  {
   "cell_type": "code",
   "execution_count": 3,
   "id": "0f695cdf-8547-497b-8ecf-b95fff3ff15f",
   "metadata": {},
   "outputs": [
    {
     "name": "stdout",
     "output_type": "stream",
     "text": [
      "local-1734638114350\n",
      "EDA\n",
      "1734638113495\n",
      "spark://spark-iceberg:7077\n",
      "\n",
      "org.apache.iceberg.spark.SparkCatalog\n",
      "org.apache.iceberg.aws.s3.S3FileIO\n",
      "http://minio:9000\n",
      "rest\n",
      "http://rest:8181\n",
      "s3://warehouse\n",
      "\n"
     ]
    }
   ],
   "source": [
    "import pprint as pp\n",
    "\n",
    "# print(spark.sparkContext.uiWebUrl)\n",
    "\n",
    "print(spark.conf.get('spark.app.id'))\n",
    "print(spark.conf.get('spark.app.name'))\n",
    "print(spark.conf.get('spark.app.startTime'))\n",
    "print(spark.conf.get('spark.master'))\n",
    "print()\n",
    "print(spark.conf.get('spark.sql.catalog.airline'))\n",
    "print(spark.conf.get('spark.sql.catalog.airline.io-impl'))\n",
    "print(spark.conf.get('spark.sql.catalog.airline.s3.endpoint'))\n",
    "print(spark.conf.get('spark.sql.catalog.airline.type'))\n",
    "print(spark.conf.get('spark.sql.catalog.airline.uri'))\n",
    "print(spark.conf.get('spark.sql.catalog.airline.warehouse'))\n",
    "print()\n",
    "                     \n",
    "# pp.pp(dict(sc.getConf().getAll()), sort_dicts=True, )"
   ]
  },
  {
   "cell_type": "markdown",
   "id": "10598c93-7613-4acc-942a-e8d993bb68f3",
   "metadata": {},
   "source": [
    "# Ingest raw csv data"
   ]
  },
  {
   "cell_type": "code",
   "execution_count": 37,
   "id": "758586dc-edc6-488d-b850-c691298fafb1",
   "metadata": {
    "collapsed": true,
    "jupyter": {
     "outputs_hidden": true,
     "source_hidden": true
    }
   },
   "outputs": [
    {
     "name": "stderr",
     "output_type": "stream",
     "text": [
      "[Stage 34:>                                                         (0 + 7) / 7]\r"
     ]
    },
    {
     "name": "stdout",
     "output_type": "stream",
     "text": [
      "+----+-----+---+-----------+-------+-------------+-----------+--------------+-------------------+-------------------+--------------+---------------+--------+----------+--------------+------------+--------+--------+---------+-------+-----------------+------------+-------------+--------+---------+-------------------+----------------+--------------+-------------+-------------------+-------------+\n",
      "|YEAR|MONTH|DAY|DAY_OF_WEEK|AIRLINE|FLIGHT_NUMBER|TAIL_NUMBER|ORIGIN_AIRPORT|DESTINATION_AIRPORT|SCHEDULED_DEPARTURE|DEPARTURE_TIME|DEPARTURE_DELAY|TAXI_OUT|WHEELS_OFF|SCHEDULED_TIME|ELAPSED_TIME|AIR_TIME|DISTANCE|WHEELS_ON|TAXI_IN|SCHEDULED_ARRIVAL|ARRIVAL_TIME|ARRIVAL_DELAY|DIVERTED|CANCELLED|CANCELLATION_REASON|AIR_SYSTEM_DELAY|SECURITY_DELAY|AIRLINE_DELAY|LATE_AIRCRAFT_DELAY|WEATHER_DELAY|\n",
      "+----+-----+---+-----------+-------+-------------+-----------+--------------+-------------------+-------------------+--------------+---------------+--------+----------+--------------+------------+--------+--------+---------+-------+-----------------+------------+-------------+--------+---------+-------------------+----------------+--------------+-------------+-------------------+-------------+\n",
      "+----+-----+---+-----------+-------+-------------+-----------+--------------+-------------------+-------------------+--------------+---------------+--------+----------+--------------+------------+--------+--------+---------+-------+-----------------+------------+-------------+--------+---------+-------------------+----------------+--------------+-------------+-------------------+-------------+\n",
      "\n"
     ]
    },
    {
     "name": "stderr",
     "output_type": "stream",
     "text": [
      "                                                                                \r"
     ]
    }
   ],
   "source": [
    "# Check for alphabetic characters in flight_number, this is useless...\n",
    "raw_data = spark.read.option('header', True).csv(filename)\n",
    "raw_data.where(regexp_extract('flight_number', '^\\d+$', 0) == '').show()"
   ]
  },
  {
   "cell_type": "code",
   "execution_count": 8,
   "id": "50cb02d5-0815-4416-b72a-4a1fea068abc",
   "metadata": {},
   "outputs": [
    {
     "name": "stderr",
     "output_type": "stream",
     "text": [
      "24/12/19 20:20:22 WARN CacheManager: Asked to cache already cached data.\n"
     ]
    },
    {
     "name": "stdout",
     "output_type": "stream",
     "text": [
      "+----+-----+---+-----------+-------+-------------+-----------+--------------+-------------------+-------------------+--------------+---------------+--------+----------+--------------+------------+--------+--------+---------+-------+-----------------+------------+-------------+--------+---------+-------------------+----------------+--------------+-------------+-------------------+-------------+\n",
      "|year|month|day|day_of_week|airline|flight_number|tail_number|origin_airport|destination_airport|scheduled_departure|departure_time|departure_delay|taxi_out|wheels_off|scheduled_time|elapsed_time|air_time|distance|wheels_on|taxi_in|scheduled_arrival|arrival_time|arrival_delay|diverted|cancelled|cancellation_reason|air_system_delay|security_delay|airline_delay|late_aircraft_delay|weather_delay|\n",
      "+----+-----+---+-----------+-------+-------------+-----------+--------------+-------------------+-------------------+--------------+---------------+--------+----------+--------------+------------+--------+--------+---------+-------+-----------------+------------+-------------+--------+---------+-------------------+----------------+--------------+-------------+-------------------+-------------+\n",
      "|2015|    1|  1|          4|     AS|           98|     N407AS|           ANC|                SEA|                  5|          2354|            -11|      21|        15|           205|         194|     169|    1448|      404|      4|              430|         408|          -22|       0|        0|               NULL|            NULL|          NULL|         NULL|               NULL|         NULL|\n",
      "|2015|    1|  1|          4|     AA|         2336|     N3KUAA|           LAX|                PBI|                 10|             2|             -8|      12|        14|           280|         279|     263|    2330|      737|      4|              750|         741|           -9|       0|        0|               NULL|            NULL|          NULL|         NULL|               NULL|         NULL|\n",
      "|2015|    1|  1|          4|     US|          840|     N171US|           SFO|                CLT|                 20|            18|             -2|      16|        34|           286|         293|     266|    2296|      800|     11|              806|         811|            5|       0|        0|               NULL|            NULL|          NULL|         NULL|               NULL|         NULL|\n",
      "|2015|    1|  1|          4|     AA|          258|     N3HYAA|           LAX|                MIA|                 20|            15|             -5|      15|        30|           285|         281|     258|    2342|      748|      8|              805|         756|           -9|       0|        0|               NULL|            NULL|          NULL|         NULL|               NULL|         NULL|\n",
      "|2015|    1|  1|          4|     AS|          135|     N527AS|           SEA|                ANC|                 25|            24|             -1|      11|        35|           235|         215|     199|    1448|      254|      5|              320|         259|          -21|       0|        0|               NULL|            NULL|          NULL|         NULL|               NULL|         NULL|\n",
      "|2015|    1|  1|          4|     DL|          806|     N3730B|           SFO|                MSP|                 25|            20|             -5|      18|        38|           217|         230|     206|    1589|      604|      6|              602|         610|            8|       0|        0|               NULL|            NULL|          NULL|         NULL|               NULL|         NULL|\n",
      "|2015|    1|  1|          4|     NK|          612|     N635NK|           LAS|                MSP|                 25|            19|             -6|      11|        30|           181|         170|     154|    1299|      504|      5|              526|         509|          -17|       0|        0|               NULL|            NULL|          NULL|         NULL|               NULL|         NULL|\n",
      "|2015|    1|  1|          4|     US|         2013|     N584UW|           LAX|                CLT|                 30|            44|             14|      13|        57|           273|         249|     228|    2125|      745|      8|              803|         753|          -10|       0|        0|               NULL|            NULL|          NULL|         NULL|               NULL|         NULL|\n",
      "|2015|    1|  1|          4|     AA|         1112|     N3LAAA|           SFO|                DFW|                 30|            19|            -11|      17|        36|           195|         193|     173|    1464|      529|      3|              545|         532|          -13|       0|        0|               NULL|            NULL|          NULL|         NULL|               NULL|         NULL|\n",
      "|2015|    1|  1|          4|     DL|         1173|     N826DN|           LAS|                ATL|                 30|            33|              3|      12|        45|           221|         203|     186|    1747|      651|      5|              711|         656|          -15|       0|        0|               NULL|            NULL|          NULL|         NULL|               NULL|         NULL|\n",
      "|2015|    1|  1|          4|     DL|         2336|     N958DN|           DEN|                ATL|                 30|            24|             -6|      12|        36|           173|         149|     133|    1199|      449|      4|              523|         453|          -30|       0|        0|               NULL|            NULL|          NULL|         NULL|               NULL|         NULL|\n",
      "|2015|    1|  1|          4|     AA|         1674|     N853AA|           LAS|                MIA|                 35|            27|             -8|      21|        48|           268|         266|     238|    2174|      746|      7|              803|         753|          -10|       0|        0|               NULL|            NULL|          NULL|         NULL|               NULL|         NULL|\n",
      "|2015|    1|  1|          4|     DL|         1434|     N547US|           LAX|                MSP|                 35|            35|              0|      18|        53|           214|         210|     188|    1535|      601|      4|              609|         605|           -4|       0|        0|               NULL|            NULL|          NULL|         NULL|               NULL|         NULL|\n",
      "|2015|    1|  1|          4|     DL|         2324|     N3751B|           SLC|                ATL|                 40|            34|             -6|      18|        52|           215|         199|     176|    1590|      548|      5|              615|         553|          -22|       0|        0|               NULL|            NULL|          NULL|         NULL|               NULL|         NULL|\n",
      "|2015|    1|  1|          4|     DL|         2440|     N651DL|           SEA|                MSP|                 40|            39|             -1|      28|       107|           189|         198|     166|    1399|      553|      4|              549|         557|            8|       0|        0|               NULL|            NULL|          NULL|         NULL|               NULL|         NULL|\n",
      "|2015|    1|  1|          4|     AS|          108|     N309AS|           ANC|                SEA|                 45|            41|             -4|      17|        58|           204|         194|     173|    1448|      451|      4|              509|         455|          -14|       0|        0|               NULL|            NULL|          NULL|         NULL|               NULL|         NULL|\n",
      "|2015|    1|  1|          4|     DL|         1560|     N3743H|           ANC|                SEA|                 45|            31|            -14|      25|        56|           210|         200|     171|    1448|      447|      4|              515|         451|          -24|       0|        0|               NULL|            NULL|          NULL|         NULL|               NULL|         NULL|\n",
      "|2015|    1|  1|          4|     UA|         1197|     N78448|           SFO|                IAH|                 48|            42|             -6|      11|        53|           218|         217|     199|    1635|      612|      7|              626|         619|           -7|       0|        0|               NULL|            NULL|          NULL|         NULL|               NULL|         NULL|\n",
      "|2015|    1|  1|          4|     AS|          122|     N413AS|           ANC|                PDX|                 50|            46|             -4|      11|        57|           215|         201|     187|    1542|      504|      3|              525|         507|          -18|       0|        0|               NULL|            NULL|          NULL|         NULL|               NULL|         NULL|\n",
      "|2015|    1|  1|          4|     DL|         1670|     N806DN|           PDX|                MSP|                 50|            45|             -5|       9|        54|           193|         186|     171|    1426|      545|      6|              603|         551|          -12|       0|        0|               NULL|            NULL|          NULL|         NULL|               NULL|         NULL|\n",
      "+----+-----+---+-----------+-------+-------------+-----------+--------------+-------------------+-------------------+--------------+---------------+--------+----------+--------------+------------+--------+--------+---------+-------+-----------------+------------+-------------+--------+---------+-------------------+----------------+--------------+-------------+-------------------+-------------+\n",
      "only showing top 20 rows\n",
      "\n",
      "root\n",
      " |-- year: integer (nullable = true)\n",
      " |-- month: integer (nullable = true)\n",
      " |-- day: integer (nullable = true)\n",
      " |-- day_of_week: integer (nullable = true)\n",
      " |-- airline: string (nullable = true)\n",
      " |-- flight_number: integer (nullable = true)\n",
      " |-- tail_number: string (nullable = true)\n",
      " |-- origin_airport: string (nullable = true)\n",
      " |-- destination_airport: string (nullable = true)\n",
      " |-- scheduled_departure: integer (nullable = true)\n",
      " |-- departure_time: integer (nullable = true)\n",
      " |-- departure_delay: integer (nullable = true)\n",
      " |-- taxi_out: integer (nullable = true)\n",
      " |-- wheels_off: integer (nullable = true)\n",
      " |-- scheduled_time: integer (nullable = true)\n",
      " |-- elapsed_time: integer (nullable = true)\n",
      " |-- air_time: integer (nullable = true)\n",
      " |-- distance: integer (nullable = true)\n",
      " |-- wheels_on: integer (nullable = true)\n",
      " |-- taxi_in: integer (nullable = true)\n",
      " |-- scheduled_arrival: integer (nullable = true)\n",
      " |-- arrival_time: integer (nullable = true)\n",
      " |-- arrival_delay: integer (nullable = true)\n",
      " |-- diverted: integer (nullable = true)\n",
      " |-- cancelled: integer (nullable = true)\n",
      " |-- cancellation_reason: string (nullable = true)\n",
      " |-- air_system_delay: integer (nullable = true)\n",
      " |-- security_delay: integer (nullable = true)\n",
      " |-- airline_delay: integer (nullable = true)\n",
      " |-- late_aircraft_delay: integer (nullable = true)\n",
      " |-- weather_delay: integer (nullable = true)\n",
      "\n",
      "== Physical Plan ==\n",
      "AdaptiveSparkPlan isFinalPlan=false\n",
      "+- InMemoryTableScan [year#1701, month#1702, day#1703, day_of_week#1704, airline#1705, flight_number#1706, tail_number#1707, origin_airport#1708, destination_airport#1709, scheduled_departure#1710, departure_time#1711, departure_delay#1712, taxi_out#1713, wheels_off#1714, scheduled_time#1715, elapsed_time#1716, air_time#1717, distance#1718, wheels_on#1719, taxi_in#1720, scheduled_arrival#1721, arrival_time#1722, arrival_delay#1723, diverted#1724, ... 7 more fields]\n",
      "      +- InMemoryRelation [year#1701, month#1702, day#1703, day_of_week#1704, airline#1705, flight_number#1706, tail_number#1707, origin_airport#1708, destination_airport#1709, scheduled_departure#1710, departure_time#1711, departure_delay#1712, taxi_out#1713, wheels_off#1714, scheduled_time#1715, elapsed_time#1716, air_time#1717, distance#1718, wheels_on#1719, taxi_in#1720, scheduled_arrival#1721, arrival_time#1722, arrival_delay#1723, diverted#1724, ... 7 more fields], StorageLevel(disk, memory, deserialized, 1 replicas)\n",
      "            +- FileScan csv [year#180,month#181,day#182,day_of_week#183,airline#184,flight_number#185,tail_number#186,origin_airport#187,destination_airport#188,scheduled_departure#189,departure_time#190,departure_delay#191,taxi_out#192,wheels_off#193,scheduled_time#194,elapsed_time#195,air_time#196,distance#197,wheels_on#198,taxi_in#199,scheduled_arrival#200,arrival_time#201,arrival_delay#202,diverted#203,... 7 more fields] Batched: false, DataFilters: [], Format: CSV, Location: InMemoryFileIndex(1 paths)[file:/home/iceberg/data/flights.csv], PartitionFilters: [], PushedFilters: [], ReadSchema: struct<year:int,month:int,day:int,day_of_week:int,airline:string,flight_number:int,tail_number:st...\n",
      "\n",
      "\n"
     ]
    }
   ],
   "source": [
    "# TODO: Fix nullables column, cant set column as Not-Nullable for some reason...\n",
    "\n",
    "# Define schema\n",
    "flights_schema = StructType([\n",
    "    StructField(\"year\", IntegerType(), False),   # Non-Nullable\n",
    "    StructField(\"month\", IntegerType(), False),  # Non-Nullable\n",
    "    StructField(\"day\", IntegerType(), False),    # Non-Nullable\n",
    "    StructField(\"day_of_week\", IntegerType(), False),    # Non-Nullable\n",
    "    StructField(\"airline\", StringType(), False),         # Non-Nullable\n",
    "    StructField(\"flight_number\", IntegerType(), False),  # Non-Nullable\n",
    "    StructField(\"tail_number\", StringType(), True),\n",
    "    StructField(\"origin_airport\", StringType(), False),  # Non-Nullable\n",
    "    StructField(\"destination_airport\", StringType(), False),   # Non-Nullable\n",
    "    StructField(\"scheduled_departure\", IntegerType(), False),  # Non-Nullable\n",
    "    StructField(\"departure_time\", IntegerType(), True),\n",
    "    StructField(\"departure_delay\", IntegerType(), True),\n",
    "    StructField(\"taxi_out\", IntegerType(), True),\n",
    "    StructField(\"wheels_off\", IntegerType(), True),\n",
    "    StructField(\"scheduled_time\", IntegerType(), True),\n",
    "    StructField(\"elapsed_time\", IntegerType(), True),\n",
    "    StructField(\"air_time\", IntegerType(), True),\n",
    "    StructField(\"distance\", IntegerType(), False),  # Non-Nullable\n",
    "    StructField(\"wheels_on\", IntegerType(), True),\n",
    "    StructField(\"taxi_in\", IntegerType(), True),\n",
    "    StructField(\"scheduled_arrival\", IntegerType(), False),  # Non-Nullable\n",
    "    StructField(\"arrival_time\", IntegerType(), True),\n",
    "    StructField(\"arrival_delay\", IntegerType(), True),\n",
    "    StructField(\"diverted\", IntegerType(), False),   # Non-Nullable\n",
    "    StructField(\"cancelled\", IntegerType(), False),  # Non-Nullable\n",
    "    StructField(\"cancellation_reason\", StringType(), True),\n",
    "    StructField(\"air_system_delay\", IntegerType(), True),\n",
    "    StructField(\"security_delay\", IntegerType(), True),\n",
    "    StructField(\"airline_delay\", IntegerType(), True),\n",
    "    StructField(\"late_aircraft_delay\", IntegerType(), True),\n",
    "    StructField(\"weather_delay\", IntegerType(), True)\n",
    "])\n",
    "\n",
    "# Read flights.csv\n",
    "flights_df = spark.read.schema(flights_schema).csv(\n",
    "    '/home/iceberg/data/flights.csv',\n",
    "    schema=flights_schema,\n",
    "    enforceSchema=True,\n",
    "    header = True\n",
    ").cache()\n",
    "\n",
    "flights_df.show()\n",
    "flights_df.printSchema()\n",
    "flights_df.explain()"
   ]
  },
  {
   "cell_type": "code",
   "execution_count": null,
   "id": "bf20c67a-21b9-4d20-ad08-19c5a420be3a",
   "metadata": {},
   "outputs": [],
   "source": [
    "flights.filter('year')"
   ]
  },
  {
   "cell_type": "markdown",
   "id": "b7bc3cef-b489-4cb4-bc1c-5e6d1fa4db45",
   "metadata": {
    "jp-MarkdownHeadingCollapsed": true
   },
   "source": [
    "# Explore data!\n",
    "TODO:\n",
    "- Check statistics of important columns, like what are the percentiles for departure/arrival delay?\n",
    "- Check max values for delay"
   ]
  },
  {
   "cell_type": "markdown",
   "id": "5d902567-e843-4fe7-b5be-15100a83edbc",
   "metadata": {},
   "source": [
    "## Total number of flight records: 5,819,079"
   ]
  },
  {
   "cell_type": "code",
   "execution_count": 32,
   "id": "fb5668f3-765c-4654-9822-d5a17dec710b",
   "metadata": {},
   "outputs": [
    {
     "name": "stderr",
     "output_type": "stream",
     "text": [
      "                                                                                \r"
     ]
    },
    {
     "data": {
      "text/plain": [
       "5819079"
      ]
     },
     "execution_count": 32,
     "metadata": {},
     "output_type": "execute_result"
    }
   ],
   "source": [
    "flights_df.count()"
   ]
  },
  {
   "cell_type": "markdown",
   "id": "8e3bf176-639d-4dea-b2b4-597871ccf425",
   "metadata": {},
   "source": [
    "## Total number of cancelled flights: 89,884, Total number of diverted flights: 15,187\n",
    "These will cause nulls in other columns."
   ]
  },
  {
   "cell_type": "code",
   "execution_count": 37,
   "id": "75c96e32-b2bf-4b24-b5bb-5ba1d12de13f",
   "metadata": {},
   "outputs": [
    {
     "name": "stderr",
     "output_type": "stream",
     "text": [
      "                                                                                \r"
     ]
    },
    {
     "data": {
      "text/plain": [
       "89884"
      ]
     },
     "execution_count": 37,
     "metadata": {},
     "output_type": "execute_result"
    }
   ],
   "source": [
    "flights_df.where('cancelled = 1').count()"
   ]
  },
  {
   "cell_type": "code",
   "execution_count": 35,
   "id": "99d74e67-ea24-4ced-be0c-9c17ca8d74c5",
   "metadata": {},
   "outputs": [
    {
     "name": "stderr",
     "output_type": "stream",
     "text": [
      "                                                                                \r"
     ]
    },
    {
     "data": {
      "text/plain": [
       "15187"
      ]
     },
     "execution_count": 35,
     "metadata": {},
     "output_type": "execute_result"
    }
   ],
   "source": [
    "flights_df.where('diverted = 1').count()"
   ]
  },
  {
   "cell_type": "markdown",
   "id": "8f1d5732-6a9c-496a-9606-b0dde53c780d",
   "metadata": {},
   "source": [
    "## Get Null counts for each column"
   ]
  },
  {
   "cell_type": "code",
   "execution_count": 31,
   "id": "ef3ab334-ea6c-46be-af31-fcd84a01fc1b",
   "metadata": {},
   "outputs": [
    {
     "name": "stderr",
     "output_type": "stream",
     "text": [
      "[Stage 23:===================================================>    (11 + 1) / 12]\r"
     ]
    },
    {
     "name": "stdout",
     "output_type": "stream",
     "text": [
      "+----+-----+---+-----------+-------+-------------+-----------+--------------+-------------------+-------------------+--------------+---------------+--------+----------+--------------+------------+--------+--------+---------+-------+-----------------+------------+-------------+--------+---------+-------------------+----------------+--------------+-------------+-------------------+-------------+\n",
      "|YEAR|MONTH|DAY|DAY_OF_WEEK|AIRLINE|FLIGHT_NUMBER|TAIL_NUMBER|ORIGIN_AIRPORT|DESTINATION_AIRPORT|SCHEDULED_DEPARTURE|DEPARTURE_TIME|DEPARTURE_DELAY|TAXI_OUT|WHEELS_OFF|SCHEDULED_TIME|ELAPSED_TIME|AIR_TIME|DISTANCE|WHEELS_ON|TAXI_IN|SCHEDULED_ARRIVAL|ARRIVAL_TIME|ARRIVAL_DELAY|DIVERTED|CANCELLED|CANCELLATION_REASON|AIR_SYSTEM_DELAY|SECURITY_DELAY|AIRLINE_DELAY|LATE_AIRCRAFT_DELAY|WEATHER_DELAY|\n",
      "+----+-----+---+-----------+-------+-------------+-----------+--------------+-------------------+-------------------+--------------+---------------+--------+----------+--------------+------------+--------+--------+---------+-------+-----------------+------------+-------------+--------+---------+-------------------+----------------+--------------+-------------+-------------------+-------------+\n",
      "|   0|    0|  0|          0|      0|            0|      14721|             0|                  0|                  0|         86153|          86153|   89047|     89047|             6|      105071|  105071|       0|    92513|  92513|                0|       92513|       105071|       0|        0|            5729195|         4755640|       4755640|      4755640|            4755640|      4755640|\n",
      "+----+-----+---+-----------+-------+-------------+-----------+--------------+-------------------+-------------------+--------------+---------------+--------+----------+--------------+------------+--------+--------+---------+-------+-----------------+------------+-------------+--------+---------+-------------------+----------------+--------------+-------------+-------------------+-------------+\n",
      "\n"
     ]
    },
    {
     "name": "stderr",
     "output_type": "stream",
     "text": [
      "                                                                                \r"
     ]
    }
   ],
   "source": [
    "flights_df.select([count(when(isnull(c), c)).alias(c) for c in data.columns]).show()"
   ]
  },
  {
   "cell_type": "markdown",
   "id": "a8014353-b53a-4f7e-a5ab-8675e7f81e03",
   "metadata": {},
   "source": [
    "## Investigate some causes for nulls in each column"
   ]
  },
  {
   "cell_type": "code",
   "execution_count": 48,
   "id": "b87e3897-9119-4f45-8be4-85624eade7c0",
   "metadata": {},
   "outputs": [
    {
     "name": "stderr",
     "output_type": "stream",
     "text": [
      "                                                                                \r"
     ]
    },
    {
     "name": "stdout",
     "output_type": "stream",
     "text": [
      "Investigating nulls in column: tail_number\n"
     ]
    },
    {
     "name": "stderr",
     "output_type": "stream",
     "text": [
      "                                                                                \r"
     ]
    },
    {
     "name": "stdout",
     "output_type": "stream",
     "text": [
      "Nulls in tail_number where flight is cancelled: 14721\n",
      "\n",
      "Investigating nulls in column: departure_time\n"
     ]
    },
    {
     "name": "stderr",
     "output_type": "stream",
     "text": [
      "                                                                                \r"
     ]
    },
    {
     "name": "stdout",
     "output_type": "stream",
     "text": [
      "Nulls in departure_time where flight is cancelled: 86153\n",
      "\n",
      "Investigating nulls in column: departure_delay\n"
     ]
    },
    {
     "name": "stderr",
     "output_type": "stream",
     "text": [
      "                                                                                \r"
     ]
    },
    {
     "name": "stdout",
     "output_type": "stream",
     "text": [
      "Nulls in departure_delay where flight is cancelled: 86153\n",
      "\n",
      "Investigating nulls in column: taxi_out\n"
     ]
    },
    {
     "name": "stderr",
     "output_type": "stream",
     "text": [
      "                                                                                \r"
     ]
    },
    {
     "name": "stdout",
     "output_type": "stream",
     "text": [
      "Nulls in taxi_out where flight is cancelled: 89047\n",
      "\n",
      "Investigating nulls in column: wheels_off\n"
     ]
    },
    {
     "name": "stderr",
     "output_type": "stream",
     "text": [
      "                                                                                \r"
     ]
    },
    {
     "name": "stdout",
     "output_type": "stream",
     "text": [
      "Nulls in wheels_off where flight is cancelled: 89047\n",
      "\n",
      "Investigating nulls in column: scheduled_time\n"
     ]
    },
    {
     "name": "stderr",
     "output_type": "stream",
     "text": [
      "                                                                                \r"
     ]
    },
    {
     "name": "stdout",
     "output_type": "stream",
     "text": [
      "Nulls in scheduled_time where flight is cancelled: 5\n",
      "\n",
      "Investigating nulls in column: elapsed_time\n"
     ]
    },
    {
     "name": "stderr",
     "output_type": "stream",
     "text": [
      "                                                                                \r"
     ]
    },
    {
     "name": "stdout",
     "output_type": "stream",
     "text": [
      "Nulls in elapsed_time where flight is cancelled: 89884\n",
      "\n",
      "Investigating nulls in column: air_time\n"
     ]
    },
    {
     "name": "stderr",
     "output_type": "stream",
     "text": [
      "                                                                                \r"
     ]
    },
    {
     "name": "stdout",
     "output_type": "stream",
     "text": [
      "Nulls in air_time where flight is cancelled: 89884\n",
      "\n",
      "Investigating nulls in column: wheels_on\n"
     ]
    },
    {
     "name": "stderr",
     "output_type": "stream",
     "text": [
      "                                                                                \r"
     ]
    },
    {
     "name": "stdout",
     "output_type": "stream",
     "text": [
      "Nulls in wheels_on where flight is cancelled: 89884\n",
      "\n",
      "Investigating nulls in column: taxi_in\n"
     ]
    },
    {
     "name": "stderr",
     "output_type": "stream",
     "text": [
      "                                                                                \r"
     ]
    },
    {
     "name": "stdout",
     "output_type": "stream",
     "text": [
      "Nulls in taxi_in where flight is cancelled: 89884\n",
      "\n",
      "Investigating nulls in column: arrival_time\n"
     ]
    },
    {
     "name": "stderr",
     "output_type": "stream",
     "text": [
      "                                                                                \r"
     ]
    },
    {
     "name": "stdout",
     "output_type": "stream",
     "text": [
      "Nulls in arrival_time where flight is cancelled: 89884\n",
      "\n",
      "Investigating nulls in column: arrival_delay\n"
     ]
    },
    {
     "name": "stderr",
     "output_type": "stream",
     "text": [
      "                                                                                \r"
     ]
    },
    {
     "name": "stdout",
     "output_type": "stream",
     "text": [
      "Nulls in arrival_delay where flight is cancelled: 89884\n",
      "\n",
      "Investigating nulls in column: cancellation_reason\n"
     ]
    },
    {
     "name": "stderr",
     "output_type": "stream",
     "text": [
      "                                                                                \r"
     ]
    },
    {
     "name": "stdout",
     "output_type": "stream",
     "text": [
      "Nulls in cancellation_reason where flight is cancelled: 0\n",
      "\n",
      "Investigating nulls in column: air_system_delay\n"
     ]
    },
    {
     "name": "stderr",
     "output_type": "stream",
     "text": [
      "                                                                                \r"
     ]
    },
    {
     "name": "stdout",
     "output_type": "stream",
     "text": [
      "Nulls in air_system_delay where flight is cancelled: 89884\n",
      "\n",
      "Investigating nulls in column: security_delay\n"
     ]
    },
    {
     "name": "stderr",
     "output_type": "stream",
     "text": [
      "                                                                                \r"
     ]
    },
    {
     "name": "stdout",
     "output_type": "stream",
     "text": [
      "Nulls in security_delay where flight is cancelled: 89884\n",
      "\n",
      "Investigating nulls in column: airline_delay\n"
     ]
    },
    {
     "name": "stderr",
     "output_type": "stream",
     "text": [
      "                                                                                \r"
     ]
    },
    {
     "name": "stdout",
     "output_type": "stream",
     "text": [
      "Nulls in airline_delay where flight is cancelled: 89884\n",
      "\n",
      "Investigating nulls in column: late_aircraft_delay\n"
     ]
    },
    {
     "name": "stderr",
     "output_type": "stream",
     "text": [
      "                                                                                \r"
     ]
    },
    {
     "name": "stdout",
     "output_type": "stream",
     "text": [
      "Nulls in late_aircraft_delay where flight is cancelled: 89884\n",
      "\n",
      "Investigating nulls in column: weather_delay\n"
     ]
    },
    {
     "name": "stderr",
     "output_type": "stream",
     "text": [
      "[Stage 290:>                                                      (0 + 12) / 12]\r"
     ]
    },
    {
     "name": "stdout",
     "output_type": "stream",
     "text": [
      "Nulls in weather_delay where flight is cancelled: 89884\n",
      "\n"
     ]
    },
    {
     "name": "stderr",
     "output_type": "stream",
     "text": [
      "                                                                                \r"
     ]
    }
   ],
   "source": [
    "# List of columns with null values\n",
    "null_columns = [col for col in flights_df.columns if flights_df.filter(f\"{col} IS NULL\").count() > 0]\n",
    "\n",
    "# Iterate through columns to investigate null causes\n",
    "for col in null_columns:\n",
    "    print(f\"Investigating nulls in column: {col}\")\n",
    "    # Count rows where column is null and cancelled == 1\n",
    "    count = flights_df.where(f\"`{col}` IS NULL AND cancelled = 1\").count()\n",
    "    print(f\"Nulls in {col} where flight is cancelled: {count}\\n\")"
   ]
  },
  {
   "cell_type": "markdown",
   "id": "f8c80b6b-5957-4731-9061-9471dd324da2",
   "metadata": {},
   "source": [
    "#### Tail_number - all Nulls are from cancelled flights\n",
    "Although, not all cancelled flights have Nulls in tail_number. This might be explained by flights that are cancelled well in advance.\n",
    "**TODO: Check cancellation reasons**"
   ]
  },
  {
   "cell_type": "code",
   "execution_count": 40,
   "id": "c35cdc4e-9c07-432e-a947-fe25c75495c1",
   "metadata": {},
   "outputs": [
    {
     "name": "stderr",
     "output_type": "stream",
     "text": [
      "                                                                                \r"
     ]
    },
    {
     "data": {
      "text/plain": [
       "14721"
      ]
     },
     "execution_count": 40,
     "metadata": {},
     "output_type": "execute_result"
    }
   ],
   "source": [
    "flights_df.where('tail_number IS NULL AND cancelled = 1').count()"
   ]
  },
  {
   "cell_type": "code",
   "execution_count": 44,
   "id": "71310741-4e86-47a8-aafb-95b32d455635",
   "metadata": {},
   "outputs": [
    {
     "name": "stderr",
     "output_type": "stream",
     "text": [
      "                                                                                \r"
     ]
    },
    {
     "data": {
      "text/plain": [
       "86153"
      ]
     },
     "execution_count": 44,
     "metadata": {},
     "output_type": "execute_result"
    }
   ],
   "source": [
    "flights_df.where('departure_time IS NULL and cancelled = 1').count()"
   ]
  },
  {
   "cell_type": "markdown",
   "id": "cefb1101-31ba-431f-89b5-869a41173bcf",
   "metadata": {},
   "source": [
    "#### Scheduled_time - 6 Nulls, 5 out of 6 flight were cancelled, 1 flight was diverted\n",
    "Scheduled_time is the estimated time in air?"
   ]
  },
  {
   "cell_type": "code",
   "execution_count": 28,
   "id": "c10d648c-c080-4c14-b78e-2c4ef8b7f56a",
   "metadata": {},
   "outputs": [
    {
     "name": "stderr",
     "output_type": "stream",
     "text": [
      "[Stage 19:>                                                         (0 + 7) / 7]\r"
     ]
    },
    {
     "name": "stdout",
     "output_type": "stream",
     "text": [
      "+----+-----+---+-----------+-------+-------------+-----------+--------------+-------------------+-------------------+--------------+---------------+--------+----------+--------------+------------+--------+--------+---------+-------+-----------------+------------+-------------+--------+---------+-------------------+----------------+--------------+-------------+-------------------+-------------+\n",
      "|year|month|day|day_of_week|airline|flight_number|tail_number|origin_airport|destination_airport|scheduled_departure|departure_time|departure_delay|taxi_out|wheels_off|scheduled_time|elapsed_time|air_time|distance|wheels_on|taxi_in|scheduled_arrival|arrival_time|arrival_delay|diverted|cancelled|cancellation_reason|air_system_delay|security_delay|airline_delay|late_aircraft_delay|weather_delay|\n",
      "+----+-----+---+-----------+-------+-------------+-----------+--------------+-------------------+-------------------+--------------+---------------+--------+----------+--------------+------------+--------+--------+---------+-------+-----------------+------------+-------------+--------+---------+-------------------+----------------+--------------+-------------+-------------------+-------------+\n",
      "|2015|    2|  1|          7|     NK|          416|     N627NK|           FLL|                IAG|               2215|          2206|             -9|      21|      2227|          NULL|        NULL|    NULL|    1176|     NULL|   NULL|              107|        NULL|         NULL|       0|        1|                  B|            NULL|          NULL|         NULL|               NULL|         NULL|\n",
      "|2015|    2| 10|          2|     NK|          416|     N632NK|           FLL|                IAG|               2215|          2206|             -9|      16|      2222|          NULL|        NULL|    NULL|    1176|     NULL|   NULL|              107|        NULL|         NULL|       0|        1|                  B|            NULL|          NULL|         NULL|               NULL|         NULL|\n",
      "|2015|    4| 20|          1|     NK|          174|     N630NK|           FLL|                LGA|               1602|          1857|            175|      24|      1921|          NULL|        NULL|    NULL|    1076|     NULL|   NULL|             1900|        NULL|         NULL|       1|        0|               NULL|            NULL|          NULL|         NULL|               NULL|         NULL|\n",
      "|2015|    4| 26|          7|     NK|          720|     N614NK|           DEN|                DFW|               2059|          2057|             -2|      13|      2110|          NULL|        NULL|    NULL|     641|     NULL|   NULL|             2350|        NULL|         NULL|       0|        1|                  B|            NULL|          NULL|         NULL|               NULL|         NULL|\n",
      "|2015|    5|  9|          6|     NK|          324|     N620NK|           MCO|                ACY|               2130|          2152|             22|      18|      2210|          NULL|        NULL|    NULL|     852|     NULL|   NULL|             2340|        NULL|         NULL|       0|        1|                  B|            NULL|          NULL|         NULL|               NULL|         NULL|\n",
      "|2015|    5| 10|          7|     NK|          368|     N534NK|           ORD|                BWI|                825|          1214|            229|      18|      1232|          NULL|        NULL|    NULL|     622|     NULL|   NULL|             1118|        NULL|         NULL|       0|        1|                  C|            NULL|          NULL|         NULL|               NULL|         NULL|\n",
      "+----+-----+---+-----------+-------+-------------+-----------+--------------+-------------------+-------------------+--------------+---------------+--------+----------+--------------+------------+--------+--------+---------+-------+-----------------+------------+-------------+--------+---------+-------------------+----------------+--------------+-------------+-------------------+-------------+\n",
      "\n"
     ]
    },
    {
     "name": "stderr",
     "output_type": "stream",
     "text": [
      "                                                                                \r"
     ]
    }
   ],
   "source": [
    "flights_df.where('scheduled_time IS NULL').show()"
   ]
  },
  {
   "cell_type": "code",
   "execution_count": null,
   "id": "92572eca-3533-4353-a5be-64f812a5e9f7",
   "metadata": {},
   "outputs": [],
   "source": []
  },
  {
   "cell_type": "markdown",
   "id": "fdb07124-46da-499f-9653-8d88c004a2ba",
   "metadata": {},
   "source": [
    "# Write to staging Iceberg Table"
   ]
  },
  {
   "cell_type": "code",
   "execution_count": 26,
   "id": "d5b1c989-c882-476e-ad1f-e6c20512b46d",
   "metadata": {},
   "outputs": [
    {
     "data": {
      "text/plain": [
       "DataFrame[]"
      ]
     },
     "execution_count": 26,
     "metadata": {},
     "output_type": "execute_result"
    }
   ],
   "source": [
    "# Drop flights table\n",
    "spark.sql('DROP TABLE airline.db.flights PURGE')"
   ]
  },
  {
   "cell_type": "code",
   "execution_count": 27,
   "id": "428521b4-7ed4-452a-bddf-82dd2ba64f7e",
   "metadata": {},
   "outputs": [
    {
     "data": {
      "text/plain": [
       "DataFrame[]"
      ]
     },
     "execution_count": 27,
     "metadata": {},
     "output_type": "execute_result"
    }
   ],
   "source": [
    "# Create flights table if not exists\n",
    "spark.sql(\"\"\"\n",
    "CREATE TABLE IF NOT EXISTS airline.db.flights (\n",
    "    year INT,\n",
    "    month INT,\n",
    "    day INT,\n",
    "    day_of_week INT,\n",
    "    airline STRING,\n",
    "    flight_number INT,\n",
    "    tail_number STRING,\n",
    "    origin_airport STRING,\n",
    "    destination_airport STRING,\n",
    "    scheduled_departure INT,\n",
    "    departure_time INT,\n",
    "    departure_delay INT,\n",
    "    taxi_out INT,\n",
    "    wheels_off INT,\n",
    "    scheduled_time INT,\n",
    "    elapsed_time INT,\n",
    "    air_time INT,\n",
    "    distance INT,\n",
    "    wheels_on INT,\n",
    "    taxi_in INT,\n",
    "    scheduled_arrival INT,\n",
    "    arrival_time INT,\n",
    "    arrival_delay INT,\n",
    "    diverted INT,\n",
    "    cancelled INT,\n",
    "    cancellation_reason STRING,\n",
    "    air_system_delay INT,\n",
    "    security_delay INT,\n",
    "    airline_delay INT,\n",
    "    late_aircraft_delay INT,\n",
    "    weather_delay INT\n",
    ")\n",
    "USING iceberg\n",
    "PARTITIONED BY (month)\n",
    "\"\"\")"
   ]
  },
  {
   "cell_type": "code",
   "execution_count": 24,
   "id": "9d4932cb-50a0-4c6d-ab76-9df7e90bf0e9",
   "metadata": {
    "jupyter": {
     "source_hidden": true
    }
   },
   "outputs": [
    {
     "name": "stdout",
     "output_type": "stream",
     "text": [
      "False\n"
     ]
    },
    {
     "data": {
      "text/plain": [
       "Table(name='flights', catalog='airline', namespace=['db'], description=None, tableType='MANAGED', isTemporary=False)"
      ]
     },
     "execution_count": 24,
     "metadata": {},
     "output_type": "execute_result"
    }
   ],
   "source": [
    "# # Create database if not exists\n",
    "# spark.sql('CREATE DATABASE IF NOT EXISTS db')\n",
    "\n",
    "# print(spark.catalog.tableExists('airline.db.flights'))\n",
    "\n",
    "# # Create flights table if not exists\n",
    "# if not spark.catalog.tableExists('airline.db.flights'):\n",
    "#     spark.catalog.createTable(\n",
    "#         'airline.db.flights',\n",
    "#         schema=flights_schema,\n",
    "#         source='iceberg',\n",
    "#         partitioning='month'\n",
    "#     )\n",
    "\n",
    "# spark.catalog.getTable('airline.db.flights')"
   ]
  },
  {
   "cell_type": "code",
   "execution_count": 28,
   "id": "4515992a-c5b5-42f3-a8e9-c17bb15f5bed",
   "metadata": {},
   "outputs": [
    {
     "name": "stderr",
     "output_type": "stream",
     "text": [
      "                                                                                \r"
     ]
    }
   ],
   "source": [
    "# Write flights data\n",
    "flights_df \\\n",
    "    .writeTo('airline.db.flights') \\\n",
    "    .append()\n",
    "    # .sort('day_of_week') \\"
   ]
  },
  {
   "cell_type": "code",
   "execution_count": 29,
   "id": "544d01bc-bb0c-48b6-aa7e-a82f14933e35",
   "metadata": {
    "collapsed": true,
    "jupyter": {
     "outputs_hidden": true
    },
    "scrolled": true
   },
   "outputs": [
    {
     "name": "stdout",
     "output_type": "stream",
     "text": [
      "+-------------------+---------+-------+\n",
      "|           col_name|data_type|comment|\n",
      "+-------------------+---------+-------+\n",
      "|               year|      int|   NULL|\n",
      "|              month|      int|   NULL|\n",
      "|                day|      int|   NULL|\n",
      "|        day_of_week|      int|   NULL|\n",
      "|            airline|   string|   NULL|\n",
      "|      flight_number|      int|   NULL|\n",
      "|        tail_number|   string|   NULL|\n",
      "|     origin_airport|   string|   NULL|\n",
      "|destination_airport|   string|   NULL|\n",
      "|scheduled_departure|      int|   NULL|\n",
      "|     departure_time|      int|   NULL|\n",
      "|    departure_delay|      int|   NULL|\n",
      "|           taxi_out|      int|   NULL|\n",
      "|         wheels_off|      int|   NULL|\n",
      "|     scheduled_time|      int|   NULL|\n",
      "|       elapsed_time|      int|   NULL|\n",
      "|           air_time|      int|   NULL|\n",
      "|           distance|      int|   NULL|\n",
      "|          wheels_on|      int|   NULL|\n",
      "|            taxi_in|      int|   NULL|\n",
      "+-------------------+---------+-------+\n",
      "only showing top 20 rows\n",
      "\n"
     ]
    }
   ],
   "source": [
    "spark.sql('DESCRIBE EXTENDED airline.db.flights').show()"
   ]
  },
  {
   "cell_type": "markdown",
   "id": "1500e5da-237e-46a3-9f77-58dcd7501519",
   "metadata": {},
   "source": [
    "#### HIDDEN PARTITIONING!?\n",
    "When partitioning on year, still getting 12 files, but still 1 partition.\n",
    "\n",
    "Dataset came sorted by date, so hidden partitioning was automatically splitting into 12 parquet files?\n",
    "\n",
    "When partitioning on month, what is the behavior?"
   ]
  },
  {
   "cell_type": "code",
   "execution_count": 24,
   "id": "36c1f544-83fc-4871-8c87-782487510ffc",
   "metadata": {},
   "outputs": [
    {
     "name": "stdout",
     "output_type": "stream",
     "text": [
      "Row(column_size=2658, value_count=865543, null_value_count=0, nan_value_count=None, lower_bound=1, upper_bound=12)\n",
      "Row(column_size=2585, value_count=844600, null_value_count=0, nan_value_count=None, lower_bound=1, upper_bound=12)\n",
      "Row(column_size=2603, value_count=855897, null_value_count=0, nan_value_count=None, lower_bound=1, upper_bound=12)\n",
      "Row(column_size=2647, value_count=872521, null_value_count=0, nan_value_count=None, lower_bound=1, upper_bound=12)\n",
      "Row(column_size=2643, value_count=862209, null_value_count=0, nan_value_count=None, lower_bound=1, upper_bound=12)\n",
      "Row(column_size=2128, value_count=700545, null_value_count=0, nan_value_count=None, lower_bound=1, upper_bound=12)\n",
      "Row(column_size=2456, value_count=817764, null_value_count=0, nan_value_count=None, lower_bound=1, upper_bound=12)\n"
     ]
    }
   ],
   "source": [
    "metrics = spark.sql('select readable_metrics from airline.db.flights.files').collect()\n",
    "\n",
    "for metric in metrics:\n",
    "    temp = metric.asDict()['readable_metrics'].asDict()['month']\n",
    "    print(temp)"
   ]
  },
  {
   "cell_type": "markdown",
   "id": "c0ef196b-8c0e-40d2-b7a7-1890ff15635b",
   "metadata": {
    "jp-MarkdownHeadingCollapsed": true
   },
   "source": [
    "#### Checking table metadata"
   ]
  },
  {
   "cell_type": "code",
   "execution_count": 29,
   "id": "9dd65045-c15a-4eb8-ae1b-5c0b46c3c16b",
   "metadata": {},
   "outputs": [
    {
     "data": {
      "text/html": [
       "<table>\n",
       "    <thead>\n",
       "        <tr>\n",
       "            <th>record_count</th>\n",
       "            <th>file_count</th>\n",
       "            <th>total_data_file_size_in_bytes</th>\n",
       "            <th>position_delete_record_count</th>\n",
       "            <th>position_delete_file_count</th>\n",
       "            <th>equality_delete_record_count</th>\n",
       "            <th>equality_delete_file_count</th>\n",
       "            <th>last_updated_at</th>\n",
       "            <th>last_updated_snapshot_id</th>\n",
       "        </tr>\n",
       "    </thead>\n",
       "    <tbody>\n",
       "        <tr>\n",
       "            <td>5819079</td>\n",
       "            <td>7</td>\n",
       "            <td>132410345</td>\n",
       "            <td>0</td>\n",
       "            <td>0</td>\n",
       "            <td>0</td>\n",
       "            <td>0</td>\n",
       "            <td>2024-12-19 05:27:21.064000</td>\n",
       "            <td>2043671014194954771</td>\n",
       "        </tr>\n",
       "    </tbody>\n",
       "</table>"
      ],
      "text/plain": [
       "+--------------+------------+-------------------------------+------------------------------+----------------------------+------------------------------+----------------------------+----------------------------+--------------------------+\n",
       "| record_count | file_count | total_data_file_size_in_bytes | position_delete_record_count | position_delete_file_count | equality_delete_record_count | equality_delete_file_count |            last_updated_at | last_updated_snapshot_id |\n",
       "+--------------+------------+-------------------------------+------------------------------+----------------------------+------------------------------+----------------------------+----------------------------+--------------------------+\n",
       "|      5819079 |          7 |                     132410345 |                            0 |                          0 |                            0 |                          0 | 2024-12-19 05:27:21.064000 |      2043671014194954771 |\n",
       "+--------------+------------+-------------------------------+------------------------------+----------------------------+------------------------------+----------------------------+----------------------------+--------------------------+"
      ]
     },
     "execution_count": 29,
     "metadata": {},
     "output_type": "execute_result"
    }
   ],
   "source": [
    "%%sql\n",
    "SELECT\n",
    "    *\n",
    "FROM airline.db.flights.partitions"
   ]
  },
  {
   "cell_type": "code",
   "execution_count": 28,
   "id": "cda22f12-faa9-44eb-9ae3-740ecb02a687",
   "metadata": {
    "collapsed": true,
    "jupyter": {
     "outputs_hidden": true
    },
    "scrolled": true
   },
   "outputs": [
    {
     "data": {
      "text/html": [
       "<table>\n",
       "    <thead>\n",
       "        <tr>\n",
       "            <th>content</th>\n",
       "            <th>file_path</th>\n",
       "            <th>file_format</th>\n",
       "            <th>spec_id</th>\n",
       "            <th>record_count</th>\n",
       "            <th>file_size_in_bytes</th>\n",
       "            <th>column_sizes</th>\n",
       "            <th>value_counts</th>\n",
       "            <th>null_value_counts</th>\n",
       "            <th>nan_value_counts</th>\n",
       "            <th>lower_bounds</th>\n",
       "            <th>upper_bounds</th>\n",
       "            <th>key_metadata</th>\n",
       "            <th>split_offsets</th>\n",
       "            <th>equality_ids</th>\n",
       "            <th>sort_order_id</th>\n",
       "            <th>readable_metrics</th>\n",
       "        </tr>\n",
       "    </thead>\n",
       "    <tbody>\n",
       "        <tr>\n",
       "            <td>0</td>\n",
       "            <td>s3://warehouse/db/flights/data/00000-69-dc2c4f34-0586-4421-94d3-1124ed1b0086-0-00001.parquet</td>\n",
       "            <td>PARQUET</td>\n",
       "            <td>0</td>\n",
       "            <td>865543</td>\n",
       "            <td>19788655</td>\n",
       "            <td>{1: 1702, 2: 2658, 3: 3393, 4: 1702, 5: 312677, 6: 1424769, 7: 1432183, 8: 929096, 9: 903891, 10: 481052, 11: 1215732, 12: 872911, 13: 572179, 14: 1216038, 15: 999944, 16: 1051864, 17: 1046375, 18: 1196367, 19: 1216524, 20: 490227, 21: 1196506, 22: 1216527, 23: 939979, 24: 9772, 25: 31761, 26: 36382, 27: 222731, 28: 102995, 29: 228256, 30: 251468, 31: 139256}</td>\n",
       "            <td>{1: 865543, 2: 865543, 3: 865543, 4: 865543, 5: 865543, 6: 865543, 7: 865543, 8: 865543, 9: 865543, 10: 865543, 11: 865543, 12: 865543, 13: 865543, 14: 865543, 15: 865543, 16: 865543, 17: 865543, 18: 865543, 19: 865543, 20: 865543, 21: 865543, 22: 865543, 23: 865543, 24: 865543, 25: 865543, 26: 865543, 27: 865543, 28: 865543, 29: 865543, 30: 865543, 31: 865543}</td>\n",
       "            <td>{1: 0, 2: 0, 3: 0, 4: 0, 5: 0, 6: 0, 7: 3777, 8: 0, 9: 0, 10: 0, 11: 20255, 12: 20255, 13: 20913, 14: 20913, 15: 1, 16: 23749, 17: 23749, 18: 0, 19: 21643, 20: 21643, 21: 0, 22: 21643, 23: 23749, 24: 0, 25: 0, 26: 844470, 27: 699277, 28: 699277, 29: 699277, 30: 699277, 31: 699277}</td>\n",
       "            <td>{}</td>\n",
       "            <td>{1: bytearray(b&#x27;\\xdf\\x07\\x00\\x00&#x27;), 2: bytearray(b&#x27;\\x01\\x00\\x00\\x00&#x27;), 3: bytearray(b&#x27;\\x01\\x00\\x00\\x00&#x27;), 4: bytearray(b&#x27;\\x01\\x00\\x00\\x00&#x27;), 5: bytearray(b&#x27;AA&#x27;), 6: bytearray(b&#x27;\\x01\\x00\\x00\\x00&#x27;), 7: bytearray(b&#x27;7819A&#x27;), 8: bytearray(b&#x27;10135&#x27;), 9: bytearray(b&#x27;10135&#x27;), 10: bytearray(b&#x27;\\x01\\x00\\x00\\x00&#x27;), 11: bytearray(b&#x27;\\x01\\x00\\x00\\x00&#x27;), 12: bytearray(b&#x27;\\xc3\\xff\\xff\\xff&#x27;), 13: bytearray(b&#x27;\\x01\\x00\\x00\\x00&#x27;), 14: bytearray(b&#x27;\\x01\\x00\\x00\\x00&#x27;), 15: bytearray(b&#x27;\\x12\\x00\\x00\\x00&#x27;), 16: bytearray(b&#x27;\\x0e\\x00\\x00\\x00&#x27;), 17: bytearray(b&#x27;\\x08\\x00\\x00\\x00&#x27;), 18: bytearray(b&#x27;\\x15\\x00\\x00\\x00&#x27;), 19: bytearray(b&#x27;\\x01\\x00\\x00\\x00&#x27;), 20: bytearray(b&#x27;\\x01\\x00\\x00\\x00&#x27;), 21: bytearray(b&#x27;\\x01\\x00\\x00\\x00&#x27;), 22: bytearray(b&#x27;\\x01\\x00\\x00\\x00&#x27;), 23: bytearray(b&#x27;\\xaf\\xff\\xff\\xff&#x27;), 24: bytearray(b&#x27;\\x00\\x00\\x00\\x00&#x27;), 25: bytearray(b&#x27;\\x00\\x00\\x00\\x00&#x27;), 26: bytearray(b&#x27;A&#x27;), 27: bytearray(b&#x27;\\x00\\x00\\x00\\x00&#x27;), 28: bytearray(b&#x27;\\x00\\x00\\x00\\x00&#x27;), 29: bytearray(b&#x27;\\x00\\x00\\x00\\x00&#x27;), 30: bytearray(b&#x27;\\x00\\x00\\x00\\x00&#x27;), 31: bytearray(b&#x27;\\x00\\x00\\x00\\x00&#x27;)}</td>\n",
       "            <td>{1: bytearray(b&#x27;\\xdf\\x07\\x00\\x00&#x27;), 2: bytearray(b&#x27;\\x0c\\x00\\x00\\x00&#x27;), 3: bytearray(b&#x27;\\x1f\\x00\\x00\\x00&#x27;), 4: bytearray(b&#x27;\\x01\\x00\\x00\\x00&#x27;), 5: bytearray(b&#x27;WN&#x27;), 6: bytearray(b&#x27;h$\\x00\\x00&#x27;), 7: bytearray(b&#x27;N9EAMQ&#x27;), 8: bytearray(b&#x27;YUM&#x27;), 9: bytearray(b&#x27;YUM&#x27;), 10: bytearray(b&#x27;7\\t\\x00\\x00&#x27;), 11: bytearray(b&#x27;`\\t\\x00\\x00&#x27;), 12: bytearray(b&#x27;Y\\x06\\x00\\x00&#x27;), 13: bytearray(b&#x27;\\xc8\\x00\\x00\\x00&#x27;), 14: bytearray(b&#x27;`\\t\\x00\\x00&#x27;), 15: bytearray(b&#x27;\\xce\\x02\\x00\\x00&#x27;), 16: bytearray(b&#x27;\\xcb\\x02\\x00\\x00&#x27;), 17: bytearray(b&#x27;\\xaf\\x02\\x00\\x00&#x27;), 18: bytearray(b&#x27;w\\x13\\x00\\x00&#x27;), 19: bytearray(b&#x27;`\\t\\x00\\x00&#x27;), 20: bytearray(b&#x27;\\xf8\\x00\\x00\\x00&#x27;), 21: bytearray(b&#x27;7\\t\\x00\\x00&#x27;), 22: bytearray(b&#x27;`\\t\\x00\\x00&#x27;), 23: bytearray(b&#x27;d\\x06\\x00\\x00&#x27;), 24: bytearray(b&#x27;\\x01\\x00\\x00\\x00&#x27;), 25: bytearray(b&#x27;\\x01\\x00\\x00\\x00&#x27;), 26: bytearray(b&#x27;D&#x27;), 27: bytearray(b&#x27;\\xdf\\x03\\x00\\x00&#x27;), 28: bytearray(b&#x27;\\xdd\\x00\\x00\\x00&#x27;), 29: bytearray(b&#x27;Y\\x06\\x00\\x00&#x27;), 30: bytearray(b&#x27;\\xde\\x03\\x00\\x00&#x27;), 31: bytearray(b&#x27;\\\\\\x04\\x00\\x00&#x27;)}</td>\n",
       "            <td>None</td>\n",
       "            <td>[4]</td>\n",
       "            <td>None</td>\n",
       "            <td>0</td>\n",
       "            <td>Row(air_system_delay=Row(column_size=222731, value_count=865543, null_value_count=699277, nan_value_count=None, lower_bound=0, upper_bound=991), air_time=Row(column_size=1046375, value_count=865543, null_value_count=23749, nan_value_count=None, lower_bound=8, upper_bound=687), airline=Row(column_size=312677, value_count=865543, null_value_count=0, nan_value_count=None, lower_bound=&#x27;AA&#x27;, upper_bound=&#x27;WN&#x27;), airline_delay=Row(column_size=228256, value_count=865543, null_value_count=699277, nan_value_count=None, lower_bound=0, upper_bound=1625), arrival_delay=Row(column_size=939979, value_count=865543, null_value_count=23749, nan_value_count=None, lower_bound=-81, upper_bound=1636), arrival_time=Row(column_size=1216527, value_count=865543, null_value_count=21643, nan_value_count=None, lower_bound=1, upper_bound=2400), cancellation_reason=Row(column_size=36382, value_count=865543, null_value_count=844470, nan_value_count=None, lower_bound=&#x27;A&#x27;, upper_bound=&#x27;D&#x27;), cancelled=Row(column_size=31761, value_count=865543, null_value_count=0, nan_value_count=None, lower_bound=0, upper_bound=1), day=Row(column_size=3393, value_count=865543, null_value_count=0, nan_value_count=None, lower_bound=1, upper_bound=31), day_of_week=Row(column_size=1702, value_count=865543, null_value_count=0, nan_value_count=None, lower_bound=1, upper_bound=1), departure_delay=Row(column_size=872911, value_count=865543, null_value_count=20255, nan_value_count=None, lower_bound=-61, upper_bound=1625), departure_time=Row(column_size=1215732, value_count=865543, null_value_count=20255, nan_value_count=None, lower_bound=1, upper_bound=2400), destination_airport=Row(column_size=903891, value_count=865543, null_value_count=0, nan_value_count=None, lower_bound=&#x27;10135&#x27;, upper_bound=&#x27;YUM&#x27;), distance=Row(column_size=1196367, value_count=865543, null_value_count=0, nan_value_count=None, lower_bound=21, upper_bound=4983), diverted=Row(column_size=9772, value_count=865543, null_value_count=0, nan_value_count=None, lower_bound=0, upper_bound=1), elapsed_time=Row(column_size=1051864, value_count=865543, null_value_count=23749, nan_value_count=None, lower_bound=14, upper_bound=715), flight_number=Row(column_size=1424769, value_count=865543, null_value_count=0, nan_value_count=None, lower_bound=1, upper_bound=9320), late_aircraft_delay=Row(column_size=251468, value_count=865543, null_value_count=699277, nan_value_count=None, lower_bound=0, upper_bound=990), month=Row(column_size=2658, value_count=865543, null_value_count=0, nan_value_count=None, lower_bound=1, upper_bound=12), origin_airport=Row(column_size=929096, value_count=865543, null_value_count=0, nan_value_count=None, lower_bound=&#x27;10135&#x27;, upper_bound=&#x27;YUM&#x27;), scheduled_arrival=Row(column_size=1196506, value_count=865543, null_value_count=0, nan_value_count=None, lower_bound=1, upper_bound=2359), scheduled_departure=Row(column_size=481052, value_count=865543, null_value_count=0, nan_value_count=None, lower_bound=1, upper_bound=2359), scheduled_time=Row(column_size=999944, value_count=865543, null_value_count=1, nan_value_count=None, lower_bound=18, upper_bound=718), security_delay=Row(column_size=102995, value_count=865543, null_value_count=699277, nan_value_count=None, lower_bound=0, upper_bound=221), tail_number=Row(column_size=1432183, value_count=865543, null_value_count=3777, nan_value_count=None, lower_bound=&#x27;7819A&#x27;, upper_bound=&#x27;N9EAMQ&#x27;), taxi_in=Row(column_size=490227, value_count=865543, null_value_count=21643, nan_value_count=None, lower_bound=1, upper_bound=248), taxi_out=Row(column_size=572179, value_count=865543, null_value_count=20913, nan_value_count=None, lower_bound=1, upper_bound=200), weather_delay=Row(column_size=139256, value_count=865543, null_value_count=699277, nan_value_count=None, lower_bound=0, upper_bound=1116), wheels_off=Row(column_size=1216038, value_count=865543, null_value_count=20913, nan_value_count=None, lower_bound=1, upper_bound=2400), wheels_on=Row(column_size=1216524, value_count=865543, null_value_count=21643, nan_value_count=None, lower_bound=1, upper_bound=2400), year=Row(column_size=1702, value_count=865543, null_value_count=0, nan_value_count=None, lower_bound=2015, upper_bound=2015))</td>\n",
       "        </tr>\n",
       "        <tr>\n",
       "            <td>0</td>\n",
       "            <td>s3://warehouse/db/flights/data/00001-70-dc2c4f34-0586-4421-94d3-1124ed1b0086-0-00001.parquet</td>\n",
       "            <td>PARQUET</td>\n",
       "            <td>0</td>\n",
       "            <td>844600</td>\n",
       "            <td>19204359</td>\n",
       "            <td>{1: 1664, 2: 2585, 3: 3348, 4: 1664, 5: 304370, 6: 1390440, 7: 1396127, 8: 889416, 9: 872181, 10: 474746, 11: 1188282, 12: 811925, 13: 541951, 14: 1188714, 15: 954937, 16: 1021068, 17: 1016790, 18: 1167465, 19: 1188795, 20: 539687, 21: 1167580, 22: 1188796, 23: 916552, 24: 8265, 25: 26430, 26: 30086, 27: 221740, 28: 97691, 29: 212559, 30: 212690, 31: 124873}</td>\n",
       "            <td>{1: 844600, 2: 844600, 3: 844600, 4: 844600, 5: 844600, 6: 844600, 7: 844600, 8: 844600, 9: 844600, 10: 844600, 11: 844600, 12: 844600, 13: 844600, 14: 844600, 15: 844600, 16: 844600, 17: 844600, 18: 844600, 19: 844600, 20: 844600, 21: 844600, 22: 844600, 23: 844600, 24: 844600, 25: 844600, 26: 844600, 27: 844600, 28: 844600, 29: 844600, 30: 844600, 31: 844600}</td>\n",
       "            <td>{1: 0, 2: 0, 3: 0, 4: 0, 5: 0, 6: 0, 7: 3046, 8: 0, 9: 0, 10: 0, 11: 14609, 12: 14609, 13: 14953, 14: 14953, 15: 1, 16: 17201, 17: 17201, 18: 0, 19: 15373, 20: 15373, 21: 0, 22: 15373, 23: 17201, 24: 0, 25: 0, 26: 829528, 27: 693417, 28: 693417, 29: 693417, 30: 693417, 31: 693417}</td>\n",
       "            <td>{}</td>\n",
       "            <td>{1: bytearray(b&#x27;\\xdf\\x07\\x00\\x00&#x27;), 2: bytearray(b&#x27;\\x01\\x00\\x00\\x00&#x27;), 3: bytearray(b&#x27;\\x01\\x00\\x00\\x00&#x27;), 4: bytearray(b&#x27;\\x02\\x00\\x00\\x00&#x27;), 5: bytearray(b&#x27;AA&#x27;), 6: bytearray(b&#x27;\\x01\\x00\\x00\\x00&#x27;), 7: bytearray(b&#x27;7819A&#x27;), 8: bytearray(b&#x27;10135&#x27;), 9: bytearray(b&#x27;10135&#x27;), 10: bytearray(b&#x27;\\x01\\x00\\x00\\x00&#x27;), 11: bytearray(b&#x27;\\x01\\x00\\x00\\x00&#x27;), 12: bytearray(b&#x27;\\xd0\\xff\\xff\\xff&#x27;), 13: bytearray(b&#x27;\\x01\\x00\\x00\\x00&#x27;), 14: bytearray(b&#x27;\\x01\\x00\\x00\\x00&#x27;), 15: bytearray(b&#x27;\\x12\\x00\\x00\\x00&#x27;), 16: bytearray(b&#x27;\\x0f\\x00\\x00\\x00&#x27;), 17: bytearray(b&#x27;\\x07\\x00\\x00\\x00&#x27;), 18: bytearray(b&#x27;\\x1f\\x00\\x00\\x00&#x27;), 19: bytearray(b&#x27;\\x01\\x00\\x00\\x00&#x27;), 20: bytearray(b&#x27;\\x01\\x00\\x00\\x00&#x27;), 21: bytearray(b&#x27;\\x01\\x00\\x00\\x00&#x27;), 22: bytearray(b&#x27;\\x01\\x00\\x00\\x00&#x27;), 23: bytearray(b&#x27;\\xb0\\xff\\xff\\xff&#x27;), 24: bytearray(b&#x27;\\x00\\x00\\x00\\x00&#x27;), 25: bytearray(b&#x27;\\x00\\x00\\x00\\x00&#x27;), 26: bytearray(b&#x27;A&#x27;), 27: bytearray(b&#x27;\\x00\\x00\\x00\\x00&#x27;), 28: bytearray(b&#x27;\\x00\\x00\\x00\\x00&#x27;), 29: bytearray(b&#x27;\\x00\\x00\\x00\\x00&#x27;), 30: bytearray(b&#x27;\\x00\\x00\\x00\\x00&#x27;), 31: bytearray(b&#x27;\\x00\\x00\\x00\\x00&#x27;)}</td>\n",
       "            <td>{1: bytearray(b&#x27;\\xdf\\x07\\x00\\x00&#x27;), 2: bytearray(b&#x27;\\x0c\\x00\\x00\\x00&#x27;), 3: bytearray(b&#x27;\\x1f\\x00\\x00\\x00&#x27;), 4: bytearray(b&#x27;\\x02\\x00\\x00\\x00&#x27;), 5: bytearray(b&#x27;WN&#x27;), 6: bytearray(b&#x27;\\x0e\\x1d\\x00\\x00&#x27;), 7: bytearray(b&#x27;N9EAMQ&#x27;), 8: bytearray(b&#x27;YUM&#x27;), 9: bytearray(b&#x27;YUM&#x27;), 10: bytearray(b&#x27;7\\t\\x00\\x00&#x27;), 11: bytearray(b&#x27;`\\t\\x00\\x00&#x27;), 12: bytearray(b&#x27;I\\x06\\x00\\x00&#x27;), 13: bytearray(b&#x27;\\xad\\x00\\x00\\x00&#x27;), 14: bytearray(b&#x27;`\\t\\x00\\x00&#x27;), 15: bytearray(b&#x27;\\xce\\x02\\x00\\x00&#x27;), 16: bytearray(b&#x27;\\xd4\\x02\\x00\\x00&#x27;), 17: bytearray(b&#x27;\\xa2\\x02\\x00\\x00&#x27;), 18: bytearray(b&#x27;w\\x13\\x00\\x00&#x27;), 19: bytearray(b&#x27;`\\t\\x00\\x00&#x27;), 20: bytearray(b&#x27;\\xae\\x00\\x00\\x00&#x27;), 21: bytearray(b&#x27;7\\t\\x00\\x00&#x27;), 22: bytearray(b&#x27;`\\t\\x00\\x00&#x27;), 23: bytearray(b&#x27;&gt;\\x06\\x00\\x00&#x27;), 24: bytearray(b&#x27;\\x01\\x00\\x00\\x00&#x27;), 25: bytearray(b&#x27;\\x01\\x00\\x00\\x00&#x27;), 26: bytearray(b&#x27;D&#x27;), 27: bytearray(b&#x27;&gt;\\x03\\x00\\x00&#x27;), 28: bytearray(b&#x27;\\x00\\x01\\x00\\x00&#x27;), 29: bytearray(b&#x27;\\x1b\\x06\\x00\\x00&#x27;), 30: bytearray(b&#x27;\\xd7\\x03\\x00\\x00&#x27;), 31: bytearray(b&#x27;\\x0b\\x04\\x00\\x00&#x27;)}</td>\n",
       "            <td>None</td>\n",
       "            <td>[4]</td>\n",
       "            <td>None</td>\n",
       "            <td>0</td>\n",
       "            <td>Row(air_system_delay=Row(column_size=221740, value_count=844600, null_value_count=693417, nan_value_count=None, lower_bound=0, upper_bound=830), air_time=Row(column_size=1016790, value_count=844600, null_value_count=17201, nan_value_count=None, lower_bound=7, upper_bound=674), airline=Row(column_size=304370, value_count=844600, null_value_count=0, nan_value_count=None, lower_bound=&#x27;AA&#x27;, upper_bound=&#x27;WN&#x27;), airline_delay=Row(column_size=212559, value_count=844600, null_value_count=693417, nan_value_count=None, lower_bound=0, upper_bound=1563), arrival_delay=Row(column_size=916552, value_count=844600, null_value_count=17201, nan_value_count=None, lower_bound=-80, upper_bound=1598), arrival_time=Row(column_size=1188796, value_count=844600, null_value_count=15373, nan_value_count=None, lower_bound=1, upper_bound=2400), cancellation_reason=Row(column_size=30086, value_count=844600, null_value_count=829528, nan_value_count=None, lower_bound=&#x27;A&#x27;, upper_bound=&#x27;D&#x27;), cancelled=Row(column_size=26430, value_count=844600, null_value_count=0, nan_value_count=None, lower_bound=0, upper_bound=1), day=Row(column_size=3348, value_count=844600, null_value_count=0, nan_value_count=None, lower_bound=1, upper_bound=31), day_of_week=Row(column_size=1664, value_count=844600, null_value_count=0, nan_value_count=None, lower_bound=2, upper_bound=2), departure_delay=Row(column_size=811925, value_count=844600, null_value_count=14609, nan_value_count=None, lower_bound=-48, upper_bound=1609), departure_time=Row(column_size=1188282, value_count=844600, null_value_count=14609, nan_value_count=None, lower_bound=1, upper_bound=2400), destination_airport=Row(column_size=872181, value_count=844600, null_value_count=0, nan_value_count=None, lower_bound=&#x27;10135&#x27;, upper_bound=&#x27;YUM&#x27;), distance=Row(column_size=1167465, value_count=844600, null_value_count=0, nan_value_count=None, lower_bound=31, upper_bound=4983), diverted=Row(column_size=8265, value_count=844600, null_value_count=0, nan_value_count=None, lower_bound=0, upper_bound=1), elapsed_time=Row(column_size=1021068, value_count=844600, null_value_count=17201, nan_value_count=None, lower_bound=15, upper_bound=724), flight_number=Row(column_size=1390440, value_count=844600, null_value_count=0, nan_value_count=None, lower_bound=1, upper_bound=7438), late_aircraft_delay=Row(column_size=212690, value_count=844600, null_value_count=693417, nan_value_count=None, lower_bound=0, upper_bound=983), month=Row(column_size=2585, value_count=844600, null_value_count=0, nan_value_count=None, lower_bound=1, upper_bound=12), origin_airport=Row(column_size=889416, value_count=844600, null_value_count=0, nan_value_count=None, lower_bound=&#x27;10135&#x27;, upper_bound=&#x27;YUM&#x27;), scheduled_arrival=Row(column_size=1167580, value_count=844600, null_value_count=0, nan_value_count=None, lower_bound=1, upper_bound=2359), scheduled_departure=Row(column_size=474746, value_count=844600, null_value_count=0, nan_value_count=None, lower_bound=1, upper_bound=2359), scheduled_time=Row(column_size=954937, value_count=844600, null_value_count=1, nan_value_count=None, lower_bound=18, upper_bound=718), security_delay=Row(column_size=97691, value_count=844600, null_value_count=693417, nan_value_count=None, lower_bound=0, upper_bound=256), tail_number=Row(column_size=1396127, value_count=844600, null_value_count=3046, nan_value_count=None, lower_bound=&#x27;7819A&#x27;, upper_bound=&#x27;N9EAMQ&#x27;), taxi_in=Row(column_size=539687, value_count=844600, null_value_count=15373, nan_value_count=None, lower_bound=1, upper_bound=174), taxi_out=Row(column_size=541951, value_count=844600, null_value_count=14953, nan_value_count=None, lower_bound=1, upper_bound=173), weather_delay=Row(column_size=124873, value_count=844600, null_value_count=693417, nan_value_count=None, lower_bound=0, upper_bound=1035), wheels_off=Row(column_size=1188714, value_count=844600, null_value_count=14953, nan_value_count=None, lower_bound=1, upper_bound=2400), wheels_on=Row(column_size=1188795, value_count=844600, null_value_count=15373, nan_value_count=None, lower_bound=1, upper_bound=2400), year=Row(column_size=1664, value_count=844600, null_value_count=0, nan_value_count=None, lower_bound=2015, upper_bound=2015))</td>\n",
       "        </tr>\n",
       "        <tr>\n",
       "            <td>0</td>\n",
       "            <td>s3://warehouse/db/flights/data/00002-71-dc2c4f34-0586-4421-94d3-1124ed1b0086-0-00001.parquet</td>\n",
       "            <td>PARQUET</td>\n",
       "            <td>0</td>\n",
       "            <td>855897</td>\n",
       "            <td>19411983</td>\n",
       "            <td>{1: 1666, 2: 2603, 3: 3325, 4: 1665, 5: 306658, 6: 1408664, 7: 1414097, 8: 919819, 9: 895152, 10: 478785, 11: 1202356, 12: 841793, 13: 547089, 14: 1202811, 15: 951468, 16: 1034900, 17: 1031087, 18: 1183041, 19: 1203475, 20: 494205, 21: 1183140, 22: 1203473, 23: 907473, 24: 7937, 25: 22187, 26: 24926, 27: 209035, 28: 100416, 29: 228371, 30: 233573, 31: 125823}</td>\n",
       "            <td>{1: 855897, 2: 855897, 3: 855897, 4: 855897, 5: 855897, 6: 855897, 7: 855897, 8: 855897, 9: 855897, 10: 855897, 11: 855897, 12: 855897, 13: 855897, 14: 855897, 15: 855897, 16: 855897, 17: 855897, 18: 855897, 19: 855897, 20: 855897, 21: 855897, 22: 855897, 23: 855897, 24: 855897, 25: 855897, 26: 855897, 27: 855897, 28: 855897, 29: 855897, 30: 855897, 31: 855897}</td>\n",
       "            <td>{1: 0, 2: 0, 3: 0, 4: 0, 5: 0, 6: 0, 7: 1956, 8: 0, 9: 0, 10: 0, 11: 10314, 12: 10314, 13: 10619, 14: 10619, 15: 0, 16: 12655, 17: 12655, 18: 0, 19: 11051, 20: 11051, 21: 0, 22: 11051, 23: 12655, 24: 0, 25: 0, 26: 845168, 27: 702293, 28: 702293, 29: 702293, 30: 702293, 31: 702293}</td>\n",
       "            <td>{}</td>\n",
       "            <td>{1: bytearray(b&#x27;\\xdf\\x07\\x00\\x00&#x27;), 2: bytearray(b&#x27;\\x01\\x00\\x00\\x00&#x27;), 3: bytearray(b&#x27;\\x01\\x00\\x00\\x00&#x27;), 4: bytearray(b&#x27;\\x03\\x00\\x00\\x00&#x27;), 5: bytearray(b&#x27;AA&#x27;), 6: bytearray(b&#x27;\\x01\\x00\\x00\\x00&#x27;), 7: bytearray(b&#x27;7819A&#x27;), 8: bytearray(b&#x27;10135&#x27;), 9: bytearray(b&#x27;10135&#x27;), 10: bytearray(b&#x27;\\x03\\x00\\x00\\x00&#x27;), 11: bytearray(b&#x27;\\x01\\x00\\x00\\x00&#x27;), 12: bytearray(b&#x27;\\xc8\\xff\\xff\\xff&#x27;), 13: bytearray(b&#x27;\\x01\\x00\\x00\\x00&#x27;), 14: bytearray(b&#x27;\\x01\\x00\\x00\\x00&#x27;), 15: bytearray(b&#x27;\\x12\\x00\\x00\\x00&#x27;), 16: bytearray(b&#x27;\\x0e\\x00\\x00\\x00&#x27;), 17: bytearray(b&#x27;\\x07\\x00\\x00\\x00&#x27;), 18: bytearray(b&#x27;\\x1f\\x00\\x00\\x00&#x27;), 19: bytearray(b&#x27;\\x01\\x00\\x00\\x00&#x27;), 20: bytearray(b&#x27;\\x01\\x00\\x00\\x00&#x27;), 21: bytearray(b&#x27;\\x01\\x00\\x00\\x00&#x27;), 22: bytearray(b&#x27;\\x01\\x00\\x00\\x00&#x27;), 23: bytearray(b&#x27;\\xae\\xff\\xff\\xff&#x27;), 24: bytearray(b&#x27;\\x00\\x00\\x00\\x00&#x27;), 25: bytearray(b&#x27;\\x00\\x00\\x00\\x00&#x27;), 26: bytearray(b&#x27;A&#x27;), 27: bytearray(b&#x27;\\x00\\x00\\x00\\x00&#x27;), 28: bytearray(b&#x27;\\x00\\x00\\x00\\x00&#x27;), 29: bytearray(b&#x27;\\x00\\x00\\x00\\x00&#x27;), 30: bytearray(b&#x27;\\x00\\x00\\x00\\x00&#x27;), 31: bytearray(b&#x27;\\x00\\x00\\x00\\x00&#x27;)}</td>\n",
       "            <td>{1: bytearray(b&#x27;\\xdf\\x07\\x00\\x00&#x27;), 2: bytearray(b&#x27;\\x0c\\x00\\x00\\x00&#x27;), 3: bytearray(b&#x27;\\x1e\\x00\\x00\\x00&#x27;), 4: bytearray(b&#x27;\\x03\\x00\\x00\\x00&#x27;), 5: bytearray(b&#x27;WN&#x27;), 6: bytearray(b&#x27;\\xfa \\x00\\x00&#x27;), 7: bytearray(b&#x27;N9EAMQ&#x27;), 8: bytearray(b&#x27;YUM&#x27;), 9: bytearray(b&#x27;YUM&#x27;), 10: bytearray(b&#x27;7\\t\\x00\\x00&#x27;), 11: bytearray(b&#x27;`\\t\\x00\\x00&#x27;), 12: bytearray(b&#x27;5\\x06\\x00\\x00&#x27;), 13: bytearray(b&#x27;\\xb1\\x00\\x00\\x00&#x27;), 14: bytearray(b&#x27;`\\t\\x00\\x00&#x27;), 15: bytearray(b&#x27;\\xce\\x02\\x00\\x00&#x27;), 16: bytearray(b&#x27;\\xda\\x02\\x00\\x00&#x27;), 17: bytearray(b&#x27;\\xb2\\x02\\x00\\x00&#x27;), 18: bytearray(b&#x27;w\\x13\\x00\\x00&#x27;), 19: bytearray(b&#x27;`\\t\\x00\\x00&#x27;), 20: bytearray(b&#x27;\\x9d\\x00\\x00\\x00&#x27;), 21: bytearray(b&#x27;7\\t\\x00\\x00&#x27;), 22: bytearray(b&#x27;`\\t\\x00\\x00&#x27;), 23: bytearray(b&#x27;(\\x06\\x00\\x00&#x27;), 24: bytearray(b&#x27;\\x01\\x00\\x00\\x00&#x27;), 25: bytearray(b&#x27;\\x01\\x00\\x00\\x00&#x27;), 26: bytearray(b&#x27;D&#x27;), 27: bytearray(b&#x27;n\\x04\\x00\\x00&#x27;), 28: bytearray(b&#x27;=\\x02\\x00\\x00&#x27;), 29: bytearray(b&#x27;(\\x06\\x00\\x00&#x27;), 30: bytearray(b&#x27;\\x0e\\x05\\x00\\x00&#x27;), 31: bytearray(b&#x27;`\\x04\\x00\\x00&#x27;)}</td>\n",
       "            <td>None</td>\n",
       "            <td>[4]</td>\n",
       "            <td>None</td>\n",
       "            <td>0</td>\n",
       "            <td>Row(air_system_delay=Row(column_size=209035, value_count=855897, null_value_count=702293, nan_value_count=None, lower_bound=0, upper_bound=1134), air_time=Row(column_size=1031087, value_count=855897, null_value_count=12655, nan_value_count=None, lower_bound=7, upper_bound=690), airline=Row(column_size=306658, value_count=855897, null_value_count=0, nan_value_count=None, lower_bound=&#x27;AA&#x27;, upper_bound=&#x27;WN&#x27;), airline_delay=Row(column_size=228371, value_count=855897, null_value_count=702293, nan_value_count=None, lower_bound=0, upper_bound=1576), arrival_delay=Row(column_size=907473, value_count=855897, null_value_count=12655, nan_value_count=None, lower_bound=-82, upper_bound=1576), arrival_time=Row(column_size=1203473, value_count=855897, null_value_count=11051, nan_value_count=None, lower_bound=1, upper_bound=2400), cancellation_reason=Row(column_size=24926, value_count=855897, null_value_count=845168, nan_value_count=None, lower_bound=&#x27;A&#x27;, upper_bound=&#x27;D&#x27;), cancelled=Row(column_size=22187, value_count=855897, null_value_count=0, nan_value_count=None, lower_bound=0, upper_bound=1), day=Row(column_size=3325, value_count=855897, null_value_count=0, nan_value_count=None, lower_bound=1, upper_bound=30), day_of_week=Row(column_size=1665, value_count=855897, null_value_count=0, nan_value_count=None, lower_bound=3, upper_bound=3), departure_delay=Row(column_size=841793, value_count=855897, null_value_count=10314, nan_value_count=None, lower_bound=-56, upper_bound=1589), departure_time=Row(column_size=1202356, value_count=855897, null_value_count=10314, nan_value_count=None, lower_bound=1, upper_bound=2400), destination_airport=Row(column_size=895152, value_count=855897, null_value_count=0, nan_value_count=None, lower_bound=&#x27;10135&#x27;, upper_bound=&#x27;YUM&#x27;), distance=Row(column_size=1183041, value_count=855897, null_value_count=0, nan_value_count=None, lower_bound=31, upper_bound=4983), diverted=Row(column_size=7937, value_count=855897, null_value_count=0, nan_value_count=None, lower_bound=0, upper_bound=1), elapsed_time=Row(column_size=1034900, value_count=855897, null_value_count=12655, nan_value_count=None, lower_bound=14, upper_bound=730), flight_number=Row(column_size=1408664, value_count=855897, null_value_count=0, nan_value_count=None, lower_bound=1, upper_bound=8442), late_aircraft_delay=Row(column_size=233573, value_count=855897, null_value_count=702293, nan_value_count=None, lower_bound=0, upper_bound=1294), month=Row(column_size=2603, value_count=855897, null_value_count=0, nan_value_count=None, lower_bound=1, upper_bound=12), origin_airport=Row(column_size=919819, value_count=855897, null_value_count=0, nan_value_count=None, lower_bound=&#x27;10135&#x27;, upper_bound=&#x27;YUM&#x27;), scheduled_arrival=Row(column_size=1183140, value_count=855897, null_value_count=0, nan_value_count=None, lower_bound=1, upper_bound=2359), scheduled_departure=Row(column_size=478785, value_count=855897, null_value_count=0, nan_value_count=None, lower_bound=3, upper_bound=2359), scheduled_time=Row(column_size=951468, value_count=855897, null_value_count=0, nan_value_count=None, lower_bound=18, upper_bound=718), security_delay=Row(column_size=100416, value_count=855897, null_value_count=702293, nan_value_count=None, lower_bound=0, upper_bound=573), tail_number=Row(column_size=1414097, value_count=855897, null_value_count=1956, nan_value_count=None, lower_bound=&#x27;7819A&#x27;, upper_bound=&#x27;N9EAMQ&#x27;), taxi_in=Row(column_size=494205, value_count=855897, null_value_count=11051, nan_value_count=None, lower_bound=1, upper_bound=157), taxi_out=Row(column_size=547089, value_count=855897, null_value_count=10619, nan_value_count=None, lower_bound=1, upper_bound=177), weather_delay=Row(column_size=125823, value_count=855897, null_value_count=702293, nan_value_count=None, lower_bound=0, upper_bound=1120), wheels_off=Row(column_size=1202811, value_count=855897, null_value_count=10619, nan_value_count=None, lower_bound=1, upper_bound=2400), wheels_on=Row(column_size=1203475, value_count=855897, null_value_count=11051, nan_value_count=None, lower_bound=1, upper_bound=2400), year=Row(column_size=1666, value_count=855897, null_value_count=0, nan_value_count=None, lower_bound=2015, upper_bound=2015))</td>\n",
       "        </tr>\n",
       "        <tr>\n",
       "            <td>0</td>\n",
       "            <td>s3://warehouse/db/flights/data/00003-72-dc2c4f34-0586-4421-94d3-1124ed1b0086-0-00001.parquet</td>\n",
       "            <td>PARQUET</td>\n",
       "            <td>0</td>\n",
       "            <td>872521</td>\n",
       "            <td>19891606</td>\n",
       "            <td>{1: 1704, 2: 2647, 3: 3440, 4: 1704, 5: 312706, 6: 1436485, 7: 1440750, 8: 944899, 9: 913692, 10: 475712, 11: 1221297, 12: 868385, 13: 559815, 14: 1222104, 15: 1011442, 16: 1062496, 17: 1058106, 18: 1205971, 19: 1224786, 20: 473173, 21: 1206114, 22: 1224787, 23: 939075, 24: 8944, 25: 23004, 26: 26249, 27: 245428, 28: 105085, 29: 254678, 30: 240179, 31: 134995}</td>\n",
       "            <td>{1: 872521, 2: 872521, 3: 872521, 4: 872521, 5: 872521, 6: 872521, 7: 872521, 8: 872521, 9: 872521, 10: 872521, 11: 872521, 12: 872521, 13: 872521, 14: 872521, 15: 872521, 16: 872521, 17: 872521, 18: 872521, 19: 872521, 20: 872521, 21: 872521, 22: 872521, 23: 872521, 24: 872521, 25: 872521, 26: 872521, 27: 872521, 28: 872521, 29: 872521, 30: 872521, 31: 872521}</td>\n",
       "            <td>{1: 0, 2: 0, 3: 0, 4: 0, 5: 0, 6: 0, 7: 1906, 8: 0, 9: 0, 10: 0, 11: 11741, 12: 11741, 13: 12182, 14: 12182, 15: 0, 16: 14635, 17: 14635, 18: 0, 19: 12725, 20: 12725, 21: 0, 22: 12725, 23: 14635, 24: 0, 25: 0, 26: 860230, 27: 700829, 28: 700829, 29: 700829, 30: 700829, 31: 700829}</td>\n",
       "            <td>{}</td>\n",
       "            <td>{1: bytearray(b&#x27;\\xdf\\x07\\x00\\x00&#x27;), 2: bytearray(b&#x27;\\x01\\x00\\x00\\x00&#x27;), 3: bytearray(b&#x27;\\x01\\x00\\x00\\x00&#x27;), 4: bytearray(b&#x27;\\x04\\x00\\x00\\x00&#x27;), 5: bytearray(b&#x27;AA&#x27;), 6: bytearray(b&#x27;\\x01\\x00\\x00\\x00&#x27;), 7: bytearray(b&#x27;7819A&#x27;), 8: bytearray(b&#x27;10135&#x27;), 9: bytearray(b&#x27;10135&#x27;), 10: bytearray(b&#x27;\\x03\\x00\\x00\\x00&#x27;), 11: bytearray(b&#x27;\\x01\\x00\\x00\\x00&#x27;), 12: bytearray(b&#x27;\\xd3\\xff\\xff\\xff&#x27;), 13: bytearray(b&#x27;\\x01\\x00\\x00\\x00&#x27;), 14: bytearray(b&#x27;\\x01\\x00\\x00\\x00&#x27;), 15: bytearray(b&#x27;\\x12\\x00\\x00\\x00&#x27;), 16: bytearray(b&#x27;\\x0f\\x00\\x00\\x00&#x27;), 17: bytearray(b&#x27;\\x08\\x00\\x00\\x00&#x27;), 18: bytearray(b&#x27;\\x1f\\x00\\x00\\x00&#x27;), 19: bytearray(b&#x27;\\x01\\x00\\x00\\x00&#x27;), 20: bytearray(b&#x27;\\x01\\x00\\x00\\x00&#x27;), 21: bytearray(b&#x27;\\x01\\x00\\x00\\x00&#x27;), 22: bytearray(b&#x27;\\x01\\x00\\x00\\x00&#x27;), 23: bytearray(b&#x27;\\xa9\\xff\\xff\\xff&#x27;), 24: bytearray(b&#x27;\\x00\\x00\\x00\\x00&#x27;), 25: bytearray(b&#x27;\\x00\\x00\\x00\\x00&#x27;), 26: bytearray(b&#x27;A&#x27;), 27: bytearray(b&#x27;\\x00\\x00\\x00\\x00&#x27;), 28: bytearray(b&#x27;\\x00\\x00\\x00\\x00&#x27;), 29: bytearray(b&#x27;\\x00\\x00\\x00\\x00&#x27;), 30: bytearray(b&#x27;\\x00\\x00\\x00\\x00&#x27;), 31: bytearray(b&#x27;\\x00\\x00\\x00\\x00&#x27;)}</td>\n",
       "            <td>{1: bytearray(b&#x27;\\xdf\\x07\\x00\\x00&#x27;), 2: bytearray(b&#x27;\\x0c\\x00\\x00\\x00&#x27;), 3: bytearray(b&#x27;\\x1f\\x00\\x00\\x00&#x27;), 4: bytearray(b&#x27;\\x04\\x00\\x00\\x00&#x27;), 5: bytearray(b&#x27;WN&#x27;), 6: bytearray(b&#x27;\\x7f&amp;\\x00\\x00&#x27;), 7: bytearray(b&#x27;N9EAMQ&#x27;), 8: bytearray(b&#x27;YUM&#x27;), 9: bytearray(b&#x27;YUM&#x27;), 10: bytearray(b&#x27;7\\t\\x00\\x00&#x27;), 11: bytearray(b&#x27;`\\t\\x00\\x00&#x27;), 12: bytearray(b&#x27;q\\x06\\x00\\x00&#x27;), 13: bytearray(b&#x27;\\xb1\\x00\\x00\\x00&#x27;), 14: bytearray(b&#x27;`\\t\\x00\\x00&#x27;), 15: bytearray(b&#x27;\\xce\\x02\\x00\\x00&#x27;), 16: bytearray(b&#x27;\\xfe\\x02\\x00\\x00&#x27;), 17: bytearray(b&#x27;\\xb2\\x02\\x00\\x00&#x27;), 18: bytearray(b&#x27;w\\x13\\x00\\x00&#x27;), 19: bytearray(b&#x27;`\\t\\x00\\x00&#x27;), 20: bytearray(b&#x27;\\xaf\\x00\\x00\\x00&#x27;), 21: bytearray(b&#x27;7\\t\\x00\\x00&#x27;), 22: bytearray(b&#x27;`\\t\\x00\\x00&#x27;), 23: bytearray(b&#x27;d\\x06\\x00\\x00&#x27;), 24: bytearray(b&#x27;\\x01\\x00\\x00\\x00&#x27;), 25: bytearray(b&#x27;\\x01\\x00\\x00\\x00&#x27;), 26: bytearray(b&#x27;C&#x27;), 27: bytearray(b&#x27;x\\x03\\x00\\x00&#x27;), 28: bytearray(b&#x27;l\\x01\\x00\\x00&#x27;), 29: bytearray(b&#x27;d\\x06\\x00\\x00&#x27;), 30: bytearray(b&#x27;\\t\\x04\\x00\\x00&#x27;), 31: bytearray(b&#x27;,\\x04\\x00\\x00&#x27;)}</td>\n",
       "            <td>None</td>\n",
       "            <td>[4]</td>\n",
       "            <td>None</td>\n",
       "            <td>0</td>\n",
       "            <td>Row(air_system_delay=Row(column_size=245428, value_count=872521, null_value_count=700829, nan_value_count=None, lower_bound=0, upper_bound=888), air_time=Row(column_size=1058106, value_count=872521, null_value_count=14635, nan_value_count=None, lower_bound=8, upper_bound=690), airline=Row(column_size=312706, value_count=872521, null_value_count=0, nan_value_count=None, lower_bound=&#x27;AA&#x27;, upper_bound=&#x27;WN&#x27;), airline_delay=Row(column_size=254678, value_count=872521, null_value_count=700829, nan_value_count=None, lower_bound=0, upper_bound=1636), arrival_delay=Row(column_size=939075, value_count=872521, null_value_count=14635, nan_value_count=None, lower_bound=-87, upper_bound=1636), arrival_time=Row(column_size=1224787, value_count=872521, null_value_count=12725, nan_value_count=None, lower_bound=1, upper_bound=2400), cancellation_reason=Row(column_size=26249, value_count=872521, null_value_count=860230, nan_value_count=None, lower_bound=&#x27;A&#x27;, upper_bound=&#x27;C&#x27;), cancelled=Row(column_size=23004, value_count=872521, null_value_count=0, nan_value_count=None, lower_bound=0, upper_bound=1), day=Row(column_size=3440, value_count=872521, null_value_count=0, nan_value_count=None, lower_bound=1, upper_bound=31), day_of_week=Row(column_size=1704, value_count=872521, null_value_count=0, nan_value_count=None, lower_bound=4, upper_bound=4), departure_delay=Row(column_size=868385, value_count=872521, null_value_count=11741, nan_value_count=None, lower_bound=-45, upper_bound=1649), departure_time=Row(column_size=1221297, value_count=872521, null_value_count=11741, nan_value_count=None, lower_bound=1, upper_bound=2400), destination_airport=Row(column_size=913692, value_count=872521, null_value_count=0, nan_value_count=None, lower_bound=&#x27;10135&#x27;, upper_bound=&#x27;YUM&#x27;), distance=Row(column_size=1205971, value_count=872521, null_value_count=0, nan_value_count=None, lower_bound=31, upper_bound=4983), diverted=Row(column_size=8944, value_count=872521, null_value_count=0, nan_value_count=None, lower_bound=0, upper_bound=1), elapsed_time=Row(column_size=1062496, value_count=872521, null_value_count=14635, nan_value_count=None, lower_bound=15, upper_bound=766), flight_number=Row(column_size=1436485, value_count=872521, null_value_count=0, nan_value_count=None, lower_bound=1, upper_bound=9855), late_aircraft_delay=Row(column_size=240179, value_count=872521, null_value_count=700829, nan_value_count=None, lower_bound=0, upper_bound=1033), month=Row(column_size=2647, value_count=872521, null_value_count=0, nan_value_count=None, lower_bound=1, upper_bound=12), origin_airport=Row(column_size=944899, value_count=872521, null_value_count=0, nan_value_count=None, lower_bound=&#x27;10135&#x27;, upper_bound=&#x27;YUM&#x27;), scheduled_arrival=Row(column_size=1206114, value_count=872521, null_value_count=0, nan_value_count=None, lower_bound=1, upper_bound=2359), scheduled_departure=Row(column_size=475712, value_count=872521, null_value_count=0, nan_value_count=None, lower_bound=3, upper_bound=2359), scheduled_time=Row(column_size=1011442, value_count=872521, null_value_count=0, nan_value_count=None, lower_bound=18, upper_bound=718), security_delay=Row(column_size=105085, value_count=872521, null_value_count=700829, nan_value_count=None, lower_bound=0, upper_bound=364), tail_number=Row(column_size=1440750, value_count=872521, null_value_count=1906, nan_value_count=None, lower_bound=&#x27;7819A&#x27;, upper_bound=&#x27;N9EAMQ&#x27;), taxi_in=Row(column_size=473173, value_count=872521, null_value_count=12725, nan_value_count=None, lower_bound=1, upper_bound=175), taxi_out=Row(column_size=559815, value_count=872521, null_value_count=12182, nan_value_count=None, lower_bound=1, upper_bound=177), weather_delay=Row(column_size=134995, value_count=872521, null_value_count=700829, nan_value_count=None, lower_bound=0, upper_bound=1068), wheels_off=Row(column_size=1222104, value_count=872521, null_value_count=12182, nan_value_count=None, lower_bound=1, upper_bound=2400), wheels_on=Row(column_size=1224786, value_count=872521, null_value_count=12725, nan_value_count=None, lower_bound=1, upper_bound=2400), year=Row(column_size=1704, value_count=872521, null_value_count=0, nan_value_count=None, lower_bound=2015, upper_bound=2015))</td>\n",
       "        </tr>\n",
       "        <tr>\n",
       "            <td>0</td>\n",
       "            <td>s3://warehouse/db/flights/data/00004-73-dc2c4f34-0586-4421-94d3-1124ed1b0086-0-00001.parquet</td>\n",
       "            <td>PARQUET</td>\n",
       "            <td>0</td>\n",
       "            <td>862209</td>\n",
       "            <td>19622735</td>\n",
       "            <td>{1: 1702, 2: 2643, 3: 3426, 4: 1702, 5: 311025, 6: 1419751, 7: 1423335, 8: 893387, 9: 910771, 10: 472141, 11: 1210384, 12: 837560, 13: 561090, 14: 1211011, 15: 988620, 16: 1048493, 17: 1042800, 18: 1191785, 19: 1211700, 20: 510733, 21: 1191916, 22: 1211701, 23: 921577, 24: 8155, 25: 20262, 26: 22700, 27: 231665, 28: 103797, 29: 244867, 30: 240918, 31: 129396}</td>\n",
       "            <td>{1: 862209, 2: 862209, 3: 862209, 4: 862209, 5: 862209, 6: 862209, 7: 862209, 8: 862209, 9: 862209, 10: 862209, 11: 862209, 12: 862209, 13: 862209, 14: 862209, 15: 862209, 16: 862209, 17: 862209, 18: 862209, 19: 862209, 20: 862209, 21: 862209, 22: 862209, 23: 862209, 24: 862209, 25: 862209, 26: 862209, 27: 862209, 28: 862209, 29: 862209, 30: 862209, 31: 862209}</td>\n",
       "            <td>{1: 0, 2: 0, 3: 0, 4: 0, 5: 0, 6: 0, 7: 1139, 8: 0, 9: 0, 10: 0, 11: 8325, 12: 8325, 13: 8709, 14: 8709, 15: 0, 16: 10822, 17: 10822, 18: 0, 19: 9070, 20: 9070, 21: 0, 22: 9070, 23: 10822, 24: 0, 25: 0, 26: 853404, 27: 698768, 28: 698768, 29: 698768, 30: 698768, 31: 698768}</td>\n",
       "            <td>{}</td>\n",
       "            <td>{1: bytearray(b&#x27;\\xdf\\x07\\x00\\x00&#x27;), 2: bytearray(b&#x27;\\x01\\x00\\x00\\x00&#x27;), 3: bytearray(b&#x27;\\x01\\x00\\x00\\x00&#x27;), 4: bytearray(b&#x27;\\x05\\x00\\x00\\x00&#x27;), 5: bytearray(b&#x27;AA&#x27;), 6: bytearray(b&#x27;\\x01\\x00\\x00\\x00&#x27;), 7: bytearray(b&#x27;7819A&#x27;), 8: bytearray(b&#x27;10135&#x27;), 9: bytearray(b&#x27;10135&#x27;), 10: bytearray(b&#x27;\\x03\\x00\\x00\\x00&#x27;), 11: bytearray(b&#x27;\\x01\\x00\\x00\\x00&#x27;), 12: bytearray(b&#x27;\\xc9\\xff\\xff\\xff&#x27;), 13: bytearray(b&#x27;\\x01\\x00\\x00\\x00&#x27;), 14: bytearray(b&#x27;\\x01\\x00\\x00\\x00&#x27;), 15: bytearray(b&#x27;\\x12\\x00\\x00\\x00&#x27;), 16: bytearray(b&#x27;\\x10\\x00\\x00\\x00&#x27;), 17: bytearray(b&#x27;\\x07\\x00\\x00\\x00&#x27;), 18: bytearray(b&#x27;\\x1f\\x00\\x00\\x00&#x27;), 19: bytearray(b&#x27;\\x01\\x00\\x00\\x00&#x27;), 20: bytearray(b&#x27;\\x01\\x00\\x00\\x00&#x27;), 21: bytearray(b&#x27;\\x01\\x00\\x00\\x00&#x27;), 22: bytearray(b&#x27;\\x01\\x00\\x00\\x00&#x27;), 23: bytearray(b&#x27;\\xb1\\xff\\xff\\xff&#x27;), 24: bytearray(b&#x27;\\x00\\x00\\x00\\x00&#x27;), 25: bytearray(b&#x27;\\x00\\x00\\x00\\x00&#x27;), 26: bytearray(b&#x27;A&#x27;), 27: bytearray(b&#x27;\\x00\\x00\\x00\\x00&#x27;), 28: bytearray(b&#x27;\\x00\\x00\\x00\\x00&#x27;), 29: bytearray(b&#x27;\\x00\\x00\\x00\\x00&#x27;), 30: bytearray(b&#x27;\\x00\\x00\\x00\\x00&#x27;), 31: bytearray(b&#x27;\\x00\\x00\\x00\\x00&#x27;)}</td>\n",
       "            <td>{1: bytearray(b&#x27;\\xdf\\x07\\x00\\x00&#x27;), 2: bytearray(b&#x27;\\x0c\\x00\\x00\\x00&#x27;), 3: bytearray(b&#x27;\\x1f\\x00\\x00\\x00&#x27;), 4: bytearray(b&#x27;\\x05\\x00\\x00\\x00&#x27;), 5: bytearray(b&#x27;WN&#x27;), 6: bytearray(b&#x27;\\x0e\\x1d\\x00\\x00&#x27;), 7: bytearray(b&#x27;N9EAMQ&#x27;), 8: bytearray(b&#x27;YUM&#x27;), 9: bytearray(b&#x27;YUM&#x27;), 10: bytearray(b&#x27;7\\t\\x00\\x00&#x27;), 11: bytearray(b&#x27;`\\t\\x00\\x00&#x27;), 12: bytearray(b&#x27;\\xc4\\x07\\x00\\x00&#x27;), 13: bytearray(b&#x27;\\xe1\\x00\\x00\\x00&#x27;), 14: bytearray(b&#x27;`\\t\\x00\\x00&#x27;), 15: bytearray(b&#x27;\\xce\\x02\\x00\\x00&#x27;), 16: bytearray(b&#x27;\\xd1\\x02\\x00\\x00&#x27;), 17: bytearray(b&#x27;\\xa7\\x02\\x00\\x00&#x27;), 18: bytearray(b&#x27;w\\x13\\x00\\x00&#x27;), 19: bytearray(b&#x27;`\\t\\x00\\x00&#x27;), 20: bytearray(b&#x27;\\xb7\\x00\\x00\\x00&#x27;), 21: bytearray(b&#x27;7\\t\\x00\\x00&#x27;), 22: bytearray(b&#x27;`\\t\\x00\\x00&#x27;), 23: bytearray(b&#x27;\\xb3\\x07\\x00\\x00&#x27;), 24: bytearray(b&#x27;\\x01\\x00\\x00\\x00&#x27;), 25: bytearray(b&#x27;\\x01\\x00\\x00\\x00&#x27;), 26: bytearray(b&#x27;D&#x27;), 27: bytearray(b&#x27;\\x94\\x03\\x00\\x00&#x27;), 28: bytearray(b&#x27;\\xdd\\x00\\x00\\x00&#x27;), 29: bytearray(b&#x27;\\xb3\\x07\\x00\\x00&#x27;), 30: bytearray(b&#x27;\\x0f\\x04\\x00\\x00&#x27;), 31: bytearray(b&#x27;\\xfd\\x03\\x00\\x00&#x27;)}</td>\n",
       "            <td>None</td>\n",
       "            <td>[4]</td>\n",
       "            <td>None</td>\n",
       "            <td>0</td>\n",
       "            <td>Row(air_system_delay=Row(column_size=231665, value_count=862209, null_value_count=698768, nan_value_count=None, lower_bound=0, upper_bound=916), air_time=Row(column_size=1042800, value_count=862209, null_value_count=10822, nan_value_count=None, lower_bound=7, upper_bound=679), airline=Row(column_size=311025, value_count=862209, null_value_count=0, nan_value_count=None, lower_bound=&#x27;AA&#x27;, upper_bound=&#x27;WN&#x27;), airline_delay=Row(column_size=244867, value_count=862209, null_value_count=698768, nan_value_count=None, lower_bound=0, upper_bound=1971), arrival_delay=Row(column_size=921577, value_count=862209, null_value_count=10822, nan_value_count=None, lower_bound=-79, upper_bound=1971), arrival_time=Row(column_size=1211701, value_count=862209, null_value_count=9070, nan_value_count=None, lower_bound=1, upper_bound=2400), cancellation_reason=Row(column_size=22700, value_count=862209, null_value_count=853404, nan_value_count=None, lower_bound=&#x27;A&#x27;, upper_bound=&#x27;D&#x27;), cancelled=Row(column_size=20262, value_count=862209, null_value_count=0, nan_value_count=None, lower_bound=0, upper_bound=1), day=Row(column_size=3426, value_count=862209, null_value_count=0, nan_value_count=None, lower_bound=1, upper_bound=31), day_of_week=Row(column_size=1702, value_count=862209, null_value_count=0, nan_value_count=None, lower_bound=5, upper_bound=5), departure_delay=Row(column_size=837560, value_count=862209, null_value_count=8325, nan_value_count=None, lower_bound=-55, upper_bound=1988), departure_time=Row(column_size=1210384, value_count=862209, null_value_count=8325, nan_value_count=None, lower_bound=1, upper_bound=2400), destination_airport=Row(column_size=910771, value_count=862209, null_value_count=0, nan_value_count=None, lower_bound=&#x27;10135&#x27;, upper_bound=&#x27;YUM&#x27;), distance=Row(column_size=1191785, value_count=862209, null_value_count=0, nan_value_count=None, lower_bound=31, upper_bound=4983), diverted=Row(column_size=8155, value_count=862209, null_value_count=0, nan_value_count=None, lower_bound=0, upper_bound=1), elapsed_time=Row(column_size=1048493, value_count=862209, null_value_count=10822, nan_value_count=None, lower_bound=16, upper_bound=721), flight_number=Row(column_size=1419751, value_count=862209, null_value_count=0, nan_value_count=None, lower_bound=1, upper_bound=7438), late_aircraft_delay=Row(column_size=240918, value_count=862209, null_value_count=698768, nan_value_count=None, lower_bound=0, upper_bound=1039), month=Row(column_size=2643, value_count=862209, null_value_count=0, nan_value_count=None, lower_bound=1, upper_bound=12), origin_airport=Row(column_size=893387, value_count=862209, null_value_count=0, nan_value_count=None, lower_bound=&#x27;10135&#x27;, upper_bound=&#x27;YUM&#x27;), scheduled_arrival=Row(column_size=1191916, value_count=862209, null_value_count=0, nan_value_count=None, lower_bound=1, upper_bound=2359), scheduled_departure=Row(column_size=472141, value_count=862209, null_value_count=0, nan_value_count=None, lower_bound=3, upper_bound=2359), scheduled_time=Row(column_size=988620, value_count=862209, null_value_count=0, nan_value_count=None, lower_bound=18, upper_bound=718), security_delay=Row(column_size=103797, value_count=862209, null_value_count=698768, nan_value_count=None, lower_bound=0, upper_bound=221), tail_number=Row(column_size=1423335, value_count=862209, null_value_count=1139, nan_value_count=None, lower_bound=&#x27;7819A&#x27;, upper_bound=&#x27;N9EAMQ&#x27;), taxi_in=Row(column_size=510733, value_count=862209, null_value_count=9070, nan_value_count=None, lower_bound=1, upper_bound=183), taxi_out=Row(column_size=561090, value_count=862209, null_value_count=8709, nan_value_count=None, lower_bound=1, upper_bound=225), weather_delay=Row(column_size=129396, value_count=862209, null_value_count=698768, nan_value_count=None, lower_bound=0, upper_bound=1021), wheels_off=Row(column_size=1211011, value_count=862209, null_value_count=8709, nan_value_count=None, lower_bound=1, upper_bound=2400), wheels_on=Row(column_size=1211700, value_count=862209, null_value_count=9070, nan_value_count=None, lower_bound=1, upper_bound=2400), year=Row(column_size=1702, value_count=862209, null_value_count=0, nan_value_count=None, lower_bound=2015, upper_bound=2015))</td>\n",
       "        </tr>\n",
       "        <tr>\n",
       "            <td>0</td>\n",
       "            <td>s3://warehouse/db/flights/data/00005-74-dc2c4f34-0586-4421-94d3-1124ed1b0086-0-00001.parquet</td>\n",
       "            <td>PARQUET</td>\n",
       "            <td>0</td>\n",
       "            <td>700545</td>\n",
       "            <td>15925957</td>\n",
       "            <td>{1: 1398, 2: 2128, 3: 2822, 4: 1398, 5: 257560, 6: 1156818, 7: 1159274, 8: 754731, 9: 726942, 10: 412854, 11: 980802, 12: 683691, 13: 442397, 14: 981158, 15: 822092, 16: 854443, 17: 849759, 18: 968890, 19: 984263, 20: 413531, 21: 969020, 22: 984262, 23: 745456, 24: 7564, 25: 17552, 26: 19631, 27: 162608, 28: 80434, 29: 176868, 30: 170022, 31: 100274}</td>\n",
       "            <td>{1: 700545, 2: 700545, 3: 700545, 4: 700545, 5: 700545, 6: 700545, 7: 700545, 8: 700545, 9: 700545, 10: 700545, 11: 700545, 12: 700545, 13: 700545, 14: 700545, 15: 700545, 16: 700545, 17: 700545, 18: 700545, 19: 700545, 20: 700545, 21: 700545, 22: 700545, 23: 700545, 24: 700545, 25: 700545, 26: 700545, 27: 700545, 28: 700545, 29: 700545, 30: 700545, 31: 700545}</td>\n",
       "            <td>{1: 0, 2: 0, 3: 0, 4: 0, 5: 0, 6: 0, 7: 968, 8: 0, 9: 0, 10: 0, 11: 8292, 12: 8292, 13: 8650, 14: 8650, 15: 1, 16: 10800, 17: 10800, 18: 0, 19: 9142, 20: 9142, 21: 0, 22: 9142, 23: 10800, 24: 0, 25: 0, 26: 691796, 27: 590230, 28: 590230, 29: 590230, 30: 590230, 31: 590230}</td>\n",
       "            <td>{}</td>\n",
       "            <td>{1: bytearray(b&#x27;\\xdf\\x07\\x00\\x00&#x27;), 2: bytearray(b&#x27;\\x01\\x00\\x00\\x00&#x27;), 3: bytearray(b&#x27;\\x01\\x00\\x00\\x00&#x27;), 4: bytearray(b&#x27;\\x06\\x00\\x00\\x00&#x27;), 5: bytearray(b&#x27;AA&#x27;), 6: bytearray(b&#x27;\\x01\\x00\\x00\\x00&#x27;), 7: bytearray(b&#x27;7819A&#x27;), 8: bytearray(b&#x27;10135&#x27;), 9: bytearray(b&#x27;10135&#x27;), 10: bytearray(b&#x27;\\x01\\x00\\x00\\x00&#x27;), 11: bytearray(b&#x27;\\x01\\x00\\x00\\x00&#x27;), 12: bytearray(b&#x27;\\xbc\\xff\\xff\\xff&#x27;), 13: bytearray(b&#x27;\\x01\\x00\\x00\\x00&#x27;), 14: bytearray(b&#x27;\\x01\\x00\\x00\\x00&#x27;), 15: bytearray(b&#x27;\\x12\\x00\\x00\\x00&#x27;), 16: bytearray(b&#x27;\\x10\\x00\\x00\\x00&#x27;), 17: bytearray(b&#x27;\\x08\\x00\\x00\\x00&#x27;), 18: bytearray(b&#x27;\\x1f\\x00\\x00\\x00&#x27;), 19: bytearray(b&#x27;\\x01\\x00\\x00\\x00&#x27;), 20: bytearray(b&#x27;\\x01\\x00\\x00\\x00&#x27;), 21: bytearray(b&#x27;\\x01\\x00\\x00\\x00&#x27;), 22: bytearray(b&#x27;\\x01\\x00\\x00\\x00&#x27;), 23: bytearray(b&#x27;\\xa9\\xff\\xff\\xff&#x27;), 24: bytearray(b&#x27;\\x00\\x00\\x00\\x00&#x27;), 25: bytearray(b&#x27;\\x00\\x00\\x00\\x00&#x27;), 26: bytearray(b&#x27;A&#x27;), 27: bytearray(b&#x27;\\x00\\x00\\x00\\x00&#x27;), 28: bytearray(b&#x27;\\x00\\x00\\x00\\x00&#x27;), 29: bytearray(b&#x27;\\x00\\x00\\x00\\x00&#x27;), 30: bytearray(b&#x27;\\x00\\x00\\x00\\x00&#x27;), 31: bytearray(b&#x27;\\x00\\x00\\x00\\x00&#x27;)}</td>\n",
       "            <td>{1: bytearray(b&#x27;\\xdf\\x07\\x00\\x00&#x27;), 2: bytearray(b&#x27;\\x0c\\x00\\x00\\x00&#x27;), 3: bytearray(b&#x27;\\x1f\\x00\\x00\\x00&#x27;), 4: bytearray(b&#x27;\\x06\\x00\\x00\\x00&#x27;), 5: bytearray(b&#x27;WN&#x27;), 6: bytearray(b&#x27;\\xfd \\x00\\x00&#x27;), 7: bytearray(b&#x27;N9EAMQ&#x27;), 8: bytearray(b&#x27;YUM&#x27;), 9: bytearray(b&#x27;YUM&#x27;), 10: bytearray(b&#x27;7\\t\\x00\\x00&#x27;), 11: bytearray(b&#x27;`\\t\\x00\\x00&#x27;), 12: bytearray(b&#x27;V\\x07\\x00\\x00&#x27;), 13: bytearray(b&#x27;\\xb0\\x00\\x00\\x00&#x27;), 14: bytearray(b&#x27;`\\t\\x00\\x00&#x27;), 15: bytearray(b&#x27;\\xce\\x02\\x00\\x00&#x27;), 16: bytearray(b&#x27;\\xdf\\x02\\x00\\x00&#x27;), 17: bytearray(b&#x27;\\xab\\x02\\x00\\x00&#x27;), 18: bytearray(b&#x27;w\\x13\\x00\\x00&#x27;), 19: bytearray(b&#x27;`\\t\\x00\\x00&#x27;), 20: bytearray(b&#x27;\\xca\\x00\\x00\\x00&#x27;), 21: bytearray(b&#x27;`\\t\\x00\\x00&#x27;), 22: bytearray(b&#x27;`\\t\\x00\\x00&#x27;), 23: bytearray(b&#x27;j\\x07\\x00\\x00&#x27;), 24: bytearray(b&#x27;\\x01\\x00\\x00\\x00&#x27;), 25: bytearray(b&#x27;\\x01\\x00\\x00\\x00&#x27;), 26: bytearray(b&#x27;D&#x27;), 27: bytearray(b&#x27;\\x19\\x04\\x00\\x00&#x27;), 28: bytearray(b&#x27;\\xed\\x00\\x00\\x00&#x27;), 29: bytearray(b&#x27;V\\x07\\x00\\x00&#x27;), 30: bytearray(b&#x27;\\xe8\\x04\\x00\\x00&#x27;), 31: bytearray(b&#x27;\\x80\\x04\\x00\\x00&#x27;)}</td>\n",
       "            <td>None</td>\n",
       "            <td>[4]</td>\n",
       "            <td>None</td>\n",
       "            <td>0</td>\n",
       "            <td>Row(air_system_delay=Row(column_size=162608, value_count=700545, null_value_count=590230, nan_value_count=None, lower_bound=0, upper_bound=1049), air_time=Row(column_size=849759, value_count=700545, null_value_count=10800, nan_value_count=None, lower_bound=8, upper_bound=683), airline=Row(column_size=257560, value_count=700545, null_value_count=0, nan_value_count=None, lower_bound=&#x27;AA&#x27;, upper_bound=&#x27;WN&#x27;), airline_delay=Row(column_size=176868, value_count=700545, null_value_count=590230, nan_value_count=None, lower_bound=0, upper_bound=1878), arrival_delay=Row(column_size=745456, value_count=700545, null_value_count=10800, nan_value_count=None, lower_bound=-87, upper_bound=1898), arrival_time=Row(column_size=984262, value_count=700545, null_value_count=9142, nan_value_count=None, lower_bound=1, upper_bound=2400), cancellation_reason=Row(column_size=19631, value_count=700545, null_value_count=691796, nan_value_count=None, lower_bound=&#x27;A&#x27;, upper_bound=&#x27;D&#x27;), cancelled=Row(column_size=17552, value_count=700545, null_value_count=0, nan_value_count=None, lower_bound=0, upper_bound=1), day=Row(column_size=2822, value_count=700545, null_value_count=0, nan_value_count=None, lower_bound=1, upper_bound=31), day_of_week=Row(column_size=1398, value_count=700545, null_value_count=0, nan_value_count=None, lower_bound=6, upper_bound=6), departure_delay=Row(column_size=683691, value_count=700545, null_value_count=8292, nan_value_count=None, lower_bound=-68, upper_bound=1878), departure_time=Row(column_size=980802, value_count=700545, null_value_count=8292, nan_value_count=None, lower_bound=1, upper_bound=2400), destination_airport=Row(column_size=726942, value_count=700545, null_value_count=0, nan_value_count=None, lower_bound=&#x27;10135&#x27;, upper_bound=&#x27;YUM&#x27;), distance=Row(column_size=968890, value_count=700545, null_value_count=0, nan_value_count=None, lower_bound=31, upper_bound=4983), diverted=Row(column_size=7564, value_count=700545, null_value_count=0, nan_value_count=None, lower_bound=0, upper_bound=1), elapsed_time=Row(column_size=854443, value_count=700545, null_value_count=10800, nan_value_count=None, lower_bound=16, upper_bound=735), flight_number=Row(column_size=1156818, value_count=700545, null_value_count=0, nan_value_count=None, lower_bound=1, upper_bound=8445), late_aircraft_delay=Row(column_size=170022, value_count=700545, null_value_count=590230, nan_value_count=None, lower_bound=0, upper_bound=1256), month=Row(column_size=2128, value_count=700545, null_value_count=0, nan_value_count=None, lower_bound=1, upper_bound=12), origin_airport=Row(column_size=754731, value_count=700545, null_value_count=0, nan_value_count=None, lower_bound=&#x27;10135&#x27;, upper_bound=&#x27;YUM&#x27;), scheduled_arrival=Row(column_size=969020, value_count=700545, null_value_count=0, nan_value_count=None, lower_bound=1, upper_bound=2400), scheduled_departure=Row(column_size=412854, value_count=700545, null_value_count=0, nan_value_count=None, lower_bound=1, upper_bound=2359), scheduled_time=Row(column_size=822092, value_count=700545, null_value_count=1, nan_value_count=None, lower_bound=18, upper_bound=718), security_delay=Row(column_size=80434, value_count=700545, null_value_count=590230, nan_value_count=None, lower_bound=0, upper_bound=237), tail_number=Row(column_size=1159274, value_count=700545, null_value_count=968, nan_value_count=None, lower_bound=&#x27;7819A&#x27;, upper_bound=&#x27;N9EAMQ&#x27;), taxi_in=Row(column_size=413531, value_count=700545, null_value_count=9142, nan_value_count=None, lower_bound=1, upper_bound=202), taxi_out=Row(column_size=442397, value_count=700545, null_value_count=8650, nan_value_count=None, lower_bound=1, upper_bound=176), weather_delay=Row(column_size=100274, value_count=700545, null_value_count=590230, nan_value_count=None, lower_bound=0, upper_bound=1152), wheels_off=Row(column_size=981158, value_count=700545, null_value_count=8650, nan_value_count=None, lower_bound=1, upper_bound=2400), wheels_on=Row(column_size=984263, value_count=700545, null_value_count=9142, nan_value_count=None, lower_bound=1, upper_bound=2400), year=Row(column_size=1398, value_count=700545, null_value_count=0, nan_value_count=None, lower_bound=2015, upper_bound=2015))</td>\n",
       "        </tr>\n",
       "        <tr>\n",
       "            <td>0</td>\n",
       "            <td>s3://warehouse/db/flights/data/00006-75-dc2c4f34-0586-4421-94d3-1124ed1b0086-0-00001.parquet</td>\n",
       "            <td>PARQUET</td>\n",
       "            <td>0</td>\n",
       "            <td>817764</td>\n",
       "            <td>18565050</td>\n",
       "            <td>{1: 1590, 2: 2456, 3: 3168, 4: 1590, 5: 296457, 6: 1347081, 7: 1352128, 8: 868126, 9: 884105, 10: 457640, 11: 1145678, 12: 791492, 13: 517406, 14: 1146133, 15: 947332, 16: 984083, 17: 986078, 18: 1130497, 19: 1147139, 20: 458657, 21: 1130641, 22: 1147129, 23: 871345, 24: 8005, 25: 22695, 26: 25592, 27: 195147, 28: 96608, 29: 213487, 30: 225700, 31: 120542}</td>\n",
       "            <td>{1: 817764, 2: 817764, 3: 817764, 4: 817764, 5: 817764, 6: 817764, 7: 817764, 8: 817764, 9: 817764, 10: 817764, 11: 817764, 12: 817764, 13: 817764, 14: 817764, 15: 817764, 16: 817764, 17: 817764, 18: 817764, 19: 817764, 20: 817764, 21: 817764, 22: 817764, 23: 817764, 24: 817764, 25: 817764, 26: 817764, 27: 817764, 28: 817764, 29: 817764, 30: 817764, 31: 817764}</td>\n",
       "            <td>{1: 0, 2: 0, 3: 0, 4: 0, 5: 0, 6: 0, 7: 1929, 8: 0, 9: 0, 10: 0, 11: 12617, 12: 12617, 13: 13021, 14: 13021, 15: 3, 16: 15209, 17: 15209, 18: 0, 19: 13509, 20: 13509, 21: 0, 22: 13509, 23: 15209, 24: 0, 25: 0, 26: 804599, 27: 670826, 28: 670826, 29: 670826, 30: 670826, 31: 670826}</td>\n",
       "            <td>{}</td>\n",
       "            <td>{1: bytearray(b&#x27;\\xdf\\x07\\x00\\x00&#x27;), 2: bytearray(b&#x27;\\x01\\x00\\x00\\x00&#x27;), 3: bytearray(b&#x27;\\x01\\x00\\x00\\x00&#x27;), 4: bytearray(b&#x27;\\x07\\x00\\x00\\x00&#x27;), 5: bytearray(b&#x27;AA&#x27;), 6: bytearray(b&#x27;\\x01\\x00\\x00\\x00&#x27;), 7: bytearray(b&#x27;7819A&#x27;), 8: bytearray(b&#x27;10135&#x27;), 9: bytearray(b&#x27;10135&#x27;), 10: bytearray(b&#x27;\\x01\\x00\\x00\\x00&#x27;), 11: bytearray(b&#x27;\\x01\\x00\\x00\\x00&#x27;), 12: bytearray(b&#x27;\\xae\\xff\\xff\\xff&#x27;), 13: bytearray(b&#x27;\\x01\\x00\\x00\\x00&#x27;), 14: bytearray(b&#x27;\\x01\\x00\\x00\\x00&#x27;), 15: bytearray(b&#x27;\\x12\\x00\\x00\\x00&#x27;), 16: bytearray(b&#x27;\\x0e\\x00\\x00\\x00&#x27;), 17: bytearray(b&#x27;\\x07\\x00\\x00\\x00&#x27;), 18: bytearray(b&#x27;\\x1f\\x00\\x00\\x00&#x27;), 19: bytearray(b&#x27;\\x01\\x00\\x00\\x00&#x27;), 20: bytearray(b&#x27;\\x01\\x00\\x00\\x00&#x27;), 21: bytearray(b&#x27;\\x01\\x00\\x00\\x00&#x27;), 22: bytearray(b&#x27;\\x01\\x00\\x00\\x00&#x27;), 23: bytearray(b&#x27;\\xb0\\xff\\xff\\xff&#x27;), 24: bytearray(b&#x27;\\x00\\x00\\x00\\x00&#x27;), 25: bytearray(b&#x27;\\x00\\x00\\x00\\x00&#x27;), 26: bytearray(b&#x27;A&#x27;), 27: bytearray(b&#x27;\\x00\\x00\\x00\\x00&#x27;), 28: bytearray(b&#x27;\\x00\\x00\\x00\\x00&#x27;), 29: bytearray(b&#x27;\\x00\\x00\\x00\\x00&#x27;), 30: bytearray(b&#x27;\\x00\\x00\\x00\\x00&#x27;), 31: bytearray(b&#x27;\\x00\\x00\\x00\\x00&#x27;)}</td>\n",
       "            <td>{1: bytearray(b&#x27;\\xdf\\x07\\x00\\x00&#x27;), 2: bytearray(b&#x27;\\x0c\\x00\\x00\\x00&#x27;), 3: bytearray(b&#x27;\\x1f\\x00\\x00\\x00&#x27;), 4: bytearray(b&#x27;\\x07\\x00\\x00\\x00&#x27;), 5: bytearray(b&#x27;WN&#x27;), 6: bytearray(b&#x27;B&amp;\\x00\\x00&#x27;), 7: bytearray(b&#x27;N9EAMQ&#x27;), 8: bytearray(b&#x27;YUM&#x27;), 9: bytearray(b&#x27;YUM&#x27;), 10: bytearray(b&#x27;7\\t\\x00\\x00&#x27;), 11: bytearray(b&#x27;`\\t\\x00\\x00&#x27;), 12: bytearray(b&#x27;\\x86\\x06\\x00\\x00&#x27;), 13: bytearray(b&#x27;\\xb4\\x00\\x00\\x00&#x27;), 14: bytearray(b&#x27;`\\t\\x00\\x00&#x27;), 15: bytearray(b&#x27;\\xce\\x02\\x00\\x00&#x27;), 16: bytearray(b&#x27;\\xc6\\x02\\x00\\x00&#x27;), 17: bytearray(b&#x27;\\xaa\\x02\\x00\\x00&#x27;), 18: bytearray(b&#x27;w\\x13\\x00\\x00&#x27;), 19: bytearray(b&#x27;`\\t\\x00\\x00&#x27;), 20: bytearray(b&#x27;\\xa9\\x00\\x00\\x00&#x27;), 21: bytearray(b&#x27;`\\t\\x00\\x00&#x27;), 22: bytearray(b&#x27;`\\t\\x00\\x00&#x27;), 23: bytearray(b&#x27;\\x81\\x06\\x00\\x00&#x27;), 24: bytearray(b&#x27;\\x01\\x00\\x00\\x00&#x27;), 25: bytearray(b&#x27;\\x01\\x00\\x00\\x00&#x27;), 26: bytearray(b&#x27;C&#x27;), 27: bytearray(b&#x27;M\\x04\\x00\\x00&#x27;), 28: bytearray(b&#x27;\\xf1\\x00\\x00\\x00&#x27;), 29: bytearray(b&#x27;\\x81\\x06\\x00\\x00&#x27;), 30: bytearray(b&#x27;3\\x05\\x00\\x00&#x27;), 31: bytearray(b&#x27;\\xbb\\x04\\x00\\x00&#x27;)}</td>\n",
       "            <td>None</td>\n",
       "            <td>[4]</td>\n",
       "            <td>None</td>\n",
       "            <td>0</td>\n",
       "            <td>Row(air_system_delay=Row(column_size=195147, value_count=817764, null_value_count=670826, nan_value_count=None, lower_bound=0, upper_bound=1101), air_time=Row(column_size=986078, value_count=817764, null_value_count=15209, nan_value_count=None, lower_bound=7, upper_bound=682), airline=Row(column_size=296457, value_count=817764, null_value_count=0, nan_value_count=None, lower_bound=&#x27;AA&#x27;, upper_bound=&#x27;WN&#x27;), airline_delay=Row(column_size=213487, value_count=817764, null_value_count=670826, nan_value_count=None, lower_bound=0, upper_bound=1665), arrival_delay=Row(column_size=871345, value_count=817764, null_value_count=15209, nan_value_count=None, lower_bound=-80, upper_bound=1665), arrival_time=Row(column_size=1147129, value_count=817764, null_value_count=13509, nan_value_count=None, lower_bound=1, upper_bound=2400), cancellation_reason=Row(column_size=25592, value_count=817764, null_value_count=804599, nan_value_count=None, lower_bound=&#x27;A&#x27;, upper_bound=&#x27;C&#x27;), cancelled=Row(column_size=22695, value_count=817764, null_value_count=0, nan_value_count=None, lower_bound=0, upper_bound=1), day=Row(column_size=3168, value_count=817764, null_value_count=0, nan_value_count=None, lower_bound=1, upper_bound=31), day_of_week=Row(column_size=1590, value_count=817764, null_value_count=0, nan_value_count=None, lower_bound=7, upper_bound=7), departure_delay=Row(column_size=791492, value_count=817764, null_value_count=12617, nan_value_count=None, lower_bound=-82, upper_bound=1670), departure_time=Row(column_size=1145678, value_count=817764, null_value_count=12617, nan_value_count=None, lower_bound=1, upper_bound=2400), destination_airport=Row(column_size=884105, value_count=817764, null_value_count=0, nan_value_count=None, lower_bound=&#x27;10135&#x27;, upper_bound=&#x27;YUM&#x27;), distance=Row(column_size=1130497, value_count=817764, null_value_count=0, nan_value_count=None, lower_bound=31, upper_bound=4983), diverted=Row(column_size=8005, value_count=817764, null_value_count=0, nan_value_count=None, lower_bound=0, upper_bound=1), elapsed_time=Row(column_size=984083, value_count=817764, null_value_count=15209, nan_value_count=None, lower_bound=14, upper_bound=710), flight_number=Row(column_size=1347081, value_count=817764, null_value_count=0, nan_value_count=None, lower_bound=1, upper_bound=9794), late_aircraft_delay=Row(column_size=225700, value_count=817764, null_value_count=670826, nan_value_count=None, lower_bound=0, upper_bound=1331), month=Row(column_size=2456, value_count=817764, null_value_count=0, nan_value_count=None, lower_bound=1, upper_bound=12), origin_airport=Row(column_size=868126, value_count=817764, null_value_count=0, nan_value_count=None, lower_bound=&#x27;10135&#x27;, upper_bound=&#x27;YUM&#x27;), scheduled_arrival=Row(column_size=1130641, value_count=817764, null_value_count=0, nan_value_count=None, lower_bound=1, upper_bound=2400), scheduled_departure=Row(column_size=457640, value_count=817764, null_value_count=0, nan_value_count=None, lower_bound=1, upper_bound=2359), scheduled_time=Row(column_size=947332, value_count=817764, null_value_count=3, nan_value_count=None, lower_bound=18, upper_bound=718), security_delay=Row(column_size=96608, value_count=817764, null_value_count=670826, nan_value_count=None, lower_bound=0, upper_bound=241), tail_number=Row(column_size=1352128, value_count=817764, null_value_count=1929, nan_value_count=None, lower_bound=&#x27;7819A&#x27;, upper_bound=&#x27;N9EAMQ&#x27;), taxi_in=Row(column_size=458657, value_count=817764, null_value_count=13509, nan_value_count=None, lower_bound=1, upper_bound=169), taxi_out=Row(column_size=517406, value_count=817764, null_value_count=13021, nan_value_count=None, lower_bound=1, upper_bound=180), weather_delay=Row(column_size=120542, value_count=817764, null_value_count=670826, nan_value_count=None, lower_bound=0, upper_bound=1211), wheels_off=Row(column_size=1146133, value_count=817764, null_value_count=13021, nan_value_count=None, lower_bound=1, upper_bound=2400), wheels_on=Row(column_size=1147139, value_count=817764, null_value_count=13509, nan_value_count=None, lower_bound=1, upper_bound=2400), year=Row(column_size=1590, value_count=817764, null_value_count=0, nan_value_count=None, lower_bound=2015, upper_bound=2015))</td>\n",
       "        </tr>\n",
       "    </tbody>\n",
       "</table>"
      ],
      "text/plain": [
       "+---------+----------------------------------------------------------------------------------------------+-------------+---------+--------------+--------------------+----------------------------------------------------------------------------------------------------------------------------------------------------------------------------------------------------------------------------------------------------------------------------------------------------------------------------------------------------------------------------+-----------------------------------------------------------------------------------------------------------------------------------------------------------------------------------------------------------------------------------------------------------------------------------------------------------------------------------------------------------------------------+-------------------------------------------------------------------------------------------------------------------------------------------------------------------------------------------------------------------------------------------------------------------------------------------+------------------+---------------------------------------------------------------------------------------------------------------------------------------------------------------------------------------------------------------------------------------------------------------------------------------------------------------------------------------------------------------------------------------------------------------------------------------------------------------------------------------------------------------------------------------------------------------------------------------------------------------------------------------------------------------------------------------------------------------------------------------------------------------------------------------------------------------------------------------------------------------------------------------------------------------------------------------------------------------------------------------------------------------------------------------------------------------------------------------+---------------------------------------------------------------------------------------------------------------------------------------------------------------------------------------------------------------------------------------------------------------------------------------------------------------------------------------------------------------------------------------------------------------------------------------------------------------------------------------------------------------------------------------------------------------------------------------------------------------------------------------------------------------------------------------------------------------------------------------------------------------------------------------------------------------------------------------------------------------------------------------------------------------------------------------------------------------------------------------------------------------------------------------------------+--------------+---------------+--------------+---------------+----------------------------------------------------------------------------------------------------------------------------------------------------------------------------------------------------------------------------------------------------------------------------------------------------------------------------------------------------------------------------------------------------------------------------------------------------------------------------------------------------------------------------------------------------------------------------------------------------------------------------------------------------------------------------------------------------------------------------------------------------------------------------------------------------------------------------------------------------------------------------------------------------------------------------------------------------------------------------------------------------------------------------------------------------------------------------------------------------------------------------------------------------------------------------------------------------------------------------------------------------------------------------------------------------------------------------------------------------------------------------------------------------------------------------------------------------------------------------------------------------------------------------------------------------------------------------------------------------------------------------------------------------------------------------------------------------------------------------------------------------------------------------------------------------------------------------------------------------------------------------------------------------------------------------------------------------------------------------------------------------------------------------------------------------------------------------------------------------------------------------------------------------------------------------------------------------------------------------------------------------------------------------------------------------------------------------------------------------------------------------------------------------------------------------------------------------------------------------------------------------------------------------------------------------------------------------------------------------------------------------------------------------------------------------------------------------------------------------------------------------------------------------------------------------------------------------------------------------------------------------------------------------------------------------------------------------------------------------------------------------------------------------------------------------------------------------------------------------------------------------------------------------------------------------------------------------------------------------------------------------------------------------------------------------------------------------------------------------------------------------------------------------------------------------------------------------------------------------------------------------------------------------------------------------------------------------------------------------------------------------------------------------------------------------------------------------------------------------------------------------------------------------------------------------------------------------------------------------------------------------------------------------------------------------------------------------------------------------------------------------------------------------------------------------------------------------------------------------------------------------------------------------------------------------------------------------------------------------------------------------------------------------------------------------------------------------------------------------------------------------------+\n",
       "| content |                                                                                    file_path | file_format | spec_id | record_count | file_size_in_bytes |                                                                                                                                                                                                                                                                                                                                                               column_sizes |                                                                                                                                                                                                                                                                                                                                                                value_counts |                                                                                                                                                                                                                                                                         null_value_counts | nan_value_counts |                                                                                                                                                                                                                                                                                                                                                                                                                                                                                                                                                                                                                                                                                                                                                                                                                                                                                                                                                                                                                                                                          lower_bounds |                                                                                                                                                                                                                                                                                                                                                                                                                                                                                                                                                                                                                                                                                                                                                                                                                                                                                                                                                                                                                                      upper_bounds | key_metadata | split_offsets | equality_ids | sort_order_id |                                                                                                                                                                                                                                                                                                                                                                                                                                                                                                                                                                                                                                                                                                                                                                                                                                                                                                                                                                                                                                                                                                                                                                                                                                                                                                                                                                                                                                                                                                                                                                                                                                                                                                                                                                                                                                                                                                                                                                                                                                                                                                                                                                                                                                                                                                                                                                                                                                                                                                                                                                                                                                                                                                                                                                                                                                                                                                                                                                                                                                                                                                                                                                                                                                                                                                                                                                                                                                                                                                                                                                                                                                                                                                                                                                                                                                                                                                                                                                                                                                                                                                                                                                                                                                                                                                                                                                 readable_metrics |\n",
       "+---------+----------------------------------------------------------------------------------------------+-------------+---------+--------------+--------------------+----------------------------------------------------------------------------------------------------------------------------------------------------------------------------------------------------------------------------------------------------------------------------------------------------------------------------------------------------------------------------+-----------------------------------------------------------------------------------------------------------------------------------------------------------------------------------------------------------------------------------------------------------------------------------------------------------------------------------------------------------------------------+-------------------------------------------------------------------------------------------------------------------------------------------------------------------------------------------------------------------------------------------------------------------------------------------+------------------+---------------------------------------------------------------------------------------------------------------------------------------------------------------------------------------------------------------------------------------------------------------------------------------------------------------------------------------------------------------------------------------------------------------------------------------------------------------------------------------------------------------------------------------------------------------------------------------------------------------------------------------------------------------------------------------------------------------------------------------------------------------------------------------------------------------------------------------------------------------------------------------------------------------------------------------------------------------------------------------------------------------------------------------------------------------------------------------+---------------------------------------------------------------------------------------------------------------------------------------------------------------------------------------------------------------------------------------------------------------------------------------------------------------------------------------------------------------------------------------------------------------------------------------------------------------------------------------------------------------------------------------------------------------------------------------------------------------------------------------------------------------------------------------------------------------------------------------------------------------------------------------------------------------------------------------------------------------------------------------------------------------------------------------------------------------------------------------------------------------------------------------------------+--------------+---------------+--------------+---------------+----------------------------------------------------------------------------------------------------------------------------------------------------------------------------------------------------------------------------------------------------------------------------------------------------------------------------------------------------------------------------------------------------------------------------------------------------------------------------------------------------------------------------------------------------------------------------------------------------------------------------------------------------------------------------------------------------------------------------------------------------------------------------------------------------------------------------------------------------------------------------------------------------------------------------------------------------------------------------------------------------------------------------------------------------------------------------------------------------------------------------------------------------------------------------------------------------------------------------------------------------------------------------------------------------------------------------------------------------------------------------------------------------------------------------------------------------------------------------------------------------------------------------------------------------------------------------------------------------------------------------------------------------------------------------------------------------------------------------------------------------------------------------------------------------------------------------------------------------------------------------------------------------------------------------------------------------------------------------------------------------------------------------------------------------------------------------------------------------------------------------------------------------------------------------------------------------------------------------------------------------------------------------------------------------------------------------------------------------------------------------------------------------------------------------------------------------------------------------------------------------------------------------------------------------------------------------------------------------------------------------------------------------------------------------------------------------------------------------------------------------------------------------------------------------------------------------------------------------------------------------------------------------------------------------------------------------------------------------------------------------------------------------------------------------------------------------------------------------------------------------------------------------------------------------------------------------------------------------------------------------------------------------------------------------------------------------------------------------------------------------------------------------------------------------------------------------------------------------------------------------------------------------------------------------------------------------------------------------------------------------------------------------------------------------------------------------------------------------------------------------------------------------------------------------------------------------------------------------------------------------------------------------------------------------------------------------------------------------------------------------------------------------------------------------------------------------------------------------------------------------------------------------------------------------------------------------------------------------------------------------------------------------------------------------------------------------------------------------------------------------------+\n",
       "|       0 | s3://warehouse/db/flights/data/00000-69-dc2c4f34-0586-4421-94d3-1124ed1b0086-0-00001.parquet |     PARQUET |       0 |       865543 |           19788655 |  {1: 1702, 2: 2658, 3: 3393, 4: 1702, 5: 312677, 6: 1424769, 7: 1432183, 8: 929096, 9: 903891, 10: 481052, 11: 1215732, 12: 872911, 13: 572179, 14: 1216038, 15: 999944, 16: 1051864, 17: 1046375, 18: 1196367, 19: 1216524, 20: 490227, 21: 1196506, 22: 1216527, 23: 939979, 24: 9772, 25: 31761, 26: 36382, 27: 222731, 28: 102995, 29: 228256, 30: 251468, 31: 139256} | {1: 865543, 2: 865543, 3: 865543, 4: 865543, 5: 865543, 6: 865543, 7: 865543, 8: 865543, 9: 865543, 10: 865543, 11: 865543, 12: 865543, 13: 865543, 14: 865543, 15: 865543, 16: 865543, 17: 865543, 18: 865543, 19: 865543, 20: 865543, 21: 865543, 22: 865543, 23: 865543, 24: 865543, 25: 865543, 26: 865543, 27: 865543, 28: 865543, 29: 865543, 30: 865543, 31: 865543} | {1: 0, 2: 0, 3: 0, 4: 0, 5: 0, 6: 0, 7: 3777, 8: 0, 9: 0, 10: 0, 11: 20255, 12: 20255, 13: 20913, 14: 20913, 15: 1, 16: 23749, 17: 23749, 18: 0, 19: 21643, 20: 21643, 21: 0, 22: 21643, 23: 23749, 24: 0, 25: 0, 26: 844470, 27: 699277, 28: 699277, 29: 699277, 30: 699277, 31: 699277} |               {} | {1: bytearray(b'\\xdf\\x07\\x00\\x00'), 2: bytearray(b'\\x01\\x00\\x00\\x00'), 3: bytearray(b'\\x01\\x00\\x00\\x00'), 4: bytearray(b'\\x01\\x00\\x00\\x00'), 5: bytearray(b'AA'), 6: bytearray(b'\\x01\\x00\\x00\\x00'), 7: bytearray(b'7819A'), 8: bytearray(b'10135'), 9: bytearray(b'10135'), 10: bytearray(b'\\x01\\x00\\x00\\x00'), 11: bytearray(b'\\x01\\x00\\x00\\x00'), 12: bytearray(b'\\xc3\\xff\\xff\\xff'), 13: bytearray(b'\\x01\\x00\\x00\\x00'), 14: bytearray(b'\\x01\\x00\\x00\\x00'), 15: bytearray(b'\\x12\\x00\\x00\\x00'), 16: bytearray(b'\\x0e\\x00\\x00\\x00'), 17: bytearray(b'\\x08\\x00\\x00\\x00'), 18: bytearray(b'\\x15\\x00\\x00\\x00'), 19: bytearray(b'\\x01\\x00\\x00\\x00'), 20: bytearray(b'\\x01\\x00\\x00\\x00'), 21: bytearray(b'\\x01\\x00\\x00\\x00'), 22: bytearray(b'\\x01\\x00\\x00\\x00'), 23: bytearray(b'\\xaf\\xff\\xff\\xff'), 24: bytearray(b'\\x00\\x00\\x00\\x00'), 25: bytearray(b'\\x00\\x00\\x00\\x00'), 26: bytearray(b'A'), 27: bytearray(b'\\x00\\x00\\x00\\x00'), 28: bytearray(b'\\x00\\x00\\x00\\x00'), 29: bytearray(b'\\x00\\x00\\x00\\x00'), 30: bytearray(b'\\x00\\x00\\x00\\x00'), 31: bytearray(b'\\x00\\x00\\x00\\x00')} |                  {1: bytearray(b'\\xdf\\x07\\x00\\x00'), 2: bytearray(b'\\x0c\\x00\\x00\\x00'), 3: bytearray(b'\\x1f\\x00\\x00\\x00'), 4: bytearray(b'\\x01\\x00\\x00\\x00'), 5: bytearray(b'WN'), 6: bytearray(b'h$\\x00\\x00'), 7: bytearray(b'N9EAMQ'), 8: bytearray(b'YUM'), 9: bytearray(b'YUM'), 10: bytearray(b'7\\t\\x00\\x00'), 11: bytearray(b'`\\t\\x00\\x00'), 12: bytearray(b'Y\\x06\\x00\\x00'), 13: bytearray(b'\\xc8\\x00\\x00\\x00'), 14: bytearray(b'`\\t\\x00\\x00'), 15: bytearray(b'\\xce\\x02\\x00\\x00'), 16: bytearray(b'\\xcb\\x02\\x00\\x00'), 17: bytearray(b'\\xaf\\x02\\x00\\x00'), 18: bytearray(b'w\\x13\\x00\\x00'), 19: bytearray(b'`\\t\\x00\\x00'), 20: bytearray(b'\\xf8\\x00\\x00\\x00'), 21: bytearray(b'7\\t\\x00\\x00'), 22: bytearray(b'`\\t\\x00\\x00'), 23: bytearray(b'd\\x06\\x00\\x00'), 24: bytearray(b'\\x01\\x00\\x00\\x00'), 25: bytearray(b'\\x01\\x00\\x00\\x00'), 26: bytearray(b'D'), 27: bytearray(b'\\xdf\\x03\\x00\\x00'), 28: bytearray(b'\\xdd\\x00\\x00\\x00'), 29: bytearray(b'Y\\x06\\x00\\x00'), 30: bytearray(b'\\xde\\x03\\x00\\x00'), 31: bytearray(b'\\\\\\x04\\x00\\x00')} |         None |           [4] |         None |             0 |   Row(air_system_delay=Row(column_size=222731, value_count=865543, null_value_count=699277, nan_value_count=None, lower_bound=0, upper_bound=991), air_time=Row(column_size=1046375, value_count=865543, null_value_count=23749, nan_value_count=None, lower_bound=8, upper_bound=687), airline=Row(column_size=312677, value_count=865543, null_value_count=0, nan_value_count=None, lower_bound='AA', upper_bound='WN'), airline_delay=Row(column_size=228256, value_count=865543, null_value_count=699277, nan_value_count=None, lower_bound=0, upper_bound=1625), arrival_delay=Row(column_size=939979, value_count=865543, null_value_count=23749, nan_value_count=None, lower_bound=-81, upper_bound=1636), arrival_time=Row(column_size=1216527, value_count=865543, null_value_count=21643, nan_value_count=None, lower_bound=1, upper_bound=2400), cancellation_reason=Row(column_size=36382, value_count=865543, null_value_count=844470, nan_value_count=None, lower_bound='A', upper_bound='D'), cancelled=Row(column_size=31761, value_count=865543, null_value_count=0, nan_value_count=None, lower_bound=0, upper_bound=1), day=Row(column_size=3393, value_count=865543, null_value_count=0, nan_value_count=None, lower_bound=1, upper_bound=31), day_of_week=Row(column_size=1702, value_count=865543, null_value_count=0, nan_value_count=None, lower_bound=1, upper_bound=1), departure_delay=Row(column_size=872911, value_count=865543, null_value_count=20255, nan_value_count=None, lower_bound=-61, upper_bound=1625), departure_time=Row(column_size=1215732, value_count=865543, null_value_count=20255, nan_value_count=None, lower_bound=1, upper_bound=2400), destination_airport=Row(column_size=903891, value_count=865543, null_value_count=0, nan_value_count=None, lower_bound='10135', upper_bound='YUM'), distance=Row(column_size=1196367, value_count=865543, null_value_count=0, nan_value_count=None, lower_bound=21, upper_bound=4983), diverted=Row(column_size=9772, value_count=865543, null_value_count=0, nan_value_count=None, lower_bound=0, upper_bound=1), elapsed_time=Row(column_size=1051864, value_count=865543, null_value_count=23749, nan_value_count=None, lower_bound=14, upper_bound=715), flight_number=Row(column_size=1424769, value_count=865543, null_value_count=0, nan_value_count=None, lower_bound=1, upper_bound=9320), late_aircraft_delay=Row(column_size=251468, value_count=865543, null_value_count=699277, nan_value_count=None, lower_bound=0, upper_bound=990), month=Row(column_size=2658, value_count=865543, null_value_count=0, nan_value_count=None, lower_bound=1, upper_bound=12), origin_airport=Row(column_size=929096, value_count=865543, null_value_count=0, nan_value_count=None, lower_bound='10135', upper_bound='YUM'), scheduled_arrival=Row(column_size=1196506, value_count=865543, null_value_count=0, nan_value_count=None, lower_bound=1, upper_bound=2359), scheduled_departure=Row(column_size=481052, value_count=865543, null_value_count=0, nan_value_count=None, lower_bound=1, upper_bound=2359), scheduled_time=Row(column_size=999944, value_count=865543, null_value_count=1, nan_value_count=None, lower_bound=18, upper_bound=718), security_delay=Row(column_size=102995, value_count=865543, null_value_count=699277, nan_value_count=None, lower_bound=0, upper_bound=221), tail_number=Row(column_size=1432183, value_count=865543, null_value_count=3777, nan_value_count=None, lower_bound='7819A', upper_bound='N9EAMQ'), taxi_in=Row(column_size=490227, value_count=865543, null_value_count=21643, nan_value_count=None, lower_bound=1, upper_bound=248), taxi_out=Row(column_size=572179, value_count=865543, null_value_count=20913, nan_value_count=None, lower_bound=1, upper_bound=200), weather_delay=Row(column_size=139256, value_count=865543, null_value_count=699277, nan_value_count=None, lower_bound=0, upper_bound=1116), wheels_off=Row(column_size=1216038, value_count=865543, null_value_count=20913, nan_value_count=None, lower_bound=1, upper_bound=2400), wheels_on=Row(column_size=1216524, value_count=865543, null_value_count=21643, nan_value_count=None, lower_bound=1, upper_bound=2400), year=Row(column_size=1702, value_count=865543, null_value_count=0, nan_value_count=None, lower_bound=2015, upper_bound=2015)) |\n",
       "|       0 | s3://warehouse/db/flights/data/00001-70-dc2c4f34-0586-4421-94d3-1124ed1b0086-0-00001.parquet |     PARQUET |       0 |       844600 |           19204359 |   {1: 1664, 2: 2585, 3: 3348, 4: 1664, 5: 304370, 6: 1390440, 7: 1396127, 8: 889416, 9: 872181, 10: 474746, 11: 1188282, 12: 811925, 13: 541951, 14: 1188714, 15: 954937, 16: 1021068, 17: 1016790, 18: 1167465, 19: 1188795, 20: 539687, 21: 1167580, 22: 1188796, 23: 916552, 24: 8265, 25: 26430, 26: 30086, 27: 221740, 28: 97691, 29: 212559, 30: 212690, 31: 124873} | {1: 844600, 2: 844600, 3: 844600, 4: 844600, 5: 844600, 6: 844600, 7: 844600, 8: 844600, 9: 844600, 10: 844600, 11: 844600, 12: 844600, 13: 844600, 14: 844600, 15: 844600, 16: 844600, 17: 844600, 18: 844600, 19: 844600, 20: 844600, 21: 844600, 22: 844600, 23: 844600, 24: 844600, 25: 844600, 26: 844600, 27: 844600, 28: 844600, 29: 844600, 30: 844600, 31: 844600} | {1: 0, 2: 0, 3: 0, 4: 0, 5: 0, 6: 0, 7: 3046, 8: 0, 9: 0, 10: 0, 11: 14609, 12: 14609, 13: 14953, 14: 14953, 15: 1, 16: 17201, 17: 17201, 18: 0, 19: 15373, 20: 15373, 21: 0, 22: 15373, 23: 17201, 24: 0, 25: 0, 26: 829528, 27: 693417, 28: 693417, 29: 693417, 30: 693417, 31: 693417} |               {} | {1: bytearray(b'\\xdf\\x07\\x00\\x00'), 2: bytearray(b'\\x01\\x00\\x00\\x00'), 3: bytearray(b'\\x01\\x00\\x00\\x00'), 4: bytearray(b'\\x02\\x00\\x00\\x00'), 5: bytearray(b'AA'), 6: bytearray(b'\\x01\\x00\\x00\\x00'), 7: bytearray(b'7819A'), 8: bytearray(b'10135'), 9: bytearray(b'10135'), 10: bytearray(b'\\x01\\x00\\x00\\x00'), 11: bytearray(b'\\x01\\x00\\x00\\x00'), 12: bytearray(b'\\xd0\\xff\\xff\\xff'), 13: bytearray(b'\\x01\\x00\\x00\\x00'), 14: bytearray(b'\\x01\\x00\\x00\\x00'), 15: bytearray(b'\\x12\\x00\\x00\\x00'), 16: bytearray(b'\\x0f\\x00\\x00\\x00'), 17: bytearray(b'\\x07\\x00\\x00\\x00'), 18: bytearray(b'\\x1f\\x00\\x00\\x00'), 19: bytearray(b'\\x01\\x00\\x00\\x00'), 20: bytearray(b'\\x01\\x00\\x00\\x00'), 21: bytearray(b'\\x01\\x00\\x00\\x00'), 22: bytearray(b'\\x01\\x00\\x00\\x00'), 23: bytearray(b'\\xb0\\xff\\xff\\xff'), 24: bytearray(b'\\x00\\x00\\x00\\x00'), 25: bytearray(b'\\x00\\x00\\x00\\x00'), 26: bytearray(b'A'), 27: bytearray(b'\\x00\\x00\\x00\\x00'), 28: bytearray(b'\\x00\\x00\\x00\\x00'), 29: bytearray(b'\\x00\\x00\\x00\\x00'), 30: bytearray(b'\\x00\\x00\\x00\\x00'), 31: bytearray(b'\\x00\\x00\\x00\\x00')} |          {1: bytearray(b'\\xdf\\x07\\x00\\x00'), 2: bytearray(b'\\x0c\\x00\\x00\\x00'), 3: bytearray(b'\\x1f\\x00\\x00\\x00'), 4: bytearray(b'\\x02\\x00\\x00\\x00'), 5: bytearray(b'WN'), 6: bytearray(b'\\x0e\\x1d\\x00\\x00'), 7: bytearray(b'N9EAMQ'), 8: bytearray(b'YUM'), 9: bytearray(b'YUM'), 10: bytearray(b'7\\t\\x00\\x00'), 11: bytearray(b'`\\t\\x00\\x00'), 12: bytearray(b'I\\x06\\x00\\x00'), 13: bytearray(b'\\xad\\x00\\x00\\x00'), 14: bytearray(b'`\\t\\x00\\x00'), 15: bytearray(b'\\xce\\x02\\x00\\x00'), 16: bytearray(b'\\xd4\\x02\\x00\\x00'), 17: bytearray(b'\\xa2\\x02\\x00\\x00'), 18: bytearray(b'w\\x13\\x00\\x00'), 19: bytearray(b'`\\t\\x00\\x00'), 20: bytearray(b'\\xae\\x00\\x00\\x00'), 21: bytearray(b'7\\t\\x00\\x00'), 22: bytearray(b'`\\t\\x00\\x00'), 23: bytearray(b'>\\x06\\x00\\x00'), 24: bytearray(b'\\x01\\x00\\x00\\x00'), 25: bytearray(b'\\x01\\x00\\x00\\x00'), 26: bytearray(b'D'), 27: bytearray(b'>\\x03\\x00\\x00'), 28: bytearray(b'\\x00\\x01\\x00\\x00'), 29: bytearray(b'\\x1b\\x06\\x00\\x00'), 30: bytearray(b'\\xd7\\x03\\x00\\x00'), 31: bytearray(b'\\x0b\\x04\\x00\\x00')} |         None |           [4] |         None |             0 |    Row(air_system_delay=Row(column_size=221740, value_count=844600, null_value_count=693417, nan_value_count=None, lower_bound=0, upper_bound=830), air_time=Row(column_size=1016790, value_count=844600, null_value_count=17201, nan_value_count=None, lower_bound=7, upper_bound=674), airline=Row(column_size=304370, value_count=844600, null_value_count=0, nan_value_count=None, lower_bound='AA', upper_bound='WN'), airline_delay=Row(column_size=212559, value_count=844600, null_value_count=693417, nan_value_count=None, lower_bound=0, upper_bound=1563), arrival_delay=Row(column_size=916552, value_count=844600, null_value_count=17201, nan_value_count=None, lower_bound=-80, upper_bound=1598), arrival_time=Row(column_size=1188796, value_count=844600, null_value_count=15373, nan_value_count=None, lower_bound=1, upper_bound=2400), cancellation_reason=Row(column_size=30086, value_count=844600, null_value_count=829528, nan_value_count=None, lower_bound='A', upper_bound='D'), cancelled=Row(column_size=26430, value_count=844600, null_value_count=0, nan_value_count=None, lower_bound=0, upper_bound=1), day=Row(column_size=3348, value_count=844600, null_value_count=0, nan_value_count=None, lower_bound=1, upper_bound=31), day_of_week=Row(column_size=1664, value_count=844600, null_value_count=0, nan_value_count=None, lower_bound=2, upper_bound=2), departure_delay=Row(column_size=811925, value_count=844600, null_value_count=14609, nan_value_count=None, lower_bound=-48, upper_bound=1609), departure_time=Row(column_size=1188282, value_count=844600, null_value_count=14609, nan_value_count=None, lower_bound=1, upper_bound=2400), destination_airport=Row(column_size=872181, value_count=844600, null_value_count=0, nan_value_count=None, lower_bound='10135', upper_bound='YUM'), distance=Row(column_size=1167465, value_count=844600, null_value_count=0, nan_value_count=None, lower_bound=31, upper_bound=4983), diverted=Row(column_size=8265, value_count=844600, null_value_count=0, nan_value_count=None, lower_bound=0, upper_bound=1), elapsed_time=Row(column_size=1021068, value_count=844600, null_value_count=17201, nan_value_count=None, lower_bound=15, upper_bound=724), flight_number=Row(column_size=1390440, value_count=844600, null_value_count=0, nan_value_count=None, lower_bound=1, upper_bound=7438), late_aircraft_delay=Row(column_size=212690, value_count=844600, null_value_count=693417, nan_value_count=None, lower_bound=0, upper_bound=983), month=Row(column_size=2585, value_count=844600, null_value_count=0, nan_value_count=None, lower_bound=1, upper_bound=12), origin_airport=Row(column_size=889416, value_count=844600, null_value_count=0, nan_value_count=None, lower_bound='10135', upper_bound='YUM'), scheduled_arrival=Row(column_size=1167580, value_count=844600, null_value_count=0, nan_value_count=None, lower_bound=1, upper_bound=2359), scheduled_departure=Row(column_size=474746, value_count=844600, null_value_count=0, nan_value_count=None, lower_bound=1, upper_bound=2359), scheduled_time=Row(column_size=954937, value_count=844600, null_value_count=1, nan_value_count=None, lower_bound=18, upper_bound=718), security_delay=Row(column_size=97691, value_count=844600, null_value_count=693417, nan_value_count=None, lower_bound=0, upper_bound=256), tail_number=Row(column_size=1396127, value_count=844600, null_value_count=3046, nan_value_count=None, lower_bound='7819A', upper_bound='N9EAMQ'), taxi_in=Row(column_size=539687, value_count=844600, null_value_count=15373, nan_value_count=None, lower_bound=1, upper_bound=174), taxi_out=Row(column_size=541951, value_count=844600, null_value_count=14953, nan_value_count=None, lower_bound=1, upper_bound=173), weather_delay=Row(column_size=124873, value_count=844600, null_value_count=693417, nan_value_count=None, lower_bound=0, upper_bound=1035), wheels_off=Row(column_size=1188714, value_count=844600, null_value_count=14953, nan_value_count=None, lower_bound=1, upper_bound=2400), wheels_on=Row(column_size=1188795, value_count=844600, null_value_count=15373, nan_value_count=None, lower_bound=1, upper_bound=2400), year=Row(column_size=1664, value_count=844600, null_value_count=0, nan_value_count=None, lower_bound=2015, upper_bound=2015)) |\n",
       "|       0 | s3://warehouse/db/flights/data/00002-71-dc2c4f34-0586-4421-94d3-1124ed1b0086-0-00001.parquet |     PARQUET |       0 |       855897 |           19411983 |  {1: 1666, 2: 2603, 3: 3325, 4: 1665, 5: 306658, 6: 1408664, 7: 1414097, 8: 919819, 9: 895152, 10: 478785, 11: 1202356, 12: 841793, 13: 547089, 14: 1202811, 15: 951468, 16: 1034900, 17: 1031087, 18: 1183041, 19: 1203475, 20: 494205, 21: 1183140, 22: 1203473, 23: 907473, 24: 7937, 25: 22187, 26: 24926, 27: 209035, 28: 100416, 29: 228371, 30: 233573, 31: 125823} | {1: 855897, 2: 855897, 3: 855897, 4: 855897, 5: 855897, 6: 855897, 7: 855897, 8: 855897, 9: 855897, 10: 855897, 11: 855897, 12: 855897, 13: 855897, 14: 855897, 15: 855897, 16: 855897, 17: 855897, 18: 855897, 19: 855897, 20: 855897, 21: 855897, 22: 855897, 23: 855897, 24: 855897, 25: 855897, 26: 855897, 27: 855897, 28: 855897, 29: 855897, 30: 855897, 31: 855897} | {1: 0, 2: 0, 3: 0, 4: 0, 5: 0, 6: 0, 7: 1956, 8: 0, 9: 0, 10: 0, 11: 10314, 12: 10314, 13: 10619, 14: 10619, 15: 0, 16: 12655, 17: 12655, 18: 0, 19: 11051, 20: 11051, 21: 0, 22: 11051, 23: 12655, 24: 0, 25: 0, 26: 845168, 27: 702293, 28: 702293, 29: 702293, 30: 702293, 31: 702293} |               {} | {1: bytearray(b'\\xdf\\x07\\x00\\x00'), 2: bytearray(b'\\x01\\x00\\x00\\x00'), 3: bytearray(b'\\x01\\x00\\x00\\x00'), 4: bytearray(b'\\x03\\x00\\x00\\x00'), 5: bytearray(b'AA'), 6: bytearray(b'\\x01\\x00\\x00\\x00'), 7: bytearray(b'7819A'), 8: bytearray(b'10135'), 9: bytearray(b'10135'), 10: bytearray(b'\\x03\\x00\\x00\\x00'), 11: bytearray(b'\\x01\\x00\\x00\\x00'), 12: bytearray(b'\\xc8\\xff\\xff\\xff'), 13: bytearray(b'\\x01\\x00\\x00\\x00'), 14: bytearray(b'\\x01\\x00\\x00\\x00'), 15: bytearray(b'\\x12\\x00\\x00\\x00'), 16: bytearray(b'\\x0e\\x00\\x00\\x00'), 17: bytearray(b'\\x07\\x00\\x00\\x00'), 18: bytearray(b'\\x1f\\x00\\x00\\x00'), 19: bytearray(b'\\x01\\x00\\x00\\x00'), 20: bytearray(b'\\x01\\x00\\x00\\x00'), 21: bytearray(b'\\x01\\x00\\x00\\x00'), 22: bytearray(b'\\x01\\x00\\x00\\x00'), 23: bytearray(b'\\xae\\xff\\xff\\xff'), 24: bytearray(b'\\x00\\x00\\x00\\x00'), 25: bytearray(b'\\x00\\x00\\x00\\x00'), 26: bytearray(b'A'), 27: bytearray(b'\\x00\\x00\\x00\\x00'), 28: bytearray(b'\\x00\\x00\\x00\\x00'), 29: bytearray(b'\\x00\\x00\\x00\\x00'), 30: bytearray(b'\\x00\\x00\\x00\\x00'), 31: bytearray(b'\\x00\\x00\\x00\\x00')} |                      {1: bytearray(b'\\xdf\\x07\\x00\\x00'), 2: bytearray(b'\\x0c\\x00\\x00\\x00'), 3: bytearray(b'\\x1e\\x00\\x00\\x00'), 4: bytearray(b'\\x03\\x00\\x00\\x00'), 5: bytearray(b'WN'), 6: bytearray(b'\\xfa \\x00\\x00'), 7: bytearray(b'N9EAMQ'), 8: bytearray(b'YUM'), 9: bytearray(b'YUM'), 10: bytearray(b'7\\t\\x00\\x00'), 11: bytearray(b'`\\t\\x00\\x00'), 12: bytearray(b'5\\x06\\x00\\x00'), 13: bytearray(b'\\xb1\\x00\\x00\\x00'), 14: bytearray(b'`\\t\\x00\\x00'), 15: bytearray(b'\\xce\\x02\\x00\\x00'), 16: bytearray(b'\\xda\\x02\\x00\\x00'), 17: bytearray(b'\\xb2\\x02\\x00\\x00'), 18: bytearray(b'w\\x13\\x00\\x00'), 19: bytearray(b'`\\t\\x00\\x00'), 20: bytearray(b'\\x9d\\x00\\x00\\x00'), 21: bytearray(b'7\\t\\x00\\x00'), 22: bytearray(b'`\\t\\x00\\x00'), 23: bytearray(b'(\\x06\\x00\\x00'), 24: bytearray(b'\\x01\\x00\\x00\\x00'), 25: bytearray(b'\\x01\\x00\\x00\\x00'), 26: bytearray(b'D'), 27: bytearray(b'n\\x04\\x00\\x00'), 28: bytearray(b'=\\x02\\x00\\x00'), 29: bytearray(b'(\\x06\\x00\\x00'), 30: bytearray(b'\\x0e\\x05\\x00\\x00'), 31: bytearray(b'`\\x04\\x00\\x00')} |         None |           [4] |         None |             0 | Row(air_system_delay=Row(column_size=209035, value_count=855897, null_value_count=702293, nan_value_count=None, lower_bound=0, upper_bound=1134), air_time=Row(column_size=1031087, value_count=855897, null_value_count=12655, nan_value_count=None, lower_bound=7, upper_bound=690), airline=Row(column_size=306658, value_count=855897, null_value_count=0, nan_value_count=None, lower_bound='AA', upper_bound='WN'), airline_delay=Row(column_size=228371, value_count=855897, null_value_count=702293, nan_value_count=None, lower_bound=0, upper_bound=1576), arrival_delay=Row(column_size=907473, value_count=855897, null_value_count=12655, nan_value_count=None, lower_bound=-82, upper_bound=1576), arrival_time=Row(column_size=1203473, value_count=855897, null_value_count=11051, nan_value_count=None, lower_bound=1, upper_bound=2400), cancellation_reason=Row(column_size=24926, value_count=855897, null_value_count=845168, nan_value_count=None, lower_bound='A', upper_bound='D'), cancelled=Row(column_size=22187, value_count=855897, null_value_count=0, nan_value_count=None, lower_bound=0, upper_bound=1), day=Row(column_size=3325, value_count=855897, null_value_count=0, nan_value_count=None, lower_bound=1, upper_bound=30), day_of_week=Row(column_size=1665, value_count=855897, null_value_count=0, nan_value_count=None, lower_bound=3, upper_bound=3), departure_delay=Row(column_size=841793, value_count=855897, null_value_count=10314, nan_value_count=None, lower_bound=-56, upper_bound=1589), departure_time=Row(column_size=1202356, value_count=855897, null_value_count=10314, nan_value_count=None, lower_bound=1, upper_bound=2400), destination_airport=Row(column_size=895152, value_count=855897, null_value_count=0, nan_value_count=None, lower_bound='10135', upper_bound='YUM'), distance=Row(column_size=1183041, value_count=855897, null_value_count=0, nan_value_count=None, lower_bound=31, upper_bound=4983), diverted=Row(column_size=7937, value_count=855897, null_value_count=0, nan_value_count=None, lower_bound=0, upper_bound=1), elapsed_time=Row(column_size=1034900, value_count=855897, null_value_count=12655, nan_value_count=None, lower_bound=14, upper_bound=730), flight_number=Row(column_size=1408664, value_count=855897, null_value_count=0, nan_value_count=None, lower_bound=1, upper_bound=8442), late_aircraft_delay=Row(column_size=233573, value_count=855897, null_value_count=702293, nan_value_count=None, lower_bound=0, upper_bound=1294), month=Row(column_size=2603, value_count=855897, null_value_count=0, nan_value_count=None, lower_bound=1, upper_bound=12), origin_airport=Row(column_size=919819, value_count=855897, null_value_count=0, nan_value_count=None, lower_bound='10135', upper_bound='YUM'), scheduled_arrival=Row(column_size=1183140, value_count=855897, null_value_count=0, nan_value_count=None, lower_bound=1, upper_bound=2359), scheduled_departure=Row(column_size=478785, value_count=855897, null_value_count=0, nan_value_count=None, lower_bound=3, upper_bound=2359), scheduled_time=Row(column_size=951468, value_count=855897, null_value_count=0, nan_value_count=None, lower_bound=18, upper_bound=718), security_delay=Row(column_size=100416, value_count=855897, null_value_count=702293, nan_value_count=None, lower_bound=0, upper_bound=573), tail_number=Row(column_size=1414097, value_count=855897, null_value_count=1956, nan_value_count=None, lower_bound='7819A', upper_bound='N9EAMQ'), taxi_in=Row(column_size=494205, value_count=855897, null_value_count=11051, nan_value_count=None, lower_bound=1, upper_bound=157), taxi_out=Row(column_size=547089, value_count=855897, null_value_count=10619, nan_value_count=None, lower_bound=1, upper_bound=177), weather_delay=Row(column_size=125823, value_count=855897, null_value_count=702293, nan_value_count=None, lower_bound=0, upper_bound=1120), wheels_off=Row(column_size=1202811, value_count=855897, null_value_count=10619, nan_value_count=None, lower_bound=1, upper_bound=2400), wheels_on=Row(column_size=1203475, value_count=855897, null_value_count=11051, nan_value_count=None, lower_bound=1, upper_bound=2400), year=Row(column_size=1666, value_count=855897, null_value_count=0, nan_value_count=None, lower_bound=2015, upper_bound=2015)) |\n",
       "|       0 | s3://warehouse/db/flights/data/00003-72-dc2c4f34-0586-4421-94d3-1124ed1b0086-0-00001.parquet |     PARQUET |       0 |       872521 |           19891606 | {1: 1704, 2: 2647, 3: 3440, 4: 1704, 5: 312706, 6: 1436485, 7: 1440750, 8: 944899, 9: 913692, 10: 475712, 11: 1221297, 12: 868385, 13: 559815, 14: 1222104, 15: 1011442, 16: 1062496, 17: 1058106, 18: 1205971, 19: 1224786, 20: 473173, 21: 1206114, 22: 1224787, 23: 939075, 24: 8944, 25: 23004, 26: 26249, 27: 245428, 28: 105085, 29: 254678, 30: 240179, 31: 134995} | {1: 872521, 2: 872521, 3: 872521, 4: 872521, 5: 872521, 6: 872521, 7: 872521, 8: 872521, 9: 872521, 10: 872521, 11: 872521, 12: 872521, 13: 872521, 14: 872521, 15: 872521, 16: 872521, 17: 872521, 18: 872521, 19: 872521, 20: 872521, 21: 872521, 22: 872521, 23: 872521, 24: 872521, 25: 872521, 26: 872521, 27: 872521, 28: 872521, 29: 872521, 30: 872521, 31: 872521} | {1: 0, 2: 0, 3: 0, 4: 0, 5: 0, 6: 0, 7: 1906, 8: 0, 9: 0, 10: 0, 11: 11741, 12: 11741, 13: 12182, 14: 12182, 15: 0, 16: 14635, 17: 14635, 18: 0, 19: 12725, 20: 12725, 21: 0, 22: 12725, 23: 14635, 24: 0, 25: 0, 26: 860230, 27: 700829, 28: 700829, 29: 700829, 30: 700829, 31: 700829} |               {} | {1: bytearray(b'\\xdf\\x07\\x00\\x00'), 2: bytearray(b'\\x01\\x00\\x00\\x00'), 3: bytearray(b'\\x01\\x00\\x00\\x00'), 4: bytearray(b'\\x04\\x00\\x00\\x00'), 5: bytearray(b'AA'), 6: bytearray(b'\\x01\\x00\\x00\\x00'), 7: bytearray(b'7819A'), 8: bytearray(b'10135'), 9: bytearray(b'10135'), 10: bytearray(b'\\x03\\x00\\x00\\x00'), 11: bytearray(b'\\x01\\x00\\x00\\x00'), 12: bytearray(b'\\xd3\\xff\\xff\\xff'), 13: bytearray(b'\\x01\\x00\\x00\\x00'), 14: bytearray(b'\\x01\\x00\\x00\\x00'), 15: bytearray(b'\\x12\\x00\\x00\\x00'), 16: bytearray(b'\\x0f\\x00\\x00\\x00'), 17: bytearray(b'\\x08\\x00\\x00\\x00'), 18: bytearray(b'\\x1f\\x00\\x00\\x00'), 19: bytearray(b'\\x01\\x00\\x00\\x00'), 20: bytearray(b'\\x01\\x00\\x00\\x00'), 21: bytearray(b'\\x01\\x00\\x00\\x00'), 22: bytearray(b'\\x01\\x00\\x00\\x00'), 23: bytearray(b'\\xa9\\xff\\xff\\xff'), 24: bytearray(b'\\x00\\x00\\x00\\x00'), 25: bytearray(b'\\x00\\x00\\x00\\x00'), 26: bytearray(b'A'), 27: bytearray(b'\\x00\\x00\\x00\\x00'), 28: bytearray(b'\\x00\\x00\\x00\\x00'), 29: bytearray(b'\\x00\\x00\\x00\\x00'), 30: bytearray(b'\\x00\\x00\\x00\\x00'), 31: bytearray(b'\\x00\\x00\\x00\\x00')} |                        {1: bytearray(b'\\xdf\\x07\\x00\\x00'), 2: bytearray(b'\\x0c\\x00\\x00\\x00'), 3: bytearray(b'\\x1f\\x00\\x00\\x00'), 4: bytearray(b'\\x04\\x00\\x00\\x00'), 5: bytearray(b'WN'), 6: bytearray(b'\\x7f&\\x00\\x00'), 7: bytearray(b'N9EAMQ'), 8: bytearray(b'YUM'), 9: bytearray(b'YUM'), 10: bytearray(b'7\\t\\x00\\x00'), 11: bytearray(b'`\\t\\x00\\x00'), 12: bytearray(b'q\\x06\\x00\\x00'), 13: bytearray(b'\\xb1\\x00\\x00\\x00'), 14: bytearray(b'`\\t\\x00\\x00'), 15: bytearray(b'\\xce\\x02\\x00\\x00'), 16: bytearray(b'\\xfe\\x02\\x00\\x00'), 17: bytearray(b'\\xb2\\x02\\x00\\x00'), 18: bytearray(b'w\\x13\\x00\\x00'), 19: bytearray(b'`\\t\\x00\\x00'), 20: bytearray(b'\\xaf\\x00\\x00\\x00'), 21: bytearray(b'7\\t\\x00\\x00'), 22: bytearray(b'`\\t\\x00\\x00'), 23: bytearray(b'd\\x06\\x00\\x00'), 24: bytearray(b'\\x01\\x00\\x00\\x00'), 25: bytearray(b'\\x01\\x00\\x00\\x00'), 26: bytearray(b'C'), 27: bytearray(b'x\\x03\\x00\\x00'), 28: bytearray(b'l\\x01\\x00\\x00'), 29: bytearray(b'd\\x06\\x00\\x00'), 30: bytearray(b'\\t\\x04\\x00\\x00'), 31: bytearray(b',\\x04\\x00\\x00')} |         None |           [4] |         None |             0 | Row(air_system_delay=Row(column_size=245428, value_count=872521, null_value_count=700829, nan_value_count=None, lower_bound=0, upper_bound=888), air_time=Row(column_size=1058106, value_count=872521, null_value_count=14635, nan_value_count=None, lower_bound=8, upper_bound=690), airline=Row(column_size=312706, value_count=872521, null_value_count=0, nan_value_count=None, lower_bound='AA', upper_bound='WN'), airline_delay=Row(column_size=254678, value_count=872521, null_value_count=700829, nan_value_count=None, lower_bound=0, upper_bound=1636), arrival_delay=Row(column_size=939075, value_count=872521, null_value_count=14635, nan_value_count=None, lower_bound=-87, upper_bound=1636), arrival_time=Row(column_size=1224787, value_count=872521, null_value_count=12725, nan_value_count=None, lower_bound=1, upper_bound=2400), cancellation_reason=Row(column_size=26249, value_count=872521, null_value_count=860230, nan_value_count=None, lower_bound='A', upper_bound='C'), cancelled=Row(column_size=23004, value_count=872521, null_value_count=0, nan_value_count=None, lower_bound=0, upper_bound=1), day=Row(column_size=3440, value_count=872521, null_value_count=0, nan_value_count=None, lower_bound=1, upper_bound=31), day_of_week=Row(column_size=1704, value_count=872521, null_value_count=0, nan_value_count=None, lower_bound=4, upper_bound=4), departure_delay=Row(column_size=868385, value_count=872521, null_value_count=11741, nan_value_count=None, lower_bound=-45, upper_bound=1649), departure_time=Row(column_size=1221297, value_count=872521, null_value_count=11741, nan_value_count=None, lower_bound=1, upper_bound=2400), destination_airport=Row(column_size=913692, value_count=872521, null_value_count=0, nan_value_count=None, lower_bound='10135', upper_bound='YUM'), distance=Row(column_size=1205971, value_count=872521, null_value_count=0, nan_value_count=None, lower_bound=31, upper_bound=4983), diverted=Row(column_size=8944, value_count=872521, null_value_count=0, nan_value_count=None, lower_bound=0, upper_bound=1), elapsed_time=Row(column_size=1062496, value_count=872521, null_value_count=14635, nan_value_count=None, lower_bound=15, upper_bound=766), flight_number=Row(column_size=1436485, value_count=872521, null_value_count=0, nan_value_count=None, lower_bound=1, upper_bound=9855), late_aircraft_delay=Row(column_size=240179, value_count=872521, null_value_count=700829, nan_value_count=None, lower_bound=0, upper_bound=1033), month=Row(column_size=2647, value_count=872521, null_value_count=0, nan_value_count=None, lower_bound=1, upper_bound=12), origin_airport=Row(column_size=944899, value_count=872521, null_value_count=0, nan_value_count=None, lower_bound='10135', upper_bound='YUM'), scheduled_arrival=Row(column_size=1206114, value_count=872521, null_value_count=0, nan_value_count=None, lower_bound=1, upper_bound=2359), scheduled_departure=Row(column_size=475712, value_count=872521, null_value_count=0, nan_value_count=None, lower_bound=3, upper_bound=2359), scheduled_time=Row(column_size=1011442, value_count=872521, null_value_count=0, nan_value_count=None, lower_bound=18, upper_bound=718), security_delay=Row(column_size=105085, value_count=872521, null_value_count=700829, nan_value_count=None, lower_bound=0, upper_bound=364), tail_number=Row(column_size=1440750, value_count=872521, null_value_count=1906, nan_value_count=None, lower_bound='7819A', upper_bound='N9EAMQ'), taxi_in=Row(column_size=473173, value_count=872521, null_value_count=12725, nan_value_count=None, lower_bound=1, upper_bound=175), taxi_out=Row(column_size=559815, value_count=872521, null_value_count=12182, nan_value_count=None, lower_bound=1, upper_bound=177), weather_delay=Row(column_size=134995, value_count=872521, null_value_count=700829, nan_value_count=None, lower_bound=0, upper_bound=1068), wheels_off=Row(column_size=1222104, value_count=872521, null_value_count=12182, nan_value_count=None, lower_bound=1, upper_bound=2400), wheels_on=Row(column_size=1224786, value_count=872521, null_value_count=12725, nan_value_count=None, lower_bound=1, upper_bound=2400), year=Row(column_size=1704, value_count=872521, null_value_count=0, nan_value_count=None, lower_bound=2015, upper_bound=2015)) |\n",
       "|       0 | s3://warehouse/db/flights/data/00004-73-dc2c4f34-0586-4421-94d3-1124ed1b0086-0-00001.parquet |     PARQUET |       0 |       862209 |           19622735 |  {1: 1702, 2: 2643, 3: 3426, 4: 1702, 5: 311025, 6: 1419751, 7: 1423335, 8: 893387, 9: 910771, 10: 472141, 11: 1210384, 12: 837560, 13: 561090, 14: 1211011, 15: 988620, 16: 1048493, 17: 1042800, 18: 1191785, 19: 1211700, 20: 510733, 21: 1191916, 22: 1211701, 23: 921577, 24: 8155, 25: 20262, 26: 22700, 27: 231665, 28: 103797, 29: 244867, 30: 240918, 31: 129396} | {1: 862209, 2: 862209, 3: 862209, 4: 862209, 5: 862209, 6: 862209, 7: 862209, 8: 862209, 9: 862209, 10: 862209, 11: 862209, 12: 862209, 13: 862209, 14: 862209, 15: 862209, 16: 862209, 17: 862209, 18: 862209, 19: 862209, 20: 862209, 21: 862209, 22: 862209, 23: 862209, 24: 862209, 25: 862209, 26: 862209, 27: 862209, 28: 862209, 29: 862209, 30: 862209, 31: 862209} |        {1: 0, 2: 0, 3: 0, 4: 0, 5: 0, 6: 0, 7: 1139, 8: 0, 9: 0, 10: 0, 11: 8325, 12: 8325, 13: 8709, 14: 8709, 15: 0, 16: 10822, 17: 10822, 18: 0, 19: 9070, 20: 9070, 21: 0, 22: 9070, 23: 10822, 24: 0, 25: 0, 26: 853404, 27: 698768, 28: 698768, 29: 698768, 30: 698768, 31: 698768} |               {} | {1: bytearray(b'\\xdf\\x07\\x00\\x00'), 2: bytearray(b'\\x01\\x00\\x00\\x00'), 3: bytearray(b'\\x01\\x00\\x00\\x00'), 4: bytearray(b'\\x05\\x00\\x00\\x00'), 5: bytearray(b'AA'), 6: bytearray(b'\\x01\\x00\\x00\\x00'), 7: bytearray(b'7819A'), 8: bytearray(b'10135'), 9: bytearray(b'10135'), 10: bytearray(b'\\x03\\x00\\x00\\x00'), 11: bytearray(b'\\x01\\x00\\x00\\x00'), 12: bytearray(b'\\xc9\\xff\\xff\\xff'), 13: bytearray(b'\\x01\\x00\\x00\\x00'), 14: bytearray(b'\\x01\\x00\\x00\\x00'), 15: bytearray(b'\\x12\\x00\\x00\\x00'), 16: bytearray(b'\\x10\\x00\\x00\\x00'), 17: bytearray(b'\\x07\\x00\\x00\\x00'), 18: bytearray(b'\\x1f\\x00\\x00\\x00'), 19: bytearray(b'\\x01\\x00\\x00\\x00'), 20: bytearray(b'\\x01\\x00\\x00\\x00'), 21: bytearray(b'\\x01\\x00\\x00\\x00'), 22: bytearray(b'\\x01\\x00\\x00\\x00'), 23: bytearray(b'\\xb1\\xff\\xff\\xff'), 24: bytearray(b'\\x00\\x00\\x00\\x00'), 25: bytearray(b'\\x00\\x00\\x00\\x00'), 26: bytearray(b'A'), 27: bytearray(b'\\x00\\x00\\x00\\x00'), 28: bytearray(b'\\x00\\x00\\x00\\x00'), 29: bytearray(b'\\x00\\x00\\x00\\x00'), 30: bytearray(b'\\x00\\x00\\x00\\x00'), 31: bytearray(b'\\x00\\x00\\x00\\x00')} | {1: bytearray(b'\\xdf\\x07\\x00\\x00'), 2: bytearray(b'\\x0c\\x00\\x00\\x00'), 3: bytearray(b'\\x1f\\x00\\x00\\x00'), 4: bytearray(b'\\x05\\x00\\x00\\x00'), 5: bytearray(b'WN'), 6: bytearray(b'\\x0e\\x1d\\x00\\x00'), 7: bytearray(b'N9EAMQ'), 8: bytearray(b'YUM'), 9: bytearray(b'YUM'), 10: bytearray(b'7\\t\\x00\\x00'), 11: bytearray(b'`\\t\\x00\\x00'), 12: bytearray(b'\\xc4\\x07\\x00\\x00'), 13: bytearray(b'\\xe1\\x00\\x00\\x00'), 14: bytearray(b'`\\t\\x00\\x00'), 15: bytearray(b'\\xce\\x02\\x00\\x00'), 16: bytearray(b'\\xd1\\x02\\x00\\x00'), 17: bytearray(b'\\xa7\\x02\\x00\\x00'), 18: bytearray(b'w\\x13\\x00\\x00'), 19: bytearray(b'`\\t\\x00\\x00'), 20: bytearray(b'\\xb7\\x00\\x00\\x00'), 21: bytearray(b'7\\t\\x00\\x00'), 22: bytearray(b'`\\t\\x00\\x00'), 23: bytearray(b'\\xb3\\x07\\x00\\x00'), 24: bytearray(b'\\x01\\x00\\x00\\x00'), 25: bytearray(b'\\x01\\x00\\x00\\x00'), 26: bytearray(b'D'), 27: bytearray(b'\\x94\\x03\\x00\\x00'), 28: bytearray(b'\\xdd\\x00\\x00\\x00'), 29: bytearray(b'\\xb3\\x07\\x00\\x00'), 30: bytearray(b'\\x0f\\x04\\x00\\x00'), 31: bytearray(b'\\xfd\\x03\\x00\\x00')} |         None |           [4] |         None |             0 |         Row(air_system_delay=Row(column_size=231665, value_count=862209, null_value_count=698768, nan_value_count=None, lower_bound=0, upper_bound=916), air_time=Row(column_size=1042800, value_count=862209, null_value_count=10822, nan_value_count=None, lower_bound=7, upper_bound=679), airline=Row(column_size=311025, value_count=862209, null_value_count=0, nan_value_count=None, lower_bound='AA', upper_bound='WN'), airline_delay=Row(column_size=244867, value_count=862209, null_value_count=698768, nan_value_count=None, lower_bound=0, upper_bound=1971), arrival_delay=Row(column_size=921577, value_count=862209, null_value_count=10822, nan_value_count=None, lower_bound=-79, upper_bound=1971), arrival_time=Row(column_size=1211701, value_count=862209, null_value_count=9070, nan_value_count=None, lower_bound=1, upper_bound=2400), cancellation_reason=Row(column_size=22700, value_count=862209, null_value_count=853404, nan_value_count=None, lower_bound='A', upper_bound='D'), cancelled=Row(column_size=20262, value_count=862209, null_value_count=0, nan_value_count=None, lower_bound=0, upper_bound=1), day=Row(column_size=3426, value_count=862209, null_value_count=0, nan_value_count=None, lower_bound=1, upper_bound=31), day_of_week=Row(column_size=1702, value_count=862209, null_value_count=0, nan_value_count=None, lower_bound=5, upper_bound=5), departure_delay=Row(column_size=837560, value_count=862209, null_value_count=8325, nan_value_count=None, lower_bound=-55, upper_bound=1988), departure_time=Row(column_size=1210384, value_count=862209, null_value_count=8325, nan_value_count=None, lower_bound=1, upper_bound=2400), destination_airport=Row(column_size=910771, value_count=862209, null_value_count=0, nan_value_count=None, lower_bound='10135', upper_bound='YUM'), distance=Row(column_size=1191785, value_count=862209, null_value_count=0, nan_value_count=None, lower_bound=31, upper_bound=4983), diverted=Row(column_size=8155, value_count=862209, null_value_count=0, nan_value_count=None, lower_bound=0, upper_bound=1), elapsed_time=Row(column_size=1048493, value_count=862209, null_value_count=10822, nan_value_count=None, lower_bound=16, upper_bound=721), flight_number=Row(column_size=1419751, value_count=862209, null_value_count=0, nan_value_count=None, lower_bound=1, upper_bound=7438), late_aircraft_delay=Row(column_size=240918, value_count=862209, null_value_count=698768, nan_value_count=None, lower_bound=0, upper_bound=1039), month=Row(column_size=2643, value_count=862209, null_value_count=0, nan_value_count=None, lower_bound=1, upper_bound=12), origin_airport=Row(column_size=893387, value_count=862209, null_value_count=0, nan_value_count=None, lower_bound='10135', upper_bound='YUM'), scheduled_arrival=Row(column_size=1191916, value_count=862209, null_value_count=0, nan_value_count=None, lower_bound=1, upper_bound=2359), scheduled_departure=Row(column_size=472141, value_count=862209, null_value_count=0, nan_value_count=None, lower_bound=3, upper_bound=2359), scheduled_time=Row(column_size=988620, value_count=862209, null_value_count=0, nan_value_count=None, lower_bound=18, upper_bound=718), security_delay=Row(column_size=103797, value_count=862209, null_value_count=698768, nan_value_count=None, lower_bound=0, upper_bound=221), tail_number=Row(column_size=1423335, value_count=862209, null_value_count=1139, nan_value_count=None, lower_bound='7819A', upper_bound='N9EAMQ'), taxi_in=Row(column_size=510733, value_count=862209, null_value_count=9070, nan_value_count=None, lower_bound=1, upper_bound=183), taxi_out=Row(column_size=561090, value_count=862209, null_value_count=8709, nan_value_count=None, lower_bound=1, upper_bound=225), weather_delay=Row(column_size=129396, value_count=862209, null_value_count=698768, nan_value_count=None, lower_bound=0, upper_bound=1021), wheels_off=Row(column_size=1211011, value_count=862209, null_value_count=8709, nan_value_count=None, lower_bound=1, upper_bound=2400), wheels_on=Row(column_size=1211700, value_count=862209, null_value_count=9070, nan_value_count=None, lower_bound=1, upper_bound=2400), year=Row(column_size=1702, value_count=862209, null_value_count=0, nan_value_count=None, lower_bound=2015, upper_bound=2015)) |\n",
       "|       0 | s3://warehouse/db/flights/data/00005-74-dc2c4f34-0586-4421-94d3-1124ed1b0086-0-00001.parquet |     PARQUET |       0 |       700545 |           15925957 |           {1: 1398, 2: 2128, 3: 2822, 4: 1398, 5: 257560, 6: 1156818, 7: 1159274, 8: 754731, 9: 726942, 10: 412854, 11: 980802, 12: 683691, 13: 442397, 14: 981158, 15: 822092, 16: 854443, 17: 849759, 18: 968890, 19: 984263, 20: 413531, 21: 969020, 22: 984262, 23: 745456, 24: 7564, 25: 17552, 26: 19631, 27: 162608, 28: 80434, 29: 176868, 30: 170022, 31: 100274} | {1: 700545, 2: 700545, 3: 700545, 4: 700545, 5: 700545, 6: 700545, 7: 700545, 8: 700545, 9: 700545, 10: 700545, 11: 700545, 12: 700545, 13: 700545, 14: 700545, 15: 700545, 16: 700545, 17: 700545, 18: 700545, 19: 700545, 20: 700545, 21: 700545, 22: 700545, 23: 700545, 24: 700545, 25: 700545, 26: 700545, 27: 700545, 28: 700545, 29: 700545, 30: 700545, 31: 700545} |         {1: 0, 2: 0, 3: 0, 4: 0, 5: 0, 6: 0, 7: 968, 8: 0, 9: 0, 10: 0, 11: 8292, 12: 8292, 13: 8650, 14: 8650, 15: 1, 16: 10800, 17: 10800, 18: 0, 19: 9142, 20: 9142, 21: 0, 22: 9142, 23: 10800, 24: 0, 25: 0, 26: 691796, 27: 590230, 28: 590230, 29: 590230, 30: 590230, 31: 590230} |               {} | {1: bytearray(b'\\xdf\\x07\\x00\\x00'), 2: bytearray(b'\\x01\\x00\\x00\\x00'), 3: bytearray(b'\\x01\\x00\\x00\\x00'), 4: bytearray(b'\\x06\\x00\\x00\\x00'), 5: bytearray(b'AA'), 6: bytearray(b'\\x01\\x00\\x00\\x00'), 7: bytearray(b'7819A'), 8: bytearray(b'10135'), 9: bytearray(b'10135'), 10: bytearray(b'\\x01\\x00\\x00\\x00'), 11: bytearray(b'\\x01\\x00\\x00\\x00'), 12: bytearray(b'\\xbc\\xff\\xff\\xff'), 13: bytearray(b'\\x01\\x00\\x00\\x00'), 14: bytearray(b'\\x01\\x00\\x00\\x00'), 15: bytearray(b'\\x12\\x00\\x00\\x00'), 16: bytearray(b'\\x10\\x00\\x00\\x00'), 17: bytearray(b'\\x08\\x00\\x00\\x00'), 18: bytearray(b'\\x1f\\x00\\x00\\x00'), 19: bytearray(b'\\x01\\x00\\x00\\x00'), 20: bytearray(b'\\x01\\x00\\x00\\x00'), 21: bytearray(b'\\x01\\x00\\x00\\x00'), 22: bytearray(b'\\x01\\x00\\x00\\x00'), 23: bytearray(b'\\xa9\\xff\\xff\\xff'), 24: bytearray(b'\\x00\\x00\\x00\\x00'), 25: bytearray(b'\\x00\\x00\\x00\\x00'), 26: bytearray(b'A'), 27: bytearray(b'\\x00\\x00\\x00\\x00'), 28: bytearray(b'\\x00\\x00\\x00\\x00'), 29: bytearray(b'\\x00\\x00\\x00\\x00'), 30: bytearray(b'\\x00\\x00\\x00\\x00'), 31: bytearray(b'\\x00\\x00\\x00\\x00')} |             {1: bytearray(b'\\xdf\\x07\\x00\\x00'), 2: bytearray(b'\\x0c\\x00\\x00\\x00'), 3: bytearray(b'\\x1f\\x00\\x00\\x00'), 4: bytearray(b'\\x06\\x00\\x00\\x00'), 5: bytearray(b'WN'), 6: bytearray(b'\\xfd \\x00\\x00'), 7: bytearray(b'N9EAMQ'), 8: bytearray(b'YUM'), 9: bytearray(b'YUM'), 10: bytearray(b'7\\t\\x00\\x00'), 11: bytearray(b'`\\t\\x00\\x00'), 12: bytearray(b'V\\x07\\x00\\x00'), 13: bytearray(b'\\xb0\\x00\\x00\\x00'), 14: bytearray(b'`\\t\\x00\\x00'), 15: bytearray(b'\\xce\\x02\\x00\\x00'), 16: bytearray(b'\\xdf\\x02\\x00\\x00'), 17: bytearray(b'\\xab\\x02\\x00\\x00'), 18: bytearray(b'w\\x13\\x00\\x00'), 19: bytearray(b'`\\t\\x00\\x00'), 20: bytearray(b'\\xca\\x00\\x00\\x00'), 21: bytearray(b'`\\t\\x00\\x00'), 22: bytearray(b'`\\t\\x00\\x00'), 23: bytearray(b'j\\x07\\x00\\x00'), 24: bytearray(b'\\x01\\x00\\x00\\x00'), 25: bytearray(b'\\x01\\x00\\x00\\x00'), 26: bytearray(b'D'), 27: bytearray(b'\\x19\\x04\\x00\\x00'), 28: bytearray(b'\\xed\\x00\\x00\\x00'), 29: bytearray(b'V\\x07\\x00\\x00'), 30: bytearray(b'\\xe8\\x04\\x00\\x00'), 31: bytearray(b'\\x80\\x04\\x00\\x00')} |         None |           [4] |         None |             0 |                  Row(air_system_delay=Row(column_size=162608, value_count=700545, null_value_count=590230, nan_value_count=None, lower_bound=0, upper_bound=1049), air_time=Row(column_size=849759, value_count=700545, null_value_count=10800, nan_value_count=None, lower_bound=8, upper_bound=683), airline=Row(column_size=257560, value_count=700545, null_value_count=0, nan_value_count=None, lower_bound='AA', upper_bound='WN'), airline_delay=Row(column_size=176868, value_count=700545, null_value_count=590230, nan_value_count=None, lower_bound=0, upper_bound=1878), arrival_delay=Row(column_size=745456, value_count=700545, null_value_count=10800, nan_value_count=None, lower_bound=-87, upper_bound=1898), arrival_time=Row(column_size=984262, value_count=700545, null_value_count=9142, nan_value_count=None, lower_bound=1, upper_bound=2400), cancellation_reason=Row(column_size=19631, value_count=700545, null_value_count=691796, nan_value_count=None, lower_bound='A', upper_bound='D'), cancelled=Row(column_size=17552, value_count=700545, null_value_count=0, nan_value_count=None, lower_bound=0, upper_bound=1), day=Row(column_size=2822, value_count=700545, null_value_count=0, nan_value_count=None, lower_bound=1, upper_bound=31), day_of_week=Row(column_size=1398, value_count=700545, null_value_count=0, nan_value_count=None, lower_bound=6, upper_bound=6), departure_delay=Row(column_size=683691, value_count=700545, null_value_count=8292, nan_value_count=None, lower_bound=-68, upper_bound=1878), departure_time=Row(column_size=980802, value_count=700545, null_value_count=8292, nan_value_count=None, lower_bound=1, upper_bound=2400), destination_airport=Row(column_size=726942, value_count=700545, null_value_count=0, nan_value_count=None, lower_bound='10135', upper_bound='YUM'), distance=Row(column_size=968890, value_count=700545, null_value_count=0, nan_value_count=None, lower_bound=31, upper_bound=4983), diverted=Row(column_size=7564, value_count=700545, null_value_count=0, nan_value_count=None, lower_bound=0, upper_bound=1), elapsed_time=Row(column_size=854443, value_count=700545, null_value_count=10800, nan_value_count=None, lower_bound=16, upper_bound=735), flight_number=Row(column_size=1156818, value_count=700545, null_value_count=0, nan_value_count=None, lower_bound=1, upper_bound=8445), late_aircraft_delay=Row(column_size=170022, value_count=700545, null_value_count=590230, nan_value_count=None, lower_bound=0, upper_bound=1256), month=Row(column_size=2128, value_count=700545, null_value_count=0, nan_value_count=None, lower_bound=1, upper_bound=12), origin_airport=Row(column_size=754731, value_count=700545, null_value_count=0, nan_value_count=None, lower_bound='10135', upper_bound='YUM'), scheduled_arrival=Row(column_size=969020, value_count=700545, null_value_count=0, nan_value_count=None, lower_bound=1, upper_bound=2400), scheduled_departure=Row(column_size=412854, value_count=700545, null_value_count=0, nan_value_count=None, lower_bound=1, upper_bound=2359), scheduled_time=Row(column_size=822092, value_count=700545, null_value_count=1, nan_value_count=None, lower_bound=18, upper_bound=718), security_delay=Row(column_size=80434, value_count=700545, null_value_count=590230, nan_value_count=None, lower_bound=0, upper_bound=237), tail_number=Row(column_size=1159274, value_count=700545, null_value_count=968, nan_value_count=None, lower_bound='7819A', upper_bound='N9EAMQ'), taxi_in=Row(column_size=413531, value_count=700545, null_value_count=9142, nan_value_count=None, lower_bound=1, upper_bound=202), taxi_out=Row(column_size=442397, value_count=700545, null_value_count=8650, nan_value_count=None, lower_bound=1, upper_bound=176), weather_delay=Row(column_size=100274, value_count=700545, null_value_count=590230, nan_value_count=None, lower_bound=0, upper_bound=1152), wheels_off=Row(column_size=981158, value_count=700545, null_value_count=8650, nan_value_count=None, lower_bound=1, upper_bound=2400), wheels_on=Row(column_size=984263, value_count=700545, null_value_count=9142, nan_value_count=None, lower_bound=1, upper_bound=2400), year=Row(column_size=1398, value_count=700545, null_value_count=0, nan_value_count=None, lower_bound=2015, upper_bound=2015)) |\n",
       "|       0 | s3://warehouse/db/flights/data/00006-75-dc2c4f34-0586-4421-94d3-1124ed1b0086-0-00001.parquet |     PARQUET |       0 |       817764 |           18565050 |     {1: 1590, 2: 2456, 3: 3168, 4: 1590, 5: 296457, 6: 1347081, 7: 1352128, 8: 868126, 9: 884105, 10: 457640, 11: 1145678, 12: 791492, 13: 517406, 14: 1146133, 15: 947332, 16: 984083, 17: 986078, 18: 1130497, 19: 1147139, 20: 458657, 21: 1130641, 22: 1147129, 23: 871345, 24: 8005, 25: 22695, 26: 25592, 27: 195147, 28: 96608, 29: 213487, 30: 225700, 31: 120542} | {1: 817764, 2: 817764, 3: 817764, 4: 817764, 5: 817764, 6: 817764, 7: 817764, 8: 817764, 9: 817764, 10: 817764, 11: 817764, 12: 817764, 13: 817764, 14: 817764, 15: 817764, 16: 817764, 17: 817764, 18: 817764, 19: 817764, 20: 817764, 21: 817764, 22: 817764, 23: 817764, 24: 817764, 25: 817764, 26: 817764, 27: 817764, 28: 817764, 29: 817764, 30: 817764, 31: 817764} | {1: 0, 2: 0, 3: 0, 4: 0, 5: 0, 6: 0, 7: 1929, 8: 0, 9: 0, 10: 0, 11: 12617, 12: 12617, 13: 13021, 14: 13021, 15: 3, 16: 15209, 17: 15209, 18: 0, 19: 13509, 20: 13509, 21: 0, 22: 13509, 23: 15209, 24: 0, 25: 0, 26: 804599, 27: 670826, 28: 670826, 29: 670826, 30: 670826, 31: 670826} |               {} | {1: bytearray(b'\\xdf\\x07\\x00\\x00'), 2: bytearray(b'\\x01\\x00\\x00\\x00'), 3: bytearray(b'\\x01\\x00\\x00\\x00'), 4: bytearray(b'\\x07\\x00\\x00\\x00'), 5: bytearray(b'AA'), 6: bytearray(b'\\x01\\x00\\x00\\x00'), 7: bytearray(b'7819A'), 8: bytearray(b'10135'), 9: bytearray(b'10135'), 10: bytearray(b'\\x01\\x00\\x00\\x00'), 11: bytearray(b'\\x01\\x00\\x00\\x00'), 12: bytearray(b'\\xae\\xff\\xff\\xff'), 13: bytearray(b'\\x01\\x00\\x00\\x00'), 14: bytearray(b'\\x01\\x00\\x00\\x00'), 15: bytearray(b'\\x12\\x00\\x00\\x00'), 16: bytearray(b'\\x0e\\x00\\x00\\x00'), 17: bytearray(b'\\x07\\x00\\x00\\x00'), 18: bytearray(b'\\x1f\\x00\\x00\\x00'), 19: bytearray(b'\\x01\\x00\\x00\\x00'), 20: bytearray(b'\\x01\\x00\\x00\\x00'), 21: bytearray(b'\\x01\\x00\\x00\\x00'), 22: bytearray(b'\\x01\\x00\\x00\\x00'), 23: bytearray(b'\\xb0\\xff\\xff\\xff'), 24: bytearray(b'\\x00\\x00\\x00\\x00'), 25: bytearray(b'\\x00\\x00\\x00\\x00'), 26: bytearray(b'A'), 27: bytearray(b'\\x00\\x00\\x00\\x00'), 28: bytearray(b'\\x00\\x00\\x00\\x00'), 29: bytearray(b'\\x00\\x00\\x00\\x00'), 30: bytearray(b'\\x00\\x00\\x00\\x00'), 31: bytearray(b'\\x00\\x00\\x00\\x00')} |             {1: bytearray(b'\\xdf\\x07\\x00\\x00'), 2: bytearray(b'\\x0c\\x00\\x00\\x00'), 3: bytearray(b'\\x1f\\x00\\x00\\x00'), 4: bytearray(b'\\x07\\x00\\x00\\x00'), 5: bytearray(b'WN'), 6: bytearray(b'B&\\x00\\x00'), 7: bytearray(b'N9EAMQ'), 8: bytearray(b'YUM'), 9: bytearray(b'YUM'), 10: bytearray(b'7\\t\\x00\\x00'), 11: bytearray(b'`\\t\\x00\\x00'), 12: bytearray(b'\\x86\\x06\\x00\\x00'), 13: bytearray(b'\\xb4\\x00\\x00\\x00'), 14: bytearray(b'`\\t\\x00\\x00'), 15: bytearray(b'\\xce\\x02\\x00\\x00'), 16: bytearray(b'\\xc6\\x02\\x00\\x00'), 17: bytearray(b'\\xaa\\x02\\x00\\x00'), 18: bytearray(b'w\\x13\\x00\\x00'), 19: bytearray(b'`\\t\\x00\\x00'), 20: bytearray(b'\\xa9\\x00\\x00\\x00'), 21: bytearray(b'`\\t\\x00\\x00'), 22: bytearray(b'`\\t\\x00\\x00'), 23: bytearray(b'\\x81\\x06\\x00\\x00'), 24: bytearray(b'\\x01\\x00\\x00\\x00'), 25: bytearray(b'\\x01\\x00\\x00\\x00'), 26: bytearray(b'C'), 27: bytearray(b'M\\x04\\x00\\x00'), 28: bytearray(b'\\xf1\\x00\\x00\\x00'), 29: bytearray(b'\\x81\\x06\\x00\\x00'), 30: bytearray(b'3\\x05\\x00\\x00'), 31: bytearray(b'\\xbb\\x04\\x00\\x00')} |         None |           [4] |         None |             0 |    Row(air_system_delay=Row(column_size=195147, value_count=817764, null_value_count=670826, nan_value_count=None, lower_bound=0, upper_bound=1101), air_time=Row(column_size=986078, value_count=817764, null_value_count=15209, nan_value_count=None, lower_bound=7, upper_bound=682), airline=Row(column_size=296457, value_count=817764, null_value_count=0, nan_value_count=None, lower_bound='AA', upper_bound='WN'), airline_delay=Row(column_size=213487, value_count=817764, null_value_count=670826, nan_value_count=None, lower_bound=0, upper_bound=1665), arrival_delay=Row(column_size=871345, value_count=817764, null_value_count=15209, nan_value_count=None, lower_bound=-80, upper_bound=1665), arrival_time=Row(column_size=1147129, value_count=817764, null_value_count=13509, nan_value_count=None, lower_bound=1, upper_bound=2400), cancellation_reason=Row(column_size=25592, value_count=817764, null_value_count=804599, nan_value_count=None, lower_bound='A', upper_bound='C'), cancelled=Row(column_size=22695, value_count=817764, null_value_count=0, nan_value_count=None, lower_bound=0, upper_bound=1), day=Row(column_size=3168, value_count=817764, null_value_count=0, nan_value_count=None, lower_bound=1, upper_bound=31), day_of_week=Row(column_size=1590, value_count=817764, null_value_count=0, nan_value_count=None, lower_bound=7, upper_bound=7), departure_delay=Row(column_size=791492, value_count=817764, null_value_count=12617, nan_value_count=None, lower_bound=-82, upper_bound=1670), departure_time=Row(column_size=1145678, value_count=817764, null_value_count=12617, nan_value_count=None, lower_bound=1, upper_bound=2400), destination_airport=Row(column_size=884105, value_count=817764, null_value_count=0, nan_value_count=None, lower_bound='10135', upper_bound='YUM'), distance=Row(column_size=1130497, value_count=817764, null_value_count=0, nan_value_count=None, lower_bound=31, upper_bound=4983), diverted=Row(column_size=8005, value_count=817764, null_value_count=0, nan_value_count=None, lower_bound=0, upper_bound=1), elapsed_time=Row(column_size=984083, value_count=817764, null_value_count=15209, nan_value_count=None, lower_bound=14, upper_bound=710), flight_number=Row(column_size=1347081, value_count=817764, null_value_count=0, nan_value_count=None, lower_bound=1, upper_bound=9794), late_aircraft_delay=Row(column_size=225700, value_count=817764, null_value_count=670826, nan_value_count=None, lower_bound=0, upper_bound=1331), month=Row(column_size=2456, value_count=817764, null_value_count=0, nan_value_count=None, lower_bound=1, upper_bound=12), origin_airport=Row(column_size=868126, value_count=817764, null_value_count=0, nan_value_count=None, lower_bound='10135', upper_bound='YUM'), scheduled_arrival=Row(column_size=1130641, value_count=817764, null_value_count=0, nan_value_count=None, lower_bound=1, upper_bound=2400), scheduled_departure=Row(column_size=457640, value_count=817764, null_value_count=0, nan_value_count=None, lower_bound=1, upper_bound=2359), scheduled_time=Row(column_size=947332, value_count=817764, null_value_count=3, nan_value_count=None, lower_bound=18, upper_bound=718), security_delay=Row(column_size=96608, value_count=817764, null_value_count=670826, nan_value_count=None, lower_bound=0, upper_bound=241), tail_number=Row(column_size=1352128, value_count=817764, null_value_count=1929, nan_value_count=None, lower_bound='7819A', upper_bound='N9EAMQ'), taxi_in=Row(column_size=458657, value_count=817764, null_value_count=13509, nan_value_count=None, lower_bound=1, upper_bound=169), taxi_out=Row(column_size=517406, value_count=817764, null_value_count=13021, nan_value_count=None, lower_bound=1, upper_bound=180), weather_delay=Row(column_size=120542, value_count=817764, null_value_count=670826, nan_value_count=None, lower_bound=0, upper_bound=1211), wheels_off=Row(column_size=1146133, value_count=817764, null_value_count=13021, nan_value_count=None, lower_bound=1, upper_bound=2400), wheels_on=Row(column_size=1147139, value_count=817764, null_value_count=13509, nan_value_count=None, lower_bound=1, upper_bound=2400), year=Row(column_size=1590, value_count=817764, null_value_count=0, nan_value_count=None, lower_bound=2015, upper_bound=2015)) |\n",
       "+---------+----------------------------------------------------------------------------------------------+-------------+---------+--------------+--------------------+----------------------------------------------------------------------------------------------------------------------------------------------------------------------------------------------------------------------------------------------------------------------------------------------------------------------------------------------------------------------------+-----------------------------------------------------------------------------------------------------------------------------------------------------------------------------------------------------------------------------------------------------------------------------------------------------------------------------------------------------------------------------+-------------------------------------------------------------------------------------------------------------------------------------------------------------------------------------------------------------------------------------------------------------------------------------------+------------------+---------------------------------------------------------------------------------------------------------------------------------------------------------------------------------------------------------------------------------------------------------------------------------------------------------------------------------------------------------------------------------------------------------------------------------------------------------------------------------------------------------------------------------------------------------------------------------------------------------------------------------------------------------------------------------------------------------------------------------------------------------------------------------------------------------------------------------------------------------------------------------------------------------------------------------------------------------------------------------------------------------------------------------------------------------------------------------------+---------------------------------------------------------------------------------------------------------------------------------------------------------------------------------------------------------------------------------------------------------------------------------------------------------------------------------------------------------------------------------------------------------------------------------------------------------------------------------------------------------------------------------------------------------------------------------------------------------------------------------------------------------------------------------------------------------------------------------------------------------------------------------------------------------------------------------------------------------------------------------------------------------------------------------------------------------------------------------------------------------------------------------------------------+--------------+---------------+--------------+---------------+----------------------------------------------------------------------------------------------------------------------------------------------------------------------------------------------------------------------------------------------------------------------------------------------------------------------------------------------------------------------------------------------------------------------------------------------------------------------------------------------------------------------------------------------------------------------------------------------------------------------------------------------------------------------------------------------------------------------------------------------------------------------------------------------------------------------------------------------------------------------------------------------------------------------------------------------------------------------------------------------------------------------------------------------------------------------------------------------------------------------------------------------------------------------------------------------------------------------------------------------------------------------------------------------------------------------------------------------------------------------------------------------------------------------------------------------------------------------------------------------------------------------------------------------------------------------------------------------------------------------------------------------------------------------------------------------------------------------------------------------------------------------------------------------------------------------------------------------------------------------------------------------------------------------------------------------------------------------------------------------------------------------------------------------------------------------------------------------------------------------------------------------------------------------------------------------------------------------------------------------------------------------------------------------------------------------------------------------------------------------------------------------------------------------------------------------------------------------------------------------------------------------------------------------------------------------------------------------------------------------------------------------------------------------------------------------------------------------------------------------------------------------------------------------------------------------------------------------------------------------------------------------------------------------------------------------------------------------------------------------------------------------------------------------------------------------------------------------------------------------------------------------------------------------------------------------------------------------------------------------------------------------------------------------------------------------------------------------------------------------------------------------------------------------------------------------------------------------------------------------------------------------------------------------------------------------------------------------------------------------------------------------------------------------------------------------------------------------------------------------------------------------------------------------------------------------------------------------------------------------------------------------------------------------------------------------------------------------------------------------------------------------------------------------------------------------------------------------------------------------------------------------------------------------------------------------------------------------------------------------------------------------------------------------------------------------------------------------------------------------------------+"
      ]
     },
     "execution_count": 28,
     "metadata": {},
     "output_type": "execute_result"
    }
   ],
   "source": [
    "%%sql\n",
    "SELECT\n",
    "    *\n",
    "FROM airline.db.flights.files"
   ]
  },
  {
   "cell_type": "code",
   "execution_count": 27,
   "id": "c81a4b36-3069-4af2-8c52-9ca29e2ac016",
   "metadata": {
    "scrolled": true
   },
   "outputs": [
    {
     "data": {
      "text/html": [
       "<table>\n",
       "    <thead>\n",
       "        <tr>\n",
       "            <th>sum(file_size_in_bytes)</th>\n",
       "        </tr>\n",
       "    </thead>\n",
       "    <tbody>\n",
       "        <tr>\n",
       "            <td>132410345</td>\n",
       "        </tr>\n",
       "    </tbody>\n",
       "</table>"
      ],
      "text/plain": [
       "+-------------------------+\n",
       "| sum(file_size_in_bytes) |\n",
       "+-------------------------+\n",
       "|               132410345 |\n",
       "+-------------------------+"
      ]
     },
     "execution_count": 27,
     "metadata": {},
     "output_type": "execute_result"
    }
   ],
   "source": [
    "%%sql\n",
    "SELECT\n",
    "    SUM(file_size_in_bytes)\n",
    "FROM airline.db.flights.files"
   ]
  },
  {
   "cell_type": "code",
   "execution_count": 26,
   "id": "7d2adef7-475c-4da6-88ee-57c637dd7411",
   "metadata": {
    "scrolled": true
   },
   "outputs": [
    {
     "data": {
      "text/html": [
       "<table>\n",
       "    <thead>\n",
       "        <tr>\n",
       "            <th>file_size_in_bytes</th>\n",
       "        </tr>\n",
       "    </thead>\n",
       "    <tbody>\n",
       "        <tr>\n",
       "            <td>19788655</td>\n",
       "        </tr>\n",
       "        <tr>\n",
       "            <td>19204359</td>\n",
       "        </tr>\n",
       "        <tr>\n",
       "            <td>19411983</td>\n",
       "        </tr>\n",
       "        <tr>\n",
       "            <td>19891606</td>\n",
       "        </tr>\n",
       "        <tr>\n",
       "            <td>19622735</td>\n",
       "        </tr>\n",
       "        <tr>\n",
       "            <td>15925957</td>\n",
       "        </tr>\n",
       "        <tr>\n",
       "            <td>18565050</td>\n",
       "        </tr>\n",
       "    </tbody>\n",
       "</table>"
      ],
      "text/plain": [
       "+--------------------+\n",
       "| file_size_in_bytes |\n",
       "+--------------------+\n",
       "|           19788655 |\n",
       "|           19204359 |\n",
       "|           19411983 |\n",
       "|           19891606 |\n",
       "|           19622735 |\n",
       "|           15925957 |\n",
       "|           18565050 |\n",
       "+--------------------+"
      ]
     },
     "execution_count": 26,
     "metadata": {},
     "output_type": "execute_result"
    }
   ],
   "source": [
    "%%sql\n",
    "SELECT\n",
    "    file_size_in_bytes\n",
    "FROM airline.db.flights.files"
   ]
  },
  {
   "cell_type": "code",
   "execution_count": null,
   "id": "ec9bdc9c-0aed-47ca-92a1-2283d766183e",
   "metadata": {},
   "outputs": [],
   "source": []
  }
 ],
 "metadata": {
  "kernelspec": {
   "display_name": "Python 3 (ipykernel)",
   "language": "python",
   "name": "python3"
  },
  "language_info": {
   "codemirror_mode": {
    "name": "ipython",
    "version": 3
   },
   "file_extension": ".py",
   "mimetype": "text/x-python",
   "name": "python",
   "nbconvert_exporter": "python",
   "pygments_lexer": "ipython3",
   "version": "3.9.18"
  }
 },
 "nbformat": 4,
 "nbformat_minor": 5
}
