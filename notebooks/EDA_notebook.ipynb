{
 "cells": [
  {
   "cell_type": "code",
   "execution_count": 7,
   "id": "abb75752-97a6-4f86-9877-c1d2588818b4",
   "metadata": {},
   "outputs": [
    {
     "data": {
      "text/html": [
       "<style>pre { white-space: pre !important; }</style>"
      ],
      "text/plain": [
       "<IPython.core.display.HTML object>"
      ]
     },
     "metadata": {},
     "output_type": "display_data"
    }
   ],
   "source": [
    "## Optional\n",
    "# Format output of Jupyter Notebook\n",
    "from IPython.core.display import HTML\n",
    "display(HTML(\"<style>pre { white-space: pre !important; }</style>\"))\n",
    "\n",
    "# Hide python warnings\n",
    "import warnings\n",
    "warnings.filterwarnings('ignore')"
   ]
  },
  {
   "cell_type": "markdown",
   "id": "cb983cf7-5d78-4ce8-ae56-9addf261650d",
   "metadata": {},
   "source": [
    "# Initialize Spark Session with configs"
   ]
  },
  {
   "cell_type": "code",
   "execution_count": 4,
   "id": "08d840db-ba34-4559-b0c8-2f7195e749a6",
   "metadata": {},
   "outputs": [],
   "source": [
    "from pyspark.sql import SparkSession, DataFrame\n",
    "from pyspark.sql.types import StructType, StructField, IntegerType, StringType, DateType\n",
    "from pyspark.sql.functions import lit, isnull, when, count, col, regexp_extract, concat_ws, to_date, expr, quarter, when, date_add, year, month, day, dayofweek, broadcast, avg, min, max, like\n",
    "\n",
    "# TODO - parameterize endpoints/ports such as minio:9000 with envs\n",
    "\n",
    "# Define config for SparkSession,\n",
    "# such as Iceberg catalog that utilizes minio, an S3-compatible local object storage\n",
    "spark_configs = {\n",
    "    'spark.master': 'spark://spark-iceberg:7077',\n",
    "    'spark.sql.catalog.airline': 'org.apache.iceberg.spark.SparkCatalog',\n",
    "    # 'spark.sql.catalog.airline': 'org.apache.iceberg.spark.SparkSessionCatalog',\n",
    "    'spark.sql.catalog.airline.io-impl': 'org.apache.iceberg.aws.s3.S3FileIO',\n",
    "    'spark.sql.catalog.airline.s3.endpoint': 'http://minio:9000',\n",
    "    'spark.sql.catalog.airline.type': 'rest',\n",
    "    'spark.sql.catalog.airline.uri': 'http://rest:8181',\n",
    "    'spark.sql.catalog.airline.warehouse': 's3://warehouse',\n",
    "    'spark.sql.defaultCatalog': 'airline',\n",
    "    'spark.executor.memory': '2g'\n",
    "}\n",
    "\n",
    "# Initialize SparkSession\n",
    "spark = (\n",
    "    SparkSession\n",
    "    .builder\n",
    "    .appName('EDA')\n",
    "    .config(map=spark_configs)\n",
    "    .getOrCreate()\n",
    ")"
   ]
  },
  {
   "cell_type": "code",
   "execution_count": 5,
   "id": "a6f3b4bc-1ba4-42b5-aa94-c83dc3ed4ec6",
   "metadata": {},
   "outputs": [
    {
     "data": {
      "text/plain": [
       "'2g'"
      ]
     },
     "execution_count": 5,
     "metadata": {},
     "output_type": "execute_result"
    }
   ],
   "source": [
    "spark.conf.get('spark.executor.memory')"
   ]
  },
  {
   "cell_type": "code",
   "execution_count": 7,
   "id": "0f695cdf-8547-497b-8ecf-b95fff3ff15f",
   "metadata": {
    "collapsed": true,
    "jupyter": {
     "outputs_hidden": true,
     "source_hidden": true
    }
   },
   "outputs": [
    {
     "name": "stdout",
     "output_type": "stream",
     "text": [
      "local-1734722159949\n",
      "EDA\n",
      "1734722158776\n",
      "spark://spark-iceberg:7077\n",
      "\n",
      "org.apache.iceberg.spark.SparkCatalog\n",
      "org.apache.iceberg.aws.s3.S3FileIO\n",
      "http://minio:9000\n",
      "rest\n",
      "http://rest:8181\n",
      "s3://warehouse\n",
      "\n"
     ]
    }
   ],
   "source": [
    "import pprint as pp\n",
    "\n",
    "# print(spark.sparkContext.uiWebUrl)\n",
    "\n",
    "print(spark.conf.get('spark.app.id'))\n",
    "print(spark.conf.get('spark.app.name'))\n",
    "print(spark.conf.get('spark.app.startTime'))\n",
    "print(spark.conf.get('spark.master'))\n",
    "print()\n",
    "print(spark.conf.get('spark.sql.catalog.airline'))\n",
    "print(spark.conf.get('spark.sql.catalog.airline.io-impl'))\n",
    "print(spark.conf.get('spark.sql.catalog.airline.s3.endpoint'))\n",
    "print(spark.conf.get('spark.sql.catalog.airline.type'))\n",
    "print(spark.conf.get('spark.sql.catalog.airline.uri'))\n",
    "print(spark.conf.get('spark.sql.catalog.airline.warehouse'))\n",
    "print()\n",
    "\n",
    "                     \n",
    "# pp.pp(dict(sc.getConf().getAll()), sort_dicts=True, )"
   ]
  },
  {
   "cell_type": "markdown",
   "id": "10598c93-7613-4acc-942a-e8d993bb68f3",
   "metadata": {
    "jp-MarkdownHeadingCollapsed": true
   },
   "source": [
    "# Ingest raw csv data"
   ]
  },
  {
   "cell_type": "markdown",
   "id": "95da7d1a-0099-4f80-bffb-68e35fde7eaa",
   "metadata": {},
   "source": [
    "### Read flights.csv and perform transforms"
   ]
  },
  {
   "cell_type": "code",
   "execution_count": 2,
   "id": "50cb02d5-0815-4416-b72a-4a1fea068abc",
   "metadata": {},
   "outputs": [
    {
     "name": "stderr",
     "output_type": "stream",
     "text": [
      "24/12/27 23:57:17 WARN SparkStringUtils: Truncated the string representation of a plan since it was too large. This behavior can be adjusted by setting 'spark.sql.debug.maxToStringFields'.\n",
      "                                                                                \r"
     ]
    },
    {
     "name": "stdout",
     "output_type": "stream",
     "text": [
      "+----------+-------+-------------+-----------+--------------+-------------------+-------------------+--------------+---------------+--------+----------+--------------+------------+--------+--------+---------+-------+-----------------+------------+-------------+--------+---------+-------------------+----------------+--------------+-------------+-------------------+-------------+----------+\n",
      "|      date|airline|flight_number|tail_number|origin_airport|destination_airport|scheduled_departure|departure_time|departure_delay|taxi_out|wheels_off|scheduled_time|elapsed_time|air_time|distance|wheels_on|taxi_in|scheduled_arrival|arrival_time|arrival_delay|diverted|cancelled|cancellation_reason|air_system_delay|security_delay|airline_delay|late_aircraft_delay|weather_delay|is_delayed|\n",
      "+----------+-------+-------------+-----------+--------------+-------------------+-------------------+--------------+---------------+--------+----------+--------------+------------+--------+--------+---------+-------+-----------------+------------+-------------+--------+---------+-------------------+----------------+--------------+-------------+-------------------+-------------+----------+\n",
      "|2015-01-01|     AS|           98|     N407AS|           ANC|                SEA|                  5|          2354|            -11|      21|        15|           205|         194|     169|    1448|      404|      4|              430|         408|          -22|       0|        0|               NULL|            NULL|          NULL|         NULL|               NULL|         NULL|         0|\n",
      "|2015-01-01|     AA|         2336|     N3KUAA|           LAX|                PBI|                 10|             2|             -8|      12|        14|           280|         279|     263|    2330|      737|      4|              750|         741|           -9|       0|        0|               NULL|            NULL|          NULL|         NULL|               NULL|         NULL|         0|\n",
      "|2015-01-01|     US|          840|     N171US|           SFO|                CLT|                 20|            18|             -2|      16|        34|           286|         293|     266|    2296|      800|     11|              806|         811|            5|       0|        0|               NULL|            NULL|          NULL|         NULL|               NULL|         NULL|         0|\n",
      "|2015-01-01|     AA|          258|     N3HYAA|           LAX|                MIA|                 20|            15|             -5|      15|        30|           285|         281|     258|    2342|      748|      8|              805|         756|           -9|       0|        0|               NULL|            NULL|          NULL|         NULL|               NULL|         NULL|         0|\n",
      "|2015-01-01|     AS|          135|     N527AS|           SEA|                ANC|                 25|            24|             -1|      11|        35|           235|         215|     199|    1448|      254|      5|              320|         259|          -21|       0|        0|               NULL|            NULL|          NULL|         NULL|               NULL|         NULL|         0|\n",
      "|2015-01-01|     DL|          806|     N3730B|           SFO|                MSP|                 25|            20|             -5|      18|        38|           217|         230|     206|    1589|      604|      6|              602|         610|            8|       0|        0|               NULL|            NULL|          NULL|         NULL|               NULL|         NULL|         0|\n",
      "|2015-01-01|     NK|          612|     N635NK|           LAS|                MSP|                 25|            19|             -6|      11|        30|           181|         170|     154|    1299|      504|      5|              526|         509|          -17|       0|        0|               NULL|            NULL|          NULL|         NULL|               NULL|         NULL|         0|\n",
      "|2015-01-01|     US|         2013|     N584UW|           LAX|                CLT|                 30|            44|             14|      13|        57|           273|         249|     228|    2125|      745|      8|              803|         753|          -10|       0|        0|               NULL|            NULL|          NULL|         NULL|               NULL|         NULL|         1|\n",
      "|2015-01-01|     AA|         1112|     N3LAAA|           SFO|                DFW|                 30|            19|            -11|      17|        36|           195|         193|     173|    1464|      529|      3|              545|         532|          -13|       0|        0|               NULL|            NULL|          NULL|         NULL|               NULL|         NULL|         0|\n",
      "|2015-01-01|     DL|         1173|     N826DN|           LAS|                ATL|                 30|            33|              3|      12|        45|           221|         203|     186|    1747|      651|      5|              711|         656|          -15|       0|        0|               NULL|            NULL|          NULL|         NULL|               NULL|         NULL|         1|\n",
      "|2015-01-01|     DL|         2336|     N958DN|           DEN|                ATL|                 30|            24|             -6|      12|        36|           173|         149|     133|    1199|      449|      4|              523|         453|          -30|       0|        0|               NULL|            NULL|          NULL|         NULL|               NULL|         NULL|         0|\n",
      "|2015-01-01|     AA|         1674|     N853AA|           LAS|                MIA|                 35|            27|             -8|      21|        48|           268|         266|     238|    2174|      746|      7|              803|         753|          -10|       0|        0|               NULL|            NULL|          NULL|         NULL|               NULL|         NULL|         0|\n",
      "|2015-01-01|     DL|         1434|     N547US|           LAX|                MSP|                 35|            35|              0|      18|        53|           214|         210|     188|    1535|      601|      4|              609|         605|           -4|       0|        0|               NULL|            NULL|          NULL|         NULL|               NULL|         NULL|         0|\n",
      "|2015-01-01|     DL|         2324|     N3751B|           SLC|                ATL|                 40|            34|             -6|      18|        52|           215|         199|     176|    1590|      548|      5|              615|         553|          -22|       0|        0|               NULL|            NULL|          NULL|         NULL|               NULL|         NULL|         0|\n",
      "|2015-01-01|     DL|         2440|     N651DL|           SEA|                MSP|                 40|            39|             -1|      28|       107|           189|         198|     166|    1399|      553|      4|              549|         557|            8|       0|        0|               NULL|            NULL|          NULL|         NULL|               NULL|         NULL|         0|\n",
      "|2015-01-01|     AS|          108|     N309AS|           ANC|                SEA|                 45|            41|             -4|      17|        58|           204|         194|     173|    1448|      451|      4|              509|         455|          -14|       0|        0|               NULL|            NULL|          NULL|         NULL|               NULL|         NULL|         0|\n",
      "|2015-01-01|     DL|         1560|     N3743H|           ANC|                SEA|                 45|            31|            -14|      25|        56|           210|         200|     171|    1448|      447|      4|              515|         451|          -24|       0|        0|               NULL|            NULL|          NULL|         NULL|               NULL|         NULL|         0|\n",
      "|2015-01-01|     UA|         1197|     N78448|           SFO|                IAH|                 48|            42|             -6|      11|        53|           218|         217|     199|    1635|      612|      7|              626|         619|           -7|       0|        0|               NULL|            NULL|          NULL|         NULL|               NULL|         NULL|         0|\n",
      "|2015-01-01|     AS|          122|     N413AS|           ANC|                PDX|                 50|            46|             -4|      11|        57|           215|         201|     187|    1542|      504|      3|              525|         507|          -18|       0|        0|               NULL|            NULL|          NULL|         NULL|               NULL|         NULL|         0|\n",
      "|2015-01-01|     DL|         1670|     N806DN|           PDX|                MSP|                 50|            45|             -5|       9|        54|           193|         186|     171|    1426|      545|      6|              603|         551|          -12|       0|        0|               NULL|            NULL|          NULL|         NULL|               NULL|         NULL|         0|\n",
      "+----------+-------+-------------+-----------+--------------+-------------------+-------------------+--------------+---------------+--------+----------+--------------+------------+--------+--------+---------+-------+-----------------+------------+-------------+--------+---------+-------------------+----------------+--------------+-------------+-------------------+-------------+----------+\n",
      "only showing top 20 rows\n",
      "\n",
      "== Physical Plan ==\n",
      "AdaptiveSparkPlan isFinalPlan=false\n",
      "+- Sort [date#62 ASC NULLS FIRST, scheduled_departure#9 ASC NULLS FIRST], true, 0\n",
      "   +- Exchange rangepartitioning(date#62 ASC NULLS FIRST, scheduled_departure#9 ASC NULLS FIRST, 200), ENSURE_REQUIREMENTS, [plan_id=22]\n",
      "      +- Project [cast(concat_ws(-, cast(year#0 as string), cast(month#1 as string), cast(day#2 as string)) as date) AS date#62, airline#4, flight_number#5, tail_number#6, origin_airport#7, destination_airport#8, scheduled_departure#9, departure_time#10, departure_delay#11, taxi_out#12, wheels_off#13, scheduled_time#14, elapsed_time#15, air_time#16, distance#17, wheels_on#18, taxi_in#19, scheduled_arrival#20, arrival_time#21, arrival_delay#22, diverted#23, cancelled#24, cancellation_reason#25, air_system_delay#26, ... 5 more fields]\n",
      "         +- FileScan csv [year#0,month#1,day#2,airline#4,flight_number#5,tail_number#6,origin_airport#7,destination_airport#8,scheduled_departure#9,departure_time#10,departure_delay#11,taxi_out#12,wheels_off#13,scheduled_time#14,elapsed_time#15,air_time#16,distance#17,wheels_on#18,taxi_in#19,scheduled_arrival#20,arrival_time#21,arrival_delay#22,diverted#23,cancelled#24,... 6 more fields] Batched: false, DataFilters: [], Format: CSV, Location: InMemoryFileIndex(1 paths)[file:/home/iceberg/data/flights.csv], PartitionFilters: [], PushedFilters: [], ReadSchema: struct<year:int,month:int,day:int,airline:string,flight_number:int,tail_number:string,origin_airp...\n",
      "\n",
      "\n"
     ]
    }
   ],
   "source": [
    "# Ingest flights data\n",
    "\n",
    "# TODO: Fix nullables column, cant set column as Not-Nullable for some reason...\n",
    "\n",
    "# Define ingest schema\n",
    "flights_schema = StructType([\n",
    "    StructField(\"year\", IntegerType(), False),   # Non-Nullable\n",
    "    StructField(\"month\", IntegerType(), False),  # Non-Nullable\n",
    "    StructField(\"day\", IntegerType(), False),    # Non-Nullable\n",
    "    StructField(\"day_of_week\", IntegerType(), False),    # Non-Nullable\n",
    "    StructField(\"airline\", StringType(), False),         # Non-Nullable\n",
    "    StructField(\"flight_number\", IntegerType(), False),  # Non-Nullable\n",
    "    StructField(\"tail_number\", StringType(), True),\n",
    "    StructField(\"origin_airport\", StringType(), False),  # Non-Nullable\n",
    "    StructField(\"destination_airport\", StringType(), False),   # Non-Nullable\n",
    "    StructField(\"scheduled_departure\", IntegerType(), False),  # Non-Nullable\n",
    "    StructField(\"departure_time\", IntegerType(), True),\n",
    "    StructField(\"departure_delay\", IntegerType(), True),\n",
    "    StructField(\"taxi_out\", IntegerType(), True),\n",
    "    StructField(\"wheels_off\", IntegerType(), True),\n",
    "    StructField(\"scheduled_time\", IntegerType(), True),\n",
    "    StructField(\"elapsed_time\", IntegerType(), True),\n",
    "    StructField(\"air_time\", IntegerType(), True),\n",
    "    StructField(\"distance\", IntegerType(), False),  # Non-Nullable\n",
    "    StructField(\"wheels_on\", IntegerType(), True),\n",
    "    StructField(\"taxi_in\", IntegerType(), True),\n",
    "    StructField(\"scheduled_arrival\", IntegerType(), False),  # Non-Nullable\n",
    "    StructField(\"arrival_time\", IntegerType(), True),\n",
    "    StructField(\"arrival_delay\", IntegerType(), True),\n",
    "    StructField(\"diverted\", IntegerType(), False),   # Non-Nullable\n",
    "    StructField(\"cancelled\", IntegerType(), False),  # Non-Nullable\n",
    "    StructField(\"cancellation_reason\", StringType(), True),\n",
    "    StructField(\"air_system_delay\", IntegerType(), True),\n",
    "    StructField(\"security_delay\", IntegerType(), True),\n",
    "    StructField(\"airline_delay\", IntegerType(), True),\n",
    "    StructField(\"late_aircraft_delay\", IntegerType(), True),\n",
    "    StructField(\"weather_delay\", IntegerType(), True)\n",
    "])\n",
    "\n",
    "\n",
    "# Read flights.csv\n",
    "filename = '/home/iceberg/data/flights.csv'\n",
    "flights_df = spark.read.schema(flights_schema).csv(\n",
    "    '/home/iceberg/data/flights.csv',\n",
    "    schema=flights_schema,\n",
    "    enforceSchema=True,\n",
    "    header = True\n",
    ")\n",
    "\n",
    "# Add date column and remove other date-related columns\n",
    "flights_df = flights_df \\\n",
    "    .withColumn('date', to_date(concat_ws('-', 'year', 'month', 'day'))) \\\n",
    "    .drop('year', 'month', 'day', 'day_of_week')\n",
    "\n",
    "# Add is_delayed column (when scheduled_departure > 0)\n",
    "flights_df = flights_df \\\n",
    "    .withColumn(\n",
    "        'is_delayed',\n",
    "        when(col('departure_delay') > 0, lit(1)).otherwise(lit(0))\n",
    "    )\n",
    "\n",
    "# Rearrange date to be first column,\n",
    "flights_df = flights_df.select('date', *[col(c) for c in flights_df.columns if c != 'date'])\n",
    "\n",
    "# Sort by date and schedule_departure time\n",
    "flights_df = flights_df.sort(['date', 'scheduled_departure'])\n",
    "\n",
    "# flights_df.cache()\n",
    "# flights_df.printSchema()\n",
    "flights_df.show()\n",
    "flights_df.explain()"
   ]
  },
  {
   "cell_type": "code",
   "execution_count": null,
   "id": "daff6973-70f2-42b2-9ffc-8af0c1a161ab",
   "metadata": {
    "jupyter": {
     "source_hidden": true
    }
   },
   "outputs": [],
   "source": [
    "# Experimenting\n",
    "\n",
    "# flights_df.groupBy(['flight_number', 'tail_number']).count().show()\n",
    "# flights_df.filter(col('flight_number') == 2519).sort(['airline', 'month', 'day']).show(50)\n",
    "\n",
    "# # Spark SQL\n",
    "# date_df = flights_df.select(['year', 'month', 'day', 'day_of_week']).withColumn('date', expr('to_date(concat(year, \"-\", month))'))"
   ]
  },
  {
   "cell_type": "markdown",
   "id": "b6e73e23-0b2b-460c-a895-cabe8f247d1f",
   "metadata": {},
   "source": [
    "### Create dim_date table"
   ]
  },
  {
   "cell_type": "code",
   "execution_count": 2,
   "id": "2b25ff50-fb30-4ff8-8f31-3ba9479fa552",
   "metadata": {},
   "outputs": [
    {
     "name": "stderr",
     "output_type": "stream",
     "text": [
      "                                                                                \r"
     ]
    },
    {
     "name": "stdout",
     "output_type": "stream",
     "text": [
      "+----------+----+-----+---+-----------+-------+--------------------+----------+\n",
      "|      date|year|month|day|day_of_week|quarter|        holiday_name|is_holiday|\n",
      "+----------+----+-----+---+-----------+-------+--------------------+----------+\n",
      "|2015-01-01|2015|    1|  1|          5|      1|      New Year's Day|      true|\n",
      "|2015-01-02|2015|    1|  2|          6|      1|                NULL|     false|\n",
      "|2015-01-03|2015|    1|  3|          7|      1|                NULL|     false|\n",
      "|2015-01-04|2015|    1|  4|          1|      1|                NULL|     false|\n",
      "|2015-01-05|2015|    1|  5|          2|      1|                NULL|     false|\n",
      "|2015-01-06|2015|    1|  6|          3|      1|                NULL|     false|\n",
      "|2015-01-07|2015|    1|  7|          4|      1|                NULL|     false|\n",
      "|2015-01-08|2015|    1|  8|          5|      1|                NULL|     false|\n",
      "|2015-01-09|2015|    1|  9|          6|      1|                NULL|     false|\n",
      "|2015-01-10|2015|    1| 10|          7|      1|                NULL|     false|\n",
      "|2015-01-11|2015|    1| 11|          1|      1|                NULL|     false|\n",
      "|2015-01-12|2015|    1| 12|          2|      1|                NULL|     false|\n",
      "|2015-01-13|2015|    1| 13|          3|      1|                NULL|     false|\n",
      "|2015-01-14|2015|    1| 14|          4|      1|                NULL|     false|\n",
      "|2015-01-15|2015|    1| 15|          5|      1|                NULL|     false|\n",
      "|2015-01-16|2015|    1| 16|          6|      1|                NULL|     false|\n",
      "|2015-01-17|2015|    1| 17|          7|      1|                NULL|     false|\n",
      "|2015-01-18|2015|    1| 18|          1|      1|                NULL|     false|\n",
      "|2015-01-19|2015|    1| 19|          2|      1|Martin Luther Kin...|      true|\n",
      "|2015-01-20|2015|    1| 20|          3|      1|                NULL|     false|\n",
      "+----------+----+-----+---+-----------+-------+--------------------+----------+\n",
      "only showing top 20 rows\n",
      "\n",
      "== Physical Plan ==\n",
      "AdaptiveSparkPlan isFinalPlan=false\n",
      "+- Sort [date#2 ASC NULLS FIRST], true, 0\n",
      "   +- Exchange rangepartitioning(date#2 ASC NULLS FIRST, 200), ENSURE_REQUIREMENTS, [plan_id=116]\n",
      "      +- Project [date#2, year#5, month#9, day#14, day_of_week#20, quarter#27, holiday_name#42, isnotnull(holiday_name#42) AS is_holiday#64]\n",
      "         +- BroadcastHashJoin [date#2], [holiday_date#45], LeftOuter, BuildRight, false\n",
      "            :- Project [date#2, year(date#2) AS year#5, month(date#2) AS month#9, day(date#2) AS day#14, dayofweek(date#2) AS day_of_week#20, quarter(date#2) AS quarter#27]\n",
      "            :  +- Project [date_add(2015-01-01, cast(id#0L as int)) AS date#2]\n",
      "            :     +- Range (0, 365, step=1, splits=12)\n",
      "            +- BroadcastExchange HashedRelationBroadcastMode(List(input[0, date, true]),false), [plan_id=112]\n",
      "               +- Project [cast(holiday_date#41 as date) AS holiday_date#45, holiday_name#42]\n",
      "                  +- Filter isnotnull(cast(holiday_date#41 as date))\n",
      "                     +- Scan ExistingRDD[holiday_date#41,holiday_name#42]\n",
      "\n",
      "\n"
     ]
    }
   ],
   "source": [
    "# Original day_of_week 1 is Monday, spark dayofweek 1 is Sunday\n",
    "date_df = spark.range(365) \\\n",
    "    .withColumn('date', expr('date_add(\"2015-01-01\", CAST(id AS INT))')) \\\n",
    "    .withColumn('year', year('date')) \\\n",
    "    .withColumn('month', month('date')) \\\n",
    "    .withColumn('day', day('date')) \\\n",
    "    .withColumn('day_of_week', dayofweek('date')) \\\n",
    "    .withColumn('quarter', quarter('date')) \\\n",
    "    .drop('id')\n",
    "\n",
    "# List of U.S. federal holidays\n",
    "us_holidays_2015 = [\n",
    "    (\"2015-01-01\", \"New Year's Day\"),\n",
    "    (\"2015-01-19\", \"Martin Luther King Jr. Day\"),\n",
    "    (\"2015-02-16\", \"Presidents' Day\"),\n",
    "    (\"2015-05-25\", \"Memorial Day\"),\n",
    "    (\"2015-07-04\", \"Independence Day\"),\n",
    "    (\"2015-09-07\", \"Labor Day\"),\n",
    "    (\"2015-10-12\", \"Columbus Day\"),\n",
    "    (\"2015-11-11\", \"Veterans Day\"),\n",
    "    (\"2015-11-26\", \"Thanksgiving Day\"),\n",
    "    (\"2015-12-25\", \"Christmas Day\"),\n",
    "]\n",
    "\n",
    "# Create holidays_df and cast date from STRING to DATE type\n",
    "holidays_df = spark.createDataFrame(us_holidays_2015, ['holiday_date', 'holiday_name'])\n",
    "holidays_df = holidays_df.withColumn('holiday_date', to_date('holiday_date'))\n",
    "\n",
    "# Join holidays to date_df and add is_holiday column\n",
    "date_df = date_df \\\n",
    "    .join(\n",
    "        broadcast(holidays_df),\n",
    "        date_df.date == holidays_df.holiday_date,\n",
    "        'left'\n",
    "    ) \\\n",
    "    .withColumn(\n",
    "        'is_holiday',\n",
    "        when(col('holiday_name').isNotNull(), lit(True)).otherwise(lit(False))\n",
    "    ) \\\n",
    "    .drop('holiday_date') \\\n",
    "    .sort('date')\n",
    "\n",
    "# Rearrange date to be first column,\n",
    "date_df = date_df.select('date', *[col(c) for c in date_df.columns if c != 'date'])\n",
    "\n",
    "date_df.show()\n",
    "date_df.explain()"
   ]
  },
  {
   "cell_type": "markdown",
   "id": "b7bc3cef-b489-4cb4-bc1c-5e6d1fa4db45",
   "metadata": {
    "jp-MarkdownHeadingCollapsed": true
   },
   "source": [
    "# Explore data!"
   ]
  },
  {
   "cell_type": "markdown",
   "id": "2587a40c-b0a7-4b99-956c-29c5cf52945f",
   "metadata": {},
   "source": [
    "TODO:\n",
    "- Check statistics of important columns, like what are the percentiles for departure/arrival delay?\n",
    "- Check max values for delay"
   ]
  },
  {
   "cell_type": "markdown",
   "id": "5d902567-e843-4fe7-b5be-15100a83edbc",
   "metadata": {
    "jp-MarkdownHeadingCollapsed": true
   },
   "source": [
    "## Total number of flight records: 5,819,079"
   ]
  },
  {
   "cell_type": "code",
   "execution_count": 32,
   "id": "fb5668f3-765c-4654-9822-d5a17dec710b",
   "metadata": {},
   "outputs": [
    {
     "name": "stderr",
     "output_type": "stream",
     "text": [
      "                                                                                \r"
     ]
    },
    {
     "data": {
      "text/plain": [
       "5819079"
      ]
     },
     "execution_count": 32,
     "metadata": {},
     "output_type": "execute_result"
    }
   ],
   "source": [
    "flights_df.count()"
   ]
  },
  {
   "cell_type": "markdown",
   "id": "8e3bf176-639d-4dea-b2b4-597871ccf425",
   "metadata": {},
   "source": [
    "## Total number of cancelled flights: 89,884\n",
    "These will cause nulls in other columns."
   ]
  },
  {
   "cell_type": "code",
   "execution_count": 184,
   "id": "75c96e32-b2bf-4b24-b5bb-5ba1d12de13f",
   "metadata": {},
   "outputs": [
    {
     "name": "stdout",
     "output_type": "stream",
     "text": [
      "+----------+-------+-------------+-----------+--------------+-------------------+-------------------+--------------+---------------+--------+----------+--------------+------------+--------+--------+---------+-------+-----------------+------------+-------------+--------+---------+-------------------+----------------+--------------+-------------+-------------------+-------------+----------+----+-----+---+-----------+-------+------------+----------+\n",
      "|      date|airline|flight_number|tail_number|origin_airport|destination_airport|scheduled_departure|departure_time|departure_delay|taxi_out|wheels_off|scheduled_time|elapsed_time|air_time|distance|wheels_on|taxi_in|scheduled_arrival|arrival_time|arrival_delay|diverted|cancelled|cancellation_reason|air_system_delay|security_delay|airline_delay|late_aircraft_delay|weather_delay|is_delayed|year|month|day|day_of_week|quarter|holiday_name|is_holiday|\n",
      "+----------+-------+-------------+-----------+--------------+-------------------+-------------------+--------------+---------------+--------+----------+--------------+------------+--------+--------+---------+-------+-----------------+------------+-------------+--------+---------+-------------------+----------------+--------------+-------------+-------------------+-------------+----------+----+-----+---+-----------+-------+------------+----------+\n",
      "|2015-07-01|     OO|         4491|     N608SK|           SEA|                BOI|                745|           904|             79|    NULL|      NULL|            88|        NULL|    NULL|     399|     NULL|   NULL|             1013|        NULL|         NULL|       0|        1|                  A|            NULL|          NULL|         NULL|               NULL|         NULL|         1|2015|    7|  1|          4|      3|        NULL|     false|\n",
      "|2015-07-01|     UA|          145|     N66051|           IAD|                HNL|                855|          1110|            135|    NULL|      NULL|           614|        NULL|    NULL|    4817|     NULL|   NULL|             1309|        NULL|         NULL|       0|        1|                  A|            NULL|          NULL|         NULL|               NULL|         NULL|         1|2015|    7|  1|          4|      3|        NULL|     false|\n",
      "|2015-07-01|     OO|         4488|     N461SW|           FWA|                ATL|               1107|          1113|              6|    NULL|      NULL|           121|        NULL|    NULL|     508|     NULL|   NULL|             1308|        NULL|         NULL|       0|        1|                  A|            NULL|          NULL|         NULL|               NULL|         NULL|         1|2015|    7|  1|          4|      3|        NULL|     false|\n",
      "|2015-07-01|     AA|          300|     N555AA|           ORD|                LAS|               1330|          1454|             84|    NULL|      NULL|           240|        NULL|    NULL|    1514|     NULL|   NULL|             1530|        NULL|         NULL|       0|        1|                  A|            NULL|          NULL|         NULL|               NULL|         NULL|         1|2015|    7|  1|          4|      3|        NULL|     false|\n",
      "|2015-07-01|     WN|          610|     N412WN|           SNA|                SJC|               1500|          1456|             -4|    NULL|      NULL|            70|        NULL|    NULL|     342|     NULL|   NULL|             1610|        NULL|         NULL|       0|        1|                  A|            NULL|          NULL|         NULL|               NULL|         NULL|         0|2015|    7|  1|          4|      3|        NULL|     false|\n",
      "|2015-07-01|     OO|         6505|     N959SW|           MTJ|                DEN|               1650|          1722|             32|    NULL|      NULL|            64|        NULL|    NULL|     196|     NULL|   NULL|             1754|        NULL|         NULL|       0|        1|                  A|            NULL|          NULL|         NULL|               NULL|         NULL|         1|2015|    7|  1|          4|      3|        NULL|     false|\n",
      "|2015-07-01|     OO|         2887|     N466SW|           LAX|                MRY|               2105|          2100|             -5|      28|      2128|            65|        NULL|    NULL|     266|     NULL|   NULL|             2210|        NULL|         NULL|       0|        1|                  B|            NULL|          NULL|         NULL|               NULL|         NULL|         0|2015|    7|  1|          4|      3|        NULL|     false|\n",
      "|2015-07-01|     WN|         1569|     N761RR|           ATL|                BOS|               2205|           105|            180|    NULL|      NULL|           155|        NULL|    NULL|     946|     NULL|   NULL|               40|        NULL|         NULL|       0|        1|                  A|            NULL|          NULL|         NULL|               NULL|         NULL|         1|2015|    7|  1|          4|      3|        NULL|     false|\n",
      "|2015-07-02|     OO|         2851|     N864AS|           SMF|                LAX|                620|           628|              8|    NULL|      NULL|            94|        NULL|    NULL|     373|     NULL|   NULL|              754|        NULL|         NULL|       0|        1|                  A|            NULL|          NULL|         NULL|               NULL|         NULL|         1|2015|    7|  2|          5|      3|        NULL|     false|\n",
      "|2015-07-02|     UA|         1172|     N69810|           IAH|                DFW|                730|           731|              1|      15|       746|            77|        NULL|    NULL|     224|     NULL|   NULL|              847|        NULL|         NULL|       0|        1|                  A|            NULL|          NULL|         NULL|               NULL|         NULL|         1|2015|    7|  2|          5|      3|        NULL|     false|\n",
      "|2015-07-02|     UA|          256|     N824UA|           AUS|                IAH|                820|           818|             -2|    NULL|      NULL|            60|        NULL|    NULL|     140|     NULL|   NULL|              920|        NULL|         NULL|       0|        1|                  A|            NULL|          NULL|         NULL|               NULL|         NULL|         0|2015|    7|  2|          5|      3|        NULL|     false|\n",
      "|2015-07-02|     AA|         2332|     N8ADAA|           DFW|                ORD|                830|           929|             59|    NULL|      NULL|           140|        NULL|    NULL|     802|     NULL|   NULL|             1050|        NULL|         NULL|       0|        1|                  A|            NULL|          NULL|         NULL|               NULL|         NULL|         1|2015|    7|  2|          5|      3|        NULL|     false|\n",
      "|2015-07-02|     OO|         5595|     N927SW|           DEN|                LNK|               1004|          1024|             20|      12|      1036|            83|        NULL|    NULL|     423|     NULL|   NULL|             1227|        NULL|         NULL|       0|        1|                  B|            NULL|          NULL|         NULL|               NULL|         NULL|         1|2015|    7|  2|          5|      3|        NULL|     false|\n",
      "|2015-07-02|     UA|          788|     N537UA|           SFO|                BOS|               1143|          1140|             -3|    NULL|      NULL|           347|        NULL|    NULL|    2704|     NULL|   NULL|             2030|        NULL|         NULL|       0|        1|                  A|            NULL|          NULL|         NULL|               NULL|         NULL|         0|2015|    7|  2|          5|      3|        NULL|     false|\n",
      "|2015-07-02|     DL|         1920|     N935AT|           EWR|                ATL|               1145|          1144|             -1|    NULL|      NULL|           140|        NULL|    NULL|     746|     NULL|   NULL|             1405|        NULL|         NULL|       0|        1|                  A|            NULL|          NULL|         NULL|               NULL|         NULL|         0|2015|    7|  2|          5|      3|        NULL|     false|\n",
      "|2015-07-02|     MQ|         3279|     N900MQ|           DFW|                SGF|               1840|          1905|             25|    NULL|      NULL|            89|        NULL|    NULL|     364|     NULL|   NULL|             2009|        NULL|         NULL|       0|        1|                  A|            NULL|          NULL|         NULL|               NULL|         NULL|         1|2015|    7|  2|          5|      3|        NULL|     false|\n",
      "|2015-07-02|     UA|         1192|     N36280|           SFO|                LAX|               1903|          2001|             58|    NULL|      NULL|           104|        NULL|    NULL|     337|     NULL|   NULL|             2047|        NULL|         NULL|       0|        1|                  A|            NULL|          NULL|         NULL|               NULL|         NULL|         1|2015|    7|  2|          5|      3|        NULL|     false|\n",
      "|2015-07-03|     OO|         6420|     N718SK|           PSP|                DEN|                600|           554|             -6|    NULL|      NULL|           129|        NULL|    NULL|     776|     NULL|   NULL|              909|        NULL|         NULL|       0|        1|                  A|            NULL|          NULL|         NULL|               NULL|         NULL|         0|2015|    7|  3|          6|      3|        NULL|     false|\n",
      "|2015-07-03|     OO|         5303|     N934SW|           AVL|                ORD|                610|           609|             -1|    NULL|      NULL|           107|        NULL|    NULL|     536|     NULL|   NULL|              657|        NULL|         NULL|       0|        1|                  A|            NULL|          NULL|         NULL|               NULL|         NULL|         0|2015|    7|  3|          6|      3|        NULL|     false|\n",
      "|2015-07-03|     AA|          469|     N162UW|           CLT|                ATL|                755|           750|             -5|    NULL|      NULL|            79|        NULL|    NULL|     226|     NULL|   NULL|              914|        NULL|         NULL|       0|        1|                  B|            NULL|          NULL|         NULL|               NULL|         NULL|         0|2015|    7|  3|          6|      3|        NULL|     false|\n",
      "+----------+-------+-------------+-----------+--------------+-------------------+-------------------+--------------+---------------+--------+----------+--------------+------------+--------+--------+---------+-------+-----------------+------------+-------------+--------+---------+-------------------+----------------+--------------+-------------+-------------------+-------------+----------+----+-----+---+-----------+-------+------------+----------+\n",
      "only showing top 20 rows\n",
      "\n"
     ]
    }
   ],
   "source": [
    "cancelled_df = flights_df.where('cancelled = 1')\n",
    "cancelled_df.count()\n",
    "# total_df.show()\n",
    "\n",
    "# Find flights that were taxied out or took off, but were ultimately cancelled\n",
    "cancelled_df.filter(col('departure_delay').isNotNull()).show()"
   ]
  },
  {
   "cell_type": "code",
   "execution_count": 196,
   "id": "b96b96a6-2393-43b3-921d-c96817fcb358",
   "metadata": {},
   "outputs": [
    {
     "name": "stdout",
     "output_type": "stream",
     "text": [
      "+----+-------+-------------+-----------+--------------+-------------------+-------------------+--------------+---------------+--------+----------+--------------+------------+--------+--------+---------+-------+-----------------+------------+-------------+--------+---------+-------------------+----------------+--------------+-------------+-------------------+-------------+----------+----+-----+---+-----------+-------+------------+----------+\n",
      "|date|airline|flight_number|tail_number|origin_airport|destination_airport|scheduled_departure|departure_time|departure_delay|taxi_out|wheels_off|scheduled_time|elapsed_time|air_time|distance|wheels_on|taxi_in|scheduled_arrival|arrival_time|arrival_delay|diverted|cancelled|cancellation_reason|air_system_delay|security_delay|airline_delay|late_aircraft_delay|weather_delay|is_delayed|year|month|day|day_of_week|quarter|holiday_name|is_holiday|\n",
      "+----+-------+-------------+-----------+--------------+-------------------+-------------------+--------------+---------------+--------+----------+--------------+------------+--------+--------+---------+-------+-----------------+------------+-------------+--------+---------+-------------------+----------------+--------------+-------------+-------------------+-------------+----------+----+-----+---+-----------+-------+------------+----------+\n",
      "+----+-------+-------------+-----------+--------------+-------------------+-------------------+--------------+---------------+--------+----------+--------------+------------+--------+--------+---------+-------+-----------------+------------+-------------+--------+---------+-------------------+----------------+--------------+-------------+-------------------+-------------+----------+----+-----+---+-----------+-------+------------+----------+\n",
      "\n"
     ]
    }
   ],
   "source": [
    "# Confirm cancellation reason is not null only when cancelled == 1\n",
    "flights_df.filter(\n",
    "    (col('cancelled') == 0) & (col('cancellation_reason').isNotNull())\n",
    ").show()"
   ]
  },
  {
   "cell_type": "markdown",
   "id": "47f956e4-c693-4a1c-aa3d-89ad8824a863",
   "metadata": {},
   "source": [
    "## Total number of diverted flights: 15,187"
   ]
  },
  {
   "cell_type": "code",
   "execution_count": 189,
   "id": "99d74e67-ea24-4ced-be0c-9c17ca8d74c5",
   "metadata": {},
   "outputs": [
    {
     "name": "stdout",
     "output_type": "stream",
     "text": [
      "15187\n",
      "+----------+-------+-------------+-----------+--------------+-------------------+-------------------+--------------+---------------+--------+----------+--------------+------------+--------+--------+---------+-------+-----------------+------------+-------------+--------+---------+-------------------+----------------+--------------+-------------+-------------------+-------------+----------+----+-----+---+-----------+-------+------------+----------+\n",
      "|      date|airline|flight_number|tail_number|origin_airport|destination_airport|scheduled_departure|departure_time|departure_delay|taxi_out|wheels_off|scheduled_time|elapsed_time|air_time|distance|wheels_on|taxi_in|scheduled_arrival|arrival_time|arrival_delay|diverted|cancelled|cancellation_reason|air_system_delay|security_delay|airline_delay|late_aircraft_delay|weather_delay|is_delayed|year|month|day|day_of_week|quarter|holiday_name|is_holiday|\n",
      "+----------+-------+-------------+-----------+--------------+-------------------+-------------------+--------------+---------------+--------+----------+--------------+------------+--------+--------+---------+-------+-----------------+------------+-------------+--------+---------+-------------------+----------------+--------------+-------------+-------------------+-------------+----------+----+-----+---+-----------+-------+------------+----------+\n",
      "|2015-07-01|     WN|          662|     N739GB|           LAS|                HOU|                515|           705|            110|       8|       713|           180|        NULL|    NULL|    1235|     1504|      8|             1015|        1512|         NULL|       1|        0|               NULL|            NULL|          NULL|         NULL|               NULL|         NULL|         1|2015|    7|  1|          4|      3|        NULL|     false|\n",
      "|2015-07-01|     UA|          354|     N545UA|           SFO|                IAH|                600|           601|              1|      38|       639|           236|        NULL|    NULL|    1635|     1527|      5|             1156|        1532|         NULL|       1|        0|               NULL|            NULL|          NULL|         NULL|               NULL|         NULL|         1|2015|    7|  1|          4|      3|        NULL|     false|\n",
      "|2015-07-01|     EV|         6177|     N12924|           EWR|                IAD|                603|           600|             -3|      20|       620|            77|        NULL|    NULL|     212|      900|      6|              720|         906|         NULL|       1|        0|               NULL|            NULL|          NULL|         NULL|               NULL|         NULL|         0|2015|    7|  1|          4|      3|        NULL|     false|\n",
      "|2015-07-01|     WN|         1094|     N8662F|           OAK|                HOU|                610|           612|              2|      15|       627|           230|        NULL|    NULL|    1642|     1411|      9|             1200|        1420|         NULL|       1|        0|               NULL|            NULL|          NULL|         NULL|               NULL|         NULL|         1|2015|    7|  1|          4|      3|        NULL|     false|\n",
      "|2015-07-01|     UA|         1757|     N73278|           SJC|                IAH|                620|           629|              9|      13|       642|           235|        NULL|    NULL|    1608|     1511|     10|             1215|        1521|         NULL|       1|        0|               NULL|            NULL|          NULL|         NULL|               NULL|         NULL|         1|2015|    7|  1|          4|      3|        NULL|     false|\n",
      "|2015-07-01|     UA|          737|     N437UA|           SNA|                IAH|                645|           649|              4|      22|       711|           202|        NULL|    NULL|    1346|     1409|     11|             1207|        1420|         NULL|       1|        0|               NULL|            NULL|          NULL|         NULL|               NULL|         NULL|         1|2015|    7|  1|          4|      3|        NULL|     false|\n",
      "|2015-07-01|     OO|         6196|     N767SK|           ONT|                IAH|                645|           640|             -5|      23|       703|           205|        NULL|    NULL|    1334|     1357|      8|             1210|        1405|         NULL|       1|        0|               NULL|            NULL|          NULL|         NULL|               NULL|         NULL|         0|2015|    7|  1|          4|      3|        NULL|     false|\n",
      "|2015-07-01|     B6|         1031|     N348JB|           BOS|                HOU|                704|           851|            107|      26|       917|           246|        NULL|    NULL|    1609|     1719|      4|             1010|        1723|         NULL|       1|        0|               NULL|            NULL|          NULL|         NULL|               NULL|         NULL|         1|2015|    7|  1|          4|      3|        NULL|     false|\n",
      "|2015-07-01|     UA|         1125|     N57870|           LAX|                IAH|                724|           720|             -4|      17|       737|           204|        NULL|    NULL|    1379|     1455|     13|             1248|        1508|         NULL|       1|        0|               NULL|            NULL|          NULL|         NULL|               NULL|         NULL|         0|2015|    7|  1|          4|      3|        NULL|     false|\n",
      "|2015-07-01|     OO|         4847|     N781CA|           SBN|                MSP|                742|           733|             -9|      32|       805|            95|        NULL|    NULL|     411|      933|      4|              817|         937|         NULL|       1|        0|               NULL|            NULL|          NULL|         NULL|               NULL|         NULL|         0|2015|    7|  1|          4|      3|        NULL|     false|\n",
      "|2015-07-01|     OO|         4972|     N962SW|           ORD|                RAP|                845|           838|             -7|      15|       853|           142|        NULL|    NULL|     779|     1201|      5|             1007|        1206|         NULL|       1|        0|               NULL|            NULL|          NULL|         NULL|               NULL|         NULL|         0|2015|    7|  1|          4|      3|        NULL|     false|\n",
      "|2015-07-01|     NK|          832|     N634NK|           DEN|                IAH|                900|           857|             -3|      13|       910|           140|        NULL|    NULL|     862|     1518|     13|             1220|        1531|         NULL|       1|        0|               NULL|            NULL|          NULL|         NULL|               NULL|         NULL|         0|2015|    7|  1|          4|      3|        NULL|     false|\n",
      "|2015-07-01|     OO|         4564|     N430SW|           MSP|                MOT|                902|           919|             17|       1|       920|            93|        NULL|    NULL|     449|     1406|      5|             1035|        1411|         NULL|       1|        0|               NULL|            NULL|          NULL|         NULL|               NULL|         NULL|         1|2015|    7|  1|          4|      3|        NULL|     false|\n",
      "|2015-07-01|     OO|         4678|     N824SK|           MSP|                IAH|                916|           918|              2|      26|       944|           175|        NULL|    NULL|    1034|     1422|     10|             1211|        1432|         NULL|       1|        0|               NULL|            NULL|          NULL|         NULL|               NULL|         NULL|         1|2015|    7|  1|          4|      3|        NULL|     false|\n",
      "|2015-07-01|     UA|          589|     N832UA|           ORD|                IAH|                927|           950|             23|      22|      1012|           164|        NULL|    NULL|     925|     1515|      8|             1211|        1523|         NULL|       1|        0|               NULL|            NULL|          NULL|         NULL|               NULL|         NULL|         1|2015|    7|  1|          4|      3|        NULL|     false|\n",
      "|2015-07-01|     WN|         4097|     N653SW|           MCO|                HOU|                935|          1003|             28|       6|      1009|           140|        NULL|    NULL|     849|     1527|     24|             1055|        1551|         NULL|       1|        0|               NULL|            NULL|          NULL|         NULL|               NULL|         NULL|         1|2015|    7|  1|          4|      3|        NULL|     false|\n",
      "|2015-07-01|     WN|          683|     N601WN|           STL|                HOU|                955|           951|             -4|      10|      1001|           120|        NULL|    NULL|     687|     1522|     19|             1155|        1541|         NULL|       1|        0|               NULL|            NULL|          NULL|         NULL|               NULL|         NULL|         0|2015|    7|  1|          4|      3|        NULL|     false|\n",
      "|2015-07-01|     WN|         2795|     N8621A|           DEN|                HOU|               1000|           955|             -5|      10|      1005|           140|        NULL|    NULL|     883|     1513|     13|             1320|        1526|         NULL|       1|        0|               NULL|            NULL|          NULL|         NULL|               NULL|         NULL|         0|2015|    7|  1|          4|      3|        NULL|     false|\n",
      "|2015-07-01|     AA|          684|     N904AW|           PHX|                LIH|               1015|          1031|             16|      26|      1057|           405|        NULL|    NULL|    2979|     2322|      5|             1400|        2327|         NULL|       1|        0|               NULL|            NULL|          NULL|         NULL|               NULL|         NULL|         1|2015|    7|  1|          4|      3|        NULL|     false|\n",
      "|2015-07-01|     WN|          900|     N555LV|           RDU|                HOU|               1020|          1020|              0|      10|      1030|           160|        NULL|    NULL|    1050|     1508|      9|             1200|        1517|         NULL|       1|        0|               NULL|            NULL|          NULL|         NULL|               NULL|         NULL|         0|2015|    7|  1|          4|      3|        NULL|     false|\n",
      "+----------+-------+-------------+-----------+--------------+-------------------+-------------------+--------------+---------------+--------+----------+--------------+------------+--------+--------+---------+-------+-----------------+------------+-------------+--------+---------+-------------------+----------------+--------------+-------------+-------------------+-------------+----------+----+-----+---+-----------+-------+------------+----------+\n",
      "only showing top 20 rows\n",
      "\n",
      "+----+-------+-------------+-----------+--------------+-------------------+-------------------+--------------+---------------+--------+----------+--------------+------------+--------+--------+---------+-------+-----------------+------------+-------------+--------+---------+-------------------+----------------+--------------+-------------+-------------------+-------------+----------+----+-----+---+-----------+-------+------------+----------+\n",
      "|date|airline|flight_number|tail_number|origin_airport|destination_airport|scheduled_departure|departure_time|departure_delay|taxi_out|wheels_off|scheduled_time|elapsed_time|air_time|distance|wheels_on|taxi_in|scheduled_arrival|arrival_time|arrival_delay|diverted|cancelled|cancellation_reason|air_system_delay|security_delay|airline_delay|late_aircraft_delay|weather_delay|is_delayed|year|month|day|day_of_week|quarter|holiday_name|is_holiday|\n",
      "+----+-------+-------------+-----------+--------------+-------------------+-------------------+--------------+---------------+--------+----------+--------------+------------+--------+--------+---------+-------+-----------------+------------+-------------+--------+---------+-------------------+----------------+--------------+-------------+-------------------+-------------+----------+----+-----+---+-----------+-------+------------+----------+\n",
      "+----+-------+-------------+-----------+--------------+-------------------+-------------------+--------------+---------------+--------+----------+--------------+------------+--------+--------+---------+-------+-----------------+------------+-------------+--------+---------+-------------------+----------------+--------------+-------------+-------------------+-------------+----------+----+-----+---+-----------+-------+------------+----------+\n",
      "\n"
     ]
    }
   ],
   "source": [
    "diverted_df = flights_df.where('diverted = 1')\n",
    "print(diverted_df.count())\n",
    "diverted_df.show()\n",
    "diverted_df.filter(col('arrival_delay').isNotNull()).show()"
   ]
  },
  {
   "cell_type": "markdown",
   "id": "8f1d5732-6a9c-496a-9606-b0dde53c780d",
   "metadata": {},
   "source": [
    "## Get Null counts for each column"
   ]
  },
  {
   "cell_type": "code",
   "execution_count": 31,
   "id": "ef3ab334-ea6c-46be-af31-fcd84a01fc1b",
   "metadata": {},
   "outputs": [
    {
     "name": "stderr",
     "output_type": "stream",
     "text": [
      "[Stage 23:===================================================>    (11 + 1) / 12]\r"
     ]
    },
    {
     "name": "stdout",
     "output_type": "stream",
     "text": [
      "+----+-----+---+-----------+-------+-------------+-----------+--------------+-------------------+-------------------+--------------+---------------+--------+----------+--------------+------------+--------+--------+---------+-------+-----------------+------------+-------------+--------+---------+-------------------+----------------+--------------+-------------+-------------------+-------------+\n",
      "|YEAR|MONTH|DAY|DAY_OF_WEEK|AIRLINE|FLIGHT_NUMBER|TAIL_NUMBER|ORIGIN_AIRPORT|DESTINATION_AIRPORT|SCHEDULED_DEPARTURE|DEPARTURE_TIME|DEPARTURE_DELAY|TAXI_OUT|WHEELS_OFF|SCHEDULED_TIME|ELAPSED_TIME|AIR_TIME|DISTANCE|WHEELS_ON|TAXI_IN|SCHEDULED_ARRIVAL|ARRIVAL_TIME|ARRIVAL_DELAY|DIVERTED|CANCELLED|CANCELLATION_REASON|AIR_SYSTEM_DELAY|SECURITY_DELAY|AIRLINE_DELAY|LATE_AIRCRAFT_DELAY|WEATHER_DELAY|\n",
      "+----+-----+---+-----------+-------+-------------+-----------+--------------+-------------------+-------------------+--------------+---------------+--------+----------+--------------+------------+--------+--------+---------+-------+-----------------+------------+-------------+--------+---------+-------------------+----------------+--------------+-------------+-------------------+-------------+\n",
      "|   0|    0|  0|          0|      0|            0|      14721|             0|                  0|                  0|         86153|          86153|   89047|     89047|             6|      105071|  105071|       0|    92513|  92513|                0|       92513|       105071|       0|        0|            5729195|         4755640|       4755640|      4755640|            4755640|      4755640|\n",
      "+----+-----+---+-----------+-------+-------------+-----------+--------------+-------------------+-------------------+--------------+---------------+--------+----------+--------------+------------+--------+--------+---------+-------+-----------------+------------+-------------+--------+---------+-------------------+----------------+--------------+-------------+-------------------+-------------+\n",
      "\n"
     ]
    },
    {
     "name": "stderr",
     "output_type": "stream",
     "text": [
      "                                                                                \r"
     ]
    }
   ],
   "source": [
    "flights_df.select([count(when(isnull(c), c)).alias(c) for c in data.columns]).show()"
   ]
  },
  {
   "cell_type": "markdown",
   "id": "a8014353-b53a-4f7e-a5ab-8675e7f81e03",
   "metadata": {},
   "source": [
    "## Investigate some causes for nulls in each column"
   ]
  },
  {
   "cell_type": "code",
   "execution_count": 48,
   "id": "b87e3897-9119-4f45-8be4-85624eade7c0",
   "metadata": {
    "collapsed": true,
    "jupyter": {
     "outputs_hidden": true
    },
    "scrolled": true
   },
   "outputs": [
    {
     "name": "stderr",
     "output_type": "stream",
     "text": [
      "                                                                                \r"
     ]
    },
    {
     "name": "stdout",
     "output_type": "stream",
     "text": [
      "Investigating nulls in column: tail_number\n"
     ]
    },
    {
     "name": "stderr",
     "output_type": "stream",
     "text": [
      "                                                                                \r"
     ]
    },
    {
     "name": "stdout",
     "output_type": "stream",
     "text": [
      "Nulls in tail_number where flight is cancelled: 14721\n",
      "\n",
      "Investigating nulls in column: departure_time\n"
     ]
    },
    {
     "name": "stderr",
     "output_type": "stream",
     "text": [
      "                                                                                \r"
     ]
    },
    {
     "name": "stdout",
     "output_type": "stream",
     "text": [
      "Nulls in departure_time where flight is cancelled: 86153\n",
      "\n",
      "Investigating nulls in column: departure_delay\n"
     ]
    },
    {
     "name": "stderr",
     "output_type": "stream",
     "text": [
      "                                                                                \r"
     ]
    },
    {
     "name": "stdout",
     "output_type": "stream",
     "text": [
      "Nulls in departure_delay where flight is cancelled: 86153\n",
      "\n",
      "Investigating nulls in column: taxi_out\n"
     ]
    },
    {
     "name": "stderr",
     "output_type": "stream",
     "text": [
      "                                                                                \r"
     ]
    },
    {
     "name": "stdout",
     "output_type": "stream",
     "text": [
      "Nulls in taxi_out where flight is cancelled: 89047\n",
      "\n",
      "Investigating nulls in column: wheels_off\n"
     ]
    },
    {
     "name": "stderr",
     "output_type": "stream",
     "text": [
      "                                                                                \r"
     ]
    },
    {
     "name": "stdout",
     "output_type": "stream",
     "text": [
      "Nulls in wheels_off where flight is cancelled: 89047\n",
      "\n",
      "Investigating nulls in column: scheduled_time\n"
     ]
    },
    {
     "name": "stderr",
     "output_type": "stream",
     "text": [
      "                                                                                \r"
     ]
    },
    {
     "name": "stdout",
     "output_type": "stream",
     "text": [
      "Nulls in scheduled_time where flight is cancelled: 5\n",
      "\n",
      "Investigating nulls in column: elapsed_time\n"
     ]
    },
    {
     "name": "stderr",
     "output_type": "stream",
     "text": [
      "                                                                                \r"
     ]
    },
    {
     "name": "stdout",
     "output_type": "stream",
     "text": [
      "Nulls in elapsed_time where flight is cancelled: 89884\n",
      "\n",
      "Investigating nulls in column: air_time\n"
     ]
    },
    {
     "name": "stderr",
     "output_type": "stream",
     "text": [
      "                                                                                \r"
     ]
    },
    {
     "name": "stdout",
     "output_type": "stream",
     "text": [
      "Nulls in air_time where flight is cancelled: 89884\n",
      "\n",
      "Investigating nulls in column: wheels_on\n"
     ]
    },
    {
     "name": "stderr",
     "output_type": "stream",
     "text": [
      "                                                                                \r"
     ]
    },
    {
     "name": "stdout",
     "output_type": "stream",
     "text": [
      "Nulls in wheels_on where flight is cancelled: 89884\n",
      "\n",
      "Investigating nulls in column: taxi_in\n"
     ]
    },
    {
     "name": "stderr",
     "output_type": "stream",
     "text": [
      "                                                                                \r"
     ]
    },
    {
     "name": "stdout",
     "output_type": "stream",
     "text": [
      "Nulls in taxi_in where flight is cancelled: 89884\n",
      "\n",
      "Investigating nulls in column: arrival_time\n"
     ]
    },
    {
     "name": "stderr",
     "output_type": "stream",
     "text": [
      "                                                                                \r"
     ]
    },
    {
     "name": "stdout",
     "output_type": "stream",
     "text": [
      "Nulls in arrival_time where flight is cancelled: 89884\n",
      "\n",
      "Investigating nulls in column: arrival_delay\n"
     ]
    },
    {
     "name": "stderr",
     "output_type": "stream",
     "text": [
      "                                                                                \r"
     ]
    },
    {
     "name": "stdout",
     "output_type": "stream",
     "text": [
      "Nulls in arrival_delay where flight is cancelled: 89884\n",
      "\n",
      "Investigating nulls in column: cancellation_reason\n"
     ]
    },
    {
     "name": "stderr",
     "output_type": "stream",
     "text": [
      "                                                                                \r"
     ]
    },
    {
     "name": "stdout",
     "output_type": "stream",
     "text": [
      "Nulls in cancellation_reason where flight is cancelled: 0\n",
      "\n",
      "Investigating nulls in column: air_system_delay\n"
     ]
    },
    {
     "name": "stderr",
     "output_type": "stream",
     "text": [
      "                                                                                \r"
     ]
    },
    {
     "name": "stdout",
     "output_type": "stream",
     "text": [
      "Nulls in air_system_delay where flight is cancelled: 89884\n",
      "\n",
      "Investigating nulls in column: security_delay\n"
     ]
    },
    {
     "name": "stderr",
     "output_type": "stream",
     "text": [
      "                                                                                \r"
     ]
    },
    {
     "name": "stdout",
     "output_type": "stream",
     "text": [
      "Nulls in security_delay where flight is cancelled: 89884\n",
      "\n",
      "Investigating nulls in column: airline_delay\n"
     ]
    },
    {
     "name": "stderr",
     "output_type": "stream",
     "text": [
      "                                                                                \r"
     ]
    },
    {
     "name": "stdout",
     "output_type": "stream",
     "text": [
      "Nulls in airline_delay where flight is cancelled: 89884\n",
      "\n",
      "Investigating nulls in column: late_aircraft_delay\n"
     ]
    },
    {
     "name": "stderr",
     "output_type": "stream",
     "text": [
      "                                                                                \r"
     ]
    },
    {
     "name": "stdout",
     "output_type": "stream",
     "text": [
      "Nulls in late_aircraft_delay where flight is cancelled: 89884\n",
      "\n",
      "Investigating nulls in column: weather_delay\n"
     ]
    },
    {
     "name": "stderr",
     "output_type": "stream",
     "text": [
      "[Stage 290:>                                                      (0 + 12) / 12]\r"
     ]
    },
    {
     "name": "stdout",
     "output_type": "stream",
     "text": [
      "Nulls in weather_delay where flight is cancelled: 89884\n",
      "\n"
     ]
    },
    {
     "name": "stderr",
     "output_type": "stream",
     "text": [
      "                                                                                \r"
     ]
    }
   ],
   "source": [
    "# List of columns with null values\n",
    "null_columns = [col for col in flights_df.columns if flights_df.filter(f\"{col} IS NULL\").count() > 0]\n",
    "\n",
    "# Iterate through columns to investigate null causes\n",
    "for col in null_columns:\n",
    "    print(f\"Investigating nulls in column: {col}\")\n",
    "    # Count rows where column is null and cancelled == 1\n",
    "    count = flights_df.where(f\"`{col}` IS NULL AND cancelled = 1\").count()\n",
    "    print(f\"Nulls in {col} where flight is cancelled: {count}\\n\")"
   ]
  },
  {
   "cell_type": "markdown",
   "id": "f8c80b6b-5957-4731-9061-9471dd324da2",
   "metadata": {},
   "source": [
    "#### Tail_number - all Nulls are from cancelled flights\n",
    "Although, not all cancelled flights have Nulls in tail_number. Possibly some flights are cancelled before an aircraft is assigned to the flight."
   ]
  },
  {
   "cell_type": "code",
   "execution_count": 40,
   "id": "c35cdc4e-9c07-432e-a947-fe25c75495c1",
   "metadata": {},
   "outputs": [
    {
     "name": "stderr",
     "output_type": "stream",
     "text": [
      "                                                                                \r"
     ]
    },
    {
     "data": {
      "text/plain": [
       "14721"
      ]
     },
     "execution_count": 40,
     "metadata": {},
     "output_type": "execute_result"
    }
   ],
   "source": [
    "flights_df.where('tail_number IS NULL AND cancelled = 1').count()"
   ]
  },
  {
   "cell_type": "code",
   "execution_count": 44,
   "id": "71310741-4e86-47a8-aafb-95b32d455635",
   "metadata": {},
   "outputs": [
    {
     "name": "stderr",
     "output_type": "stream",
     "text": [
      "                                                                                \r"
     ]
    },
    {
     "data": {
      "text/plain": [
       "86153"
      ]
     },
     "execution_count": 44,
     "metadata": {},
     "output_type": "execute_result"
    }
   ],
   "source": [
    "flights_df.where('departure_time IS NULL and cancelled = 1').count()"
   ]
  },
  {
   "cell_type": "markdown",
   "id": "cefb1101-31ba-431f-89b5-869a41173bcf",
   "metadata": {},
   "source": [
    "#### Scheduled_time - 6 Nulls, 5 out of 6 flight were cancelled, 1 flight was diverted\n",
    "These flights took off, but did not arrive in destination.\n",
    "Scheduled_time is the estimated time in air?"
   ]
  },
  {
   "cell_type": "code",
   "execution_count": 28,
   "id": "c10d648c-c080-4c14-b78e-2c4ef8b7f56a",
   "metadata": {},
   "outputs": [
    {
     "name": "stderr",
     "output_type": "stream",
     "text": [
      "[Stage 19:>                                                         (0 + 7) / 7]\r"
     ]
    },
    {
     "name": "stdout",
     "output_type": "stream",
     "text": [
      "+----+-----+---+-----------+-------+-------------+-----------+--------------+-------------------+-------------------+--------------+---------------+--------+----------+--------------+------------+--------+--------+---------+-------+-----------------+------------+-------------+--------+---------+-------------------+----------------+--------------+-------------+-------------------+-------------+\n",
      "|year|month|day|day_of_week|airline|flight_number|tail_number|origin_airport|destination_airport|scheduled_departure|departure_time|departure_delay|taxi_out|wheels_off|scheduled_time|elapsed_time|air_time|distance|wheels_on|taxi_in|scheduled_arrival|arrival_time|arrival_delay|diverted|cancelled|cancellation_reason|air_system_delay|security_delay|airline_delay|late_aircraft_delay|weather_delay|\n",
      "+----+-----+---+-----------+-------+-------------+-----------+--------------+-------------------+-------------------+--------------+---------------+--------+----------+--------------+------------+--------+--------+---------+-------+-----------------+------------+-------------+--------+---------+-------------------+----------------+--------------+-------------+-------------------+-------------+\n",
      "|2015|    2|  1|          7|     NK|          416|     N627NK|           FLL|                IAG|               2215|          2206|             -9|      21|      2227|          NULL|        NULL|    NULL|    1176|     NULL|   NULL|              107|        NULL|         NULL|       0|        1|                  B|            NULL|          NULL|         NULL|               NULL|         NULL|\n",
      "|2015|    2| 10|          2|     NK|          416|     N632NK|           FLL|                IAG|               2215|          2206|             -9|      16|      2222|          NULL|        NULL|    NULL|    1176|     NULL|   NULL|              107|        NULL|         NULL|       0|        1|                  B|            NULL|          NULL|         NULL|               NULL|         NULL|\n",
      "|2015|    4| 20|          1|     NK|          174|     N630NK|           FLL|                LGA|               1602|          1857|            175|      24|      1921|          NULL|        NULL|    NULL|    1076|     NULL|   NULL|             1900|        NULL|         NULL|       1|        0|               NULL|            NULL|          NULL|         NULL|               NULL|         NULL|\n",
      "|2015|    4| 26|          7|     NK|          720|     N614NK|           DEN|                DFW|               2059|          2057|             -2|      13|      2110|          NULL|        NULL|    NULL|     641|     NULL|   NULL|             2350|        NULL|         NULL|       0|        1|                  B|            NULL|          NULL|         NULL|               NULL|         NULL|\n",
      "|2015|    5|  9|          6|     NK|          324|     N620NK|           MCO|                ACY|               2130|          2152|             22|      18|      2210|          NULL|        NULL|    NULL|     852|     NULL|   NULL|             2340|        NULL|         NULL|       0|        1|                  B|            NULL|          NULL|         NULL|               NULL|         NULL|\n",
      "|2015|    5| 10|          7|     NK|          368|     N534NK|           ORD|                BWI|                825|          1214|            229|      18|      1232|          NULL|        NULL|    NULL|     622|     NULL|   NULL|             1118|        NULL|         NULL|       0|        1|                  C|            NULL|          NULL|         NULL|               NULL|         NULL|\n",
      "+----+-----+---+-----------+-------+-------------+-----------+--------------+-------------------+-------------------+--------------+---------------+--------+----------+--------------+------------+--------+--------+---------+-------+-----------------+------------+-------------+--------+---------+-------------------+----------------+--------------+-------------+-------------------+-------------+\n",
      "\n"
     ]
    },
    {
     "name": "stderr",
     "output_type": "stream",
     "text": [
      "                                                                                \r"
     ]
    }
   ],
   "source": [
    "flights_df.where('scheduled_time IS NULL').show()"
   ]
  },
  {
   "cell_type": "code",
   "execution_count": 63,
   "id": "92572eca-3533-4353-a5be-64f812a5e9f7",
   "metadata": {},
   "outputs": [
    {
     "name": "stdout",
     "output_type": "stream",
     "text": [
      "+----------+-------+-------------+-----------+--------------+-------------------+-------------------+--------------+---------------+--------+----------+--------------+------------+--------+--------+---------+-------+-----------------+------------+-------------+--------+---------+-------------------+----------------+--------------+-------------+-------------------+-------------+----------+\n",
      "|      date|airline|flight_number|tail_number|origin_airport|destination_airport|scheduled_departure|departure_time|departure_delay|taxi_out|wheels_off|scheduled_time|elapsed_time|air_time|distance|wheels_on|taxi_in|scheduled_arrival|arrival_time|arrival_delay|diverted|cancelled|cancellation_reason|air_system_delay|security_delay|airline_delay|late_aircraft_delay|weather_delay|is_delayed|\n",
      "+----------+-------+-------------+-----------+--------------+-------------------+-------------------+--------------+---------------+--------+----------+--------------+------------+--------+--------+---------+-------+-----------------+------------+-------------+--------+---------+-------------------+----------------+--------------+-------------+-------------------+-------------+----------+\n",
      "|2015-01-01|     WN|            7|     N670SW|           DAL|                HOU|                830|           844|             14|       8|       852|            65|          56|      46|     239|      938|      2|              935|         940|            5|       0|        0|               NULL|            NULL|          NULL|         NULL|               NULL|         NULL|         1|\n",
      "|2015-01-01|     WN|            7|     N616SW|           HOU|                IND|               1010|          1026|             16|       7|      1033|           130|         116|     104|     861|     1317|      5|             1320|        1322|            2|       0|        0|               NULL|            NULL|          NULL|         NULL|               NULL|         NULL|         1|\n",
      "|2015-01-01|     WN|            7|     N616SW|           IND|                ATL|               1345|          1355|             10|       7|      1402|            90|          82|      69|     432|     1511|      6|             1515|        1517|            2|       0|        0|               NULL|            NULL|          NULL|         NULL|               NULL|         NULL|         1|\n",
      "+----------+-------+-------------+-----------+--------------+-------------------+-------------------+--------------+---------------+--------+----------+--------------+------------+--------+--------+---------+-------+-----------------+------------+-------------+--------+---------+-------------------+----------------+--------------+-------------+-------------------+-------------+----------+\n",
      "\n"
     ]
    },
    {
     "name": "stderr",
     "output_type": "stream",
     "text": [
      "24/12/28 04:33:35 WARN RowBasedKeyValueBatch: Calling spill() on RowBasedKeyValueBatch. Will not spill but return 0.\n",
      "24/12/28 04:33:35 WARN RowBasedKeyValueBatch: Calling spill() on RowBasedKeyValueBatch. Will not spill but return 0.\n",
      "24/12/28 04:33:35 WARN RowBasedKeyValueBatch: Calling spill() on RowBasedKeyValueBatch. Will not spill but return 0.\n",
      "24/12/28 04:33:35 WARN RowBasedKeyValueBatch: Calling spill() on RowBasedKeyValueBatch. Will not spill but return 0.\n",
      "24/12/28 04:33:35 WARN RowBasedKeyValueBatch: Calling spill() on RowBasedKeyValueBatch. Will not spill but return 0.\n",
      "24/12/28 04:33:35 WARN RowBasedKeyValueBatch: Calling spill() on RowBasedKeyValueBatch. Will not spill but return 0.\n",
      "24/12/28 04:33:35 WARN RowBasedKeyValueBatch: Calling spill() on RowBasedKeyValueBatch. Will not spill but return 0.\n",
      "24/12/28 04:33:35 WARN RowBasedKeyValueBatch: Calling spill() on RowBasedKeyValueBatch. Will not spill but return 0.\n",
      "24/12/28 04:33:35 WARN RowBasedKeyValueBatch: Calling spill() on RowBasedKeyValueBatch. Will not spill but return 0.\n",
      "24/12/28 04:33:35 WARN RowBasedKeyValueBatch: Calling spill() on RowBasedKeyValueBatch. Will not spill but return 0.\n",
      "24/12/28 04:33:35 WARN RowBasedKeyValueBatch: Calling spill() on RowBasedKeyValueBatch. Will not spill but return 0.\n",
      "24/12/28 04:33:35 WARN RowBasedKeyValueBatch: Calling spill() on RowBasedKeyValueBatch. Will not spill but return 0.\n",
      "[Stage 104:=========>                                             (2 + 10) / 12]\r"
     ]
    },
    {
     "name": "stdout",
     "output_type": "stream",
     "text": [
      "+----------+-------------+-------+-----+\n",
      "|      date|flight_number|airline|count|\n",
      "+----------+-------------+-------+-----+\n",
      "|2015-01-01|            1|     AA|    1|\n",
      "|2015-01-01|            1|     AS|    1|\n",
      "|2015-01-01|            1|     B6|    1|\n",
      "|2015-01-01|            1|     HA|    1|\n",
      "|2015-01-01|            1|     VX|    1|\n",
      "|2015-01-01|            2|     AA|    1|\n",
      "|2015-01-01|            2|     AS|    1|\n",
      "|2015-01-01|            2|     B6|    1|\n",
      "|2015-01-01|            2|     HA|    1|\n",
      "|2015-01-01|            2|     VX|    1|\n",
      "|2015-01-01|            3|     AA|    1|\n",
      "|2015-01-01|            3|     AS|    1|\n",
      "|2015-01-01|            3|     B6|    1|\n",
      "|2015-01-01|            3|     HA|    1|\n",
      "|2015-01-01|            3|     UA|    1|\n",
      "|2015-01-01|            4|     AA|    1|\n",
      "|2015-01-01|            4|     AS|    1|\n",
      "|2015-01-01|            4|     B6|    1|\n",
      "|2015-01-01|            4|     HA|    1|\n",
      "|2015-01-01|            5|     AA|    1|\n",
      "|2015-01-01|            5|     AS|    1|\n",
      "|2015-01-01|            5|     B6|    1|\n",
      "|2015-01-01|            5|     WN|    2|\n",
      "|2015-01-01|            6|     AA|    1|\n",
      "|2015-01-01|            6|     AS|    1|\n",
      "|2015-01-01|            6|     B6|    1|\n",
      "|2015-01-01|            7|     AA|    1|\n",
      "|2015-01-01|            7|     B6|    1|\n",
      "|2015-01-01|            7|     DL|    1|\n",
      "|2015-01-01|            7|     HA|    1|\n",
      "|2015-01-01|            7|     WN|    3|\n",
      "|2015-01-01|            8|     AA|    1|\n",
      "|2015-01-01|            8|     AS|    1|\n",
      "|2015-01-01|            8|     B6|    1|\n",
      "|2015-01-01|            8|     HA|    1|\n",
      "|2015-01-01|            9|     AA|    1|\n",
      "|2015-01-01|            9|     HA|    1|\n",
      "|2015-01-01|           10|     AA|    1|\n",
      "|2015-01-01|           10|     HA|    1|\n",
      "|2015-01-01|           10|     WN|    1|\n",
      "+----------+-------------+-------+-----+\n",
      "only showing top 40 rows\n",
      "\n"
     ]
    },
    {
     "name": "stderr",
     "output_type": "stream",
     "text": [
      "                                                                                \r"
     ]
    }
   ],
   "source": [
    "# Identify primary keys. Unique identifier is date, airline, flight_number\n",
    "flights_df = spark.table('airline.db.flights')\n",
    "flights_df.filter(\n",
    "    \"\"\"\n",
    "    date='2015-01-01' AND flight_number=7 AND airline='WN'\n",
    "    \"\"\"\n",
    ").show()\n",
    "flights_df.groupBy('date', 'flight_number', 'airline').count().sort('date', 'flight_number', 'airline').show(40)"
   ]
  },
  {
   "cell_type": "markdown",
   "id": "fdb07124-46da-499f-9653-8d88c004a2ba",
   "metadata": {},
   "source": [
    "# Write to staging Iceberg Table"
   ]
  },
  {
   "cell_type": "code",
   "execution_count": 95,
   "id": "d5b1c989-c882-476e-ad1f-e6c20512b46d",
   "metadata": {
    "scrolled": true
   },
   "outputs": [
    {
     "data": {
      "text/plain": [
       "DataFrame[]"
      ]
     },
     "execution_count": 95,
     "metadata": {},
     "output_type": "execute_result"
    }
   ],
   "source": [
    "# Drop flights table\n",
    "spark.sql('DROP TABLE airline.db.flights PURGE')"
   ]
  },
  {
   "cell_type": "code",
   "execution_count": 96,
   "id": "428521b4-7ed4-452a-bddf-82dd2ba64f7e",
   "metadata": {
    "jupyter": {
     "source_hidden": true
    }
   },
   "outputs": [
    {
     "data": {
      "text/plain": [
       "DataFrame[]"
      ]
     },
     "execution_count": 96,
     "metadata": {},
     "output_type": "execute_result"
    }
   ],
   "source": [
    "# Create flights table if not exists\n",
    "flights_ddl = f\"\"\"\n",
    "CREATE TABLE IF NOT EXISTS airline.db.flights (\n",
    "    date DATE,\n",
    "    airline STRING,\n",
    "    flight_number INT,\n",
    "    tail_number STRING,\n",
    "    origin_airport STRING,\n",
    "    destination_airport STRING,\n",
    "    scheduled_departure INT,\n",
    "    departure_time INT,\n",
    "    departure_delay INT,\n",
    "    taxi_out INT,\n",
    "    wheels_off INT,\n",
    "    scheduled_time INT,\n",
    "    elapsed_time INT,\n",
    "    air_time INT,\n",
    "    distance INT,\n",
    "    wheels_on INT,\n",
    "    taxi_in INT,\n",
    "    scheduled_arrival INT,\n",
    "    arrival_time INT,\n",
    "    arrival_delay INT,\n",
    "    diverted INT,\n",
    "    cancelled INT,\n",
    "    cancellation_reason STRING,\n",
    "    air_system_delay INT,\n",
    "    security_delay INT,\n",
    "    airline_delay INT,\n",
    "    late_aircraft_delay INT,\n",
    "    weather_delay INT,\n",
    "    is_delayed INT\n",
    ")\n",
    "USING iceberg\n",
    "PARTITIONED BY (month(date))\n",
    "\"\"\"\n",
    "\n",
    "spark.sql(flights_ddl)"
   ]
  },
  {
   "cell_type": "markdown",
   "id": "55ad64be-3f47-4624-b561-da35896ec31e",
   "metadata": {
    "jp-MarkdownHeadingCollapsed": true
   },
   "source": [
    "### Basic write implementation"
   ]
  },
  {
   "cell_type": "code",
   "execution_count": 97,
   "id": "4515992a-c5b5-42f3-a8e9-c17bb15f5bed",
   "metadata": {},
   "outputs": [
    {
     "name": "stderr",
     "output_type": "stream",
     "text": [
      "                                                                                \r"
     ]
    }
   ],
   "source": [
    "# Write flights data to table\n",
    "flights_df \\\n",
    "    .writeTo('airline.db.flights') \\\n",
    "    .append()"
   ]
  },
  {
   "cell_type": "markdown",
   "id": "7596d533-2f6f-48f6-b234-222f95c83319",
   "metadata": {
    "jp-MarkdownHeadingCollapsed": true
   },
   "source": [
    "### Idempotent write implementation"
   ]
  },
  {
   "cell_type": "code",
   "execution_count": 21,
   "id": "dc859fc9-8b03-4308-8ba7-9f6718fd17fb",
   "metadata": {
    "collapsed": true,
    "jupyter": {
     "outputs_hidden": true
    }
   },
   "outputs": [
    {
     "name": "stdout",
     "output_type": "stream",
     "text": [
      "+--------+\n",
      "|count(1)|\n",
      "+--------+\n",
      "| 5819079|\n",
      "+--------+\n",
      "\n",
      "+--------+\n",
      "|count(1)|\n",
      "+--------+\n",
      "| 5819079|\n",
      "+--------+\n",
      "\n",
      "[{'committed_at': datetime.datetime(2024, 12, 22, 4, 5, 47, 694000),\n",
      "  'snapshot_id': 6483349522153703138,\n",
      "  'parent_id': None,\n",
      "  'operation': 'append',\n",
      "  'manifest_list': 's3://warehouse/db/flights/metadata/snap-6483349522153703138-1-29cc0a41-9f91-41a9-a3a9-8594bcfec6ed.avro',\n",
      "  'summary': {'spark.app.id': 'local-1734811599173',\n",
      "              'changed-partition-count': '12',\n",
      "              'added-data-files': '12',\n",
      "              'total-equality-deletes': '0',\n",
      "              'added-records': '5819079',\n",
      "              'total-position-deletes': '0',\n",
      "              'added-files-size': '130797157',\n",
      "              'total-delete-files': '0',\n",
      "              'total-files-size': '130797157',\n",
      "              'total-records': '5819079',\n",
      "              'total-data-files': '12'}},\n",
      " {'committed_at': datetime.datetime(2024, 12, 26, 17, 54, 23, 601000),\n",
      "  'snapshot_id': 6628237988227580671,\n",
      "  'parent_id': 6483349522153703138,\n",
      "  'operation': 'append',\n",
      "  'manifest_list': 's3://warehouse/db/flights/metadata/snap-6628237988227580671-1-cf48625f-9ac8-4401-aabe-b002a0d81fe4.avro',\n",
      "  'summary': {'spark.app.id': 'local-1735235086376',\n",
      "              'changed-partition-count': '0',\n",
      "              'total-equality-deletes': '0',\n",
      "              'total-position-deletes': '0',\n",
      "              'total-delete-files': '0',\n",
      "              'total-files-size': '130797157',\n",
      "              'total-records': '5819079',\n",
      "              'total-data-files': '12'}},\n",
      " {'committed_at': datetime.datetime(2024, 12, 26, 18, 34, 35, 188000),\n",
      "  'snapshot_id': 6856719003846257350,\n",
      "  'parent_id': 6628237988227580671,\n",
      "  'operation': 'overwrite',\n",
      "  'manifest_list': 's3://warehouse/db/flights/metadata/snap-6856719003846257350-1-7ed43b9f-a133-49e3-9789-1824f69efeb6.avro',\n",
      "  'summary': {'added-data-files': '1',\n",
      "              'total-equality-deletes': '0',\n",
      "              'added-records': '463407',\n",
      "              'deleted-data-files': '1',\n",
      "              'deleted-records': '479230',\n",
      "              'total-records': '5803256',\n",
      "              'spark.app.id': 'local-1735235086376',\n",
      "              'removed-files-size': '10826942',\n",
      "              'changed-partition-count': '1',\n",
      "              'total-position-deletes': '0',\n",
      "              'added-files-size': '10509540',\n",
      "              'total-delete-files': '0',\n",
      "              'total-files-size': '130479755',\n",
      "              'total-data-files': '12'}},\n",
      " {'committed_at': datetime.datetime(2024, 12, 26, 18, 35, 3, 524000),\n",
      "  'snapshot_id': 8082429039734140213,\n",
      "  'parent_id': 6856719003846257350,\n",
      "  'operation': 'overwrite',\n",
      "  'manifest_list': 's3://warehouse/db/flights/metadata/snap-8082429039734140213-1-c4821f75-3d47-42cd-9024-bec64096dcb8.avro',\n",
      "  'summary': {'spark.app.id': 'local-1735235086376',\n",
      "              'changed-partition-count': '0',\n",
      "              'total-equality-deletes': '0',\n",
      "              'total-position-deletes': '0',\n",
      "              'total-delete-files': '0',\n",
      "              'total-files-size': '130479755',\n",
      "              'total-records': '5803256',\n",
      "              'total-data-files': '12'}},\n",
      " {'committed_at': datetime.datetime(2024, 12, 28, 0, 37, 39, 893000),\n",
      "  'snapshot_id': 668148544964107792,\n",
      "  'parent_id': 8082429039734140213,\n",
      "  'operation': 'append',\n",
      "  'manifest_list': 's3://warehouse/db/flights/metadata/snap-668148544964107792-1-5c16f1ac-0028-4ac9-a0c8-375b60a0dd10.avro',\n",
      "  'summary': {'spark.app.id': 'local-1735345799351',\n",
      "              'changed-partition-count': '1',\n",
      "              'added-data-files': '1',\n",
      "              'total-equality-deletes': '0',\n",
      "              'added-records': '15823',\n",
      "              'total-position-deletes': '0',\n",
      "              'added-files-size': '408913',\n",
      "              'total-delete-files': '0',\n",
      "              'total-files-size': '130888668',\n",
      "              'total-records': '5819079',\n",
      "              'total-data-files': '13'}}]\n"
     ]
    }
   ],
   "source": [
    "# IDEMPOTENT\n",
    "\n",
    "# Create temp view\n",
    "flights_df.createOrReplaceTempView('flights')\n",
    "\n",
    "# Write flights data to table\n",
    "flights_merge_ddl = \"\"\"\n",
    "MERGE INTO airline.db.flights t\n",
    "USING (SELECT * FROM flights) s\n",
    "    ON  t.date = s.date\n",
    "    AND t.flight_number = s.flight_number\n",
    "WHEN NOT MATCHED THEN INSERT *\n",
    "\"\"\"\n",
    "\n",
    "# Double checking\n",
    "spark.sql('SELECT COUNT(*) FROM airline.db.flights').show()\n",
    "\n",
    "# spark.sql(flights_merge_ddl)\n",
    "\n",
    "# Double checking\n",
    "spark.sql('SELECT COUNT(*) FROM airline.db.flights').show()\n",
    "\n",
    "# Check snapshot history and manifests for changes\n",
    "snapshots = spark.sql('SELECT * FROM airline.db.flights.snapshots').collect()\n",
    "snapshots = [snap.asDict() for snap in snapshots]\n",
    "import pprint as pp\n",
    "pp.pp(snapshots)"
   ]
  },
  {
   "cell_type": "markdown",
   "id": "0299afea-76d3-467a-9f53-31f6f591bca5",
   "metadata": {},
   "source": [
    "### WAP write implementation"
   ]
  },
  {
   "cell_type": "code",
   "execution_count": 39,
   "id": "cc42b4a6-25d4-4602-8066-53bf45d5c9b8",
   "metadata": {},
   "outputs": [
    {
     "name": "stdout",
     "output_type": "stream",
     "text": [
      "{'owner': 'root', 'write.parquet.compression-codec': 'zstd'}\n"
     ]
    }
   ],
   "source": [
    "# Verify table properties with pyiceberg\n",
    "from pyiceberg.catalog import load_catalog\n",
    "catalog = load_catalog(\n",
    "    'airline',\n",
    "    **{\n",
    "        \"uri\": \"http://rest:8181\",\n",
    "        \"s3.endpoint\": \"http://minio:9000\",\n",
    "        \"py-io-impl\": \"pyiceberg.io.pyarrow.PyArrowFileIO\",\n",
    "        \"s3.access-key-id\": \"admin\",\n",
    "        \"s3.secret-access-key\": \"password\",\n",
    "    }\n",
    ")\n",
    "table = catalog.load_table('db.flights')\n",
    "print(table.properties)"
   ]
  },
  {
   "cell_type": "code",
   "execution_count": 49,
   "id": "cdade71a-bf20-4bdb-8c1e-ba735db5de09",
   "metadata": {
    "collapsed": true,
    "jupyter": {
     "outputs_hidden": true
    }
   },
   "outputs": [
    {
     "name": "stdout",
     "output_type": "stream",
     "text": [
      "{'owner': 'root', 'write.parquet.compression-codec': 'zstd'}\n",
      "+--------------------+------+-------------------+-----------------------+---------------------+----------------------+\n",
      "|name                |type  |snapshot_id        |max_reference_age_in_ms|min_snapshots_to_keep|max_snapshot_age_in_ms|\n",
      "+--------------------+------+-------------------+-----------------------+---------------------+----------------------+\n",
      "|main                |BRANCH|8777543075953159173|NULL                   |NULL                 |NULL                  |\n",
      "|audit_branch_flights|BRANCH|8777543075953159173|NULL                   |NULL                 |NULL                  |\n",
      "+--------------------+------+-------------------+-----------------------+---------------------+----------------------+\n",
      "\n"
     ]
    },
    {
     "ename": "IllegalArgumentException",
     "evalue": "Ref audit_branch_flights already exists",
     "output_type": "error",
     "traceback": [
      "\u001b[0;31m---------------------------------------------------------------------------\u001b[0m",
      "\u001b[0;31mIllegalArgumentException\u001b[0m                  Traceback (most recent call last)",
      "Cell \u001b[0;32mIn[49], line 14\u001b[0m\n\u001b[1;32m     12\u001b[0m \u001b[38;5;66;03m# Create audit branch\u001b[39;00m\n\u001b[1;32m     13\u001b[0m audit_branch \u001b[38;5;241m=\u001b[39m \u001b[38;5;124m'\u001b[39m\u001b[38;5;124maudit_branch_flights\u001b[39m\u001b[38;5;124m'\u001b[39m\n\u001b[0;32m---> 14\u001b[0m \u001b[43mspark\u001b[49m\u001b[38;5;241;43m.\u001b[39;49m\u001b[43msql\u001b[49m\u001b[43m(\u001b[49m\u001b[38;5;124;43mf\u001b[39;49m\u001b[38;5;124;43m'\u001b[39;49m\u001b[38;5;124;43mALTER TABLE \u001b[39;49m\u001b[38;5;132;43;01m{\u001b[39;49;00m\u001b[43mCATALOG_NAME\u001b[49m\u001b[38;5;132;43;01m}\u001b[39;49;00m\u001b[38;5;124;43m.\u001b[39;49m\u001b[38;5;132;43;01m{\u001b[39;49;00m\u001b[43mDATABASE_NAME\u001b[49m\u001b[38;5;132;43;01m}\u001b[39;49;00m\u001b[38;5;124;43m.flights CREATE BRANCH \u001b[39;49m\u001b[38;5;132;43;01m{\u001b[39;49;00m\u001b[43maudit_branch\u001b[49m\u001b[38;5;132;43;01m}\u001b[39;49;00m\u001b[38;5;124;43m'\u001b[39;49m\u001b[43m)\u001b[49m\n\u001b[1;32m     16\u001b[0m \u001b[38;5;66;03m# Verify if an audit branch is created.\u001b[39;00m\n\u001b[1;32m     17\u001b[0m spark\u001b[38;5;241m.\u001b[39msql(\u001b[38;5;124mf\u001b[39m\u001b[38;5;124m\"\u001b[39m\u001b[38;5;124mselect * from \u001b[39m\u001b[38;5;132;01m{\u001b[39;00mCATALOG_NAME\u001b[38;5;132;01m}\u001b[39;00m\u001b[38;5;124m.\u001b[39m\u001b[38;5;132;01m{\u001b[39;00mDATABASE_NAME\u001b[38;5;132;01m}\u001b[39;00m\u001b[38;5;124m.flights.refs\u001b[39m\u001b[38;5;124m\"\u001b[39m)\u001b[38;5;241m.\u001b[39mshow(truncate\u001b[38;5;241m=\u001b[39m\u001b[38;5;28;01mFalse\u001b[39;00m)\n",
      "File \u001b[0;32m/opt/spark/python/pyspark/sql/session.py:1631\u001b[0m, in \u001b[0;36mSparkSession.sql\u001b[0;34m(self, sqlQuery, args, **kwargs)\u001b[0m\n\u001b[1;32m   1627\u001b[0m         \u001b[38;5;28;01massert\u001b[39;00m \u001b[38;5;28mself\u001b[39m\u001b[38;5;241m.\u001b[39m_jvm \u001b[38;5;129;01mis\u001b[39;00m \u001b[38;5;129;01mnot\u001b[39;00m \u001b[38;5;28;01mNone\u001b[39;00m\n\u001b[1;32m   1628\u001b[0m         litArgs \u001b[38;5;241m=\u001b[39m \u001b[38;5;28mself\u001b[39m\u001b[38;5;241m.\u001b[39m_jvm\u001b[38;5;241m.\u001b[39mPythonUtils\u001b[38;5;241m.\u001b[39mtoArray(\n\u001b[1;32m   1629\u001b[0m             [_to_java_column(lit(v)) \u001b[38;5;28;01mfor\u001b[39;00m v \u001b[38;5;129;01min\u001b[39;00m (args \u001b[38;5;129;01mor\u001b[39;00m [])]\n\u001b[1;32m   1630\u001b[0m         )\n\u001b[0;32m-> 1631\u001b[0m     \u001b[38;5;28;01mreturn\u001b[39;00m DataFrame(\u001b[38;5;28;43mself\u001b[39;49m\u001b[38;5;241;43m.\u001b[39;49m\u001b[43m_jsparkSession\u001b[49m\u001b[38;5;241;43m.\u001b[39;49m\u001b[43msql\u001b[49m\u001b[43m(\u001b[49m\u001b[43msqlQuery\u001b[49m\u001b[43m,\u001b[49m\u001b[43m \u001b[49m\u001b[43mlitArgs\u001b[49m\u001b[43m)\u001b[49m, \u001b[38;5;28mself\u001b[39m)\n\u001b[1;32m   1632\u001b[0m \u001b[38;5;28;01mfinally\u001b[39;00m:\n\u001b[1;32m   1633\u001b[0m     \u001b[38;5;28;01mif\u001b[39;00m \u001b[38;5;28mlen\u001b[39m(kwargs) \u001b[38;5;241m>\u001b[39m \u001b[38;5;241m0\u001b[39m:\n",
      "File \u001b[0;32m/opt/spark/python/lib/py4j-0.10.9.7-src.zip/py4j/java_gateway.py:1322\u001b[0m, in \u001b[0;36mJavaMember.__call__\u001b[0;34m(self, *args)\u001b[0m\n\u001b[1;32m   1316\u001b[0m command \u001b[38;5;241m=\u001b[39m proto\u001b[38;5;241m.\u001b[39mCALL_COMMAND_NAME \u001b[38;5;241m+\u001b[39m\\\n\u001b[1;32m   1317\u001b[0m     \u001b[38;5;28mself\u001b[39m\u001b[38;5;241m.\u001b[39mcommand_header \u001b[38;5;241m+\u001b[39m\\\n\u001b[1;32m   1318\u001b[0m     args_command \u001b[38;5;241m+\u001b[39m\\\n\u001b[1;32m   1319\u001b[0m     proto\u001b[38;5;241m.\u001b[39mEND_COMMAND_PART\n\u001b[1;32m   1321\u001b[0m answer \u001b[38;5;241m=\u001b[39m \u001b[38;5;28mself\u001b[39m\u001b[38;5;241m.\u001b[39mgateway_client\u001b[38;5;241m.\u001b[39msend_command(command)\n\u001b[0;32m-> 1322\u001b[0m return_value \u001b[38;5;241m=\u001b[39m \u001b[43mget_return_value\u001b[49m\u001b[43m(\u001b[49m\n\u001b[1;32m   1323\u001b[0m \u001b[43m    \u001b[49m\u001b[43manswer\u001b[49m\u001b[43m,\u001b[49m\u001b[43m \u001b[49m\u001b[38;5;28;43mself\u001b[39;49m\u001b[38;5;241;43m.\u001b[39;49m\u001b[43mgateway_client\u001b[49m\u001b[43m,\u001b[49m\u001b[43m \u001b[49m\u001b[38;5;28;43mself\u001b[39;49m\u001b[38;5;241;43m.\u001b[39;49m\u001b[43mtarget_id\u001b[49m\u001b[43m,\u001b[49m\u001b[43m \u001b[49m\u001b[38;5;28;43mself\u001b[39;49m\u001b[38;5;241;43m.\u001b[39;49m\u001b[43mname\u001b[49m\u001b[43m)\u001b[49m\n\u001b[1;32m   1325\u001b[0m \u001b[38;5;28;01mfor\u001b[39;00m temp_arg \u001b[38;5;129;01min\u001b[39;00m temp_args:\n\u001b[1;32m   1326\u001b[0m     \u001b[38;5;28;01mif\u001b[39;00m \u001b[38;5;28mhasattr\u001b[39m(temp_arg, \u001b[38;5;124m\"\u001b[39m\u001b[38;5;124m_detach\u001b[39m\u001b[38;5;124m\"\u001b[39m):\n",
      "File \u001b[0;32m/opt/spark/python/pyspark/errors/exceptions/captured.py:185\u001b[0m, in \u001b[0;36mcapture_sql_exception.<locals>.deco\u001b[0;34m(*a, **kw)\u001b[0m\n\u001b[1;32m    181\u001b[0m converted \u001b[38;5;241m=\u001b[39m convert_exception(e\u001b[38;5;241m.\u001b[39mjava_exception)\n\u001b[1;32m    182\u001b[0m \u001b[38;5;28;01mif\u001b[39;00m \u001b[38;5;129;01mnot\u001b[39;00m \u001b[38;5;28misinstance\u001b[39m(converted, UnknownException):\n\u001b[1;32m    183\u001b[0m     \u001b[38;5;66;03m# Hide where the exception came from that shows a non-Pythonic\u001b[39;00m\n\u001b[1;32m    184\u001b[0m     \u001b[38;5;66;03m# JVM exception message.\u001b[39;00m\n\u001b[0;32m--> 185\u001b[0m     \u001b[38;5;28;01mraise\u001b[39;00m converted \u001b[38;5;28;01mfrom\u001b[39;00m \u001b[38;5;28;01mNone\u001b[39;00m\n\u001b[1;32m    186\u001b[0m \u001b[38;5;28;01melse\u001b[39;00m:\n\u001b[1;32m    187\u001b[0m     \u001b[38;5;28;01mraise\u001b[39;00m\n",
      "\u001b[0;31mIllegalArgumentException\u001b[0m: Ref audit_branch_flights already exists"
     ]
    }
   ],
   "source": [
    "CATALOG_NAME = 'airline'\n",
    "DATABASE_NAME = 'db'\n",
    "\n",
    "# set table property\n",
    "spark.sql(f'ALTER TABLE {CATALOG_NAME}.{DATABASE_NAME}.flights SET TBLPROPERTIES (\"write.wap.enabled\"=\"true\")')\n",
    "print(table.properties)\n",
    "\n",
    "\n",
    "# Verify if an audit branch is created.\n",
    "spark.sql(f\"select * from {CATALOG_NAME}.{DATABASE_NAME}.flights.refs\").show(truncate=False)\n",
    "\n",
    "# Create audit branch\n",
    "audit_branch = 'audit_branch_flights'\n",
    "spark.sql(f'ALTER TABLE {CATALOG_NAME}.{DATABASE_NAME}.flights CREATE BRANCH {audit_branch}')\n",
    "\n",
    "# Verify if an audit branch is created.\n",
    "spark.sql(f\"select * from {CATALOG_NAME}.{DATABASE_NAME}.flights.refs\").show(truncate=False)\n",
    "\n"
   ]
  },
  {
   "cell_type": "code",
   "execution_count": 41,
   "id": "399c3998-826b-48f1-82ef-2c6017b8ade4",
   "metadata": {},
   "outputs": [
    {
     "data": {
      "text/plain": [
       "'audit_branch_flights'"
      ]
     },
     "execution_count": 41,
     "metadata": {},
     "output_type": "execute_result"
    }
   ],
   "source": [
    "# Set spark WAP branch in session config\n",
    "spark.conf.set('spark.wap.branch', audit_branch)\n",
    "spark.conf.get('spark.wap.branch')"
   ]
  },
  {
   "cell_type": "code",
   "execution_count": 42,
   "id": "e6580b70-2ffe-4d90-8820-38d973b67af8",
   "metadata": {},
   "outputs": [
    {
     "name": "stderr",
     "output_type": "stream",
     "text": [
      "                                                                                \r"
     ]
    },
    {
     "name": "stdout",
     "output_type": "stream",
     "text": [
      "+--------+\n",
      "|count(1)|\n",
      "+--------+\n",
      "| 5803256|\n",
      "+--------+\n",
      "\n"
     ]
    }
   ],
   "source": [
    "spark.sql(\"\"\"\n",
    "DELETE FROM airline.db.flights\n",
    "WHERE date = \"2015-12-01\"\n",
    "\"\"\")\n",
    "\n",
    "spark.sql('SELECT COUNT(*) FROM airline.db.flights').show()"
   ]
  },
  {
   "cell_type": "code",
   "execution_count": 47,
   "id": "b3bad91e-79a7-4eaa-9234-3c1b2d0dcf56",
   "metadata": {
    "collapsed": true,
    "jupyter": {
     "outputs_hidden": true
    }
   },
   "outputs": [
    {
     "name": "stdout",
     "output_type": "stream",
     "text": [
      "+----------+-------+-------------+-----------+--------------+-------------------+-------------------+--------------+---------------+--------+----------+--------------+------------+--------+--------+---------+-------+-----------------+------------+-------------+--------+---------+-------------------+----------------+--------------+-------------+-------------------+-------------+----------+\n",
      "|      date|airline|flight_number|tail_number|origin_airport|destination_airport|scheduled_departure|departure_time|departure_delay|taxi_out|wheels_off|scheduled_time|elapsed_time|air_time|distance|wheels_on|taxi_in|scheduled_arrival|arrival_time|arrival_delay|diverted|cancelled|cancellation_reason|air_system_delay|security_delay|airline_delay|late_aircraft_delay|weather_delay|is_delayed|\n",
      "+----------+-------+-------------+-----------+--------------+-------------------+-------------------+--------------+---------------+--------+----------+--------------+------------+--------+--------+---------+-------+-----------------+------------+-------------+--------+---------+-------------------+----------------+--------------+-------------+-------------------+-------------+----------+\n",
      "|2015-12-01|     AS|            7|     N435AS|           JFK|                SEA|                715|           721|              6|      34|       755|           379|         355|     312|    2422|     1007|      9|             1034|        1016|          -18|       0|        0|               NULL|            NULL|          NULL|         NULL|               NULL|         NULL|         1|\n",
      "|2015-12-01|     WN|            7|     N527SW|           DAL|                HOU|                830|           839|              9|      16|       855|            65|          65|      45|     239|      940|      4|              935|         944|            9|       0|        0|               NULL|            NULL|          NULL|         NULL|               NULL|         NULL|         1|\n",
      "|2015-12-01|     DL|            7|     N6715C|           ATL|                MSP|                835|           839|              4|      19|       858|           160|         143|     119|     907|      957|      5|             1015|        1002|          -13|       0|        0|               NULL|            NULL|          NULL|         NULL|               NULL|         NULL|         1|\n",
      "|2015-12-01|     HA|            7|     N374HA|           LAS|                HNL|                845|           840|             -5|      20|       900|           400|         395|     370|    2762|     1310|      5|             1325|        1315|          -10|       0|        0|               NULL|            NULL|          NULL|         NULL|               NULL|         NULL|         0|\n",
      "|2015-12-01|     AA|            7|     N376AA|           DFW|                OGG|                905|           903|             -2|      21|       924|           509|         503|     476|    3711|     1320|      6|             1334|        1326|           -8|       0|        0|               NULL|            NULL|          NULL|         NULL|               NULL|         NULL|         0|\n",
      "|2015-12-01|     B6|            7|     N531JB|           FLL|                LAS|               1931|          1938|              7|      11|      1949|           325|         319|     300|    2173|     2149|      8|             2156|        2157|            1|       0|        0|               NULL|            NULL|          NULL|         NULL|               NULL|         NULL|         1|\n",
      "|2015-12-01|     HA|           29|     N370HA|           SEA|                OGG|               1000|          1009|              9|      12|      1021|           365|         402|     385|    2640|     1446|      5|             1405|        1451|           46|       0|        0|               NULL|               9|             0|           37|                  0|            0|         1|\n",
      "|2015-12-01|     AA|           29|     N5DHAA|           MIA|                BOS|               1220|          1215|             -5|      14|      1229|           189|         176|     155|    1258|     1504|      7|             1529|        1511|          -18|       0|        0|               NULL|            NULL|          NULL|         NULL|               NULL|         NULL|         0|\n",
      "|2015-12-01|     AS|           29|     N317AS|           ORD|                SEA|               1525|          1528|              3|      15|      1543|           279|         249|     228|    1721|     1731|      6|             1804|        1737|          -27|       0|        0|               NULL|            NULL|          NULL|         NULL|               NULL|         NULL|         1|\n",
      "|2015-12-01|     VX|           29|     N842VA|           JFK|                SFO|               1850|          1856|              6|      31|      1927|           400|         381|     347|    2586|     2214|      3|             2230|        2217|          -13|       0|        0|               NULL|            NULL|          NULL|         NULL|               NULL|         NULL|         1|\n",
      "|2015-12-01|     DL|           29|     N974DL|           ATL|                DFW|               1905|          1917|             12|      15|      1932|           155|         142|     119|     731|     2031|      8|             2040|        2039|           -1|       0|        0|               NULL|            NULL|          NULL|         NULL|               NULL|         NULL|         1|\n",
      "|2015-12-01|     AA|           54|     N3AJAA|           MCO|                ORD|               1351|          1348|             -3|      12|      1400|           183|         185|     149|    1005|     1529|     24|             1554|        1553|           -1|       0|        0|               NULL|            NULL|          NULL|         NULL|               NULL|         NULL|         0|\n",
      "|2015-12-01|     DL|           54|     N993DL|           IAH|                ATL|               1815|          1811|             -4|      10|      1821|           125|         103|      83|     689|     2044|     10|             2120|        2054|          -26|       0|        0|               NULL|            NULL|          NULL|         NULL|               NULL|         NULL|         0|\n",
      "|2015-12-01|     B6|           54|     N273JB|           PBI|                JFK|               1840|          1915|             35|      17|      1932|           158|         153|     130|    1028|     2142|      6|             2118|        2148|           30|       0|        0|               NULL|              30|             0|            0|                  0|            0|         1|\n",
      "|2015-12-01|     AS|           75|     N318AS|           SEA|                JNU|               1110|          1251|            101|      18|      1309|           158|         143|     118|     909|     1407|      7|             1248|        1414|           86|       0|        0|               NULL|               0|             0|           86|                  0|            0|         1|\n",
      "|2015-12-01|     B6|           76|     N193JB|           MSY|                JFK|               1013|          1026|             13|      11|      1037|           166|         156|     139|    1182|     1356|      6|             1359|        1402|            3|       0|        0|               NULL|            NULL|          NULL|         NULL|               NULL|         NULL|         1|\n",
      "|2015-12-01|     AS|           76|     N318AS|           JNU|                SEA|               1420|          1512|             52|      16|      1528|           140|         153|     126|     909|     1834|     11|             1740|        1845|           65|       0|        0|               NULL|              13|             0|            3|                 49|            0|         1|\n",
      "|2015-12-01|     AA|          116|     N3CWAA|           TPA|                MIA|                830|           830|              0|      12|       842|            71|          70|      35|     204|      917|     23|              941|         940|           -1|       0|        0|               NULL|            NULL|          NULL|         NULL|               NULL|         NULL|         0|\n",
      "|2015-12-01|     B6|          116|     N358JB|           JFK|                SYR|                920|           911|             -9|      42|       953|            72|          90|      45|     209|     1038|      3|             1032|        1041|            9|       0|        0|               NULL|            NULL|          NULL|         NULL|               NULL|         NULL|         0|\n",
      "|2015-12-01|     DL|          116|     N944DL|           BHM|                ATL|               1450|          1455|              5|      10|      1505|            60|          52|      28|     134|     1633|     14|             1650|        1647|           -3|       0|        0|               NULL|            NULL|          NULL|         NULL|               NULL|         NULL|         1|\n",
      "+----------+-------+-------------+-----------+--------------+-------------------+-------------------+--------------+---------------+--------+----------+--------------+------------+--------+--------+---------+-------+-----------------+------------+-------------+--------+---------+-------------------+----------------+--------------+-------------+-------------------+-------------+----------+\n",
      "only showing top 20 rows\n",
      "\n",
      "+----------+-------+-------------+-----------+--------------+-------------------+-------------------+--------------+---------------+--------+----------+--------------+------------+--------+--------+---------+-------+-----------------+------------+-------------+--------+---------+-------------------+----------------+--------------+-------------+-------------------+-------------+----------+\n",
      "|      date|airline|flight_number|tail_number|origin_airport|destination_airport|scheduled_departure|departure_time|departure_delay|taxi_out|wheels_off|scheduled_time|elapsed_time|air_time|distance|wheels_on|taxi_in|scheduled_arrival|arrival_time|arrival_delay|diverted|cancelled|cancellation_reason|air_system_delay|security_delay|airline_delay|late_aircraft_delay|weather_delay|is_delayed|\n",
      "+----------+-------+-------------+-----------+--------------+-------------------+-------------------+--------------+---------------+--------+----------+--------------+------------+--------+--------+---------+-------+-----------------+------------+-------------+--------+---------+-------------------+----------------+--------------+-------------+-------------------+-------------+----------+\n",
      "|2015-12-01|     AS|            7|     N435AS|           JFK|                SEA|                715|           721|              6|      34|       755|           379|         355|     312|    2422|     1007|      9|             1034|        1016|          -18|       0|        0|               NULL|            NULL|          NULL|         NULL|               NULL|         NULL|         1|\n",
      "|2015-12-01|     WN|            7|     N527SW|           DAL|                HOU|                830|           839|              9|      16|       855|            65|          65|      45|     239|      940|      4|              935|         944|            9|       0|        0|               NULL|            NULL|          NULL|         NULL|               NULL|         NULL|         1|\n",
      "|2015-12-01|     DL|            7|     N6715C|           ATL|                MSP|                835|           839|              4|      19|       858|           160|         143|     119|     907|      957|      5|             1015|        1002|          -13|       0|        0|               NULL|            NULL|          NULL|         NULL|               NULL|         NULL|         1|\n",
      "|2015-12-01|     HA|            7|     N374HA|           LAS|                HNL|                845|           840|             -5|      20|       900|           400|         395|     370|    2762|     1310|      5|             1325|        1315|          -10|       0|        0|               NULL|            NULL|          NULL|         NULL|               NULL|         NULL|         0|\n",
      "|2015-12-01|     AA|            7|     N376AA|           DFW|                OGG|                905|           903|             -2|      21|       924|           509|         503|     476|    3711|     1320|      6|             1334|        1326|           -8|       0|        0|               NULL|            NULL|          NULL|         NULL|               NULL|         NULL|         0|\n",
      "|2015-12-01|     B6|            7|     N531JB|           FLL|                LAS|               1931|          1938|              7|      11|      1949|           325|         319|     300|    2173|     2149|      8|             2156|        2157|            1|       0|        0|               NULL|            NULL|          NULL|         NULL|               NULL|         NULL|         1|\n",
      "|2015-12-01|     HA|           29|     N370HA|           SEA|                OGG|               1000|          1009|              9|      12|      1021|           365|         402|     385|    2640|     1446|      5|             1405|        1451|           46|       0|        0|               NULL|               9|             0|           37|                  0|            0|         1|\n",
      "|2015-12-01|     AA|           29|     N5DHAA|           MIA|                BOS|               1220|          1215|             -5|      14|      1229|           189|         176|     155|    1258|     1504|      7|             1529|        1511|          -18|       0|        0|               NULL|            NULL|          NULL|         NULL|               NULL|         NULL|         0|\n",
      "|2015-12-01|     AS|           29|     N317AS|           ORD|                SEA|               1525|          1528|              3|      15|      1543|           279|         249|     228|    1721|     1731|      6|             1804|        1737|          -27|       0|        0|               NULL|            NULL|          NULL|         NULL|               NULL|         NULL|         1|\n",
      "|2015-12-01|     VX|           29|     N842VA|           JFK|                SFO|               1850|          1856|              6|      31|      1927|           400|         381|     347|    2586|     2214|      3|             2230|        2217|          -13|       0|        0|               NULL|            NULL|          NULL|         NULL|               NULL|         NULL|         1|\n",
      "|2015-12-01|     DL|           29|     N974DL|           ATL|                DFW|               1905|          1917|             12|      15|      1932|           155|         142|     119|     731|     2031|      8|             2040|        2039|           -1|       0|        0|               NULL|            NULL|          NULL|         NULL|               NULL|         NULL|         1|\n",
      "|2015-12-01|     AA|           54|     N3AJAA|           MCO|                ORD|               1351|          1348|             -3|      12|      1400|           183|         185|     149|    1005|     1529|     24|             1554|        1553|           -1|       0|        0|               NULL|            NULL|          NULL|         NULL|               NULL|         NULL|         0|\n",
      "|2015-12-01|     DL|           54|     N993DL|           IAH|                ATL|               1815|          1811|             -4|      10|      1821|           125|         103|      83|     689|     2044|     10|             2120|        2054|          -26|       0|        0|               NULL|            NULL|          NULL|         NULL|               NULL|         NULL|         0|\n",
      "|2015-12-01|     B6|           54|     N273JB|           PBI|                JFK|               1840|          1915|             35|      17|      1932|           158|         153|     130|    1028|     2142|      6|             2118|        2148|           30|       0|        0|               NULL|              30|             0|            0|                  0|            0|         1|\n",
      "|2015-12-01|     AS|           75|     N318AS|           SEA|                JNU|               1110|          1251|            101|      18|      1309|           158|         143|     118|     909|     1407|      7|             1248|        1414|           86|       0|        0|               NULL|               0|             0|           86|                  0|            0|         1|\n",
      "|2015-12-01|     B6|           76|     N193JB|           MSY|                JFK|               1013|          1026|             13|      11|      1037|           166|         156|     139|    1182|     1356|      6|             1359|        1402|            3|       0|        0|               NULL|            NULL|          NULL|         NULL|               NULL|         NULL|         1|\n",
      "|2015-12-01|     AS|           76|     N318AS|           JNU|                SEA|               1420|          1512|             52|      16|      1528|           140|         153|     126|     909|     1834|     11|             1740|        1845|           65|       0|        0|               NULL|              13|             0|            3|                 49|            0|         1|\n",
      "|2015-12-01|     AA|          116|     N3CWAA|           TPA|                MIA|                830|           830|              0|      12|       842|            71|          70|      35|     204|      917|     23|              941|         940|           -1|       0|        0|               NULL|            NULL|          NULL|         NULL|               NULL|         NULL|         0|\n",
      "|2015-12-01|     B6|          116|     N358JB|           JFK|                SYR|                920|           911|             -9|      42|       953|            72|          90|      45|     209|     1038|      3|             1032|        1041|            9|       0|        0|               NULL|            NULL|          NULL|         NULL|               NULL|         NULL|         0|\n",
      "|2015-12-01|     DL|          116|     N944DL|           BHM|                ATL|               1450|          1455|              5|      10|      1505|            60|          52|      28|     134|     1633|     14|             1650|        1647|           -3|       0|        0|               NULL|            NULL|          NULL|         NULL|               NULL|         NULL|         1|\n",
      "+----------+-------+-------------+-----------+--------------+-------------------+-------------------+--------------+---------------+--------+----------+--------------+------------+--------+--------+---------+-------+-----------------+------------+-------------+--------+---------+-------------------+----------------+--------------+-------------+-------------------+-------------+----------+\n",
      "only showing top 20 rows\n",
      "\n"
     ]
    }
   ],
   "source": [
    "spark.sql('SELECT * FROM airline.db.flights WHERE date = \"2015-12-01\"').show()\n",
    "spark.sql('SELECT * FROM airline.db.flights VERSION AS OF \"main\" WHERE date = \"2015-12-01\"').show()"
   ]
  },
  {
   "cell_type": "code",
   "execution_count": 44,
   "id": "a40ed359-420b-4006-9553-196762d8f15a",
   "metadata": {},
   "outputs": [
    {
     "name": "stdout",
     "output_type": "stream",
     "text": [
      "== Physical Plan ==\n",
      "AdaptiveSparkPlan isFinalPlan=false\n",
      "+- InMemoryTableScan [date#11549, airline#11550, flight_number#11551, tail_number#11552, origin_airport#11553, destination_airport#11554, scheduled_departure#11555, departure_time#11556, departure_delay#11557, taxi_out#11558, wheels_off#11559, scheduled_time#11560, elapsed_time#11561, air_time#11562, distance#11563, wheels_on#11564, taxi_in#11565, scheduled_arrival#11566, arrival_time#11567, arrival_delay#11568, diverted#11569, cancelled#11570, cancellation_reason#11571, air_system_delay#11572, ... 5 more fields]\n",
      "      +- InMemoryRelation [date#11549, airline#11550, flight_number#11551, tail_number#11552, origin_airport#11553, destination_airport#11554, scheduled_departure#11555, departure_time#11556, departure_delay#11557, taxi_out#11558, wheels_off#11559, scheduled_time#11560, elapsed_time#11561, air_time#11562, distance#11563, wheels_on#11564, taxi_in#11565, scheduled_arrival#11566, arrival_time#11567, arrival_delay#11568, diverted#11569, cancelled#11570, cancellation_reason#11571, air_system_delay#11572, ... 5 more fields], StorageLevel(disk, memory, deserialized, 1 replicas)\n",
      "            +- *(1) Filter (date#1826 = 2015-12-01)\n",
      "               +- *(1) ColumnarToRow\n",
      "                  +- BatchScan airline.db.flights[date#1826, airline#1827, flight_number#1828, tail_number#1829, origin_airport#1830, destination_airport#1831, scheduled_departure#1832, departure_time#1833, departure_delay#1834, taxi_out#1835, wheels_off#1836, scheduled_time#1837, elapsed_time#1838, air_time#1839, distance#1840, wheels_on#1841, taxi_in#1842, scheduled_arrival#1843, arrival_time#1844, arrival_delay#1845, diverted#1846, cancelled#1847, cancellation_reason#1848, air_system_delay#1849, ... 5 more fields] airline.db.flights (branch=main) [filters=date IS NOT NULL, date = 16770, groupedBy=] RuntimeFilters: []\n",
      "\n",
      "\n",
      "15823\n"
     ]
    },
    {
     "name": "stderr",
     "output_type": "stream",
     "text": [
      "24/12/28 03:33:20 WARN CacheManager: Asked to cache already cached data.\n",
      "                                                                                \r"
     ]
    },
    {
     "name": "stdout",
     "output_type": "stream",
     "text": [
      "== Physical Plan ==\n",
      "CommandResult <empty>\n",
      "   +- AppendData org.apache.spark.sql.execution.datasources.v2.DataSourceV2Strategy$$Lambda$5024/0x0000000841c6c040@7d0a3304, IcebergWrite(table=airline.db.flights, format=PARQUET)\n",
      "      +- AdaptiveSparkPlan isFinalPlan=true\n",
      "         +- == Final Plan ==\n",
      "            AQEShuffleRead coalesced\n",
      "            +- ShuffleQueryStage 3\n",
      "               +- Exchange hashpartitioning(staticinvoke(class org.apache.iceberg.spark.functions.MonthsFunction$DateToMonthsFunction, IntegerType, invoke, date#11549, DateType, false, true, true), 200), REBALANCE_PARTITIONS_BY_COL, 402653184, [plan_id=1270]\n",
      "                  +- *(4) SortMergeJoin [date#11549, flight_number#11551], [date#12806, flight_number#12808], LeftAnti\n",
      "                     :- *(2) Sort [date#11549 ASC NULLS FIRST, flight_number#11551 ASC NULLS FIRST], false, 0\n",
      "                     :  +- AQEShuffleRead coalesced\n",
      "                     :     +- ShuffleQueryStage 2\n",
      "                     :        +- Exchange hashpartitioning(date#11549, flight_number#11551, 200), ENSURE_REQUIREMENTS, [plan_id=1171]\n",
      "                     :           +- TableCacheQueryStage 0\n",
      "                     :              +- InMemoryTableScan [date#11549, airline#11550, flight_number#11551, tail_number#11552, origin_airport#11553, destination_airport#11554, scheduled_departure#11555, departure_time#11556, departure_delay#11557, taxi_out#11558, wheels_off#11559, scheduled_time#11560, elapsed_time#11561, air_time#11562, distance#11563, wheels_on#11564, taxi_in#11565, scheduled_arrival#11566, arrival_time#11567, arrival_delay#11568, diverted#11569, cancelled#11570, cancellation_reason#11571, air_system_delay#11572, ... 5 more fields]\n",
      "                     :                    +- InMemoryRelation [date#11549, airline#11550, flight_number#11551, tail_number#11552, origin_airport#11553, destination_airport#11554, scheduled_departure#11555, departure_time#11556, departure_delay#11557, taxi_out#11558, wheels_off#11559, scheduled_time#11560, elapsed_time#11561, air_time#11562, distance#11563, wheels_on#11564, taxi_in#11565, scheduled_arrival#11566, arrival_time#11567, arrival_delay#11568, diverted#11569, cancelled#11570, cancellation_reason#11571, air_system_delay#11572, ... 5 more fields], StorageLevel(disk, memory, deserialized, 1 replicas)\n",
      "                     :                          +- *(1) Filter (date#1826 = 2015-12-01)\n",
      "                     :                             +- *(1) ColumnarToRow\n",
      "                     :                                +- BatchScan airline.db.flights[date#1826, airline#1827, flight_number#1828, tail_number#1829, origin_airport#1830, destination_airport#1831, scheduled_departure#1832, departure_time#1833, departure_delay#1834, taxi_out#1835, wheels_off#1836, scheduled_time#1837, elapsed_time#1838, air_time#1839, distance#1840, wheels_on#1841, taxi_in#1842, scheduled_arrival#1843, arrival_time#1844, arrival_delay#1845, diverted#1846, cancelled#1847, cancellation_reason#1848, air_system_delay#1849, ... 5 more fields] airline.db.flights (branch=main) [filters=date IS NOT NULL, date = 16770, groupedBy=] RuntimeFilters: []\n",
      "                     +- *(3) Sort [date#12806 ASC NULLS FIRST, flight_number#12808 ASC NULLS FIRST], false, 0\n",
      "                        +- AQEShuffleRead coalesced\n",
      "                           +- ShuffleQueryStage 1\n",
      "                              +- Exchange hashpartitioning(date#12806, flight_number#12808, 200), ENSURE_REQUIREMENTS, [plan_id=1180]\n",
      "                                 +- *(1) Filter isnotnull(flight_number#12808)\n",
      "                                    +- *(1) ColumnarToRow\n",
      "                                       +- BatchScan airline.db.flights[date#12806, flight_number#12808] airline.db.flights (branch=audit_branch_flights) [filters=date IS NOT NULL, flight_number IS NOT NULL, groupedBy=] RuntimeFilters: []\n",
      "         +- == Initial Plan ==\n",
      "            Exchange hashpartitioning(staticinvoke(class org.apache.iceberg.spark.functions.MonthsFunction$DateToMonthsFunction, IntegerType, invoke, date#11549, DateType, false, true, true), 200), REBALANCE_PARTITIONS_BY_COL, 402653184, [plan_id=1148]\n",
      "            +- SortMergeJoin [date#11549, flight_number#11551], [date#12806, flight_number#12808], LeftAnti\n",
      "               :- Sort [date#11549 ASC NULLS FIRST, flight_number#11551 ASC NULLS FIRST], false, 0\n",
      "               :  +- Exchange hashpartitioning(date#11549, flight_number#11551, 200), ENSURE_REQUIREMENTS, [plan_id=1143]\n",
      "               :     +- InMemoryTableScan [date#11549, airline#11550, flight_number#11551, tail_number#11552, origin_airport#11553, destination_airport#11554, scheduled_departure#11555, departure_time#11556, departure_delay#11557, taxi_out#11558, wheels_off#11559, scheduled_time#11560, elapsed_time#11561, air_time#11562, distance#11563, wheels_on#11564, taxi_in#11565, scheduled_arrival#11566, arrival_time#11567, arrival_delay#11568, diverted#11569, cancelled#11570, cancellation_reason#11571, air_system_delay#11572, ... 5 more fields]\n",
      "               :           +- InMemoryRelation [date#11549, airline#11550, flight_number#11551, tail_number#11552, origin_airport#11553, destination_airport#11554, scheduled_departure#11555, departure_time#11556, departure_delay#11557, taxi_out#11558, wheels_off#11559, scheduled_time#11560, elapsed_time#11561, air_time#11562, distance#11563, wheels_on#11564, taxi_in#11565, scheduled_arrival#11566, arrival_time#11567, arrival_delay#11568, diverted#11569, cancelled#11570, cancellation_reason#11571, air_system_delay#11572, ... 5 more fields], StorageLevel(disk, memory, deserialized, 1 replicas)\n",
      "               :                 +- *(1) Filter (date#1826 = 2015-12-01)\n",
      "               :                    +- *(1) ColumnarToRow\n",
      "               :                       +- BatchScan airline.db.flights[date#1826, airline#1827, flight_number#1828, tail_number#1829, origin_airport#1830, destination_airport#1831, scheduled_departure#1832, departure_time#1833, departure_delay#1834, taxi_out#1835, wheels_off#1836, scheduled_time#1837, elapsed_time#1838, air_time#1839, distance#1840, wheels_on#1841, taxi_in#1842, scheduled_arrival#1843, arrival_time#1844, arrival_delay#1845, diverted#1846, cancelled#1847, cancellation_reason#1848, air_system_delay#1849, ... 5 more fields] airline.db.flights (branch=main) [filters=date IS NOT NULL, date = 16770, groupedBy=] RuntimeFilters: []\n",
      "               +- Sort [date#12806 ASC NULLS FIRST, flight_number#12808 ASC NULLS FIRST], false, 0\n",
      "                  +- Exchange hashpartitioning(date#12806, flight_number#12808, 200), ENSURE_REQUIREMENTS, [plan_id=1144]\n",
      "                     +- Filter isnotnull(flight_number#12808)\n",
      "                        +- BatchScan airline.db.flights[date#12806, flight_number#12808] airline.db.flights (branch=audit_branch_flights) [filters=date IS NOT NULL, flight_number IS NOT NULL, groupedBy=] RuntimeFilters: []\n",
      "\n",
      "\n"
     ]
    }
   ],
   "source": [
    "# Perform idempotent write\n",
    "# Create temp view\n",
    "flights_df = spark.sql('SELECT * FROM airline.db.flights VERSION AS OF \"main\"').filter(col('date') == '2015-12-01')\n",
    "flights_df.explain()\n",
    "print(flights_df.count())\n",
    "flights_df.cache()\n",
    "flights_df.createOrReplaceTempView('flights')\n",
    "\n",
    "# TODO dedup input from source\n",
    "\n",
    "# Write flights data to table\n",
    "flights_merge_ddl = \"\"\"\n",
    "MERGE INTO airline.db.flights t\n",
    "USING (SELECT * FROM flights) s\n",
    "    ON  t.date = s.date\n",
    "    AND t.airline = s.airline\n",
    "    AND t.flight_number = s.flight_number\n",
    "    AND t.scheduled_departure = s.scheduled_departure\n",
    "WHEN NOT MATCHED THEN INSERT *\n",
    "\"\"\"\n",
    "\n",
    "spark.sql(flights_merge_ddl).explain()"
   ]
  },
  {
   "cell_type": "code",
   "execution_count": null,
   "id": "eca0ad6c-dbf1-4614-9ed4-eae6734419b8",
   "metadata": {},
   "outputs": [],
   "source": [
    "# Perform Data Quality checks\n",
    "\n"
   ]
  },
  {
   "cell_type": "code",
   "execution_count": 45,
   "id": "dad3dc31-969d-477a-8d94-dcc41512468d",
   "metadata": {},
   "outputs": [
    {
     "name": "stdout",
     "output_type": "stream",
     "text": [
      "+-------------------+\n",
      "|        snapshot_id|\n",
      "+-------------------+\n",
      "|8777543075953159173|\n",
      "+-------------------+\n",
      "\n"
     ]
    }
   ],
   "source": [
    "# If all checks pass, cherry-pick snapshot, ie. publish staging branch to main\n",
    "\n",
    "# Get snapshot id\n",
    "spark.sql('SELECT snapshot_id FROM airline.db.flights.refs WHERE name=\"audit_branch_flights\"').show()\n",
    "\n",
    "if True:\n",
    "    spark.sql(f'CALL airline.system.fast_forward(\"db.flights\", \"main\", \"{audit_branch}\")')\n",
    "    # spark.sql('CALL airline.system.cherrypick_snapshot(\"db.flights\", 668148544964107792)')"
   ]
  },
  {
   "cell_type": "code",
   "execution_count": 36,
   "id": "dae2f7f8-2be1-4877-ade3-3849ed3b6030",
   "metadata": {},
   "outputs": [
    {
     "data": {
      "text/plain": [
       "DataFrame[]"
      ]
     },
     "execution_count": 36,
     "metadata": {},
     "output_type": "execute_result"
    }
   ],
   "source": [
    "# Cleanup\n",
    "# Unset from SparkSession\n",
    "spark.conf.unset('spark.wap.branch')\n",
    "\n",
    "# unset from table properties so that create table ddl can be seen again on Athena.\n",
    "spark.sql(f\"ALTER TABLE airline.db.flights UNSET TBLPROPERTIES ('write.wap.enabled')\")\n",
    "\n",
    "# Drop audit branch\n",
    "spark.sql(f\"ALTER TABLE airline.db.flights DROP BRANCH {audit_branch}\")"
   ]
  },
  {
   "cell_type": "code",
   "execution_count": 53,
   "id": "c9d96395-5e27-415b-a10b-e22f67c01806",
   "metadata": {},
   "outputs": [
    {
     "name": "stdout",
     "output_type": "stream",
     "text": [
      "+--------------------+-------------------+-------------------+-------------------+\n",
      "|     made_current_at|        snapshot_id|          parent_id|is_current_ancestor|\n",
      "+--------------------+-------------------+-------------------+-------------------+\n",
      "|2024-12-22 04:05:...|6483349522153703138|               NULL|               true|\n",
      "|2024-12-26 17:54:...|6628237988227580671|6483349522153703138|               true|\n",
      "|2024-12-28 00:53:...|7078291234605864939|6628237988227580671|               true|\n",
      "|2024-12-28 03:34:...|8777543075953159173|5764227798246680375|               true|\n",
      "+--------------------+-------------------+-------------------+-------------------+\n",
      "\n",
      "+-----------------------+-------------------+-------------------+---------+-------------------------------------------------------------------------------------------------------+---------------------------------------------------------------------------------------------------------------------------------------------------------------------------------------------------------------------------------------------------------------------------------------------------------------------------------------------------------------------------------------------------------+\n",
      "|committed_at           |snapshot_id        |parent_id          |operation|manifest_list                                                                                          |summary                                                                                                                                                                                                                                                                                                                                                                                                  |\n",
      "+-----------------------+-------------------+-------------------+---------+-------------------------------------------------------------------------------------------------------+---------------------------------------------------------------------------------------------------------------------------------------------------------------------------------------------------------------------------------------------------------------------------------------------------------------------------------------------------------------------------------------------------------+\n",
      "|2024-12-22 04:05:47.694|6483349522153703138|NULL               |append   |s3://warehouse/db/flights/metadata/snap-6483349522153703138-1-29cc0a41-9f91-41a9-a3a9-8594bcfec6ed.avro|{spark.app.id -> local-1734811599173, added-data-files -> 12, added-records -> 5819079, added-files-size -> 130797157, changed-partition-count -> 12, total-records -> 5819079, total-files-size -> 130797157, total-data-files -> 12, total-delete-files -> 0, total-position-deletes -> 0, total-equality-deletes -> 0}                                                                                |\n",
      "|2024-12-26 17:54:23.601|6628237988227580671|6483349522153703138|append   |s3://warehouse/db/flights/metadata/snap-6628237988227580671-1-cf48625f-9ac8-4401-aabe-b002a0d81fe4.avro|{spark.app.id -> local-1735235086376, changed-partition-count -> 0, total-records -> 5819079, total-files-size -> 130797157, total-data-files -> 12, total-delete-files -> 0, total-position-deletes -> 0, total-equality-deletes -> 0}                                                                                                                                                                  |\n",
      "|2024-12-26 18:34:35.188|6856719003846257350|6628237988227580671|overwrite|s3://warehouse/db/flights/metadata/snap-6856719003846257350-1-7ed43b9f-a133-49e3-9789-1824f69efeb6.avro|{spark.app.id -> local-1735235086376, added-data-files -> 1, deleted-data-files -> 1, added-records -> 463407, deleted-records -> 479230, added-files-size -> 10509540, removed-files-size -> 10826942, changed-partition-count -> 1, total-records -> 5803256, total-files-size -> 130479755, total-data-files -> 12, total-delete-files -> 0, total-position-deletes -> 0, total-equality-deletes -> 0}|\n",
      "|2024-12-26 18:35:03.524|8082429039734140213|6856719003846257350|overwrite|s3://warehouse/db/flights/metadata/snap-8082429039734140213-1-c4821f75-3d47-42cd-9024-bec64096dcb8.avro|{spark.app.id -> local-1735235086376, changed-partition-count -> 0, total-records -> 5803256, total-files-size -> 130479755, total-data-files -> 12, total-delete-files -> 0, total-position-deletes -> 0, total-equality-deletes -> 0}                                                                                                                                                                  |\n",
      "|2024-12-28 00:37:39.893|668148544964107792 |8082429039734140213|append   |s3://warehouse/db/flights/metadata/snap-668148544964107792-1-5c16f1ac-0028-4ac9-a0c8-375b60a0dd10.avro |{spark.app.id -> local-1735345799351, added-data-files -> 1, added-records -> 15823, added-files-size -> 408913, changed-partition-count -> 1, total-records -> 5819079, total-files-size -> 130888668, total-data-files -> 13, total-delete-files -> 0, total-position-deletes -> 0, total-equality-deletes -> 0}                                                                                       |\n",
      "|2024-12-28 00:53:54.095|7078291234605864939|6628237988227580671|append   |s3://warehouse/db/flights/metadata/snap-7078291234605864939-1-719e81bd-739b-4cf5-81fb-d602338137ee.avro|{source-snapshot-id -> 668148544964107792, added-data-files -> 1, added-records -> 15823, added-files-size -> 408913, changed-partition-count -> 1, total-records -> 5834902, total-files-size -> 131206070, total-data-files -> 13, total-delete-files -> 0, total-position-deletes -> 0, total-equality-deletes -> 0}                                                                                  |\n",
      "|2024-12-28 03:33:03.346|5764227798246680375|7078291234605864939|overwrite|s3://warehouse/db/flights/metadata/snap-5764227798246680375-1-dafaf3f3-d138-4ca8-b5ba-05dde209c6a5.avro|{spark.app.id -> local-1735345799351, added-data-files -> 1, deleted-data-files -> 2, added-records -> 463407, deleted-records -> 495053, added-files-size -> 10509540, removed-files-size -> 11235855, changed-partition-count -> 1, total-records -> 5803256, total-files-size -> 130479755, total-data-files -> 12, total-delete-files -> 0, total-position-deletes -> 0, total-equality-deletes -> 0}|\n",
      "|2024-12-28 03:33:22.094|8777543075953159173|5764227798246680375|append   |s3://warehouse/db/flights/metadata/snap-8777543075953159173-1-32d5b5eb-9fbd-4ffc-adec-33cff22e6d3d.avro|{spark.app.id -> local-1735345799351, added-data-files -> 1, added-records -> 15823, added-files-size -> 408913, changed-partition-count -> 1, total-records -> 5819079, total-files-size -> 130888668, total-data-files -> 13, total-delete-files -> 0, total-position-deletes -> 0, total-equality-deletes -> 0}                                                                                       |\n",
      "+-----------------------+-------------------+-------------------+---------+-------------------------------------------------------------------------------------------------------+---------------------------------------------------------------------------------------------------------------------------------------------------------------------------------------------------------------------------------------------------------------------------------------------------------------------------------------------------------------------------------------------------------+\n",
      "\n",
      "+--------------------+------+-------------------+-----------------------+---------------------+----------------------+\n",
      "|                name|  type|        snapshot_id|max_reference_age_in_ms|min_snapshots_to_keep|max_snapshot_age_in_ms|\n",
      "+--------------------+------+-------------------+-----------------------+---------------------+----------------------+\n",
      "|                main|BRANCH|8777543075953159173|                   NULL|                 NULL|                  NULL|\n",
      "|audit_branch_flights|BRANCH|8777543075953159173|                   NULL|                 NULL|                  NULL|\n",
      "+--------------------+------+-------------------+-----------------------+---------------------+----------------------+\n",
      "\n"
     ]
    }
   ],
   "source": [
    "spark.sql('SELECT * FROM airline.db.flights.history').show()\n",
    "spark.sql('SELECT * FROM airline.db.flights.snapshots').show(truncate=False)\n",
    "spark.sql('SELECT * FROM airline.db.flights.refs').show()"
   ]
  },
  {
   "cell_type": "code",
   "execution_count": 38,
   "id": "4020891a-997b-4a3c-99b0-dcf9ae0298d1",
   "metadata": {},
   "outputs": [
    {
     "name": "stdout",
     "output_type": "stream",
     "text": [
      "+----------+-------+-------------+-----------+--------------+-------------------+-------------------+--------------+---------------+--------+----------+--------------+------------+--------+--------+---------+-------+-----------------+------------+-------------+--------+---------+-------------------+----------------+--------------+-------------+-------------------+-------------+----------+\n",
      "|      date|airline|flight_number|tail_number|origin_airport|destination_airport|scheduled_departure|departure_time|departure_delay|taxi_out|wheels_off|scheduled_time|elapsed_time|air_time|distance|wheels_on|taxi_in|scheduled_arrival|arrival_time|arrival_delay|diverted|cancelled|cancellation_reason|air_system_delay|security_delay|airline_delay|late_aircraft_delay|weather_delay|is_delayed|\n",
      "+----------+-------+-------------+-----------+--------------+-------------------+-------------------+--------------+---------------+--------+----------+--------------+------------+--------+--------+---------+-------+-----------------+------------+-------------+--------+---------+-------------------+----------------+--------------+-------------+-------------------+-------------+----------+\n",
      "|2015-12-01|     AS|            7|     N435AS|           JFK|                SEA|                715|           721|              6|      34|       755|           379|         355|     312|    2422|     1007|      9|             1034|        1016|          -18|       0|        0|               NULL|            NULL|          NULL|         NULL|               NULL|         NULL|         1|\n",
      "|2015-12-01|     WN|            7|     N527SW|           DAL|                HOU|                830|           839|              9|      16|       855|            65|          65|      45|     239|      940|      4|              935|         944|            9|       0|        0|               NULL|            NULL|          NULL|         NULL|               NULL|         NULL|         1|\n",
      "|2015-12-01|     DL|            7|     N6715C|           ATL|                MSP|                835|           839|              4|      19|       858|           160|         143|     119|     907|      957|      5|             1015|        1002|          -13|       0|        0|               NULL|            NULL|          NULL|         NULL|               NULL|         NULL|         1|\n",
      "|2015-12-01|     HA|            7|     N374HA|           LAS|                HNL|                845|           840|             -5|      20|       900|           400|         395|     370|    2762|     1310|      5|             1325|        1315|          -10|       0|        0|               NULL|            NULL|          NULL|         NULL|               NULL|         NULL|         0|\n",
      "|2015-12-01|     AA|            7|     N376AA|           DFW|                OGG|                905|           903|             -2|      21|       924|           509|         503|     476|    3711|     1320|      6|             1334|        1326|           -8|       0|        0|               NULL|            NULL|          NULL|         NULL|               NULL|         NULL|         0|\n",
      "|2015-12-01|     B6|            7|     N531JB|           FLL|                LAS|               1931|          1938|              7|      11|      1949|           325|         319|     300|    2173|     2149|      8|             2156|        2157|            1|       0|        0|               NULL|            NULL|          NULL|         NULL|               NULL|         NULL|         1|\n",
      "|2015-12-01|     HA|           29|     N370HA|           SEA|                OGG|               1000|          1009|              9|      12|      1021|           365|         402|     385|    2640|     1446|      5|             1405|        1451|           46|       0|        0|               NULL|               9|             0|           37|                  0|            0|         1|\n",
      "|2015-12-01|     AA|           29|     N5DHAA|           MIA|                BOS|               1220|          1215|             -5|      14|      1229|           189|         176|     155|    1258|     1504|      7|             1529|        1511|          -18|       0|        0|               NULL|            NULL|          NULL|         NULL|               NULL|         NULL|         0|\n",
      "|2015-12-01|     AS|           29|     N317AS|           ORD|                SEA|               1525|          1528|              3|      15|      1543|           279|         249|     228|    1721|     1731|      6|             1804|        1737|          -27|       0|        0|               NULL|            NULL|          NULL|         NULL|               NULL|         NULL|         1|\n",
      "|2015-12-01|     VX|           29|     N842VA|           JFK|                SFO|               1850|          1856|              6|      31|      1927|           400|         381|     347|    2586|     2214|      3|             2230|        2217|          -13|       0|        0|               NULL|            NULL|          NULL|         NULL|               NULL|         NULL|         1|\n",
      "|2015-12-01|     DL|           29|     N974DL|           ATL|                DFW|               1905|          1917|             12|      15|      1932|           155|         142|     119|     731|     2031|      8|             2040|        2039|           -1|       0|        0|               NULL|            NULL|          NULL|         NULL|               NULL|         NULL|         1|\n",
      "|2015-12-01|     AA|           54|     N3AJAA|           MCO|                ORD|               1351|          1348|             -3|      12|      1400|           183|         185|     149|    1005|     1529|     24|             1554|        1553|           -1|       0|        0|               NULL|            NULL|          NULL|         NULL|               NULL|         NULL|         0|\n",
      "|2015-12-01|     DL|           54|     N993DL|           IAH|                ATL|               1815|          1811|             -4|      10|      1821|           125|         103|      83|     689|     2044|     10|             2120|        2054|          -26|       0|        0|               NULL|            NULL|          NULL|         NULL|               NULL|         NULL|         0|\n",
      "|2015-12-01|     B6|           54|     N273JB|           PBI|                JFK|               1840|          1915|             35|      17|      1932|           158|         153|     130|    1028|     2142|      6|             2118|        2148|           30|       0|        0|               NULL|              30|             0|            0|                  0|            0|         1|\n",
      "|2015-12-01|     AS|           75|     N318AS|           SEA|                JNU|               1110|          1251|            101|      18|      1309|           158|         143|     118|     909|     1407|      7|             1248|        1414|           86|       0|        0|               NULL|               0|             0|           86|                  0|            0|         1|\n",
      "|2015-12-01|     B6|           76|     N193JB|           MSY|                JFK|               1013|          1026|             13|      11|      1037|           166|         156|     139|    1182|     1356|      6|             1359|        1402|            3|       0|        0|               NULL|            NULL|          NULL|         NULL|               NULL|         NULL|         1|\n",
      "|2015-12-01|     AS|           76|     N318AS|           JNU|                SEA|               1420|          1512|             52|      16|      1528|           140|         153|     126|     909|     1834|     11|             1740|        1845|           65|       0|        0|               NULL|              13|             0|            3|                 49|            0|         1|\n",
      "|2015-12-01|     AA|          116|     N3CWAA|           TPA|                MIA|                830|           830|              0|      12|       842|            71|          70|      35|     204|      917|     23|              941|         940|           -1|       0|        0|               NULL|            NULL|          NULL|         NULL|               NULL|         NULL|         0|\n",
      "|2015-12-01|     B6|          116|     N358JB|           JFK|                SYR|                920|           911|             -9|      42|       953|            72|          90|      45|     209|     1038|      3|             1032|        1041|            9|       0|        0|               NULL|            NULL|          NULL|         NULL|               NULL|         NULL|         0|\n",
      "|2015-12-01|     DL|          116|     N944DL|           BHM|                ATL|               1450|          1455|              5|      10|      1505|            60|          52|      28|     134|     1633|     14|             1650|        1647|           -3|       0|        0|               NULL|            NULL|          NULL|         NULL|               NULL|         NULL|         1|\n",
      "+----------+-------+-------------+-----------+--------------+-------------------+-------------------+--------------+---------------+--------+----------+--------------+------------+--------+--------+---------+-------+-----------------+------------+-------------+--------+---------+-------------------+----------------+--------------+-------------+-------------------+-------------+----------+\n",
      "only showing top 20 rows\n",
      "\n"
     ]
    }
   ],
   "source": [
    "spark.sql('SELECT * FROM airline.db.flights WHERE date=\"2015-12-01\"').show()"
   ]
  },
  {
   "cell_type": "code",
   "execution_count": null,
   "id": "b1be64d9-4ff9-4ef4-b011-0e24805e5f6d",
   "metadata": {
    "jupyter": {
     "source_hidden": true
    }
   },
   "outputs": [],
   "source": [
    "# # Create flights table if not exists\n",
    "# spark.sql(\"\"\"\n",
    "# CREATE TABLE IF NOT EXISTS airline.db.flights (\n",
    "#     year INT,\n",
    "#     month INT,\n",
    "#     day INT,\n",
    "#     day_of_week INT,\n",
    "#     airline STRING,\n",
    "#     flight_number INT,\n",
    "#     tail_number STRING,\n",
    "#     origin_airport STRING,\n",
    "#     destination_airport STRING,\n",
    "#     scheduled_departure INT,\n",
    "#     departure_time INT,\n",
    "#     departure_delay INT,\n",
    "#     taxi_out INT,\n",
    "#     wheels_off INT,\n",
    "#     scheduled_time INT,\n",
    "#     elapsed_time INT,\n",
    "#     air_time INT,\n",
    "#     distance INT,\n",
    "#     wheels_on INT,\n",
    "#     taxi_in INT,\n",
    "#     scheduled_arrival INT,\n",
    "#     arrival_time INT,\n",
    "#     arrival_delay INT,\n",
    "#     diverted INT,\n",
    "#     cancelled INT,\n",
    "#     cancellation_reason STRING,\n",
    "#     air_system_delay INT,\n",
    "#     security_delay INT,\n",
    "#     airline_delay INT,\n",
    "#     late_aircraft_delay INT,\n",
    "#     weather_delay INT\n",
    "# )\n",
    "# USING iceberg\n",
    "# PARTITIONED BY (month)\n",
    "# \"\"\")"
   ]
  },
  {
   "cell_type": "code",
   "execution_count": 24,
   "id": "9d4932cb-50a0-4c6d-ab76-9df7e90bf0e9",
   "metadata": {
    "collapsed": true,
    "jupyter": {
     "outputs_hidden": true,
     "source_hidden": true
    }
   },
   "outputs": [
    {
     "name": "stdout",
     "output_type": "stream",
     "text": [
      "False\n"
     ]
    },
    {
     "data": {
      "text/plain": [
       "Table(name='flights', catalog='airline', namespace=['db'], description=None, tableType='MANAGED', isTemporary=False)"
      ]
     },
     "execution_count": 24,
     "metadata": {},
     "output_type": "execute_result"
    }
   ],
   "source": [
    "# # Create database if not exists\n",
    "# spark.sql('CREATE DATABASE IF NOT EXISTS db')\n",
    "\n",
    "# print(spark.catalog.tableExists('airline.db.flights'))\n",
    "\n",
    "# # Create flights table if not exists\n",
    "# if not spark.catalog.tableExists('airline.db.flights'):\n",
    "#     spark.catalog.createTable(\n",
    "#         'airline.db.flights',\n",
    "#         schema=flights_schema,\n",
    "#         source='iceberg',\n",
    "#         partitioning='month'\n",
    "#     )\n",
    "\n",
    "# spark.catalog.getTable('airline.db.flights')"
   ]
  },
  {
   "cell_type": "markdown",
   "id": "c0ef196b-8c0e-40d2-b7a7-1890ff15635b",
   "metadata": {
    "jp-MarkdownHeadingCollapsed": true
   },
   "source": [
    "#### Checking table metadata"
   ]
  },
  {
   "cell_type": "code",
   "execution_count": 99,
   "id": "544d01bc-bb0c-48b6-aa7e-a82f14933e35",
   "metadata": {},
   "outputs": [
    {
     "data": {
      "text/plain": [
       "[Row(col_name='date', data_type='date', comment=None),\n",
       " Row(col_name='airline', data_type='string', comment=None),\n",
       " Row(col_name='flight_number', data_type='int', comment=None),\n",
       " Row(col_name='tail_number', data_type='string', comment=None),\n",
       " Row(col_name='origin_airport', data_type='string', comment=None),\n",
       " Row(col_name='destination_airport', data_type='string', comment=None),\n",
       " Row(col_name='scheduled_departure', data_type='int', comment=None),\n",
       " Row(col_name='departure_time', data_type='int', comment=None),\n",
       " Row(col_name='departure_delay', data_type='int', comment=None),\n",
       " Row(col_name='taxi_out', data_type='int', comment=None),\n",
       " Row(col_name='wheels_off', data_type='int', comment=None),\n",
       " Row(col_name='scheduled_time', data_type='int', comment=None),\n",
       " Row(col_name='elapsed_time', data_type='int', comment=None),\n",
       " Row(col_name='air_time', data_type='int', comment=None),\n",
       " Row(col_name='distance', data_type='int', comment=None),\n",
       " Row(col_name='wheels_on', data_type='int', comment=None),\n",
       " Row(col_name='taxi_in', data_type='int', comment=None),\n",
       " Row(col_name='scheduled_arrival', data_type='int', comment=None),\n",
       " Row(col_name='arrival_time', data_type='int', comment=None),\n",
       " Row(col_name='arrival_delay', data_type='int', comment=None),\n",
       " Row(col_name='diverted', data_type='int', comment=None),\n",
       " Row(col_name='cancelled', data_type='int', comment=None),\n",
       " Row(col_name='cancellation_reason', data_type='string', comment=None),\n",
       " Row(col_name='air_system_delay', data_type='int', comment=None),\n",
       " Row(col_name='security_delay', data_type='int', comment=None),\n",
       " Row(col_name='airline_delay', data_type='int', comment=None),\n",
       " Row(col_name='late_aircraft_delay', data_type='int', comment=None),\n",
       " Row(col_name='weather_delay', data_type='int', comment=None),\n",
       " Row(col_name='is_delayed', data_type='int', comment=None),\n",
       " Row(col_name='', data_type='', comment=''),\n",
       " Row(col_name='# Partitioning', data_type='', comment=''),\n",
       " Row(col_name='Part 0', data_type='months(date)', comment=''),\n",
       " Row(col_name='', data_type='', comment=''),\n",
       " Row(col_name='# Metadata Columns', data_type='', comment=''),\n",
       " Row(col_name='_spec_id', data_type='int', comment=''),\n",
       " Row(col_name='_partition', data_type='struct<date_month:int>', comment=''),\n",
       " Row(col_name='_file', data_type='string', comment=''),\n",
       " Row(col_name='_pos', data_type='bigint', comment=''),\n",
       " Row(col_name='_deleted', data_type='boolean', comment=''),\n",
       " Row(col_name='', data_type='', comment=''),\n",
       " Row(col_name='# Detailed Table Information', data_type='', comment=''),\n",
       " Row(col_name='Name', data_type='airline.db.flights', comment=''),\n",
       " Row(col_name='Type', data_type='MANAGED', comment=''),\n",
       " Row(col_name='Location', data_type='s3://warehouse/db/flights', comment=''),\n",
       " Row(col_name='Provider', data_type='iceberg', comment=''),\n",
       " Row(col_name='Owner', data_type='root', comment=''),\n",
       " Row(col_name='Table Properties', data_type='[current-snapshot-id=6483349522153703138,format=iceberg/parquet,format-version=2,write.parquet.compression-codec=zstd]', comment='')]"
      ]
     },
     "execution_count": 99,
     "metadata": {},
     "output_type": "execute_result"
    }
   ],
   "source": [
    "spark.sql('DESCRIBE EXTENDED airline.db.flights').collect()"
   ]
  },
  {
   "cell_type": "code",
   "execution_count": 143,
   "id": "d5faf17f-4bcf-429a-9a5f-66bebee95cef",
   "metadata": {},
   "outputs": [
    {
     "data": {
      "text/plain": [
       "[Row(createtab_stmt=\"CREATE TABLE airline.db.flights (\\n  year INT,\\n  month INT,\\n  day INT,\\n  day_of_week INT,\\n  airline STRING,\\n  flight_number INT,\\n  tail_number STRING,\\n  origin_airport STRING,\\n  destination_airport STRING,\\n  scheduled_departure INT,\\n  departure_time INT,\\n  departure_delay INT,\\n  taxi_out INT,\\n  wheels_off INT,\\n  scheduled_time INT,\\n  elapsed_time INT,\\n  air_time INT,\\n  distance INT,\\n  wheels_on INT,\\n  taxi_in INT,\\n  scheduled_arrival INT,\\n  arrival_time INT,\\n  arrival_delay INT,\\n  diverted INT,\\n  cancelled INT,\\n  cancellation_reason STRING,\\n  air_system_delay INT,\\n  security_delay INT,\\n  airline_delay INT,\\n  late_aircraft_delay INT,\\n  weather_delay INT)\\nUSING iceberg\\nPARTITIONED BY (month)\\nLOCATION 's3://warehouse/db/flights'\\nTBLPROPERTIES (\\n  'current-snapshot-id' = '6887883028741510457',\\n  'format' = 'iceberg/parquet',\\n  'format-version' = '2',\\n  'write.parquet.compression-codec' = 'zstd')\\n\")]"
      ]
     },
     "execution_count": 143,
     "metadata": {},
     "output_type": "execute_result"
    }
   ],
   "source": [
    "spark.sql('SHOW CREATE TABLE airline.db.flights').collect()"
   ]
  },
  {
   "cell_type": "code",
   "execution_count": 8,
   "id": "36c1f544-83fc-4871-8c87-782487510ffc",
   "metadata": {
    "collapsed": true,
    "jupyter": {
     "outputs_hidden": true,
     "source_hidden": true
    }
   },
   "outputs": [
    {
     "ename": "KeyError",
     "evalue": "'month'",
     "output_type": "error",
     "traceback": [
      "\u001b[0;31m---------------------------------------------------------------------------\u001b[0m",
      "\u001b[0;31mKeyError\u001b[0m                                  Traceback (most recent call last)",
      "Cell \u001b[0;32mIn[8], line 5\u001b[0m\n\u001b[1;32m      3\u001b[0m \u001b[38;5;66;03m# Check lower and upper bounds on month to ensure partitioning by month is being performed correctly\u001b[39;00m\n\u001b[1;32m      4\u001b[0m \u001b[38;5;28;01mfor\u001b[39;00m metric \u001b[38;5;129;01min\u001b[39;00m metrics:\n\u001b[0;32m----> 5\u001b[0m     temp \u001b[38;5;241m=\u001b[39m \u001b[43mmetric\u001b[49m\u001b[38;5;241;43m.\u001b[39;49m\u001b[43masDict\u001b[49m\u001b[43m(\u001b[49m\u001b[43m)\u001b[49m\u001b[43m[\u001b[49m\u001b[38;5;124;43m'\u001b[39;49m\u001b[38;5;124;43mreadable_metrics\u001b[39;49m\u001b[38;5;124;43m'\u001b[39;49m\u001b[43m]\u001b[49m\u001b[38;5;241;43m.\u001b[39;49m\u001b[43masDict\u001b[49m\u001b[43m(\u001b[49m\u001b[43m)\u001b[49m\u001b[43m[\u001b[49m\u001b[38;5;124;43m'\u001b[39;49m\u001b[38;5;124;43mmonth\u001b[39;49m\u001b[38;5;124;43m'\u001b[39;49m\u001b[43m]\u001b[49m\n\u001b[1;32m      6\u001b[0m     \u001b[38;5;28mprint\u001b[39m(temp)\n",
      "\u001b[0;31mKeyError\u001b[0m: 'month'"
     ]
    }
   ],
   "source": [
    "metrics = spark.sql('select readable_metrics from airline.db.flights.files').collect()\n",
    "\n",
    "# Check lower and upper bounds on month to ensure partitioning by month is being performed correctly\n",
    "for metric in metrics:\n",
    "    temp = metric.asDict()['readable_metrics'].asDict()['month']\n",
    "    print(temp)"
   ]
  },
  {
   "cell_type": "code",
   "execution_count": 100,
   "id": "9dd65045-c15a-4eb8-ae1b-5c0b46c3c16b",
   "metadata": {
    "collapsed": true,
    "jupyter": {
     "outputs_hidden": true,
     "source_hidden": true
    }
   },
   "outputs": [
    {
     "name": "stderr",
     "output_type": "stream",
     "text": [
      "24/12/22 04:07:19 WARN SparkSession: Using an existing Spark session; only runtime SQL configurations will take effect.\n"
     ]
    },
    {
     "data": {
      "text/html": [
       "<table>\n",
       "    <thead>\n",
       "        <tr>\n",
       "            <th>partition</th>\n",
       "            <th>spec_id</th>\n",
       "            <th>record_count</th>\n",
       "            <th>file_count</th>\n",
       "            <th>total_data_file_size_in_bytes</th>\n",
       "            <th>position_delete_record_count</th>\n",
       "            <th>position_delete_file_count</th>\n",
       "            <th>equality_delete_record_count</th>\n",
       "            <th>equality_delete_file_count</th>\n",
       "            <th>last_updated_at</th>\n",
       "            <th>last_updated_snapshot_id</th>\n",
       "        </tr>\n",
       "    </thead>\n",
       "    <tbody>\n",
       "        <tr>\n",
       "            <td>Row(date_month=550)</td>\n",
       "            <td>0</td>\n",
       "            <td>467972</td>\n",
       "            <td>1</td>\n",
       "            <td>10431197</td>\n",
       "            <td>0</td>\n",
       "            <td>0</td>\n",
       "            <td>0</td>\n",
       "            <td>0</td>\n",
       "            <td>2024-12-22 04:05:47.694000</td>\n",
       "            <td>6483349522153703138</td>\n",
       "        </tr>\n",
       "        <tr>\n",
       "            <td>Row(date_month=551)</td>\n",
       "            <td>0</td>\n",
       "            <td>479230</td>\n",
       "            <td>1</td>\n",
       "            <td>10826942</td>\n",
       "            <td>0</td>\n",
       "            <td>0</td>\n",
       "            <td>0</td>\n",
       "            <td>0</td>\n",
       "            <td>2024-12-22 04:05:47.694000</td>\n",
       "            <td>6483349522153703138</td>\n",
       "        </tr>\n",
       "        <tr>\n",
       "            <td>Row(date_month=540)</td>\n",
       "            <td>0</td>\n",
       "            <td>469968</td>\n",
       "            <td>1</td>\n",
       "            <td>10589549</td>\n",
       "            <td>0</td>\n",
       "            <td>0</td>\n",
       "            <td>0</td>\n",
       "            <td>0</td>\n",
       "            <td>2024-12-22 04:05:47.694000</td>\n",
       "            <td>6483349522153703138</td>\n",
       "        </tr>\n",
       "        <tr>\n",
       "            <td>Row(date_month=541)</td>\n",
       "            <td>0</td>\n",
       "            <td>429191</td>\n",
       "            <td>1</td>\n",
       "            <td>9753720</td>\n",
       "            <td>0</td>\n",
       "            <td>0</td>\n",
       "            <td>0</td>\n",
       "            <td>0</td>\n",
       "            <td>2024-12-22 04:05:47.694000</td>\n",
       "            <td>6483349522153703138</td>\n",
       "        </tr>\n",
       "        <tr>\n",
       "            <td>Row(date_month=544)</td>\n",
       "            <td>0</td>\n",
       "            <td>496993</td>\n",
       "            <td>1</td>\n",
       "            <td>11149328</td>\n",
       "            <td>0</td>\n",
       "            <td>0</td>\n",
       "            <td>0</td>\n",
       "            <td>0</td>\n",
       "            <td>2024-12-22 04:05:47.694000</td>\n",
       "            <td>6483349522153703138</td>\n",
       "        </tr>\n",
       "        <tr>\n",
       "            <td>Row(date_month=545)</td>\n",
       "            <td>0</td>\n",
       "            <td>503897</td>\n",
       "            <td>1</td>\n",
       "            <td>11497726</td>\n",
       "            <td>0</td>\n",
       "            <td>0</td>\n",
       "            <td>0</td>\n",
       "            <td>0</td>\n",
       "            <td>2024-12-22 04:05:47.694000</td>\n",
       "            <td>6483349522153703138</td>\n",
       "        </tr>\n",
       "        <tr>\n",
       "            <td>Row(date_month=542)</td>\n",
       "            <td>0</td>\n",
       "            <td>504312</td>\n",
       "            <td>1</td>\n",
       "            <td>11364375</td>\n",
       "            <td>0</td>\n",
       "            <td>0</td>\n",
       "            <td>0</td>\n",
       "            <td>0</td>\n",
       "            <td>2024-12-22 04:05:47.694000</td>\n",
       "            <td>6483349522153703138</td>\n",
       "        </tr>\n",
       "        <tr>\n",
       "            <td>Row(date_month=543)</td>\n",
       "            <td>0</td>\n",
       "            <td>485151</td>\n",
       "            <td>1</td>\n",
       "            <td>10875997</td>\n",
       "            <td>0</td>\n",
       "            <td>0</td>\n",
       "            <td>0</td>\n",
       "            <td>0</td>\n",
       "            <td>2024-12-22 04:05:47.694000</td>\n",
       "            <td>6483349522153703138</td>\n",
       "        </tr>\n",
       "        <tr>\n",
       "            <td>Row(date_month=548)</td>\n",
       "            <td>0</td>\n",
       "            <td>464946</td>\n",
       "            <td>1</td>\n",
       "            <td>10274254</td>\n",
       "            <td>0</td>\n",
       "            <td>0</td>\n",
       "            <td>0</td>\n",
       "            <td>0</td>\n",
       "            <td>2024-12-22 04:05:47.694000</td>\n",
       "            <td>6483349522153703138</td>\n",
       "        </tr>\n",
       "        <tr>\n",
       "            <td>Row(date_month=549)</td>\n",
       "            <td>0</td>\n",
       "            <td>486165</td>\n",
       "            <td>1</td>\n",
       "            <td>10710799</td>\n",
       "            <td>0</td>\n",
       "            <td>0</td>\n",
       "            <td>0</td>\n",
       "            <td>0</td>\n",
       "            <td>2024-12-22 04:05:47.694000</td>\n",
       "            <td>6483349522153703138</td>\n",
       "        </tr>\n",
       "        <tr>\n",
       "            <td>Row(date_month=546)</td>\n",
       "            <td>0</td>\n",
       "            <td>520718</td>\n",
       "            <td>1</td>\n",
       "            <td>11820679</td>\n",
       "            <td>0</td>\n",
       "            <td>0</td>\n",
       "            <td>0</td>\n",
       "            <td>0</td>\n",
       "            <td>2024-12-22 04:05:47.694000</td>\n",
       "            <td>6483349522153703138</td>\n",
       "        </tr>\n",
       "        <tr>\n",
       "            <td>Row(date_month=547)</td>\n",
       "            <td>0</td>\n",
       "            <td>510536</td>\n",
       "            <td>1</td>\n",
       "            <td>11502591</td>\n",
       "            <td>0</td>\n",
       "            <td>0</td>\n",
       "            <td>0</td>\n",
       "            <td>0</td>\n",
       "            <td>2024-12-22 04:05:47.694000</td>\n",
       "            <td>6483349522153703138</td>\n",
       "        </tr>\n",
       "    </tbody>\n",
       "</table>"
      ],
      "text/plain": [
       "+---------------------+---------+--------------+------------+-------------------------------+------------------------------+----------------------------+------------------------------+----------------------------+----------------------------+--------------------------+\n",
       "|           partition | spec_id | record_count | file_count | total_data_file_size_in_bytes | position_delete_record_count | position_delete_file_count | equality_delete_record_count | equality_delete_file_count |            last_updated_at | last_updated_snapshot_id |\n",
       "+---------------------+---------+--------------+------------+-------------------------------+------------------------------+----------------------------+------------------------------+----------------------------+----------------------------+--------------------------+\n",
       "| Row(date_month=550) |       0 |       467972 |          1 |                      10431197 |                            0 |                          0 |                            0 |                          0 | 2024-12-22 04:05:47.694000 |      6483349522153703138 |\n",
       "| Row(date_month=551) |       0 |       479230 |          1 |                      10826942 |                            0 |                          0 |                            0 |                          0 | 2024-12-22 04:05:47.694000 |      6483349522153703138 |\n",
       "| Row(date_month=540) |       0 |       469968 |          1 |                      10589549 |                            0 |                          0 |                            0 |                          0 | 2024-12-22 04:05:47.694000 |      6483349522153703138 |\n",
       "| Row(date_month=541) |       0 |       429191 |          1 |                       9753720 |                            0 |                          0 |                            0 |                          0 | 2024-12-22 04:05:47.694000 |      6483349522153703138 |\n",
       "| Row(date_month=544) |       0 |       496993 |          1 |                      11149328 |                            0 |                          0 |                            0 |                          0 | 2024-12-22 04:05:47.694000 |      6483349522153703138 |\n",
       "| Row(date_month=545) |       0 |       503897 |          1 |                      11497726 |                            0 |                          0 |                            0 |                          0 | 2024-12-22 04:05:47.694000 |      6483349522153703138 |\n",
       "| Row(date_month=542) |       0 |       504312 |          1 |                      11364375 |                            0 |                          0 |                            0 |                          0 | 2024-12-22 04:05:47.694000 |      6483349522153703138 |\n",
       "| Row(date_month=543) |       0 |       485151 |          1 |                      10875997 |                            0 |                          0 |                            0 |                          0 | 2024-12-22 04:05:47.694000 |      6483349522153703138 |\n",
       "| Row(date_month=548) |       0 |       464946 |          1 |                      10274254 |                            0 |                          0 |                            0 |                          0 | 2024-12-22 04:05:47.694000 |      6483349522153703138 |\n",
       "| Row(date_month=549) |       0 |       486165 |          1 |                      10710799 |                            0 |                          0 |                            0 |                          0 | 2024-12-22 04:05:47.694000 |      6483349522153703138 |\n",
       "| Row(date_month=546) |       0 |       520718 |          1 |                      11820679 |                            0 |                          0 |                            0 |                          0 | 2024-12-22 04:05:47.694000 |      6483349522153703138 |\n",
       "| Row(date_month=547) |       0 |       510536 |          1 |                      11502591 |                            0 |                          0 |                            0 |                          0 | 2024-12-22 04:05:47.694000 |      6483349522153703138 |\n",
       "+---------------------+---------+--------------+------------+-------------------------------+------------------------------+----------------------------+------------------------------+----------------------------+----------------------------+--------------------------+"
      ]
     },
     "execution_count": 100,
     "metadata": {},
     "output_type": "execute_result"
    }
   ],
   "source": [
    "%%sql\n",
    "SELECT\n",
    "    *\n",
    "FROM airline.db.flights.partitions"
   ]
  },
  {
   "cell_type": "code",
   "execution_count": 32,
   "id": "cda22f12-faa9-44eb-9ae3-740ecb02a687",
   "metadata": {
    "collapsed": true,
    "jupyter": {
     "outputs_hidden": true
    },
    "scrolled": true
   },
   "outputs": [
    {
     "data": {
      "text/html": [
       "<table>\n",
       "    <thead>\n",
       "        <tr>\n",
       "            <th>content</th>\n",
       "            <th>file_path</th>\n",
       "            <th>file_format</th>\n",
       "            <th>spec_id</th>\n",
       "            <th>partition</th>\n",
       "            <th>record_count</th>\n",
       "            <th>file_size_in_bytes</th>\n",
       "            <th>column_sizes</th>\n",
       "            <th>value_counts</th>\n",
       "            <th>null_value_counts</th>\n",
       "            <th>nan_value_counts</th>\n",
       "            <th>lower_bounds</th>\n",
       "            <th>upper_bounds</th>\n",
       "            <th>key_metadata</th>\n",
       "            <th>split_offsets</th>\n",
       "            <th>equality_ids</th>\n",
       "            <th>sort_order_id</th>\n",
       "            <th>readable_metrics</th>\n",
       "        </tr>\n",
       "    </thead>\n",
       "    <tbody>\n",
       "        <tr>\n",
       "            <td>0</td>\n",
       "            <td>s3://warehouse/db/flights/data/month=12/00000-939-22846555-129f-4460-bd05-fe6cf2fc1357-0-00001.parquet</td>\n",
       "            <td>PARQUET</td>\n",
       "            <td>0</td>\n",
       "            <td>Row(month=12)</td>\n",
       "            <td>479230</td>\n",
       "            <td>10767738</td>\n",
       "            <td>{1: 1136, 2: 1136, 3: 1299, 4: 1277, 5: 131603, 6: 796273, 7: 786943, 8: 499647, 9: 469992, 10: 158254, 11: 672629, 12: 459886, 13: 328777, 14: 672691, 15: 542137, 16: 578324, 17: 576617, 18: 663728, 19: 673279, 20: 314846, 21: 663918, 22: 673278, 23: 509403, 24: 5312, 25: 13550, 26: 15368, 27: 131307, 28: 58138, 29: 132839, 30: 134974, 31: 73400}</td>\n",
       "            <td>{1: 479230, 2: 479230, 3: 479230, 4: 479230, 5: 479230, 6: 479230, 7: 479230, 8: 479230, 9: 479230, 10: 479230, 11: 479230, 12: 479230, 13: 479230, 14: 479230, 15: 479230, 16: 479230, 17: 479230, 18: 479230, 19: 479230, 20: 479230, 21: 479230, 22: 479230, 23: 479230, 24: 479230, 25: 479230, 26: 479230, 27: 479230, 28: 479230, 29: 479230, 30: 479230, 31: 479230}</td>\n",
       "            <td>{1: 0, 2: 0, 3: 0, 4: 0, 5: 0, 6: 0, 7: 1161, 8: 0, 9: 0, 10: 0, 11: 7679, 12: 7679, 13: 7961, 14: 7961, 15: 0, 16: 9513, 17: 9513, 18: 0, 19: 8453, 20: 8453, 21: 0, 22: 8453, 23: 9513, 24: 0, 25: 0, 26: 471167, 27: 382458, 28: 382458, 29: 382458, 30: 382458, 31: 382458}</td>\n",
       "            <td>{}</td>\n",
       "            <td>{1: bytearray(b&#x27;\\xdf\\x07\\x00\\x00&#x27;), 2: bytearray(b&#x27;\\x0c\\x00\\x00\\x00&#x27;), 3: bytearray(b&#x27;\\x01\\x00\\x00\\x00&#x27;), 4: bytearray(b&#x27;\\x01\\x00\\x00\\x00&#x27;), 5: bytearray(b&#x27;AA&#x27;), 6: bytearray(b&#x27;\\x01\\x00\\x00\\x00&#x27;), 7: bytearray(b&#x27;7820L&#x27;), 8: bytearray(b&#x27;ABE&#x27;), 9: bytearray(b&#x27;ABE&#x27;), 10: bytearray(b&#x27;\\x01\\x00\\x00\\x00&#x27;), 11: bytearray(b&#x27;\\x01\\x00\\x00\\x00&#x27;), 12: bytearray(b&#x27;\\xae\\xff\\xff\\xff&#x27;), 13: bytearray(b&#x27;\\x01\\x00\\x00\\x00&#x27;), 14: bytearray(b&#x27;\\x01\\x00\\x00\\x00&#x27;), 15: bytearray(b&#x27;\\x15\\x00\\x00\\x00&#x27;), 16: bytearray(b&#x27;\\x0f\\x00\\x00\\x00&#x27;), 17: bytearray(b&#x27;\\x08\\x00\\x00\\x00&#x27;), 18: bytearray(b&#x27;\\x1f\\x00\\x00\\x00&#x27;), 19: bytearray(b&#x27;\\x01\\x00\\x00\\x00&#x27;), 20: bytearray(b&#x27;\\x01\\x00\\x00\\x00&#x27;), 21: bytearray(b&#x27;\\x01\\x00\\x00\\x00&#x27;), 22: bytearray(b&#x27;\\x01\\x00\\x00\\x00&#x27;), 23: bytearray(b&#x27;\\xb0\\xff\\xff\\xff&#x27;), 24: bytearray(b&#x27;\\x00\\x00\\x00\\x00&#x27;), 25: bytearray(b&#x27;\\x00\\x00\\x00\\x00&#x27;), 26: bytearray(b&#x27;A&#x27;), 27: bytearray(b&#x27;\\x00\\x00\\x00\\x00&#x27;), 28: bytearray(b&#x27;\\x00\\x00\\x00\\x00&#x27;), 29: bytearray(b&#x27;\\x00\\x00\\x00\\x00&#x27;), 30: bytearray(b&#x27;\\x00\\x00\\x00\\x00&#x27;), 31: bytearray(b&#x27;\\x00\\x00\\x00\\x00&#x27;)}</td>\n",
       "            <td>{1: bytearray(b&#x27;\\xdf\\x07\\x00\\x00&#x27;), 2: bytearray(b&#x27;\\x0c\\x00\\x00\\x00&#x27;), 3: bytearray(b&#x27;\\x1f\\x00\\x00\\x00&#x27;), 4: bytearray(b&#x27;\\x07\\x00\\x00\\x00&#x27;), 5: bytearray(b&#x27;WN&#x27;), 6: bytearray(b&#x27;\\xfd \\x00\\x00&#x27;), 7: bytearray(b&#x27;N9EAMQ&#x27;), 8: bytearray(b&#x27;YUM&#x27;), 9: bytearray(b&#x27;YUM&#x27;), 10: bytearray(b&#x27;7\\t\\x00\\x00&#x27;), 11: bytearray(b&#x27;`\\t\\x00\\x00&#x27;), 12: bytearray(b&#x27;q\\x06\\x00\\x00&#x27;), 13: bytearray(b&#x27;\\xac\\x00\\x00\\x00&#x27;), 14: bytearray(b&#x27;`\\t\\x00\\x00&#x27;), 15: bytearray(b&#x27;\\xc1\\x02\\x00\\x00&#x27;), 16: bytearray(b&#x27;\\xda\\x02\\x00\\x00&#x27;), 17: bytearray(b&#x27;\\xb2\\x02\\x00\\x00&#x27;), 18: bytearray(b&#x27;w\\x13\\x00\\x00&#x27;), 19: bytearray(b&#x27;`\\t\\x00\\x00&#x27;), 20: bytearray(b&#x27;\\xf8\\x00\\x00\\x00&#x27;), 21: bytearray(b&#x27;7\\t\\x00\\x00&#x27;), 22: bytearray(b&#x27;`\\t\\x00\\x00&#x27;), 23: bytearray(b&#x27;d\\x06\\x00\\x00&#x27;), 24: bytearray(b&#x27;\\x01\\x00\\x00\\x00&#x27;), 25: bytearray(b&#x27;\\x01\\x00\\x00\\x00&#x27;), 26: bytearray(b&#x27;C&#x27;), 27: bytearray(b&#x27;\\x19\\x04\\x00\\x00&#x27;), 28: bytearray(b&#x27;\\x9a\\x00\\x00\\x00&#x27;), 29: bytearray(b&#x27;d\\x06\\x00\\x00&#x27;), 30: bytearray(b&#x27;\\xa6\\x04\\x00\\x00&#x27;), 31: bytearray(b&#x27;\\xbb\\x04\\x00\\x00&#x27;)}</td>\n",
       "            <td>None</td>\n",
       "            <td>[4]</td>\n",
       "            <td>None</td>\n",
       "            <td>0</td>\n",
       "            <td>Row(air_system_delay=Row(column_size=131307, value_count=479230, null_value_count=382458, nan_value_count=None, lower_bound=0, upper_bound=1049), air_time=Row(column_size=576617, value_count=479230, null_value_count=9513, nan_value_count=None, lower_bound=8, upper_bound=690), airline=Row(column_size=131603, value_count=479230, null_value_count=0, nan_value_count=None, lower_bound=&#x27;AA&#x27;, upper_bound=&#x27;WN&#x27;), airline_delay=Row(column_size=132839, value_count=479230, null_value_count=382458, nan_value_count=None, lower_bound=0, upper_bound=1636), arrival_delay=Row(column_size=509403, value_count=479230, null_value_count=9513, nan_value_count=None, lower_bound=-80, upper_bound=1636), arrival_time=Row(column_size=673278, value_count=479230, null_value_count=8453, nan_value_count=None, lower_bound=1, upper_bound=2400), cancellation_reason=Row(column_size=15368, value_count=479230, null_value_count=471167, nan_value_count=None, lower_bound=&#x27;A&#x27;, upper_bound=&#x27;C&#x27;), cancelled=Row(column_size=13550, value_count=479230, null_value_count=0, nan_value_count=None, lower_bound=0, upper_bound=1), day=Row(column_size=1299, value_count=479230, null_value_count=0, nan_value_count=None, lower_bound=1, upper_bound=31), day_of_week=Row(column_size=1277, value_count=479230, null_value_count=0, nan_value_count=None, lower_bound=1, upper_bound=7), departure_delay=Row(column_size=459886, value_count=479230, null_value_count=7679, nan_value_count=None, lower_bound=-82, upper_bound=1649), departure_time=Row(column_size=672629, value_count=479230, null_value_count=7679, nan_value_count=None, lower_bound=1, upper_bound=2400), destination_airport=Row(column_size=469992, value_count=479230, null_value_count=0, nan_value_count=None, lower_bound=&#x27;ABE&#x27;, upper_bound=&#x27;YUM&#x27;), distance=Row(column_size=663728, value_count=479230, null_value_count=0, nan_value_count=None, lower_bound=31, upper_bound=4983), diverted=Row(column_size=5312, value_count=479230, null_value_count=0, nan_value_count=None, lower_bound=0, upper_bound=1), elapsed_time=Row(column_size=578324, value_count=479230, null_value_count=9513, nan_value_count=None, lower_bound=15, upper_bound=730), flight_number=Row(column_size=796273, value_count=479230, null_value_count=0, nan_value_count=None, lower_bound=1, upper_bound=8445), late_aircraft_delay=Row(column_size=134974, value_count=479230, null_value_count=382458, nan_value_count=None, lower_bound=0, upper_bound=1190), month=Row(column_size=1136, value_count=479230, null_value_count=0, nan_value_count=None, lower_bound=12, upper_bound=12), origin_airport=Row(column_size=499647, value_count=479230, null_value_count=0, nan_value_count=None, lower_bound=&#x27;ABE&#x27;, upper_bound=&#x27;YUM&#x27;), scheduled_arrival=Row(column_size=663918, value_count=479230, null_value_count=0, nan_value_count=None, lower_bound=1, upper_bound=2359), scheduled_departure=Row(column_size=158254, value_count=479230, null_value_count=0, nan_value_count=None, lower_bound=1, upper_bound=2359), scheduled_time=Row(column_size=542137, value_count=479230, null_value_count=0, nan_value_count=None, lower_bound=21, upper_bound=705), security_delay=Row(column_size=58138, value_count=479230, null_value_count=382458, nan_value_count=None, lower_bound=0, upper_bound=154), tail_number=Row(column_size=786943, value_count=479230, null_value_count=1161, nan_value_count=None, lower_bound=&#x27;7820L&#x27;, upper_bound=&#x27;N9EAMQ&#x27;), taxi_in=Row(column_size=314846, value_count=479230, null_value_count=8453, nan_value_count=None, lower_bound=1, upper_bound=248), taxi_out=Row(column_size=328777, value_count=479230, null_value_count=7961, nan_value_count=None, lower_bound=1, upper_bound=172), weather_delay=Row(column_size=73400, value_count=479230, null_value_count=382458, nan_value_count=None, lower_bound=0, upper_bound=1211), wheels_off=Row(column_size=672691, value_count=479230, null_value_count=7961, nan_value_count=None, lower_bound=1, upper_bound=2400), wheels_on=Row(column_size=673279, value_count=479230, null_value_count=8453, nan_value_count=None, lower_bound=1, upper_bound=2400), year=Row(column_size=1136, value_count=479230, null_value_count=0, nan_value_count=None, lower_bound=2015, upper_bound=2015))</td>\n",
       "        </tr>\n",
       "        <tr>\n",
       "            <td>0</td>\n",
       "            <td>s3://warehouse/db/flights/data/month=1/00001-940-22846555-129f-4460-bd05-fe6cf2fc1357-0-00001.parquet</td>\n",
       "            <td>PARQUET</td>\n",
       "            <td>0</td>\n",
       "            <td>Row(month=1)</td>\n",
       "            <td>469968</td>\n",
       "            <td>10532934</td>\n",
       "            <td>{1: 1136, 2: 1136, 3: 1298, 4: 1280, 5: 134633, 6: 780102, 7: 776295, 8: 483031, 9: 475939, 10: 153371, 11: 660927, 12: 446381, 13: 310506, 14: 661083, 15: 529725, 16: 571562, 17: 567827, 18: 650936, 19: 661462, 20: 267295, 21: 651013, 22: 661462, 23: 500469, 24: 4290, 25: 17434, 26: 20142, 27: 129601, 28: 56268, 29: 129601, 30: 126924, 31: 73997}</td>\n",
       "            <td>{1: 469968, 2: 469968, 3: 469968, 4: 469968, 5: 469968, 6: 469968, 7: 469968, 8: 469968, 9: 469968, 10: 469968, 11: 469968, 12: 469968, 13: 469968, 14: 469968, 15: 469968, 16: 469968, 17: 469968, 18: 469968, 19: 469968, 20: 469968, 21: 469968, 22: 469968, 23: 469968, 24: 469968, 25: 469968, 26: 469968, 27: 469968, 28: 469968, 29: 469968, 30: 469968, 31: 469968}</td>\n",
       "            <td>{1: 0, 2: 0, 3: 0, 4: 0, 5: 0, 6: 0, 7: 2782, 8: 0, 9: 0, 10: 0, 11: 11657, 12: 11657, 13: 11876, 14: 11876, 15: 0, 16: 12955, 17: 12955, 18: 0, 19: 12271, 20: 12271, 21: 0, 22: 12271, 23: 12955, 24: 0, 25: 0, 26: 457986, 27: 374017, 28: 374017, 29: 374017, 30: 374017, 31: 374017}</td>\n",
       "            <td>{}</td>\n",
       "            <td>{1: bytearray(b&#x27;\\xdf\\x07\\x00\\x00&#x27;), 2: bytearray(b&#x27;\\x01\\x00\\x00\\x00&#x27;), 3: bytearray(b&#x27;\\x01\\x00\\x00\\x00&#x27;), 4: bytearray(b&#x27;\\x01\\x00\\x00\\x00&#x27;), 5: bytearray(b&#x27;AA&#x27;), 6: bytearray(b&#x27;\\x01\\x00\\x00\\x00&#x27;), 7: bytearray(b&#x27;N001AA&#x27;), 8: bytearray(b&#x27;ABE&#x27;), 9: bytearray(b&#x27;ABE&#x27;), 10: bytearray(b&#x27;\\x05\\x00\\x00\\x00&#x27;), 11: bytearray(b&#x27;\\x01\\x00\\x00\\x00&#x27;), 12: bytearray(b&#x27;\\xd0\\xff\\xff\\xff&#x27;), 13: bytearray(b&#x27;\\x01\\x00\\x00\\x00&#x27;), 14: bytearray(b&#x27;\\x01\\x00\\x00\\x00&#x27;), 15: bytearray(b&#x27;\\x17\\x00\\x00\\x00&#x27;), 16: bytearray(b&#x27;\\x11\\x00\\x00\\x00&#x27;), 17: bytearray(b&#x27;\\x08\\x00\\x00\\x00&#x27;), 18: bytearray(b&#x27;\\x1f\\x00\\x00\\x00&#x27;), 19: bytearray(b&#x27;\\x01\\x00\\x00\\x00&#x27;), 20: bytearray(b&#x27;\\x01\\x00\\x00\\x00&#x27;), 21: bytearray(b&#x27;\\x01\\x00\\x00\\x00&#x27;), 22: bytearray(b&#x27;\\x01\\x00\\x00\\x00&#x27;), 23: bytearray(b&#x27;\\xae\\xff\\xff\\xff&#x27;), 24: bytearray(b&#x27;\\x00\\x00\\x00\\x00&#x27;), 25: bytearray(b&#x27;\\x00\\x00\\x00\\x00&#x27;), 26: bytearray(b&#x27;A&#x27;), 27: bytearray(b&#x27;\\x00\\x00\\x00\\x00&#x27;), 28: bytearray(b&#x27;\\x00\\x00\\x00\\x00&#x27;), 29: bytearray(b&#x27;\\x00\\x00\\x00\\x00&#x27;), 30: bytearray(b&#x27;\\x00\\x00\\x00\\x00&#x27;), 31: bytearray(b&#x27;\\x00\\x00\\x00\\x00&#x27;)}</td>\n",
       "            <td>{1: bytearray(b&#x27;\\xdf\\x07\\x00\\x00&#x27;), 2: bytearray(b&#x27;\\x01\\x00\\x00\\x00&#x27;), 3: bytearray(b&#x27;\\x1f\\x00\\x00\\x00&#x27;), 4: bytearray(b&#x27;\\x07\\x00\\x00\\x00&#x27;), 5: bytearray(b&#x27;WN&#x27;), 6: bytearray(b&#x27;A&amp;\\x00\\x00&#x27;), 7: bytearray(b&#x27;N9EAMQ&#x27;), 8: bytearray(b&#x27;YUM&#x27;), 9: bytearray(b&#x27;YUM&#x27;), 10: bytearray(b&#x27;7\\t\\x00\\x00&#x27;), 11: bytearray(b&#x27;`\\t\\x00\\x00&#x27;), 12: bytearray(b&#x27;\\xc4\\x07\\x00\\x00&#x27;), 13: bytearray(b&#x27;\\xb0\\x00\\x00\\x00&#x27;), 14: bytearray(b&#x27;`\\t\\x00\\x00&#x27;), 15: bytearray(b&#x27;\\xce\\x02\\x00\\x00&#x27;), 16: bytearray(b&#x27;\\xd4\\x02\\x00\\x00&#x27;), 17: bytearray(b&#x27;\\xa4\\x02\\x00\\x00&#x27;), 18: bytearray(b&#x27;w\\x13\\x00\\x00&#x27;), 19: bytearray(b&#x27;`\\t\\x00\\x00&#x27;), 20: bytearray(b&#x27;\\xb3\\x00\\x00\\x00&#x27;), 21: bytearray(b&#x27;7\\t\\x00\\x00&#x27;), 22: bytearray(b&#x27;`\\t\\x00\\x00&#x27;), 23: bytearray(b&#x27;\\xb3\\x07\\x00\\x00&#x27;), 24: bytearray(b&#x27;\\x01\\x00\\x00\\x00&#x27;), 25: bytearray(b&#x27;\\x01\\x00\\x00\\x00&#x27;), 26: bytearray(b&#x27;D&#x27;), 27: bytearray(b&#x27;&gt;\\x03\\x00\\x00&#x27;), 28: bytearray(b&#x27;\\xf1\\x00\\x00\\x00&#x27;), 29: bytearray(b&#x27;\\xb3\\x07\\x00\\x00&#x27;), 30: bytearray(b&#x27;\\xb4\\x03\\x00\\x00&#x27;), 31: bytearray(b&#x27;\\xaa\\x03\\x00\\x00&#x27;)}</td>\n",
       "            <td>None</td>\n",
       "            <td>[4]</td>\n",
       "            <td>None</td>\n",
       "            <td>0</td>\n",
       "            <td>Row(air_system_delay=Row(column_size=129601, value_count=469968, null_value_count=374017, nan_value_count=None, lower_bound=0, upper_bound=830), air_time=Row(column_size=567827, value_count=469968, null_value_count=12955, nan_value_count=None, lower_bound=8, upper_bound=676), airline=Row(column_size=134633, value_count=469968, null_value_count=0, nan_value_count=None, lower_bound=&#x27;AA&#x27;, upper_bound=&#x27;WN&#x27;), airline_delay=Row(column_size=129601, value_count=469968, null_value_count=374017, nan_value_count=None, lower_bound=0, upper_bound=1971), arrival_delay=Row(column_size=500469, value_count=469968, null_value_count=12955, nan_value_count=None, lower_bound=-82, upper_bound=1971), arrival_time=Row(column_size=661462, value_count=469968, null_value_count=12271, nan_value_count=None, lower_bound=1, upper_bound=2400), cancellation_reason=Row(column_size=20142, value_count=469968, null_value_count=457986, nan_value_count=None, lower_bound=&#x27;A&#x27;, upper_bound=&#x27;D&#x27;), cancelled=Row(column_size=17434, value_count=469968, null_value_count=0, nan_value_count=None, lower_bound=0, upper_bound=1), day=Row(column_size=1298, value_count=469968, null_value_count=0, nan_value_count=None, lower_bound=1, upper_bound=31), day_of_week=Row(column_size=1280, value_count=469968, null_value_count=0, nan_value_count=None, lower_bound=1, upper_bound=7), departure_delay=Row(column_size=446381, value_count=469968, null_value_count=11657, nan_value_count=None, lower_bound=-48, upper_bound=1988), departure_time=Row(column_size=660927, value_count=469968, null_value_count=11657, nan_value_count=None, lower_bound=1, upper_bound=2400), destination_airport=Row(column_size=475939, value_count=469968, null_value_count=0, nan_value_count=None, lower_bound=&#x27;ABE&#x27;, upper_bound=&#x27;YUM&#x27;), distance=Row(column_size=650936, value_count=469968, null_value_count=0, nan_value_count=None, lower_bound=31, upper_bound=4983), diverted=Row(column_size=4290, value_count=469968, null_value_count=0, nan_value_count=None, lower_bound=0, upper_bound=1), elapsed_time=Row(column_size=571562, value_count=469968, null_value_count=12955, nan_value_count=None, lower_bound=17, upper_bound=724), flight_number=Row(column_size=780102, value_count=469968, null_value_count=0, nan_value_count=None, lower_bound=1, upper_bound=9793), late_aircraft_delay=Row(column_size=126924, value_count=469968, null_value_count=374017, nan_value_count=None, lower_bound=0, upper_bound=948), month=Row(column_size=1136, value_count=469968, null_value_count=0, nan_value_count=None, lower_bound=1, upper_bound=1), origin_airport=Row(column_size=483031, value_count=469968, null_value_count=0, nan_value_count=None, lower_bound=&#x27;ABE&#x27;, upper_bound=&#x27;YUM&#x27;), scheduled_arrival=Row(column_size=651013, value_count=469968, null_value_count=0, nan_value_count=None, lower_bound=1, upper_bound=2359), scheduled_departure=Row(column_size=153371, value_count=469968, null_value_count=0, nan_value_count=None, lower_bound=5, upper_bound=2359), scheduled_time=Row(column_size=529725, value_count=469968, null_value_count=0, nan_value_count=None, lower_bound=23, upper_bound=718), security_delay=Row(column_size=56268, value_count=469968, null_value_count=374017, nan_value_count=None, lower_bound=0, upper_bound=241), tail_number=Row(column_size=776295, value_count=469968, null_value_count=2782, nan_value_count=None, lower_bound=&#x27;N001AA&#x27;, upper_bound=&#x27;N9EAMQ&#x27;), taxi_in=Row(column_size=267295, value_count=469968, null_value_count=12271, nan_value_count=None, lower_bound=1, upper_bound=179), taxi_out=Row(column_size=310506, value_count=469968, null_value_count=11876, nan_value_count=None, lower_bound=1, upper_bound=176), weather_delay=Row(column_size=73997, value_count=469968, null_value_count=374017, nan_value_count=None, lower_bound=0, upper_bound=938), wheels_off=Row(column_size=661083, value_count=469968, null_value_count=11876, nan_value_count=None, lower_bound=1, upper_bound=2400), wheels_on=Row(column_size=661462, value_count=469968, null_value_count=12271, nan_value_count=None, lower_bound=1, upper_bound=2400), year=Row(column_size=1136, value_count=469968, null_value_count=0, nan_value_count=None, lower_bound=2015, upper_bound=2015))</td>\n",
       "        </tr>\n",
       "        <tr>\n",
       "            <td>0</td>\n",
       "            <td>s3://warehouse/db/flights/data/month=6/00002-941-22846555-129f-4460-bd05-fe6cf2fc1357-0-00001.parquet</td>\n",
       "            <td>PARQUET</td>\n",
       "            <td>0</td>\n",
       "            <td>Row(month=6)</td>\n",
       "            <td>503897</td>\n",
       "            <td>11434535</td>\n",
       "            <td>{1: 1225, 2: 1225, 3: 1385, 4: 1366, 5: 149356, 6: 834819, 7: 828293, 8: 517778, 9: 500099, 10: 160386, 11: 710956, 12: 519926, 13: 333443, 14: 711224, 15: 561888, 16: 614675, 17: 610076, 18: 697777, 19: 711423, 20: 329866, 21: 697849, 22: 711425, 23: 544611, 24: 6560, 25: 16760, 26: 18964, 27: 153239, 28: 63456, 29: 157053, 30: 156089, 31: 83970}</td>\n",
       "            <td>{1: 503897, 2: 503897, 3: 503897, 4: 503897, 5: 503897, 6: 503897, 7: 503897, 8: 503897, 9: 503897, 10: 503897, 11: 503897, 12: 503897, 13: 503897, 14: 503897, 15: 503897, 16: 503897, 17: 503897, 18: 503897, 19: 503897, 20: 503897, 21: 503897, 22: 503897, 23: 503897, 24: 503897, 25: 503897, 26: 503897, 27: 503897, 28: 503897, 29: 503897, 30: 503897, 31: 503897}</td>\n",
       "            <td>{1: 0, 2: 0, 3: 0, 4: 0, 5: 0, 6: 0, 7: 1475, 8: 0, 9: 0, 10: 0, 11: 8698, 12: 8698, 13: 9055, 14: 9055, 15: 0, 16: 11050, 17: 11050, 18: 0, 19: 9389, 20: 9389, 21: 0, 22: 9389, 23: 11050, 24: 0, 25: 0, 26: 494777, 27: 388155, 28: 388155, 29: 388155, 30: 388155, 31: 388155}</td>\n",
       "            <td>{}</td>\n",
       "            <td>{1: bytearray(b&#x27;\\xdf\\x07\\x00\\x00&#x27;), 2: bytearray(b&#x27;\\x06\\x00\\x00\\x00&#x27;), 3: bytearray(b&#x27;\\x01\\x00\\x00\\x00&#x27;), 4: bytearray(b&#x27;\\x01\\x00\\x00\\x00&#x27;), 5: bytearray(b&#x27;AA&#x27;), 6: bytearray(b&#x27;\\x01\\x00\\x00\\x00&#x27;), 7: bytearray(b&#x27;N001AA&#x27;), 8: bytearray(b&#x27;ABE&#x27;), 9: bytearray(b&#x27;ABE&#x27;), 10: bytearray(b&#x27;\\x03\\x00\\x00\\x00&#x27;), 11: bytearray(b&#x27;\\x01\\x00\\x00\\x00&#x27;), 12: bytearray(b&#x27;\\xcc\\xff\\xff\\xff&#x27;), 13: bytearray(b&#x27;\\x01\\x00\\x00\\x00&#x27;), 14: bytearray(b&#x27;\\x01\\x00\\x00\\x00&#x27;), 15: bytearray(b&#x27;\\x12\\x00\\x00\\x00&#x27;), 16: bytearray(b&#x27;\\x0f\\x00\\x00\\x00&#x27;), 17: bytearray(b&#x27;\\x07\\x00\\x00\\x00&#x27;), 18: bytearray(b&#x27;\\x1f\\x00\\x00\\x00&#x27;), 19: bytearray(b&#x27;\\x01\\x00\\x00\\x00&#x27;), 20: bytearray(b&#x27;\\x01\\x00\\x00\\x00&#x27;), 21: bytearray(b&#x27;\\x01\\x00\\x00\\x00&#x27;), 22: bytearray(b&#x27;\\x01\\x00\\x00\\x00&#x27;), 23: bytearray(b&#x27;\\xbe\\xff\\xff\\xff&#x27;), 24: bytearray(b&#x27;\\x00\\x00\\x00\\x00&#x27;), 25: bytearray(b&#x27;\\x00\\x00\\x00\\x00&#x27;), 26: bytearray(b&#x27;A&#x27;), 27: bytearray(b&#x27;\\x00\\x00\\x00\\x00&#x27;), 28: bytearray(b&#x27;\\x00\\x00\\x00\\x00&#x27;), 29: bytearray(b&#x27;\\x00\\x00\\x00\\x00&#x27;), 30: bytearray(b&#x27;\\x00\\x00\\x00\\x00&#x27;), 31: bytearray(b&#x27;\\x00\\x00\\x00\\x00&#x27;)}</td>\n",
       "            <td>{1: bytearray(b&#x27;\\xdf\\x07\\x00\\x00&#x27;), 2: bytearray(b&#x27;\\x06\\x00\\x00\\x00&#x27;), 3: bytearray(b&#x27;\\x1e\\x00\\x00\\x00&#x27;), 4: bytearray(b&#x27;\\x07\\x00\\x00\\x00&#x27;), 5: bytearray(b&#x27;WN&#x27;), 6: bytearray(b&#x27;\\x0e\\x1d\\x00\\x00&#x27;), 7: bytearray(b&#x27;N9EAMQ&#x27;), 8: bytearray(b&#x27;YUM&#x27;), 9: bytearray(b&#x27;YUM&#x27;), 10: bytearray(b&#x27;7\\t\\x00\\x00&#x27;), 11: bytearray(b&#x27;`\\t\\x00\\x00&#x27;), 12: bytearray(b&#x27;\\xf2\\x05\\x00\\x00&#x27;), 13: bytearray(b&#x27;\\xa4\\x00\\x00\\x00&#x27;), 14: bytearray(b&#x27;`\\t\\x00\\x00&#x27;), 15: bytearray(b&#x27;\\x99\\x02\\x00\\x00&#x27;), 16: bytearray(b&#x27;\\xab\\x02\\x00\\x00&#x27;), 17: bytearray(b&#x27;\\x8b\\x02\\x00\\x00&#x27;), 18: bytearray(b&#x27;w\\x13\\x00\\x00&#x27;), 19: bytearray(b&#x27;`\\t\\x00\\x00&#x27;), 20: bytearray(b&#x27;\\xac\\x00\\x00\\x00&#x27;), 21: bytearray(b&#x27;7\\t\\x00\\x00&#x27;), 22: bytearray(b&#x27;`\\t\\x00\\x00&#x27;), 23: bytearray(b&#x27;\\xe4\\x05\\x00\\x00&#x27;), 24: bytearray(b&#x27;\\x01\\x00\\x00\\x00&#x27;), 25: bytearray(b&#x27;\\x01\\x00\\x00\\x00&#x27;), 26: bytearray(b&#x27;C&#x27;), 27: bytearray(b&#x27;\\xdf\\x03\\x00\\x00&#x27;), 28: bytearray(b&#x27;\\xbf\\x00\\x00\\x00&#x27;), 29: bytearray(b&#x27;\\xe4\\x05\\x00\\x00&#x27;), 30: bytearray(b&#x27;\\xf2\\x03\\x00\\x00&#x27;), 31: bytearray(b&#x27;,\\x04\\x00\\x00&#x27;)}</td>\n",
       "            <td>None</td>\n",
       "            <td>[4]</td>\n",
       "            <td>None</td>\n",
       "            <td>0</td>\n",
       "            <td>Row(air_system_delay=Row(column_size=153239, value_count=503897, null_value_count=388155, nan_value_count=None, lower_bound=0, upper_bound=991), air_time=Row(column_size=610076, value_count=503897, null_value_count=11050, nan_value_count=None, lower_bound=7, upper_bound=651), airline=Row(column_size=149356, value_count=503897, null_value_count=0, nan_value_count=None, lower_bound=&#x27;AA&#x27;, upper_bound=&#x27;WN&#x27;), airline_delay=Row(column_size=157053, value_count=503897, null_value_count=388155, nan_value_count=None, lower_bound=0, upper_bound=1508), arrival_delay=Row(column_size=544611, value_count=503897, null_value_count=11050, nan_value_count=None, lower_bound=-66, upper_bound=1508), arrival_time=Row(column_size=711425, value_count=503897, null_value_count=9389, nan_value_count=None, lower_bound=1, upper_bound=2400), cancellation_reason=Row(column_size=18964, value_count=503897, null_value_count=494777, nan_value_count=None, lower_bound=&#x27;A&#x27;, upper_bound=&#x27;C&#x27;), cancelled=Row(column_size=16760, value_count=503897, null_value_count=0, nan_value_count=None, lower_bound=0, upper_bound=1), day=Row(column_size=1385, value_count=503897, null_value_count=0, nan_value_count=None, lower_bound=1, upper_bound=30), day_of_week=Row(column_size=1366, value_count=503897, null_value_count=0, nan_value_count=None, lower_bound=1, upper_bound=7), departure_delay=Row(column_size=519926, value_count=503897, null_value_count=8698, nan_value_count=None, lower_bound=-52, upper_bound=1522), departure_time=Row(column_size=710956, value_count=503897, null_value_count=8698, nan_value_count=None, lower_bound=1, upper_bound=2400), destination_airport=Row(column_size=500099, value_count=503897, null_value_count=0, nan_value_count=None, lower_bound=&#x27;ABE&#x27;, upper_bound=&#x27;YUM&#x27;), distance=Row(column_size=697777, value_count=503897, null_value_count=0, nan_value_count=None, lower_bound=31, upper_bound=4983), diverted=Row(column_size=6560, value_count=503897, null_value_count=0, nan_value_count=None, lower_bound=0, upper_bound=1), elapsed_time=Row(column_size=614675, value_count=503897, null_value_count=11050, nan_value_count=None, lower_bound=15, upper_bound=683), flight_number=Row(column_size=834819, value_count=503897, null_value_count=0, nan_value_count=None, lower_bound=1, upper_bound=7438), late_aircraft_delay=Row(column_size=156089, value_count=503897, null_value_count=388155, nan_value_count=None, lower_bound=0, upper_bound=1010), month=Row(column_size=1225, value_count=503897, null_value_count=0, nan_value_count=None, lower_bound=6, upper_bound=6), origin_airport=Row(column_size=517778, value_count=503897, null_value_count=0, nan_value_count=None, lower_bound=&#x27;ABE&#x27;, upper_bound=&#x27;YUM&#x27;), scheduled_arrival=Row(column_size=697849, value_count=503897, null_value_count=0, nan_value_count=None, lower_bound=1, upper_bound=2359), scheduled_departure=Row(column_size=160386, value_count=503897, null_value_count=0, nan_value_count=None, lower_bound=3, upper_bound=2359), scheduled_time=Row(column_size=561888, value_count=503897, null_value_count=0, nan_value_count=None, lower_bound=18, upper_bound=665), security_delay=Row(column_size=63456, value_count=503897, null_value_count=388155, nan_value_count=None, lower_bound=0, upper_bound=191), tail_number=Row(column_size=828293, value_count=503897, null_value_count=1475, nan_value_count=None, lower_bound=&#x27;N001AA&#x27;, upper_bound=&#x27;N9EAMQ&#x27;), taxi_in=Row(column_size=329866, value_count=503897, null_value_count=9389, nan_value_count=None, lower_bound=1, upper_bound=172), taxi_out=Row(column_size=333443, value_count=503897, null_value_count=9055, nan_value_count=None, lower_bound=1, upper_bound=164), weather_delay=Row(column_size=83970, value_count=503897, null_value_count=388155, nan_value_count=None, lower_bound=0, upper_bound=1068), wheels_off=Row(column_size=711224, value_count=503897, null_value_count=9055, nan_value_count=None, lower_bound=1, upper_bound=2400), wheels_on=Row(column_size=711423, value_count=503897, null_value_count=9389, nan_value_count=None, lower_bound=1, upper_bound=2400), year=Row(column_size=1225, value_count=503897, null_value_count=0, nan_value_count=None, lower_bound=2015, upper_bound=2015))</td>\n",
       "        </tr>\n",
       "        <tr>\n",
       "            <td>0</td>\n",
       "            <td>s3://warehouse/db/flights/data/month=3/00003-942-22846555-129f-4460-bd05-fe6cf2fc1357-0-00001.parquet</td>\n",
       "            <td>PARQUET</td>\n",
       "            <td>0</td>\n",
       "            <td>Row(month=3)</td>\n",
       "            <td>504312</td>\n",
       "            <td>11302473</td>\n",
       "            <td>{1: 1225, 2: 1224, 3: 1385, 4: 1368, 5: 147546, 6: 835804, 7: 828220, 8: 525790, 9: 500117, 10: 161509, 11: 706366, 12: 497476, 13: 314730, 14: 706546, 15: 570469, 16: 608410, 17: 600359, 18: 698293, 19: 706262, 20: 340633, 21: 698432, 22: 706262, 23: 542286, 24: 4888, 25: 16379, 26: 18055, 27: 126940, 28: 60267, 29: 135736, 30: 139215, 31: 72937}</td>\n",
       "            <td>{1: 504312, 2: 504312, 3: 504312, 4: 504312, 5: 504312, 6: 504312, 7: 504312, 8: 504312, 9: 504312, 10: 504312, 11: 504312, 12: 504312, 13: 504312, 14: 504312, 15: 504312, 16: 504312, 17: 504312, 18: 504312, 19: 504312, 20: 504312, 21: 504312, 22: 504312, 23: 504312, 24: 504312, 25: 504312, 26: 504312, 27: 504312, 28: 504312, 29: 504312, 30: 504312, 31: 504312}</td>\n",
       "            <td>{1: 0, 2: 0, 3: 0, 4: 0, 5: 0, 6: 0, 7: 1814, 8: 0, 9: 0, 10: 0, 11: 10639, 12: 10639, 13: 10883, 14: 10883, 15: 0, 16: 12174, 17: 12174, 18: 0, 19: 11275, 20: 11275, 21: 0, 22: 11275, 23: 12174, 24: 0, 25: 0, 26: 493310, 27: 408860, 28: 408860, 29: 408860, 30: 408860, 31: 408860}</td>\n",
       "            <td>{}</td>\n",
       "            <td>{1: bytearray(b&#x27;\\xdf\\x07\\x00\\x00&#x27;), 2: bytearray(b&#x27;\\x03\\x00\\x00\\x00&#x27;), 3: bytearray(b&#x27;\\x01\\x00\\x00\\x00&#x27;), 4: bytearray(b&#x27;\\x01\\x00\\x00\\x00&#x27;), 5: bytearray(b&#x27;AA&#x27;), 6: bytearray(b&#x27;\\x01\\x00\\x00\\x00&#x27;), 7: bytearray(b&#x27;D942DN&#x27;), 8: bytearray(b&#x27;ABE&#x27;), 9: bytearray(b&#x27;ABE&#x27;), 10: bytearray(b&#x27;\\x01\\x00\\x00\\x00&#x27;), 11: bytearray(b&#x27;\\x01\\x00\\x00\\x00&#x27;), 12: bytearray(b&#x27;\\xd7\\xff\\xff\\xff&#x27;), 13: bytearray(b&#x27;\\x01\\x00\\x00\\x00&#x27;), 14: bytearray(b&#x27;\\x01\\x00\\x00\\x00&#x27;), 15: bytearray(b&#x27;\\x14\\x00\\x00\\x00&#x27;), 16: bytearray(b&#x27;\\x0f\\x00\\x00\\x00&#x27;), 17: bytearray(b&#x27;\\x07\\x00\\x00\\x00&#x27;), 18: bytearray(b&#x27;\\x1f\\x00\\x00\\x00&#x27;), 19: bytearray(b&#x27;\\x01\\x00\\x00\\x00&#x27;), 20: bytearray(b&#x27;\\x01\\x00\\x00\\x00&#x27;), 21: bytearray(b&#x27;\\x01\\x00\\x00\\x00&#x27;), 22: bytearray(b&#x27;\\x01\\x00\\x00\\x00&#x27;), 23: bytearray(b&#x27;\\xa9\\xff\\xff\\xff&#x27;), 24: bytearray(b&#x27;\\x00\\x00\\x00\\x00&#x27;), 25: bytearray(b&#x27;\\x00\\x00\\x00\\x00&#x27;), 26: bytearray(b&#x27;A&#x27;), 27: bytearray(b&#x27;\\x00\\x00\\x00\\x00&#x27;), 28: bytearray(b&#x27;\\x00\\x00\\x00\\x00&#x27;), 29: bytearray(b&#x27;\\x00\\x00\\x00\\x00&#x27;), 30: bytearray(b&#x27;\\x00\\x00\\x00\\x00&#x27;), 31: bytearray(b&#x27;\\x00\\x00\\x00\\x00&#x27;)}</td>\n",
       "            <td>{1: bytearray(b&#x27;\\xdf\\x07\\x00\\x00&#x27;), 2: bytearray(b&#x27;\\x03\\x00\\x00\\x00&#x27;), 3: bytearray(b&#x27;\\x1f\\x00\\x00\\x00&#x27;), 4: bytearray(b&#x27;\\x07\\x00\\x00\\x00&#x27;), 5: bytearray(b&#x27;WN&#x27;), 6: bytearray(b&#x27;B&amp;\\x00\\x00&#x27;), 7: bytearray(b&#x27;N9EAMQ&#x27;), 8: bytearray(b&#x27;YUM&#x27;), 9: bytearray(b&#x27;YUM&#x27;), 10: bytearray(b&#x27;7\\t\\x00\\x00&#x27;), 11: bytearray(b&#x27;`\\t\\x00\\x00&#x27;), 12: bytearray(b&#x27;I\\x06\\x00\\x00&#x27;), 13: bytearray(b&#x27;\\xb4\\x00\\x00\\x00&#x27;), 14: bytearray(b&#x27;`\\t\\x00\\x00&#x27;), 15: bytearray(b&#x27;\\xa8\\x02\\x00\\x00&#x27;), 16: bytearray(b&#x27;\\xdd\\x02\\x00\\x00&#x27;), 17: bytearray(b&#x27;\\xb2\\x02\\x00\\x00&#x27;), 18: bytearray(b&#x27;w\\x13\\x00\\x00&#x27;), 19: bytearray(b&#x27;`\\t\\x00\\x00&#x27;), 20: bytearray(b&#x27;\\xa9\\x00\\x00\\x00&#x27;), 21: bytearray(b&#x27;`\\t\\x00\\x00&#x27;), 22: bytearray(b&#x27;`\\t\\x00\\x00&#x27;), 23: bytearray(b&#x27;&gt;\\x06\\x00\\x00&#x27;), 24: bytearray(b&#x27;\\x01\\x00\\x00\\x00&#x27;), 25: bytearray(b&#x27;\\x01\\x00\\x00\\x00&#x27;), 26: bytearray(b&#x27;D&#x27;), 27: bytearray(b&#x27;M\\x04\\x00\\x00&#x27;), 28: bytearray(b&#x27;\\xdd\\x00\\x00\\x00&#x27;), 29: bytearray(b&#x27;(\\x06\\x00\\x00&#x27;), 30: bytearray(b&#x27;N\\x04\\x00\\x00&#x27;), 31: bytearray(b&#x27;^\\x04\\x00\\x00&#x27;)}</td>\n",
       "            <td>None</td>\n",
       "            <td>[4]</td>\n",
       "            <td>None</td>\n",
       "            <td>0</td>\n",
       "            <td>Row(air_system_delay=Row(column_size=126940, value_count=504312, null_value_count=408860, nan_value_count=None, lower_bound=0, upper_bound=1101), air_time=Row(column_size=600359, value_count=504312, null_value_count=12174, nan_value_count=None, lower_bound=7, upper_bound=690), airline=Row(column_size=147546, value_count=504312, null_value_count=0, nan_value_count=None, lower_bound=&#x27;AA&#x27;, upper_bound=&#x27;WN&#x27;), airline_delay=Row(column_size=135736, value_count=504312, null_value_count=408860, nan_value_count=None, lower_bound=0, upper_bound=1576), arrival_delay=Row(column_size=542286, value_count=504312, null_value_count=12174, nan_value_count=None, lower_bound=-87, upper_bound=1598), arrival_time=Row(column_size=706262, value_count=504312, null_value_count=11275, nan_value_count=None, lower_bound=1, upper_bound=2400), cancellation_reason=Row(column_size=18055, value_count=504312, null_value_count=493310, nan_value_count=None, lower_bound=&#x27;A&#x27;, upper_bound=&#x27;D&#x27;), cancelled=Row(column_size=16379, value_count=504312, null_value_count=0, nan_value_count=None, lower_bound=0, upper_bound=1), day=Row(column_size=1385, value_count=504312, null_value_count=0, nan_value_count=None, lower_bound=1, upper_bound=31), day_of_week=Row(column_size=1368, value_count=504312, null_value_count=0, nan_value_count=None, lower_bound=1, upper_bound=7), departure_delay=Row(column_size=497476, value_count=504312, null_value_count=10639, nan_value_count=None, lower_bound=-41, upper_bound=1609), departure_time=Row(column_size=706366, value_count=504312, null_value_count=10639, nan_value_count=None, lower_bound=1, upper_bound=2400), destination_airport=Row(column_size=500117, value_count=504312, null_value_count=0, nan_value_count=None, lower_bound=&#x27;ABE&#x27;, upper_bound=&#x27;YUM&#x27;), distance=Row(column_size=698293, value_count=504312, null_value_count=0, nan_value_count=None, lower_bound=31, upper_bound=4983), diverted=Row(column_size=4888, value_count=504312, null_value_count=0, nan_value_count=None, lower_bound=0, upper_bound=1), elapsed_time=Row(column_size=608410, value_count=504312, null_value_count=12174, nan_value_count=None, lower_bound=15, upper_bound=733), flight_number=Row(column_size=835804, value_count=504312, null_value_count=0, nan_value_count=None, lower_bound=1, upper_bound=9794), late_aircraft_delay=Row(column_size=139215, value_count=504312, null_value_count=408860, nan_value_count=None, lower_bound=0, upper_bound=1102), month=Row(column_size=1224, value_count=504312, null_value_count=0, nan_value_count=None, lower_bound=3, upper_bound=3), origin_airport=Row(column_size=525790, value_count=504312, null_value_count=0, nan_value_count=None, lower_bound=&#x27;ABE&#x27;, upper_bound=&#x27;YUM&#x27;), scheduled_arrival=Row(column_size=698432, value_count=504312, null_value_count=0, nan_value_count=None, lower_bound=1, upper_bound=2400), scheduled_departure=Row(column_size=161509, value_count=504312, null_value_count=0, nan_value_count=None, lower_bound=1, upper_bound=2359), scheduled_time=Row(column_size=570469, value_count=504312, null_value_count=0, nan_value_count=None, lower_bound=20, upper_bound=680), security_delay=Row(column_size=60267, value_count=504312, null_value_count=408860, nan_value_count=None, lower_bound=0, upper_bound=221), tail_number=Row(column_size=828220, value_count=504312, null_value_count=1814, nan_value_count=None, lower_bound=&#x27;D942DN&#x27;, upper_bound=&#x27;N9EAMQ&#x27;), taxi_in=Row(column_size=340633, value_count=504312, null_value_count=11275, nan_value_count=None, lower_bound=1, upper_bound=169), taxi_out=Row(column_size=314730, value_count=504312, null_value_count=10883, nan_value_count=None, lower_bound=1, upper_bound=180), weather_delay=Row(column_size=72937, value_count=504312, null_value_count=408860, nan_value_count=None, lower_bound=0, upper_bound=1118), wheels_off=Row(column_size=706546, value_count=504312, null_value_count=10883, nan_value_count=None, lower_bound=1, upper_bound=2400), wheels_on=Row(column_size=706262, value_count=504312, null_value_count=11275, nan_value_count=None, lower_bound=1, upper_bound=2400), year=Row(column_size=1225, value_count=504312, null_value_count=0, nan_value_count=None, lower_bound=2015, upper_bound=2015))</td>\n",
       "        </tr>\n",
       "        <tr>\n",
       "            <td>0</td>\n",
       "            <td>s3://warehouse/db/flights/data/month=5/00004-943-22846555-129f-4460-bd05-fe6cf2fc1357-0-00001.parquet</td>\n",
       "            <td>PARQUET</td>\n",
       "            <td>0</td>\n",
       "            <td>Row(month=5)</td>\n",
       "            <td>496993</td>\n",
       "            <td>11088572</td>\n",
       "            <td>{1: 1182, 2: 1182, 3: 1346, 4: 1325, 5: 144686, 6: 823619, 7: 814737, 8: 506197, 9: 495986, 10: 158493, 11: 697835, 12: 475032, 13: 325019, 14: 698132, 15: 558271, 16: 598704, 17: 594212, 18: 688171, 19: 698583, 20: 315532, 21: 688301, 22: 698588, 23: 524833, 24: 5901, 25: 12050, 26: 13382, 27: 126404, 28: 58192, 29: 127187, 30: 134532, 31: 74389}</td>\n",
       "            <td>{1: 496993, 2: 496993, 3: 496993, 4: 496993, 5: 496993, 6: 496993, 7: 496993, 8: 496993, 9: 496993, 10: 496993, 11: 496993, 12: 496993, 13: 496993, 14: 496993, 15: 496993, 16: 496993, 17: 496993, 18: 496993, 19: 496993, 20: 496993, 21: 496993, 22: 496993, 23: 496993, 24: 496993, 25: 496993, 26: 496993, 27: 496993, 28: 496993, 29: 496993, 30: 496993, 31: 496993}</td>\n",
       "            <td>{1: 0, 2: 0, 3: 0, 4: 0, 5: 0, 6: 0, 7: 580, 8: 0, 9: 0, 10: 0, 11: 5336, 12: 5336, 13: 5636, 14: 5636, 15: 2, 16: 7352, 17: 7352, 18: 0, 19: 5920, 20: 5920, 21: 0, 22: 5920, 23: 7352, 24: 0, 25: 0, 26: 491299, 27: 407348, 28: 407348, 29: 407348, 30: 407348, 31: 407348}</td>\n",
       "            <td>{}</td>\n",
       "            <td>{1: bytearray(b&#x27;\\xdf\\x07\\x00\\x00&#x27;), 2: bytearray(b&#x27;\\x05\\x00\\x00\\x00&#x27;), 3: bytearray(b&#x27;\\x01\\x00\\x00\\x00&#x27;), 4: bytearray(b&#x27;\\x01\\x00\\x00\\x00&#x27;), 5: bytearray(b&#x27;AA&#x27;), 6: bytearray(b&#x27;\\x01\\x00\\x00\\x00&#x27;), 7: bytearray(b&#x27;N001AA&#x27;), 8: bytearray(b&#x27;ABE&#x27;), 9: bytearray(b&#x27;ABE&#x27;), 10: bytearray(b&#x27;\\x05\\x00\\x00\\x00&#x27;), 11: bytearray(b&#x27;\\x01\\x00\\x00\\x00&#x27;), 12: bytearray(b&#x27;\\xd3\\xff\\xff\\xff&#x27;), 13: bytearray(b&#x27;\\x01\\x00\\x00\\x00&#x27;), 14: bytearray(b&#x27;\\x01\\x00\\x00\\x00&#x27;), 15: bytearray(b&#x27;\\x14\\x00\\x00\\x00&#x27;), 16: bytearray(b&#x27;\\x11\\x00\\x00\\x00&#x27;), 17: bytearray(b&#x27;\\x08\\x00\\x00\\x00&#x27;), 18: bytearray(b&#x27;\\x1f\\x00\\x00\\x00&#x27;), 19: bytearray(b&#x27;\\x01\\x00\\x00\\x00&#x27;), 20: bytearray(b&#x27;\\x01\\x00\\x00\\x00&#x27;), 21: bytearray(b&#x27;\\x01\\x00\\x00\\x00&#x27;), 22: bytearray(b&#x27;\\x01\\x00\\x00\\x00&#x27;), 23: bytearray(b&#x27;\\xb4\\xff\\xff\\xff&#x27;), 24: bytearray(b&#x27;\\x00\\x00\\x00\\x00&#x27;), 25: bytearray(b&#x27;\\x00\\x00\\x00\\x00&#x27;), 26: bytearray(b&#x27;A&#x27;), 27: bytearray(b&#x27;\\x00\\x00\\x00\\x00&#x27;), 28: bytearray(b&#x27;\\x00\\x00\\x00\\x00&#x27;), 29: bytearray(b&#x27;\\x00\\x00\\x00\\x00&#x27;), 30: bytearray(b&#x27;\\x00\\x00\\x00\\x00&#x27;), 31: bytearray(b&#x27;\\x00\\x00\\x00\\x00&#x27;)}</td>\n",
       "            <td>{1: bytearray(b&#x27;\\xdf\\x07\\x00\\x00&#x27;), 2: bytearray(b&#x27;\\x05\\x00\\x00\\x00&#x27;), 3: bytearray(b&#x27;\\x1f\\x00\\x00\\x00&#x27;), 4: bytearray(b&#x27;\\x07\\x00\\x00\\x00&#x27;), 5: bytearray(b&#x27;WN&#x27;), 6: bytearray(b&#x27;\\x0e\\x1d\\x00\\x00&#x27;), 7: bytearray(b&#x27;N9EAMQ&#x27;), 8: bytearray(b&#x27;YUM&#x27;), 9: bytearray(b&#x27;YUM&#x27;), 10: bytearray(b&#x27;7\\t\\x00\\x00&#x27;), 11: bytearray(b&#x27;`\\t\\x00\\x00&#x27;), 12: bytearray(b&#x27;\\xd4\\x05\\x00\\x00&#x27;), 13: bytearray(b&#x27;\\xc8\\x00\\x00\\x00&#x27;), 14: bytearray(b&#x27;`\\t\\x00\\x00&#x27;), 15: bytearray(b&#x27;\\x99\\x02\\x00\\x00&#x27;), 16: bytearray(b&#x27;\\xbe\\x02\\x00\\x00&#x27;), 17: bytearray(b&#x27;\\x88\\x02\\x00\\x00&#x27;), 18: bytearray(b&#x27;w\\x13\\x00\\x00&#x27;), 19: bytearray(b&#x27;`\\t\\x00\\x00&#x27;), 20: bytearray(b&#x27;\\xac\\x00\\x00\\x00&#x27;), 21: bytearray(b&#x27;7\\t\\x00\\x00&#x27;), 22: bytearray(b&#x27;`\\t\\x00\\x00&#x27;), 23: bytearray(b&#x27;\\xc8\\x05\\x00\\x00&#x27;), 24: bytearray(b&#x27;\\x01\\x00\\x00\\x00&#x27;), 25: bytearray(b&#x27;\\x01\\x00\\x00\\x00&#x27;), 26: bytearray(b&#x27;D&#x27;), 27: bytearray(b&#x27;R\\x03\\x00\\x00&#x27;), 28: bytearray(b&#x27;\\xaf\\x00\\x00\\x00&#x27;), 29: bytearray(b&#x27;\\xc8\\x05\\x00\\x00&#x27;), 30: bytearray(b&#x27;3\\x05\\x00\\x00&#x27;), 31: bytearray(b&#x27;\\xfd\\x03\\x00\\x00&#x27;)}</td>\n",
       "            <td>None</td>\n",
       "            <td>[4]</td>\n",
       "            <td>None</td>\n",
       "            <td>0</td>\n",
       "            <td>Row(air_system_delay=Row(column_size=126404, value_count=496993, null_value_count=407348, nan_value_count=None, lower_bound=0, upper_bound=850), air_time=Row(column_size=594212, value_count=496993, null_value_count=7352, nan_value_count=None, lower_bound=8, upper_bound=648), airline=Row(column_size=144686, value_count=496993, null_value_count=0, nan_value_count=None, lower_bound=&#x27;AA&#x27;, upper_bound=&#x27;WN&#x27;), airline_delay=Row(column_size=127187, value_count=496993, null_value_count=407348, nan_value_count=None, lower_bound=0, upper_bound=1480), arrival_delay=Row(column_size=524833, value_count=496993, null_value_count=7352, nan_value_count=None, lower_bound=-76, upper_bound=1480), arrival_time=Row(column_size=698588, value_count=496993, null_value_count=5920, nan_value_count=None, lower_bound=1, upper_bound=2400), cancellation_reason=Row(column_size=13382, value_count=496993, null_value_count=491299, nan_value_count=None, lower_bound=&#x27;A&#x27;, upper_bound=&#x27;D&#x27;), cancelled=Row(column_size=12050, value_count=496993, null_value_count=0, nan_value_count=None, lower_bound=0, upper_bound=1), day=Row(column_size=1346, value_count=496993, null_value_count=0, nan_value_count=None, lower_bound=1, upper_bound=31), day_of_week=Row(column_size=1325, value_count=496993, null_value_count=0, nan_value_count=None, lower_bound=1, upper_bound=7), departure_delay=Row(column_size=475032, value_count=496993, null_value_count=5336, nan_value_count=None, lower_bound=-45, upper_bound=1492), departure_time=Row(column_size=697835, value_count=496993, null_value_count=5336, nan_value_count=None, lower_bound=1, upper_bound=2400), destination_airport=Row(column_size=495986, value_count=496993, null_value_count=0, nan_value_count=None, lower_bound=&#x27;ABE&#x27;, upper_bound=&#x27;YUM&#x27;), distance=Row(column_size=688171, value_count=496993, null_value_count=0, nan_value_count=None, lower_bound=31, upper_bound=4983), diverted=Row(column_size=5901, value_count=496993, null_value_count=0, nan_value_count=None, lower_bound=0, upper_bound=1), elapsed_time=Row(column_size=598704, value_count=496993, null_value_count=7352, nan_value_count=None, lower_bound=17, upper_bound=702), flight_number=Row(column_size=823619, value_count=496993, null_value_count=0, nan_value_count=None, lower_bound=1, upper_bound=7438), late_aircraft_delay=Row(column_size=134532, value_count=496993, null_value_count=407348, nan_value_count=None, lower_bound=0, upper_bound=1331), month=Row(column_size=1182, value_count=496993, null_value_count=0, nan_value_count=None, lower_bound=5, upper_bound=5), origin_airport=Row(column_size=506197, value_count=496993, null_value_count=0, nan_value_count=None, lower_bound=&#x27;ABE&#x27;, upper_bound=&#x27;YUM&#x27;), scheduled_arrival=Row(column_size=688301, value_count=496993, null_value_count=0, nan_value_count=None, lower_bound=1, upper_bound=2359), scheduled_departure=Row(column_size=158493, value_count=496993, null_value_count=0, nan_value_count=None, lower_bound=5, upper_bound=2359), scheduled_time=Row(column_size=558271, value_count=496993, null_value_count=2, nan_value_count=None, lower_bound=20, upper_bound=665), security_delay=Row(column_size=58192, value_count=496993, null_value_count=407348, nan_value_count=None, lower_bound=0, upper_bound=175), tail_number=Row(column_size=814737, value_count=496993, null_value_count=580, nan_value_count=None, lower_bound=&#x27;N001AA&#x27;, upper_bound=&#x27;N9EAMQ&#x27;), taxi_in=Row(column_size=315532, value_count=496993, null_value_count=5920, nan_value_count=None, lower_bound=1, upper_bound=172), taxi_out=Row(column_size=325019, value_count=496993, null_value_count=5636, nan_value_count=None, lower_bound=1, upper_bound=200), weather_delay=Row(column_size=74389, value_count=496993, null_value_count=407348, nan_value_count=None, lower_bound=0, upper_bound=1021), wheels_off=Row(column_size=698132, value_count=496993, null_value_count=5636, nan_value_count=None, lower_bound=1, upper_bound=2400), wheels_on=Row(column_size=698583, value_count=496993, null_value_count=5920, nan_value_count=None, lower_bound=1, upper_bound=2400), year=Row(column_size=1182, value_count=496993, null_value_count=0, nan_value_count=None, lower_bound=2015, upper_bound=2015))</td>\n",
       "        </tr>\n",
       "        <tr>\n",
       "            <td>0</td>\n",
       "            <td>s3://warehouse/db/flights/data/month=9/00005-944-22846555-129f-4460-bd05-fe6cf2fc1357-0-00001.parquet</td>\n",
       "            <td>PARQUET</td>\n",
       "            <td>0</td>\n",
       "            <td>Row(month=9)</td>\n",
       "            <td>464946</td>\n",
       "            <td>10218131</td>\n",
       "            <td>{1: 1133, 2: 1133, 3: 1294, 4: 1272, 5: 132475, 6: 772161, 7: 761893, 8: 486711, 9: 466316, 10: 152759, 11: 649087, 12: 427604, 13: 288333, 14: 649405, 15: 524483, 16: 558138, 17: 552566, 18: 632789, 19: 649770, 20: 311614, 21: 644104, 22: 649763, 23: 473469, 24: 3644, 25: 6418, 26: 6916, 27: 89845, 28: 48963, 29: 95022, 30: 96417, 31: 56999}</td>\n",
       "            <td>{1: 464946, 2: 464946, 3: 464946, 4: 464946, 5: 464946, 6: 464946, 7: 464946, 8: 464946, 9: 464946, 10: 464946, 11: 464946, 12: 464946, 13: 464946, 14: 464946, 15: 464946, 16: 464946, 17: 464946, 18: 464946, 19: 464946, 20: 464946, 21: 464946, 22: 464946, 23: 464946, 24: 464946, 25: 464946, 26: 464946, 27: 464946, 28: 464946, 29: 464946, 30: 464946, 31: 464946}</td>\n",
       "            <td>{1: 0, 2: 0, 3: 0, 4: 0, 5: 0, 6: 0, 7: 318, 8: 0, 9: 0, 10: 0, 11: 1928, 12: 1928, 13: 2050, 14: 2050, 15: 0, 16: 2793, 17: 2793, 18: 0, 19: 2122, 20: 2122, 21: 0, 22: 2122, 23: 2793, 24: 0, 25: 0, 26: 462871, 27: 404885, 28: 404885, 29: 404885, 30: 404885, 31: 404885}</td>\n",
       "            <td>{}</td>\n",
       "            <td>{1: bytearray(b&#x27;\\xdf\\x07\\x00\\x00&#x27;), 2: bytearray(b&#x27;\\t\\x00\\x00\\x00&#x27;), 3: bytearray(b&#x27;\\x01\\x00\\x00\\x00&#x27;), 4: bytearray(b&#x27;\\x01\\x00\\x00\\x00&#x27;), 5: bytearray(b&#x27;AA&#x27;), 6: bytearray(b&#x27;\\x01\\x00\\x00\\x00&#x27;), 7: bytearray(b&#x27;7819A&#x27;), 8: bytearray(b&#x27;ABE&#x27;), 9: bytearray(b&#x27;ABE&#x27;), 10: bytearray(b&#x27;\\x03\\x00\\x00\\x00&#x27;), 11: bytearray(b&#x27;\\x01\\x00\\x00\\x00&#x27;), 12: bytearray(b&#x27;\\xc8\\xff\\xff\\xff&#x27;), 13: bytearray(b&#x27;\\x01\\x00\\x00\\x00&#x27;), 14: bytearray(b&#x27;\\x01\\x00\\x00\\x00&#x27;), 15: bytearray(b&#x27;\\x14\\x00\\x00\\x00&#x27;), 16: bytearray(b&#x27;\\x0f\\x00\\x00\\x00&#x27;), 17: bytearray(b&#x27;\\x07\\x00\\x00\\x00&#x27;), 18: bytearray(b&#x27;\\x1f\\x00\\x00\\x00&#x27;), 19: bytearray(b&#x27;\\x01\\x00\\x00\\x00&#x27;), 20: bytearray(b&#x27;\\x01\\x00\\x00\\x00&#x27;), 21: bytearray(b&#x27;\\x01\\x00\\x00\\x00&#x27;), 22: bytearray(b&#x27;\\x01\\x00\\x00\\x00&#x27;), 23: bytearray(b&#x27;\\xb7\\xff\\xff\\xff&#x27;), 24: bytearray(b&#x27;\\x00\\x00\\x00\\x00&#x27;), 25: bytearray(b&#x27;\\x00\\x00\\x00\\x00&#x27;), 26: bytearray(b&#x27;A&#x27;), 27: bytearray(b&#x27;\\x00\\x00\\x00\\x00&#x27;), 28: bytearray(b&#x27;\\x00\\x00\\x00\\x00&#x27;), 29: bytearray(b&#x27;\\x00\\x00\\x00\\x00&#x27;), 30: bytearray(b&#x27;\\x00\\x00\\x00\\x00&#x27;), 31: bytearray(b&#x27;\\x00\\x00\\x00\\x00&#x27;)}</td>\n",
       "            <td>{1: bytearray(b&#x27;\\xdf\\x07\\x00\\x00&#x27;), 2: bytearray(b&#x27;\\t\\x00\\x00\\x00&#x27;), 3: bytearray(b&#x27;\\x1e\\x00\\x00\\x00&#x27;), 4: bytearray(b&#x27;\\x07\\x00\\x00\\x00&#x27;), 5: bytearray(b&#x27;WN&#x27;), 6: bytearray(b&#x27;\\x0e\\x1d\\x00\\x00&#x27;), 7: bytearray(b&#x27;N9EAMQ&#x27;), 8: bytearray(b&#x27;YUM&#x27;), 9: bytearray(b&#x27;YUM&#x27;), 10: bytearray(b&#x27;7\\t\\x00\\x00&#x27;), 11: bytearray(b&#x27;`\\t\\x00\\x00&#x27;), 12: bytearray(b&#x27;\\x86\\x06\\x00\\x00&#x27;), 13: bytearray(b&#x27;\\xa1\\x00\\x00\\x00&#x27;), 14: bytearray(b&#x27;`\\t\\x00\\x00&#x27;), 15: bytearray(b&#x27;\\x88\\x02\\x00\\x00&#x27;), 16: bytearray(b&#x27;\\xbf\\x02\\x00\\x00&#x27;), 17: bytearray(b&#x27;}\\x02\\x00\\x00&#x27;), 18: bytearray(b&#x27;w\\x13\\x00\\x00&#x27;), 19: bytearray(b&#x27;`\\t\\x00\\x00&#x27;), 20: bytearray(b&#x27;\\x9d\\x00\\x00\\x00&#x27;), 21: bytearray(b&#x27;7\\t\\x00\\x00&#x27;), 22: bytearray(b&#x27;`\\t\\x00\\x00&#x27;), 23: bytearray(b&#x27;\\x81\\x06\\x00\\x00&#x27;), 24: bytearray(b&#x27;\\x01\\x00\\x00\\x00&#x27;), 25: bytearray(b&#x27;\\x01\\x00\\x00\\x00&#x27;), 26: bytearray(b&#x27;C&#x27;), 27: bytearray(b&#x27;\\xa3\\x02\\x00\\x00&#x27;), 28: bytearray(b&#x27;=\\x02\\x00\\x00&#x27;), 29: bytearray(b&#x27;\\x81\\x06\\x00\\x00&#x27;), 30: bytearray(b&#x27;\\xfc\\x02\\x00\\x00&#x27;), 31: bytearray(b&#x27;\\xee\\x02\\x00\\x00&#x27;)}</td>\n",
       "            <td>None</td>\n",
       "            <td>[4]</td>\n",
       "            <td>None</td>\n",
       "            <td>0</td>\n",
       "            <td>Row(air_system_delay=Row(column_size=89845, value_count=464946, null_value_count=404885, nan_value_count=None, lower_bound=0, upper_bound=675), air_time=Row(column_size=552566, value_count=464946, null_value_count=2793, nan_value_count=None, lower_bound=7, upper_bound=637), airline=Row(column_size=132475, value_count=464946, null_value_count=0, nan_value_count=None, lower_bound=&#x27;AA&#x27;, upper_bound=&#x27;WN&#x27;), airline_delay=Row(column_size=95022, value_count=464946, null_value_count=404885, nan_value_count=None, lower_bound=0, upper_bound=1665), arrival_delay=Row(column_size=473469, value_count=464946, null_value_count=2793, nan_value_count=None, lower_bound=-73, upper_bound=1665), arrival_time=Row(column_size=649763, value_count=464946, null_value_count=2122, nan_value_count=None, lower_bound=1, upper_bound=2400), cancellation_reason=Row(column_size=6916, value_count=464946, null_value_count=462871, nan_value_count=None, lower_bound=&#x27;A&#x27;, upper_bound=&#x27;C&#x27;), cancelled=Row(column_size=6418, value_count=464946, null_value_count=0, nan_value_count=None, lower_bound=0, upper_bound=1), day=Row(column_size=1294, value_count=464946, null_value_count=0, nan_value_count=None, lower_bound=1, upper_bound=30), day_of_week=Row(column_size=1272, value_count=464946, null_value_count=0, nan_value_count=None, lower_bound=1, upper_bound=7), departure_delay=Row(column_size=427604, value_count=464946, null_value_count=1928, nan_value_count=None, lower_bound=-56, upper_bound=1670), departure_time=Row(column_size=649087, value_count=464946, null_value_count=1928, nan_value_count=None, lower_bound=1, upper_bound=2400), destination_airport=Row(column_size=466316, value_count=464946, null_value_count=0, nan_value_count=None, lower_bound=&#x27;ABE&#x27;, upper_bound=&#x27;YUM&#x27;), distance=Row(column_size=632789, value_count=464946, null_value_count=0, nan_value_count=None, lower_bound=31, upper_bound=4983), diverted=Row(column_size=3644, value_count=464946, null_value_count=0, nan_value_count=None, lower_bound=0, upper_bound=1), elapsed_time=Row(column_size=558138, value_count=464946, null_value_count=2793, nan_value_count=None, lower_bound=15, upper_bound=703), flight_number=Row(column_size=772161, value_count=464946, null_value_count=0, nan_value_count=None, lower_bound=1, upper_bound=7438), late_aircraft_delay=Row(column_size=96417, value_count=464946, null_value_count=404885, nan_value_count=None, lower_bound=0, upper_bound=764), month=Row(column_size=1133, value_count=464946, null_value_count=0, nan_value_count=None, lower_bound=9, upper_bound=9), origin_airport=Row(column_size=486711, value_count=464946, null_value_count=0, nan_value_count=None, lower_bound=&#x27;ABE&#x27;, upper_bound=&#x27;YUM&#x27;), scheduled_arrival=Row(column_size=644104, value_count=464946, null_value_count=0, nan_value_count=None, lower_bound=1, upper_bound=2359), scheduled_departure=Row(column_size=152759, value_count=464946, null_value_count=0, nan_value_count=None, lower_bound=3, upper_bound=2359), scheduled_time=Row(column_size=524483, value_count=464946, null_value_count=0, nan_value_count=None, lower_bound=20, upper_bound=648), security_delay=Row(column_size=48963, value_count=464946, null_value_count=404885, nan_value_count=None, lower_bound=0, upper_bound=573), tail_number=Row(column_size=761893, value_count=464946, null_value_count=318, nan_value_count=None, lower_bound=&#x27;7819A&#x27;, upper_bound=&#x27;N9EAMQ&#x27;), taxi_in=Row(column_size=311614, value_count=464946, null_value_count=2122, nan_value_count=None, lower_bound=1, upper_bound=157), taxi_out=Row(column_size=288333, value_count=464946, null_value_count=2050, nan_value_count=None, lower_bound=1, upper_bound=161), weather_delay=Row(column_size=56999, value_count=464946, null_value_count=404885, nan_value_count=None, lower_bound=0, upper_bound=750), wheels_off=Row(column_size=649405, value_count=464946, null_value_count=2050, nan_value_count=None, lower_bound=1, upper_bound=2400), wheels_on=Row(column_size=649770, value_count=464946, null_value_count=2122, nan_value_count=None, lower_bound=1, upper_bound=2400), year=Row(column_size=1133, value_count=464946, null_value_count=0, nan_value_count=None, lower_bound=2015, upper_bound=2015))</td>\n",
       "        </tr>\n",
       "        <tr>\n",
       "            <td>0</td>\n",
       "            <td>s3://warehouse/db/flights/data/month=4/00006-945-22846555-129f-4460-bd05-fe6cf2fc1357-0-00001.parquet</td>\n",
       "            <td>PARQUET</td>\n",
       "            <td>0</td>\n",
       "            <td>Row(month=4)</td>\n",
       "            <td>485151</td>\n",
       "            <td>10816223</td>\n",
       "            <td>{1: 1179, 2: 1179, 3: 1341, 4: 1320, 5: 139282, 6: 804792, 7: 795490, 8: 508440, 9: 486408, 10: 155374, 11: 680506, 12: 450093, 13: 319393, 14: 680748, 15: 541736, 16: 590404, 17: 582706, 18: 671887, 19: 681334, 20: 316792, 21: 671966, 22: 681333, 23: 507388, 24: 5300, 25: 10534, 26: 11667, 27: 121533, 28: 55978, 29: 123526, 30: 120765, 31: 69283}</td>\n",
       "            <td>{1: 485151, 2: 485151, 3: 485151, 4: 485151, 5: 485151, 6: 485151, 7: 485151, 8: 485151, 9: 485151, 10: 485151, 11: 485151, 12: 485151, 13: 485151, 14: 485151, 15: 485151, 16: 485151, 17: 485151, 18: 485151, 19: 485151, 20: 485151, 21: 485151, 22: 485151, 23: 485151, 24: 485151, 25: 485151, 26: 485151, 27: 485151, 28: 485151, 29: 485151, 30: 485151, 31: 485151}</td>\n",
       "            <td>{1: 0, 2: 0, 3: 0, 4: 0, 5: 0, 6: 0, 7: 579, 8: 0, 9: 0, 10: 0, 11: 4253, 12: 4253, 13: 4455, 14: 4455, 15: 2, 16: 5900, 17: 5900, 18: 0, 19: 4708, 20: 4708, 21: 0, 22: 4708, 23: 5900, 24: 0, 25: 0, 26: 480631, 27: 402904, 28: 402904, 29: 402904, 30: 402904, 31: 402904}</td>\n",
       "            <td>{}</td>\n",
       "            <td>{1: bytearray(b&#x27;\\xdf\\x07\\x00\\x00&#x27;), 2: bytearray(b&#x27;\\x04\\x00\\x00\\x00&#x27;), 3: bytearray(b&#x27;\\x01\\x00\\x00\\x00&#x27;), 4: bytearray(b&#x27;\\x01\\x00\\x00\\x00&#x27;), 5: bytearray(b&#x27;AA&#x27;), 6: bytearray(b&#x27;\\x01\\x00\\x00\\x00&#x27;), 7: bytearray(b&#x27;N001AA&#x27;), 8: bytearray(b&#x27;ABE&#x27;), 9: bytearray(b&#x27;ABE&#x27;), 10: bytearray(b&#x27;\\x05\\x00\\x00\\x00&#x27;), 11: bytearray(b&#x27;\\x01\\x00\\x00\\x00&#x27;), 12: bytearray(b&#x27;\\xbc\\xff\\xff\\xff&#x27;), 13: bytearray(b&#x27;\\x01\\x00\\x00\\x00&#x27;), 14: bytearray(b&#x27;\\x01\\x00\\x00\\x00&#x27;), 15: bytearray(b&#x27;\\x14\\x00\\x00\\x00&#x27;), 16: bytearray(b&#x27;\\x0f\\x00\\x00\\x00&#x27;), 17: bytearray(b&#x27;\\x08\\x00\\x00\\x00&#x27;), 18: bytearray(b&#x27;\\x15\\x00\\x00\\x00&#x27;), 19: bytearray(b&#x27;\\x01\\x00\\x00\\x00&#x27;), 20: bytearray(b&#x27;\\x01\\x00\\x00\\x00&#x27;), 21: bytearray(b&#x27;\\x01\\x00\\x00\\x00&#x27;), 22: bytearray(b&#x27;\\x01\\x00\\x00\\x00&#x27;), 23: bytearray(b&#x27;\\xa9\\xff\\xff\\xff&#x27;), 24: bytearray(b&#x27;\\x00\\x00\\x00\\x00&#x27;), 25: bytearray(b&#x27;\\x00\\x00\\x00\\x00&#x27;), 26: bytearray(b&#x27;A&#x27;), 27: bytearray(b&#x27;\\x00\\x00\\x00\\x00&#x27;), 28: bytearray(b&#x27;\\x00\\x00\\x00\\x00&#x27;), 29: bytearray(b&#x27;\\x00\\x00\\x00\\x00&#x27;), 30: bytearray(b&#x27;\\x00\\x00\\x00\\x00&#x27;), 31: bytearray(b&#x27;\\x00\\x00\\x00\\x00&#x27;)}</td>\n",
       "            <td>{1: bytearray(b&#x27;\\xdf\\x07\\x00\\x00&#x27;), 2: bytearray(b&#x27;\\x04\\x00\\x00\\x00&#x27;), 3: bytearray(b&#x27;\\x1e\\x00\\x00\\x00&#x27;), 4: bytearray(b&#x27;\\x07\\x00\\x00\\x00&#x27;), 5: bytearray(b&#x27;WN&#x27;), 6: bytearray(b&#x27;\\x0e\\x1d\\x00\\x00&#x27;), 7: bytearray(b&#x27;N9EAMQ&#x27;), 8: bytearray(b&#x27;YUM&#x27;), 9: bytearray(b&#x27;YUM&#x27;), 10: bytearray(b&#x27;7\\t\\x00\\x00&#x27;), 11: bytearray(b&#x27;`\\t\\x00\\x00&#x27;), 12: bytearray(b&#x27;\\x06\\x06\\x00\\x00&#x27;), 13: bytearray(b&#x27;\\x9e\\x00\\x00\\x00&#x27;), 14: bytearray(b&#x27;`\\t\\x00\\x00&#x27;), 15: bytearray(b&#x27;\\xa7\\x02\\x00\\x00&#x27;), 16: bytearray(b&#x27;\\xdf\\x02\\x00\\x00&#x27;), 17: bytearray(b&#x27;\\x99\\x02\\x00\\x00&#x27;), 18: bytearray(b&#x27;w\\x13\\x00\\x00&#x27;), 19: bytearray(b&#x27;`\\t\\x00\\x00&#x27;), 20: bytearray(b&#x27;\\x9e\\x00\\x00\\x00&#x27;), 21: bytearray(b&#x27;`\\t\\x00\\x00&#x27;), 22: bytearray(b&#x27;`\\t\\x00\\x00&#x27;), 23: bytearray(b&#x27;\\x12\\x06\\x00\\x00&#x27;), 24: bytearray(b&#x27;\\x01\\x00\\x00\\x00&#x27;), 25: bytearray(b&#x27;\\x01\\x00\\x00\\x00&#x27;), 26: bytearray(b&#x27;C&#x27;), 27: bytearray(b&#x27;x\\x03\\x00\\x00&#x27;), 28: bytearray(b&#x27;\\xcd\\x00\\x00\\x00&#x27;), 29: bytearray(b&#x27;\\x84\\x04\\x00\\x00&#x27;), 30: bytearray(b&#x27;\\x0e\\x05\\x00\\x00&#x27;), 31: bytearray(b&#x27;\\x1c\\x03\\x00\\x00&#x27;)}</td>\n",
       "            <td>None</td>\n",
       "            <td>[4]</td>\n",
       "            <td>None</td>\n",
       "            <td>0</td>\n",
       "            <td>Row(air_system_delay=Row(column_size=121533, value_count=485151, null_value_count=402904, nan_value_count=None, lower_bound=0, upper_bound=888), air_time=Row(column_size=582706, value_count=485151, null_value_count=5900, nan_value_count=None, lower_bound=8, upper_bound=665), airline=Row(column_size=139282, value_count=485151, null_value_count=0, nan_value_count=None, lower_bound=&#x27;AA&#x27;, upper_bound=&#x27;WN&#x27;), airline_delay=Row(column_size=123526, value_count=485151, null_value_count=402904, nan_value_count=None, lower_bound=0, upper_bound=1156), arrival_delay=Row(column_size=507388, value_count=485151, null_value_count=5900, nan_value_count=None, lower_bound=-87, upper_bound=1554), arrival_time=Row(column_size=681333, value_count=485151, null_value_count=4708, nan_value_count=None, lower_bound=1, upper_bound=2400), cancellation_reason=Row(column_size=11667, value_count=485151, null_value_count=480631, nan_value_count=None, lower_bound=&#x27;A&#x27;, upper_bound=&#x27;C&#x27;), cancelled=Row(column_size=10534, value_count=485151, null_value_count=0, nan_value_count=None, lower_bound=0, upper_bound=1), day=Row(column_size=1341, value_count=485151, null_value_count=0, nan_value_count=None, lower_bound=1, upper_bound=30), day_of_week=Row(column_size=1320, value_count=485151, null_value_count=0, nan_value_count=None, lower_bound=1, upper_bound=7), departure_delay=Row(column_size=450093, value_count=485151, null_value_count=4253, nan_value_count=None, lower_bound=-68, upper_bound=1542), departure_time=Row(column_size=680506, value_count=485151, null_value_count=4253, nan_value_count=None, lower_bound=1, upper_bound=2400), destination_airport=Row(column_size=486408, value_count=485151, null_value_count=0, nan_value_count=None, lower_bound=&#x27;ABE&#x27;, upper_bound=&#x27;YUM&#x27;), distance=Row(column_size=671887, value_count=485151, null_value_count=0, nan_value_count=None, lower_bound=21, upper_bound=4983), diverted=Row(column_size=5300, value_count=485151, null_value_count=0, nan_value_count=None, lower_bound=0, upper_bound=1), elapsed_time=Row(column_size=590404, value_count=485151, null_value_count=5900, nan_value_count=None, lower_bound=15, upper_bound=735), flight_number=Row(column_size=804792, value_count=485151, null_value_count=0, nan_value_count=None, lower_bound=1, upper_bound=7438), late_aircraft_delay=Row(column_size=120765, value_count=485151, null_value_count=402904, nan_value_count=None, lower_bound=0, upper_bound=1294), month=Row(column_size=1179, value_count=485151, null_value_count=0, nan_value_count=None, lower_bound=4, upper_bound=4), origin_airport=Row(column_size=508440, value_count=485151, null_value_count=0, nan_value_count=None, lower_bound=&#x27;ABE&#x27;, upper_bound=&#x27;YUM&#x27;), scheduled_arrival=Row(column_size=671966, value_count=485151, null_value_count=0, nan_value_count=None, lower_bound=1, upper_bound=2400), scheduled_departure=Row(column_size=155374, value_count=485151, null_value_count=0, nan_value_count=None, lower_bound=5, upper_bound=2359), scheduled_time=Row(column_size=541736, value_count=485151, null_value_count=2, nan_value_count=None, lower_bound=20, upper_bound=679), security_delay=Row(column_size=55978, value_count=485151, null_value_count=402904, nan_value_count=None, lower_bound=0, upper_bound=205), tail_number=Row(column_size=795490, value_count=485151, null_value_count=579, nan_value_count=None, lower_bound=&#x27;N001AA&#x27;, upper_bound=&#x27;N9EAMQ&#x27;), taxi_in=Row(column_size=316792, value_count=485151, null_value_count=4708, nan_value_count=None, lower_bound=1, upper_bound=158), taxi_out=Row(column_size=319393, value_count=485151, null_value_count=4455, nan_value_count=None, lower_bound=1, upper_bound=158), weather_delay=Row(column_size=69283, value_count=485151, null_value_count=402904, nan_value_count=None, lower_bound=0, upper_bound=796), wheels_off=Row(column_size=680748, value_count=485151, null_value_count=4455, nan_value_count=None, lower_bound=1, upper_bound=2400), wheels_on=Row(column_size=681334, value_count=485151, null_value_count=4708, nan_value_count=None, lower_bound=1, upper_bound=2400), year=Row(column_size=1179, value_count=485151, null_value_count=0, nan_value_count=None, lower_bound=2015, upper_bound=2015))</td>\n",
       "        </tr>\n",
       "        <tr>\n",
       "            <td>0</td>\n",
       "            <td>s3://warehouse/db/flights/data/month=8/00007-946-22846555-129f-4460-bd05-fe6cf2fc1357-0-00001.parquet</td>\n",
       "            <td>PARQUET</td>\n",
       "            <td>0</td>\n",
       "            <td>Row(month=8)</td>\n",
       "            <td>510536</td>\n",
       "            <td>11439099</td>\n",
       "            <td>{1: 1228, 2: 1228, 3: 1392, 4: 1370, 5: 145875, 6: 845610, 7: 840104, 8: 528633, 9: 501076, 10: 165804, 11: 717036, 12: 515325, 13: 338544, 14: 717441, 15: 577470, 16: 618275, 17: 616805, 18: 706923, 19: 717848, 20: 317878, 21: 706981, 22: 717844, 23: 548835, 24: 5713, 25: 11762, 26: 12960, 27: 129727, 28: 61063, 29: 133533, 30: 131834, 31: 75641}</td>\n",
       "            <td>{1: 510536, 2: 510536, 3: 510536, 4: 510536, 5: 510536, 6: 510536, 7: 510536, 8: 510536, 9: 510536, 10: 510536, 11: 510536, 12: 510536, 13: 510536, 14: 510536, 15: 510536, 16: 510536, 17: 510536, 18: 510536, 19: 510536, 20: 510536, 21: 510536, 22: 510536, 23: 510536, 24: 510536, 25: 510536, 26: 510536, 27: 510536, 28: 510536, 29: 510536, 30: 510536, 31: 510536}</td>\n",
       "            <td>{1: 0, 2: 0, 3: 0, 4: 0, 5: 0, 6: 0, 7: 809, 8: 0, 9: 0, 10: 0, 11: 4719, 12: 4719, 13: 5004, 14: 5004, 15: 0, 16: 6580, 17: 6580, 18: 0, 19: 5218, 20: 5218, 21: 0, 22: 5218, 23: 6580, 24: 0, 25: 0, 26: 505484, 27: 416423, 28: 416423, 29: 416423, 30: 416423, 31: 416423}</td>\n",
       "            <td>{}</td>\n",
       "            <td>{1: bytearray(b&#x27;\\xdf\\x07\\x00\\x00&#x27;), 2: bytearray(b&#x27;\\x08\\x00\\x00\\x00&#x27;), 3: bytearray(b&#x27;\\x01\\x00\\x00\\x00&#x27;), 4: bytearray(b&#x27;\\x01\\x00\\x00\\x00&#x27;), 5: bytearray(b&#x27;AA&#x27;), 6: bytearray(b&#x27;\\x01\\x00\\x00\\x00&#x27;), 7: bytearray(b&#x27;7819A&#x27;), 8: bytearray(b&#x27;ABE&#x27;), 9: bytearray(b&#x27;ABE&#x27;), 10: bytearray(b&#x27;\\x01\\x00\\x00\\x00&#x27;), 11: bytearray(b&#x27;\\x01\\x00\\x00\\x00&#x27;), 12: bytearray(b&#x27;\\xd6\\xff\\xff\\xff&#x27;), 13: bytearray(b&#x27;\\x01\\x00\\x00\\x00&#x27;), 14: bytearray(b&#x27;\\x01\\x00\\x00\\x00&#x27;), 15: bytearray(b&#x27;\\x14\\x00\\x00\\x00&#x27;), 16: bytearray(b&#x27;\\x10\\x00\\x00\\x00&#x27;), 17: bytearray(b&#x27;\\x08\\x00\\x00\\x00&#x27;), 18: bytearray(b&#x27;\\x1f\\x00\\x00\\x00&#x27;), 19: bytearray(b&#x27;\\x01\\x00\\x00\\x00&#x27;), 20: bytearray(b&#x27;\\x01\\x00\\x00\\x00&#x27;), 21: bytearray(b&#x27;\\x01\\x00\\x00\\x00&#x27;), 22: bytearray(b&#x27;\\x01\\x00\\x00\\x00&#x27;), 23: bytearray(b&#x27;\\xb0\\xff\\xff\\xff&#x27;), 24: bytearray(b&#x27;\\x00\\x00\\x00\\x00&#x27;), 25: bytearray(b&#x27;\\x00\\x00\\x00\\x00&#x27;), 26: bytearray(b&#x27;A&#x27;), 27: bytearray(b&#x27;\\x00\\x00\\x00\\x00&#x27;), 28: bytearray(b&#x27;\\x00\\x00\\x00\\x00&#x27;), 29: bytearray(b&#x27;\\x00\\x00\\x00\\x00&#x27;), 30: bytearray(b&#x27;\\x00\\x00\\x00\\x00&#x27;), 31: bytearray(b&#x27;\\x00\\x00\\x00\\x00&#x27;)}</td>\n",
       "            <td>{1: bytearray(b&#x27;\\xdf\\x07\\x00\\x00&#x27;), 2: bytearray(b&#x27;\\x08\\x00\\x00\\x00&#x27;), 3: bytearray(b&#x27;\\x1f\\x00\\x00\\x00&#x27;), 4: bytearray(b&#x27;\\x07\\x00\\x00\\x00&#x27;), 5: bytearray(b&#x27;WN&#x27;), 6: bytearray(b&#x27;\\x7f&amp;\\x00\\x00&#x27;), 7: bytearray(b&#x27;N9EAMQ&#x27;), 8: bytearray(b&#x27;YUM&#x27;), 9: bytearray(b&#x27;YUM&#x27;), 10: bytearray(b&#x27;7\\t\\x00\\x00&#x27;), 11: bytearray(b&#x27;`\\t\\x00\\x00&#x27;), 12: bytearray(b&#x27;V\\x07\\x00\\x00&#x27;), 13: bytearray(b&#x27;\\xaa\\x00\\x00\\x00&#x27;), 14: bytearray(b&#x27;`\\t\\x00\\x00&#x27;), 15: bytearray(b&#x27;\\x8c\\x02\\x00\\x00&#x27;), 16: bytearray(b&#x27;\\xc4\\x02\\x00\\x00&#x27;), 17: bytearray(b&#x27;\\x8b\\x02\\x00\\x00&#x27;), 18: bytearray(b&#x27;w\\x13\\x00\\x00&#x27;), 19: bytearray(b&#x27;`\\t\\x00\\x00&#x27;), 20: bytearray(b&#x27;\\xab\\x00\\x00\\x00&#x27;), 21: bytearray(b&#x27;7\\t\\x00\\x00&#x27;), 22: bytearray(b&#x27;`\\t\\x00\\x00&#x27;), 23: bytearray(b&#x27;j\\x07\\x00\\x00&#x27;), 24: bytearray(b&#x27;\\x01\\x00\\x00\\x00&#x27;), 25: bytearray(b&#x27;\\x01\\x00\\x00\\x00&#x27;), 26: bytearray(b&#x27;D&#x27;), 27: bytearray(b&#x27;n\\x04\\x00\\x00&#x27;), 28: bytearray(b&#x27;\\xdd\\x00\\x00\\x00&#x27;), 29: bytearray(b&#x27;V\\x07\\x00\\x00&#x27;), 30: bytearray(b&quot;\\&#x27;\\x03\\x00\\x00&quot;), 31: bytearray(b&#x27;\\x80\\x03\\x00\\x00&#x27;)}</td>\n",
       "            <td>None</td>\n",
       "            <td>[4]</td>\n",
       "            <td>None</td>\n",
       "            <td>0</td>\n",
       "            <td>Row(air_system_delay=Row(column_size=129727, value_count=510536, null_value_count=416423, nan_value_count=None, lower_bound=0, upper_bound=1134), air_time=Row(column_size=616805, value_count=510536, null_value_count=6580, nan_value_count=None, lower_bound=8, upper_bound=651), airline=Row(column_size=145875, value_count=510536, null_value_count=0, nan_value_count=None, lower_bound=&#x27;AA&#x27;, upper_bound=&#x27;WN&#x27;), airline_delay=Row(column_size=133533, value_count=510536, null_value_count=416423, nan_value_count=None, lower_bound=0, upper_bound=1878), arrival_delay=Row(column_size=548835, value_count=510536, null_value_count=6580, nan_value_count=None, lower_bound=-80, upper_bound=1898), arrival_time=Row(column_size=717844, value_count=510536, null_value_count=5218, nan_value_count=None, lower_bound=1, upper_bound=2400), cancellation_reason=Row(column_size=12960, value_count=510536, null_value_count=505484, nan_value_count=None, lower_bound=&#x27;A&#x27;, upper_bound=&#x27;D&#x27;), cancelled=Row(column_size=11762, value_count=510536, null_value_count=0, nan_value_count=None, lower_bound=0, upper_bound=1), day=Row(column_size=1392, value_count=510536, null_value_count=0, nan_value_count=None, lower_bound=1, upper_bound=31), day_of_week=Row(column_size=1370, value_count=510536, null_value_count=0, nan_value_count=None, lower_bound=1, upper_bound=7), departure_delay=Row(column_size=515325, value_count=510536, null_value_count=4719, nan_value_count=None, lower_bound=-42, upper_bound=1878), departure_time=Row(column_size=717036, value_count=510536, null_value_count=4719, nan_value_count=None, lower_bound=1, upper_bound=2400), destination_airport=Row(column_size=501076, value_count=510536, null_value_count=0, nan_value_count=None, lower_bound=&#x27;ABE&#x27;, upper_bound=&#x27;YUM&#x27;), distance=Row(column_size=706923, value_count=510536, null_value_count=0, nan_value_count=None, lower_bound=31, upper_bound=4983), diverted=Row(column_size=5713, value_count=510536, null_value_count=0, nan_value_count=None, lower_bound=0, upper_bound=1), elapsed_time=Row(column_size=618275, value_count=510536, null_value_count=6580, nan_value_count=None, lower_bound=16, upper_bound=708), flight_number=Row(column_size=845610, value_count=510536, null_value_count=0, nan_value_count=None, lower_bound=1, upper_bound=9855), late_aircraft_delay=Row(column_size=131834, value_count=510536, null_value_count=416423, nan_value_count=None, lower_bound=0, upper_bound=807), month=Row(column_size=1228, value_count=510536, null_value_count=0, nan_value_count=None, lower_bound=8, upper_bound=8), origin_airport=Row(column_size=528633, value_count=510536, null_value_count=0, nan_value_count=None, lower_bound=&#x27;ABE&#x27;, upper_bound=&#x27;YUM&#x27;), scheduled_arrival=Row(column_size=706981, value_count=510536, null_value_count=0, nan_value_count=None, lower_bound=1, upper_bound=2359), scheduled_departure=Row(column_size=165804, value_count=510536, null_value_count=0, nan_value_count=None, lower_bound=1, upper_bound=2359), scheduled_time=Row(column_size=577470, value_count=510536, null_value_count=0, nan_value_count=None, lower_bound=20, upper_bound=652), security_delay=Row(column_size=61063, value_count=510536, null_value_count=416423, nan_value_count=None, lower_bound=0, upper_bound=221), tail_number=Row(column_size=840104, value_count=510536, null_value_count=809, nan_value_count=None, lower_bound=&#x27;7819A&#x27;, upper_bound=&#x27;N9EAMQ&#x27;), taxi_in=Row(column_size=317878, value_count=510536, null_value_count=5218, nan_value_count=None, lower_bound=1, upper_bound=171), taxi_out=Row(column_size=338544, value_count=510536, null_value_count=5004, nan_value_count=None, lower_bound=1, upper_bound=170), weather_delay=Row(column_size=75641, value_count=510536, null_value_count=416423, nan_value_count=None, lower_bound=0, upper_bound=896), wheels_off=Row(column_size=717441, value_count=510536, null_value_count=5004, nan_value_count=None, lower_bound=1, upper_bound=2400), wheels_on=Row(column_size=717848, value_count=510536, null_value_count=5218, nan_value_count=None, lower_bound=1, upper_bound=2400), year=Row(column_size=1228, value_count=510536, null_value_count=0, nan_value_count=None, lower_bound=2015, upper_bound=2015))</td>\n",
       "        </tr>\n",
       "        <tr>\n",
       "            <td>0</td>\n",
       "            <td>s3://warehouse/db/flights/data/month=7/00008-947-22846555-129f-4460-bd05-fe6cf2fc1357-0-00001.parquet</td>\n",
       "            <td>PARQUET</td>\n",
       "            <td>0</td>\n",
       "            <td>Row(month=7)</td>\n",
       "            <td>520718</td>\n",
       "            <td>11755348</td>\n",
       "            <td>{1: 1271, 2: 1271, 3: 1436, 4: 1416, 5: 147021, 6: 862091, 7: 856490, 8: 536054, 9: 517051, 10: 166903, 11: 731819, 12: 518151, 13: 343134, 14: 732234, 15: 588960, 16: 634629, 17: 629355, 18: 720974, 19: 732625, 20: 379857, 21: 721046, 22: 732627, 23: 553566, 24: 5795, 25: 11952, 26: 13254, 27: 140558, 28: 63615, 29: 155884, 30: 147988, 31: 78205}</td>\n",
       "            <td>{1: 520718, 2: 520718, 3: 520718, 4: 520718, 5: 520718, 6: 520718, 7: 520718, 8: 520718, 9: 520718, 10: 520718, 11: 520718, 12: 520718, 13: 520718, 14: 520718, 15: 520718, 16: 520718, 17: 520718, 18: 520718, 19: 520718, 20: 520718, 21: 520718, 22: 520718, 23: 520718, 24: 520718, 25: 520718, 26: 520718, 27: 520718, 28: 520718, 29: 520718, 30: 520718, 31: 520718}</td>\n",
       "            <td>{1: 0, 2: 0, 3: 0, 4: 0, 5: 0, 6: 0, 7: 723, 8: 0, 9: 0, 10: 0, 11: 4507, 12: 4507, 13: 4756, 14: 4756, 15: 0, 16: 6334, 17: 6334, 18: 0, 19: 4947, 20: 4947, 21: 0, 22: 4947, 23: 6334, 24: 0, 25: 0, 26: 515912, 27: 413091, 28: 413091, 29: 413091, 30: 413091, 31: 413091}</td>\n",
       "            <td>{}</td>\n",
       "            <td>{1: bytearray(b&#x27;\\xdf\\x07\\x00\\x00&#x27;), 2: bytearray(b&#x27;\\x07\\x00\\x00\\x00&#x27;), 3: bytearray(b&#x27;\\x01\\x00\\x00\\x00&#x27;), 4: bytearray(b&#x27;\\x01\\x00\\x00\\x00&#x27;), 5: bytearray(b&#x27;AA&#x27;), 6: bytearray(b&#x27;\\x01\\x00\\x00\\x00&#x27;), 7: bytearray(b&#x27;7819A&#x27;), 8: bytearray(b&#x27;ABE&#x27;), 9: bytearray(b&#x27;ABE&#x27;), 10: bytearray(b&#x27;\\x03\\x00\\x00\\x00&#x27;), 11: bytearray(b&#x27;\\x01\\x00\\x00\\x00&#x27;), 12: bytearray(b&#x27;\\xd7\\xff\\xff\\xff&#x27;), 13: bytearray(b&#x27;\\x01\\x00\\x00\\x00&#x27;), 14: bytearray(b&#x27;\\x01\\x00\\x00\\x00&#x27;), 15: bytearray(b&#x27;\\x12\\x00\\x00\\x00&#x27;), 16: bytearray(b&#x27;\\x0e\\x00\\x00\\x00&#x27;), 17: bytearray(b&#x27;\\x07\\x00\\x00\\x00&#x27;), 18: bytearray(b&#x27;\\x1f\\x00\\x00\\x00&#x27;), 19: bytearray(b&#x27;\\x01\\x00\\x00\\x00&#x27;), 20: bytearray(b&#x27;\\x01\\x00\\x00\\x00&#x27;), 21: bytearray(b&#x27;\\x01\\x00\\x00\\x00&#x27;), 22: bytearray(b&#x27;\\x01\\x00\\x00\\x00&#x27;), 23: bytearray(b&#x27;\\xb7\\xff\\xff\\xff&#x27;), 24: bytearray(b&#x27;\\x00\\x00\\x00\\x00&#x27;), 25: bytearray(b&#x27;\\x00\\x00\\x00\\x00&#x27;), 26: bytearray(b&#x27;A&#x27;), 27: bytearray(b&#x27;\\x00\\x00\\x00\\x00&#x27;), 28: bytearray(b&#x27;\\x00\\x00\\x00\\x00&#x27;), 29: bytearray(b&#x27;\\x00\\x00\\x00\\x00&#x27;), 30: bytearray(b&#x27;\\x00\\x00\\x00\\x00&#x27;), 31: bytearray(b&#x27;\\x00\\x00\\x00\\x00&#x27;)}</td>\n",
       "            <td>{1: bytearray(b&#x27;\\xdf\\x07\\x00\\x00&#x27;), 2: bytearray(b&#x27;\\x07\\x00\\x00\\x00&#x27;), 3: bytearray(b&#x27;\\x1f\\x00\\x00\\x00&#x27;), 4: bytearray(b&#x27;\\x07\\x00\\x00\\x00&#x27;), 5: bytearray(b&#x27;WN&#x27;), 6: bytearray(b&#x27;\\x0e\\x1d\\x00\\x00&#x27;), 7: bytearray(b&#x27;N9EAMQ&#x27;), 8: bytearray(b&#x27;YUM&#x27;), 9: bytearray(b&#x27;YUM&#x27;), 10: bytearray(b&#x27;7\\t\\x00\\x00&#x27;), 11: bytearray(b&#x27;`\\t\\x00\\x00&#x27;), 12: bytearray(b&#x27;Y\\x06\\x00\\x00&#x27;), 13: bytearray(b&#x27;\\xa8\\x00\\x00\\x00&#x27;), 14: bytearray(b&#x27;`\\t\\x00\\x00&#x27;), 15: bytearray(b&#x27;\\x8c\\x02\\x00\\x00&#x27;), 16: bytearray(b&#x27;\\xb8\\x02\\x00\\x00&#x27;), 17: bytearray(b&#x27;\\x7f\\x02\\x00\\x00&#x27;), 18: bytearray(b&#x27;w\\x13\\x00\\x00&#x27;), 19: bytearray(b&#x27;`\\t\\x00\\x00&#x27;), 20: bytearray(b&#x27;\\xa4\\x00\\x00\\x00&#x27;), 21: bytearray(b&#x27;7\\t\\x00\\x00&#x27;), 22: bytearray(b&#x27;`\\t\\x00\\x00&#x27;), 23: bytearray(b&#x27;d\\x06\\x00\\x00&#x27;), 24: bytearray(b&#x27;\\x01\\x00\\x00\\x00&#x27;), 25: bytearray(b&#x27;\\x01\\x00\\x00\\x00&#x27;), 26: bytearray(b&#x27;D&#x27;), 27: bytearray(b&#x27;\\x10\\x03\\x00\\x00&#x27;), 28: bytearray(b&#x27;\\x00\\x01\\x00\\x00&#x27;), 29: bytearray(b&#x27;Y\\x06\\x00\\x00&#x27;), 30: bytearray(b&#x27;e\\x03\\x00\\x00&#x27;), 31: bytearray(b&#x27;D\\x03\\x00\\x00&#x27;)}</td>\n",
       "            <td>None</td>\n",
       "            <td>[4]</td>\n",
       "            <td>None</td>\n",
       "            <td>0</td>\n",
       "            <td>Row(air_system_delay=Row(column_size=140558, value_count=520718, null_value_count=413091, nan_value_count=None, lower_bound=0, upper_bound=784), air_time=Row(column_size=629355, value_count=520718, null_value_count=6334, nan_value_count=None, lower_bound=7, upper_bound=639), airline=Row(column_size=147021, value_count=520718, null_value_count=0, nan_value_count=None, lower_bound=&#x27;AA&#x27;, upper_bound=&#x27;WN&#x27;), airline_delay=Row(column_size=155884, value_count=520718, null_value_count=413091, nan_value_count=None, lower_bound=0, upper_bound=1625), arrival_delay=Row(column_size=553566, value_count=520718, null_value_count=6334, nan_value_count=None, lower_bound=-73, upper_bound=1636), arrival_time=Row(column_size=732627, value_count=520718, null_value_count=4947, nan_value_count=None, lower_bound=1, upper_bound=2400), cancellation_reason=Row(column_size=13254, value_count=520718, null_value_count=515912, nan_value_count=None, lower_bound=&#x27;A&#x27;, upper_bound=&#x27;D&#x27;), cancelled=Row(column_size=11952, value_count=520718, null_value_count=0, nan_value_count=None, lower_bound=0, upper_bound=1), day=Row(column_size=1436, value_count=520718, null_value_count=0, nan_value_count=None, lower_bound=1, upper_bound=31), day_of_week=Row(column_size=1416, value_count=520718, null_value_count=0, nan_value_count=None, lower_bound=1, upper_bound=7), departure_delay=Row(column_size=518151, value_count=520718, null_value_count=4507, nan_value_count=None, lower_bound=-41, upper_bound=1625), departure_time=Row(column_size=731819, value_count=520718, null_value_count=4507, nan_value_count=None, lower_bound=1, upper_bound=2400), destination_airport=Row(column_size=517051, value_count=520718, null_value_count=0, nan_value_count=None, lower_bound=&#x27;ABE&#x27;, upper_bound=&#x27;YUM&#x27;), distance=Row(column_size=720974, value_count=520718, null_value_count=0, nan_value_count=None, lower_bound=31, upper_bound=4983), diverted=Row(column_size=5795, value_count=520718, null_value_count=0, nan_value_count=None, lower_bound=0, upper_bound=1), elapsed_time=Row(column_size=634629, value_count=520718, null_value_count=6334, nan_value_count=None, lower_bound=14, upper_bound=696), flight_number=Row(column_size=862091, value_count=520718, null_value_count=0, nan_value_count=None, lower_bound=1, upper_bound=7438), late_aircraft_delay=Row(column_size=147988, value_count=520718, null_value_count=413091, nan_value_count=None, lower_bound=0, upper_bound=869), month=Row(column_size=1271, value_count=520718, null_value_count=0, nan_value_count=None, lower_bound=7, upper_bound=7), origin_airport=Row(column_size=536054, value_count=520718, null_value_count=0, nan_value_count=None, lower_bound=&#x27;ABE&#x27;, upper_bound=&#x27;YUM&#x27;), scheduled_arrival=Row(column_size=721046, value_count=520718, null_value_count=0, nan_value_count=None, lower_bound=1, upper_bound=2359), scheduled_departure=Row(column_size=166903, value_count=520718, null_value_count=0, nan_value_count=None, lower_bound=3, upper_bound=2359), scheduled_time=Row(column_size=588960, value_count=520718, null_value_count=0, nan_value_count=None, lower_bound=18, upper_bound=652), security_delay=Row(column_size=63615, value_count=520718, null_value_count=413091, nan_value_count=None, lower_bound=0, upper_bound=256), tail_number=Row(column_size=856490, value_count=520718, null_value_count=723, nan_value_count=None, lower_bound=&#x27;7819A&#x27;, upper_bound=&#x27;N9EAMQ&#x27;), taxi_in=Row(column_size=379857, value_count=520718, null_value_count=4947, nan_value_count=None, lower_bound=1, upper_bound=164), taxi_out=Row(column_size=343134, value_count=520718, null_value_count=4756, nan_value_count=None, lower_bound=1, upper_bound=168), weather_delay=Row(column_size=78205, value_count=520718, null_value_count=413091, nan_value_count=None, lower_bound=0, upper_bound=836), wheels_off=Row(column_size=732234, value_count=520718, null_value_count=4756, nan_value_count=None, lower_bound=1, upper_bound=2400), wheels_on=Row(column_size=732625, value_count=520718, null_value_count=4947, nan_value_count=None, lower_bound=1, upper_bound=2400), year=Row(column_size=1271, value_count=520718, null_value_count=0, nan_value_count=None, lower_bound=2015, upper_bound=2015))</td>\n",
       "        </tr>\n",
       "        <tr>\n",
       "            <td>0</td>\n",
       "            <td>s3://warehouse/db/flights/data/month=10/00009-948-22846555-129f-4460-bd05-fe6cf2fc1357-0-00001.parquet</td>\n",
       "            <td>PARQUET</td>\n",
       "            <td>0</td>\n",
       "            <td>Row(month=10)</td>\n",
       "            <td>486165</td>\n",
       "            <td>10651549</td>\n",
       "            <td>{1: 1178, 2: 1178, 3: 1340, 4: 1321, 5: 131738, 6: 805649, 7: 794000, 8: 504873, 9: 483405, 10: 156733, 11: 678743, 12: 443788, 13: 313010, 14: 678961, 15: 549965, 16: 580107, 17: 575527, 18: 661533, 19: 679374, 20: 320549, 21: 673433, 22: 679368, 23: 491517, 24: 3875, 25: 6922, 26: 7550, 27: 89852, 28: 50736, 29: 105428, 30: 96483, 31: 56779}</td>\n",
       "            <td>{1: 486165, 2: 486165, 3: 486165, 4: 486165, 5: 486165, 6: 486165, 7: 486165, 8: 486165, 9: 486165, 10: 486165, 11: 486165, 12: 486165, 13: 486165, 14: 486165, 15: 486165, 16: 486165, 17: 486165, 18: 486165, 19: 486165, 20: 486165, 21: 486165, 22: 486165, 23: 486165, 24: 486165, 25: 486165, 26: 486165, 27: 486165, 28: 486165, 29: 486165, 30: 486165, 31: 486165}</td>\n",
       "            <td>{1: 0, 2: 0, 3: 0, 4: 0, 5: 0, 6: 0, 7: 354, 8: 0, 9: 0, 10: 0, 11: 2339, 12: 2339, 13: 2435, 14: 2435, 15: 0, 16: 3287, 17: 3287, 18: 0, 19: 2571, 20: 2571, 21: 0, 22: 2571, 23: 3287, 24: 0, 25: 0, 26: 483711, 27: 426086, 28: 426086, 29: 426086, 30: 426086, 31: 426086}</td>\n",
       "            <td>{}</td>\n",
       "            <td>{1: bytearray(b&#x27;\\xdf\\x07\\x00\\x00&#x27;), 2: bytearray(b&#x27;\\n\\x00\\x00\\x00&#x27;), 3: bytearray(b&#x27;\\x01\\x00\\x00\\x00&#x27;), 4: bytearray(b&#x27;\\x01\\x00\\x00\\x00&#x27;), 5: bytearray(b&#x27;AA&#x27;), 6: bytearray(b&#x27;\\x01\\x00\\x00\\x00&#x27;), 7: bytearray(b&#x27;N001AA&#x27;), 8: bytearray(b&#x27;10135&#x27;), 9: bytearray(b&#x27;10135&#x27;), 10: bytearray(b&#x27;\\x05\\x00\\x00\\x00&#x27;), 11: bytearray(b&#x27;\\x01\\x00\\x00\\x00&#x27;), 12: bytearray(b&#x27;\\xd7\\xff\\xff\\xff&#x27;), 13: bytearray(b&#x27;\\x01\\x00\\x00\\x00&#x27;), 14: bytearray(b&#x27;\\x01\\x00\\x00\\x00&#x27;), 15: bytearray(b&#x27;\\x16\\x00\\x00\\x00&#x27;), 16: bytearray(b&#x27;\\x0e\\x00\\x00\\x00&#x27;), 17: bytearray(b&#x27;\\x07\\x00\\x00\\x00&#x27;), 18: bytearray(b&#x27;\\x1f\\x00\\x00\\x00&#x27;), 19: bytearray(b&#x27;\\x01\\x00\\x00\\x00&#x27;), 20: bytearray(b&#x27;\\x01\\x00\\x00\\x00&#x27;), 21: bytearray(b&#x27;\\x01\\x00\\x00\\x00&#x27;), 22: bytearray(b&#x27;\\x01\\x00\\x00\\x00&#x27;), 23: bytearray(b&#x27;\\xaf\\xff\\xff\\xff&#x27;), 24: bytearray(b&#x27;\\x00\\x00\\x00\\x00&#x27;), 25: bytearray(b&#x27;\\x00\\x00\\x00\\x00&#x27;), 26: bytearray(b&#x27;A&#x27;), 27: bytearray(b&#x27;\\x00\\x00\\x00\\x00&#x27;), 28: bytearray(b&#x27;\\x00\\x00\\x00\\x00&#x27;), 29: bytearray(b&#x27;\\x00\\x00\\x00\\x00&#x27;), 30: bytearray(b&#x27;\\x00\\x00\\x00\\x00&#x27;), 31: bytearray(b&#x27;\\x00\\x00\\x00\\x00&#x27;)}</td>\n",
       "            <td>{1: bytearray(b&#x27;\\xdf\\x07\\x00\\x00&#x27;), 2: bytearray(b&#x27;\\n\\x00\\x00\\x00&#x27;), 3: bytearray(b&#x27;\\x1f\\x00\\x00\\x00&#x27;), 4: bytearray(b&#x27;\\x07\\x00\\x00\\x00&#x27;), 5: bytearray(b&#x27;WN&#x27;), 6: bytearray(b&#x27;\\x0e\\x1d\\x00\\x00&#x27;), 7: bytearray(b&#x27;N9EAMQ&#x27;), 8: bytearray(b&#x27;16218&#x27;), 9: bytearray(b&#x27;16218&#x27;), 10: bytearray(b&#x27;7\\t\\x00\\x00&#x27;), 11: bytearray(b&#x27;`\\t\\x00\\x00&#x27;), 12: bytearray(b&#x27;%\\x06\\x00\\x00&#x27;), 13: bytearray(b&#x27;\\xb1\\x00\\x00\\x00&#x27;), 14: bytearray(b&#x27;`\\t\\x00\\x00&#x27;), 15: bytearray(b&#x27;\\xa4\\x02\\x00\\x00&#x27;), 16: bytearray(b&#x27;\\xb4\\x02\\x00\\x00&#x27;), 17: bytearray(b&#x27;\\x95\\x02\\x00\\x00&#x27;), 18: bytearray(b&#x27;w\\x13\\x00\\x00&#x27;), 19: bytearray(b&#x27;`\\t\\x00\\x00&#x27;), 20: bytearray(b&#x27;\\x92\\x00\\x00\\x00&#x27;), 21: bytearray(b&#x27;7\\t\\x00\\x00&#x27;), 22: bytearray(b&#x27;`\\t\\x00\\x00&#x27;), 23: bytearray(b&#x27;\\x13\\x06\\x00\\x00&#x27;), 24: bytearray(b&#x27;\\x01\\x00\\x00\\x00&#x27;), 25: bytearray(b&#x27;\\x01\\x00\\x00\\x00&#x27;), 26: bytearray(b&#x27;C&#x27;), 27: bytearray(b&#x27;A\\x02\\x00\\x00&#x27;), 28: bytearray(b&#x27;Y\\x00\\x00\\x00&#x27;), 29: bytearray(b&#x27;\\x13\\x06\\x00\\x00&#x27;), 30: bytearray(b&#x27;0\\x03\\x00\\x00&#x27;), 31: bytearray(b&#x27;\\xe3\\x03\\x00\\x00&#x27;)}</td>\n",
       "            <td>None</td>\n",
       "            <td>[4]</td>\n",
       "            <td>None</td>\n",
       "            <td>0</td>\n",
       "            <td>Row(air_system_delay=Row(column_size=89852, value_count=486165, null_value_count=426086, nan_value_count=None, lower_bound=0, upper_bound=577), air_time=Row(column_size=575527, value_count=486165, null_value_count=3287, nan_value_count=None, lower_bound=7, upper_bound=661), airline=Row(column_size=131738, value_count=486165, null_value_count=0, nan_value_count=None, lower_bound=&#x27;AA&#x27;, upper_bound=&#x27;WN&#x27;), airline_delay=Row(column_size=105428, value_count=486165, null_value_count=426086, nan_value_count=None, lower_bound=0, upper_bound=1555), arrival_delay=Row(column_size=491517, value_count=486165, null_value_count=3287, nan_value_count=None, lower_bound=-81, upper_bound=1555), arrival_time=Row(column_size=679368, value_count=486165, null_value_count=2571, nan_value_count=None, lower_bound=1, upper_bound=2400), cancellation_reason=Row(column_size=7550, value_count=486165, null_value_count=483711, nan_value_count=None, lower_bound=&#x27;A&#x27;, upper_bound=&#x27;C&#x27;), cancelled=Row(column_size=6922, value_count=486165, null_value_count=0, nan_value_count=None, lower_bound=0, upper_bound=1), day=Row(column_size=1340, value_count=486165, null_value_count=0, nan_value_count=None, lower_bound=1, upper_bound=31), day_of_week=Row(column_size=1321, value_count=486165, null_value_count=0, nan_value_count=None, lower_bound=1, upper_bound=7), departure_delay=Row(column_size=443788, value_count=486165, null_value_count=2339, nan_value_count=None, lower_bound=-41, upper_bound=1573), departure_time=Row(column_size=678743, value_count=486165, null_value_count=2339, nan_value_count=None, lower_bound=1, upper_bound=2400), destination_airport=Row(column_size=483405, value_count=486165, null_value_count=0, nan_value_count=None, lower_bound=&#x27;10135&#x27;, upper_bound=&#x27;16218&#x27;), distance=Row(column_size=661533, value_count=486165, null_value_count=0, nan_value_count=None, lower_bound=31, upper_bound=4983), diverted=Row(column_size=3875, value_count=486165, null_value_count=0, nan_value_count=None, lower_bound=0, upper_bound=1), elapsed_time=Row(column_size=580107, value_count=486165, null_value_count=3287, nan_value_count=None, lower_bound=14, upper_bound=692), flight_number=Row(column_size=805649, value_count=486165, null_value_count=0, nan_value_count=None, lower_bound=1, upper_bound=7438), late_aircraft_delay=Row(column_size=96483, value_count=486165, null_value_count=426086, nan_value_count=None, lower_bound=0, upper_bound=816), month=Row(column_size=1178, value_count=486165, null_value_count=0, nan_value_count=None, lower_bound=10, upper_bound=10), origin_airport=Row(column_size=504873, value_count=486165, null_value_count=0, nan_value_count=None, lower_bound=&#x27;10135&#x27;, upper_bound=&#x27;16218&#x27;), scheduled_arrival=Row(column_size=673433, value_count=486165, null_value_count=0, nan_value_count=None, lower_bound=1, upper_bound=2359), scheduled_departure=Row(column_size=156733, value_count=486165, null_value_count=0, nan_value_count=None, lower_bound=5, upper_bound=2359), scheduled_time=Row(column_size=549965, value_count=486165, null_value_count=0, nan_value_count=None, lower_bound=22, upper_bound=676), security_delay=Row(column_size=50736, value_count=486165, null_value_count=426086, nan_value_count=None, lower_bound=0, upper_bound=89), tail_number=Row(column_size=794000, value_count=486165, null_value_count=354, nan_value_count=None, lower_bound=&#x27;N001AA&#x27;, upper_bound=&#x27;N9EAMQ&#x27;), taxi_in=Row(column_size=320549, value_count=486165, null_value_count=2571, nan_value_count=None, lower_bound=1, upper_bound=146), taxi_out=Row(column_size=313010, value_count=486165, null_value_count=2435, nan_value_count=None, lower_bound=1, upper_bound=177), weather_delay=Row(column_size=56779, value_count=486165, null_value_count=426086, nan_value_count=None, lower_bound=0, upper_bound=995), wheels_off=Row(column_size=678961, value_count=486165, null_value_count=2435, nan_value_count=None, lower_bound=1, upper_bound=2400), wheels_on=Row(column_size=679374, value_count=486165, null_value_count=2571, nan_value_count=None, lower_bound=1, upper_bound=2400), year=Row(column_size=1178, value_count=486165, null_value_count=0, nan_value_count=None, lower_bound=2015, upper_bound=2015))</td>\n",
       "        </tr>\n",
       "        <tr>\n",
       "            <td>0</td>\n",
       "            <td>s3://warehouse/db/flights/data/month=11/00010-949-22846555-129f-4460-bd05-fe6cf2fc1357-0-00001.parquet</td>\n",
       "            <td>PARQUET</td>\n",
       "            <td>0</td>\n",
       "            <td>Row(month=11)</td>\n",
       "            <td>467972</td>\n",
       "            <td>10373628</td>\n",
       "            <td>{1: 1133, 2: 1133, 3: 1291, 4: 1269, 5: 130732, 6: 777840, 7: 767384, 8: 478891, 9: 466275, 10: 153390, 11: 655718, 12: 432414, 13: 325569, 14: 655875, 15: 522530, 16: 563181, 17: 558584, 18: 647690, 19: 656404, 20: 301758, 21: 648422, 22: 656403, 23: 490138, 24: 4301, 25: 9951, 26: 11121, 27: 104607, 28: 52794, 29: 106210, 30: 102667, 31: 62252}</td>\n",
       "            <td>{1: 467972, 2: 467972, 3: 467972, 4: 467972, 5: 467972, 6: 467972, 7: 467972, 8: 467972, 9: 467972, 10: 467972, 11: 467972, 12: 467972, 13: 467972, 14: 467972, 15: 467972, 16: 467972, 17: 467972, 18: 467972, 19: 467972, 20: 467972, 21: 467972, 22: 467972, 23: 467972, 24: 467972, 25: 467972, 26: 467972, 27: 467972, 28: 467972, 29: 467972, 30: 467972, 31: 467972}</td>\n",
       "            <td>{1: 0, 2: 0, 3: 0, 4: 0, 5: 0, 6: 0, 7: 532, 8: 0, 9: 0, 10: 0, 11: 4339, 12: 4339, 13: 4524, 14: 4524, 15: 0, 16: 5605, 17: 5605, 18: 0, 19: 4817, 20: 4817, 21: 0, 22: 4817, 23: 5605, 24: 0, 25: 0, 26: 463373, 27: 397401, 28: 397401, 29: 397401, 30: 397401, 31: 397401}</td>\n",
       "            <td>{}</td>\n",
       "            <td>{1: bytearray(b&#x27;\\xdf\\x07\\x00\\x00&#x27;), 2: bytearray(b&#x27;\\x0b\\x00\\x00\\x00&#x27;), 3: bytearray(b&#x27;\\x01\\x00\\x00\\x00&#x27;), 4: bytearray(b&#x27;\\x01\\x00\\x00\\x00&#x27;), 5: bytearray(b&#x27;AA&#x27;), 6: bytearray(b&#x27;\\x01\\x00\\x00\\x00&#x27;), 7: bytearray(b&#x27;7819A&#x27;), 8: bytearray(b&#x27;ABE&#x27;), 9: bytearray(b&#x27;ABE&#x27;), 10: bytearray(b&#x27;\\x01\\x00\\x00\\x00&#x27;), 11: bytearray(b&#x27;\\x01\\x00\\x00\\x00&#x27;), 12: bytearray(b&#x27;\\xd0\\xff\\xff\\xff&#x27;), 13: bytearray(b&#x27;\\x01\\x00\\x00\\x00&#x27;), 14: bytearray(b&#x27;\\x01\\x00\\x00\\x00&#x27;), 15: bytearray(b&#x27;\\x17\\x00\\x00\\x00&#x27;), 16: bytearray(b&#x27;\\x0e\\x00\\x00\\x00&#x27;), 17: bytearray(b&#x27;\\x08\\x00\\x00\\x00&#x27;), 18: bytearray(b&#x27;\\x1f\\x00\\x00\\x00&#x27;), 19: bytearray(b&#x27;\\x01\\x00\\x00\\x00&#x27;), 20: bytearray(b&#x27;\\x01\\x00\\x00\\x00&#x27;), 21: bytearray(b&#x27;\\x01\\x00\\x00\\x00&#x27;), 22: bytearray(b&#x27;\\x01\\x00\\x00\\x00&#x27;), 23: bytearray(b&#x27;\\xb0\\xff\\xff\\xff&#x27;), 24: bytearray(b&#x27;\\x00\\x00\\x00\\x00&#x27;), 25: bytearray(b&#x27;\\x00\\x00\\x00\\x00&#x27;), 26: bytearray(b&#x27;A&#x27;), 27: bytearray(b&#x27;\\x00\\x00\\x00\\x00&#x27;), 28: bytearray(b&#x27;\\x00\\x00\\x00\\x00&#x27;), 29: bytearray(b&#x27;\\x00\\x00\\x00\\x00&#x27;), 30: bytearray(b&#x27;\\x00\\x00\\x00\\x00&#x27;), 31: bytearray(b&#x27;\\x00\\x00\\x00\\x00&#x27;)}</td>\n",
       "            <td>{1: bytearray(b&#x27;\\xdf\\x07\\x00\\x00&#x27;), 2: bytearray(b&#x27;\\x0b\\x00\\x00\\x00&#x27;), 3: bytearray(b&#x27;\\x1e\\x00\\x00\\x00&#x27;), 4: bytearray(b&#x27;\\x07\\x00\\x00\\x00&#x27;), 5: bytearray(b&#x27;WN&#x27;), 6: bytearray(b&#x27;\\x0e\\x1d\\x00\\x00&#x27;), 7: bytearray(b&#x27;N9EAMQ&#x27;), 8: bytearray(b&#x27;YUM&#x27;), 9: bytearray(b&#x27;YUM&#x27;), 10: bytearray(b&#x27;7\\t\\x00\\x00&#x27;), 11: bytearray(b&#x27;`\\t\\x00\\x00&#x27;), 12: bytearray(b&#x27;_\\x06\\x00\\x00&#x27;), 13: bytearray(b&#x27;\\xa1\\x00\\x00\\x00&#x27;), 14: bytearray(b&#x27;`\\t\\x00\\x00&#x27;), 15: bytearray(b&#x27;\\xa4\\x02\\x00\\x00&#x27;), 16: bytearray(b&#x27;\\xc2\\x02\\x00\\x00&#x27;), 17: bytearray(b&#x27;\\xa6\\x02\\x00\\x00&#x27;), 18: bytearray(b&#x27;w\\x13\\x00\\x00&#x27;), 19: bytearray(b&#x27;`\\t\\x00\\x00&#x27;), 20: bytearray(b&#x27;\\xb0\\x00\\x00\\x00&#x27;), 21: bytearray(b&#x27;7\\t\\x00\\x00&#x27;), 22: bytearray(b&#x27;`\\t\\x00\\x00&#x27;), 23: bytearray(b&#x27;f\\x06\\x00\\x00&#x27;), 24: bytearray(b&#x27;\\x01\\x00\\x00\\x00&#x27;), 25: bytearray(b&#x27;\\x01\\x00\\x00\\x00&#x27;), 26: bytearray(b&#x27;D&#x27;), 27: bytearray(b&#x27;\\x1e\\x03\\x00\\x00&#x27;), 28: bytearray(b&#x27;\\xb8\\x01\\x00\\x00&#x27;), 29: bytearray(b&#x27;_\\x06\\x00\\x00&#x27;), 30: bytearray(b&#x27;\\xd7\\x03\\x00\\x00&#x27;), 31: bytearray(b&#x27;`\\x04\\x00\\x00&#x27;)}</td>\n",
       "            <td>None</td>\n",
       "            <td>[4]</td>\n",
       "            <td>None</td>\n",
       "            <td>0</td>\n",
       "            <td>Row(air_system_delay=Row(column_size=104607, value_count=467972, null_value_count=397401, nan_value_count=None, lower_bound=0, upper_bound=798), air_time=Row(column_size=558584, value_count=467972, null_value_count=5605, nan_value_count=None, lower_bound=8, upper_bound=678), airline=Row(column_size=130732, value_count=467972, null_value_count=0, nan_value_count=None, lower_bound=&#x27;AA&#x27;, upper_bound=&#x27;WN&#x27;), airline_delay=Row(column_size=106210, value_count=467972, null_value_count=397401, nan_value_count=None, lower_bound=0, upper_bound=1631), arrival_delay=Row(column_size=490138, value_count=467972, null_value_count=5605, nan_value_count=None, lower_bound=-80, upper_bound=1638), arrival_time=Row(column_size=656403, value_count=467972, null_value_count=4817, nan_value_count=None, lower_bound=1, upper_bound=2400), cancellation_reason=Row(column_size=11121, value_count=467972, null_value_count=463373, nan_value_count=None, lower_bound=&#x27;A&#x27;, upper_bound=&#x27;D&#x27;), cancelled=Row(column_size=9951, value_count=467972, null_value_count=0, nan_value_count=None, lower_bound=0, upper_bound=1), day=Row(column_size=1291, value_count=467972, null_value_count=0, nan_value_count=None, lower_bound=1, upper_bound=30), day_of_week=Row(column_size=1269, value_count=467972, null_value_count=0, nan_value_count=None, lower_bound=1, upper_bound=7), departure_delay=Row(column_size=432414, value_count=467972, null_value_count=4339, nan_value_count=None, lower_bound=-48, upper_bound=1631), departure_time=Row(column_size=655718, value_count=467972, null_value_count=4339, nan_value_count=None, lower_bound=1, upper_bound=2400), destination_airport=Row(column_size=466275, value_count=467972, null_value_count=0, nan_value_count=None, lower_bound=&#x27;ABE&#x27;, upper_bound=&#x27;YUM&#x27;), distance=Row(column_size=647690, value_count=467972, null_value_count=0, nan_value_count=None, lower_bound=31, upper_bound=4983), diverted=Row(column_size=4301, value_count=467972, null_value_count=0, nan_value_count=None, lower_bound=0, upper_bound=1), elapsed_time=Row(column_size=563181, value_count=467972, null_value_count=5605, nan_value_count=None, lower_bound=14, upper_bound=706), flight_number=Row(column_size=777840, value_count=467972, null_value_count=0, nan_value_count=None, lower_bound=1, upper_bound=7438), late_aircraft_delay=Row(column_size=102667, value_count=467972, null_value_count=397401, nan_value_count=None, lower_bound=0, upper_bound=983), month=Row(column_size=1133, value_count=467972, null_value_count=0, nan_value_count=None, lower_bound=11, upper_bound=11), origin_airport=Row(column_size=478891, value_count=467972, null_value_count=0, nan_value_count=None, lower_bound=&#x27;ABE&#x27;, upper_bound=&#x27;YUM&#x27;), scheduled_arrival=Row(column_size=648422, value_count=467972, null_value_count=0, nan_value_count=None, lower_bound=1, upper_bound=2359), scheduled_departure=Row(column_size=153390, value_count=467972, null_value_count=0, nan_value_count=None, lower_bound=1, upper_bound=2359), scheduled_time=Row(column_size=522530, value_count=467972, null_value_count=0, nan_value_count=None, lower_bound=23, upper_bound=676), security_delay=Row(column_size=52794, value_count=467972, null_value_count=397401, nan_value_count=None, lower_bound=0, upper_bound=440), tail_number=Row(column_size=767384, value_count=467972, null_value_count=532, nan_value_count=None, lower_bound=&#x27;7819A&#x27;, upper_bound=&#x27;N9EAMQ&#x27;), taxi_in=Row(column_size=301758, value_count=467972, null_value_count=4817, nan_value_count=None, lower_bound=1, upper_bound=176), taxi_out=Row(column_size=325569, value_count=467972, null_value_count=4524, nan_value_count=None, lower_bound=1, upper_bound=161), weather_delay=Row(column_size=62252, value_count=467972, null_value_count=397401, nan_value_count=None, lower_bound=0, upper_bound=1120), wheels_off=Row(column_size=655875, value_count=467972, null_value_count=4524, nan_value_count=None, lower_bound=1, upper_bound=2400), wheels_on=Row(column_size=656404, value_count=467972, null_value_count=4817, nan_value_count=None, lower_bound=1, upper_bound=2400), year=Row(column_size=1133, value_count=467972, null_value_count=0, nan_value_count=None, lower_bound=2015, upper_bound=2015))</td>\n",
       "        </tr>\n",
       "        <tr>\n",
       "            <td>0</td>\n",
       "            <td>s3://warehouse/db/flights/data/month=2/00011-950-22846555-129f-4460-bd05-fe6cf2fc1357-0-00001.parquet</td>\n",
       "            <td>PARQUET</td>\n",
       "            <td>0</td>\n",
       "            <td>Row(month=2)</td>\n",
       "            <td>429191</td>\n",
       "            <td>9701043</td>\n",
       "            <td>{1: 1044, 2: 1044, 3: 1192, 4: 1173, 5: 129111, 6: 713504, 7: 707075, 8: 451676, 9: 425190, 10: 140049, 11: 602025, 12: 421507, 13: 285841, 14: 601917, 15: 485598, 16: 515766, 17: 513146, 18: 587636, 19: 601883, 20: 249221, 21: 594733, 22: 601883, 23: 463512, 24: 4212, 25: 23808, 26: 27224, 27: 134750, 28: 53586, 29: 134251, 30: 125681, 31: 77586}</td>\n",
       "            <td>{1: 429191, 2: 429191, 3: 429191, 4: 429191, 5: 429191, 6: 429191, 7: 429191, 8: 429191, 9: 429191, 10: 429191, 11: 429191, 12: 429191, 13: 429191, 14: 429191, 15: 429191, 16: 429191, 17: 429191, 18: 429191, 19: 429191, 20: 429191, 21: 429191, 22: 429191, 23: 429191, 24: 429191, 25: 429191, 26: 429191, 27: 429191, 28: 429191, 29: 429191, 30: 429191, 31: 429191}</td>\n",
       "            <td>{1: 0, 2: 0, 3: 0, 4: 0, 5: 0, 6: 0, 7: 3594, 8: 0, 9: 0, 10: 0, 11: 20059, 12: 20059, 13: 20412, 14: 20412, 15: 2, 16: 21528, 17: 21528, 18: 0, 19: 20822, 20: 20822, 21: 0, 22: 20822, 23: 21528, 24: 0, 25: 0, 26: 408674, 27: 334012, 28: 334012, 29: 334012, 30: 334012, 31: 334012}</td>\n",
       "            <td>{}</td>\n",
       "            <td>{1: bytearray(b&#x27;\\xdf\\x07\\x00\\x00&#x27;), 2: bytearray(b&#x27;\\x02\\x00\\x00\\x00&#x27;), 3: bytearray(b&#x27;\\x01\\x00\\x00\\x00&#x27;), 4: bytearray(b&#x27;\\x01\\x00\\x00\\x00&#x27;), 5: bytearray(b&#x27;AA&#x27;), 6: bytearray(b&#x27;\\x01\\x00\\x00\\x00&#x27;), 7: bytearray(b&#x27;N001AA&#x27;), 8: bytearray(b&#x27;ABE&#x27;), 9: bytearray(b&#x27;ABE&#x27;), 10: bytearray(b&#x27;\\x05\\x00\\x00\\x00&#x27;), 11: bytearray(b&#x27;\\x01\\x00\\x00\\x00&#x27;), 12: bytearray(b&#x27;\\xc3\\xff\\xff\\xff&#x27;), 13: bytearray(b&#x27;\\x01\\x00\\x00\\x00&#x27;), 14: bytearray(b&#x27;\\x01\\x00\\x00\\x00&#x27;), 15: bytearray(b&#x27;\\x14\\x00\\x00\\x00&#x27;), 16: bytearray(b&#x27;\\x0f\\x00\\x00\\x00&#x27;), 17: bytearray(b&#x27;\\x07\\x00\\x00\\x00&#x27;), 18: bytearray(b&#x27;\\x1f\\x00\\x00\\x00&#x27;), 19: bytearray(b&#x27;\\x01\\x00\\x00\\x00&#x27;), 20: bytearray(b&#x27;\\x01\\x00\\x00\\x00&#x27;), 21: bytearray(b&#x27;\\x01\\x00\\x00\\x00&#x27;), 22: bytearray(b&#x27;\\x01\\x00\\x00\\x00&#x27;), 23: bytearray(b&#x27;\\xb1\\xff\\xff\\xff&#x27;), 24: bytearray(b&#x27;\\x00\\x00\\x00\\x00&#x27;), 25: bytearray(b&#x27;\\x00\\x00\\x00\\x00&#x27;), 26: bytearray(b&#x27;A&#x27;), 27: bytearray(b&#x27;\\x00\\x00\\x00\\x00&#x27;), 28: bytearray(b&#x27;\\x00\\x00\\x00\\x00&#x27;), 29: bytearray(b&#x27;\\x00\\x00\\x00\\x00&#x27;), 30: bytearray(b&#x27;\\x00\\x00\\x00\\x00&#x27;), 31: bytearray(b&#x27;\\x00\\x00\\x00\\x00&#x27;)}</td>\n",
       "            <td>{1: bytearray(b&#x27;\\xdf\\x07\\x00\\x00&#x27;), 2: bytearray(b&#x27;\\x02\\x00\\x00\\x00&#x27;), 3: bytearray(b&#x27;\\x1c\\x00\\x00\\x00&#x27;), 4: bytearray(b&#x27;\\x07\\x00\\x00\\x00&#x27;), 5: bytearray(b&#x27;WN&#x27;), 6: bytearray(b&#x27;h$\\x00\\x00&#x27;), 7: bytearray(b&#x27;N9EAMQ&#x27;), 8: bytearray(b&#x27;YUM&#x27;), 9: bytearray(b&#x27;YUM&#x27;), 10: bytearray(b&#x27;7\\t\\x00\\x00&#x27;), 11: bytearray(b&#x27;`\\t\\x00\\x00&#x27;), 12: bytearray(b&#x27;3\\x06\\x00\\x00&#x27;), 13: bytearray(b&#x27;\\xe1\\x00\\x00\\x00&#x27;), 14: bytearray(b&#x27;`\\t\\x00\\x00&#x27;), 15: bytearray(b&#x27;\\xa7\\x02\\x00\\x00&#x27;), 16: bytearray(b&#x27;\\xfe\\x02\\x00\\x00&#x27;), 17: bytearray(b&#x27;\\xac\\x02\\x00\\x00&#x27;), 18: bytearray(b&#x27;w\\x13\\x00\\x00&#x27;), 19: bytearray(b&#x27;`\\t\\x00\\x00&#x27;), 20: bytearray(b&#x27;\\xca\\x00\\x00\\x00&#x27;), 21: bytearray(b&#x27;7\\t\\x00\\x00&#x27;), 22: bytearray(b&#x27;`\\t\\x00\\x00&#x27;), 23: bytearray(b&#x27;[\\x06\\x00\\x00&#x27;), 24: bytearray(b&#x27;\\x01\\x00\\x00\\x00&#x27;), 25: bytearray(b&#x27;\\x01\\x00\\x00\\x00&#x27;), 26: bytearray(b&#x27;D&#x27;), 27: bytearray(b&#x27;\\xec\\x02\\x00\\x00&#x27;), 28: bytearray(b&#x27;\\xa8\\x00\\x00\\x00&#x27;), 29: bytearray(b&#x27;3\\x06\\x00\\x00&#x27;), 30: bytearray(b&#x27;!\\x05\\x00\\x00&#x27;), 31: bytearray(b&#x27;\\x80\\x04\\x00\\x00&#x27;)}</td>\n",
       "            <td>None</td>\n",
       "            <td>[4]</td>\n",
       "            <td>None</td>\n",
       "            <td>0</td>\n",
       "            <td>Row(air_system_delay=Row(column_size=134750, value_count=429191, null_value_count=334012, nan_value_count=None, lower_bound=0, upper_bound=748), air_time=Row(column_size=513146, value_count=429191, null_value_count=21528, nan_value_count=None, lower_bound=7, upper_bound=684), airline=Row(column_size=129111, value_count=429191, null_value_count=0, nan_value_count=None, lower_bound=&#x27;AA&#x27;, upper_bound=&#x27;WN&#x27;), airline_delay=Row(column_size=134251, value_count=429191, null_value_count=334012, nan_value_count=None, lower_bound=0, upper_bound=1587), arrival_delay=Row(column_size=463512, value_count=429191, null_value_count=21528, nan_value_count=None, lower_bound=-79, upper_bound=1627), arrival_time=Row(column_size=601883, value_count=429191, null_value_count=20822, nan_value_count=None, lower_bound=1, upper_bound=2400), cancellation_reason=Row(column_size=27224, value_count=429191, null_value_count=408674, nan_value_count=None, lower_bound=&#x27;A&#x27;, upper_bound=&#x27;D&#x27;), cancelled=Row(column_size=23808, value_count=429191, null_value_count=0, nan_value_count=None, lower_bound=0, upper_bound=1), day=Row(column_size=1192, value_count=429191, null_value_count=0, nan_value_count=None, lower_bound=1, upper_bound=28), day_of_week=Row(column_size=1173, value_count=429191, null_value_count=0, nan_value_count=None, lower_bound=1, upper_bound=7), departure_delay=Row(column_size=421507, value_count=429191, null_value_count=20059, nan_value_count=None, lower_bound=-61, upper_bound=1587), departure_time=Row(column_size=602025, value_count=429191, null_value_count=20059, nan_value_count=None, lower_bound=1, upper_bound=2400), destination_airport=Row(column_size=425190, value_count=429191, null_value_count=0, nan_value_count=None, lower_bound=&#x27;ABE&#x27;, upper_bound=&#x27;YUM&#x27;), distance=Row(column_size=587636, value_count=429191, null_value_count=0, nan_value_count=None, lower_bound=31, upper_bound=4983), diverted=Row(column_size=4212, value_count=429191, null_value_count=0, nan_value_count=None, lower_bound=0, upper_bound=1), elapsed_time=Row(column_size=515766, value_count=429191, null_value_count=21528, nan_value_count=None, lower_bound=15, upper_bound=766), flight_number=Row(column_size=713504, value_count=429191, null_value_count=0, nan_value_count=None, lower_bound=1, upper_bound=9320), late_aircraft_delay=Row(column_size=125681, value_count=429191, null_value_count=334012, nan_value_count=None, lower_bound=0, upper_bound=1313), month=Row(column_size=1044, value_count=429191, null_value_count=0, nan_value_count=None, lower_bound=2, upper_bound=2), origin_airport=Row(column_size=451676, value_count=429191, null_value_count=0, nan_value_count=None, lower_bound=&#x27;ABE&#x27;, upper_bound=&#x27;YUM&#x27;), scheduled_arrival=Row(column_size=594733, value_count=429191, null_value_count=0, nan_value_count=None, lower_bound=1, upper_bound=2359), scheduled_departure=Row(column_size=140049, value_count=429191, null_value_count=0, nan_value_count=None, lower_bound=5, upper_bound=2359), scheduled_time=Row(column_size=485598, value_count=429191, null_value_count=2, nan_value_count=None, lower_bound=20, upper_bound=679), security_delay=Row(column_size=53586, value_count=429191, null_value_count=334012, nan_value_count=None, lower_bound=0, upper_bound=168), tail_number=Row(column_size=707075, value_count=429191, null_value_count=3594, nan_value_count=None, lower_bound=&#x27;N001AA&#x27;, upper_bound=&#x27;N9EAMQ&#x27;), taxi_in=Row(column_size=249221, value_count=429191, null_value_count=20822, nan_value_count=None, lower_bound=1, upper_bound=202), taxi_out=Row(column_size=285841, value_count=429191, null_value_count=20412, nan_value_count=None, lower_bound=1, upper_bound=225), weather_delay=Row(column_size=77586, value_count=429191, null_value_count=334012, nan_value_count=None, lower_bound=0, upper_bound=1152), wheels_off=Row(column_size=601917, value_count=429191, null_value_count=20412, nan_value_count=None, lower_bound=1, upper_bound=2400), wheels_on=Row(column_size=601883, value_count=429191, null_value_count=20822, nan_value_count=None, lower_bound=1, upper_bound=2400), year=Row(column_size=1044, value_count=429191, null_value_count=0, nan_value_count=None, lower_bound=2015, upper_bound=2015))</td>\n",
       "        </tr>\n",
       "    </tbody>\n",
       "</table>"
      ],
      "text/plain": [
       "+---------+--------------------------------------------------------------------------------------------------------+-------------+---------+---------------+--------------+--------------------+---------------------------------------------------------------------------------------------------------------------------------------------------------------------------------------------------------------------------------------------------------------------------------------------------------------------------------------------------------------+-----------------------------------------------------------------------------------------------------------------------------------------------------------------------------------------------------------------------------------------------------------------------------------------------------------------------------------------------------------------------------+-------------------------------------------------------------------------------------------------------------------------------------------------------------------------------------------------------------------------------------------------------------------------------------------+------------------+--------------------------------------------------------------------------------------------------------------------------------------------------------------------------------------------------------------------------------------------------------------------------------------------------------------------------------------------------------------------------------------------------------------------------------------------------------------------------------------------------------------------------------------------------------------------------------------------------------------------------------------------------------------------------------------------------------------------------------------------------------------------------------------------------------------------------------------------------------------------------------------------------------------------------------------------------------------------------------------------------------------------------------------------------------------------------------------+------------------------------------------------------------------------------------------------------------------------------------------------------------------------------------------------------------------------------------------------------------------------------------------------------------------------------------------------------------------------------------------------------------------------------------------------------------------------------------------------------------------------------------------------------------------------------------------------------------------------------------------------------------------------------------------------------------------------------------------------------------------------------------------------------------------------------------------------------------------------------------------------------------------------------------------------------------------------------------------------------------------------------------------------+--------------+---------------+--------------+---------------+------------------------------------------------------------------------------------------------------------------------------------------------------------------------------------------------------------------------------------------------------------------------------------------------------------------------------------------------------------------------------------------------------------------------------------------------------------------------------------------------------------------------------------------------------------------------------------------------------------------------------------------------------------------------------------------------------------------------------------------------------------------------------------------------------------------------------------------------------------------------------------------------------------------------------------------------------------------------------------------------------------------------------------------------------------------------------------------------------------------------------------------------------------------------------------------------------------------------------------------------------------------------------------------------------------------------------------------------------------------------------------------------------------------------------------------------------------------------------------------------------------------------------------------------------------------------------------------------------------------------------------------------------------------------------------------------------------------------------------------------------------------------------------------------------------------------------------------------------------------------------------------------------------------------------------------------------------------------------------------------------------------------------------------------------------------------------------------------------------------------------------------------------------------------------------------------------------------------------------------------------------------------------------------------------------------------------------------------------------------------------------------------------------------------------------------------------------------------------------------------------------------------------------------------------------------------------------------------------------------------------------------------------------------------------------------------------------------------------------------------------------------------------------------------------------------------------------------------------------------------------------------------------------------------------------------------------------------------------------------------------------------------------------------------------------------------------------------------------------------------------------------------------------------------------------------------------------------------------------------------------------------------------------------------------------------------------------------------------------------------------------------------------------------------------------------------------------------------------------------------------------------------------------------------------------------------------------------------------------------------------------------------------------------------------------------------------------------------------------------------------------------------------------------------------------------------------------------------------------------------------------------------------------------------------------------------------------------------------------------------------------------------------------------------------------------------------------------------------------------------------------------------------------------------------------------------------------------------------------------------------------------------------------------------------------------------------------------------------------------+\n",
       "| content |                                                                                              file_path | file_format | spec_id |     partition | record_count | file_size_in_bytes |                                                                                                                                                                                                                                                                                                                                                  column_sizes |                                                                                                                                                                                                                                                                                                                                                                value_counts |                                                                                                                                                                                                                                                                         null_value_counts | nan_value_counts |                                                                                                                                                                                                                                                                                                                                                                                                                                                                                                                                                                                                                                                                                                                                                                                                                                                                                                                                                                                                                                                                         lower_bounds |                                                                                                                                                                                                                                                                                                                                                                                                                                                                                                                                                                                                                                                                                                                                                                                                                                                                                                                                                                                                                                   upper_bounds | key_metadata | split_offsets | equality_ids | sort_order_id |                                                                                                                                                                                                                                                                                                                                                                                                                                                                                                                                                                                                                                                                                                                                                                                                                                                                                                                                                                                                                                                                                                                                                                                                                                                                                                                                                                                                                                                                                                                                                                                                                                                                                                                                                                                                                                                                                                                                                                                                                                                                                                                                                                                                                                                                                                                                                                                                                                                                                                                                                                                                                                                                                                                                                                                                                                                                                                                                                                                                                                                                                                                                                                                                                                                                                                                                                                                                                                                                                                                                                                                                                                                                                                                                                                                                                                                                                                                                                                                                                                                                                                                                                                                                                                                                                                                                                 readable_metrics |\n",
       "+---------+--------------------------------------------------------------------------------------------------------+-------------+---------+---------------+--------------+--------------------+---------------------------------------------------------------------------------------------------------------------------------------------------------------------------------------------------------------------------------------------------------------------------------------------------------------------------------------------------------------+-----------------------------------------------------------------------------------------------------------------------------------------------------------------------------------------------------------------------------------------------------------------------------------------------------------------------------------------------------------------------------+-------------------------------------------------------------------------------------------------------------------------------------------------------------------------------------------------------------------------------------------------------------------------------------------+------------------+--------------------------------------------------------------------------------------------------------------------------------------------------------------------------------------------------------------------------------------------------------------------------------------------------------------------------------------------------------------------------------------------------------------------------------------------------------------------------------------------------------------------------------------------------------------------------------------------------------------------------------------------------------------------------------------------------------------------------------------------------------------------------------------------------------------------------------------------------------------------------------------------------------------------------------------------------------------------------------------------------------------------------------------------------------------------------------------+------------------------------------------------------------------------------------------------------------------------------------------------------------------------------------------------------------------------------------------------------------------------------------------------------------------------------------------------------------------------------------------------------------------------------------------------------------------------------------------------------------------------------------------------------------------------------------------------------------------------------------------------------------------------------------------------------------------------------------------------------------------------------------------------------------------------------------------------------------------------------------------------------------------------------------------------------------------------------------------------------------------------------------------------+--------------+---------------+--------------+---------------+------------------------------------------------------------------------------------------------------------------------------------------------------------------------------------------------------------------------------------------------------------------------------------------------------------------------------------------------------------------------------------------------------------------------------------------------------------------------------------------------------------------------------------------------------------------------------------------------------------------------------------------------------------------------------------------------------------------------------------------------------------------------------------------------------------------------------------------------------------------------------------------------------------------------------------------------------------------------------------------------------------------------------------------------------------------------------------------------------------------------------------------------------------------------------------------------------------------------------------------------------------------------------------------------------------------------------------------------------------------------------------------------------------------------------------------------------------------------------------------------------------------------------------------------------------------------------------------------------------------------------------------------------------------------------------------------------------------------------------------------------------------------------------------------------------------------------------------------------------------------------------------------------------------------------------------------------------------------------------------------------------------------------------------------------------------------------------------------------------------------------------------------------------------------------------------------------------------------------------------------------------------------------------------------------------------------------------------------------------------------------------------------------------------------------------------------------------------------------------------------------------------------------------------------------------------------------------------------------------------------------------------------------------------------------------------------------------------------------------------------------------------------------------------------------------------------------------------------------------------------------------------------------------------------------------------------------------------------------------------------------------------------------------------------------------------------------------------------------------------------------------------------------------------------------------------------------------------------------------------------------------------------------------------------------------------------------------------------------------------------------------------------------------------------------------------------------------------------------------------------------------------------------------------------------------------------------------------------------------------------------------------------------------------------------------------------------------------------------------------------------------------------------------------------------------------------------------------------------------------------------------------------------------------------------------------------------------------------------------------------------------------------------------------------------------------------------------------------------------------------------------------------------------------------------------------------------------------------------------------------------------------------------------------------------------------------------------------------------------------+\n",
       "|       0 | s3://warehouse/db/flights/data/month=12/00000-939-22846555-129f-4460-bd05-fe6cf2fc1357-0-00001.parquet |     PARQUET |       0 | Row(month=12) |       479230 |           10767738 | {1: 1136, 2: 1136, 3: 1299, 4: 1277, 5: 131603, 6: 796273, 7: 786943, 8: 499647, 9: 469992, 10: 158254, 11: 672629, 12: 459886, 13: 328777, 14: 672691, 15: 542137, 16: 578324, 17: 576617, 18: 663728, 19: 673279, 20: 314846, 21: 663918, 22: 673278, 23: 509403, 24: 5312, 25: 13550, 26: 15368, 27: 131307, 28: 58138, 29: 132839, 30: 134974, 31: 73400} | {1: 479230, 2: 479230, 3: 479230, 4: 479230, 5: 479230, 6: 479230, 7: 479230, 8: 479230, 9: 479230, 10: 479230, 11: 479230, 12: 479230, 13: 479230, 14: 479230, 15: 479230, 16: 479230, 17: 479230, 18: 479230, 19: 479230, 20: 479230, 21: 479230, 22: 479230, 23: 479230, 24: 479230, 25: 479230, 26: 479230, 27: 479230, 28: 479230, 29: 479230, 30: 479230, 31: 479230} |           {1: 0, 2: 0, 3: 0, 4: 0, 5: 0, 6: 0, 7: 1161, 8: 0, 9: 0, 10: 0, 11: 7679, 12: 7679, 13: 7961, 14: 7961, 15: 0, 16: 9513, 17: 9513, 18: 0, 19: 8453, 20: 8453, 21: 0, 22: 8453, 23: 9513, 24: 0, 25: 0, 26: 471167, 27: 382458, 28: 382458, 29: 382458, 30: 382458, 31: 382458} |               {} |    {1: bytearray(b'\\xdf\\x07\\x00\\x00'), 2: bytearray(b'\\x0c\\x00\\x00\\x00'), 3: bytearray(b'\\x01\\x00\\x00\\x00'), 4: bytearray(b'\\x01\\x00\\x00\\x00'), 5: bytearray(b'AA'), 6: bytearray(b'\\x01\\x00\\x00\\x00'), 7: bytearray(b'7820L'), 8: bytearray(b'ABE'), 9: bytearray(b'ABE'), 10: bytearray(b'\\x01\\x00\\x00\\x00'), 11: bytearray(b'\\x01\\x00\\x00\\x00'), 12: bytearray(b'\\xae\\xff\\xff\\xff'), 13: bytearray(b'\\x01\\x00\\x00\\x00'), 14: bytearray(b'\\x01\\x00\\x00\\x00'), 15: bytearray(b'\\x15\\x00\\x00\\x00'), 16: bytearray(b'\\x0f\\x00\\x00\\x00'), 17: bytearray(b'\\x08\\x00\\x00\\x00'), 18: bytearray(b'\\x1f\\x00\\x00\\x00'), 19: bytearray(b'\\x01\\x00\\x00\\x00'), 20: bytearray(b'\\x01\\x00\\x00\\x00'), 21: bytearray(b'\\x01\\x00\\x00\\x00'), 22: bytearray(b'\\x01\\x00\\x00\\x00'), 23: bytearray(b'\\xb0\\xff\\xff\\xff'), 24: bytearray(b'\\x00\\x00\\x00\\x00'), 25: bytearray(b'\\x00\\x00\\x00\\x00'), 26: bytearray(b'A'), 27: bytearray(b'\\x00\\x00\\x00\\x00'), 28: bytearray(b'\\x00\\x00\\x00\\x00'), 29: bytearray(b'\\x00\\x00\\x00\\x00'), 30: bytearray(b'\\x00\\x00\\x00\\x00'), 31: bytearray(b'\\x00\\x00\\x00\\x00')} |          {1: bytearray(b'\\xdf\\x07\\x00\\x00'), 2: bytearray(b'\\x0c\\x00\\x00\\x00'), 3: bytearray(b'\\x1f\\x00\\x00\\x00'), 4: bytearray(b'\\x07\\x00\\x00\\x00'), 5: bytearray(b'WN'), 6: bytearray(b'\\xfd \\x00\\x00'), 7: bytearray(b'N9EAMQ'), 8: bytearray(b'YUM'), 9: bytearray(b'YUM'), 10: bytearray(b'7\\t\\x00\\x00'), 11: bytearray(b'`\\t\\x00\\x00'), 12: bytearray(b'q\\x06\\x00\\x00'), 13: bytearray(b'\\xac\\x00\\x00\\x00'), 14: bytearray(b'`\\t\\x00\\x00'), 15: bytearray(b'\\xc1\\x02\\x00\\x00'), 16: bytearray(b'\\xda\\x02\\x00\\x00'), 17: bytearray(b'\\xb2\\x02\\x00\\x00'), 18: bytearray(b'w\\x13\\x00\\x00'), 19: bytearray(b'`\\t\\x00\\x00'), 20: bytearray(b'\\xf8\\x00\\x00\\x00'), 21: bytearray(b'7\\t\\x00\\x00'), 22: bytearray(b'`\\t\\x00\\x00'), 23: bytearray(b'd\\x06\\x00\\x00'), 24: bytearray(b'\\x01\\x00\\x00\\x00'), 25: bytearray(b'\\x01\\x00\\x00\\x00'), 26: bytearray(b'C'), 27: bytearray(b'\\x19\\x04\\x00\\x00'), 28: bytearray(b'\\x9a\\x00\\x00\\x00'), 29: bytearray(b'd\\x06\\x00\\x00'), 30: bytearray(b'\\xa6\\x04\\x00\\x00'), 31: bytearray(b'\\xbb\\x04\\x00\\x00')} |         None |           [4] |         None |             0 |          Row(air_system_delay=Row(column_size=131307, value_count=479230, null_value_count=382458, nan_value_count=None, lower_bound=0, upper_bound=1049), air_time=Row(column_size=576617, value_count=479230, null_value_count=9513, nan_value_count=None, lower_bound=8, upper_bound=690), airline=Row(column_size=131603, value_count=479230, null_value_count=0, nan_value_count=None, lower_bound='AA', upper_bound='WN'), airline_delay=Row(column_size=132839, value_count=479230, null_value_count=382458, nan_value_count=None, lower_bound=0, upper_bound=1636), arrival_delay=Row(column_size=509403, value_count=479230, null_value_count=9513, nan_value_count=None, lower_bound=-80, upper_bound=1636), arrival_time=Row(column_size=673278, value_count=479230, null_value_count=8453, nan_value_count=None, lower_bound=1, upper_bound=2400), cancellation_reason=Row(column_size=15368, value_count=479230, null_value_count=471167, nan_value_count=None, lower_bound='A', upper_bound='C'), cancelled=Row(column_size=13550, value_count=479230, null_value_count=0, nan_value_count=None, lower_bound=0, upper_bound=1), day=Row(column_size=1299, value_count=479230, null_value_count=0, nan_value_count=None, lower_bound=1, upper_bound=31), day_of_week=Row(column_size=1277, value_count=479230, null_value_count=0, nan_value_count=None, lower_bound=1, upper_bound=7), departure_delay=Row(column_size=459886, value_count=479230, null_value_count=7679, nan_value_count=None, lower_bound=-82, upper_bound=1649), departure_time=Row(column_size=672629, value_count=479230, null_value_count=7679, nan_value_count=None, lower_bound=1, upper_bound=2400), destination_airport=Row(column_size=469992, value_count=479230, null_value_count=0, nan_value_count=None, lower_bound='ABE', upper_bound='YUM'), distance=Row(column_size=663728, value_count=479230, null_value_count=0, nan_value_count=None, lower_bound=31, upper_bound=4983), diverted=Row(column_size=5312, value_count=479230, null_value_count=0, nan_value_count=None, lower_bound=0, upper_bound=1), elapsed_time=Row(column_size=578324, value_count=479230, null_value_count=9513, nan_value_count=None, lower_bound=15, upper_bound=730), flight_number=Row(column_size=796273, value_count=479230, null_value_count=0, nan_value_count=None, lower_bound=1, upper_bound=8445), late_aircraft_delay=Row(column_size=134974, value_count=479230, null_value_count=382458, nan_value_count=None, lower_bound=0, upper_bound=1190), month=Row(column_size=1136, value_count=479230, null_value_count=0, nan_value_count=None, lower_bound=12, upper_bound=12), origin_airport=Row(column_size=499647, value_count=479230, null_value_count=0, nan_value_count=None, lower_bound='ABE', upper_bound='YUM'), scheduled_arrival=Row(column_size=663918, value_count=479230, null_value_count=0, nan_value_count=None, lower_bound=1, upper_bound=2359), scheduled_departure=Row(column_size=158254, value_count=479230, null_value_count=0, nan_value_count=None, lower_bound=1, upper_bound=2359), scheduled_time=Row(column_size=542137, value_count=479230, null_value_count=0, nan_value_count=None, lower_bound=21, upper_bound=705), security_delay=Row(column_size=58138, value_count=479230, null_value_count=382458, nan_value_count=None, lower_bound=0, upper_bound=154), tail_number=Row(column_size=786943, value_count=479230, null_value_count=1161, nan_value_count=None, lower_bound='7820L', upper_bound='N9EAMQ'), taxi_in=Row(column_size=314846, value_count=479230, null_value_count=8453, nan_value_count=None, lower_bound=1, upper_bound=248), taxi_out=Row(column_size=328777, value_count=479230, null_value_count=7961, nan_value_count=None, lower_bound=1, upper_bound=172), weather_delay=Row(column_size=73400, value_count=479230, null_value_count=382458, nan_value_count=None, lower_bound=0, upper_bound=1211), wheels_off=Row(column_size=672691, value_count=479230, null_value_count=7961, nan_value_count=None, lower_bound=1, upper_bound=2400), wheels_on=Row(column_size=673279, value_count=479230, null_value_count=8453, nan_value_count=None, lower_bound=1, upper_bound=2400), year=Row(column_size=1136, value_count=479230, null_value_count=0, nan_value_count=None, lower_bound=2015, upper_bound=2015)) |\n",
       "|       0 |  s3://warehouse/db/flights/data/month=1/00001-940-22846555-129f-4460-bd05-fe6cf2fc1357-0-00001.parquet |     PARQUET |       0 |  Row(month=1) |       469968 |           10532934 | {1: 1136, 2: 1136, 3: 1298, 4: 1280, 5: 134633, 6: 780102, 7: 776295, 8: 483031, 9: 475939, 10: 153371, 11: 660927, 12: 446381, 13: 310506, 14: 661083, 15: 529725, 16: 571562, 17: 567827, 18: 650936, 19: 661462, 20: 267295, 21: 651013, 22: 661462, 23: 500469, 24: 4290, 25: 17434, 26: 20142, 27: 129601, 28: 56268, 29: 129601, 30: 126924, 31: 73997} | {1: 469968, 2: 469968, 3: 469968, 4: 469968, 5: 469968, 6: 469968, 7: 469968, 8: 469968, 9: 469968, 10: 469968, 11: 469968, 12: 469968, 13: 469968, 14: 469968, 15: 469968, 16: 469968, 17: 469968, 18: 469968, 19: 469968, 20: 469968, 21: 469968, 22: 469968, 23: 469968, 24: 469968, 25: 469968, 26: 469968, 27: 469968, 28: 469968, 29: 469968, 30: 469968, 31: 469968} | {1: 0, 2: 0, 3: 0, 4: 0, 5: 0, 6: 0, 7: 2782, 8: 0, 9: 0, 10: 0, 11: 11657, 12: 11657, 13: 11876, 14: 11876, 15: 0, 16: 12955, 17: 12955, 18: 0, 19: 12271, 20: 12271, 21: 0, 22: 12271, 23: 12955, 24: 0, 25: 0, 26: 457986, 27: 374017, 28: 374017, 29: 374017, 30: 374017, 31: 374017} |               {} |   {1: bytearray(b'\\xdf\\x07\\x00\\x00'), 2: bytearray(b'\\x01\\x00\\x00\\x00'), 3: bytearray(b'\\x01\\x00\\x00\\x00'), 4: bytearray(b'\\x01\\x00\\x00\\x00'), 5: bytearray(b'AA'), 6: bytearray(b'\\x01\\x00\\x00\\x00'), 7: bytearray(b'N001AA'), 8: bytearray(b'ABE'), 9: bytearray(b'ABE'), 10: bytearray(b'\\x05\\x00\\x00\\x00'), 11: bytearray(b'\\x01\\x00\\x00\\x00'), 12: bytearray(b'\\xd0\\xff\\xff\\xff'), 13: bytearray(b'\\x01\\x00\\x00\\x00'), 14: bytearray(b'\\x01\\x00\\x00\\x00'), 15: bytearray(b'\\x17\\x00\\x00\\x00'), 16: bytearray(b'\\x11\\x00\\x00\\x00'), 17: bytearray(b'\\x08\\x00\\x00\\x00'), 18: bytearray(b'\\x1f\\x00\\x00\\x00'), 19: bytearray(b'\\x01\\x00\\x00\\x00'), 20: bytearray(b'\\x01\\x00\\x00\\x00'), 21: bytearray(b'\\x01\\x00\\x00\\x00'), 22: bytearray(b'\\x01\\x00\\x00\\x00'), 23: bytearray(b'\\xae\\xff\\xff\\xff'), 24: bytearray(b'\\x00\\x00\\x00\\x00'), 25: bytearray(b'\\x00\\x00\\x00\\x00'), 26: bytearray(b'A'), 27: bytearray(b'\\x00\\x00\\x00\\x00'), 28: bytearray(b'\\x00\\x00\\x00\\x00'), 29: bytearray(b'\\x00\\x00\\x00\\x00'), 30: bytearray(b'\\x00\\x00\\x00\\x00'), 31: bytearray(b'\\x00\\x00\\x00\\x00')} |       {1: bytearray(b'\\xdf\\x07\\x00\\x00'), 2: bytearray(b'\\x01\\x00\\x00\\x00'), 3: bytearray(b'\\x1f\\x00\\x00\\x00'), 4: bytearray(b'\\x07\\x00\\x00\\x00'), 5: bytearray(b'WN'), 6: bytearray(b'A&\\x00\\x00'), 7: bytearray(b'N9EAMQ'), 8: bytearray(b'YUM'), 9: bytearray(b'YUM'), 10: bytearray(b'7\\t\\x00\\x00'), 11: bytearray(b'`\\t\\x00\\x00'), 12: bytearray(b'\\xc4\\x07\\x00\\x00'), 13: bytearray(b'\\xb0\\x00\\x00\\x00'), 14: bytearray(b'`\\t\\x00\\x00'), 15: bytearray(b'\\xce\\x02\\x00\\x00'), 16: bytearray(b'\\xd4\\x02\\x00\\x00'), 17: bytearray(b'\\xa4\\x02\\x00\\x00'), 18: bytearray(b'w\\x13\\x00\\x00'), 19: bytearray(b'`\\t\\x00\\x00'), 20: bytearray(b'\\xb3\\x00\\x00\\x00'), 21: bytearray(b'7\\t\\x00\\x00'), 22: bytearray(b'`\\t\\x00\\x00'), 23: bytearray(b'\\xb3\\x07\\x00\\x00'), 24: bytearray(b'\\x01\\x00\\x00\\x00'), 25: bytearray(b'\\x01\\x00\\x00\\x00'), 26: bytearray(b'D'), 27: bytearray(b'>\\x03\\x00\\x00'), 28: bytearray(b'\\xf1\\x00\\x00\\x00'), 29: bytearray(b'\\xb3\\x07\\x00\\x00'), 30: bytearray(b'\\xb4\\x03\\x00\\x00'), 31: bytearray(b'\\xaa\\x03\\x00\\x00')} |         None |           [4] |         None |             0 |    Row(air_system_delay=Row(column_size=129601, value_count=469968, null_value_count=374017, nan_value_count=None, lower_bound=0, upper_bound=830), air_time=Row(column_size=567827, value_count=469968, null_value_count=12955, nan_value_count=None, lower_bound=8, upper_bound=676), airline=Row(column_size=134633, value_count=469968, null_value_count=0, nan_value_count=None, lower_bound='AA', upper_bound='WN'), airline_delay=Row(column_size=129601, value_count=469968, null_value_count=374017, nan_value_count=None, lower_bound=0, upper_bound=1971), arrival_delay=Row(column_size=500469, value_count=469968, null_value_count=12955, nan_value_count=None, lower_bound=-82, upper_bound=1971), arrival_time=Row(column_size=661462, value_count=469968, null_value_count=12271, nan_value_count=None, lower_bound=1, upper_bound=2400), cancellation_reason=Row(column_size=20142, value_count=469968, null_value_count=457986, nan_value_count=None, lower_bound='A', upper_bound='D'), cancelled=Row(column_size=17434, value_count=469968, null_value_count=0, nan_value_count=None, lower_bound=0, upper_bound=1), day=Row(column_size=1298, value_count=469968, null_value_count=0, nan_value_count=None, lower_bound=1, upper_bound=31), day_of_week=Row(column_size=1280, value_count=469968, null_value_count=0, nan_value_count=None, lower_bound=1, upper_bound=7), departure_delay=Row(column_size=446381, value_count=469968, null_value_count=11657, nan_value_count=None, lower_bound=-48, upper_bound=1988), departure_time=Row(column_size=660927, value_count=469968, null_value_count=11657, nan_value_count=None, lower_bound=1, upper_bound=2400), destination_airport=Row(column_size=475939, value_count=469968, null_value_count=0, nan_value_count=None, lower_bound='ABE', upper_bound='YUM'), distance=Row(column_size=650936, value_count=469968, null_value_count=0, nan_value_count=None, lower_bound=31, upper_bound=4983), diverted=Row(column_size=4290, value_count=469968, null_value_count=0, nan_value_count=None, lower_bound=0, upper_bound=1), elapsed_time=Row(column_size=571562, value_count=469968, null_value_count=12955, nan_value_count=None, lower_bound=17, upper_bound=724), flight_number=Row(column_size=780102, value_count=469968, null_value_count=0, nan_value_count=None, lower_bound=1, upper_bound=9793), late_aircraft_delay=Row(column_size=126924, value_count=469968, null_value_count=374017, nan_value_count=None, lower_bound=0, upper_bound=948), month=Row(column_size=1136, value_count=469968, null_value_count=0, nan_value_count=None, lower_bound=1, upper_bound=1), origin_airport=Row(column_size=483031, value_count=469968, null_value_count=0, nan_value_count=None, lower_bound='ABE', upper_bound='YUM'), scheduled_arrival=Row(column_size=651013, value_count=469968, null_value_count=0, nan_value_count=None, lower_bound=1, upper_bound=2359), scheduled_departure=Row(column_size=153371, value_count=469968, null_value_count=0, nan_value_count=None, lower_bound=5, upper_bound=2359), scheduled_time=Row(column_size=529725, value_count=469968, null_value_count=0, nan_value_count=None, lower_bound=23, upper_bound=718), security_delay=Row(column_size=56268, value_count=469968, null_value_count=374017, nan_value_count=None, lower_bound=0, upper_bound=241), tail_number=Row(column_size=776295, value_count=469968, null_value_count=2782, nan_value_count=None, lower_bound='N001AA', upper_bound='N9EAMQ'), taxi_in=Row(column_size=267295, value_count=469968, null_value_count=12271, nan_value_count=None, lower_bound=1, upper_bound=179), taxi_out=Row(column_size=310506, value_count=469968, null_value_count=11876, nan_value_count=None, lower_bound=1, upper_bound=176), weather_delay=Row(column_size=73997, value_count=469968, null_value_count=374017, nan_value_count=None, lower_bound=0, upper_bound=938), wheels_off=Row(column_size=661083, value_count=469968, null_value_count=11876, nan_value_count=None, lower_bound=1, upper_bound=2400), wheels_on=Row(column_size=661462, value_count=469968, null_value_count=12271, nan_value_count=None, lower_bound=1, upper_bound=2400), year=Row(column_size=1136, value_count=469968, null_value_count=0, nan_value_count=None, lower_bound=2015, upper_bound=2015)) |\n",
       "|       0 |  s3://warehouse/db/flights/data/month=6/00002-941-22846555-129f-4460-bd05-fe6cf2fc1357-0-00001.parquet |     PARQUET |       0 |  Row(month=6) |       503897 |           11434535 | {1: 1225, 2: 1225, 3: 1385, 4: 1366, 5: 149356, 6: 834819, 7: 828293, 8: 517778, 9: 500099, 10: 160386, 11: 710956, 12: 519926, 13: 333443, 14: 711224, 15: 561888, 16: 614675, 17: 610076, 18: 697777, 19: 711423, 20: 329866, 21: 697849, 22: 711425, 23: 544611, 24: 6560, 25: 16760, 26: 18964, 27: 153239, 28: 63456, 29: 157053, 30: 156089, 31: 83970} | {1: 503897, 2: 503897, 3: 503897, 4: 503897, 5: 503897, 6: 503897, 7: 503897, 8: 503897, 9: 503897, 10: 503897, 11: 503897, 12: 503897, 13: 503897, 14: 503897, 15: 503897, 16: 503897, 17: 503897, 18: 503897, 19: 503897, 20: 503897, 21: 503897, 22: 503897, 23: 503897, 24: 503897, 25: 503897, 26: 503897, 27: 503897, 28: 503897, 29: 503897, 30: 503897, 31: 503897} |        {1: 0, 2: 0, 3: 0, 4: 0, 5: 0, 6: 0, 7: 1475, 8: 0, 9: 0, 10: 0, 11: 8698, 12: 8698, 13: 9055, 14: 9055, 15: 0, 16: 11050, 17: 11050, 18: 0, 19: 9389, 20: 9389, 21: 0, 22: 9389, 23: 11050, 24: 0, 25: 0, 26: 494777, 27: 388155, 28: 388155, 29: 388155, 30: 388155, 31: 388155} |               {} |   {1: bytearray(b'\\xdf\\x07\\x00\\x00'), 2: bytearray(b'\\x06\\x00\\x00\\x00'), 3: bytearray(b'\\x01\\x00\\x00\\x00'), 4: bytearray(b'\\x01\\x00\\x00\\x00'), 5: bytearray(b'AA'), 6: bytearray(b'\\x01\\x00\\x00\\x00'), 7: bytearray(b'N001AA'), 8: bytearray(b'ABE'), 9: bytearray(b'ABE'), 10: bytearray(b'\\x03\\x00\\x00\\x00'), 11: bytearray(b'\\x01\\x00\\x00\\x00'), 12: bytearray(b'\\xcc\\xff\\xff\\xff'), 13: bytearray(b'\\x01\\x00\\x00\\x00'), 14: bytearray(b'\\x01\\x00\\x00\\x00'), 15: bytearray(b'\\x12\\x00\\x00\\x00'), 16: bytearray(b'\\x0f\\x00\\x00\\x00'), 17: bytearray(b'\\x07\\x00\\x00\\x00'), 18: bytearray(b'\\x1f\\x00\\x00\\x00'), 19: bytearray(b'\\x01\\x00\\x00\\x00'), 20: bytearray(b'\\x01\\x00\\x00\\x00'), 21: bytearray(b'\\x01\\x00\\x00\\x00'), 22: bytearray(b'\\x01\\x00\\x00\\x00'), 23: bytearray(b'\\xbe\\xff\\xff\\xff'), 24: bytearray(b'\\x00\\x00\\x00\\x00'), 25: bytearray(b'\\x00\\x00\\x00\\x00'), 26: bytearray(b'A'), 27: bytearray(b'\\x00\\x00\\x00\\x00'), 28: bytearray(b'\\x00\\x00\\x00\\x00'), 29: bytearray(b'\\x00\\x00\\x00\\x00'), 30: bytearray(b'\\x00\\x00\\x00\\x00'), 31: bytearray(b'\\x00\\x00\\x00\\x00')} | {1: bytearray(b'\\xdf\\x07\\x00\\x00'), 2: bytearray(b'\\x06\\x00\\x00\\x00'), 3: bytearray(b'\\x1e\\x00\\x00\\x00'), 4: bytearray(b'\\x07\\x00\\x00\\x00'), 5: bytearray(b'WN'), 6: bytearray(b'\\x0e\\x1d\\x00\\x00'), 7: bytearray(b'N9EAMQ'), 8: bytearray(b'YUM'), 9: bytearray(b'YUM'), 10: bytearray(b'7\\t\\x00\\x00'), 11: bytearray(b'`\\t\\x00\\x00'), 12: bytearray(b'\\xf2\\x05\\x00\\x00'), 13: bytearray(b'\\xa4\\x00\\x00\\x00'), 14: bytearray(b'`\\t\\x00\\x00'), 15: bytearray(b'\\x99\\x02\\x00\\x00'), 16: bytearray(b'\\xab\\x02\\x00\\x00'), 17: bytearray(b'\\x8b\\x02\\x00\\x00'), 18: bytearray(b'w\\x13\\x00\\x00'), 19: bytearray(b'`\\t\\x00\\x00'), 20: bytearray(b'\\xac\\x00\\x00\\x00'), 21: bytearray(b'7\\t\\x00\\x00'), 22: bytearray(b'`\\t\\x00\\x00'), 23: bytearray(b'\\xe4\\x05\\x00\\x00'), 24: bytearray(b'\\x01\\x00\\x00\\x00'), 25: bytearray(b'\\x01\\x00\\x00\\x00'), 26: bytearray(b'C'), 27: bytearray(b'\\xdf\\x03\\x00\\x00'), 28: bytearray(b'\\xbf\\x00\\x00\\x00'), 29: bytearray(b'\\xe4\\x05\\x00\\x00'), 30: bytearray(b'\\xf2\\x03\\x00\\x00'), 31: bytearray(b',\\x04\\x00\\x00')} |         None |           [4] |         None |             0 |         Row(air_system_delay=Row(column_size=153239, value_count=503897, null_value_count=388155, nan_value_count=None, lower_bound=0, upper_bound=991), air_time=Row(column_size=610076, value_count=503897, null_value_count=11050, nan_value_count=None, lower_bound=7, upper_bound=651), airline=Row(column_size=149356, value_count=503897, null_value_count=0, nan_value_count=None, lower_bound='AA', upper_bound='WN'), airline_delay=Row(column_size=157053, value_count=503897, null_value_count=388155, nan_value_count=None, lower_bound=0, upper_bound=1508), arrival_delay=Row(column_size=544611, value_count=503897, null_value_count=11050, nan_value_count=None, lower_bound=-66, upper_bound=1508), arrival_time=Row(column_size=711425, value_count=503897, null_value_count=9389, nan_value_count=None, lower_bound=1, upper_bound=2400), cancellation_reason=Row(column_size=18964, value_count=503897, null_value_count=494777, nan_value_count=None, lower_bound='A', upper_bound='C'), cancelled=Row(column_size=16760, value_count=503897, null_value_count=0, nan_value_count=None, lower_bound=0, upper_bound=1), day=Row(column_size=1385, value_count=503897, null_value_count=0, nan_value_count=None, lower_bound=1, upper_bound=30), day_of_week=Row(column_size=1366, value_count=503897, null_value_count=0, nan_value_count=None, lower_bound=1, upper_bound=7), departure_delay=Row(column_size=519926, value_count=503897, null_value_count=8698, nan_value_count=None, lower_bound=-52, upper_bound=1522), departure_time=Row(column_size=710956, value_count=503897, null_value_count=8698, nan_value_count=None, lower_bound=1, upper_bound=2400), destination_airport=Row(column_size=500099, value_count=503897, null_value_count=0, nan_value_count=None, lower_bound='ABE', upper_bound='YUM'), distance=Row(column_size=697777, value_count=503897, null_value_count=0, nan_value_count=None, lower_bound=31, upper_bound=4983), diverted=Row(column_size=6560, value_count=503897, null_value_count=0, nan_value_count=None, lower_bound=0, upper_bound=1), elapsed_time=Row(column_size=614675, value_count=503897, null_value_count=11050, nan_value_count=None, lower_bound=15, upper_bound=683), flight_number=Row(column_size=834819, value_count=503897, null_value_count=0, nan_value_count=None, lower_bound=1, upper_bound=7438), late_aircraft_delay=Row(column_size=156089, value_count=503897, null_value_count=388155, nan_value_count=None, lower_bound=0, upper_bound=1010), month=Row(column_size=1225, value_count=503897, null_value_count=0, nan_value_count=None, lower_bound=6, upper_bound=6), origin_airport=Row(column_size=517778, value_count=503897, null_value_count=0, nan_value_count=None, lower_bound='ABE', upper_bound='YUM'), scheduled_arrival=Row(column_size=697849, value_count=503897, null_value_count=0, nan_value_count=None, lower_bound=1, upper_bound=2359), scheduled_departure=Row(column_size=160386, value_count=503897, null_value_count=0, nan_value_count=None, lower_bound=3, upper_bound=2359), scheduled_time=Row(column_size=561888, value_count=503897, null_value_count=0, nan_value_count=None, lower_bound=18, upper_bound=665), security_delay=Row(column_size=63456, value_count=503897, null_value_count=388155, nan_value_count=None, lower_bound=0, upper_bound=191), tail_number=Row(column_size=828293, value_count=503897, null_value_count=1475, nan_value_count=None, lower_bound='N001AA', upper_bound='N9EAMQ'), taxi_in=Row(column_size=329866, value_count=503897, null_value_count=9389, nan_value_count=None, lower_bound=1, upper_bound=172), taxi_out=Row(column_size=333443, value_count=503897, null_value_count=9055, nan_value_count=None, lower_bound=1, upper_bound=164), weather_delay=Row(column_size=83970, value_count=503897, null_value_count=388155, nan_value_count=None, lower_bound=0, upper_bound=1068), wheels_off=Row(column_size=711224, value_count=503897, null_value_count=9055, nan_value_count=None, lower_bound=1, upper_bound=2400), wheels_on=Row(column_size=711423, value_count=503897, null_value_count=9389, nan_value_count=None, lower_bound=1, upper_bound=2400), year=Row(column_size=1225, value_count=503897, null_value_count=0, nan_value_count=None, lower_bound=2015, upper_bound=2015)) |\n",
       "|       0 |  s3://warehouse/db/flights/data/month=3/00003-942-22846555-129f-4460-bd05-fe6cf2fc1357-0-00001.parquet |     PARQUET |       0 |  Row(month=3) |       504312 |           11302473 | {1: 1225, 2: 1224, 3: 1385, 4: 1368, 5: 147546, 6: 835804, 7: 828220, 8: 525790, 9: 500117, 10: 161509, 11: 706366, 12: 497476, 13: 314730, 14: 706546, 15: 570469, 16: 608410, 17: 600359, 18: 698293, 19: 706262, 20: 340633, 21: 698432, 22: 706262, 23: 542286, 24: 4888, 25: 16379, 26: 18055, 27: 126940, 28: 60267, 29: 135736, 30: 139215, 31: 72937} | {1: 504312, 2: 504312, 3: 504312, 4: 504312, 5: 504312, 6: 504312, 7: 504312, 8: 504312, 9: 504312, 10: 504312, 11: 504312, 12: 504312, 13: 504312, 14: 504312, 15: 504312, 16: 504312, 17: 504312, 18: 504312, 19: 504312, 20: 504312, 21: 504312, 22: 504312, 23: 504312, 24: 504312, 25: 504312, 26: 504312, 27: 504312, 28: 504312, 29: 504312, 30: 504312, 31: 504312} | {1: 0, 2: 0, 3: 0, 4: 0, 5: 0, 6: 0, 7: 1814, 8: 0, 9: 0, 10: 0, 11: 10639, 12: 10639, 13: 10883, 14: 10883, 15: 0, 16: 12174, 17: 12174, 18: 0, 19: 11275, 20: 11275, 21: 0, 22: 11275, 23: 12174, 24: 0, 25: 0, 26: 493310, 27: 408860, 28: 408860, 29: 408860, 30: 408860, 31: 408860} |               {} |   {1: bytearray(b'\\xdf\\x07\\x00\\x00'), 2: bytearray(b'\\x03\\x00\\x00\\x00'), 3: bytearray(b'\\x01\\x00\\x00\\x00'), 4: bytearray(b'\\x01\\x00\\x00\\x00'), 5: bytearray(b'AA'), 6: bytearray(b'\\x01\\x00\\x00\\x00'), 7: bytearray(b'D942DN'), 8: bytearray(b'ABE'), 9: bytearray(b'ABE'), 10: bytearray(b'\\x01\\x00\\x00\\x00'), 11: bytearray(b'\\x01\\x00\\x00\\x00'), 12: bytearray(b'\\xd7\\xff\\xff\\xff'), 13: bytearray(b'\\x01\\x00\\x00\\x00'), 14: bytearray(b'\\x01\\x00\\x00\\x00'), 15: bytearray(b'\\x14\\x00\\x00\\x00'), 16: bytearray(b'\\x0f\\x00\\x00\\x00'), 17: bytearray(b'\\x07\\x00\\x00\\x00'), 18: bytearray(b'\\x1f\\x00\\x00\\x00'), 19: bytearray(b'\\x01\\x00\\x00\\x00'), 20: bytearray(b'\\x01\\x00\\x00\\x00'), 21: bytearray(b'\\x01\\x00\\x00\\x00'), 22: bytearray(b'\\x01\\x00\\x00\\x00'), 23: bytearray(b'\\xa9\\xff\\xff\\xff'), 24: bytearray(b'\\x00\\x00\\x00\\x00'), 25: bytearray(b'\\x00\\x00\\x00\\x00'), 26: bytearray(b'A'), 27: bytearray(b'\\x00\\x00\\x00\\x00'), 28: bytearray(b'\\x00\\x00\\x00\\x00'), 29: bytearray(b'\\x00\\x00\\x00\\x00'), 30: bytearray(b'\\x00\\x00\\x00\\x00'), 31: bytearray(b'\\x00\\x00\\x00\\x00')} |                      {1: bytearray(b'\\xdf\\x07\\x00\\x00'), 2: bytearray(b'\\x03\\x00\\x00\\x00'), 3: bytearray(b'\\x1f\\x00\\x00\\x00'), 4: bytearray(b'\\x07\\x00\\x00\\x00'), 5: bytearray(b'WN'), 6: bytearray(b'B&\\x00\\x00'), 7: bytearray(b'N9EAMQ'), 8: bytearray(b'YUM'), 9: bytearray(b'YUM'), 10: bytearray(b'7\\t\\x00\\x00'), 11: bytearray(b'`\\t\\x00\\x00'), 12: bytearray(b'I\\x06\\x00\\x00'), 13: bytearray(b'\\xb4\\x00\\x00\\x00'), 14: bytearray(b'`\\t\\x00\\x00'), 15: bytearray(b'\\xa8\\x02\\x00\\x00'), 16: bytearray(b'\\xdd\\x02\\x00\\x00'), 17: bytearray(b'\\xb2\\x02\\x00\\x00'), 18: bytearray(b'w\\x13\\x00\\x00'), 19: bytearray(b'`\\t\\x00\\x00'), 20: bytearray(b'\\xa9\\x00\\x00\\x00'), 21: bytearray(b'`\\t\\x00\\x00'), 22: bytearray(b'`\\t\\x00\\x00'), 23: bytearray(b'>\\x06\\x00\\x00'), 24: bytearray(b'\\x01\\x00\\x00\\x00'), 25: bytearray(b'\\x01\\x00\\x00\\x00'), 26: bytearray(b'D'), 27: bytearray(b'M\\x04\\x00\\x00'), 28: bytearray(b'\\xdd\\x00\\x00\\x00'), 29: bytearray(b'(\\x06\\x00\\x00'), 30: bytearray(b'N\\x04\\x00\\x00'), 31: bytearray(b'^\\x04\\x00\\x00')} |         None |           [4] |         None |             0 | Row(air_system_delay=Row(column_size=126940, value_count=504312, null_value_count=408860, nan_value_count=None, lower_bound=0, upper_bound=1101), air_time=Row(column_size=600359, value_count=504312, null_value_count=12174, nan_value_count=None, lower_bound=7, upper_bound=690), airline=Row(column_size=147546, value_count=504312, null_value_count=0, nan_value_count=None, lower_bound='AA', upper_bound='WN'), airline_delay=Row(column_size=135736, value_count=504312, null_value_count=408860, nan_value_count=None, lower_bound=0, upper_bound=1576), arrival_delay=Row(column_size=542286, value_count=504312, null_value_count=12174, nan_value_count=None, lower_bound=-87, upper_bound=1598), arrival_time=Row(column_size=706262, value_count=504312, null_value_count=11275, nan_value_count=None, lower_bound=1, upper_bound=2400), cancellation_reason=Row(column_size=18055, value_count=504312, null_value_count=493310, nan_value_count=None, lower_bound='A', upper_bound='D'), cancelled=Row(column_size=16379, value_count=504312, null_value_count=0, nan_value_count=None, lower_bound=0, upper_bound=1), day=Row(column_size=1385, value_count=504312, null_value_count=0, nan_value_count=None, lower_bound=1, upper_bound=31), day_of_week=Row(column_size=1368, value_count=504312, null_value_count=0, nan_value_count=None, lower_bound=1, upper_bound=7), departure_delay=Row(column_size=497476, value_count=504312, null_value_count=10639, nan_value_count=None, lower_bound=-41, upper_bound=1609), departure_time=Row(column_size=706366, value_count=504312, null_value_count=10639, nan_value_count=None, lower_bound=1, upper_bound=2400), destination_airport=Row(column_size=500117, value_count=504312, null_value_count=0, nan_value_count=None, lower_bound='ABE', upper_bound='YUM'), distance=Row(column_size=698293, value_count=504312, null_value_count=0, nan_value_count=None, lower_bound=31, upper_bound=4983), diverted=Row(column_size=4888, value_count=504312, null_value_count=0, nan_value_count=None, lower_bound=0, upper_bound=1), elapsed_time=Row(column_size=608410, value_count=504312, null_value_count=12174, nan_value_count=None, lower_bound=15, upper_bound=733), flight_number=Row(column_size=835804, value_count=504312, null_value_count=0, nan_value_count=None, lower_bound=1, upper_bound=9794), late_aircraft_delay=Row(column_size=139215, value_count=504312, null_value_count=408860, nan_value_count=None, lower_bound=0, upper_bound=1102), month=Row(column_size=1224, value_count=504312, null_value_count=0, nan_value_count=None, lower_bound=3, upper_bound=3), origin_airport=Row(column_size=525790, value_count=504312, null_value_count=0, nan_value_count=None, lower_bound='ABE', upper_bound='YUM'), scheduled_arrival=Row(column_size=698432, value_count=504312, null_value_count=0, nan_value_count=None, lower_bound=1, upper_bound=2400), scheduled_departure=Row(column_size=161509, value_count=504312, null_value_count=0, nan_value_count=None, lower_bound=1, upper_bound=2359), scheduled_time=Row(column_size=570469, value_count=504312, null_value_count=0, nan_value_count=None, lower_bound=20, upper_bound=680), security_delay=Row(column_size=60267, value_count=504312, null_value_count=408860, nan_value_count=None, lower_bound=0, upper_bound=221), tail_number=Row(column_size=828220, value_count=504312, null_value_count=1814, nan_value_count=None, lower_bound='D942DN', upper_bound='N9EAMQ'), taxi_in=Row(column_size=340633, value_count=504312, null_value_count=11275, nan_value_count=None, lower_bound=1, upper_bound=169), taxi_out=Row(column_size=314730, value_count=504312, null_value_count=10883, nan_value_count=None, lower_bound=1, upper_bound=180), weather_delay=Row(column_size=72937, value_count=504312, null_value_count=408860, nan_value_count=None, lower_bound=0, upper_bound=1118), wheels_off=Row(column_size=706546, value_count=504312, null_value_count=10883, nan_value_count=None, lower_bound=1, upper_bound=2400), wheels_on=Row(column_size=706262, value_count=504312, null_value_count=11275, nan_value_count=None, lower_bound=1, upper_bound=2400), year=Row(column_size=1225, value_count=504312, null_value_count=0, nan_value_count=None, lower_bound=2015, upper_bound=2015)) |\n",
       "|       0 |  s3://warehouse/db/flights/data/month=5/00004-943-22846555-129f-4460-bd05-fe6cf2fc1357-0-00001.parquet |     PARQUET |       0 |  Row(month=5) |       496993 |           11088572 | {1: 1182, 2: 1182, 3: 1346, 4: 1325, 5: 144686, 6: 823619, 7: 814737, 8: 506197, 9: 495986, 10: 158493, 11: 697835, 12: 475032, 13: 325019, 14: 698132, 15: 558271, 16: 598704, 17: 594212, 18: 688171, 19: 698583, 20: 315532, 21: 688301, 22: 698588, 23: 524833, 24: 5901, 25: 12050, 26: 13382, 27: 126404, 28: 58192, 29: 127187, 30: 134532, 31: 74389} | {1: 496993, 2: 496993, 3: 496993, 4: 496993, 5: 496993, 6: 496993, 7: 496993, 8: 496993, 9: 496993, 10: 496993, 11: 496993, 12: 496993, 13: 496993, 14: 496993, 15: 496993, 16: 496993, 17: 496993, 18: 496993, 19: 496993, 20: 496993, 21: 496993, 22: 496993, 23: 496993, 24: 496993, 25: 496993, 26: 496993, 27: 496993, 28: 496993, 29: 496993, 30: 496993, 31: 496993} |            {1: 0, 2: 0, 3: 0, 4: 0, 5: 0, 6: 0, 7: 580, 8: 0, 9: 0, 10: 0, 11: 5336, 12: 5336, 13: 5636, 14: 5636, 15: 2, 16: 7352, 17: 7352, 18: 0, 19: 5920, 20: 5920, 21: 0, 22: 5920, 23: 7352, 24: 0, 25: 0, 26: 491299, 27: 407348, 28: 407348, 29: 407348, 30: 407348, 31: 407348} |               {} |   {1: bytearray(b'\\xdf\\x07\\x00\\x00'), 2: bytearray(b'\\x05\\x00\\x00\\x00'), 3: bytearray(b'\\x01\\x00\\x00\\x00'), 4: bytearray(b'\\x01\\x00\\x00\\x00'), 5: bytearray(b'AA'), 6: bytearray(b'\\x01\\x00\\x00\\x00'), 7: bytearray(b'N001AA'), 8: bytearray(b'ABE'), 9: bytearray(b'ABE'), 10: bytearray(b'\\x05\\x00\\x00\\x00'), 11: bytearray(b'\\x01\\x00\\x00\\x00'), 12: bytearray(b'\\xd3\\xff\\xff\\xff'), 13: bytearray(b'\\x01\\x00\\x00\\x00'), 14: bytearray(b'\\x01\\x00\\x00\\x00'), 15: bytearray(b'\\x14\\x00\\x00\\x00'), 16: bytearray(b'\\x11\\x00\\x00\\x00'), 17: bytearray(b'\\x08\\x00\\x00\\x00'), 18: bytearray(b'\\x1f\\x00\\x00\\x00'), 19: bytearray(b'\\x01\\x00\\x00\\x00'), 20: bytearray(b'\\x01\\x00\\x00\\x00'), 21: bytearray(b'\\x01\\x00\\x00\\x00'), 22: bytearray(b'\\x01\\x00\\x00\\x00'), 23: bytearray(b'\\xb4\\xff\\xff\\xff'), 24: bytearray(b'\\x00\\x00\\x00\\x00'), 25: bytearray(b'\\x00\\x00\\x00\\x00'), 26: bytearray(b'A'), 27: bytearray(b'\\x00\\x00\\x00\\x00'), 28: bytearray(b'\\x00\\x00\\x00\\x00'), 29: bytearray(b'\\x00\\x00\\x00\\x00'), 30: bytearray(b'\\x00\\x00\\x00\\x00'), 31: bytearray(b'\\x00\\x00\\x00\\x00')} |    {1: bytearray(b'\\xdf\\x07\\x00\\x00'), 2: bytearray(b'\\x05\\x00\\x00\\x00'), 3: bytearray(b'\\x1f\\x00\\x00\\x00'), 4: bytearray(b'\\x07\\x00\\x00\\x00'), 5: bytearray(b'WN'), 6: bytearray(b'\\x0e\\x1d\\x00\\x00'), 7: bytearray(b'N9EAMQ'), 8: bytearray(b'YUM'), 9: bytearray(b'YUM'), 10: bytearray(b'7\\t\\x00\\x00'), 11: bytearray(b'`\\t\\x00\\x00'), 12: bytearray(b'\\xd4\\x05\\x00\\x00'), 13: bytearray(b'\\xc8\\x00\\x00\\x00'), 14: bytearray(b'`\\t\\x00\\x00'), 15: bytearray(b'\\x99\\x02\\x00\\x00'), 16: bytearray(b'\\xbe\\x02\\x00\\x00'), 17: bytearray(b'\\x88\\x02\\x00\\x00'), 18: bytearray(b'w\\x13\\x00\\x00'), 19: bytearray(b'`\\t\\x00\\x00'), 20: bytearray(b'\\xac\\x00\\x00\\x00'), 21: bytearray(b'7\\t\\x00\\x00'), 22: bytearray(b'`\\t\\x00\\x00'), 23: bytearray(b'\\xc8\\x05\\x00\\x00'), 24: bytearray(b'\\x01\\x00\\x00\\x00'), 25: bytearray(b'\\x01\\x00\\x00\\x00'), 26: bytearray(b'D'), 27: bytearray(b'R\\x03\\x00\\x00'), 28: bytearray(b'\\xaf\\x00\\x00\\x00'), 29: bytearray(b'\\xc8\\x05\\x00\\x00'), 30: bytearray(b'3\\x05\\x00\\x00'), 31: bytearray(b'\\xfd\\x03\\x00\\x00')} |         None |           [4] |         None |             0 |             Row(air_system_delay=Row(column_size=126404, value_count=496993, null_value_count=407348, nan_value_count=None, lower_bound=0, upper_bound=850), air_time=Row(column_size=594212, value_count=496993, null_value_count=7352, nan_value_count=None, lower_bound=8, upper_bound=648), airline=Row(column_size=144686, value_count=496993, null_value_count=0, nan_value_count=None, lower_bound='AA', upper_bound='WN'), airline_delay=Row(column_size=127187, value_count=496993, null_value_count=407348, nan_value_count=None, lower_bound=0, upper_bound=1480), arrival_delay=Row(column_size=524833, value_count=496993, null_value_count=7352, nan_value_count=None, lower_bound=-76, upper_bound=1480), arrival_time=Row(column_size=698588, value_count=496993, null_value_count=5920, nan_value_count=None, lower_bound=1, upper_bound=2400), cancellation_reason=Row(column_size=13382, value_count=496993, null_value_count=491299, nan_value_count=None, lower_bound='A', upper_bound='D'), cancelled=Row(column_size=12050, value_count=496993, null_value_count=0, nan_value_count=None, lower_bound=0, upper_bound=1), day=Row(column_size=1346, value_count=496993, null_value_count=0, nan_value_count=None, lower_bound=1, upper_bound=31), day_of_week=Row(column_size=1325, value_count=496993, null_value_count=0, nan_value_count=None, lower_bound=1, upper_bound=7), departure_delay=Row(column_size=475032, value_count=496993, null_value_count=5336, nan_value_count=None, lower_bound=-45, upper_bound=1492), departure_time=Row(column_size=697835, value_count=496993, null_value_count=5336, nan_value_count=None, lower_bound=1, upper_bound=2400), destination_airport=Row(column_size=495986, value_count=496993, null_value_count=0, nan_value_count=None, lower_bound='ABE', upper_bound='YUM'), distance=Row(column_size=688171, value_count=496993, null_value_count=0, nan_value_count=None, lower_bound=31, upper_bound=4983), diverted=Row(column_size=5901, value_count=496993, null_value_count=0, nan_value_count=None, lower_bound=0, upper_bound=1), elapsed_time=Row(column_size=598704, value_count=496993, null_value_count=7352, nan_value_count=None, lower_bound=17, upper_bound=702), flight_number=Row(column_size=823619, value_count=496993, null_value_count=0, nan_value_count=None, lower_bound=1, upper_bound=7438), late_aircraft_delay=Row(column_size=134532, value_count=496993, null_value_count=407348, nan_value_count=None, lower_bound=0, upper_bound=1331), month=Row(column_size=1182, value_count=496993, null_value_count=0, nan_value_count=None, lower_bound=5, upper_bound=5), origin_airport=Row(column_size=506197, value_count=496993, null_value_count=0, nan_value_count=None, lower_bound='ABE', upper_bound='YUM'), scheduled_arrival=Row(column_size=688301, value_count=496993, null_value_count=0, nan_value_count=None, lower_bound=1, upper_bound=2359), scheduled_departure=Row(column_size=158493, value_count=496993, null_value_count=0, nan_value_count=None, lower_bound=5, upper_bound=2359), scheduled_time=Row(column_size=558271, value_count=496993, null_value_count=2, nan_value_count=None, lower_bound=20, upper_bound=665), security_delay=Row(column_size=58192, value_count=496993, null_value_count=407348, nan_value_count=None, lower_bound=0, upper_bound=175), tail_number=Row(column_size=814737, value_count=496993, null_value_count=580, nan_value_count=None, lower_bound='N001AA', upper_bound='N9EAMQ'), taxi_in=Row(column_size=315532, value_count=496993, null_value_count=5920, nan_value_count=None, lower_bound=1, upper_bound=172), taxi_out=Row(column_size=325019, value_count=496993, null_value_count=5636, nan_value_count=None, lower_bound=1, upper_bound=200), weather_delay=Row(column_size=74389, value_count=496993, null_value_count=407348, nan_value_count=None, lower_bound=0, upper_bound=1021), wheels_off=Row(column_size=698132, value_count=496993, null_value_count=5636, nan_value_count=None, lower_bound=1, upper_bound=2400), wheels_on=Row(column_size=698583, value_count=496993, null_value_count=5920, nan_value_count=None, lower_bound=1, upper_bound=2400), year=Row(column_size=1182, value_count=496993, null_value_count=0, nan_value_count=None, lower_bound=2015, upper_bound=2015)) |\n",
       "|       0 |  s3://warehouse/db/flights/data/month=9/00005-944-22846555-129f-4460-bd05-fe6cf2fc1357-0-00001.parquet |     PARQUET |       0 |  Row(month=9) |       464946 |           10218131 |      {1: 1133, 2: 1133, 3: 1294, 4: 1272, 5: 132475, 6: 772161, 7: 761893, 8: 486711, 9: 466316, 10: 152759, 11: 649087, 12: 427604, 13: 288333, 14: 649405, 15: 524483, 16: 558138, 17: 552566, 18: 632789, 19: 649770, 20: 311614, 21: 644104, 22: 649763, 23: 473469, 24: 3644, 25: 6418, 26: 6916, 27: 89845, 28: 48963, 29: 95022, 30: 96417, 31: 56999} | {1: 464946, 2: 464946, 3: 464946, 4: 464946, 5: 464946, 6: 464946, 7: 464946, 8: 464946, 9: 464946, 10: 464946, 11: 464946, 12: 464946, 13: 464946, 14: 464946, 15: 464946, 16: 464946, 17: 464946, 18: 464946, 19: 464946, 20: 464946, 21: 464946, 22: 464946, 23: 464946, 24: 464946, 25: 464946, 26: 464946, 27: 464946, 28: 464946, 29: 464946, 30: 464946, 31: 464946} |            {1: 0, 2: 0, 3: 0, 4: 0, 5: 0, 6: 0, 7: 318, 8: 0, 9: 0, 10: 0, 11: 1928, 12: 1928, 13: 2050, 14: 2050, 15: 0, 16: 2793, 17: 2793, 18: 0, 19: 2122, 20: 2122, 21: 0, 22: 2122, 23: 2793, 24: 0, 25: 0, 26: 462871, 27: 404885, 28: 404885, 29: 404885, 30: 404885, 31: 404885} |               {} |      {1: bytearray(b'\\xdf\\x07\\x00\\x00'), 2: bytearray(b'\\t\\x00\\x00\\x00'), 3: bytearray(b'\\x01\\x00\\x00\\x00'), 4: bytearray(b'\\x01\\x00\\x00\\x00'), 5: bytearray(b'AA'), 6: bytearray(b'\\x01\\x00\\x00\\x00'), 7: bytearray(b'7819A'), 8: bytearray(b'ABE'), 9: bytearray(b'ABE'), 10: bytearray(b'\\x03\\x00\\x00\\x00'), 11: bytearray(b'\\x01\\x00\\x00\\x00'), 12: bytearray(b'\\xc8\\xff\\xff\\xff'), 13: bytearray(b'\\x01\\x00\\x00\\x00'), 14: bytearray(b'\\x01\\x00\\x00\\x00'), 15: bytearray(b'\\x14\\x00\\x00\\x00'), 16: bytearray(b'\\x0f\\x00\\x00\\x00'), 17: bytearray(b'\\x07\\x00\\x00\\x00'), 18: bytearray(b'\\x1f\\x00\\x00\\x00'), 19: bytearray(b'\\x01\\x00\\x00\\x00'), 20: bytearray(b'\\x01\\x00\\x00\\x00'), 21: bytearray(b'\\x01\\x00\\x00\\x00'), 22: bytearray(b'\\x01\\x00\\x00\\x00'), 23: bytearray(b'\\xb7\\xff\\xff\\xff'), 24: bytearray(b'\\x00\\x00\\x00\\x00'), 25: bytearray(b'\\x00\\x00\\x00\\x00'), 26: bytearray(b'A'), 27: bytearray(b'\\x00\\x00\\x00\\x00'), 28: bytearray(b'\\x00\\x00\\x00\\x00'), 29: bytearray(b'\\x00\\x00\\x00\\x00'), 30: bytearray(b'\\x00\\x00\\x00\\x00'), 31: bytearray(b'\\x00\\x00\\x00\\x00')} |      {1: bytearray(b'\\xdf\\x07\\x00\\x00'), 2: bytearray(b'\\t\\x00\\x00\\x00'), 3: bytearray(b'\\x1e\\x00\\x00\\x00'), 4: bytearray(b'\\x07\\x00\\x00\\x00'), 5: bytearray(b'WN'), 6: bytearray(b'\\x0e\\x1d\\x00\\x00'), 7: bytearray(b'N9EAMQ'), 8: bytearray(b'YUM'), 9: bytearray(b'YUM'), 10: bytearray(b'7\\t\\x00\\x00'), 11: bytearray(b'`\\t\\x00\\x00'), 12: bytearray(b'\\x86\\x06\\x00\\x00'), 13: bytearray(b'\\xa1\\x00\\x00\\x00'), 14: bytearray(b'`\\t\\x00\\x00'), 15: bytearray(b'\\x88\\x02\\x00\\x00'), 16: bytearray(b'\\xbf\\x02\\x00\\x00'), 17: bytearray(b'}\\x02\\x00\\x00'), 18: bytearray(b'w\\x13\\x00\\x00'), 19: bytearray(b'`\\t\\x00\\x00'), 20: bytearray(b'\\x9d\\x00\\x00\\x00'), 21: bytearray(b'7\\t\\x00\\x00'), 22: bytearray(b'`\\t\\x00\\x00'), 23: bytearray(b'\\x81\\x06\\x00\\x00'), 24: bytearray(b'\\x01\\x00\\x00\\x00'), 25: bytearray(b'\\x01\\x00\\x00\\x00'), 26: bytearray(b'C'), 27: bytearray(b'\\xa3\\x02\\x00\\x00'), 28: bytearray(b'=\\x02\\x00\\x00'), 29: bytearray(b'\\x81\\x06\\x00\\x00'), 30: bytearray(b'\\xfc\\x02\\x00\\x00'), 31: bytearray(b'\\xee\\x02\\x00\\x00')} |         None |           [4] |         None |             0 |                     Row(air_system_delay=Row(column_size=89845, value_count=464946, null_value_count=404885, nan_value_count=None, lower_bound=0, upper_bound=675), air_time=Row(column_size=552566, value_count=464946, null_value_count=2793, nan_value_count=None, lower_bound=7, upper_bound=637), airline=Row(column_size=132475, value_count=464946, null_value_count=0, nan_value_count=None, lower_bound='AA', upper_bound='WN'), airline_delay=Row(column_size=95022, value_count=464946, null_value_count=404885, nan_value_count=None, lower_bound=0, upper_bound=1665), arrival_delay=Row(column_size=473469, value_count=464946, null_value_count=2793, nan_value_count=None, lower_bound=-73, upper_bound=1665), arrival_time=Row(column_size=649763, value_count=464946, null_value_count=2122, nan_value_count=None, lower_bound=1, upper_bound=2400), cancellation_reason=Row(column_size=6916, value_count=464946, null_value_count=462871, nan_value_count=None, lower_bound='A', upper_bound='C'), cancelled=Row(column_size=6418, value_count=464946, null_value_count=0, nan_value_count=None, lower_bound=0, upper_bound=1), day=Row(column_size=1294, value_count=464946, null_value_count=0, nan_value_count=None, lower_bound=1, upper_bound=30), day_of_week=Row(column_size=1272, value_count=464946, null_value_count=0, nan_value_count=None, lower_bound=1, upper_bound=7), departure_delay=Row(column_size=427604, value_count=464946, null_value_count=1928, nan_value_count=None, lower_bound=-56, upper_bound=1670), departure_time=Row(column_size=649087, value_count=464946, null_value_count=1928, nan_value_count=None, lower_bound=1, upper_bound=2400), destination_airport=Row(column_size=466316, value_count=464946, null_value_count=0, nan_value_count=None, lower_bound='ABE', upper_bound='YUM'), distance=Row(column_size=632789, value_count=464946, null_value_count=0, nan_value_count=None, lower_bound=31, upper_bound=4983), diverted=Row(column_size=3644, value_count=464946, null_value_count=0, nan_value_count=None, lower_bound=0, upper_bound=1), elapsed_time=Row(column_size=558138, value_count=464946, null_value_count=2793, nan_value_count=None, lower_bound=15, upper_bound=703), flight_number=Row(column_size=772161, value_count=464946, null_value_count=0, nan_value_count=None, lower_bound=1, upper_bound=7438), late_aircraft_delay=Row(column_size=96417, value_count=464946, null_value_count=404885, nan_value_count=None, lower_bound=0, upper_bound=764), month=Row(column_size=1133, value_count=464946, null_value_count=0, nan_value_count=None, lower_bound=9, upper_bound=9), origin_airport=Row(column_size=486711, value_count=464946, null_value_count=0, nan_value_count=None, lower_bound='ABE', upper_bound='YUM'), scheduled_arrival=Row(column_size=644104, value_count=464946, null_value_count=0, nan_value_count=None, lower_bound=1, upper_bound=2359), scheduled_departure=Row(column_size=152759, value_count=464946, null_value_count=0, nan_value_count=None, lower_bound=3, upper_bound=2359), scheduled_time=Row(column_size=524483, value_count=464946, null_value_count=0, nan_value_count=None, lower_bound=20, upper_bound=648), security_delay=Row(column_size=48963, value_count=464946, null_value_count=404885, nan_value_count=None, lower_bound=0, upper_bound=573), tail_number=Row(column_size=761893, value_count=464946, null_value_count=318, nan_value_count=None, lower_bound='7819A', upper_bound='N9EAMQ'), taxi_in=Row(column_size=311614, value_count=464946, null_value_count=2122, nan_value_count=None, lower_bound=1, upper_bound=157), taxi_out=Row(column_size=288333, value_count=464946, null_value_count=2050, nan_value_count=None, lower_bound=1, upper_bound=161), weather_delay=Row(column_size=56999, value_count=464946, null_value_count=404885, nan_value_count=None, lower_bound=0, upper_bound=750), wheels_off=Row(column_size=649405, value_count=464946, null_value_count=2050, nan_value_count=None, lower_bound=1, upper_bound=2400), wheels_on=Row(column_size=649770, value_count=464946, null_value_count=2122, nan_value_count=None, lower_bound=1, upper_bound=2400), year=Row(column_size=1133, value_count=464946, null_value_count=0, nan_value_count=None, lower_bound=2015, upper_bound=2015)) |\n",
       "|       0 |  s3://warehouse/db/flights/data/month=4/00006-945-22846555-129f-4460-bd05-fe6cf2fc1357-0-00001.parquet |     PARQUET |       0 |  Row(month=4) |       485151 |           10816223 | {1: 1179, 2: 1179, 3: 1341, 4: 1320, 5: 139282, 6: 804792, 7: 795490, 8: 508440, 9: 486408, 10: 155374, 11: 680506, 12: 450093, 13: 319393, 14: 680748, 15: 541736, 16: 590404, 17: 582706, 18: 671887, 19: 681334, 20: 316792, 21: 671966, 22: 681333, 23: 507388, 24: 5300, 25: 10534, 26: 11667, 27: 121533, 28: 55978, 29: 123526, 30: 120765, 31: 69283} | {1: 485151, 2: 485151, 3: 485151, 4: 485151, 5: 485151, 6: 485151, 7: 485151, 8: 485151, 9: 485151, 10: 485151, 11: 485151, 12: 485151, 13: 485151, 14: 485151, 15: 485151, 16: 485151, 17: 485151, 18: 485151, 19: 485151, 20: 485151, 21: 485151, 22: 485151, 23: 485151, 24: 485151, 25: 485151, 26: 485151, 27: 485151, 28: 485151, 29: 485151, 30: 485151, 31: 485151} |            {1: 0, 2: 0, 3: 0, 4: 0, 5: 0, 6: 0, 7: 579, 8: 0, 9: 0, 10: 0, 11: 4253, 12: 4253, 13: 4455, 14: 4455, 15: 2, 16: 5900, 17: 5900, 18: 0, 19: 4708, 20: 4708, 21: 0, 22: 4708, 23: 5900, 24: 0, 25: 0, 26: 480631, 27: 402904, 28: 402904, 29: 402904, 30: 402904, 31: 402904} |               {} |   {1: bytearray(b'\\xdf\\x07\\x00\\x00'), 2: bytearray(b'\\x04\\x00\\x00\\x00'), 3: bytearray(b'\\x01\\x00\\x00\\x00'), 4: bytearray(b'\\x01\\x00\\x00\\x00'), 5: bytearray(b'AA'), 6: bytearray(b'\\x01\\x00\\x00\\x00'), 7: bytearray(b'N001AA'), 8: bytearray(b'ABE'), 9: bytearray(b'ABE'), 10: bytearray(b'\\x05\\x00\\x00\\x00'), 11: bytearray(b'\\x01\\x00\\x00\\x00'), 12: bytearray(b'\\xbc\\xff\\xff\\xff'), 13: bytearray(b'\\x01\\x00\\x00\\x00'), 14: bytearray(b'\\x01\\x00\\x00\\x00'), 15: bytearray(b'\\x14\\x00\\x00\\x00'), 16: bytearray(b'\\x0f\\x00\\x00\\x00'), 17: bytearray(b'\\x08\\x00\\x00\\x00'), 18: bytearray(b'\\x15\\x00\\x00\\x00'), 19: bytearray(b'\\x01\\x00\\x00\\x00'), 20: bytearray(b'\\x01\\x00\\x00\\x00'), 21: bytearray(b'\\x01\\x00\\x00\\x00'), 22: bytearray(b'\\x01\\x00\\x00\\x00'), 23: bytearray(b'\\xa9\\xff\\xff\\xff'), 24: bytearray(b'\\x00\\x00\\x00\\x00'), 25: bytearray(b'\\x00\\x00\\x00\\x00'), 26: bytearray(b'A'), 27: bytearray(b'\\x00\\x00\\x00\\x00'), 28: bytearray(b'\\x00\\x00\\x00\\x00'), 29: bytearray(b'\\x00\\x00\\x00\\x00'), 30: bytearray(b'\\x00\\x00\\x00\\x00'), 31: bytearray(b'\\x00\\x00\\x00\\x00')} | {1: bytearray(b'\\xdf\\x07\\x00\\x00'), 2: bytearray(b'\\x04\\x00\\x00\\x00'), 3: bytearray(b'\\x1e\\x00\\x00\\x00'), 4: bytearray(b'\\x07\\x00\\x00\\x00'), 5: bytearray(b'WN'), 6: bytearray(b'\\x0e\\x1d\\x00\\x00'), 7: bytearray(b'N9EAMQ'), 8: bytearray(b'YUM'), 9: bytearray(b'YUM'), 10: bytearray(b'7\\t\\x00\\x00'), 11: bytearray(b'`\\t\\x00\\x00'), 12: bytearray(b'\\x06\\x06\\x00\\x00'), 13: bytearray(b'\\x9e\\x00\\x00\\x00'), 14: bytearray(b'`\\t\\x00\\x00'), 15: bytearray(b'\\xa7\\x02\\x00\\x00'), 16: bytearray(b'\\xdf\\x02\\x00\\x00'), 17: bytearray(b'\\x99\\x02\\x00\\x00'), 18: bytearray(b'w\\x13\\x00\\x00'), 19: bytearray(b'`\\t\\x00\\x00'), 20: bytearray(b'\\x9e\\x00\\x00\\x00'), 21: bytearray(b'`\\t\\x00\\x00'), 22: bytearray(b'`\\t\\x00\\x00'), 23: bytearray(b'\\x12\\x06\\x00\\x00'), 24: bytearray(b'\\x01\\x00\\x00\\x00'), 25: bytearray(b'\\x01\\x00\\x00\\x00'), 26: bytearray(b'C'), 27: bytearray(b'x\\x03\\x00\\x00'), 28: bytearray(b'\\xcd\\x00\\x00\\x00'), 29: bytearray(b'\\x84\\x04\\x00\\x00'), 30: bytearray(b'\\x0e\\x05\\x00\\x00'), 31: bytearray(b'\\x1c\\x03\\x00\\x00')} |         None |           [4] |         None |             0 |              Row(air_system_delay=Row(column_size=121533, value_count=485151, null_value_count=402904, nan_value_count=None, lower_bound=0, upper_bound=888), air_time=Row(column_size=582706, value_count=485151, null_value_count=5900, nan_value_count=None, lower_bound=8, upper_bound=665), airline=Row(column_size=139282, value_count=485151, null_value_count=0, nan_value_count=None, lower_bound='AA', upper_bound='WN'), airline_delay=Row(column_size=123526, value_count=485151, null_value_count=402904, nan_value_count=None, lower_bound=0, upper_bound=1156), arrival_delay=Row(column_size=507388, value_count=485151, null_value_count=5900, nan_value_count=None, lower_bound=-87, upper_bound=1554), arrival_time=Row(column_size=681333, value_count=485151, null_value_count=4708, nan_value_count=None, lower_bound=1, upper_bound=2400), cancellation_reason=Row(column_size=11667, value_count=485151, null_value_count=480631, nan_value_count=None, lower_bound='A', upper_bound='C'), cancelled=Row(column_size=10534, value_count=485151, null_value_count=0, nan_value_count=None, lower_bound=0, upper_bound=1), day=Row(column_size=1341, value_count=485151, null_value_count=0, nan_value_count=None, lower_bound=1, upper_bound=30), day_of_week=Row(column_size=1320, value_count=485151, null_value_count=0, nan_value_count=None, lower_bound=1, upper_bound=7), departure_delay=Row(column_size=450093, value_count=485151, null_value_count=4253, nan_value_count=None, lower_bound=-68, upper_bound=1542), departure_time=Row(column_size=680506, value_count=485151, null_value_count=4253, nan_value_count=None, lower_bound=1, upper_bound=2400), destination_airport=Row(column_size=486408, value_count=485151, null_value_count=0, nan_value_count=None, lower_bound='ABE', upper_bound='YUM'), distance=Row(column_size=671887, value_count=485151, null_value_count=0, nan_value_count=None, lower_bound=21, upper_bound=4983), diverted=Row(column_size=5300, value_count=485151, null_value_count=0, nan_value_count=None, lower_bound=0, upper_bound=1), elapsed_time=Row(column_size=590404, value_count=485151, null_value_count=5900, nan_value_count=None, lower_bound=15, upper_bound=735), flight_number=Row(column_size=804792, value_count=485151, null_value_count=0, nan_value_count=None, lower_bound=1, upper_bound=7438), late_aircraft_delay=Row(column_size=120765, value_count=485151, null_value_count=402904, nan_value_count=None, lower_bound=0, upper_bound=1294), month=Row(column_size=1179, value_count=485151, null_value_count=0, nan_value_count=None, lower_bound=4, upper_bound=4), origin_airport=Row(column_size=508440, value_count=485151, null_value_count=0, nan_value_count=None, lower_bound='ABE', upper_bound='YUM'), scheduled_arrival=Row(column_size=671966, value_count=485151, null_value_count=0, nan_value_count=None, lower_bound=1, upper_bound=2400), scheduled_departure=Row(column_size=155374, value_count=485151, null_value_count=0, nan_value_count=None, lower_bound=5, upper_bound=2359), scheduled_time=Row(column_size=541736, value_count=485151, null_value_count=2, nan_value_count=None, lower_bound=20, upper_bound=679), security_delay=Row(column_size=55978, value_count=485151, null_value_count=402904, nan_value_count=None, lower_bound=0, upper_bound=205), tail_number=Row(column_size=795490, value_count=485151, null_value_count=579, nan_value_count=None, lower_bound='N001AA', upper_bound='N9EAMQ'), taxi_in=Row(column_size=316792, value_count=485151, null_value_count=4708, nan_value_count=None, lower_bound=1, upper_bound=158), taxi_out=Row(column_size=319393, value_count=485151, null_value_count=4455, nan_value_count=None, lower_bound=1, upper_bound=158), weather_delay=Row(column_size=69283, value_count=485151, null_value_count=402904, nan_value_count=None, lower_bound=0, upper_bound=796), wheels_off=Row(column_size=680748, value_count=485151, null_value_count=4455, nan_value_count=None, lower_bound=1, upper_bound=2400), wheels_on=Row(column_size=681334, value_count=485151, null_value_count=4708, nan_value_count=None, lower_bound=1, upper_bound=2400), year=Row(column_size=1179, value_count=485151, null_value_count=0, nan_value_count=None, lower_bound=2015, upper_bound=2015)) |\n",
       "|       0 |  s3://warehouse/db/flights/data/month=8/00007-946-22846555-129f-4460-bd05-fe6cf2fc1357-0-00001.parquet |     PARQUET |       0 |  Row(month=8) |       510536 |           11439099 | {1: 1228, 2: 1228, 3: 1392, 4: 1370, 5: 145875, 6: 845610, 7: 840104, 8: 528633, 9: 501076, 10: 165804, 11: 717036, 12: 515325, 13: 338544, 14: 717441, 15: 577470, 16: 618275, 17: 616805, 18: 706923, 19: 717848, 20: 317878, 21: 706981, 22: 717844, 23: 548835, 24: 5713, 25: 11762, 26: 12960, 27: 129727, 28: 61063, 29: 133533, 30: 131834, 31: 75641} | {1: 510536, 2: 510536, 3: 510536, 4: 510536, 5: 510536, 6: 510536, 7: 510536, 8: 510536, 9: 510536, 10: 510536, 11: 510536, 12: 510536, 13: 510536, 14: 510536, 15: 510536, 16: 510536, 17: 510536, 18: 510536, 19: 510536, 20: 510536, 21: 510536, 22: 510536, 23: 510536, 24: 510536, 25: 510536, 26: 510536, 27: 510536, 28: 510536, 29: 510536, 30: 510536, 31: 510536} |            {1: 0, 2: 0, 3: 0, 4: 0, 5: 0, 6: 0, 7: 809, 8: 0, 9: 0, 10: 0, 11: 4719, 12: 4719, 13: 5004, 14: 5004, 15: 0, 16: 6580, 17: 6580, 18: 0, 19: 5218, 20: 5218, 21: 0, 22: 5218, 23: 6580, 24: 0, 25: 0, 26: 505484, 27: 416423, 28: 416423, 29: 416423, 30: 416423, 31: 416423} |               {} |    {1: bytearray(b'\\xdf\\x07\\x00\\x00'), 2: bytearray(b'\\x08\\x00\\x00\\x00'), 3: bytearray(b'\\x01\\x00\\x00\\x00'), 4: bytearray(b'\\x01\\x00\\x00\\x00'), 5: bytearray(b'AA'), 6: bytearray(b'\\x01\\x00\\x00\\x00'), 7: bytearray(b'7819A'), 8: bytearray(b'ABE'), 9: bytearray(b'ABE'), 10: bytearray(b'\\x01\\x00\\x00\\x00'), 11: bytearray(b'\\x01\\x00\\x00\\x00'), 12: bytearray(b'\\xd6\\xff\\xff\\xff'), 13: bytearray(b'\\x01\\x00\\x00\\x00'), 14: bytearray(b'\\x01\\x00\\x00\\x00'), 15: bytearray(b'\\x14\\x00\\x00\\x00'), 16: bytearray(b'\\x10\\x00\\x00\\x00'), 17: bytearray(b'\\x08\\x00\\x00\\x00'), 18: bytearray(b'\\x1f\\x00\\x00\\x00'), 19: bytearray(b'\\x01\\x00\\x00\\x00'), 20: bytearray(b'\\x01\\x00\\x00\\x00'), 21: bytearray(b'\\x01\\x00\\x00\\x00'), 22: bytearray(b'\\x01\\x00\\x00\\x00'), 23: bytearray(b'\\xb0\\xff\\xff\\xff'), 24: bytearray(b'\\x00\\x00\\x00\\x00'), 25: bytearray(b'\\x00\\x00\\x00\\x00'), 26: bytearray(b'A'), 27: bytearray(b'\\x00\\x00\\x00\\x00'), 28: bytearray(b'\\x00\\x00\\x00\\x00'), 29: bytearray(b'\\x00\\x00\\x00\\x00'), 30: bytearray(b'\\x00\\x00\\x00\\x00'), 31: bytearray(b'\\x00\\x00\\x00\\x00')} |               {1: bytearray(b'\\xdf\\x07\\x00\\x00'), 2: bytearray(b'\\x08\\x00\\x00\\x00'), 3: bytearray(b'\\x1f\\x00\\x00\\x00'), 4: bytearray(b'\\x07\\x00\\x00\\x00'), 5: bytearray(b'WN'), 6: bytearray(b'\\x7f&\\x00\\x00'), 7: bytearray(b'N9EAMQ'), 8: bytearray(b'YUM'), 9: bytearray(b'YUM'), 10: bytearray(b'7\\t\\x00\\x00'), 11: bytearray(b'`\\t\\x00\\x00'), 12: bytearray(b'V\\x07\\x00\\x00'), 13: bytearray(b'\\xaa\\x00\\x00\\x00'), 14: bytearray(b'`\\t\\x00\\x00'), 15: bytearray(b'\\x8c\\x02\\x00\\x00'), 16: bytearray(b'\\xc4\\x02\\x00\\x00'), 17: bytearray(b'\\x8b\\x02\\x00\\x00'), 18: bytearray(b'w\\x13\\x00\\x00'), 19: bytearray(b'`\\t\\x00\\x00'), 20: bytearray(b'\\xab\\x00\\x00\\x00'), 21: bytearray(b'7\\t\\x00\\x00'), 22: bytearray(b'`\\t\\x00\\x00'), 23: bytearray(b'j\\x07\\x00\\x00'), 24: bytearray(b'\\x01\\x00\\x00\\x00'), 25: bytearray(b'\\x01\\x00\\x00\\x00'), 26: bytearray(b'D'), 27: bytearray(b'n\\x04\\x00\\x00'), 28: bytearray(b'\\xdd\\x00\\x00\\x00'), 29: bytearray(b'V\\x07\\x00\\x00'), 30: bytearray(b\"\\'\\x03\\x00\\x00\"), 31: bytearray(b'\\x80\\x03\\x00\\x00')} |         None |           [4] |         None |             0 |               Row(air_system_delay=Row(column_size=129727, value_count=510536, null_value_count=416423, nan_value_count=None, lower_bound=0, upper_bound=1134), air_time=Row(column_size=616805, value_count=510536, null_value_count=6580, nan_value_count=None, lower_bound=8, upper_bound=651), airline=Row(column_size=145875, value_count=510536, null_value_count=0, nan_value_count=None, lower_bound='AA', upper_bound='WN'), airline_delay=Row(column_size=133533, value_count=510536, null_value_count=416423, nan_value_count=None, lower_bound=0, upper_bound=1878), arrival_delay=Row(column_size=548835, value_count=510536, null_value_count=6580, nan_value_count=None, lower_bound=-80, upper_bound=1898), arrival_time=Row(column_size=717844, value_count=510536, null_value_count=5218, nan_value_count=None, lower_bound=1, upper_bound=2400), cancellation_reason=Row(column_size=12960, value_count=510536, null_value_count=505484, nan_value_count=None, lower_bound='A', upper_bound='D'), cancelled=Row(column_size=11762, value_count=510536, null_value_count=0, nan_value_count=None, lower_bound=0, upper_bound=1), day=Row(column_size=1392, value_count=510536, null_value_count=0, nan_value_count=None, lower_bound=1, upper_bound=31), day_of_week=Row(column_size=1370, value_count=510536, null_value_count=0, nan_value_count=None, lower_bound=1, upper_bound=7), departure_delay=Row(column_size=515325, value_count=510536, null_value_count=4719, nan_value_count=None, lower_bound=-42, upper_bound=1878), departure_time=Row(column_size=717036, value_count=510536, null_value_count=4719, nan_value_count=None, lower_bound=1, upper_bound=2400), destination_airport=Row(column_size=501076, value_count=510536, null_value_count=0, nan_value_count=None, lower_bound='ABE', upper_bound='YUM'), distance=Row(column_size=706923, value_count=510536, null_value_count=0, nan_value_count=None, lower_bound=31, upper_bound=4983), diverted=Row(column_size=5713, value_count=510536, null_value_count=0, nan_value_count=None, lower_bound=0, upper_bound=1), elapsed_time=Row(column_size=618275, value_count=510536, null_value_count=6580, nan_value_count=None, lower_bound=16, upper_bound=708), flight_number=Row(column_size=845610, value_count=510536, null_value_count=0, nan_value_count=None, lower_bound=1, upper_bound=9855), late_aircraft_delay=Row(column_size=131834, value_count=510536, null_value_count=416423, nan_value_count=None, lower_bound=0, upper_bound=807), month=Row(column_size=1228, value_count=510536, null_value_count=0, nan_value_count=None, lower_bound=8, upper_bound=8), origin_airport=Row(column_size=528633, value_count=510536, null_value_count=0, nan_value_count=None, lower_bound='ABE', upper_bound='YUM'), scheduled_arrival=Row(column_size=706981, value_count=510536, null_value_count=0, nan_value_count=None, lower_bound=1, upper_bound=2359), scheduled_departure=Row(column_size=165804, value_count=510536, null_value_count=0, nan_value_count=None, lower_bound=1, upper_bound=2359), scheduled_time=Row(column_size=577470, value_count=510536, null_value_count=0, nan_value_count=None, lower_bound=20, upper_bound=652), security_delay=Row(column_size=61063, value_count=510536, null_value_count=416423, nan_value_count=None, lower_bound=0, upper_bound=221), tail_number=Row(column_size=840104, value_count=510536, null_value_count=809, nan_value_count=None, lower_bound='7819A', upper_bound='N9EAMQ'), taxi_in=Row(column_size=317878, value_count=510536, null_value_count=5218, nan_value_count=None, lower_bound=1, upper_bound=171), taxi_out=Row(column_size=338544, value_count=510536, null_value_count=5004, nan_value_count=None, lower_bound=1, upper_bound=170), weather_delay=Row(column_size=75641, value_count=510536, null_value_count=416423, nan_value_count=None, lower_bound=0, upper_bound=896), wheels_off=Row(column_size=717441, value_count=510536, null_value_count=5004, nan_value_count=None, lower_bound=1, upper_bound=2400), wheels_on=Row(column_size=717848, value_count=510536, null_value_count=5218, nan_value_count=None, lower_bound=1, upper_bound=2400), year=Row(column_size=1228, value_count=510536, null_value_count=0, nan_value_count=None, lower_bound=2015, upper_bound=2015)) |\n",
       "|       0 |  s3://warehouse/db/flights/data/month=7/00008-947-22846555-129f-4460-bd05-fe6cf2fc1357-0-00001.parquet |     PARQUET |       0 |  Row(month=7) |       520718 |           11755348 | {1: 1271, 2: 1271, 3: 1436, 4: 1416, 5: 147021, 6: 862091, 7: 856490, 8: 536054, 9: 517051, 10: 166903, 11: 731819, 12: 518151, 13: 343134, 14: 732234, 15: 588960, 16: 634629, 17: 629355, 18: 720974, 19: 732625, 20: 379857, 21: 721046, 22: 732627, 23: 553566, 24: 5795, 25: 11952, 26: 13254, 27: 140558, 28: 63615, 29: 155884, 30: 147988, 31: 78205} | {1: 520718, 2: 520718, 3: 520718, 4: 520718, 5: 520718, 6: 520718, 7: 520718, 8: 520718, 9: 520718, 10: 520718, 11: 520718, 12: 520718, 13: 520718, 14: 520718, 15: 520718, 16: 520718, 17: 520718, 18: 520718, 19: 520718, 20: 520718, 21: 520718, 22: 520718, 23: 520718, 24: 520718, 25: 520718, 26: 520718, 27: 520718, 28: 520718, 29: 520718, 30: 520718, 31: 520718} |            {1: 0, 2: 0, 3: 0, 4: 0, 5: 0, 6: 0, 7: 723, 8: 0, 9: 0, 10: 0, 11: 4507, 12: 4507, 13: 4756, 14: 4756, 15: 0, 16: 6334, 17: 6334, 18: 0, 19: 4947, 20: 4947, 21: 0, 22: 4947, 23: 6334, 24: 0, 25: 0, 26: 515912, 27: 413091, 28: 413091, 29: 413091, 30: 413091, 31: 413091} |               {} |    {1: bytearray(b'\\xdf\\x07\\x00\\x00'), 2: bytearray(b'\\x07\\x00\\x00\\x00'), 3: bytearray(b'\\x01\\x00\\x00\\x00'), 4: bytearray(b'\\x01\\x00\\x00\\x00'), 5: bytearray(b'AA'), 6: bytearray(b'\\x01\\x00\\x00\\x00'), 7: bytearray(b'7819A'), 8: bytearray(b'ABE'), 9: bytearray(b'ABE'), 10: bytearray(b'\\x03\\x00\\x00\\x00'), 11: bytearray(b'\\x01\\x00\\x00\\x00'), 12: bytearray(b'\\xd7\\xff\\xff\\xff'), 13: bytearray(b'\\x01\\x00\\x00\\x00'), 14: bytearray(b'\\x01\\x00\\x00\\x00'), 15: bytearray(b'\\x12\\x00\\x00\\x00'), 16: bytearray(b'\\x0e\\x00\\x00\\x00'), 17: bytearray(b'\\x07\\x00\\x00\\x00'), 18: bytearray(b'\\x1f\\x00\\x00\\x00'), 19: bytearray(b'\\x01\\x00\\x00\\x00'), 20: bytearray(b'\\x01\\x00\\x00\\x00'), 21: bytearray(b'\\x01\\x00\\x00\\x00'), 22: bytearray(b'\\x01\\x00\\x00\\x00'), 23: bytearray(b'\\xb7\\xff\\xff\\xff'), 24: bytearray(b'\\x00\\x00\\x00\\x00'), 25: bytearray(b'\\x00\\x00\\x00\\x00'), 26: bytearray(b'A'), 27: bytearray(b'\\x00\\x00\\x00\\x00'), 28: bytearray(b'\\x00\\x00\\x00\\x00'), 29: bytearray(b'\\x00\\x00\\x00\\x00'), 30: bytearray(b'\\x00\\x00\\x00\\x00'), 31: bytearray(b'\\x00\\x00\\x00\\x00')} |             {1: bytearray(b'\\xdf\\x07\\x00\\x00'), 2: bytearray(b'\\x07\\x00\\x00\\x00'), 3: bytearray(b'\\x1f\\x00\\x00\\x00'), 4: bytearray(b'\\x07\\x00\\x00\\x00'), 5: bytearray(b'WN'), 6: bytearray(b'\\x0e\\x1d\\x00\\x00'), 7: bytearray(b'N9EAMQ'), 8: bytearray(b'YUM'), 9: bytearray(b'YUM'), 10: bytearray(b'7\\t\\x00\\x00'), 11: bytearray(b'`\\t\\x00\\x00'), 12: bytearray(b'Y\\x06\\x00\\x00'), 13: bytearray(b'\\xa8\\x00\\x00\\x00'), 14: bytearray(b'`\\t\\x00\\x00'), 15: bytearray(b'\\x8c\\x02\\x00\\x00'), 16: bytearray(b'\\xb8\\x02\\x00\\x00'), 17: bytearray(b'\\x7f\\x02\\x00\\x00'), 18: bytearray(b'w\\x13\\x00\\x00'), 19: bytearray(b'`\\t\\x00\\x00'), 20: bytearray(b'\\xa4\\x00\\x00\\x00'), 21: bytearray(b'7\\t\\x00\\x00'), 22: bytearray(b'`\\t\\x00\\x00'), 23: bytearray(b'd\\x06\\x00\\x00'), 24: bytearray(b'\\x01\\x00\\x00\\x00'), 25: bytearray(b'\\x01\\x00\\x00\\x00'), 26: bytearray(b'D'), 27: bytearray(b'\\x10\\x03\\x00\\x00'), 28: bytearray(b'\\x00\\x01\\x00\\x00'), 29: bytearray(b'Y\\x06\\x00\\x00'), 30: bytearray(b'e\\x03\\x00\\x00'), 31: bytearray(b'D\\x03\\x00\\x00')} |         None |           [4] |         None |             0 |                Row(air_system_delay=Row(column_size=140558, value_count=520718, null_value_count=413091, nan_value_count=None, lower_bound=0, upper_bound=784), air_time=Row(column_size=629355, value_count=520718, null_value_count=6334, nan_value_count=None, lower_bound=7, upper_bound=639), airline=Row(column_size=147021, value_count=520718, null_value_count=0, nan_value_count=None, lower_bound='AA', upper_bound='WN'), airline_delay=Row(column_size=155884, value_count=520718, null_value_count=413091, nan_value_count=None, lower_bound=0, upper_bound=1625), arrival_delay=Row(column_size=553566, value_count=520718, null_value_count=6334, nan_value_count=None, lower_bound=-73, upper_bound=1636), arrival_time=Row(column_size=732627, value_count=520718, null_value_count=4947, nan_value_count=None, lower_bound=1, upper_bound=2400), cancellation_reason=Row(column_size=13254, value_count=520718, null_value_count=515912, nan_value_count=None, lower_bound='A', upper_bound='D'), cancelled=Row(column_size=11952, value_count=520718, null_value_count=0, nan_value_count=None, lower_bound=0, upper_bound=1), day=Row(column_size=1436, value_count=520718, null_value_count=0, nan_value_count=None, lower_bound=1, upper_bound=31), day_of_week=Row(column_size=1416, value_count=520718, null_value_count=0, nan_value_count=None, lower_bound=1, upper_bound=7), departure_delay=Row(column_size=518151, value_count=520718, null_value_count=4507, nan_value_count=None, lower_bound=-41, upper_bound=1625), departure_time=Row(column_size=731819, value_count=520718, null_value_count=4507, nan_value_count=None, lower_bound=1, upper_bound=2400), destination_airport=Row(column_size=517051, value_count=520718, null_value_count=0, nan_value_count=None, lower_bound='ABE', upper_bound='YUM'), distance=Row(column_size=720974, value_count=520718, null_value_count=0, nan_value_count=None, lower_bound=31, upper_bound=4983), diverted=Row(column_size=5795, value_count=520718, null_value_count=0, nan_value_count=None, lower_bound=0, upper_bound=1), elapsed_time=Row(column_size=634629, value_count=520718, null_value_count=6334, nan_value_count=None, lower_bound=14, upper_bound=696), flight_number=Row(column_size=862091, value_count=520718, null_value_count=0, nan_value_count=None, lower_bound=1, upper_bound=7438), late_aircraft_delay=Row(column_size=147988, value_count=520718, null_value_count=413091, nan_value_count=None, lower_bound=0, upper_bound=869), month=Row(column_size=1271, value_count=520718, null_value_count=0, nan_value_count=None, lower_bound=7, upper_bound=7), origin_airport=Row(column_size=536054, value_count=520718, null_value_count=0, nan_value_count=None, lower_bound='ABE', upper_bound='YUM'), scheduled_arrival=Row(column_size=721046, value_count=520718, null_value_count=0, nan_value_count=None, lower_bound=1, upper_bound=2359), scheduled_departure=Row(column_size=166903, value_count=520718, null_value_count=0, nan_value_count=None, lower_bound=3, upper_bound=2359), scheduled_time=Row(column_size=588960, value_count=520718, null_value_count=0, nan_value_count=None, lower_bound=18, upper_bound=652), security_delay=Row(column_size=63615, value_count=520718, null_value_count=413091, nan_value_count=None, lower_bound=0, upper_bound=256), tail_number=Row(column_size=856490, value_count=520718, null_value_count=723, nan_value_count=None, lower_bound='7819A', upper_bound='N9EAMQ'), taxi_in=Row(column_size=379857, value_count=520718, null_value_count=4947, nan_value_count=None, lower_bound=1, upper_bound=164), taxi_out=Row(column_size=343134, value_count=520718, null_value_count=4756, nan_value_count=None, lower_bound=1, upper_bound=168), weather_delay=Row(column_size=78205, value_count=520718, null_value_count=413091, nan_value_count=None, lower_bound=0, upper_bound=836), wheels_off=Row(column_size=732234, value_count=520718, null_value_count=4756, nan_value_count=None, lower_bound=1, upper_bound=2400), wheels_on=Row(column_size=732625, value_count=520718, null_value_count=4947, nan_value_count=None, lower_bound=1, upper_bound=2400), year=Row(column_size=1271, value_count=520718, null_value_count=0, nan_value_count=None, lower_bound=2015, upper_bound=2015)) |\n",
       "|       0 | s3://warehouse/db/flights/data/month=10/00009-948-22846555-129f-4460-bd05-fe6cf2fc1357-0-00001.parquet |     PARQUET |       0 | Row(month=10) |       486165 |           10651549 |     {1: 1178, 2: 1178, 3: 1340, 4: 1321, 5: 131738, 6: 805649, 7: 794000, 8: 504873, 9: 483405, 10: 156733, 11: 678743, 12: 443788, 13: 313010, 14: 678961, 15: 549965, 16: 580107, 17: 575527, 18: 661533, 19: 679374, 20: 320549, 21: 673433, 22: 679368, 23: 491517, 24: 3875, 25: 6922, 26: 7550, 27: 89852, 28: 50736, 29: 105428, 30: 96483, 31: 56779} | {1: 486165, 2: 486165, 3: 486165, 4: 486165, 5: 486165, 6: 486165, 7: 486165, 8: 486165, 9: 486165, 10: 486165, 11: 486165, 12: 486165, 13: 486165, 14: 486165, 15: 486165, 16: 486165, 17: 486165, 18: 486165, 19: 486165, 20: 486165, 21: 486165, 22: 486165, 23: 486165, 24: 486165, 25: 486165, 26: 486165, 27: 486165, 28: 486165, 29: 486165, 30: 486165, 31: 486165} |            {1: 0, 2: 0, 3: 0, 4: 0, 5: 0, 6: 0, 7: 354, 8: 0, 9: 0, 10: 0, 11: 2339, 12: 2339, 13: 2435, 14: 2435, 15: 0, 16: 3287, 17: 3287, 18: 0, 19: 2571, 20: 2571, 21: 0, 22: 2571, 23: 3287, 24: 0, 25: 0, 26: 483711, 27: 426086, 28: 426086, 29: 426086, 30: 426086, 31: 426086} |               {} | {1: bytearray(b'\\xdf\\x07\\x00\\x00'), 2: bytearray(b'\\n\\x00\\x00\\x00'), 3: bytearray(b'\\x01\\x00\\x00\\x00'), 4: bytearray(b'\\x01\\x00\\x00\\x00'), 5: bytearray(b'AA'), 6: bytearray(b'\\x01\\x00\\x00\\x00'), 7: bytearray(b'N001AA'), 8: bytearray(b'10135'), 9: bytearray(b'10135'), 10: bytearray(b'\\x05\\x00\\x00\\x00'), 11: bytearray(b'\\x01\\x00\\x00\\x00'), 12: bytearray(b'\\xd7\\xff\\xff\\xff'), 13: bytearray(b'\\x01\\x00\\x00\\x00'), 14: bytearray(b'\\x01\\x00\\x00\\x00'), 15: bytearray(b'\\x16\\x00\\x00\\x00'), 16: bytearray(b'\\x0e\\x00\\x00\\x00'), 17: bytearray(b'\\x07\\x00\\x00\\x00'), 18: bytearray(b'\\x1f\\x00\\x00\\x00'), 19: bytearray(b'\\x01\\x00\\x00\\x00'), 20: bytearray(b'\\x01\\x00\\x00\\x00'), 21: bytearray(b'\\x01\\x00\\x00\\x00'), 22: bytearray(b'\\x01\\x00\\x00\\x00'), 23: bytearray(b'\\xaf\\xff\\xff\\xff'), 24: bytearray(b'\\x00\\x00\\x00\\x00'), 25: bytearray(b'\\x00\\x00\\x00\\x00'), 26: bytearray(b'A'), 27: bytearray(b'\\x00\\x00\\x00\\x00'), 28: bytearray(b'\\x00\\x00\\x00\\x00'), 29: bytearray(b'\\x00\\x00\\x00\\x00'), 30: bytearray(b'\\x00\\x00\\x00\\x00'), 31: bytearray(b'\\x00\\x00\\x00\\x00')} |        {1: bytearray(b'\\xdf\\x07\\x00\\x00'), 2: bytearray(b'\\n\\x00\\x00\\x00'), 3: bytearray(b'\\x1f\\x00\\x00\\x00'), 4: bytearray(b'\\x07\\x00\\x00\\x00'), 5: bytearray(b'WN'), 6: bytearray(b'\\x0e\\x1d\\x00\\x00'), 7: bytearray(b'N9EAMQ'), 8: bytearray(b'16218'), 9: bytearray(b'16218'), 10: bytearray(b'7\\t\\x00\\x00'), 11: bytearray(b'`\\t\\x00\\x00'), 12: bytearray(b'%\\x06\\x00\\x00'), 13: bytearray(b'\\xb1\\x00\\x00\\x00'), 14: bytearray(b'`\\t\\x00\\x00'), 15: bytearray(b'\\xa4\\x02\\x00\\x00'), 16: bytearray(b'\\xb4\\x02\\x00\\x00'), 17: bytearray(b'\\x95\\x02\\x00\\x00'), 18: bytearray(b'w\\x13\\x00\\x00'), 19: bytearray(b'`\\t\\x00\\x00'), 20: bytearray(b'\\x92\\x00\\x00\\x00'), 21: bytearray(b'7\\t\\x00\\x00'), 22: bytearray(b'`\\t\\x00\\x00'), 23: bytearray(b'\\x13\\x06\\x00\\x00'), 24: bytearray(b'\\x01\\x00\\x00\\x00'), 25: bytearray(b'\\x01\\x00\\x00\\x00'), 26: bytearray(b'C'), 27: bytearray(b'A\\x02\\x00\\x00'), 28: bytearray(b'Y\\x00\\x00\\x00'), 29: bytearray(b'\\x13\\x06\\x00\\x00'), 30: bytearray(b'0\\x03\\x00\\x00'), 31: bytearray(b'\\xe3\\x03\\x00\\x00')} |         None |           [4] |         None |             0 |          Row(air_system_delay=Row(column_size=89852, value_count=486165, null_value_count=426086, nan_value_count=None, lower_bound=0, upper_bound=577), air_time=Row(column_size=575527, value_count=486165, null_value_count=3287, nan_value_count=None, lower_bound=7, upper_bound=661), airline=Row(column_size=131738, value_count=486165, null_value_count=0, nan_value_count=None, lower_bound='AA', upper_bound='WN'), airline_delay=Row(column_size=105428, value_count=486165, null_value_count=426086, nan_value_count=None, lower_bound=0, upper_bound=1555), arrival_delay=Row(column_size=491517, value_count=486165, null_value_count=3287, nan_value_count=None, lower_bound=-81, upper_bound=1555), arrival_time=Row(column_size=679368, value_count=486165, null_value_count=2571, nan_value_count=None, lower_bound=1, upper_bound=2400), cancellation_reason=Row(column_size=7550, value_count=486165, null_value_count=483711, nan_value_count=None, lower_bound='A', upper_bound='C'), cancelled=Row(column_size=6922, value_count=486165, null_value_count=0, nan_value_count=None, lower_bound=0, upper_bound=1), day=Row(column_size=1340, value_count=486165, null_value_count=0, nan_value_count=None, lower_bound=1, upper_bound=31), day_of_week=Row(column_size=1321, value_count=486165, null_value_count=0, nan_value_count=None, lower_bound=1, upper_bound=7), departure_delay=Row(column_size=443788, value_count=486165, null_value_count=2339, nan_value_count=None, lower_bound=-41, upper_bound=1573), departure_time=Row(column_size=678743, value_count=486165, null_value_count=2339, nan_value_count=None, lower_bound=1, upper_bound=2400), destination_airport=Row(column_size=483405, value_count=486165, null_value_count=0, nan_value_count=None, lower_bound='10135', upper_bound='16218'), distance=Row(column_size=661533, value_count=486165, null_value_count=0, nan_value_count=None, lower_bound=31, upper_bound=4983), diverted=Row(column_size=3875, value_count=486165, null_value_count=0, nan_value_count=None, lower_bound=0, upper_bound=1), elapsed_time=Row(column_size=580107, value_count=486165, null_value_count=3287, nan_value_count=None, lower_bound=14, upper_bound=692), flight_number=Row(column_size=805649, value_count=486165, null_value_count=0, nan_value_count=None, lower_bound=1, upper_bound=7438), late_aircraft_delay=Row(column_size=96483, value_count=486165, null_value_count=426086, nan_value_count=None, lower_bound=0, upper_bound=816), month=Row(column_size=1178, value_count=486165, null_value_count=0, nan_value_count=None, lower_bound=10, upper_bound=10), origin_airport=Row(column_size=504873, value_count=486165, null_value_count=0, nan_value_count=None, lower_bound='10135', upper_bound='16218'), scheduled_arrival=Row(column_size=673433, value_count=486165, null_value_count=0, nan_value_count=None, lower_bound=1, upper_bound=2359), scheduled_departure=Row(column_size=156733, value_count=486165, null_value_count=0, nan_value_count=None, lower_bound=5, upper_bound=2359), scheduled_time=Row(column_size=549965, value_count=486165, null_value_count=0, nan_value_count=None, lower_bound=22, upper_bound=676), security_delay=Row(column_size=50736, value_count=486165, null_value_count=426086, nan_value_count=None, lower_bound=0, upper_bound=89), tail_number=Row(column_size=794000, value_count=486165, null_value_count=354, nan_value_count=None, lower_bound='N001AA', upper_bound='N9EAMQ'), taxi_in=Row(column_size=320549, value_count=486165, null_value_count=2571, nan_value_count=None, lower_bound=1, upper_bound=146), taxi_out=Row(column_size=313010, value_count=486165, null_value_count=2435, nan_value_count=None, lower_bound=1, upper_bound=177), weather_delay=Row(column_size=56779, value_count=486165, null_value_count=426086, nan_value_count=None, lower_bound=0, upper_bound=995), wheels_off=Row(column_size=678961, value_count=486165, null_value_count=2435, nan_value_count=None, lower_bound=1, upper_bound=2400), wheels_on=Row(column_size=679374, value_count=486165, null_value_count=2571, nan_value_count=None, lower_bound=1, upper_bound=2400), year=Row(column_size=1178, value_count=486165, null_value_count=0, nan_value_count=None, lower_bound=2015, upper_bound=2015)) |\n",
       "|       0 | s3://warehouse/db/flights/data/month=11/00010-949-22846555-129f-4460-bd05-fe6cf2fc1357-0-00001.parquet |     PARQUET |       0 | Row(month=11) |       467972 |           10373628 |  {1: 1133, 2: 1133, 3: 1291, 4: 1269, 5: 130732, 6: 777840, 7: 767384, 8: 478891, 9: 466275, 10: 153390, 11: 655718, 12: 432414, 13: 325569, 14: 655875, 15: 522530, 16: 563181, 17: 558584, 18: 647690, 19: 656404, 20: 301758, 21: 648422, 22: 656403, 23: 490138, 24: 4301, 25: 9951, 26: 11121, 27: 104607, 28: 52794, 29: 106210, 30: 102667, 31: 62252} | {1: 467972, 2: 467972, 3: 467972, 4: 467972, 5: 467972, 6: 467972, 7: 467972, 8: 467972, 9: 467972, 10: 467972, 11: 467972, 12: 467972, 13: 467972, 14: 467972, 15: 467972, 16: 467972, 17: 467972, 18: 467972, 19: 467972, 20: 467972, 21: 467972, 22: 467972, 23: 467972, 24: 467972, 25: 467972, 26: 467972, 27: 467972, 28: 467972, 29: 467972, 30: 467972, 31: 467972} |            {1: 0, 2: 0, 3: 0, 4: 0, 5: 0, 6: 0, 7: 532, 8: 0, 9: 0, 10: 0, 11: 4339, 12: 4339, 13: 4524, 14: 4524, 15: 0, 16: 5605, 17: 5605, 18: 0, 19: 4817, 20: 4817, 21: 0, 22: 4817, 23: 5605, 24: 0, 25: 0, 26: 463373, 27: 397401, 28: 397401, 29: 397401, 30: 397401, 31: 397401} |               {} |    {1: bytearray(b'\\xdf\\x07\\x00\\x00'), 2: bytearray(b'\\x0b\\x00\\x00\\x00'), 3: bytearray(b'\\x01\\x00\\x00\\x00'), 4: bytearray(b'\\x01\\x00\\x00\\x00'), 5: bytearray(b'AA'), 6: bytearray(b'\\x01\\x00\\x00\\x00'), 7: bytearray(b'7819A'), 8: bytearray(b'ABE'), 9: bytearray(b'ABE'), 10: bytearray(b'\\x01\\x00\\x00\\x00'), 11: bytearray(b'\\x01\\x00\\x00\\x00'), 12: bytearray(b'\\xd0\\xff\\xff\\xff'), 13: bytearray(b'\\x01\\x00\\x00\\x00'), 14: bytearray(b'\\x01\\x00\\x00\\x00'), 15: bytearray(b'\\x17\\x00\\x00\\x00'), 16: bytearray(b'\\x0e\\x00\\x00\\x00'), 17: bytearray(b'\\x08\\x00\\x00\\x00'), 18: bytearray(b'\\x1f\\x00\\x00\\x00'), 19: bytearray(b'\\x01\\x00\\x00\\x00'), 20: bytearray(b'\\x01\\x00\\x00\\x00'), 21: bytearray(b'\\x01\\x00\\x00\\x00'), 22: bytearray(b'\\x01\\x00\\x00\\x00'), 23: bytearray(b'\\xb0\\xff\\xff\\xff'), 24: bytearray(b'\\x00\\x00\\x00\\x00'), 25: bytearray(b'\\x00\\x00\\x00\\x00'), 26: bytearray(b'A'), 27: bytearray(b'\\x00\\x00\\x00\\x00'), 28: bytearray(b'\\x00\\x00\\x00\\x00'), 29: bytearray(b'\\x00\\x00\\x00\\x00'), 30: bytearray(b'\\x00\\x00\\x00\\x00'), 31: bytearray(b'\\x00\\x00\\x00\\x00')} |          {1: bytearray(b'\\xdf\\x07\\x00\\x00'), 2: bytearray(b'\\x0b\\x00\\x00\\x00'), 3: bytearray(b'\\x1e\\x00\\x00\\x00'), 4: bytearray(b'\\x07\\x00\\x00\\x00'), 5: bytearray(b'WN'), 6: bytearray(b'\\x0e\\x1d\\x00\\x00'), 7: bytearray(b'N9EAMQ'), 8: bytearray(b'YUM'), 9: bytearray(b'YUM'), 10: bytearray(b'7\\t\\x00\\x00'), 11: bytearray(b'`\\t\\x00\\x00'), 12: bytearray(b'_\\x06\\x00\\x00'), 13: bytearray(b'\\xa1\\x00\\x00\\x00'), 14: bytearray(b'`\\t\\x00\\x00'), 15: bytearray(b'\\xa4\\x02\\x00\\x00'), 16: bytearray(b'\\xc2\\x02\\x00\\x00'), 17: bytearray(b'\\xa6\\x02\\x00\\x00'), 18: bytearray(b'w\\x13\\x00\\x00'), 19: bytearray(b'`\\t\\x00\\x00'), 20: bytearray(b'\\xb0\\x00\\x00\\x00'), 21: bytearray(b'7\\t\\x00\\x00'), 22: bytearray(b'`\\t\\x00\\x00'), 23: bytearray(b'f\\x06\\x00\\x00'), 24: bytearray(b'\\x01\\x00\\x00\\x00'), 25: bytearray(b'\\x01\\x00\\x00\\x00'), 26: bytearray(b'D'), 27: bytearray(b'\\x1e\\x03\\x00\\x00'), 28: bytearray(b'\\xb8\\x01\\x00\\x00'), 29: bytearray(b'_\\x06\\x00\\x00'), 30: bytearray(b'\\xd7\\x03\\x00\\x00'), 31: bytearray(b'`\\x04\\x00\\x00')} |         None |           [4] |         None |             0 |              Row(air_system_delay=Row(column_size=104607, value_count=467972, null_value_count=397401, nan_value_count=None, lower_bound=0, upper_bound=798), air_time=Row(column_size=558584, value_count=467972, null_value_count=5605, nan_value_count=None, lower_bound=8, upper_bound=678), airline=Row(column_size=130732, value_count=467972, null_value_count=0, nan_value_count=None, lower_bound='AA', upper_bound='WN'), airline_delay=Row(column_size=106210, value_count=467972, null_value_count=397401, nan_value_count=None, lower_bound=0, upper_bound=1631), arrival_delay=Row(column_size=490138, value_count=467972, null_value_count=5605, nan_value_count=None, lower_bound=-80, upper_bound=1638), arrival_time=Row(column_size=656403, value_count=467972, null_value_count=4817, nan_value_count=None, lower_bound=1, upper_bound=2400), cancellation_reason=Row(column_size=11121, value_count=467972, null_value_count=463373, nan_value_count=None, lower_bound='A', upper_bound='D'), cancelled=Row(column_size=9951, value_count=467972, null_value_count=0, nan_value_count=None, lower_bound=0, upper_bound=1), day=Row(column_size=1291, value_count=467972, null_value_count=0, nan_value_count=None, lower_bound=1, upper_bound=30), day_of_week=Row(column_size=1269, value_count=467972, null_value_count=0, nan_value_count=None, lower_bound=1, upper_bound=7), departure_delay=Row(column_size=432414, value_count=467972, null_value_count=4339, nan_value_count=None, lower_bound=-48, upper_bound=1631), departure_time=Row(column_size=655718, value_count=467972, null_value_count=4339, nan_value_count=None, lower_bound=1, upper_bound=2400), destination_airport=Row(column_size=466275, value_count=467972, null_value_count=0, nan_value_count=None, lower_bound='ABE', upper_bound='YUM'), distance=Row(column_size=647690, value_count=467972, null_value_count=0, nan_value_count=None, lower_bound=31, upper_bound=4983), diverted=Row(column_size=4301, value_count=467972, null_value_count=0, nan_value_count=None, lower_bound=0, upper_bound=1), elapsed_time=Row(column_size=563181, value_count=467972, null_value_count=5605, nan_value_count=None, lower_bound=14, upper_bound=706), flight_number=Row(column_size=777840, value_count=467972, null_value_count=0, nan_value_count=None, lower_bound=1, upper_bound=7438), late_aircraft_delay=Row(column_size=102667, value_count=467972, null_value_count=397401, nan_value_count=None, lower_bound=0, upper_bound=983), month=Row(column_size=1133, value_count=467972, null_value_count=0, nan_value_count=None, lower_bound=11, upper_bound=11), origin_airport=Row(column_size=478891, value_count=467972, null_value_count=0, nan_value_count=None, lower_bound='ABE', upper_bound='YUM'), scheduled_arrival=Row(column_size=648422, value_count=467972, null_value_count=0, nan_value_count=None, lower_bound=1, upper_bound=2359), scheduled_departure=Row(column_size=153390, value_count=467972, null_value_count=0, nan_value_count=None, lower_bound=1, upper_bound=2359), scheduled_time=Row(column_size=522530, value_count=467972, null_value_count=0, nan_value_count=None, lower_bound=23, upper_bound=676), security_delay=Row(column_size=52794, value_count=467972, null_value_count=397401, nan_value_count=None, lower_bound=0, upper_bound=440), tail_number=Row(column_size=767384, value_count=467972, null_value_count=532, nan_value_count=None, lower_bound='7819A', upper_bound='N9EAMQ'), taxi_in=Row(column_size=301758, value_count=467972, null_value_count=4817, nan_value_count=None, lower_bound=1, upper_bound=176), taxi_out=Row(column_size=325569, value_count=467972, null_value_count=4524, nan_value_count=None, lower_bound=1, upper_bound=161), weather_delay=Row(column_size=62252, value_count=467972, null_value_count=397401, nan_value_count=None, lower_bound=0, upper_bound=1120), wheels_off=Row(column_size=655875, value_count=467972, null_value_count=4524, nan_value_count=None, lower_bound=1, upper_bound=2400), wheels_on=Row(column_size=656404, value_count=467972, null_value_count=4817, nan_value_count=None, lower_bound=1, upper_bound=2400), year=Row(column_size=1133, value_count=467972, null_value_count=0, nan_value_count=None, lower_bound=2015, upper_bound=2015)) |\n",
       "|       0 |  s3://warehouse/db/flights/data/month=2/00011-950-22846555-129f-4460-bd05-fe6cf2fc1357-0-00001.parquet |     PARQUET |       0 |  Row(month=2) |       429191 |            9701043 | {1: 1044, 2: 1044, 3: 1192, 4: 1173, 5: 129111, 6: 713504, 7: 707075, 8: 451676, 9: 425190, 10: 140049, 11: 602025, 12: 421507, 13: 285841, 14: 601917, 15: 485598, 16: 515766, 17: 513146, 18: 587636, 19: 601883, 20: 249221, 21: 594733, 22: 601883, 23: 463512, 24: 4212, 25: 23808, 26: 27224, 27: 134750, 28: 53586, 29: 134251, 30: 125681, 31: 77586} | {1: 429191, 2: 429191, 3: 429191, 4: 429191, 5: 429191, 6: 429191, 7: 429191, 8: 429191, 9: 429191, 10: 429191, 11: 429191, 12: 429191, 13: 429191, 14: 429191, 15: 429191, 16: 429191, 17: 429191, 18: 429191, 19: 429191, 20: 429191, 21: 429191, 22: 429191, 23: 429191, 24: 429191, 25: 429191, 26: 429191, 27: 429191, 28: 429191, 29: 429191, 30: 429191, 31: 429191} | {1: 0, 2: 0, 3: 0, 4: 0, 5: 0, 6: 0, 7: 3594, 8: 0, 9: 0, 10: 0, 11: 20059, 12: 20059, 13: 20412, 14: 20412, 15: 2, 16: 21528, 17: 21528, 18: 0, 19: 20822, 20: 20822, 21: 0, 22: 20822, 23: 21528, 24: 0, 25: 0, 26: 408674, 27: 334012, 28: 334012, 29: 334012, 30: 334012, 31: 334012} |               {} |   {1: bytearray(b'\\xdf\\x07\\x00\\x00'), 2: bytearray(b'\\x02\\x00\\x00\\x00'), 3: bytearray(b'\\x01\\x00\\x00\\x00'), 4: bytearray(b'\\x01\\x00\\x00\\x00'), 5: bytearray(b'AA'), 6: bytearray(b'\\x01\\x00\\x00\\x00'), 7: bytearray(b'N001AA'), 8: bytearray(b'ABE'), 9: bytearray(b'ABE'), 10: bytearray(b'\\x05\\x00\\x00\\x00'), 11: bytearray(b'\\x01\\x00\\x00\\x00'), 12: bytearray(b'\\xc3\\xff\\xff\\xff'), 13: bytearray(b'\\x01\\x00\\x00\\x00'), 14: bytearray(b'\\x01\\x00\\x00\\x00'), 15: bytearray(b'\\x14\\x00\\x00\\x00'), 16: bytearray(b'\\x0f\\x00\\x00\\x00'), 17: bytearray(b'\\x07\\x00\\x00\\x00'), 18: bytearray(b'\\x1f\\x00\\x00\\x00'), 19: bytearray(b'\\x01\\x00\\x00\\x00'), 20: bytearray(b'\\x01\\x00\\x00\\x00'), 21: bytearray(b'\\x01\\x00\\x00\\x00'), 22: bytearray(b'\\x01\\x00\\x00\\x00'), 23: bytearray(b'\\xb1\\xff\\xff\\xff'), 24: bytearray(b'\\x00\\x00\\x00\\x00'), 25: bytearray(b'\\x00\\x00\\x00\\x00'), 26: bytearray(b'A'), 27: bytearray(b'\\x00\\x00\\x00\\x00'), 28: bytearray(b'\\x00\\x00\\x00\\x00'), 29: bytearray(b'\\x00\\x00\\x00\\x00'), 30: bytearray(b'\\x00\\x00\\x00\\x00'), 31: bytearray(b'\\x00\\x00\\x00\\x00')} |                {1: bytearray(b'\\xdf\\x07\\x00\\x00'), 2: bytearray(b'\\x02\\x00\\x00\\x00'), 3: bytearray(b'\\x1c\\x00\\x00\\x00'), 4: bytearray(b'\\x07\\x00\\x00\\x00'), 5: bytearray(b'WN'), 6: bytearray(b'h$\\x00\\x00'), 7: bytearray(b'N9EAMQ'), 8: bytearray(b'YUM'), 9: bytearray(b'YUM'), 10: bytearray(b'7\\t\\x00\\x00'), 11: bytearray(b'`\\t\\x00\\x00'), 12: bytearray(b'3\\x06\\x00\\x00'), 13: bytearray(b'\\xe1\\x00\\x00\\x00'), 14: bytearray(b'`\\t\\x00\\x00'), 15: bytearray(b'\\xa7\\x02\\x00\\x00'), 16: bytearray(b'\\xfe\\x02\\x00\\x00'), 17: bytearray(b'\\xac\\x02\\x00\\x00'), 18: bytearray(b'w\\x13\\x00\\x00'), 19: bytearray(b'`\\t\\x00\\x00'), 20: bytearray(b'\\xca\\x00\\x00\\x00'), 21: bytearray(b'7\\t\\x00\\x00'), 22: bytearray(b'`\\t\\x00\\x00'), 23: bytearray(b'[\\x06\\x00\\x00'), 24: bytearray(b'\\x01\\x00\\x00\\x00'), 25: bytearray(b'\\x01\\x00\\x00\\x00'), 26: bytearray(b'D'), 27: bytearray(b'\\xec\\x02\\x00\\x00'), 28: bytearray(b'\\xa8\\x00\\x00\\x00'), 29: bytearray(b'3\\x06\\x00\\x00'), 30: bytearray(b'!\\x05\\x00\\x00'), 31: bytearray(b'\\x80\\x04\\x00\\x00')} |         None |           [4] |         None |             0 |  Row(air_system_delay=Row(column_size=134750, value_count=429191, null_value_count=334012, nan_value_count=None, lower_bound=0, upper_bound=748), air_time=Row(column_size=513146, value_count=429191, null_value_count=21528, nan_value_count=None, lower_bound=7, upper_bound=684), airline=Row(column_size=129111, value_count=429191, null_value_count=0, nan_value_count=None, lower_bound='AA', upper_bound='WN'), airline_delay=Row(column_size=134251, value_count=429191, null_value_count=334012, nan_value_count=None, lower_bound=0, upper_bound=1587), arrival_delay=Row(column_size=463512, value_count=429191, null_value_count=21528, nan_value_count=None, lower_bound=-79, upper_bound=1627), arrival_time=Row(column_size=601883, value_count=429191, null_value_count=20822, nan_value_count=None, lower_bound=1, upper_bound=2400), cancellation_reason=Row(column_size=27224, value_count=429191, null_value_count=408674, nan_value_count=None, lower_bound='A', upper_bound='D'), cancelled=Row(column_size=23808, value_count=429191, null_value_count=0, nan_value_count=None, lower_bound=0, upper_bound=1), day=Row(column_size=1192, value_count=429191, null_value_count=0, nan_value_count=None, lower_bound=1, upper_bound=28), day_of_week=Row(column_size=1173, value_count=429191, null_value_count=0, nan_value_count=None, lower_bound=1, upper_bound=7), departure_delay=Row(column_size=421507, value_count=429191, null_value_count=20059, nan_value_count=None, lower_bound=-61, upper_bound=1587), departure_time=Row(column_size=602025, value_count=429191, null_value_count=20059, nan_value_count=None, lower_bound=1, upper_bound=2400), destination_airport=Row(column_size=425190, value_count=429191, null_value_count=0, nan_value_count=None, lower_bound='ABE', upper_bound='YUM'), distance=Row(column_size=587636, value_count=429191, null_value_count=0, nan_value_count=None, lower_bound=31, upper_bound=4983), diverted=Row(column_size=4212, value_count=429191, null_value_count=0, nan_value_count=None, lower_bound=0, upper_bound=1), elapsed_time=Row(column_size=515766, value_count=429191, null_value_count=21528, nan_value_count=None, lower_bound=15, upper_bound=766), flight_number=Row(column_size=713504, value_count=429191, null_value_count=0, nan_value_count=None, lower_bound=1, upper_bound=9320), late_aircraft_delay=Row(column_size=125681, value_count=429191, null_value_count=334012, nan_value_count=None, lower_bound=0, upper_bound=1313), month=Row(column_size=1044, value_count=429191, null_value_count=0, nan_value_count=None, lower_bound=2, upper_bound=2), origin_airport=Row(column_size=451676, value_count=429191, null_value_count=0, nan_value_count=None, lower_bound='ABE', upper_bound='YUM'), scheduled_arrival=Row(column_size=594733, value_count=429191, null_value_count=0, nan_value_count=None, lower_bound=1, upper_bound=2359), scheduled_departure=Row(column_size=140049, value_count=429191, null_value_count=0, nan_value_count=None, lower_bound=5, upper_bound=2359), scheduled_time=Row(column_size=485598, value_count=429191, null_value_count=2, nan_value_count=None, lower_bound=20, upper_bound=679), security_delay=Row(column_size=53586, value_count=429191, null_value_count=334012, nan_value_count=None, lower_bound=0, upper_bound=168), tail_number=Row(column_size=707075, value_count=429191, null_value_count=3594, nan_value_count=None, lower_bound='N001AA', upper_bound='N9EAMQ'), taxi_in=Row(column_size=249221, value_count=429191, null_value_count=20822, nan_value_count=None, lower_bound=1, upper_bound=202), taxi_out=Row(column_size=285841, value_count=429191, null_value_count=20412, nan_value_count=None, lower_bound=1, upper_bound=225), weather_delay=Row(column_size=77586, value_count=429191, null_value_count=334012, nan_value_count=None, lower_bound=0, upper_bound=1152), wheels_off=Row(column_size=601917, value_count=429191, null_value_count=20412, nan_value_count=None, lower_bound=1, upper_bound=2400), wheels_on=Row(column_size=601883, value_count=429191, null_value_count=20822, nan_value_count=None, lower_bound=1, upper_bound=2400), year=Row(column_size=1044, value_count=429191, null_value_count=0, nan_value_count=None, lower_bound=2015, upper_bound=2015)) |\n",
       "+---------+--------------------------------------------------------------------------------------------------------+-------------+---------+---------------+--------------+--------------------+---------------------------------------------------------------------------------------------------------------------------------------------------------------------------------------------------------------------------------------------------------------------------------------------------------------------------------------------------------------+-----------------------------------------------------------------------------------------------------------------------------------------------------------------------------------------------------------------------------------------------------------------------------------------------------------------------------------------------------------------------------+-------------------------------------------------------------------------------------------------------------------------------------------------------------------------------------------------------------------------------------------------------------------------------------------+------------------+--------------------------------------------------------------------------------------------------------------------------------------------------------------------------------------------------------------------------------------------------------------------------------------------------------------------------------------------------------------------------------------------------------------------------------------------------------------------------------------------------------------------------------------------------------------------------------------------------------------------------------------------------------------------------------------------------------------------------------------------------------------------------------------------------------------------------------------------------------------------------------------------------------------------------------------------------------------------------------------------------------------------------------------------------------------------------------------+------------------------------------------------------------------------------------------------------------------------------------------------------------------------------------------------------------------------------------------------------------------------------------------------------------------------------------------------------------------------------------------------------------------------------------------------------------------------------------------------------------------------------------------------------------------------------------------------------------------------------------------------------------------------------------------------------------------------------------------------------------------------------------------------------------------------------------------------------------------------------------------------------------------------------------------------------------------------------------------------------------------------------------------------+--------------+---------------+--------------+---------------+------------------------------------------------------------------------------------------------------------------------------------------------------------------------------------------------------------------------------------------------------------------------------------------------------------------------------------------------------------------------------------------------------------------------------------------------------------------------------------------------------------------------------------------------------------------------------------------------------------------------------------------------------------------------------------------------------------------------------------------------------------------------------------------------------------------------------------------------------------------------------------------------------------------------------------------------------------------------------------------------------------------------------------------------------------------------------------------------------------------------------------------------------------------------------------------------------------------------------------------------------------------------------------------------------------------------------------------------------------------------------------------------------------------------------------------------------------------------------------------------------------------------------------------------------------------------------------------------------------------------------------------------------------------------------------------------------------------------------------------------------------------------------------------------------------------------------------------------------------------------------------------------------------------------------------------------------------------------------------------------------------------------------------------------------------------------------------------------------------------------------------------------------------------------------------------------------------------------------------------------------------------------------------------------------------------------------------------------------------------------------------------------------------------------------------------------------------------------------------------------------------------------------------------------------------------------------------------------------------------------------------------------------------------------------------------------------------------------------------------------------------------------------------------------------------------------------------------------------------------------------------------------------------------------------------------------------------------------------------------------------------------------------------------------------------------------------------------------------------------------------------------------------------------------------------------------------------------------------------------------------------------------------------------------------------------------------------------------------------------------------------------------------------------------------------------------------------------------------------------------------------------------------------------------------------------------------------------------------------------------------------------------------------------------------------------------------------------------------------------------------------------------------------------------------------------------------------------------------------------------------------------------------------------------------------------------------------------------------------------------------------------------------------------------------------------------------------------------------------------------------------------------------------------------------------------------------------------------------------------------------------------------------------------------------------------------------------------------------------------+"
      ]
     },
     "execution_count": 32,
     "metadata": {},
     "output_type": "execute_result"
    }
   ],
   "source": [
    "%%sql\n",
    "SELECT\n",
    "    *\n",
    "FROM airline.db.flights.files"
   ]
  },
  {
   "cell_type": "code",
   "execution_count": 101,
   "id": "c81a4b36-3069-4af2-8c52-9ca29e2ac016",
   "metadata": {
    "scrolled": true
   },
   "outputs": [
    {
     "data": {
      "text/html": [
       "<table>\n",
       "    <thead>\n",
       "        <tr>\n",
       "            <th>sum(file_size_in_bytes)</th>\n",
       "        </tr>\n",
       "    </thead>\n",
       "    <tbody>\n",
       "        <tr>\n",
       "            <td>130797157</td>\n",
       "        </tr>\n",
       "    </tbody>\n",
       "</table>"
      ],
      "text/plain": [
       "+-------------------------+\n",
       "| sum(file_size_in_bytes) |\n",
       "+-------------------------+\n",
       "|               130797157 |\n",
       "+-------------------------+"
      ]
     },
     "execution_count": 101,
     "metadata": {},
     "output_type": "execute_result"
    }
   ],
   "source": [
    "%%sql\n",
    "SELECT\n",
    "    SUM(file_size_in_bytes)\n",
    "FROM airline.db.flights.files"
   ]
  },
  {
   "cell_type": "code",
   "execution_count": 19,
   "id": "ec9bdc9c-0aed-47ca-92a1-2283d766183e",
   "metadata": {},
   "outputs": [
    {
     "data": {
      "text/html": [
       "<table>\n",
       "    <thead>\n",
       "        <tr>\n",
       "            <th>partition</th>\n",
       "        </tr>\n",
       "    </thead>\n",
       "    <tbody>\n",
       "        <tr>\n",
       "            <td>Row(month=12)</td>\n",
       "        </tr>\n",
       "        <tr>\n",
       "            <td>Row(month=1)</td>\n",
       "        </tr>\n",
       "        <tr>\n",
       "            <td>Row(month=6)</td>\n",
       "        </tr>\n",
       "        <tr>\n",
       "            <td>Row(month=3)</td>\n",
       "        </tr>\n",
       "        <tr>\n",
       "            <td>Row(month=5)</td>\n",
       "        </tr>\n",
       "        <tr>\n",
       "            <td>Row(month=9)</td>\n",
       "        </tr>\n",
       "        <tr>\n",
       "            <td>Row(month=4)</td>\n",
       "        </tr>\n",
       "        <tr>\n",
       "            <td>Row(month=8)</td>\n",
       "        </tr>\n",
       "        <tr>\n",
       "            <td>Row(month=7)</td>\n",
       "        </tr>\n",
       "        <tr>\n",
       "            <td>Row(month=10)</td>\n",
       "        </tr>\n",
       "        <tr>\n",
       "            <td>Row(month=11)</td>\n",
       "        </tr>\n",
       "        <tr>\n",
       "            <td>Row(month=2)</td>\n",
       "        </tr>\n",
       "    </tbody>\n",
       "</table>"
      ],
      "text/plain": [
       "+---------------+\n",
       "|     partition |\n",
       "+---------------+\n",
       "| Row(month=12) |\n",
       "|  Row(month=1) |\n",
       "|  Row(month=6) |\n",
       "|  Row(month=3) |\n",
       "|  Row(month=5) |\n",
       "|  Row(month=9) |\n",
       "|  Row(month=4) |\n",
       "|  Row(month=8) |\n",
       "|  Row(month=7) |\n",
       "| Row(month=10) |\n",
       "| Row(month=11) |\n",
       "|  Row(month=2) |\n",
       "+---------------+"
      ]
     },
     "execution_count": 19,
     "metadata": {},
     "output_type": "execute_result"
    }
   ],
   "source": [
    "%%sql\n",
    "SELECT \n",
    "    partition\n",
    "FROM \n",
    "    airline.db.flights.files\n",
    "WHERE \n",
    "    null_value_counts['7'] > 0\n",
    "GROUP BY \n",
    "    partition"
   ]
  },
  {
   "cell_type": "code",
   "execution_count": null,
   "id": "7f090473-5176-49a8-9588-98415947f3fd",
   "metadata": {},
   "outputs": [],
   "source": []
  },
  {
   "cell_type": "markdown",
   "id": "50eeaa6e-c456-4db7-bffa-f615ff71cfbe",
   "metadata": {},
   "source": [
    "# Perform Agg_fact_flights transfrom"
   ]
  },
  {
   "cell_type": "code",
   "execution_count": 3,
   "id": "18550a09-e87c-4097-ab88-cf659b5d736e",
   "metadata": {},
   "outputs": [
    {
     "name": "stderr",
     "output_type": "stream",
     "text": [
      "24/12/26 17:45:42 WARN SparkStringUtils: Truncated the string representation of a plan since it was too large. This behavior can be adjusted by setting 'spark.sql.debug.maxToStringFields'.\n",
      "[Stage 4:>                                                          (0 + 1) / 1]\r"
     ]
    },
    {
     "name": "stdout",
     "output_type": "stream",
     "text": [
      "+----------+-------+-------------+-----------+--------------+-------------------+-------------------+--------------+---------------+--------+----------+--------------+------------+--------+--------+---------+-------+-----------------+------------+-------------+--------+---------+-------------------+----------------+--------------+-------------+-------------------+-------------+----------+----+-----+---+-----------+-------+------------+----------+\n",
      "|      date|airline|flight_number|tail_number|origin_airport|destination_airport|scheduled_departure|departure_time|departure_delay|taxi_out|wheels_off|scheduled_time|elapsed_time|air_time|distance|wheels_on|taxi_in|scheduled_arrival|arrival_time|arrival_delay|diverted|cancelled|cancellation_reason|air_system_delay|security_delay|airline_delay|late_aircraft_delay|weather_delay|is_delayed|year|month|day|day_of_week|quarter|holiday_name|is_holiday|\n",
      "+----------+-------+-------------+-----------+--------------+-------------------+-------------------+--------------+---------------+--------+----------+--------------+------------+--------+--------+---------+-------+-----------------+------------+-------------+--------+---------+-------------------+----------------+--------------+-------------+-------------------+-------------+----------+----+-----+---+-----------+-------+------------+----------+\n",
      "|2015-07-01|     NK|          298|     N624NK|           LAS|                IAH|                  3|            41|             38|      11|        52|           177|         179|     159|    1222|      531|      9|              500|         540|           40|       0|        0|               NULL|               2|             0|           38|                  0|            0|         1|2015|    7|  1|          4|      3|        NULL|     false|\n",
      "|2015-07-01|     AA|         1965|     N507AY|           SFO|                CLT|                  5|          2400|             -5|      21|        21|           303|         306|     270|    2296|      751|     15|              808|         806|           -2|       0|        0|               NULL|            NULL|          NULL|         NULL|               NULL|         NULL|         0|2015|    7|  1|          4|      3|        NULL|     false|\n",
      "|2015-07-01|     DL|         2020|      N3759|           LAX|                MEM|                  5|          2400|             -5|      36|        36|           223|         244|     206|    1619|      602|      2|              548|         604|           16|       0|        0|               NULL|              16|             0|            0|                  0|            0|         0|2015|    7|  1|          4|      3|        NULL|     false|\n",
      "|2015-07-01|     NK|          612|     N629NK|           LAS|                MSP|                  5|            53|             48|      14|       107|           178|         179|     157|    1299|      544|      8|              503|         552|           49|       0|        0|               NULL|              35|             0|           14|                  0|            0|         1|2015|    7|  1|          4|      3|        NULL|     false|\n",
      "|2015-07-01|     UA|         1044|     N39418|           ANC|                ORD|                  8|            17|              9|      20|        37|           364|         358|     327|    2846|      904|     11|              912|         915|            3|       0|        0|               NULL|            NULL|          NULL|         NULL|               NULL|         NULL|         1|2015|    7|  1|          4|      3|        NULL|     false|\n",
      "|2015-07-01|     AA|          260|     N3BHAA|           LAX|                MIA|                 10|             5|             -5|      33|        38|           312|         337|     292|    2342|      830|     12|              822|         842|           20|       0|        0|               NULL|              20|             0|            0|                  0|            0|         0|2015|    7|  1|          4|      3|        NULL|     false|\n",
      "|2015-07-01|     AA|          448|     N542UW|           SLC|                CLT|                 15|            22|              7|      13|        35|           234|         230|     204|    1727|      559|     13|              609|         612|            3|       0|        0|               NULL|            NULL|          NULL|         NULL|               NULL|         NULL|         1|2015|    7|  1|          4|      3|        NULL|     false|\n",
      "|2015-07-01|     AA|         2406|     N376AA|           LAX|                DFW|                 15|            35|             20|      28|       103|           181|         196|     163|    1235|      546|      5|              516|         551|           35|       0|        0|               NULL|              15|             0|           20|                  0|            0|         1|2015|    7|  1|          4|      3|        NULL|     false|\n",
      "|2015-07-01|     UA|         1928|     N18220|           SFO|                ORD|                 22|            43|             21|      15|        58|           256|         238|     218|    1846|      636|      5|              638|         641|            3|       0|        0|               NULL|            NULL|          NULL|         NULL|               NULL|         NULL|         1|2015|    7|  1|          4|      3|        NULL|     false|\n",
      "|2015-07-01|     UA|          206|     N435UA|           PDX|                ORD|                 24|            17|             -7|       9|        26|           247|         205|     193|    1739|      539|      3|              631|         542|          -49|       0|        0|               NULL|            NULL|          NULL|         NULL|               NULL|         NULL|         0|2015|    7|  1|          4|      3|        NULL|     false|\n",
      "|2015-07-01|     AA|         1230|     N3HXAA|           SEA|                DFW|                 25|            23|             -2|      12|        35|           233|         221|     194|    1660|      549|     15|              618|         604|          -14|       0|        0|               NULL|            NULL|          NULL|         NULL|               NULL|         NULL|         0|2015|    7|  1|          4|      3|        NULL|     false|\n",
      "|2015-07-01|     AA|         1925|     N181UW|           SEA|                CLT|                 25|            36|             11|      11|        47|           297|         287|     267|    2279|      814|      9|              822|         823|            1|       0|        0|               NULL|            NULL|          NULL|         NULL|               NULL|         NULL|         1|2015|    7|  1|          4|      3|        NULL|     false|\n",
      "|2015-07-01|     AA|         2051|     N570UW|           SFO|                PHL|                 25|            18|             -7|      14|        32|           320|         318|     300|    2521|      832|      4|              845|         836|           -9|       0|        0|               NULL|            NULL|          NULL|         NULL|               NULL|         NULL|         0|2015|    7|  1|          4|      3|        NULL|     false|\n",
      "|2015-07-01|     DL|         1435|     N805DN|           LAX|                MSP|                 25|            24|             -1|      29|        53|           212|         222|     187|    1535|      600|      6|              557|         606|            9|       0|        0|               NULL|            NULL|          NULL|         NULL|               NULL|         NULL|         0|2015|    7|  1|          4|      3|        NULL|     false|\n",
      "|2015-07-01|     DL|         2832|     N839DN|           ANC|                SLC|                 25|            22|             -3|      13|        35|           275|         264|     244|    2125|      639|      7|              700|         646|          -14|       0|        0|               NULL|            NULL|          NULL|         NULL|               NULL|         NULL|         0|2015|    7|  1|          4|      3|        NULL|     false|\n",
      "|2015-07-01|     UA|         1547|     N78438|           LAX|                ORD|                 25|            27|              2|      24|        51|           251|         243|     213|    1744|      624|      6|              636|         630|           -6|       0|        0|               NULL|            NULL|          NULL|         NULL|               NULL|         NULL|         1|2015|    7|  1|          4|      3|        NULL|     false|\n",
      "|2015-07-01|     UA|         1949|     N14704|           SEA|                ORD|                 27|           316|            169|      12|       328|           238|         215|     194|    1721|      842|      9|              625|         851|          146|       0|        0|               NULL|               0|             0|          146|                  0|            0|         1|2015|    7|  1|          4|      3|        NULL|     false|\n",
      "|2015-07-01|     AA|          677|     N563UW|           LAS|                PHL|                 30|            33|              3|      12|        45|           284|         284|     255|    2176|      800|     17|              814|         817|            3|       0|        0|               NULL|            NULL|          NULL|         NULL|               NULL|         NULL|         1|2015|    7|  1|          4|      3|        NULL|     false|\n",
      "|2015-07-01|     AA|         1797|     N767UW|           LAX|                BNA|                 30|            28|             -2|      24|        52|           250|         260|     230|    1797|      642|      6|              640|         648|            8|       0|        0|               NULL|            NULL|          NULL|         NULL|               NULL|         NULL|         0|2015|    7|  1|          4|      3|        NULL|     false|\n",
      "|2015-07-01|     AA|         1982|     N171US|           LAX|                CLT|                 30|            43|             13|      23|       106|           295|         306|     274|    2125|      840|      9|              825|         849|           24|       0|        0|               NULL|              11|             0|           13|                  0|            0|         1|2015|    7|  1|          4|      3|        NULL|     false|\n",
      "+----------+-------+-------------+-----------+--------------+-------------------+-------------------+--------------+---------------+--------+----------+--------------+------------+--------+--------+---------+-------+-----------------+------------+-------------+--------+---------+-------------------+----------------+--------------+-------------+-------------------+-------------+----------+----+-----+---+-----------+-------+------------+----------+\n",
      "only showing top 20 rows\n",
      "\n"
     ]
    },
    {
     "name": "stderr",
     "output_type": "stream",
     "text": [
      "                                                                                \r"
     ]
    }
   ],
   "source": [
    "# Read flights table\n",
    "flights_df = spark.table('airline.db.flights')\n",
    "\n",
    "# Join dim_date table to flights\n",
    "flights_df = flights_df \\\n",
    "    .join(\n",
    "        broadcast(date_df),\n",
    "        ['date']\n",
    "    )\n",
    "\n",
    "flights_df.createOrReplaceTempView('flights')\n",
    "\n",
    "flights_df.show()\n",
    "# flights_df.explain()"
   ]
  },
  {
   "cell_type": "code",
   "execution_count": 5,
   "id": "8de74d62-dac0-4cd9-8b67-b60cf47b8428",
   "metadata": {},
   "outputs": [],
   "source": [
    "def agg_delay_metrics_rollup(\n",
    "    input_df: DataFrame,\n",
    "    non_time_columns: list[str],\n",
    "    time_columns: list[str]\n",
    ") -> DataFrame:\n",
    "\n",
    "    # Concatenate both list of columns\n",
    "    cube_columns = non_time_columns + time_columns\n",
    "\n",
    "    # Calculate the aggregate values for the cube\n",
    "    output_df = input_df \\\n",
    "        .rollup(*cube_columns) \\\n",
    "        .agg(\n",
    "            count('*').alias('total_flights'),\n",
    "            count(when(col('is_delayed') == True, 1)).alias('delayed_flights'),\n",
    "            ( count(when(col('is_delayed') == True, 1)) / count('*') ).alias('delay_rate'),\n",
    "            avg('departure_delay').alias('avg_delay_time')\n",
    "        )\n",
    "\n",
    "    # Calculate aggregation label to add as column\n",
    "    time_agg_level = get_aggregation_level(time_columns)\n",
    "    agg_level = get_aggregation_level(non_time_columns)\n",
    "\n",
    "    # Add (time_)agg_level columns\n",
    "    output_df = output_df \\\n",
    "        .withColumn('time_agg_level', time_agg_level) \\\n",
    "        .withColumn('agg_level', agg_level)\n",
    "    \n",
    "    return output_df\n",
    "\n",
    "def get_aggregation_level(columns: list[str]):\n",
    "    # TODO add comments\n",
    "    \n",
    "    # \n",
    "    # Returns col\n",
    "    agg_level = concat_ws(\n",
    "        '_',\n",
    "        *[when(col(c).isNotNull(), lit(c)) for c in columns]\n",
    "    )\n",
    "\n",
    "    all_nulls = lit(True)\n",
    "    for c in columns:\n",
    "        all_nulls &= col(c).isNull()\n",
    "    agg_level = when(all_nulls, 'all').otherwise(agg_level)\n",
    "    \n",
    "    return agg_level\n",
    "\n",
    "# cols = ['month', 'day', 'airport']\n",
    "# print(get_aggregation_level(cols))\n",
    "\n",
    "\n",
    "# Full Outer Join cube by cancelled, times\n",
    "# Dedup the \"all\" agg_levels\n",
    "# agg_df.sort('time_agg_level', 'agg_level').show(100)"
   ]
  },
  {
   "cell_type": "code",
   "execution_count": 162,
   "id": "187ce4de-16ef-4c3e-8337-3b50bb55a25f",
   "metadata": {
    "collapsed": true,
    "jupyter": {
     "outputs_hidden": true,
     "source_hidden": true
    }
   },
   "outputs": [
    {
     "name": "stderr",
     "output_type": "stream",
     "text": [
      "                                                                                \r"
     ]
    },
    {
     "name": "stdout",
     "output_type": "stream",
     "text": [
      "39852\n"
     ]
    },
    {
     "name": "stderr",
     "output_type": "stream",
     "text": [
      "[Stage 383:=========>                                             (2 + 10) / 12]\r"
     ]
    },
    {
     "name": "stdout",
     "output_type": "stream",
     "text": [
      "+----+-----+-------+--------------+-------------+---------------+--------------------+-------------------+--------------+--------------------+\n",
      "|year|month|airline|origin_airport|total_flights|delayed_flights|          delay_rate|     avg_delay_time|time_agg_level|           agg_level|\n",
      "+----+-----+-------+--------------+-------------+---------------+--------------------+-------------------+--------------+--------------------+\n",
      "|2015|    7|     WN|           MCO|          369|            183|  0.4959349593495935| 18.489071038251367|    year_month|airline_origin_ai...|\n",
      "|2015|    7|     WN|           SEA|          145|             79|  0.5448275862068965| 10.393103448275863|    year_month|airline_origin_ai...|\n",
      "|2015|    7|     AA|           FLL|           89|             23| 0.25842696629213485| 2.8764044943820224|    year_month|airline_origin_ai...|\n",
      "|2015|    7|     UA|           OGG|           26|             12| 0.46153846153846156| 2.4615384615384617|    year_month|airline_origin_ai...|\n",
      "|2015|    7|     MQ|           BHM|            4|              2|                 0.5|               7.75|    year_month|airline_origin_ai...|\n",
      "|2015|    7|     EV|           COS|            3|              0|                 0.0|-2.6666666666666665|    year_month|airline_origin_ai...|\n",
      "|2015|    7|     OO|           LAR|            3|              1|  0.3333333333333333|               -5.0|    year_month|airline_origin_ai...|\n",
      "|2015|    7|     EV|           LAW|            3|              0|                 0.0| -8.333333333333334|    year_month|airline_origin_ai...|\n",
      "|2015|    7|     AS|           BWI|            4|              0|                 0.0|             -10.25|    year_month|airline_origin_ai...|\n",
      "|2015|    7|   NULL|           FAT|           67|             24|  0.3582089552238806| 13.046153846153846|    year_month|      origin_airport|\n",
      "|2015|    7|   NULL|           BIS|           22|              4| 0.18181818181818182| 1.7619047619047619|    year_month|      origin_airport|\n",
      "|2015|    7|     B6|           BOS|          408|            150| 0.36764705882352944|  9.313580246913581|    year_month|airline_origin_ai...|\n",
      "|2015|    7|     EV|           ELP|            7|              0|                 0.0| -9.714285714285714|    year_month|airline_origin_ai...|\n",
      "|2015|    7|     EV|           ROC|           11|              1| 0.09090909090909091|                2.3|    year_month|airline_origin_ai...|\n",
      "|2015|    7|   NULL|           DCA|          689|            228|  0.3309143686502177|  8.701317715959004|    year_month|      origin_airport|\n",
      "|2015|    7|     WN|           PVD|           47|             29|  0.6170212765957447|  20.80851063829787|    year_month|airline_origin_ai...|\n",
      "|2015|    7|     MQ|           DAY|            9|              3|  0.3333333333333333| 19.444444444444443|    year_month|airline_origin_ai...|\n",
      "|2015|    7|   NULL|           EAU|            9|              4|  0.4444444444444444|  10.11111111111111|    year_month|      origin_airport|\n",
      "|2015|    7|   NULL|           OTZ|            1|              1|                 1.0|               52.0|    year_month|      origin_airport|\n",
      "|2015|    7|   NULL|           MDT|           21|              4| 0.19047619047619047|               -3.1|    year_month|      origin_airport|\n",
      "|2015|    7|   NULL|           SUX|            4|              1|                0.25|               9.75|    year_month|      origin_airport|\n",
      "|2015|    7|     DL|           LGA|          211|             90|  0.4265402843601896| 16.792270531400966|    year_month|airline_origin_ai...|\n",
      "|2015|    7|     OO|           GFK|            2|              1|                 0.5|                2.0|    year_month|airline_origin_ai...|\n",
      "|2015|    7|     AS|           BET|           10|              4|                 0.4|                1.1|    year_month|airline_origin_ai...|\n",
      "|2015|    7|     OO|           RKS|            2|              0|                 0.0|               -8.5|    year_month|airline_origin_ai...|\n",
      "|2015|    7|     DL|          NULL|         8033|           2673|  0.3327523963649944|  8.053851907255048|    year_month|             airline|\n",
      "|2015|    7|   NULL|           PIB|            3|              0|                 0.0| -6.333333333333333|    year_month|      origin_airport|\n",
      "|2015|    7|     MQ|           LCH|            9|              5|  0.5555555555555556|  30.88888888888889|    year_month|airline_origin_ai...|\n",
      "|2015|    7|     EV|           GTR|            7|              0|                 0.0|-3.7142857142857144|    year_month|airline_origin_ai...|\n",
      "|2015|    7|   NULL|           MSP|         1152|            360|              0.3125| 6.5426829268292686|    year_month|      origin_airport|\n",
      "|2015|    7|   NULL|           EKO|            6|              1| 0.16666666666666666|               -4.0|    year_month|      origin_airport|\n",
      "|2015|    7|     UA|           SNA|           52|             22|  0.4230769230769231|              11.26|    year_month|airline_origin_ai...|\n",
      "|2015|    7|     HA|           KOA|           89|             26| 0.29213483146067415| -1.101123595505618|    year_month|airline_origin_ai...|\n",
      "|2015|    7|     OO|           OMA|           18|              8|  0.4444444444444444|  3.888888888888889|    year_month|airline_origin_ai...|\n",
      "|2015|    7|     UA|           MDT|            1|              1|                 1.0|                2.0|    year_month|airline_origin_ai...|\n",
      "|2015|    7|     EV|           GJT|            3|              1|  0.3333333333333333|                3.0|    year_month|airline_origin_ai...|\n",
      "|2015|    7|     DL|           CRW|            4|              1|                0.25|              -2.75|    year_month|airline_origin_ai...|\n",
      "|2015|    7|   NULL|           PLN|           13|              4|  0.3076923076923077|  21.46153846153846|    year_month|      origin_airport|\n",
      "|2015|    7|   NULL|           SWF|            5|              2|                 0.4|                2.6|    year_month|      origin_airport|\n",
      "|2015|    7|   NULL|           ERI|            5|              2|                 0.4|                5.4|    year_month|      origin_airport|\n",
      "|2015|    7|     WN|           OKC|           53|             23|  0.4339622641509434|  7.211538461538462|    year_month|airline_origin_ai...|\n",
      "|2015|    7|     OO|           DEN|          437|            191| 0.43707093821510296|  12.91304347826087|    year_month|airline_origin_ai...|\n",
      "|2015|    7|     EV|           MSY|           11|              3|  0.2727272727272727| 10.818181818181818|    year_month|airline_origin_ai...|\n",
      "|2015|    7|     AS|           ORD|           17|              4| 0.23529411764705882|-2.1176470588235294|    year_month|airline_origin_ai...|\n",
      "|2015|    7|     EV|           IND|           29|             11|  0.3793103448275862| 24.576923076923077|    year_month|airline_origin_ai...|\n",
      "|2015|    7|     NK|           ORD|           87|             58|  0.6666666666666666| 27.729411764705883|    year_month|airline_origin_ai...|\n",
      "|2015|    7|     NK|           PBG|            4|              4|                 1.0|               20.5|    year_month|airline_origin_ai...|\n",
      "|2015|    7|     EV|           PBI|            1|              1|                 1.0|               59.0|    year_month|airline_origin_ai...|\n",
      "|2015|    7|     OO|           TWF|           12|              0|                 0.0|              -8.75|    year_month|airline_origin_ai...|\n",
      "|2015|    7|     EV|           BTV|           23|              7| 0.30434782608695654| 2.3181818181818183|    year_month|airline_origin_ai...|\n",
      "|2015|    7|     VX|           BOS|           28|             10| 0.35714285714285715|              10.25|    year_month|airline_origin_ai...|\n",
      "|2015|    7|     EV|           PIA|           21|              8| 0.38095238095238093| 1.8571428571428572|    year_month|airline_origin_ai...|\n",
      "|2015|    7|     EV|           IAH|          555|            136| 0.24504504504504504|  4.128623188405797|    year_month|airline_origin_ai...|\n",
      "|2015|    7|     UA|           RSW|           11|              3|  0.2727272727272727| 10.181818181818182|    year_month|airline_origin_ai...|\n",
      "|2015|    7|     DL|           SAV|           33|             14| 0.42424242424242425| 6.2727272727272725|    year_month|airline_origin_ai...|\n",
      "|2015|    7|     OO|           SBP|           20|              6|                 0.3|                2.6|    year_month|airline_origin_ai...|\n",
      "|2015|    7|     MQ|           GSO|           10|              4|                 0.4|                3.8|    year_month|airline_origin_ai...|\n",
      "|2015|    7|     WN|           ICT|           14|              6| 0.42857142857142855|  4.642857142857143|    year_month|airline_origin_ai...|\n",
      "|2015|    7|     DL|           SYR|           13|              5| 0.38461538461538464|  8.538461538461538|    year_month|airline_origin_ai...|\n",
      "|2015|    7|     NK|           TPA|           11|              4| 0.36363636363636365| 25.545454545454547|    year_month|airline_origin_ai...|\n",
      "|2015|    7|   NULL|           AVP|           15|              3|                 0.2| 16.133333333333333|    year_month|      origin_airport|\n",
      "|2015|    7|     WN|           PHX|          553|            329|  0.5949367088607594| 16.519927536231883|    year_month|airline_origin_ai...|\n",
      "|2015|    7|     DL|           MYR|           11|              2| 0.18181818181818182|-0.8181818181818182|    year_month|airline_origin_ai...|\n",
      "|2015|    7|     DL|           BNA|           47|             14|  0.2978723404255319|  6.574468085106383|    year_month|airline_origin_ai...|\n",
      "|2015|    7|     OO|           FNT|            7|              3| 0.42857142857142855|-0.8571428571428571|    year_month|airline_origin_ai...|\n",
      "|2015|    7|     MQ|           GRI|            3|              0|                 0.0| -4.666666666666667|    year_month|airline_origin_ai...|\n",
      "|2015|    7|   NULL|           ROC|           70|             23| 0.32857142857142857|  9.246376811594203|    year_month|      origin_airport|\n",
      "|2015|    7|     WN|           DTW|           63|             29|  0.4603174603174603| 10.158730158730158|    year_month|airline_origin_ai...|\n",
      "|2015|    7|     EV|           DSM|           16|              3|              0.1875|  4.066666666666666|    year_month|airline_origin_ai...|\n",
      "|2015|    7|     EV|           ROA|           24|             14|  0.5833333333333334|              28.25|    year_month|airline_origin_ai...|\n",
      "|2015|    7|     MQ|           BIS|            6|              0|                 0.0| -4.833333333333333|    year_month|airline_origin_ai...|\n",
      "|2015|    7|   NULL|           CLE|          366|            129|  0.3524590163934426| 11.030640668523677|    year_month|      origin_airport|\n",
      "|2015|    7|   NULL|           SMF|          375|            156|               0.416| 10.161290322580646|    year_month|      origin_airport|\n",
      "|2015|    7|     OO|           DLH|           14|              5| 0.35714285714285715| 23.571428571428573|    year_month|airline_origin_ai...|\n",
      "|2015|    7|   NULL|           EVV|           40|              7|               0.175|-0.7692307692307693|    year_month|      origin_airport|\n",
      "|2015|    7|   NULL|           BZN|           64|             21|            0.328125|           5.765625|    year_month|      origin_airport|\n",
      "|2015|    7|     OO|           MSP|          259|             71| 0.27413127413127414|    5.2007722007722|    year_month|airline_origin_ai...|\n",
      "|2015|    7|     OO|           RAP|           38|             12|  0.3157894736842105|  12.81578947368421|    year_month|airline_origin_ai...|\n",
      "|2015|    7|   NULL|           BRO|           23|              1|0.043478260869565216| -6.260869565217392|    year_month|      origin_airport|\n",
      "|2015|    7|     DL|           SEA|          139|             61| 0.43884892086330934|  6.014388489208633|    year_month|airline_origin_ai...|\n",
      "|2015|    7|     MQ|           SAV|           10|              3|                 0.3|                2.9|    year_month|airline_origin_ai...|\n",
      "|2015|    7|     AS|           DCA|           12|              3|                0.25|-3.8333333333333335|    year_month|airline_origin_ai...|\n",
      "|2015|    7|     AS|           HNL|           22|              6|  0.2727272727272727|0.09523809523809523|    year_month|airline_origin_ai...|\n",
      "|2015|    7|   NULL|           LFT|           53|             11| 0.20754716981132076|0.46153846153846156|    year_month|      origin_airport|\n",
      "|2015|    7|   NULL|           SJC|          432|            178| 0.41203703703703703|  13.34032634032634|    year_month|      origin_airport|\n",
      "|2015|    7|   NULL|           RDU|          336|            127| 0.37797619047619047| 14.590361445783133|    year_month|      origin_airport|\n",
      "|2015|    7|   NULL|           ACV|            9|              1|  0.1111111111111111|               -7.0|    year_month|      origin_airport|\n",
      "|2015|    7|     UA|           LAS|           96|             37|  0.3854166666666667|             12.875|    year_month|airline_origin_ai...|\n",
      "|2015|    7|     B6|           BDL|           22|              6|  0.2727272727272727|  9.590909090909092|    year_month|airline_origin_ai...|\n",
      "|2015|    7|     B6|           TPA|           51|             24| 0.47058823529411764|  14.72549019607843|    year_month|airline_origin_ai...|\n",
      "|2015|    7|     MQ|           LSE|            8|              0|                 0.0|             -6.875|    year_month|airline_origin_ai...|\n",
      "|2015|    7|     AS|           SJC|           65|              7|  0.1076923076923077| 1.4153846153846155|    year_month|airline_origin_ai...|\n",
      "|2015|    7|     F9|           DFW|           20|              6|                 0.3|               2.25|    year_month|airline_origin_ai...|\n",
      "|2015|    7|   NULL|           HOB|            5|              1|                 0.2|              -4.25|    year_month|      origin_airport|\n",
      "|2015|    7|   NULL|           ADQ|            6|              2|  0.3333333333333333|  4.166666666666667|    year_month|      origin_airport|\n",
      "|2015|    7|     WN|           DAL|          514|            308|  0.5992217898832685|          12.984375|    year_month|airline_origin_ai...|\n",
      "|2015|    7|     DL|           SAN|           59|             13| 0.22033898305084745| -0.288135593220339|    year_month|airline_origin_ai...|\n",
      "|2015|    7|     EV|           SHV|           52|             11| 0.21153846153846154| 5.3076923076923075|    year_month|airline_origin_ai...|\n",
      "|2015|    7|     AA|           DEN|           86|             26|  0.3023255813953488|  4.337209302325581|    year_month|airline_origin_ai...|\n",
      "|2015|    7|     OO|           SFO|          314|             98| 0.31210191082802546|  7.761437908496732|    year_month|airline_origin_ai...|\n",
      "+----+-----+-------+--------------+-------------+---------------+--------------------+-------------------+--------------+--------------------+\n",
      "only showing top 100 rows\n",
      "\n"
     ]
    },
    {
     "name": "stderr",
     "output_type": "stream",
     "text": [
      "                                                                                \r"
     ]
    }
   ],
   "source": [
    "time_columns = ['year', 'month']\n",
    "non_time_columns = ['airline', 'origin_airport']\n",
    "temp_df = flights_df.sample(0.1)\n",
    "\n",
    "agg_df = agg_delay_metrics_cube_by_cols(temp_df, time_columns, non_time_columns)\n",
    "print(agg_df.count())\n",
    "agg_df.filter(col('time_agg_level') == lit('year_month')).show(100)"
   ]
  },
  {
   "cell_type": "code",
   "execution_count": 201,
   "id": "bb93cc3b-c552-4f18-8869-c68cbfb48d4f",
   "metadata": {
    "collapsed": true,
    "jupyter": {
     "outputs_hidden": true,
     "source_hidden": true
    }
   },
   "outputs": [
    {
     "name": "stderr",
     "output_type": "stream",
     "text": [
      "[Stage 556:>                                                      (0 + 12) / 12]\r"
     ]
    },
    {
     "name": "stdout",
     "output_type": "stream",
     "text": [
      "+----+-----+-------+--------------+---------+-------------------+-------------+---------------+-------------------+-----------------+--------------+--------------------+\n",
      "|year|month|airline|origin_airport|cancelled|cancellation_reason|total_flights|delayed_flights|         delay_rate|   avg_delay_time|time_agg_level|           agg_level|\n",
      "+----+-----+-------+--------------+---------+-------------------+-------------+---------------+-------------------+-----------------+--------------+--------------------+\n",
      "|NULL| NULL|   NULL|          NULL|        1|                  A|         2375|             86|0.03621052631578947|66.87837837837837|           all|cancelled_cancell...|\n",
      "|NULL| NULL|   NULL|          NULL|     NULL|                  A|         2375|             86|0.03621052631578947|66.87837837837837|           all| cancellation_reason|\n",
      "+----+-----+-------+--------------+---------+-------------------+-------------+---------------+-------------------+-----------------+--------------+--------------------+\n",
      "\n"
     ]
    },
    {
     "name": "stderr",
     "output_type": "stream",
     "text": [
      "                                                                                \r"
     ]
    }
   ],
   "source": [
    "# Confirm redundant aggs for cube with cancelled and cancellation_reason\n",
    "time_columns = ['year', 'month']\n",
    "non_time_columns = ['airline', 'origin_airport', 'cancelled', 'cancellation_reason']\n",
    "agg_df = agg_delay_metrics_cube_by_cols(temp_df, time_columns, non_time_columns)\n",
    "\n",
    "# agg_df.filter(col('agg_level') == 'cancelled_cancellation_reason')).show(100)\n",
    "agg_df \\\n",
    "    .filter(\n",
    "        (col('year').isNull()) &\n",
    "        (col('month').isNull()) &\n",
    "        (col('airline').isNull()) &\n",
    "        (col('origin_airport').isNull()) &\n",
    "        (col('cancellation_reason') == lit('A'))\n",
    "    ) \\\n",
    "    .show()"
   ]
  },
  {
   "cell_type": "code",
   "execution_count": 203,
   "id": "eddad02a-9cbb-45df-931c-87c6c0505263",
   "metadata": {
    "jupyter": {
     "source_hidden": true
    }
   },
   "outputs": [
    {
     "name": "stderr",
     "output_type": "stream",
     "text": [
      "[Stage 566:>                                                      (0 + 12) / 12]\r"
     ]
    },
    {
     "name": "stdout",
     "output_type": "stream",
     "text": [
      "+-------------------+----+-----+-------+-------------+---------------+--------------------+------------------+\n",
      "|cancellation_reason|year|month|airline|total_flights|delayed_flights|          delay_rate|    avg_delay_time|\n",
      "+-------------------+----+-----+-------+-------------+---------------+--------------------+------------------+\n",
      "|                  A|NULL| NULL|   NULL|        25262|            991| 0.03922888132372734| 57.02896725440806|\n",
      "|                  A|2015| NULL|   NULL|        25262|            991| 0.03922888132372734| 57.02896725440806|\n",
      "|                  A|2015|    7|     F9|           29|              1|0.034482758620689655|-4.333333333333333|\n",
      "|               NULL|NULL| NULL|   NULL|      5729195|        2123078|  0.3705717818995513| 9.338837306113685|\n",
      "|               NULL|2015|    7|     DL|        80635|          27722|  0.3437961183109072| 8.267278477088112|\n",
      "|                  C|2015|    7|     NK|           19|              2| 0.10526315789473684|              84.0|\n",
      "|                  A|2015|    7|     DL|           42|              2|0.047619047619047616|              59.8|\n",
      "|                  B|2015|    7|     DL|            4|              0|                 0.0|              -2.0|\n",
      "|                  C|2015|    7|     MQ|          305|              9|0.029508196721311476| 42.92857142857143|\n",
      "|               NULL|2015|    7|     AA|        80872|          29828| 0.36882975566327036| 9.703754080522307|\n",
      "|                  A|2015|    7|     AS|           28|              1| 0.03571428571428571|               6.0|\n",
      "|               NULL|2015|    7|     NK|        10220|           4917|  0.4811154598825832|16.355772994129158|\n",
      "|                  A|2015|    7|     AA|          397|             25| 0.06297229219143577| 28.75609756097561|\n",
      "|                  B|2015|    7|     AA|           66|              5| 0.07575757575757576| 62.44444444444444|\n",
      "|                  A|2015|    7|     MQ|          245|             17| 0.06938775510204082| 37.73913043478261|\n",
      "|               NULL|2015|    7|     EV|        49472|          15501| 0.31332875161707635| 9.025570019404915|\n",
      "|               NULL|2015|    7|     HA|         6944|           1906|  0.2744815668202765|0.7106854838709677|\n",
      "|               NULL|2015|    7|     MQ|        24116|           7822|  0.3243489799303367|  9.00850058052745|\n",
      "|                  B|2015| NULL|   NULL|        48851|           1262|0.025833657448158687| 61.19929660023447|\n",
      "|                  A|2015|    7|     VX|           17|              1|0.058823529411764705|             191.0|\n",
      "+-------------------+----+-----+-------+-------------+---------------+--------------------+------------------+\n",
      "only showing top 20 rows\n",
      "\n"
     ]
    },
    {
     "name": "stderr",
     "output_type": "stream",
     "text": [
      "                                                                                \r"
     ]
    }
   ],
   "source": [
    "cols = ['cancellation_reason', 'year', 'month', 'day_of_week', 'airline']\n",
    "flights_df.rollup(*cols) \\\n",
    "    .agg(\n",
    "        count('*').alias('total_flights'),\n",
    "        count(when(col('is_delayed') == True, 1)).alias('delayed_flights'),\n",
    "        ( count(when(col('is_delayed') == True, 1)) / count('*') ).alias('delay_rate'),\n",
    "        avg('departure_delay').alias('avg_delay_time')\n",
    "    ) \\\n",
    "    .show()"
   ]
  },
  {
   "cell_type": "code",
   "execution_count": 7,
   "id": "5be6ff30-bf0d-4000-8b7b-40b75f3967dc",
   "metadata": {},
   "outputs": [
    {
     "name": "stderr",
     "output_type": "stream",
     "text": [
      "[Stage 12:>                                                       (0 + 12) / 12]\r"
     ]
    },
    {
     "name": "stdout",
     "output_type": "stream",
     "text": [
      "+-----------+----+-----+-------------+---------------+-------------------+-------------------+\n",
      "|tail_number|year|month|total_flights|delayed_flights|         delay_rate|     avg_delay_time|\n",
      "+-----------+----+-----+-------------+---------------+-------------------+-------------------+\n",
      "|     N821DN|NULL| NULL|         1311|            488|0.37223493516399697|  6.160796324655436|\n",
      "|     N997DL|NULL| NULL|         1495|            477|0.31906354515050167|  7.437121721587088|\n",
      "|     N209WN|NULL| NULL|         1927|            849| 0.4405812143227815|   9.75614861329147|\n",
      "|     N454AA|NULL| NULL|          914|            293|0.32056892778993434|  7.565759637188209|\n",
      "|     N506CA|NULL| NULL|         2027|            453|0.22348297977306364| 3.3966118584952665|\n",
      "|     N510UW|NULL| NULL|         1275|            483| 0.3788235294117647|  8.430588235294117|\n",
      "|     N519UW|NULL| NULL|         1075|            413| 0.3841860465116279|  8.950697674418604|\n",
      "|     N230WN|NULL| NULL|         1908|            820|  0.429769392033543|  9.832622601279319|\n",
      "|     N721UW|NULL| NULL|         1368|            358|0.26169590643274854| 3.2814327485380117|\n",
      "|     N11565|NULL| NULL|         1692|            511|0.30200945626477543|  7.071735131820969|\n",
      "|     N737US|NULL| NULL|         1400|            397| 0.2835714285714286|               5.14|\n",
      "|     N752AT|NULL| NULL|         1085|            404| 0.3723502304147465| 12.025806451612903|\n",
      "|     N530NK|NULL| NULL|         1641|            672|0.40950639853747717| 15.596319018404907|\n",
      "|     N993AT|NULL| NULL|         1665|            453|0.27207207207207207|  6.974096385542168|\n",
      "|     N76523|NULL| NULL|          980|            522| 0.5326530612244897| 12.241836734693878|\n",
      "|     N816AW|NULL| NULL|         1358|            350|0.25773195876288657|  4.763622974963181|\n",
      "|     N579AS|NULL| NULL|         1073|            222|0.20689655172413793|-0.1942110177404295|\n",
      "|     N436UA|NULL| NULL|         1059|            423|0.39943342776203966| 14.234404536862003|\n",
      "|     N78866|NULL| NULL|          731|            441| 0.6032831737346102| 16.298221614227085|\n",
      "|     N529UA|NULL| NULL|          878|            440| 0.5011389521640092| 18.886104783599087|\n",
      "+-----------+----+-----+-------------+---------------+-------------------+-------------------+\n",
      "only showing top 20 rows\n",
      "\n"
     ]
    },
    {
     "name": "stderr",
     "output_type": "stream",
     "text": [
      "                                                                                \r"
     ]
    }
   ],
   "source": [
    "cols = ['tail_number', 'year', 'month']\n",
    "flights_df.rollup(*cols) \\\n",
    "    .agg(\n",
    "        count('*').alias('total_flights'),\n",
    "        count(when(col('is_delayed') == True, 1)).alias('delayed_flights'),\n",
    "        ( count(when(col('is_delayed') == True, 1)) / count('*') ).alias('delay_rate'),\n",
    "        avg('departure_delay').alias('avg_delay_time')\n",
    "    ) \\\n",
    "    .filter(col('year').isNull()) \\\n",
    "    .show()"
   ]
  },
  {
   "cell_type": "code",
   "execution_count": 16,
   "id": "0a9f4cdb-6f44-406b-991f-09a453be823f",
   "metadata": {},
   "outputs": [
    {
     "name": "stdout",
     "output_type": "stream",
     "text": [
      "+-------+----+-----+-------------+---------------+-------------------+-------------------+\n",
      "|airline|year|month|total_flights|delayed_flights|         delay_rate|     avg_delay_time|\n",
      "+-------+----+-----+-------------+---------------+-------------------+-------------------+\n",
      "|     F9|NULL| NULL|        90836|          34893| 0.3841318420009688| 13.350858345331709|\n",
      "|   NULL|NULL| NULL|      5819079|        2125618| 0.3652842657747042|  9.370158275198389|\n",
      "|     DL|NULL| NULL|       875881|         282463|0.32249015562616384|   7.36925417661782|\n",
      "|     NK|NULL| NULL|       117379|          52089| 0.4437676245324973| 15.944765880783688|\n",
      "|     AS|NULL| NULL|       172521|          43566|0.25252577947032534| 1.7858007096736666|\n",
      "|     UA|NULL| NULL|       515723|         256550|0.49745696817865404| 14.435441010805953|\n",
      "|     AA|NULL| NULL|       725984|         245904| 0.3387182086657557|  8.900856346719806|\n",
      "|     WN|NULL| NULL|      1261855|         566807|0.44918552448577687| 10.581986295158847|\n",
      "|     B6|NULL| NULL|       267048|         102061| 0.3821822294119409|   11.5143526744102|\n",
      "|     EV|NULL| NULL|       571977|         169897| 0.2970346709745322|   8.71593449776958|\n",
      "|     MQ|NULL| NULL|       294632|          93726| 0.3181120855847294| 10.125188203309524|\n",
      "|     VX|NULL| NULL|        61903|          23379| 0.3776715183432144|  9.022595096521952|\n",
      "|     HA|NULL| NULL|        76272|          20146| 0.2641336270190896|0.48571315965790407|\n",
      "|     OO|NULL| NULL|       588353|         171572| 0.2916140480289894|  7.801103808415331|\n",
      "|     US|NULL| NULL|       198715|          62565|0.31484789774299876|  6.141136917746696|\n",
      "+-------+----+-----+-------------+---------------+-------------------+-------------------+\n",
      "\n"
     ]
    },
    {
     "name": "stderr",
     "output_type": "stream",
     "text": [
      "                                                                                \r"
     ]
    }
   ],
   "source": [
    "cols = ['airline', 'year', 'month']\n",
    "flights_df.rollup(*cols) \\\n",
    "    .agg(\n",
    "        count('*').alias('total_flights'),\n",
    "        count(when(col('is_delayed') == True, 1)).alias('delayed_flights'),\n",
    "        ( count(when(col('is_delayed') == True, 1)) / count('*') ).alias('delay_rate'),\n",
    "        avg('departure_delay').alias('avg_delay_time')\n",
    "    ) \\\n",
    "    .filter(col('year').isNull()) \\\n",
    "    .show()"
   ]
  },
  {
   "cell_type": "code",
   "execution_count": null,
   "id": "0168906f-1045-4e19-929c-0a4a22fe643e",
   "metadata": {},
   "outputs": [],
   "source": [
    "# Individual rollups\n",
    "\n",
    "# 1\n",
    "time_columns = ['year', 'month', 'day_of_week']\n",
    "non_time_columns = ['airline', 'origin_airport', 'cancelled', 'cancellation_reason']\n",
    "\n",
    "agg_df = agg_delay_metrics_cube_by_cols(flights_df, time_columns, non_time_columns)\n",
    "\n",
    "\n",
    "# 2\n"
   ]
  },
  {
   "cell_type": "code",
   "execution_count": 50,
   "id": "ce3cf326-ff31-41d3-a480-1c0f573fd6e2",
   "metadata": {},
   "outputs": [
    {
     "name": "stdout",
     "output_type": "stream",
     "text": [
      "==========================\n",
      "day_of_week and NULL month\n",
      "==========================\n",
      "+-------+----+-----+-----------+-------------+---------------+-------------------+-------------------+\n",
      "|airline|year|month|day_of_week|total_flights|delayed_flights|         delay_rate|     avg_delay_time|\n",
      "+-------+----+-----+-----------+-------------+---------------+-------------------+-------------------+\n",
      "|     NK|NULL| NULL|          7|        16844|           7631| 0.4530396580384707| 15.780295269659536|\n",
      "|     HA|NULL| NULL|          1|        10867|           2846|0.26189380693843745|0.13823908638791674|\n",
      "|     UA|NULL| NULL|          6|        77634|          39820|  0.512919597083752| 13.672101590266427|\n",
      "|     F9|NULL| NULL|          6|        13242|           5157| 0.3894426823742637| 12.633724895793861|\n",
      "|     WN|NULL| NULL|          6|       185731|          88275| 0.4752841475036477| 11.120365505549206|\n",
      "|     UA|NULL| NULL|          5|        79126|          40928| 0.5172509668124258|  14.88742760925581|\n",
      "|     AA|NULL| NULL|          6|       106374|          37095| 0.3487224321732754|   9.60408555681418|\n",
      "|     NK|NULL| NULL|          1|        16844|           7707|0.45755165043932555| 17.149202320522118|\n",
      "|     DL|NULL| NULL|          5|       132064|          46845| 0.3547143809062273|    8.7125635627038|\n",
      "|     DL|NULL| NULL|          4|       129943|          40119|   0.30874306426664|  6.981080704794023|\n",
      "|     HA|NULL| NULL|          3|        10516|           2215| 0.2106314187904146| -1.554867003527505|\n",
      "|     F9|NULL| NULL|          4|        13015|           5049| 0.3879369957741068| 13.261489821098088|\n",
      "|     VX|NULL| NULL|          3|         8990|           3139| 0.3491657397107898|  7.467288669064748|\n",
      "|     OO|NULL| NULL|          5|        87902|          25670| 0.2920297604150076|   7.61177543341259|\n",
      "|     WN|NULL| NULL|          4|       188243|          82835|0.44004292324282973|   9.78938119676492|\n",
      "|     EV|NULL| NULL|          5|        87126|          26413| 0.3031586438032275|  9.336234074458915|\n",
      "|     MQ|NULL| NULL|          3|        42970|          13262| 0.3086339306492902|  9.003149911560175|\n",
      "|     AS|NULL| NULL|          4|        24395|           5752| 0.2357860217257635|  0.709695973705834|\n",
      "|     HA|NULL| NULL|          7|        10559|           2742| 0.2596836821668719| 0.2502371466514893|\n",
      "|     OO|NULL| NULL|          4|        86211|          25028|  0.290310981197295|  7.605123633463145|\n",
      "+-------+----+-----+-----------+-------------+---------------+-------------------+-------------------+\n",
      "only showing top 20 rows\n",
      "\n",
      "+-------+----+-----+-----------+-------------+---------------+-------------------+------------------+\n",
      "|airline|year|month|day_of_week|total_flights|delayed_flights|         delay_rate|    avg_delay_time|\n",
      "+-------+----+-----+-----------+-------------+---------------+-------------------+------------------+\n",
      "|   NULL|2015|    7|          1|        66985|          25040|0.37381503321639176| 8.651423511578695|\n",
      "|   NULL|2015|    7|          2|        69630|          28049|0.40282924026999856|12.072476184944238|\n",
      "|   NULL|NULL| NULL|          3|       844600|         295772|0.35019180677243666| 9.164522265904088|\n",
      "|   NULL|NULL| NULL|          2|       865543|         323709|  0.373995283885376|10.871775063646947|\n",
      "|   NULL|2015|    7|          6|        84523|          32225| 0.3812571726039066| 9.197035714285715|\n",
      "|   NULL|NULL| NULL|          4|       855897|         303044| 0.3540659682181384| 8.645276690756555|\n",
      "|   NULL|NULL| NULL|          5|       872521|         334387| 0.3832423517600149| 9.956913497060805|\n",
      "|   NULL|NULL| NULL|          1|       817764|         301640| 0.3688594753498564| 9.402855627605891|\n",
      "|   NULL|2015|    7|          4|        86135|          37575| 0.4362338190050502|14.185086629310952|\n",
      "|   NULL|NULL| NULL|          6|       862209|         328846| 0.3813994054805737| 9.429767977851792|\n",
      "|   NULL|2015|    7|          5|        87142|          36648|0.42055495627825845| 12.07881756287342|\n",
      "|   NULL|2015|    7|          7|        57316|          20645|0.36019610579942773| 9.665665190807506|\n",
      "|   NULL|NULL| NULL|          7|       700545|         238220|  0.340049532863699| 7.827415699173568|\n",
      "|   NULL|2015|    7|          3|        68987|          29437| 0.4267035818342586|13.185219433436078|\n",
      "|   NULL|2015|    8|          1|        81679|          30767| 0.3766818888576011| 9.125753819971143|\n",
      "|   NULL|2015|    8|          2|        85615|          31207|0.36450388366524555|10.641389085754783|\n",
      "|   NULL|2015|    8|          7|        70989|          25588|0.36045021059600785| 9.460440358093395|\n",
      "|   NULL|2015|    8|          6|        68725|          25425| 0.3699527100763914| 8.799435482691548|\n",
      "|   NULL|2015|    8|          4|        67675|          23932|0.35363132619135573|  7.75704330216213|\n",
      "|   NULL|2015|    8|          3|        67266|          26850|0.39916153777539914|11.428560698243874|\n",
      "+-------+----+-----+-----------+-------------+---------------+-------------------+------------------+\n",
      "only showing top 20 rows\n",
      "\n",
      "==========================\n",
      "day_of_week and NULL month\n",
      "==========================\n",
      "+-------+----+-----+-----------+-------------+---------------+----------+--------------+\n",
      "|airline|year|month|day_of_week|total_flights|delayed_flights|delay_rate|avg_delay_time|\n",
      "+-------+----+-----+-----------+-------------+---------------+----------+--------------+\n",
      "+-------+----+-----+-----------+-------------+---------------+----------+--------------+\n",
      "\n"
     ]
    }
   ],
   "source": [
    "grouping_set_sql = \"\"\"\n",
    "SELECT\n",
    "    airline,\n",
    "    year,\n",
    "    month,\n",
    "    day_of_week,\n",
    "    COUNT(*) AS total_flights,\n",
    "    COUNT(CASE WHEN is_delayed = 1 THEN 1 END) AS delayed_flights,\n",
    "    delayed_flights / total_flights AS delay_rate,\n",
    "    AVG(departure_delay) AS avg_delay_time\n",
    "FROM flights\n",
    "GROUP BY\n",
    "    GROUPING SETS (\n",
    "        \n",
    "            --airline,\n",
    "            --day_of_week,\n",
    "            --ROLLUP(year, month),\n",
    "            --GROUPING SETS(airline, ROLLUP(year, month))\n",
    "            CUBE(airline, (year, month), day_of_week)\n",
    "        \n",
    "    )\n",
    "\"\"\"\n",
    "\n",
    "\n",
    "temp_df = spark.sql(grouping_set_sql)\n",
    "\n",
    "# temp_df.show()\n",
    "\n",
    "print('==========================')\n",
    "print('day_of_week and NULL month')\n",
    "print('==========================')\n",
    "temp_df.filter((col('day_of_week').isNotNull()) & (col('month').isNull())).show()\n",
    "temp_df.filter((col('day_of_week').isNotNull()) & (col('airline').isNull())).show()\n",
    "\n",
    "print('==========================')\n",
    "print('day_of_week and NULL month')\n",
    "print('==========================')\n",
    "temp_df.filter((col('year').isNotNull()) & (col('month').isNull())).show()"
   ]
  },
  {
   "cell_type": "code",
   "execution_count": 207,
   "id": "ca52ab04-f3cf-4e1a-aa6b-944cb9e81fbf",
   "metadata": {},
   "outputs": [
    {
     "name": "stderr",
     "output_type": "stream",
     "text": [
      "24/12/23 04:54:25 WARN RowBasedKeyValueBatch: Calling spill() on RowBasedKeyValueBatch. Will not spill but return 0.\n",
      "24/12/23 04:54:30 WARN RowBasedKeyValueBatch: Calling spill() on RowBasedKeyValueBatch. Will not spill but return 0.\n",
      "24/12/23 04:54:35 WARN RowBasedKeyValueBatch: Calling spill() on RowBasedKeyValueBatch. Will not spill but return 0.\n",
      "24/12/23 04:54:44 WARN RowBasedKeyValueBatch: Calling spill() on RowBasedKeyValueBatch. Will not spill but return 0.\n",
      "24/12/23 04:54:48 WARN RowBasedKeyValueBatch: Calling spill() on RowBasedKeyValueBatch. Will not spill but return 0.\n",
      "24/12/23 04:54:55 WARN RowBasedKeyValueBatch: Calling spill() on RowBasedKeyValueBatch. Will not spill but return 0.\n",
      "24/12/23 04:54:57 WARN RowBasedKeyValueBatch: Calling spill() on RowBasedKeyValueBatch. Will not spill but return 0.\n",
      "24/12/23 04:55:01 WARN RowBasedKeyValueBatch: Calling spill() on RowBasedKeyValueBatch. Will not spill but return 0.\n",
      "24/12/23 04:55:02 WARN RowBasedKeyValueBatch: Calling spill() on RowBasedKeyValueBatch. Will not spill but return 0.\n",
      "                                                                                \r"
     ]
    },
    {
     "data": {
      "text/plain": [
       "1814436"
      ]
     },
     "execution_count": 207,
     "metadata": {},
     "output_type": "execute_result"
    }
   ],
   "source": [
    "# Count number of rows in full cube (combinatorial explosion)\n",
    "time_columns = ['year', 'month', 'day_of_week']\n",
    "non_time_columns = ['airline', 'origin_airport', 'cancelled', 'cancellation_reason']\n",
    "\n",
    "agg_df = agg_delay_metrics_cube_by_cols(flights_df, time_columns, non_time_columns)\n",
    "\n",
    "agg_df.count()"
   ]
  },
  {
   "cell_type": "code",
   "execution_count": 211,
   "id": "f7924e29-44e3-4b9e-9ad9-5312b21ce84f",
   "metadata": {},
   "outputs": [
    {
     "name": "stdout",
     "output_type": "stream",
     "text": [
      "('year',)\n",
      "('airline',)\n",
      "('origin_airport',)\n",
      "('tail_number',)\n",
      "('cancelled',)\n",
      "('cancellation_reason',)\n",
      "('year', 'airline')\n",
      "('year', 'origin_airport')\n",
      "('year', 'tail_number')\n",
      "('year', 'cancelled')\n",
      "('year', 'cancellation_reason')\n",
      "('airline', 'origin_airport')\n",
      "('airline', 'tail_number')\n",
      "('airline', 'cancelled')\n",
      "('airline', 'cancellation_reason')\n",
      "('origin_airport', 'tail_number')\n",
      "('origin_airport', 'cancelled')\n",
      "('origin_airport', 'cancellation_reason')\n",
      "('tail_number', 'cancelled')\n",
      "('tail_number', 'cancellation_reason')\n",
      "('cancelled', 'cancellation_reason')\n",
      "('year', 'airline', 'origin_airport')\n",
      "('year', 'airline', 'tail_number')\n",
      "('year', 'airline', 'cancelled')\n",
      "('year', 'airline', 'cancellation_reason')\n",
      "('year', 'origin_airport', 'tail_number')\n",
      "('year', 'origin_airport', 'cancelled')\n",
      "('year', 'origin_airport', 'cancellation_reason')\n",
      "('year', 'tail_number', 'cancelled')\n",
      "('year', 'tail_number', 'cancellation_reason')\n",
      "('year', 'cancelled', 'cancellation_reason')\n",
      "('airline', 'origin_airport', 'tail_number')\n",
      "('airline', 'origin_airport', 'cancelled')\n",
      "('airline', 'origin_airport', 'cancellation_reason')\n",
      "('airline', 'tail_number', 'cancelled')\n",
      "('airline', 'tail_number', 'cancellation_reason')\n",
      "('airline', 'cancelled', 'cancellation_reason')\n",
      "('origin_airport', 'tail_number', 'cancelled')\n",
      "('origin_airport', 'tail_number', 'cancellation_reason')\n",
      "('origin_airport', 'cancelled', 'cancellation_reason')\n",
      "('tail_number', 'cancelled', 'cancellation_reason')\n",
      "('year', 'airline', 'origin_airport', 'tail_number')\n",
      "('year', 'airline', 'origin_airport', 'cancelled')\n",
      "('year', 'airline', 'origin_airport', 'cancellation_reason')\n",
      "('year', 'airline', 'tail_number', 'cancelled')\n",
      "('year', 'airline', 'tail_number', 'cancellation_reason')\n",
      "('year', 'airline', 'cancelled', 'cancellation_reason')\n",
      "('year', 'origin_airport', 'tail_number', 'cancelled')\n",
      "('year', 'origin_airport', 'tail_number', 'cancellation_reason')\n",
      "('year', 'origin_airport', 'cancelled', 'cancellation_reason')\n",
      "('year', 'tail_number', 'cancelled', 'cancellation_reason')\n",
      "('airline', 'origin_airport', 'tail_number', 'cancelled')\n",
      "('airline', 'origin_airport', 'tail_number', 'cancellation_reason')\n",
      "('airline', 'origin_airport', 'cancelled', 'cancellation_reason')\n",
      "('airline', 'tail_number', 'cancelled', 'cancellation_reason')\n",
      "('origin_airport', 'tail_number', 'cancelled', 'cancellation_reason')\n",
      "('year', 'airline', 'origin_airport', 'tail_number', 'cancelled')\n",
      "('year', 'airline', 'origin_airport', 'tail_number', 'cancellation_reason')\n",
      "('year', 'airline', 'origin_airport', 'cancelled', 'cancellation_reason')\n",
      "('year', 'airline', 'tail_number', 'cancelled', 'cancellation_reason')\n",
      "('year', 'origin_airport', 'tail_number', 'cancelled', 'cancellation_reason')\n",
      "('airline', 'origin_airport', 'tail_number', 'cancelled', 'cancellation_reason')\n",
      "('year', 'airline', 'origin_airport', 'tail_number', 'cancelled', 'cancellation_reason')\n"
     ]
    }
   ],
   "source": [
    "# Given columns\n",
    "# columns = [\n",
    "#     \"year\", \"month\", \"day_of_week\", \"airline\", \"origin_airport\", \"tail_number\",\n",
    "#     \"cancelled\", \"cancellation_reason\"\n",
    "# ]\n",
    "\n",
    "columns = [\n",
    "    \"year\", \"airline\", \"origin_airport\", \"tail_number\", \"cancelled\", \"cancellation_reason\"\n",
    "]\n",
    "\n",
    "# Generate all non-empty combinations\n",
    "all_combinations = []\n",
    "for r in range(1, len(columns) + 1):  # r ranges from 1 to len(columns)\n",
    "    all_combinations.extend(itertools.combinations(columns, r))\n",
    "\n",
    "# Print all combinations\n",
    "for combination in all_combinations:\n",
    "    print(combination)"
   ]
  },
  {
   "cell_type": "markdown",
   "id": "1bb8183c-a2e6-4bdc-b7a6-a8129c1b15f2",
   "metadata": {
    "jp-MarkdownHeadingCollapsed": true
   },
   "source": [
    "### Lets manually code the following:\n",
    "1. % delay rate of all flights\n",
    "2. flight volume by month, day of week, month_airline, etc."
   ]
  },
  {
   "cell_type": "code",
   "execution_count": 110,
   "id": "c4f4fff6-7aac-49df-99d2-88c1e9a796f4",
   "metadata": {},
   "outputs": [
    {
     "name": "stdout",
     "output_type": "stream",
     "text": [
      "+-------+-------------+---------------+-------------------+\n",
      "|airline|total_flights|delayed_flights|         delay_rate|\n",
      "+-------+-------------+---------------+-------------------+\n",
      "|     UA|       515723|         256550|0.49745696817865404|\n",
      "|     NK|       117379|          52089| 0.4437676245324973|\n",
      "|     AA|       725984|         245904| 0.3387182086657557|\n",
      "|     EV|       571977|         169897| 0.2970346709745322|\n",
      "|     B6|       267048|         102061| 0.3821822294119409|\n",
      "|     DL|       875881|         282463|0.32249015562616384|\n",
      "|     OO|       588353|         171572| 0.2916140480289894|\n",
      "|     F9|        90836|          34893| 0.3841318420009688|\n",
      "|     MQ|       294632|          93726| 0.3181120855847294|\n",
      "|     HA|        76272|          20146| 0.2641336270190896|\n",
      "|     AS|       172521|          43566|0.25252577947032534|\n",
      "|     VX|        61903|          23379| 0.3776715183432144|\n",
      "|     WN|      1261855|         566807|0.44918552448577687|\n",
      "|     US|       198715|          62565|0.31484789774299876|\n",
      "+-------+-------------+---------------+-------------------+\n",
      "\n"
     ]
    }
   ],
   "source": [
    "# 1. % delay rate of all flights\n",
    "flights_df \\\n",
    "    .groupBy('airline') \\\n",
    "    .agg(\n",
    "        count('*').alias('total_flights'),\n",
    "        count(when(col('is_delayed') == True, 1)).alias('delayed_flights'),\n",
    "        ( count(when(col('is_delayed') == True, 1)) / count('*') ).alias('delay_rate')\n",
    "    ) \\\n",
    "    .show()"
   ]
  },
  {
   "cell_type": "code",
   "execution_count": 113,
   "id": "86cb1ad3-e8e1-4f71-815b-1be73294c984",
   "metadata": {},
   "outputs": [
    {
     "name": "stderr",
     "output_type": "stream",
     "text": [
      "[Stage 248:>                                                      (0 + 12) / 12]\r"
     ]
    },
    {
     "name": "stdout",
     "output_type": "stream",
     "text": [
      "+-----+-------+-------------+\n",
      "|month|airline|total_flights|\n",
      "+-----+-------+-------------+\n",
      "| NULL|     B6|       267048|\n",
      "| NULL|     NK|       117379|\n",
      "|    7|     HA|         6955|\n",
      "|    7|     F9|         8090|\n",
      "| NULL|     HA|        76272|\n",
      "|    7|     VX|         5411|\n",
      "| NULL|     VX|        61903|\n",
      "|    7|     NK|        10351|\n",
      "|    7|     B6|        24029|\n",
      "|    7|     MQ|        24750|\n",
      "|    7|     AA|        81434|\n",
      "|    7|   NULL|       520718|\n",
      "|    7|     OO|        52627|\n",
      "| NULL|     DL|       875881|\n",
      "| NULL|   NULL|      5819079|\n",
      "| NULL|     WN|      1261855|\n",
      "|    7|     WN|       113650|\n",
      "| NULL|     F9|        90836|\n",
      "| NULL|     OO|       588353|\n",
      "| NULL|     MQ|       294632|\n",
      "+-----+-------+-------------+\n",
      "only showing top 20 rows\n",
      "\n"
     ]
    },
    {
     "name": "stderr",
     "output_type": "stream",
     "text": [
      "                                                                                \r"
     ]
    }
   ],
   "source": [
    "# 2. flight volume\n",
    "flights_df \\\n",
    "    .cube('month', 'airline') \\\n",
    "    .agg(\n",
    "        count('*').alias('total_flights')\n",
    "    ).show()"
   ]
  },
  {
   "cell_type": "code",
   "execution_count": 82,
   "id": "e17c5c51-d8a7-41c2-9b37-6fd334ad1033",
   "metadata": {},
   "outputs": [
    {
     "name": "stdout",
     "output_type": "stream",
     "text": [
      "+-------+--------+\n",
      "|airline|count(1)|\n",
      "+-------+--------+\n",
      "|     UA|  256550|\n",
      "|     NK|   52089|\n",
      "|     AA|  245904|\n",
      "|     EV|  169897|\n",
      "|     B6|  102061|\n",
      "|     DL|  282463|\n",
      "|     OO|  171572|\n",
      "|     F9|   34893|\n",
      "|     MQ|   93726|\n",
      "|     HA|   20146|\n",
      "|     AS|   43566|\n",
      "|     VX|   23379|\n",
      "|     WN|  566807|\n",
      "|     US|   62565|\n",
      "+-------+--------+\n",
      "\n"
     ]
    }
   ],
   "source": [
    "flights_df.filter(col('departure_delay') > 0).groupBy('airline').agg(count('*')).show()"
   ]
  },
  {
   "cell_type": "code",
   "execution_count": null,
   "id": "4feba670-36cf-4191-9852-b57f820a6b76",
   "metadata": {},
   "outputs": [],
   "source": []
  }
 ],
 "metadata": {
  "kernelspec": {
   "display_name": "Python 3 (ipykernel)",
   "language": "python",
   "name": "python3"
  },
  "language_info": {
   "codemirror_mode": {
    "name": "ipython",
    "version": 3
   },
   "file_extension": ".py",
   "mimetype": "text/x-python",
   "name": "python",
   "nbconvert_exporter": "python",
   "pygments_lexer": "ipython3",
   "version": "3.9.18"
  }
 },
 "nbformat": 4,
 "nbformat_minor": 5
}
