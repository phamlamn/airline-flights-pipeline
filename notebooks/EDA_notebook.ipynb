{
 "cells": [
  {
   "cell_type": "code",
   "execution_count": 1,
   "id": "abb75752-97a6-4f86-9877-c1d2588818b4",
   "metadata": {},
   "outputs": [
    {
     "data": {
      "text/html": [
       "<style>pre { white-space: pre !important; }</style>"
      ],
      "text/plain": [
       "<IPython.core.display.HTML object>"
      ]
     },
     "metadata": {},
     "output_type": "display_data"
    }
   ],
   "source": [
    "## Optional\n",
    "# Format output of Jupyter Notebook\n",
    "from IPython.core.display import HTML\n",
    "display(HTML(\"<style>pre { white-space: pre !important; }</style>\"))\n",
    "\n",
    "# Hide python warnings\n",
    "import warnings\n",
    "warnings.filterwarnings('ignore')"
   ]
  },
  {
   "cell_type": "code",
   "execution_count": 42,
   "id": "08d840db-ba34-4559-b0c8-2f7195e749a6",
   "metadata": {},
   "outputs": [],
   "source": [
    "from pyspark.sql import SparkSession\n",
    "from pyspark.sql.types import StructType, StructField, IntegerType, StringType\n",
    "from pyspark.sql.functions import isnull, when, count, col, regexp_extract\n",
    "\n",
    "# Init SparkSession\n",
    "spark = (\n",
    "    SparkSession\n",
    "    .builder\n",
    "    .appName('EDA')\n",
    "    .getOrCreate()\n",
    ")\n",
    "\n",
    "filename = '/home/iceberg/data/flights.csv'"
   ]
  },
  {
   "cell_type": "markdown",
   "id": "10598c93-7613-4acc-942a-e8d993bb68f3",
   "metadata": {},
   "source": [
    "# Ingest raw csv data"
   ]
  },
  {
   "cell_type": "code",
   "execution_count": 37,
   "id": "758586dc-edc6-488d-b850-c691298fafb1",
   "metadata": {
    "collapsed": true,
    "jupyter": {
     "outputs_hidden": true,
     "source_hidden": true
    }
   },
   "outputs": [
    {
     "name": "stderr",
     "output_type": "stream",
     "text": [
      "[Stage 34:>                                                         (0 + 7) / 7]\r"
     ]
    },
    {
     "name": "stdout",
     "output_type": "stream",
     "text": [
      "+----+-----+---+-----------+-------+-------------+-----------+--------------+-------------------+-------------------+--------------+---------------+--------+----------+--------------+------------+--------+--------+---------+-------+-----------------+------------+-------------+--------+---------+-------------------+----------------+--------------+-------------+-------------------+-------------+\n",
      "|YEAR|MONTH|DAY|DAY_OF_WEEK|AIRLINE|FLIGHT_NUMBER|TAIL_NUMBER|ORIGIN_AIRPORT|DESTINATION_AIRPORT|SCHEDULED_DEPARTURE|DEPARTURE_TIME|DEPARTURE_DELAY|TAXI_OUT|WHEELS_OFF|SCHEDULED_TIME|ELAPSED_TIME|AIR_TIME|DISTANCE|WHEELS_ON|TAXI_IN|SCHEDULED_ARRIVAL|ARRIVAL_TIME|ARRIVAL_DELAY|DIVERTED|CANCELLED|CANCELLATION_REASON|AIR_SYSTEM_DELAY|SECURITY_DELAY|AIRLINE_DELAY|LATE_AIRCRAFT_DELAY|WEATHER_DELAY|\n",
      "+----+-----+---+-----------+-------+-------------+-----------+--------------+-------------------+-------------------+--------------+---------------+--------+----------+--------------+------------+--------+--------+---------+-------+-----------------+------------+-------------+--------+---------+-------------------+----------------+--------------+-------------+-------------------+-------------+\n",
      "+----+-----+---+-----------+-------+-------------+-----------+--------------+-------------------+-------------------+--------------+---------------+--------+----------+--------------+------------+--------+--------+---------+-------+-----------------+------------+-------------+--------+---------+-------------------+----------------+--------------+-------------+-------------------+-------------+\n",
      "\n"
     ]
    },
    {
     "name": "stderr",
     "output_type": "stream",
     "text": [
      "                                                                                \r"
     ]
    }
   ],
   "source": [
    "# Check for alphabetic characters in flight_number, this is useless...\n",
    "raw_data = spark.read.option('header', True).csv(filename)\n",
    "raw_data.where(regexp_extract('flight_number', '^\\d+$', 0) == '').show()"
   ]
  },
  {
   "cell_type": "code",
   "execution_count": 24,
   "id": "50cb02d5-0815-4416-b72a-4a1fea068abc",
   "metadata": {},
   "outputs": [
    {
     "name": "stdout",
     "output_type": "stream",
     "text": [
      "+----+-----+---+-----------+-------+-------------+-----------+--------------+-------------------+-------------------+--------------+---------------+--------+----------+--------------+------------+--------+--------+---------+-------+-----------------+------------+-------------+--------+---------+-------------------+----------------+--------------+-------------+-------------------+-------------+\n",
      "|year|month|day|day_of_week|airline|flight_number|tail_number|origin_airport|destination_airport|scheduled_departure|departure_time|departure_delay|taxi_out|wheels_off|scheduled_time|elapsed_time|air_time|distance|wheels_on|taxi_in|scheduled_arrival|arrival_time|arrival_delay|diverted|cancelled|cancellation_reason|air_system_delay|security_delay|airline_delay|late_aircraft_delay|weather_delay|\n",
      "+----+-----+---+-----------+-------+-------------+-----------+--------------+-------------------+-------------------+--------------+---------------+--------+----------+--------------+------------+--------+--------+---------+-------+-----------------+------------+-------------+--------+---------+-------------------+----------------+--------------+-------------+-------------------+-------------+\n",
      "|2015|    1|  1|          4|     AS|           98|     N407AS|           ANC|                SEA|                  5|          2354|            -11|      21|        15|           205|         194|     169|    1448|      404|      4|              430|         408|          -22|       0|        0|               NULL|            NULL|          NULL|         NULL|               NULL|         NULL|\n",
      "+----+-----+---+-----------+-------+-------------+-----------+--------------+-------------------+-------------------+--------------+---------------+--------+----------+--------------+------------+--------+--------+---------+-------+-----------------+------------+-------------+--------+---------+-------------------+----------------+--------------+-------------+-------------------+-------------+\n",
      "only showing top 1 row\n",
      "\n",
      "root\n",
      " |-- year: integer (nullable = true)\n",
      " |-- month: integer (nullable = true)\n",
      " |-- day: integer (nullable = true)\n",
      " |-- day_of_week: integer (nullable = true)\n",
      " |-- airline: string (nullable = true)\n",
      " |-- flight_number: integer (nullable = true)\n",
      " |-- tail_number: string (nullable = true)\n",
      " |-- origin_airport: string (nullable = true)\n",
      " |-- destination_airport: string (nullable = true)\n",
      " |-- scheduled_departure: integer (nullable = true)\n",
      " |-- departure_time: integer (nullable = true)\n",
      " |-- departure_delay: integer (nullable = true)\n",
      " |-- taxi_out: integer (nullable = true)\n",
      " |-- wheels_off: integer (nullable = true)\n",
      " |-- scheduled_time: integer (nullable = true)\n",
      " |-- elapsed_time: integer (nullable = true)\n",
      " |-- air_time: integer (nullable = true)\n",
      " |-- distance: integer (nullable = true)\n",
      " |-- wheels_on: integer (nullable = true)\n",
      " |-- taxi_in: integer (nullable = true)\n",
      " |-- scheduled_arrival: integer (nullable = true)\n",
      " |-- arrival_time: integer (nullable = true)\n",
      " |-- arrival_delay: integer (nullable = true)\n",
      " |-- diverted: integer (nullable = true)\n",
      " |-- cancelled: integer (nullable = true)\n",
      " |-- cancellation_reason: string (nullable = true)\n",
      " |-- air_system_delay: integer (nullable = true)\n",
      " |-- security_delay: integer (nullable = true)\n",
      " |-- airline_delay: integer (nullable = true)\n",
      " |-- late_aircraft_delay: integer (nullable = true)\n",
      " |-- weather_delay: integer (nullable = true)\n",
      "\n"
     ]
    }
   ],
   "source": [
    "# TODO: Fix nullables column, cant set column as Not-Nullable for some reason...\n",
    "\n",
    "# Define schema\n",
    "flights_schema = StructType([\n",
    "    StructField(\"year\", IntegerType(), False),   # Non-Nullable\n",
    "    StructField(\"month\", IntegerType(), False),  # Non-Nullable\n",
    "    StructField(\"day\", IntegerType(), False),    # Non-Nullable\n",
    "    StructField(\"day_of_week\", IntegerType(), False),    # Non-Nullable\n",
    "    StructField(\"airline\", StringType(), False),         # Non-Nullable\n",
    "    StructField(\"flight_number\", IntegerType(), False),  # Non-Nullable\n",
    "    StructField(\"tail_number\", StringType(), True),\n",
    "    StructField(\"origin_airport\", StringType(), False),  # Non-Nullable\n",
    "    StructField(\"destination_airport\", StringType(), False),   # Non-Nullable\n",
    "    StructField(\"scheduled_departure\", IntegerType(), False),  # Non-Nullable\n",
    "    StructField(\"departure_time\", IntegerType(), True),\n",
    "    StructField(\"departure_delay\", IntegerType(), True),\n",
    "    StructField(\"taxi_out\", IntegerType(), True),\n",
    "    StructField(\"wheels_off\", IntegerType(), True),\n",
    "    StructField(\"scheduled_time\", IntegerType(), True),\n",
    "    StructField(\"elapsed_time\", IntegerType(), True),\n",
    "    StructField(\"air_time\", IntegerType(), True),\n",
    "    StructField(\"distance\", IntegerType(), False),  # Non-Nullable\n",
    "    StructField(\"wheels_on\", IntegerType(), True),\n",
    "    StructField(\"taxi_in\", IntegerType(), True),\n",
    "    StructField(\"scheduled_arrival\", IntegerType(), False),  # Non-Nullable\n",
    "    StructField(\"arrival_time\", IntegerType(), True),\n",
    "    StructField(\"arrival_delay\", IntegerType(), True),\n",
    "    StructField(\"diverted\", IntegerType(), False),   # Non-Nullable\n",
    "    StructField(\"cancelled\", IntegerType(), False),  # Non-Nullable\n",
    "    StructField(\"cancellation_reason\", StringType(), True),\n",
    "    StructField(\"air_system_delay\", IntegerType(), True),\n",
    "    StructField(\"security_delay\", IntegerType(), True),\n",
    "    StructField(\"airline_delay\", IntegerType(), True),\n",
    "    StructField(\"late_aircraft_delay\", IntegerType(), True),\n",
    "    StructField(\"weather_delay\", IntegerType(), True)\n",
    "])\n",
    "\n",
    "# Read flights.csv\n",
    "flights = spark.read.schema(flights_schema).csv(\n",
    "    '/home/iceberg/data/flights.csv',\n",
    "    schema=flights_schema,\n",
    "    enforceSchema=True,\n",
    "    header = True\n",
    ")\n",
    "\n",
    "flights.show(1)\n",
    "flights.printSchema()"
   ]
  },
  {
   "cell_type": "markdown",
   "id": "b7bc3cef-b489-4cb4-bc1c-5e6d1fa4db45",
   "metadata": {},
   "source": [
    "# Explore data!"
   ]
  },
  {
   "cell_type": "markdown",
   "id": "5d902567-e843-4fe7-b5be-15100a83edbc",
   "metadata": {},
   "source": [
    "## Total number of flight records: 5,819,079"
   ]
  },
  {
   "cell_type": "code",
   "execution_count": 32,
   "id": "fb5668f3-765c-4654-9822-d5a17dec710b",
   "metadata": {},
   "outputs": [
    {
     "name": "stderr",
     "output_type": "stream",
     "text": [
      "                                                                                \r"
     ]
    },
    {
     "data": {
      "text/plain": [
       "5819079"
      ]
     },
     "execution_count": 32,
     "metadata": {},
     "output_type": "execute_result"
    }
   ],
   "source": [
    "flights.count()"
   ]
  },
  {
   "cell_type": "markdown",
   "id": "8e3bf176-639d-4dea-b2b4-597871ccf425",
   "metadata": {},
   "source": [
    "## Total number of cancelled flights: 89,884, Total number of diverted flights: 15,187\n",
    "These will cause nulls in other columns."
   ]
  },
  {
   "cell_type": "code",
   "execution_count": 37,
   "id": "75c96e32-b2bf-4b24-b5bb-5ba1d12de13f",
   "metadata": {},
   "outputs": [
    {
     "name": "stderr",
     "output_type": "stream",
     "text": [
      "                                                                                \r"
     ]
    },
    {
     "data": {
      "text/plain": [
       "89884"
      ]
     },
     "execution_count": 37,
     "metadata": {},
     "output_type": "execute_result"
    }
   ],
   "source": [
    "flights.where('cancelled = 1').count()"
   ]
  },
  {
   "cell_type": "code",
   "execution_count": 35,
   "id": "99d74e67-ea24-4ced-be0c-9c17ca8d74c5",
   "metadata": {},
   "outputs": [
    {
     "name": "stderr",
     "output_type": "stream",
     "text": [
      "                                                                                \r"
     ]
    },
    {
     "data": {
      "text/plain": [
       "15187"
      ]
     },
     "execution_count": 35,
     "metadata": {},
     "output_type": "execute_result"
    }
   ],
   "source": [
    "flights.where('diverted = 1').count()"
   ]
  },
  {
   "cell_type": "markdown",
   "id": "8f1d5732-6a9c-496a-9606-b0dde53c780d",
   "metadata": {},
   "source": [
    "## Get Null counts for each column"
   ]
  },
  {
   "cell_type": "code",
   "execution_count": 31,
   "id": "ef3ab334-ea6c-46be-af31-fcd84a01fc1b",
   "metadata": {},
   "outputs": [
    {
     "name": "stderr",
     "output_type": "stream",
     "text": [
      "[Stage 23:===================================================>    (11 + 1) / 12]\r"
     ]
    },
    {
     "name": "stdout",
     "output_type": "stream",
     "text": [
      "+----+-----+---+-----------+-------+-------------+-----------+--------------+-------------------+-------------------+--------------+---------------+--------+----------+--------------+------------+--------+--------+---------+-------+-----------------+------------+-------------+--------+---------+-------------------+----------------+--------------+-------------+-------------------+-------------+\n",
      "|YEAR|MONTH|DAY|DAY_OF_WEEK|AIRLINE|FLIGHT_NUMBER|TAIL_NUMBER|ORIGIN_AIRPORT|DESTINATION_AIRPORT|SCHEDULED_DEPARTURE|DEPARTURE_TIME|DEPARTURE_DELAY|TAXI_OUT|WHEELS_OFF|SCHEDULED_TIME|ELAPSED_TIME|AIR_TIME|DISTANCE|WHEELS_ON|TAXI_IN|SCHEDULED_ARRIVAL|ARRIVAL_TIME|ARRIVAL_DELAY|DIVERTED|CANCELLED|CANCELLATION_REASON|AIR_SYSTEM_DELAY|SECURITY_DELAY|AIRLINE_DELAY|LATE_AIRCRAFT_DELAY|WEATHER_DELAY|\n",
      "+----+-----+---+-----------+-------+-------------+-----------+--------------+-------------------+-------------------+--------------+---------------+--------+----------+--------------+------------+--------+--------+---------+-------+-----------------+------------+-------------+--------+---------+-------------------+----------------+--------------+-------------+-------------------+-------------+\n",
      "|   0|    0|  0|          0|      0|            0|      14721|             0|                  0|                  0|         86153|          86153|   89047|     89047|             6|      105071|  105071|       0|    92513|  92513|                0|       92513|       105071|       0|        0|            5729195|         4755640|       4755640|      4755640|            4755640|      4755640|\n",
      "+----+-----+---+-----------+-------+-------------+-----------+--------------+-------------------+-------------------+--------------+---------------+--------+----------+--------------+------------+--------+--------+---------+-------+-----------------+------------+-------------+--------+---------+-------------------+----------------+--------------+-------------+-------------------+-------------+\n",
      "\n"
     ]
    },
    {
     "name": "stderr",
     "output_type": "stream",
     "text": [
      "                                                                                \r"
     ]
    }
   ],
   "source": [
    "flights.select([count(when(isnull(c), c)).alias(c) for c in data.columns]).show()"
   ]
  },
  {
   "cell_type": "markdown",
   "id": "a8014353-b53a-4f7e-a5ab-8675e7f81e03",
   "metadata": {},
   "source": [
    "## Investigate some causes for nulls in each column"
   ]
  },
  {
   "cell_type": "code",
   "execution_count": 48,
   "id": "b87e3897-9119-4f45-8be4-85624eade7c0",
   "metadata": {},
   "outputs": [
    {
     "name": "stderr",
     "output_type": "stream",
     "text": [
      "                                                                                \r"
     ]
    },
    {
     "name": "stdout",
     "output_type": "stream",
     "text": [
      "Investigating nulls in column: tail_number\n"
     ]
    },
    {
     "name": "stderr",
     "output_type": "stream",
     "text": [
      "                                                                                \r"
     ]
    },
    {
     "name": "stdout",
     "output_type": "stream",
     "text": [
      "Nulls in tail_number where flight is cancelled: 14721\n",
      "\n",
      "Investigating nulls in column: departure_time\n"
     ]
    },
    {
     "name": "stderr",
     "output_type": "stream",
     "text": [
      "                                                                                \r"
     ]
    },
    {
     "name": "stdout",
     "output_type": "stream",
     "text": [
      "Nulls in departure_time where flight is cancelled: 86153\n",
      "\n",
      "Investigating nulls in column: departure_delay\n"
     ]
    },
    {
     "name": "stderr",
     "output_type": "stream",
     "text": [
      "                                                                                \r"
     ]
    },
    {
     "name": "stdout",
     "output_type": "stream",
     "text": [
      "Nulls in departure_delay where flight is cancelled: 86153\n",
      "\n",
      "Investigating nulls in column: taxi_out\n"
     ]
    },
    {
     "name": "stderr",
     "output_type": "stream",
     "text": [
      "                                                                                \r"
     ]
    },
    {
     "name": "stdout",
     "output_type": "stream",
     "text": [
      "Nulls in taxi_out where flight is cancelled: 89047\n",
      "\n",
      "Investigating nulls in column: wheels_off\n"
     ]
    },
    {
     "name": "stderr",
     "output_type": "stream",
     "text": [
      "                                                                                \r"
     ]
    },
    {
     "name": "stdout",
     "output_type": "stream",
     "text": [
      "Nulls in wheels_off where flight is cancelled: 89047\n",
      "\n",
      "Investigating nulls in column: scheduled_time\n"
     ]
    },
    {
     "name": "stderr",
     "output_type": "stream",
     "text": [
      "                                                                                \r"
     ]
    },
    {
     "name": "stdout",
     "output_type": "stream",
     "text": [
      "Nulls in scheduled_time where flight is cancelled: 5\n",
      "\n",
      "Investigating nulls in column: elapsed_time\n"
     ]
    },
    {
     "name": "stderr",
     "output_type": "stream",
     "text": [
      "                                                                                \r"
     ]
    },
    {
     "name": "stdout",
     "output_type": "stream",
     "text": [
      "Nulls in elapsed_time where flight is cancelled: 89884\n",
      "\n",
      "Investigating nulls in column: air_time\n"
     ]
    },
    {
     "name": "stderr",
     "output_type": "stream",
     "text": [
      "                                                                                \r"
     ]
    },
    {
     "name": "stdout",
     "output_type": "stream",
     "text": [
      "Nulls in air_time where flight is cancelled: 89884\n",
      "\n",
      "Investigating nulls in column: wheels_on\n"
     ]
    },
    {
     "name": "stderr",
     "output_type": "stream",
     "text": [
      "                                                                                \r"
     ]
    },
    {
     "name": "stdout",
     "output_type": "stream",
     "text": [
      "Nulls in wheels_on where flight is cancelled: 89884\n",
      "\n",
      "Investigating nulls in column: taxi_in\n"
     ]
    },
    {
     "name": "stderr",
     "output_type": "stream",
     "text": [
      "                                                                                \r"
     ]
    },
    {
     "name": "stdout",
     "output_type": "stream",
     "text": [
      "Nulls in taxi_in where flight is cancelled: 89884\n",
      "\n",
      "Investigating nulls in column: arrival_time\n"
     ]
    },
    {
     "name": "stderr",
     "output_type": "stream",
     "text": [
      "                                                                                \r"
     ]
    },
    {
     "name": "stdout",
     "output_type": "stream",
     "text": [
      "Nulls in arrival_time where flight is cancelled: 89884\n",
      "\n",
      "Investigating nulls in column: arrival_delay\n"
     ]
    },
    {
     "name": "stderr",
     "output_type": "stream",
     "text": [
      "                                                                                \r"
     ]
    },
    {
     "name": "stdout",
     "output_type": "stream",
     "text": [
      "Nulls in arrival_delay where flight is cancelled: 89884\n",
      "\n",
      "Investigating nulls in column: cancellation_reason\n"
     ]
    },
    {
     "name": "stderr",
     "output_type": "stream",
     "text": [
      "                                                                                \r"
     ]
    },
    {
     "name": "stdout",
     "output_type": "stream",
     "text": [
      "Nulls in cancellation_reason where flight is cancelled: 0\n",
      "\n",
      "Investigating nulls in column: air_system_delay\n"
     ]
    },
    {
     "name": "stderr",
     "output_type": "stream",
     "text": [
      "                                                                                \r"
     ]
    },
    {
     "name": "stdout",
     "output_type": "stream",
     "text": [
      "Nulls in air_system_delay where flight is cancelled: 89884\n",
      "\n",
      "Investigating nulls in column: security_delay\n"
     ]
    },
    {
     "name": "stderr",
     "output_type": "stream",
     "text": [
      "                                                                                \r"
     ]
    },
    {
     "name": "stdout",
     "output_type": "stream",
     "text": [
      "Nulls in security_delay where flight is cancelled: 89884\n",
      "\n",
      "Investigating nulls in column: airline_delay\n"
     ]
    },
    {
     "name": "stderr",
     "output_type": "stream",
     "text": [
      "                                                                                \r"
     ]
    },
    {
     "name": "stdout",
     "output_type": "stream",
     "text": [
      "Nulls in airline_delay where flight is cancelled: 89884\n",
      "\n",
      "Investigating nulls in column: late_aircraft_delay\n"
     ]
    },
    {
     "name": "stderr",
     "output_type": "stream",
     "text": [
      "                                                                                \r"
     ]
    },
    {
     "name": "stdout",
     "output_type": "stream",
     "text": [
      "Nulls in late_aircraft_delay where flight is cancelled: 89884\n",
      "\n",
      "Investigating nulls in column: weather_delay\n"
     ]
    },
    {
     "name": "stderr",
     "output_type": "stream",
     "text": [
      "[Stage 290:>                                                      (0 + 12) / 12]\r"
     ]
    },
    {
     "name": "stdout",
     "output_type": "stream",
     "text": [
      "Nulls in weather_delay where flight is cancelled: 89884\n",
      "\n"
     ]
    },
    {
     "name": "stderr",
     "output_type": "stream",
     "text": [
      "                                                                                \r"
     ]
    }
   ],
   "source": [
    "# List of columns with null values\n",
    "null_columns = [col for col in flights.columns if flights.filter(f\"{col} IS NULL\").count() > 0]\n",
    "\n",
    "# Iterate through columns to investigate null causes\n",
    "for col in null_columns:\n",
    "    print(f\"Investigating nulls in column: {col}\")\n",
    "    # Count rows where column is null and cancelled == 1\n",
    "    count = flights.where(f\"`{col}` IS NULL AND cancelled = 1\").count()\n",
    "    print(f\"Nulls in {col} where flight is cancelled: {count}\\n\")"
   ]
  },
  {
   "cell_type": "markdown",
   "id": "f8c80b6b-5957-4731-9061-9471dd324da2",
   "metadata": {},
   "source": [
    "#### Tail_number - all Nulls are from cancelled flights\n",
    "Although, not all cancelled flights have Nulls in tail_number. This might be explained by flights that are cancelled well in advance.\n",
    "**TODO: Check cancellation reasons**"
   ]
  },
  {
   "cell_type": "code",
   "execution_count": 40,
   "id": "c35cdc4e-9c07-432e-a947-fe25c75495c1",
   "metadata": {},
   "outputs": [
    {
     "name": "stderr",
     "output_type": "stream",
     "text": [
      "                                                                                \r"
     ]
    },
    {
     "data": {
      "text/plain": [
       "14721"
      ]
     },
     "execution_count": 40,
     "metadata": {},
     "output_type": "execute_result"
    }
   ],
   "source": [
    "flights.where('tail_number IS NULL AND cancelled = 1').count()"
   ]
  },
  {
   "cell_type": "code",
   "execution_count": 44,
   "id": "71310741-4e86-47a8-aafb-95b32d455635",
   "metadata": {},
   "outputs": [
    {
     "name": "stderr",
     "output_type": "stream",
     "text": [
      "                                                                                \r"
     ]
    },
    {
     "data": {
      "text/plain": [
       "86153"
      ]
     },
     "execution_count": 44,
     "metadata": {},
     "output_type": "execute_result"
    }
   ],
   "source": [
    "flights.where('departure_time IS NULL and cancelled = 1').count()"
   ]
  },
  {
   "cell_type": "markdown",
   "id": "cefb1101-31ba-431f-89b5-869a41173bcf",
   "metadata": {},
   "source": [
    "#### Scheduled_time - 6 Nulls, 5 out of 6 flight were cancelled, 1 flight was diverted\n",
    "Scheduled_time is the estimated time in air?"
   ]
  },
  {
   "cell_type": "code",
   "execution_count": 28,
   "id": "c10d648c-c080-4c14-b78e-2c4ef8b7f56a",
   "metadata": {},
   "outputs": [
    {
     "name": "stderr",
     "output_type": "stream",
     "text": [
      "[Stage 19:>                                                         (0 + 7) / 7]\r"
     ]
    },
    {
     "name": "stdout",
     "output_type": "stream",
     "text": [
      "+----+-----+---+-----------+-------+-------------+-----------+--------------+-------------------+-------------------+--------------+---------------+--------+----------+--------------+------------+--------+--------+---------+-------+-----------------+------------+-------------+--------+---------+-------------------+----------------+--------------+-------------+-------------------+-------------+\n",
      "|year|month|day|day_of_week|airline|flight_number|tail_number|origin_airport|destination_airport|scheduled_departure|departure_time|departure_delay|taxi_out|wheels_off|scheduled_time|elapsed_time|air_time|distance|wheels_on|taxi_in|scheduled_arrival|arrival_time|arrival_delay|diverted|cancelled|cancellation_reason|air_system_delay|security_delay|airline_delay|late_aircraft_delay|weather_delay|\n",
      "+----+-----+---+-----------+-------+-------------+-----------+--------------+-------------------+-------------------+--------------+---------------+--------+----------+--------------+------------+--------+--------+---------+-------+-----------------+------------+-------------+--------+---------+-------------------+----------------+--------------+-------------+-------------------+-------------+\n",
      "|2015|    2|  1|          7|     NK|          416|     N627NK|           FLL|                IAG|               2215|          2206|             -9|      21|      2227|          NULL|        NULL|    NULL|    1176|     NULL|   NULL|              107|        NULL|         NULL|       0|        1|                  B|            NULL|          NULL|         NULL|               NULL|         NULL|\n",
      "|2015|    2| 10|          2|     NK|          416|     N632NK|           FLL|                IAG|               2215|          2206|             -9|      16|      2222|          NULL|        NULL|    NULL|    1176|     NULL|   NULL|              107|        NULL|         NULL|       0|        1|                  B|            NULL|          NULL|         NULL|               NULL|         NULL|\n",
      "|2015|    4| 20|          1|     NK|          174|     N630NK|           FLL|                LGA|               1602|          1857|            175|      24|      1921|          NULL|        NULL|    NULL|    1076|     NULL|   NULL|             1900|        NULL|         NULL|       1|        0|               NULL|            NULL|          NULL|         NULL|               NULL|         NULL|\n",
      "|2015|    4| 26|          7|     NK|          720|     N614NK|           DEN|                DFW|               2059|          2057|             -2|      13|      2110|          NULL|        NULL|    NULL|     641|     NULL|   NULL|             2350|        NULL|         NULL|       0|        1|                  B|            NULL|          NULL|         NULL|               NULL|         NULL|\n",
      "|2015|    5|  9|          6|     NK|          324|     N620NK|           MCO|                ACY|               2130|          2152|             22|      18|      2210|          NULL|        NULL|    NULL|     852|     NULL|   NULL|             2340|        NULL|         NULL|       0|        1|                  B|            NULL|          NULL|         NULL|               NULL|         NULL|\n",
      "|2015|    5| 10|          7|     NK|          368|     N534NK|           ORD|                BWI|                825|          1214|            229|      18|      1232|          NULL|        NULL|    NULL|     622|     NULL|   NULL|             1118|        NULL|         NULL|       0|        1|                  C|            NULL|          NULL|         NULL|               NULL|         NULL|\n",
      "+----+-----+---+-----------+-------+-------------+-----------+--------------+-------------------+-------------------+--------------+---------------+--------+----------+--------------+------------+--------+--------+---------+-------+-----------------+------------+-------------+--------+---------+-------------------+----------------+--------------+-------------+-------------------+-------------+\n",
      "\n"
     ]
    },
    {
     "name": "stderr",
     "output_type": "stream",
     "text": [
      "                                                                                \r"
     ]
    }
   ],
   "source": [
    "flights.where('scheduled_time IS NULL').show()"
   ]
  },
  {
   "cell_type": "code",
   "execution_count": null,
   "id": "92572eca-3533-4353-a5be-64f812a5e9f7",
   "metadata": {},
   "outputs": [],
   "source": []
  }
 ],
 "metadata": {
  "kernelspec": {
   "display_name": "Python 3 (ipykernel)",
   "language": "python",
   "name": "python3"
  },
  "language_info": {
   "codemirror_mode": {
    "name": "ipython",
    "version": 3
   },
   "file_extension": ".py",
   "mimetype": "text/x-python",
   "name": "python",
   "nbconvert_exporter": "python",
   "pygments_lexer": "ipython3",
   "version": "3.9.18"
  }
 },
 "nbformat": 4,
 "nbformat_minor": 5
}
